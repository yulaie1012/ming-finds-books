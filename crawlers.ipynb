{
 "cells": [
  {
   "cell_type": "markdown",
   "id": "ef2f09f6",
   "metadata": {
    "heading_collapsed": true
   },
   "source": [
    "# 環境設置"
   ]
  },
  {
   "cell_type": "markdown",
   "id": "aa2d8c90",
   "metadata": {
    "hidden": true
   },
   "source": [
    "## 載入套件\n",
    "- selenium、pandas、requests、bs4、time"
   ]
  },
  {
   "cell_type": "code",
   "execution_count": 11,
   "id": "9a1ffc24",
   "metadata": {
    "code_folding": [],
    "hidden": true
   },
   "outputs": [],
   "source": [
    "from selenium import webdriver\n",
    "from selenium.webdriver.chrome.options import Options  # 設定 driver 的行為\n",
    "from selenium.webdriver.support.ui import Select  # 選擇＂下拉式選單＂\n",
    "from selenium.webdriver.common.keys import Keys  # 鍵盤操作\n",
    "from selenium.common.exceptions import NoSuchElementException, TimeoutException  # 載入常見錯誤\n",
    "from selenium.webdriver.common.desired_capabilities import DesiredCapabilities  # 更改載入策略\n",
    "from selenium.webdriver.support.ui import WebDriverWait  # 等待機制\n",
    "from selenium.webdriver.support import expected_conditions as EC  # 預期事件\n",
    "from selenium.webdriver.common.by import By  # 找尋元素的方法\n",
    "import pandas as pd  # 載入 pandas\n",
    "import pandas.io.formats.excel  # 輸出自定義格式 Excel\n",
    "import requests\n",
    "from bs4 import BeautifulSoup\n",
    "import time  # 強制等待"
   ]
  },
  {
   "cell_type": "markdown",
   "id": "72162171",
   "metadata": {
    "hidden": true
   },
   "source": [
    "## 設定 driver 的參數：options、desired_capabilities"
   ]
  },
  {
   "cell_type": "code",
   "execution_count": 12,
   "id": "f496877e",
   "metadata": {
    "hidden": true
   },
   "outputs": [],
   "source": [
    "if __name__ == '__main__':\n",
    "    my_options = Options()\n",
    "    my_options.add_argument('--incognito')  # 開啟無痕模式\n",
    "    # my_options.add_argument('--start-maximized')  # 視窗最大化\n",
    "    # my_options.add_argument('--headless')  # 不開啟實體瀏覽器\n",
    "    my_capabilities = DesiredCapabilities.CHROME\n",
    "    my_capabilities['pageLoadStrategy'] = 'eager'  # 頁面加載策略：HTML 解析成 DOM"
   ]
  },
  {
   "cell_type": "markdown",
   "id": "df71dabf",
   "metadata": {
    "heading_collapsed": true
   },
   "source": [
    "# 自定義函式"
   ]
  },
  {
   "cell_type": "markdown",
   "id": "e1954306",
   "metadata": {
    "heading_collapsed": true,
    "hidden": true
   },
   "source": [
    "## organize_columns(df1)\n",
    "- 處理欄位：圖書館、館藏地（c2）、索書號（c3）、館藏狀態（c4）、連結\n",
    "- 如果 df1 是裝著 DataFrame 的 list，則就合併它們；否則（df1 是 DataFrame），就接著執行以下敘述。\n",
    "- 丟掉垃圾欄位，整理成要呈現的表格\n",
    "- 新增必要欄位（圖書館、連結）\n",
    "- 填滿 NaN（用 ffill 的 方式）"
   ]
  },
  {
   "cell_type": "code",
   "execution_count": 13,
   "id": "80b9038a",
   "metadata": {
    "hidden": true
   },
   "outputs": [],
   "source": [
    "def organize_columns(df1):\n",
    "    # 合併全部的 DataFrame\n",
    "    try:\n",
    "        df1 = pd.concat(df1, axis=0, ignore_index=True)\n",
    "    except:\n",
    "        df1.reset_index(drop=True, inplace=True)\n",
    "\n",
    "    # 處理 column 2：館藏地\n",
    "    c2 = [\n",
    "        '分館/專室', '館藏地/室', '館藏室', '館藏地/館藏室', '館藏地', '典藏館', '館藏位置', '館藏地/區域',\n",
    "        '典藏地名稱', '館藏地/館別', '館藏地(已外借/總數)', '館藏地/區域Location'\n",
    "    ]\n",
    "    df1['c2'] = ''\n",
    "    for c in c2:\n",
    "        try:\n",
    "            df1['c2'] += df1[c]\n",
    "        except:\n",
    "            pass\n",
    "\n",
    "    # 處理 column 3：索書號\n",
    "    c3 = ['索書號', '索書號/期刊合訂本卷期', '索書號 / 部冊號', '索書號Call No.']\n",
    "    df1['c3'] = ''\n",
    "    for c in c3:\n",
    "        try:\n",
    "            df1['c3'] += df1[c]\n",
    "        except:\n",
    "            pass\n",
    "\n",
    "    # 處理 column 4：館藏狀態\n",
    "    c4 = [\n",
    "        '館藏位置(到期日期僅為期限，不代表上架日期)', '狀態/到期日', '目前狀態 / 到期日', '館藏狀態', '處理狀態',\n",
    "        '狀態 (說明)', '館藏現況 說明', '目前狀態/預計歸還日期', '圖書狀況 / 到期日', '調閱說明', '借閱狀態',\n",
    "        '狀態', '館藏狀態(月-日-西元年)', '圖書狀況', '現況/異動日', 'Unnamed: 24', '圖書狀況Book Status'\n",
    "    ]\n",
    "    df1['c4'] = ''\n",
    "    for c in c4:\n",
    "        try:\n",
    "            df1['c4'] += df1[c]\n",
    "        except:\n",
    "            pass\n",
    "\n",
    "    # 直接生成另一個 DataFrame\n",
    "    df2 = pd.DataFrame()\n",
    "    df2['圖書館'] = df1['圖書館']\n",
    "    df2['館藏地'] = df1['c2']\n",
    "    df2['索書號'] = df1['c3']\n",
    "    df2['館藏狀態'] = df1['c4']\n",
    "    df2['連結'] = df1['連結']\n",
    "\n",
    "    # 遇到值為 NaN時，將前一列的值填補進來\n",
    "    df2.fillna(method=\"ffill\", axis=0, inplace=True)\n",
    "\n",
    "    return df2"
   ]
  },
  {
   "cell_type": "markdown",
   "id": "9df22a4a",
   "metadata": {
    "heading_collapsed": true,
    "hidden": true
   },
   "source": [
    "## set_excel(df, directory) 暫停\n",
    "- 待"
   ]
  },
  {
   "cell_type": "code",
   "execution_count": 14,
   "id": "5d928aa0",
   "metadata": {
    "code_folding": [],
    "hidden": true
   },
   "outputs": [],
   "source": [
    "def set_excel(df, directory):\n",
    "    # B｢圖書館｣、C「館藏地」、D「索書號」、E「館藏狀態」、F「連結」\n",
    "    pandas.io.formats.excel.header_style = None  # 標題格式清除\n",
    "    writer = pd.ExcelWriter(directory)\n",
    "    df.to_excel(writer, sheet_name=\"搜尋結果\")\n",
    "\n",
    "    workbook1 = writer.book\n",
    "    worksheets = writer.sheets\n",
    "    worksheet1 = worksheets[\"搜尋結果\"]\n",
    "\n",
    "    # 測試\n",
    "    cell_format = workbook1.add_format({\n",
    "        \"font_name\": \"微軟正黑體\",\n",
    "        \"font_size\": 16,\n",
    "        \"align\": \"left\",\n",
    "        #         \"border\": 80,\n",
    "    })\n",
    "    worksheet1.set_column(\"B:F\", 40, cell_format)\n",
    "\n",
    "    # 設定單元格的寬度\n",
    "    #     worksheet1.set_column(\"B:F\", 35)\n",
    "\n",
    "    writer.save()\n",
    "    print(\"爬取完成\")"
   ]
  },
  {
   "cell_type": "markdown",
   "id": "3143ab24",
   "metadata": {
    "hidden": true
   },
   "source": [
    "## wait_for_element_present(driver, element_position, waiting_time=5, by=By.CSS_SELECTOR)\n",
    "- 用法：\n",
    "    - 等待 element 出現，每間隔 0.5 秒定位一次，直到 5 秒。如果定位 element 成功，回傳 element；否則，回傳 None。\n",
    "- 參數：\n",
    "    - driver\n",
    "    - element_position：元素位置，預設 CSS selector\n",
    "    - waiting_time：等待時間，預設 5 秒\n",
    "    - by：定位方式，預設 By.CSS_SELECTOR"
   ]
  },
  {
   "cell_type": "code",
   "execution_count": 15,
   "id": "6c393779",
   "metadata": {
    "hidden": true
   },
   "outputs": [],
   "source": [
    "def wait_for_element_present(driver, element_position, waiting_time=5, by=By.CSS_SELECTOR):\n",
    "    try:\n",
    "        element = WebDriverWait(driver, waiting_time).until(\n",
    "            EC.presence_of_element_located((by, element_position)))\n",
    "    except:\n",
    "        return\n",
    "    else:\n",
    "        return element"
   ]
  },
  {
   "cell_type": "markdown",
   "id": "fd08e98f",
   "metadata": {
    "hidden": true
   },
   "source": [
    "## wait_for_element_clickable(driver, element_position, waiting_time=5, by=By.PARTIAL_LINK_TEXT)\n",
    "- 同上"
   ]
  },
  {
   "cell_type": "code",
   "execution_count": 16,
   "id": "ae7bc494",
   "metadata": {
    "hidden": true
   },
   "outputs": [],
   "source": [
    "def wait_for_element_clickable(driver, element_position, waiting_time=5, by=By.LINK_TEXT):\n",
    "    try:\n",
    "        element = WebDriverWait(driver, waiting_time).until(\n",
    "            EC.element_to_be_clickable((by, element_position)))\n",
    "    except:\n",
    "        return\n",
    "    else:\n",
    "        return element"
   ]
  },
  {
   "cell_type": "markdown",
   "id": "d7b12b7f",
   "metadata": {
    "hidden": true
   },
   "source": [
    "## wait_for_url_changed(driver, old_url, waiting_time=10)\n",
    "- 用法：\n",
    "    - 等待網址改變（輸入的網址和現在的網址進行比較），每間隔 0.5 秒檢查一次，直到 10 秒。如果網址有改變，回傳 True；否則，回傳 None。\n",
    "- 參數：\n",
    "    - driver\n",
    "    - old_url：舊網址\n",
    "    - waiting_time：等待時間，預設 10 秒"
   ]
  },
  {
   "cell_type": "code",
   "execution_count": 17,
   "id": "5bb53e5e",
   "metadata": {
    "hidden": true
   },
   "outputs": [],
   "source": [
    "def wait_for_url_changed(driver, old_url, waiting_time=10):\n",
    "    try:\n",
    "        WebDriverWait(driver, waiting_time).until(EC.url_changes(old_url))\n",
    "    except:\n",
    "        return\n",
    "    else:\n",
    "        return True"
   ]
  },
  {
   "cell_type": "markdown",
   "id": "dd24b236",
   "metadata": {
    "hidden": true
   },
   "source": [
    "## accurately_find_table_and_read_it(driver, table_position, table_index=0)\n",
    "- 用法：\n",
    "    - 精準定位 table 並讀取成 pd.DataFrame。如果定位 table 成功，回傳 table；否則，回傳 None。\n",
    "    - 為 table 增加＂圖書館＂和＂連結＂的欄位。\n",
    "- 參數：\n",
    "    - table_position：table 位置，預設 CSS selector"
   ]
  },
  {
   "cell_type": "code",
   "execution_count": 18,
   "id": "dd1e019a",
   "metadata": {
    "hidden": true
   },
   "outputs": [],
   "source": [
    "def accurately_find_table_and_read_it(driver, table_position, table_index=0):\n",
    "    try:\n",
    "        # if not wait_for_element_present(driver, table_position):\n",
    "        #     print(f'找不到 {table_position}！')\n",
    "        #     return\n",
    "        soup = BeautifulSoup(driver.page_source, 'html.parser')\n",
    "        table_innerHTML = soup.select(table_position)[table_index]\n",
    "        tgt = pd.read_html(str(table_innerHTML), encoding='utf-8')[0]\n",
    "        # tgt['圖書館'], tgt['連結'] = org, driver.current_url\n",
    "    except:\n",
    "        return\n",
    "    else:\n",
    "        return tgt"
   ]
  },
  {
   "cell_type": "markdown",
   "id": "a1ebf74a",
   "metadata": {
    "hidden": true
   },
   "source": [
    "## select_ISBN_strategy(driver, select_position, option_position, waiting_time=30)\n",
    "- 用法：\n",
    "    - 等待 select 出現，並選擇以 ISBN 方式搜尋\n",
    "- 參數：\n",
    "    - driver\n",
    "    - select_position：select 位置，預設 name\n",
    "    - option_position：option 位置，預設 value\n",
    "    - waiting_time：等待時間，預設 30 秒"
   ]
  },
  {
   "cell_type": "code",
   "execution_count": 19,
   "id": "d01fb320",
   "metadata": {
    "hidden": true
   },
   "outputs": [],
   "source": [
    "def select_ISBN_strategy(driver, select_position, option_position, waiting_time=30):\n",
    "    time.sleep(0.5)\n",
    "    search_field = WebDriverWait(driver, waiting_time).until(EC.presence_of_element_located((By.NAME, select_position)))\n",
    "    select = Select(search_field)\n",
    "    select.select_by_value(option_position)"
   ]
  },
  {
   "cell_type": "markdown",
   "id": "1683962b",
   "metadata": {
    "hidden": true
   },
   "source": [
    "## search_ISBN(driver, ISBN, input_position, waiting_time=10)\n",
    "- 用法：\n",
    "    - 等待 input 出現，輸入 ISBN 並按下 ENTER\n",
    "- 參數：\n",
    "    - ISBN：ISBN\n",
    "    - input_position：input 位置，預設 name\n",
    "    - waiting_time：等待時間，預設 10 秒"
   ]
  },
  {
   "cell_type": "code",
   "execution_count": 20,
   "id": "9d1dcb0e",
   "metadata": {
    "hidden": true
   },
   "outputs": [],
   "source": [
    "def search_ISBN(driver, ISBN, input_position, waiting_time=10):\n",
    "    time.sleep(0.5)\n",
    "    search_input = WebDriverWait(driver, waiting_time).until(EC.presence_of_element_located((By.NAME, input_position)))\n",
    "    search_input.send_keys(ISBN)\n",
    "    search_input.send_keys(Keys.ENTER)"
   ]
  },
  {
   "cell_type": "markdown",
   "id": "be9bd5e3",
   "metadata": {},
   "source": [
    "# 爬蟲程式"
   ]
  },
  {
   "cell_type": "markdown",
   "id": "74a976c7",
   "metadata": {
    "heading_collapsed": true
   },
   "source": [
    "## <mark>完成</mark>webpac_gov_crawler(driver, org, org_url, ISBN)\n",
    "- 『最後編輯』：2021/08/02\n",
    "- 『函式完成度』：極高"
   ]
  },
  {
   "cell_type": "markdown",
   "id": "2f196f22",
   "metadata": {
    "hidden": true
   },
   "source": [
    "### 函式說明\n",
    "\n",
    "- 『運作的原理』：\n",
    "- 『適用的機構』：[宜蘭縣公共圖書館](https://webpac.ilccb.gov.tw/)、[桃園市立圖書館](https://webpac.typl.gov.tw/)、[高雄市立圖書館](https://webpacx.ksml.edu.tw/)、[屏東縣公共圖書館](https://library.pthg.gov.tw/)、[花蓮縣公共圖書館](https://center.hccc.gov.tw/)、[澎湖縣圖書館](https://webpac.phlib.nat.gov.tw/)、[國立雲林科技大學](https://www.libwebpac.yuntech.edu.tw/)、[國家電影及視聽文化中心](https://lib.tfi.org.tw/)\n",
    "- 『能處理狀況』：判斷搜尋結果有沒有超過一筆、只有一筆搜尋結果有沒有跳轉、[多筆](https://webpac.typl.gov.tw/search?searchField=ISBN&searchInput=986729193X)、找不到書、[不斷的點擊＂載入更多＂](https://webpac.ilccb.gov.tw/bookDetail/419482?qs=%7B%5Eurl3%2C%2Fsearch4%2Cquery%5E%3A%7B%5Ephonetic3%2C04%2CqueryType3%2C04%2C%2Cs23%2CISBN4%2C%2Cs13%2C9789573317241%5E%7D%7D)\n",
    "- 『下一步優化』："
   ]
  },
  {
   "cell_type": "markdown",
   "id": "60492175",
   "metadata": {
    "hidden": true
   },
   "source": [
    "### 函式本體"
   ]
  },
  {
   "cell_type": "code",
   "execution_count": 13,
   "id": "7eb3bc5f",
   "metadata": {
    "hidden": true
   },
   "outputs": [],
   "source": [
    "def click_more_btn(driver):\n",
    "    try:\n",
    "        while True:\n",
    "            more_btn = wait_for_element_clickable(driver, '載入更多')\n",
    "            if not more_btn:\n",
    "                return\n",
    "            more_btn.click()\n",
    "            time.sleep(2)  # 不得已的強制等待\n",
    "    except:\n",
    "        return"
   ]
  },
  {
   "cell_type": "code",
   "execution_count": 14,
   "id": "b72663e6",
   "metadata": {
    "hidden": true
   },
   "outputs": [],
   "source": [
    "def webpac_gov_crawler(driver, org, org_url, ISBN):\n",
    "    try:\n",
    "        table = []\n",
    "\n",
    "        driver.get(org_url + 'advanceSearch')\n",
    "        select_ISBN_strategy(driver, 'searchField', 'ISBN')\n",
    "        search_ISBN(driver, ISBN, 'searchInput')\n",
    "\n",
    "        # 一筆\n",
    "        if wait_for_element_present(driver, '.bookplace_list > table', 10):\n",
    "            click_more_btn(driver)\n",
    "            tgt = accurately_find_table_and_read_it(driver, '.bookplace_list > table')\n",
    "            tgt['圖書館'], tgt['連結'] = org, driver.current_url\n",
    "            table.append(tgt)\n",
    "        # 多筆\n",
    "        elif wait_for_element_present(driver, '.data_all .data_quantity2 em', 5):\n",
    "            # 取得多個連結\n",
    "            tgt_urls = []\n",
    "            soup = BeautifulSoup(driver.page_source, 'html.parser')\n",
    "            anchors = soup.select('.bookdata > h2 > a')\n",
    "            for anchor in anchors:\n",
    "                tgt_urls.append(org_url + anchor['href'])\n",
    "            # 進入不同的連結\n",
    "            for tgt_url in tgt_urls:\n",
    "                driver.get(tgt_url)\n",
    "                if wait_for_element_present(driver, '.bookplace_list > table', 10):\n",
    "                    click_more_btn(driver)\n",
    "                    tgt = accurately_find_table_and_read_it(driver, '.bookplace_list > table')\n",
    "                    tgt['圖書館'], tgt['連結'] = org, driver.current_url\n",
    "                    table.append(tgt)\n",
    "        # 無\n",
    "        else:\n",
    "            print(f'在「{org}」找不到「{ISBN}」')\n",
    "            return\n",
    "\n",
    "        table = organize_columns(table)\n",
    "    except:\n",
    "        print(f'在「{org}」搜尋「{ISBN}」時，發生不明錯誤！')\n",
    "        return\n",
    "    else:\n",
    "        return table"
   ]
  },
  {
   "cell_type": "markdown",
   "id": "cb30b680",
   "metadata": {
    "heading_collapsed": true
   },
   "source": [
    "## <mark>完成</mark>webpac_jsp_crawler(driver, org, org_url, ISBN)\n",
    "- 『最後編輯』：2021/08/02\n",
    "- 『函式完成度』：極高"
   ]
  },
  {
   "cell_type": "markdown",
   "id": "84d6353e",
   "metadata": {
    "heading_collapsed": true,
    "hidden": true
   },
   "source": [
    "### 函式說明\n",
    "- 『運作的原理』：\n",
    "    - 使用 selenium 進行搜索。\n",
    "    - 大量使用 wait 機制，來應對加載過慢的網頁（例：[佛光大學](http://libils.fgu.edu.tw/webpacIndex.jsp)）\n",
    "    - 當搜尋結果只有一筆時，有些網站會直接進入＂詳細書目＂（例：[國立宜蘭大學](https://lib.niu.edu.tw/webpacIndex.jsp)）\n",
    "        - 還是會停留在＂搜尋結果＂頁面，但大部分會看不到，網址仍會改變，所以無法用網址判定\n",
    "    - 當搜尋結果有多筆時，會要切換到 iframe 爬取。\n",
    "    - 有些＂詳細書目＂會有沒有表格的情況（例：[中華科大](http://192.192.231.232/bookDetail.do?id=260965&nowid=3&resid=188809854)）\n",
    "- 『適用的機構』：[國立宜蘭大學](https://lib.niu.edu.tw/webpacIndex.jsp)、[佛光大學](http://libils.fgu.edu.tw/webpacIndex.jsp)、[嘉南藥理大學](https://webpac.cnu.edu.tw/webpacIndex.jsp)、……\n",
    "- 『能處理狀況』：[一筆](http://webpac.meiho.edu.tw/bookDetail.do?id=194508)、[無](http://webpac.meiho.edu.tw/bookSearchList.do?searchtype=simplesearch&search_field=ISBN&search_input=97895733172411&searchsymbol=hyLibCore.webpac.search.common_symbol&execodehidden=true&execode=&ebook=)、[多筆](http://webpac.meiho.edu.tw/bookSearchList.do?searchtype=simplesearch&execodeHidden=true&execode=&search_field=ISBN&search_input=9789573317241&searchsymbol=hyLibCore.webpac.search.common_symbol&resid=189006169&nowpage=1#searchtype=simplesearch&execodeHidden=true&execode=&search_field=ISBN&search_input=9789573317241&searchsymbol=hyLibCore.webpac.search.common_symbol&resid=189006169&nowpage=1)、[無表格](http://192.192.231.232/bookDetail.do?id=260965&nowid=3&resid=188809854)\n",
    "- 『下一步優化』：\n",
    "    - 統一 search_input.submit() 和 search_input.send_keys(Keys.ENTER)？"
   ]
  },
  {
   "cell_type": "markdown",
   "id": "c3ab96d2",
   "metadata": {
    "hidden": true
   },
   "source": [
    "### 函式本體"
   ]
  },
  {
   "cell_type": "code",
   "execution_count": null,
   "id": "e2a5536c",
   "metadata": {
    "code_folding": [],
    "hidden": true
   },
   "outputs": [],
   "source": [
    "def webpac_jsp_crawler(driver, org, org_url, ISBN):\n",
    "    try:\n",
    "        table = []\n",
    "        \n",
    "        driver.get(org_url)\n",
    "        try:\n",
    "            select_ISBN_strategy(driver, 'search_field', 'ISBN')\n",
    "        except:\n",
    "            select_ISBN_strategy(driver, 'search_field', 'STANDARDNO')  # 北科大\n",
    "        search_ISBN(driver, ISBN, 'search_input')\n",
    "        \n",
    "        # 一筆\n",
    "        if wait_for_element_present(driver, 'div.mainCon'):\n",
    "            if not wait_for_element_present(driver, 'table.order'):\n",
    "                print(f'在「{org}」找不到「{ISBN}」')\n",
    "                return\n",
    "            tgt = accurately_find_table_and_read_it(driver, 'table.order')\n",
    "            tgt['圖書館'], tgt['連結'] = org, driver.current_url\n",
    "            table.append(tgt)\n",
    "        # 多筆、零筆\n",
    "        elif wait_for_element_present(driver, 'iframe#leftFrame'):\n",
    "            iframe = driver.find_element_by_id('leftFrame')\n",
    "            driver.switch_to.frame(iframe)\n",
    "            time.sleep(1)  # 切換到 <frame> 需要時間，否則會無法讀取\n",
    "            \n",
    "            tgt_urls = []\n",
    "            soup = BeautifulSoup(driver.page_source, 'html.parser')\n",
    "            # 判斷是不是＂零筆＂\n",
    "            if soup.find('em', {'id': 'totalpage'}).text == '0':\n",
    "                print(f'在「{org}」找不到「{ISBN}」')\n",
    "                return\n",
    "            anchors = soup.select('a.bookname')\n",
    "            # anchors = soup.find_all('a', 'bookname')\n",
    "            for anchor in anchors:\n",
    "                tgt_urls.append(org_url.replace('webpacIndex.jsp', '') + anchor['href'])\n",
    "            \n",
    "            for tgt_url in tgt_urls:\n",
    "                driver.get(tgt_url)\n",
    "                # 等待元素出現，如果出現，那麼抓取 DataFrame；如果沒出現，那麼跳出迴圈\n",
    "                if not wait_for_element_present(driver, 'table.order'):\n",
    "                    continue  # 暫停＂本次＂迴圈，以下敘述不會執行\n",
    "                tgt = accurately_find_table_and_read_it(driver, 'table.order')\n",
    "                tgt['圖書館'], tgt['連結'] = org, driver.current_url\n",
    "                table.append(tgt)\n",
    "        table = organize_columns(table)\n",
    "    except:\n",
    "        print(f'在「{org}」搜尋「{ISBN}」時，發生不明錯誤！')\n",
    "        return\n",
    "    else:\n",
    "        return table"
   ]
  },
  {
   "cell_type": "markdown",
   "id": "81f14262",
   "metadata": {
    "heading_collapsed": true
   },
   "source": [
    "## <mark>完成</mark>easy_crawler(driver, org, org_url, ISBN)\n",
    "- 『最後編輯』：2021/08/02\n",
    "- 『函式完成度』：極高"
   ]
  },
  {
   "cell_type": "markdown",
   "id": "2784cfff",
   "metadata": {
    "hidden": true
   },
   "source": [
    "### 函式說明\n",
    "- 『運作的原理』：待輸入\n",
    "- 『適用的機構』：[國立臺灣師範大學](https://opac.lib.ntnu.edu.tw/search*cht/i)、[國立臺灣科技大學](https://sierra.lib.ntust.edu.tw/search*cht/i)、[國立臺灣海洋大學](https://ocean.ntou.edu.tw/search*cht/i)、[中原大學](http://cylis.lib.cycu.edu.tw/search*cht/i)、[逢甲大學](https://innopac.lib.fcu.edu.tw/search*cht/i)、[朝陽科技大學](https://millennium.lib.cyut.edu.tw/search*cht/i)、[國立中山大學](https://dec.lib.nsysu.edu.tw/search*cht/i)、[國立高雄師範大學](https://nknulib.nknu.edu.tw/search*cht/i)、[文藻外語大學](https://libpac.wzu.edu.tw/search*cht/i)、[大仁科技大學](http://lib.tajen.edu.tw/search*cht/i)、[國立中央大學](https://opac.lib.ncu.edu.tw/search*cht/i)\n",
    "- 『能處理狀況』：一筆、無\n",
    "- 『下一步優化』：\n",
    "    - 待輸入\n",
    "    - 待輸入"
   ]
  },
  {
   "cell_type": "markdown",
   "id": "d4a662f7",
   "metadata": {
    "hidden": true
   },
   "source": [
    "### 函式本體"
   ]
  },
  {
   "cell_type": "code",
   "execution_count": 25,
   "id": "da1a9e3c",
   "metadata": {
    "hidden": true
   },
   "outputs": [],
   "source": [
    "def easy_crawler(driver, org, org_url, ISBN):\n",
    "    try:\n",
    "        driver.get(org_url)\n",
    "        search_ISBN(driver, ISBN, 'SEARCH')\n",
    "\n",
    "        if not wait_for_element_present(driver, 'table.bibItems'):\n",
    "            print(f'在「{org}」找不到「{ISBN}」')\n",
    "            return\n",
    "\n",
    "        table = accurately_find_table_and_read_it(driver, 'table.bibItems')\n",
    "        table['圖書館'], table['連結'] = org, driver.current_url\n",
    "        table = organize_columns(table)\n",
    "    except:\n",
    "        print(f'在「{org}」搜尋「{ISBN}」時，發生不明錯誤！')\n",
    "        return\n",
    "    else:\n",
    "        return table"
   ]
  },
  {
   "cell_type": "markdown",
   "id": "65455055",
   "metadata": {
    "heading_collapsed": true
   },
   "source": [
    "## <mark>完成</mark>webpac_pro_crawler(driver, org, org_url, ISBN)\n",
    "- 『最後編輯』：2021/08/02\n",
    "- 『函式完成度』：極高"
   ]
  },
  {
   "cell_type": "markdown",
   "id": "6cfd4027",
   "metadata": {
    "hidden": true
   },
   "source": [
    "### 函式說明\n",
    "- 『運作的原理』：待輸入\n",
    "- 『適用的機構』：[中央研究院](https://las.sinica.edu.tw/*cht)、[中國文化大學](https://webpac.pccu.edu.tw/*cht)、[輔仁大學](https://library.lib.fju.edu.tw/)、[國立陽明交通大學](https://library.ym.edu.tw/screens/opacmenu_cht_s7.html)\n",
    "- 『能處理狀況』：一筆、無\n",
    "- 『下一步優化』：\n",
    "    - 待輸入\n",
    "    - 待輸入"
   ]
  },
  {
   "cell_type": "markdown",
   "id": "ca399017",
   "metadata": {
    "hidden": true
   },
   "source": [
    "### 函式本體"
   ]
  },
  {
   "cell_type": "code",
   "execution_count": null,
   "id": "3281c07c",
   "metadata": {
    "hidden": true
   },
   "outputs": [],
   "source": [
    "def webpac_pro_crawler(driver, org, org_url, ISBN):\n",
    "    try:\n",
    "        driver.get(org_url)\n",
    "        select_ISBN_strategy(driver, 'searchtype', 'i')\n",
    "        search_ISBN(driver, ISBN, 'searcharg')\n",
    "\n",
    "        if not wait_for_element_present(driver, 'table.bibItems'):\n",
    "            print(f'在「{org}」找不到「{ISBN}」')\n",
    "            return\n",
    "\n",
    "        table = accurately_find_table_and_read_it(driver, 'table.bibItems')\n",
    "        table['圖書館'], table['連結'] = org, driver.current_url\n",
    "        table = organize_columns(table)\n",
    "    except:\n",
    "        print(f'在「{org}」找不到「{ISBN}」')\n",
    "        return\n",
    "    else:\n",
    "        return table"
   ]
  },
  {
   "cell_type": "markdown",
   "id": "5ef973bf",
   "metadata": {},
   "source": [
    "## webpac_ajax_page_crawler(org, org_url, ISBN) 待維修\n",
    "- 『最後編輯』：2021/07/31\n",
    "- 『函式完成度』：極高"
   ]
  },
  {
   "cell_type": "markdown",
   "id": "f1c74d34",
   "metadata": {},
   "source": [
    "### 函式說明\n",
    "- 『運作的原理』：使用 selenium 進行搜索，進入＂詳細書目＂頁面後，從該網址分析並得到 mid，在由此進入 ajax_page。\n",
    "- 『適用的機構』：[新北市立圖書館](https://webpac.tphcc.gov.tw/webpac/search.cfm?show=adv)、[高雄市立空中大學](https://webpac.ouk.edu.tw/webpac/search.cfm?show=adv)、[國立屏東大學](https://webpac.nptu.edu.tw/webpac/search.cfm?show=adv)\n",
    "- 『能處理狀況』：判斷搜尋結果有沒有超過一筆、只有一筆搜尋結果有沒有跳轉、找不到書\n",
    "- 『下一步優化』：當搜尋無結果時，可以直接結束。"
   ]
  },
  {
   "cell_type": "markdown",
   "id": "746dcd47",
   "metadata": {},
   "source": [
    "### 函式本體"
   ]
  },
  {
   "cell_type": "code",
   "execution_count": null,
   "id": "28b8da07",
   "metadata": {
    "code_folding": []
   },
   "outputs": [],
   "source": [
    "def webpac_ajax_page_crawler(org, org_url, ISBN):\n",
    "    try:\n",
    "        driver.get(org_url)\n",
    "        # 等待點擊＂進階查詢＂按鈕，接著點擊\n",
    "        WebDriverWait(driver, 30).until(\n",
    "            EC.element_to_be_clickable((By.LINK_TEXT, '進階查詢'))).click()\n",
    "        # 等待定位＂下拉式選單＂，選擇以 ISBN 方式搜尋\n",
    "        search_field = WebDriverWait(driver, 10).until(\n",
    "            EC.presence_of_element_located((By.ID, 'as_type_1')))\n",
    "        select = Select(search_field)\n",
    "        select.select_by_value('i')\n",
    "        # 定位＂搜尋欄＂，輸入 ISBN\n",
    "        search_input = driver.find_element_by_id('as_keyword_1')\n",
    "        search_input.send_keys(ISBN)\n",
    "        search_input.send_keys(\n",
    "            Keys.ENTER)  # 無法 submit()，用 send_keys(keys.ENTER) 來替代\n",
    "\n",
    "        # 在＂搜尋結果頁面＂，等待定位＂詳細書目＂。\n",
    "        # try-except 來判斷有沒有在＂搜尋結果頁面＂\n",
    "        try:\n",
    "            WebDriverWait(driver, 10).until(\n",
    "                EC.presence_of_element_located((By.LINK_TEXT, '詳細書目')))\n",
    "        except:\n",
    "            try:\n",
    "                WebDriverWait(driver, 10).until(\n",
    "                    EC.presence_of_element_located(\n",
    "                        (By.CSS_SELECTOR, 'div.book-detail')))\n",
    "\n",
    "                # 抓取方式：找出 mid 後，進入 ajax pag 抓取 DataFrame\n",
    "                org_url = org_url.replace('/search.cfm', '')\n",
    "                tgts = []\n",
    "                url = driver.current_url\n",
    "                mid = url.split('mid=')[-1].split('&')[0]\n",
    "                ajax_page_url = f'{org_url}/ajax_page/get_content_area.cfm?mid={mid}&i_list_number=250&i_page=1&i_sory_by=1'\n",
    "                tgt = pd.read_html(ajax_page_url, encoding='utf-8')[0]\n",
    "                tgt['圖書館'], tgt['連結'] = org, url\n",
    "                tgts.append(tgt)\n",
    "                table = pd.concat(tgts, axis=0, ignore_index=True)\n",
    "                table = organize_columns(table)\n",
    "                return table  # 完成抓取 table\n",
    "            except:  # 沒有搜尋結果，也沒有進入＂詳細書目頁面＂\n",
    "                print(f'《{ISBN}》查無此書')\n",
    "                return  # 什麼都不做，退出此 function\n",
    "\n",
    "        # 抓取多個＂詳細書目＂的網址\n",
    "        anchors = driver.find_elements_by_link_text('詳細書目')\n",
    "        urls = []\n",
    "        for anchor in anchors:\n",
    "            urls.append(anchor.get_attribute('href'))\n",
    "\n",
    "        # 抓取方式：找出 mid 後，進入 ajax pag 抓取 DataFrame\n",
    "        org_url = org_url.replace('/search.cfm', '')\n",
    "        tgts = []\n",
    "        for url in urls:\n",
    "            mid = url.split('mid=')[-1].split('&')[0]  # 抓取 mid\n",
    "            ajax_page_url = f'{org_url}/ajax_page/get_content_area.cfm?mid={mid}&i_list_number=250&i_page=1&i_sory_by=1'\n",
    "            tgt = pd.read_html(ajax_page_url, encoding='utf-8')[0]\n",
    "            tgt['圖書館'], tgt['連結'] = org, url\n",
    "            tgts.append(tgt)\n",
    "        table = organize_columns(table)\n",
    "    except:\n",
    "        print(f'《{ISBN}》在「{url}」無法爬取')\n",
    "        return\n",
    "    else:\n",
    "        return table"
   ]
  },
  {
   "cell_type": "markdown",
   "id": "748a7543",
   "metadata": {},
   "source": [
    "### 函式測試"
   ]
  },
  {
   "cell_type": "code",
   "execution_count": null,
   "id": "9c05dfae",
   "metadata": {},
   "outputs": [],
   "source": [
    "if __name__ == '__main__':\n",
    "    driver = webdriver.Chrome(options=my_options, desired_capabilities=my_capabilities)\n",
    "    table = webpac_ajax_page_crawler(\n",
    "        org='新北市立圖書館',\n",
    "        org_url='https://webpac.tphcc.gov.tw/webpac/search.cfm',\n",
    "        ISBN='9789869109321'\n",
    "    )\n"
   ]
  },
  {
   "cell_type": "markdown",
   "id": "d8f9e960",
   "metadata": {},
   "source": [
    "## 基隆市公共圖書館(org, org_url, ISBN) 很奇怪\n",
    "- 『函式完成度』：中"
   ]
  },
  {
   "cell_type": "markdown",
   "id": "7a2dd093",
   "metadata": {},
   "source": [
    "### 函式說明\n",
    "- 『運作的原理』：使用 Selenium\n",
    "- 『適用的機構』：[基隆市公共圖書館](https://webpac.klccab.gov.tw/webpac/search.cfm)\n",
    "- 『能處理狀況』：一筆、無\n",
    "- 『下一步優化』：\n",
    "    - 網站載入過慢，且 wait 方式不適用於此，只能使用大量的 time.sleep()"
   ]
  },
  {
   "cell_type": "markdown",
   "id": "0a49949b",
   "metadata": {},
   "source": [
    "### 函式本體"
   ]
  },
  {
   "cell_type": "code",
   "execution_count": null,
   "id": "9a883046",
   "metadata": {},
   "outputs": [],
   "source": [
    "def 基隆市公共圖書館(org, org_url, ISBN):\n",
    "    try:\n",
    "        # 進入＂搜尋主頁＂\n",
    "        driver.get(org_url)\n",
    "        # 等待點擊＂進階查詢＂按鈕，接著點擊\n",
    "        WebDriverWait(driver, 30).until(EC.element_to_be_clickable((By.LINK_TEXT, '進階檢索'))).click()\n",
    "        time.sleep(2)  # JavaScript 動畫，強制等待\n",
    "        # 等待定位＂下拉式選單＂，選擇以 ISBN 方式搜尋\n",
    "        search_field = WebDriverWait(driver, 10).until(EC.presence_of_element_located((By.ID, 'as_type_1')))\n",
    "        select = Select(search_field)\n",
    "        select.select_by_value('i')\n",
    "        # 定位＂搜尋欄＂，輸入 ISBN\n",
    "        search_input = driver.find_element_by_id('as_keyword_1')\n",
    "        search_input.send_keys(ISBN)\n",
    "        search_input.send_keys(Keys.ENTER)\n",
    "\n",
    "        time.sleep(8)  # 基隆的系統太詭異了，強制等待\n",
    "        soup = BeautifulSoup(driver.page_source, \"html.parser\")\n",
    "        results = len(soup.find_all(\"div\", \"list_box\"))\n",
    "        if results < 2:\n",
    "            WebDriverWait(driver, 10).until(\n",
    "                EC.presence_of_element_located(\n",
    "                    (By.CSS_SELECTOR, \"table.list.list_border\")))\n",
    "            time.sleep(2)\n",
    "            table = pd.read_html(driver.page_source)[0]\n",
    "        else:\n",
    "            table = []\n",
    "            for li in soup.find_all(\"div\", \"list_box\"):\n",
    "                url_temp = \"https://webpac.klccab.gov.tw/webpac/\" + li.find(\n",
    "                    \"a\", \"btn\")[\"href\"]\n",
    "                driver.get(url_temp)\n",
    "                wait.until(\n",
    "                    EC.presence_of_element_located(\n",
    "                        (By.CSS_SELECTOR, \"table.list.list_border\")))\n",
    "                time.sleep(2)\n",
    "                table.append(\n",
    "                    pd.read_html(driver.page_source, encoding=\"utf-8\")[0])\n",
    "            table = pd.concat(table, axis=0, ignore_index=True)\n",
    "        table['圖書館'], table['連結'] = org, driver.current_url\n",
    "        table = organize_columns(table)\n",
    "        return table\n",
    "    except:\n",
    "        print(f'《{ISBN}》在「{url}」無法爬取')"
   ]
  },
  {
   "cell_type": "markdown",
   "id": "d9d94c40",
   "metadata": {},
   "source": [
    "### 函式測試"
   ]
  },
  {
   "cell_type": "code",
   "execution_count": null,
   "id": "2ec10c08",
   "metadata": {},
   "outputs": [],
   "source": [
    "if __name__ == '__main__':\n",
    "    driver = webdriver.Chrome(options=my_options, desired_capabilities=my_capabilities)\n",
    "    table = 基隆市公共圖書館(\n",
    "        org='基隆市公共圖書館',\n",
    "        org_url='https://webpac.klccab.gov.tw/webpac/search.cfm',\n",
    "        ISBN='9789869109321'\n",
    "    )"
   ]
  },
  {
   "cell_type": "markdown",
   "id": "887c1b6c",
   "metadata": {},
   "source": [
    "## 臺北市立圖書館(org, org_url, ISBN)  多筆\n",
    "- 『最後編輯』：2021/07/31\n",
    "- 『函式完成度』：極高"
   ]
  },
  {
   "cell_type": "markdown",
   "id": "8333ddad",
   "metadata": {},
   "source": [
    "### 函式說明\n",
    "- 『運作的原理』：輸入 ISBN 搜索後，直接進入＂詳細書目＂，並且該頁面有全部的藏書狀況，只要爬一個表格即可。\n",
    "- 『適用的機構』：[臺北市立圖書館](https://book.tpml.edu.tw/webpac/webpacIndex.jsp)\n",
    "- 『能處理狀況』：找不到、一筆\n",
    "- 『下一步優化』：暫無問題"
   ]
  },
  {
   "cell_type": "markdown",
   "id": "cadae0e7",
   "metadata": {},
   "source": [
    "### 函式本體"
   ]
  },
  {
   "cell_type": "code",
   "execution_count": null,
   "id": "2129241e",
   "metadata": {},
   "outputs": [],
   "source": [
    "def 臺北市立圖書館(org, org_url, ISBN):\n",
    "    try:\n",
    "        driver.get(org_url)\n",
    "        select_ISBN_strategy('search_field', 'ISBN')\n",
    "        search_ISBN(ISBN, 'search_input')\n",
    "\n",
    "        table = accurately_find_table_and_read_it('table.order')\n",
    "        table['圖書館'], table['連結'] = org, driver.current_url\n",
    "        table = organize_columns(table)\n",
    "    except:\n",
    "        print(f'《{ISBN}》在「{org_url}」無法爬取')\n",
    "        return\n",
    "    else:\n",
    "        return table"
   ]
  },
  {
   "cell_type": "markdown",
   "id": "391640a1",
   "metadata": {},
   "source": [
    "### 函式測試"
   ]
  },
  {
   "cell_type": "code",
   "execution_count": null,
   "id": "33b97c17",
   "metadata": {},
   "outputs": [],
   "source": [
    "if __name__ == '__main__':\n",
    "    driver = webdriver.Chrome(options=my_options, desired_capabilities=my_capabilities)\n",
    "    table = 臺北市立圖書館(\n",
    "        org='臺北市立圖書館',\n",
    "        org_url='https://book.tpml.edu.tw/webpac/webpacIndex.jsp',\n",
    "        ISBN='9789869109321'\n",
    "    )\n"
   ]
  },
  {
   "cell_type": "markdown",
   "id": "b17a0166",
   "metadata": {},
   "source": [
    "## 國家圖書館(org, org_url, ISBN)\n",
    "- 『最後編輯』：2021/07/31\n",
    "- 『函式完成度』：極高"
   ]
  },
  {
   "cell_type": "markdown",
   "id": "7b59b06e",
   "metadata": {},
   "source": [
    "### 函式說明\n",
    "- 『運作的原理』：使用 Selenium\n",
    "- 『適用的機構』：[國家圖書館](https://aleweb.ncl.edu.tw/F)\n",
    "- 『能處理狀況』：找不到、一筆\n",
    "- 『下一步優化』：\n",
    "    - 目前尚未遇到多筆情況\n",
    "    - 不知道可以和什麼機構的系統合併在一起？"
   ]
  },
  {
   "cell_type": "markdown",
   "id": "36e4885c",
   "metadata": {},
   "source": [
    "### 函式本體"
   ]
  },
  {
   "cell_type": "code",
   "execution_count": null,
   "id": "c113299a",
   "metadata": {},
   "outputs": [],
   "source": [
    "def 國家圖書館(org, org_url, ISBN):\n",
    "    try:\n",
    "        driver.get(org_url)\n",
    "        select_ISBN_strategy('find_code', 'ISBN')\n",
    "        search_ISBN(ISBN, 'request')\n",
    "\n",
    "        # 點擊＂書在哪裡(請點選)＂，進入＂詳細書目＂\n",
    "        tgt_url = WebDriverWait(driver, 10).until(\n",
    "            EC.presence_of_element_located(\n",
    "                (By.LINK_TEXT, '書在哪裡(請點選)'))).get_attribute('href')\n",
    "        driver.get(tgt_url)\n",
    "\n",
    "        table = accurately_find_table_and_read_it('table', -2)\n",
    "        table['圖書館'], table['連結'] = org, tgt_url\n",
    "        table = organize_columns(table)\n",
    "    except:\n",
    "        print(f'《{ISBN}》在「{org_url}」無法爬取')\n",
    "        return\n",
    "    return table"
   ]
  },
  {
   "cell_type": "markdown",
   "id": "7e1dd591",
   "metadata": {},
   "source": [
    "### 函式測試"
   ]
  },
  {
   "cell_type": "code",
   "execution_count": null,
   "id": "110d730b",
   "metadata": {
    "scrolled": true
   },
   "outputs": [],
   "source": [
    "if __name__ == '__main__':\n",
    "    driver = webdriver.Chrome(options=my_options, desired_capabilities=my_capabilities)\n",
    "    table = 國家圖書館(\n",
    "        org='國家圖書館',\n",
    "        org_url='https://aleweb.ncl.edu.tw/F',\n",
    "        ISBN='9789869109321'\n",
    "    )\n"
   ]
  },
  {
   "cell_type": "markdown",
   "id": "740b67c5",
   "metadata": {},
   "source": [
    "## 彰化縣公共圖書館(org, org_url, ISBN) 進行中\n",
    "- 『函式完成度』：高"
   ]
  },
  {
   "cell_type": "markdown",
   "id": "52ecf522",
   "metadata": {},
   "source": [
    "### 函式說明\n",
    "- 『運作的原理』：待輸入\n",
    "- 『適用的機構』：彰化縣圖書館\n",
    "- 『能處理狀況』：一筆、無、多筆、（翻頁\n",
    "- 『下一步優化』：\n",
    "    - [翻頁](https://library.toread.bocach.gov.tw/toread/opac/bibliographic_view?NewBookMode=false&id=341724&mps=10&q=986729193X+OR+9789867291936&start=0&view=CONTENT)\n",
    "    - 待輸入"
   ]
  },
  {
   "cell_type": "markdown",
   "id": "cf091a3c",
   "metadata": {},
   "source": [
    "### 函式本體"
   ]
  },
  {
   "cell_type": "code",
   "execution_count": null,
   "id": "f5b5fd71",
   "metadata": {
    "scrolled": false
   },
   "outputs": [],
   "source": [
    "def 彰化縣公共圖書館(org, org_url, ISBN):\n",
    "    table = []\n",
    "    tgt_urls = []\n",
    "    \n",
    "    driver.get(org_url)\n",
    "    search_ISBN(ISBN, 'q')\n",
    "    \n",
    "    if not wait_for_element_present('div#results'):\n",
    "        print(f'在{org}裡，沒有《{ISBN}》')\n",
    "        return\n",
    "    \n",
    "    # 有 div#results，接著分析 html，找出所有的＂詳細書目＂的網址\n",
    "    soup = BeautifulSoup(driver.page_source, 'html.parser')\n",
    "    ul = soup.select('div#results > ul')[0]\n",
    "    for li in ul.select('li.is_img'):\n",
    "        tgt_urls.append(org_url + li.a['href'])\n",
    "    # for 迴圈，進入所有的＂詳細書目＂的網址\n",
    "    for tgt_url in tgt_urls:\n",
    "        driver.get(tgt_url)\n",
    "        tgt = accurately_find_table_and_read_it('table.gridTable')\n",
    "        \n",
    "        # 以下兩行，是＂彰化縣公共圖書館＂有多餘的 row，須要特別篩選調 NaN\n",
    "        filtered_tgt = tgt.dropna(subset=['典藏地名稱'])\n",
    "        filtered_tgt.reset_index(drop=True, inplace=True)\n",
    "        \n",
    "        table.append(filtered_tgt)\n",
    "    table = organize_columns(table)\n",
    "    return table"
   ]
  },
  {
   "cell_type": "markdown",
   "id": "eb9cd6ef",
   "metadata": {},
   "source": [
    "### 函式測試"
   ]
  },
  {
   "cell_type": "code",
   "execution_count": null,
   "id": "e046ada8",
   "metadata": {},
   "outputs": [],
   "source": [
    "if __name__ == '__main__':\n",
    "    driver = webdriver.Chrome(options=my_options, desired_capabilities=my_capabilities)\n",
    "    table = 彰化縣公共圖書館(\n",
    "        org='彰化縣公共圖書館',\n",
    "        org_url='https://library.toread.bocach.gov.tw',\n",
    "        ISBN='986729193X'\n",
    "    )"
   ]
  },
  {
   "cell_type": "markdown",
   "id": "e9a67552",
   "metadata": {},
   "source": [
    "## web2_crawler(org, org_url, ISBN) 進行中\n",
    "- 『函式完成度』：待輸入"
   ]
  },
  {
   "cell_type": "markdown",
   "id": "27e93654",
   "metadata": {},
   "source": [
    "### 函式說明\n",
    "- 『運作的原理』：待輸入\n",
    "- 『適用的機構』：待輸入\n",
    "- 『能處理狀況』：待輸入\n",
    "- 『下一步優化』：\n",
    "    - 待輸入\n",
    "    - 待輸入"
   ]
  },
  {
   "cell_type": "markdown",
   "id": "24174240",
   "metadata": {},
   "source": [
    "### 函式本體"
   ]
  },
  {
   "cell_type": "code",
   "execution_count": null,
   "id": "a9353aba",
   "metadata": {},
   "outputs": [],
   "source": [
    "def web2_crawler(org, url_front, ISBN, url_behind):\n",
    "    url = url_front + ISBN + url_behind\n",
    "    try:\n",
    "        driver.get(url)\n",
    "        title = driver.find_element_by_xpath('/html/body/div/div[1]/div[2]/div/div/div[2]/div[3]/div[1]/div[3]/div/ul/li/div/div[2]/h3/a').click()\n",
    "        \n",
    "        df_web2 = accurately_find_table_and_read_it('div#LocalHolding > table')\n",
    "        df_web2 = organize_columns(df_web2)\n",
    "        return df_web2\n",
    "    except:\n",
    "        print(f\"「{url}」無法爬取！\")"
   ]
  },
  {
   "cell_type": "markdown",
   "id": "4e8b33f5",
   "metadata": {},
   "source": [
    "### 函式測試"
   ]
  },
  {
   "cell_type": "code",
   "execution_count": null,
   "id": "927ccf27",
   "metadata": {
    "scrolled": true
   },
   "outputs": [],
   "source": [
    "if __name__ == '__main__':\n",
    "    driver = webdriver.Chrome(options=my_options, desired_capabilities=my_capabilities)\n",
    "    table = web2_crawler(\n",
    "        org='國立勤益科技大學',\n",
    "        url_front='http://140.128.95.172/webpac/search/?q=',\n",
    "        url_behind='&field=isn&op=AND&type=&department=&college=&dep=&active=1',\n",
    "        ISBN='9789869109321'\n",
    "    )\n"
   ]
  },
  {
   "cell_type": "markdown",
   "id": "66f49e05",
   "metadata": {},
   "source": [
    "## 連江縣公共圖書館(org, org_url, ISBN)\n",
    "- 最後更新：7/27\n",
    "- 『函式完成度』：極高"
   ]
  },
  {
   "cell_type": "markdown",
   "id": "ec764e92",
   "metadata": {},
   "source": [
    "### 函式說明\n",
    "- 『運作的原理』：待輸入\n",
    "- 『適用的機構』：[連江縣公共圖書館](http://210.63.206.76/Webpac2/msearch.dll/)、[開南大學](http://www.lib.knu.edu.tw/Webpac2/msearch.dll/)\n",
    "- 『能處理狀況』：一筆、無\n",
    "- 『下一步優化』：\n",
    "    - 開南大學搜尋哈利波特會有多個情況"
   ]
  },
  {
   "cell_type": "markdown",
   "id": "fd12da13",
   "metadata": {},
   "source": [
    "### 函式本體"
   ]
  },
  {
   "cell_type": "code",
   "execution_count": null,
   "id": "1fcab6fe",
   "metadata": {},
   "outputs": [],
   "source": [
    "def 連江縣公共圖書館(org, org_url, ISBN):\n",
    "    table = []\n",
    "    \n",
    "    driver.get(org_url)\n",
    "    search_ISBN(ISBN, 'ISBN')\n",
    "\n",
    "    if wait_for_element_present('重新查詢', by=By.LINK_TEXT):\n",
    "        print(f'在「{org}」找不到「{ISBN}」')\n",
    "        return\n",
    "    \n",
    "    tgt = accurately_find_table_and_read_it('table', -2)\n",
    "    tgt['圖書館'], tgt['連結'] = org, driver.current_url\n",
    "    table.append(tgt)\n",
    "    \n",
    "    table = organize_columns(table)\n",
    "    return table"
   ]
  },
  {
   "cell_type": "markdown",
   "id": "0b4dc273",
   "metadata": {},
   "source": [
    "### 函式測試"
   ]
  },
  {
   "cell_type": "code",
   "execution_count": null,
   "id": "25ad960e",
   "metadata": {},
   "outputs": [],
   "source": [
    "if __name__ == '__main__':\n",
    "    driver = webdriver.Chrome(options=my_options, desired_capabilities=my_capabilities)\n",
    "    table = 連江縣公共圖書館(\n",
    "        org='開南大學',\n",
    "        org_url='http://www.lib.knu.edu.tw/Webpac2/msearch.dll/',\n",
    "        ISBN='9789869109321'\n",
    "    )"
   ]
  },
  {
   "cell_type": "markdown",
   "id": "93dc0722",
   "metadata": {},
   "source": [
    "## 樹德科技大學(org, org_url, ISBN) 進行中\n",
    "- 『函式完成度』：待輸入"
   ]
  },
  {
   "cell_type": "markdown",
   "id": "eb7ebf95",
   "metadata": {},
   "source": [
    "### 函式說明\n",
    "- 『運作的原理』：待輸入\n",
    "- 『適用的機構』：待輸入\n",
    "- 『能處理狀況』：待輸入\n",
    "- 『下一步優化』：\n",
    "    - 待輸入\n",
    "    - 待輸入"
   ]
  },
  {
   "cell_type": "markdown",
   "id": "bfd9105b",
   "metadata": {},
   "source": [
    "### 函式本體"
   ]
  },
  {
   "cell_type": "code",
   "execution_count": null,
   "id": "9877fedb",
   "metadata": {},
   "outputs": [],
   "source": [
    "def 樹德科技大學(org, org_url, ISBN):\n",
    "    table = []\n",
    "    driver.get('https://webpac.stu.edu.tw/webopac/')\n",
    "    iframe = driver.find_element(By.NAME, 'default')\n",
    "    driver.switch_to.frame(iframe)\n",
    "    select_ISBN_strategy('ctl00$ContentPlaceHolder1$ListBox1', 'Info000076')\n",
    "    search_ISBN(ISBN, 'ctl00$ContentPlaceHolder1$TextBox1')\n",
    "    driver.switch_to.default_content()\n",
    "    iframe = driver.find_element(By.NAME, 'default')\n",
    "    driver.switch_to.frame(iframe)\n",
    "    driver.find_elements(By.CSS_SELECTOR, '#ctl00_ContentPlaceHolder1_dg_ctl02_lbtgcd2')[0].click()\n",
    "    tgt = accurately_find_table_and_read_it('#ctl00_ContentPlaceHolder1_dg')\n",
    "    tgt['圖書館'], tgt['連結'] = '樹德科技大學', driver.current_url\n",
    "    table.append(tgt)\n",
    "    table = organize_columns(table)\n",
    "    return table"
   ]
  },
  {
   "cell_type": "markdown",
   "id": "e9ae021c",
   "metadata": {},
   "source": [
    "### 函式測試"
   ]
  },
  {
   "cell_type": "code",
   "execution_count": null,
   "id": "481ea6e6",
   "metadata": {},
   "outputs": [],
   "source": [
    "if __name__ == '__main__':\n",
    "    driver = webdriver.Chrome(options=my_options, desired_capabilities=my_capabilities)\n",
    "    table = 待輸入(\n",
    "        org='待輸入',\n",
    "        org_url='待輸入',\n",
    "        ISBN='9789869109321'\n",
    "    )"
   ]
  },
  {
   "cell_type": "markdown",
   "id": "7e20d37c",
   "metadata": {
    "heading_collapsed": true
   },
   "source": [
    "## 國立臺北護理健康大學(org, org_url, ISBN)\n",
    "- 最後更新：7/29\n",
    "- 『函式完成度』：高"
   ]
  },
  {
   "cell_type": "markdown",
   "id": "bf4f7789",
   "metadata": {
    "hidden": true
   },
   "source": [
    "### 函式說明\n",
    "- 『運作的原理』：待輸入\n",
    "- 『適用的機構』：[國立臺北護理健康大學](http://140.131.94.8/uhtbin/webcat)、[大同大學](http://140.129.23.14/uhtbin/webcat)、[國立體育大學](http://192.83.181.243/uhtbin/webcat)\n",
    "- 『能處理狀況』：待輸入\n",
    "- 『下一步優化』：\n",
    "    - 待輸入\n",
    "    - 待輸入"
   ]
  },
  {
   "cell_type": "markdown",
   "id": "32618d6a",
   "metadata": {
    "hidden": true
   },
   "source": [
    "### 函式本體"
   ]
  },
  {
   "cell_type": "code",
   "execution_count": null,
   "id": "98c96a04",
   "metadata": {
    "hidden": true
   },
   "outputs": [],
   "source": [
    "def 國立臺北護理健康大學(org, org_url, ISBN):\n",
    "    try:\n",
    "        driver.get(org_url)\n",
    "        try:\n",
    "            select_ISBN_strategy('srchfield1', 'GENERAL^SUBJECT^GENERAL^^所有欄位')\n",
    "        except:\n",
    "            select_ISBN_strategy('srchfield1', '020^SUBJECT^SERIES^Title Processing^ISBN')\n",
    "        search_ISBN(ISBN, 'searchdata1')\n",
    "        \n",
    "        table = accurately_find_table_and_read_it('table')\n",
    "        \n",
    "        table.drop([0, 1, 2], inplace=True)\n",
    "        table.drop([1, 2, 4], axis='columns', inplace=True)\n",
    "        table.rename(columns={0: '索書號', 3: '館藏狀態'}, inplace=True)\n",
    "        table['圖書館'], table['連結'], table['館藏地'] = org, driver.current_url, table['館藏狀態']\n",
    "        \n",
    "        table = organize_columns(table)\n",
    "    except:\n",
    "        print(f'在「{org}」找不到「{ISBN}」')\n",
    "        return\n",
    "    else:\n",
    "        return table"
   ]
  },
  {
   "cell_type": "markdown",
   "id": "38c67bbb",
   "metadata": {
    "hidden": true
   },
   "source": [
    "### 函式測試"
   ]
  },
  {
   "cell_type": "code",
   "execution_count": null,
   "id": "acb7a353",
   "metadata": {
    "hidden": true,
    "scrolled": false
   },
   "outputs": [],
   "source": [
    "if __name__ == '__main__':\n",
    "    driver = webdriver.Chrome(options=my_options, desired_capabilities=my_capabilities)\n",
    "    table = 國立體育大學(\n",
    "        org='國立體育大學',\n",
    "        org_url='http://192.83.181.243/uhtbin/webcat',\n",
    "        ISBN='9789574672028'\n",
    "    )\n"
   ]
  },
  {
   "cell_type": "markdown",
   "id": "118e9fea",
   "metadata": {},
   "source": [
    "## 台北海洋科技大學\n",
    "- 最後更新：7/31\n",
    "- 『函式完成度』：高"
   ]
  },
  {
   "cell_type": "code",
   "execution_count": null,
   "id": "6af52fe3",
   "metadata": {},
   "outputs": [],
   "source": [
    "def 台北海洋科技大學(org, org_url, ISBN):\n",
    "    df_lst = []\n",
    "    org_url = org_url + ISBN\n",
    "    driver.get(org_url)\n",
    "    result = driver.find_element_by_id(\"qresult-content\")\n",
    "    trlist = result.find_elements_by_tag_name('tr')\n",
    "    for row in range(2, len(trlist)):\n",
    "        css = \"#qresult-content > tbody > tr:nth-child(\" + str(row) + \") > td:nth-child(3) > a\"\n",
    "        into = driver.find_element_by_css_selector(css).click()\n",
    "        time.sleep(2)\n",
    "        html_text = driver.page_source\n",
    "        dfs = pd.read_html(html_text, encoding=\"utf-8\")\n",
    "        df_tumt = dfs[6]\n",
    "        df_tumt.rename(columns={1: \"館藏地\", 3: \"索書號\", 4: \"館藏狀態\"}, inplace=True)\n",
    "        df_tumt.drop([0], inplace=True)\n",
    "        df_tumt[\"圖書館\"], df_tumt[\"連結\"] = \"台北海洋科技大學\", driver.current_url\n",
    "        df_tumt = organize_columns(df_tumt)\n",
    "        df_lst.append(df_tumt)\n",
    "        back = driver.find_element_by_css_selector(\"#table1 > tbody > tr > td:nth-child(1) > a:nth-child(3)\").click()\n",
    "    table = pd.concat(df_lst, axis=0, ignore_index=True)\n",
    "    return table"
   ]
  },
  {
   "cell_type": "code",
   "execution_count": null,
   "id": "2f5a82a7",
   "metadata": {},
   "outputs": [],
   "source": [
    "if __name__ == '__main__':\n",
    "    driver = webdriver.Chrome(options=my_options, desired_capabilities=my_capabilities)\n",
    "    table = 台北海洋科技大學(\n",
    "        org='台北海洋科技大學',\n",
    "        org_url='http://140.129.253.4/webopac7/sim_data2.php?pageno=1&pagerows=15&orderby=BRN&ti=&au=&se=&su=&pr=&mt=&mt2=&yrs=&yre=&nn=&lc=&bn=',\n",
    "        ISBN='9789861371955'\n",
    "    )"
   ]
  },
  {
   "cell_type": "markdown",
   "id": "d20fc3fc",
   "metadata": {},
   "source": [
    "## 台中科技大學"
   ]
  },
  {
   "cell_type": "code",
   "execution_count": null,
   "id": "22b6ee0d",
   "metadata": {},
   "outputs": [],
   "source": []
  }
 ],
 "metadata": {
  "kernelspec": {
   "display_name": "Python 3",
   "language": "python",
   "name": "python3"
  },
  "language_info": {
   "codemirror_mode": {
    "name": "ipython",
    "version": 3
   },
   "file_extension": ".py",
   "mimetype": "text/x-python",
   "name": "python",
   "nbconvert_exporter": "python",
   "pygments_lexer": "ipython3",
   "version": "3.8.8"
  },
  "toc": {
   "base_numbering": 1,
   "nav_menu": {},
   "number_sections": true,
   "sideBar": true,
   "skip_h1_title": false,
   "title_cell": "Table of Contents",
   "title_sidebar": "Contents",
   "toc_cell": false,
   "toc_position": {
    "height": "calc(100% - 180px)",
    "left": "10px",
    "top": "150px",
    "width": "256px"
   },
   "toc_section_display": true,
   "toc_window_display": false
  }
 },
 "nbformat": 4,
 "nbformat_minor": 5
}
