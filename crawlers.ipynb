{
 "cells": [
  {
   "cell_type": "markdown",
   "source": [
    "# 環境設置"
   ],
   "metadata": {
    "heading_collapsed": true
   }
  },
  {
   "cell_type": "markdown",
   "source": [
    "## 載入套件\n",
    "- selenium、pandas、requests、bs4、time"
   ],
   "metadata": {
    "hidden": true
   }
  },
  {
   "cell_type": "code",
   "execution_count": 1,
   "source": [
    "from selenium import webdriver\r\n",
    "from selenium.webdriver.chrome.options import Options  # 設定 driver 的行為\r\n",
    "from selenium.webdriver.support.ui import Select  # 選擇＂下拉式選單＂\r\n",
    "from selenium.webdriver.common.keys import Keys  # 鍵盤操作\r\n",
    "from selenium.common.exceptions import NoSuchElementException, TimeoutException  # 載入常見錯誤\r\n",
    "from selenium.webdriver.common.desired_capabilities import DesiredCapabilities  # 更改載入策略\r\n",
    "from selenium.webdriver.support.ui import WebDriverWait  # 等待機制\r\n",
    "from selenium.webdriver.support import expected_conditions as EC  # 預期事件\r\n",
    "from selenium.webdriver.common.by import By  # 找尋元素的方法\r\n",
    "import pandas as pd  # 載入 pandas\r\n",
    "import pandas.io.formats.excel  # 輸出自定義格式 Excel\r\n",
    "import requests\r\n",
    "import requests.packages.urllib3\r\n",
    "\r\n",
    "requests.packages.urllib3.disable_warnings()  # 關閉錯誤警告\r\n",
    "from urllib.request import HTTPError  # 載入 HTTPError\r\n",
    "from bs4 import BeautifulSoup\r\n",
    "import time  # 強制等待"
   ],
   "outputs": [],
   "metadata": {
    "code_folding": [],
    "hidden": true
   }
  },
  {
   "cell_type": "markdown",
   "source": [
    "## 設定 driver 的參數：options、desired_capabilities"
   ],
   "metadata": {
    "hidden": true
   }
  },
  {
   "cell_type": "code",
   "execution_count": 2,
   "source": [
    "my_options = Options()\r\n",
    "my_options.add_argument('--incognito')  # 開啟無痕模式\r\n",
    "# my_options.add_argument('--start-maximized')  # 視窗最大化\r\n",
    "# my_options.add_argument('--headless')  # 不開啟實體瀏覽器\r\n",
    "my_capabilities = DesiredCapabilities.CHROME\r\n",
    "my_capabilities['pageLoadStrategy'] = 'eager'  # 頁面加載策略：HTML 解析成 DOM"
   ],
   "outputs": [],
   "metadata": {
    "hidden": true
   }
  },
  {
   "cell_type": "markdown",
   "source": [
    "## organize_columns(df1)\n",
    "- 處理欄位：圖書館、館藏地（c2）、索書號（c3）、館藏狀態（c4）、連結\n",
    "- 如果 df1 是裝著 DataFrame 的 list，則就合併它們；否則（df1 是 DataFrame），就接著執行以下敘述。\n",
    "- 丟掉垃圾欄位，整理成要呈現的表格\n",
    "- 新增必要欄位（圖書館、連結）\n",
    "- 填滿 NaN（用 ffill 的 方式）"
   ],
   "metadata": {}
  },
  {
   "cell_type": "markdown",
   "source": [
    "# 自定義函式"
   ],
   "metadata": {}
  },
  {
   "cell_type": "code",
   "execution_count": 118,
   "source": [
    "def organize_columns(df1):\r\n",
    "    # 合併全部的 DataFrame\r\n",
    "    try:\r\n",
    "        df1 = pd.concat(df1, axis=0, ignore_index=True)\r\n",
    "    except:\r\n",
    "        df1.reset_index(drop=True, inplace=True)\r\n",
    "\r\n",
    "    # 處理 column 2：館藏地\r\n",
    "    c2 = [\r\n",
    "        '分館/專室', '館藏地/室', '館藏室', '館藏地/館藏室', '館藏地', '典藏館', '館藏位置', '館藏地/區域',\r\n",
    "        '典藏地名稱', '館藏地/館別', '館藏地(已外借/總數)'\r\n",
    "    ]\r\n",
    "    df1['c2'] = ''\r\n",
    "    for c in c2:\r\n",
    "        try:\r\n",
    "            df1['c2'] += df1[c]\r\n",
    "        except:\r\n",
    "            pass\r\n",
    "\r\n",
    "    # 處理 column 3：索書號\r\n",
    "    c3 = ['索書號', '索書號/期刊合訂本卷期', '索書號 / 部冊號']\r\n",
    "    df1['c3'] = ''\r\n",
    "    for c in c3:\r\n",
    "        try:\r\n",
    "            df1['c3'] += df1[c]\r\n",
    "        except:\r\n",
    "            pass\r\n",
    "\r\n",
    "    # 處理 column 4：館藏狀態\r\n",
    "    c4 = [\r\n",
    "        '館藏位置(到期日期僅為期限，不代表上架日期)', '狀態/到期日', '目前狀態 / 到期日', '館藏狀態', '處理狀態',\r\n",
    "        '狀態 (說明)', '館藏現況 說明', '目前狀態/預計歸還日期', '圖書狀況 / 到期日', '調閱說明', '借閱狀態',\r\n",
    "        '狀態', '館藏狀態(月-日-西元年)', '圖書狀況', '現況/異動日', 'Unnamed: 24'\r\n",
    "    ]\r\n",
    "    df1['c4'] = ''\r\n",
    "    for c in c4:\r\n",
    "        try:\r\n",
    "            df1['c4'] += df1[c]\r\n",
    "        except:\r\n",
    "            pass\r\n",
    "\r\n",
    "    # 直接生成另一個 DataFrame\r\n",
    "    df2 = pd.DataFrame()\r\n",
    "    df2['圖書館'] = df1['圖書館']\r\n",
    "    df2['館藏地'] = df1['c2']\r\n",
    "    df2['索書號'] = df1['c3']\r\n",
    "    df2['館藏狀態'] = df1['c4']\r\n",
    "    df2['連結'] = df1['連結']\r\n",
    "\r\n",
    "    # 遇到值為 NaN時，將前一列的值填補進來\r\n",
    "    df2.fillna(method=\"ffill\", axis=0, inplace=True)\r\n",
    "\r\n",
    "    return df2"
   ],
   "outputs": [],
   "metadata": {}
  },
  {
   "cell_type": "markdown",
   "source": [
    "## set_excel(df, directory)\n",
    "- 待"
   ],
   "metadata": {
    "heading_collapsed": true
   }
  },
  {
   "cell_type": "code",
   "execution_count": 4,
   "source": [
    "def set_excel(df, directory):\r\n",
    "    # B｢圖書館｣、C「館藏地」、D「索書號」、E「館藏狀態」、F「連結」\r\n",
    "    pandas.io.formats.excel.header_style = None  # 標題格式清除\r\n",
    "    writer = pd.ExcelWriter(directory)\r\n",
    "    df.to_excel(writer, sheet_name=\"搜尋結果\")\r\n",
    "\r\n",
    "    workbook1 = writer.book\r\n",
    "    worksheets = writer.sheets\r\n",
    "    worksheet1 = worksheets[\"搜尋結果\"]\r\n",
    "\r\n",
    "    # 測試\r\n",
    "    cell_format = workbook1.add_format({\r\n",
    "        \"font_name\": \"微軟正黑體\",\r\n",
    "        \"font_size\": 16,\r\n",
    "        \"align\": \"left\",\r\n",
    "        #         \"border\": 80,\r\n",
    "    })\r\n",
    "    worksheet1.set_column(\"B:F\", 40, cell_format)\r\n",
    "\r\n",
    "    # 設定單元格的寬度\r\n",
    "    #     worksheet1.set_column(\"B:F\", 35)\r\n",
    "\r\n",
    "    writer.save()\r\n",
    "    print(\"爬取完成\")"
   ],
   "outputs": [],
   "metadata": {
    "code_folding": [],
    "hidden": true
   }
  },
  {
   "cell_type": "markdown",
   "source": [
    "## wait_for_element_present(element_position, waiting_time=5, by=By.CSS_SELECTOR)\n",
    "- 用法：\n",
    "    - 等待 element 出現，每間隔 0.5 秒定位一次，直到 5 秒。如果定位 element 成功，回傳 element；否則，回傳 None。\n",
    "- 參數：\n",
    "    - element_position：元素位置，預設 CSS selector\n",
    "    - waiting_time：等待時間，預設 5 秒\n",
    "    - by：定位方式，預設 By.CSS_SELECTOR"
   ],
   "metadata": {
    "heading_collapsed": true
   }
  },
  {
   "cell_type": "code",
   "execution_count": 5,
   "source": [
    "def wait_for_element_present(element_position, waiting_time=5, by=By.CSS_SELECTOR):\r\n",
    "    try:\r\n",
    "        element = WebDriverWait(driver, waiting_time).until(\r\n",
    "            EC.presence_of_element_located((by, element_position)))\r\n",
    "    except:\r\n",
    "        return\r\n",
    "    else:\r\n",
    "        return element"
   ],
   "outputs": [],
   "metadata": {
    "hidden": true
   }
  },
  {
   "cell_type": "markdown",
   "source": [
    "## wait_for_element_clickable(element_position, waiting_time=5, by=By.PARTIAL_LINK_TEXT)\n",
    "- 同上"
   ],
   "metadata": {
    "heading_collapsed": true
   }
  },
  {
   "cell_type": "code",
   "execution_count": 6,
   "source": [
    "def wait_for_element_clickable(element_position, waiting_time=5, by=By.PARTIAL_LINK_TEXT):\r\n",
    "    try:\r\n",
    "        element = WebDriverWait(driver, waiting_time).until(\r\n",
    "            EC.element_to_be_clickable((by, element_position)))\r\n",
    "    except:\r\n",
    "        return\r\n",
    "    else:\r\n",
    "        return element"
   ],
   "outputs": [],
   "metadata": {
    "hidden": true
   }
  },
  {
   "cell_type": "code",
   "execution_count": null,
   "source": [],
   "outputs": [],
   "metadata": {
    "hidden": true
   }
  },
  {
   "cell_type": "markdown",
   "source": [
    "## wait_for_url_changed(old_url, waiting_time=10)\n",
    "- 用法：\n",
    "    - 等待網址改變（輸入的網址和現在的網址進行比較），每間隔 0.5 秒檢查一次，直到 10 秒。如果網址有改變，回傳 True；否則，回傳 None。\n",
    "- 參數：\n",
    "    - old_url：舊網址\n",
    "    - waiting_time：等待時間，預設 10 秒"
   ],
   "metadata": {
    "heading_collapsed": true
   }
  },
  {
   "cell_type": "code",
   "execution_count": 7,
   "source": [
    "def wait_for_url_changed(old_url, waiting_time=10):\r\n",
    "    try:\r\n",
    "        WebDriverWait(driver, time).until(EC.url_changes(old_url))\r\n",
    "    except:\r\n",
    "        return\r\n",
    "    else:\r\n",
    "        return True"
   ],
   "outputs": [],
   "metadata": {
    "hidden": true
   }
  },
  {
   "cell_type": "markdown",
   "source": [
    "## accurately_find_table_and_read_it(table_position, table_position2=0)\n",
    "- 用法：\n",
    "    - 精準定位 table 並讀取成 pd.DataFrame。如果定位 table 成功，回傳 table；否則，回傳 None。\n",
    "    - 為 table 增加＂圖書館＂和＂連結＂的欄位。\n",
    "- 參數：\n",
    "    - table_position：table 位置，預設 CSS selector"
   ],
   "metadata": {}
  },
  {
   "cell_type": "code",
   "execution_count": 8,
   "source": [
    "def accurately_find_table_and_read_it(table_position, table_position2=0):\r\n",
    "    try:\r\n",
    "        if not wait_for_element_present(table_position):\r\n",
    "            print(f'找不到 {table_position}！')\r\n",
    "            return\r\n",
    "        soup = BeautifulSoup(driver.page_source, 'html.parser')\r\n",
    "        table_innerHTML = soup.select(table_position)[table_position2]\r\n",
    "        tgt = pd.read_html(str(table_innerHTML), encoding='utf-8')[0]\r\n",
    "        # tgt['圖書館'], tgt['連結'] = org, driver.current_url\r\n",
    "    except:\r\n",
    "        return\r\n",
    "    else:\r\n",
    "        return tgt"
   ],
   "outputs": [],
   "metadata": {}
  },
  {
   "cell_type": "markdown",
   "source": [
    "## select_ISBN_strategy(select_position, option_position, waiting_time=30)\n",
    "- 用法：\n",
    "    - 等待 select 出現，並選擇以 ISBN 方式搜尋\n",
    "- 參數：\n",
    "    - select_position：select 位置，預設 name\n",
    "    - option_position：option 位置，預設 value\n",
    "    - waiting_time：等待時間，預設 30 秒"
   ],
   "metadata": {}
  },
  {
   "cell_type": "code",
   "execution_count": 9,
   "source": [
    "def select_ISBN_strategy(select_position, option_position, waiting_time=30):\r\n",
    "    time.sleep(0.5)\r\n",
    "    search_field = WebDriverWait(driver, waiting_time).until(EC.presence_of_element_located((By.NAME, select_position)))\r\n",
    "    select = Select(search_field)\r\n",
    "    select.select_by_value(option_position)"
   ],
   "outputs": [],
   "metadata": {}
  },
  {
   "cell_type": "markdown",
   "source": [
    "## search_ISBN(ISBN, input_position, waiting_time=10)\n",
    "- 用法：\n",
    "    - 等待 input 出現，輸入 ISBN 並按下 ENTER\n",
    "- 參數：\n",
    "    - ISBN：ISBN\n",
    "    - input_position：input 位置，預設 name\n",
    "    - waiting_time：等待時間，預設 10 秒"
   ],
   "metadata": {}
  },
  {
   "cell_type": "code",
   "execution_count": 10,
   "source": [
    "def search_ISBN(ISBN, input_position, waiting_time=10):\r\n",
    "    time.sleep(0.5)\r\n",
    "    search_input = WebDriverWait(driver, waiting_time).until(EC.presence_of_element_located((By.NAME, input_position)))\r\n",
    "    search_input.send_keys(ISBN)\r\n",
    "    search_input.send_keys(Keys.ENTER)"
   ],
   "outputs": [],
   "metadata": {}
  },
  {
   "cell_type": "markdown",
   "source": [
    "# 爬蟲程式"
   ],
   "metadata": {}
  },
  {
   "cell_type": "markdown",
   "source": [
    "## 宜蘭縣公共圖書館(org, org_url, ISBN)\n",
    "- 最後更新：7/27\n",
    "- 『函式完成度』：極高"
   ],
   "metadata": {}
  },
  {
   "cell_type": "markdown",
   "source": [
    "### 函式說明\n",
    "\n",
    "- 『運作的原理』：\n",
    "- 『適用的機構』：[宜蘭縣公共圖書館](https://webpac.ilccb.gov.tw/advanceSearch)、[桃園市立圖書館](https://webpac.typl.gov.tw/advanceSearch)、[高雄市立圖書館](https://webpacx.ksml.edu.tw/advanceSearch)、[屏東縣公共圖書館](https://library.pthg.gov.tw/advanceSearch)、[花蓮縣公共圖書館](https://center.hccc.gov.tw/advanceSearch)、[澎湖縣圖書館](https://webpac.phlib.nat.gov.tw/advanceSearch)、[國立雲林科技大學](https://www.libwebpac.yuntech.edu.tw/advanceSearch)、[國家電影及視聽文化中心](https://lib.tfi.org.tw/advanceSearch)\n",
    "- 『能處理狀況』：判斷搜尋結果有沒有超過一筆、只有一筆搜尋結果有沒有跳轉、[多筆](https://webpac.typl.gov.tw/search?searchField=ISBN&searchInput=986729193X)、找不到書、[不斷的點擊＂載入更多＂](https://webpac.ilccb.gov.tw/bookDetail/419482?qs=%7B%5Eurl3%2C%2Fsearch4%2Cquery%5E%3A%7B%5Ephonetic3%2C04%2CqueryType3%2C04%2C%2Cs23%2CISBN4%2C%2Cs13%2C9789573317241%5E%7D%7D)\n",
    "- 『下一步優化』："
   ],
   "metadata": {}
  },
  {
   "cell_type": "markdown",
   "source": [
    "### 函式本體"
   ],
   "metadata": {}
  },
  {
   "cell_type": "code",
   "execution_count": 15,
   "source": [
    "def click_more_btn(driver):\r\n",
    "    try:\r\n",
    "        while True:\r\n",
    "            more_btn = wait_for_element_present('載入更多', by=By.PARTIAL_LINK_TEXT)\r\n",
    "            if not more_btn:\r\n",
    "                return\r\n",
    "            more_btn.click()\r\n",
    "            time.sleep(2)  # 不得已的強制等待\r\n",
    "    except:\r\n",
    "        return"
   ],
   "outputs": [],
   "metadata": {}
  },
  {
   "cell_type": "code",
   "execution_count": 16,
   "source": [
    "def 宜蘭縣公共圖書館(org, org_url, ISBN):\r\n",
    "    try:\r\n",
    "        table = []\r\n",
    "\r\n",
    "        driver.get(org_url)\r\n",
    "        select_ISBN_strategy('searchField', 'ISBN')\r\n",
    "        search_ISBN(ISBN, 'searchInput')\r\n",
    "\r\n",
    "        # 一筆\r\n",
    "        if wait_for_element_present('.bookplace_list > table', 10):\r\n",
    "            click_more_btn(driver)\r\n",
    "            tgt = accurately_find_table_and_read_it('.bookplace_list > table')\r\n",
    "            tgt['圖書館'], tgt['連結'] = org, driver.current_url\r\n",
    "            table.append(tgt)\r\n",
    "        # 多筆\r\n",
    "        elif wait_for_element_present('.data_all .data_quantity2 em', 5):\r\n",
    "            tgt_urls = []\r\n",
    "            soup = BeautifulSoup(driver.page_source, 'html.parser')\r\n",
    "            anchors = soup.select('.bookdata > h2 > a')\r\n",
    "            for anchor in anchors:\r\n",
    "                tgt_urls.append(org_url.replace('advanceSearch', '') + anchor['href'])\r\n",
    "            for tgt_url in tgt_urls:\r\n",
    "                driver.get(tgt_url)\r\n",
    "                if wait_for_element_present('.bookplace_list > table', 10):\r\n",
    "                    click_more_btn(driver)\r\n",
    "                    tgt = accurately_find_table_and_read_it('.bookplace_list > table')\r\n",
    "                    tgt['圖書館'], tgt['連結'] = org, driver.current_url\r\n",
    "                    table.append(tgt)\r\n",
    "        # 無\r\n",
    "        else:\r\n",
    "            print(f'在「{org}」找不到「{ISBN}」')\r\n",
    "            return\r\n",
    "\r\n",
    "        table = organize_columns(table)\r\n",
    "    except Exception as e:\r\n",
    "        print(e)\r\n",
    "        return\r\n",
    "    else:\r\n",
    "        return table"
   ],
   "outputs": [],
   "metadata": {}
  },
  {
   "cell_type": "markdown",
   "source": [
    "### 函式測試"
   ],
   "metadata": {}
  },
  {
   "cell_type": "code",
   "execution_count": null,
   "source": [
    "if __name__ == '__main__':\n",
    "    driver = webdriver.Chrome(options=my_options, desired_capabilities=my_capabilities)\n",
    "    table = 宜蘭縣公共圖書館(\n",
    "        org='宜蘭縣公共圖書館',\n",
    "        org_url='https://webpac.ilccb.gov.tw/advanceSearch',\n",
    "        ISBN='9789869109321'\n",
    "    )\n",
    "table"
   ],
   "outputs": [],
   "metadata": {
    "scrolled": true
   }
  },
  {
   "cell_type": "markdown",
   "source": [
    "## webpac_jsp_crawler(org, org_url, ISBN)\n",
    "- 『函式完成度』：極高"
   ],
   "metadata": {}
  },
  {
   "cell_type": "markdown",
   "source": [
    "### 函式說明\n",
    "- 『運作的原理』：\n",
    "    - 使用 selenium 進行搜索。\n",
    "    - 大量使用 wait 機制，來應對加載過慢的網頁（例：[佛光大學](http://libils.fgu.edu.tw/webpacIndex.jsp)）\n",
    "    - 當搜尋結果只有一筆時，有些網站會直接進入＂詳細書目＂（例：[國立宜蘭大學](https://lib.niu.edu.tw/webpacIndex.jsp)）\n",
    "        - 還是會停留在＂搜尋結果＂頁面，但大部分會看不到，網址仍會改變，所以無法用網址判定\n",
    "    - 當搜尋結果有多筆時，會要切換到 iframe 爬取。\n",
    "    - 有些＂詳細書目＂會有沒有表格的情況（例：[中華科大](http://192.192.231.232/bookDetail.do?id=260965&nowid=3&resid=188809854)）\n",
    "- 『適用的機構』：國立宜蘭大學、佛光大學、嘉南藥理大學、……\n",
    "- 『能處理狀況』：[一筆](http://webpac.meiho.edu.tw/bookDetail.do?id=194508)、[無](http://webpac.meiho.edu.tw/bookSearchList.do?searchtype=simplesearch&search_field=ISBN&search_input=97895733172411&searchsymbol=hyLibCore.webpac.search.common_symbol&execodehidden=true&execode=&ebook=)、[多筆](http://webpac.meiho.edu.tw/bookSearchList.do?searchtype=simplesearch&execodeHidden=true&execode=&search_field=ISBN&search_input=9789573317241&searchsymbol=hyLibCore.webpac.search.common_symbol&resid=189006169&nowpage=1#searchtype=simplesearch&execodeHidden=true&execode=&search_field=ISBN&search_input=9789573317241&searchsymbol=hyLibCore.webpac.search.common_symbol&resid=189006169&nowpage=1)、[無表格](http://192.192.231.232/bookDetail.do?id=260965&nowid=3&resid=188809854)\n",
    "- 『下一步優化』：\n",
    "    - 統一 search_input.submit() 和 search_input.send_keys(Keys.ENTER)？"
   ],
   "metadata": {}
  },
  {
   "cell_type": "markdown",
   "source": [
    "### 函式本體"
   ],
   "metadata": {}
  },
  {
   "cell_type": "code",
   "execution_count": 13,
   "source": [
    "def webpac_jsp_crawler(org, org_url, ISBN):\n",
    "    try:\n",
    "        table = []\n",
    "        \n",
    "        driver.get(org_url)\n",
    "        select_ISBN_strategy('search_field', 'ISBN')  # select.select_by_value('STANDARDNO') -> 北科\n",
    "        search_ISBN(ISBN, 'search_input')\n",
    "        \n",
    "        # 搜尋結果的數量為＂一筆＂\n",
    "        if wait_for_element_present('div.mainCon'):\n",
    "            if not wait_for_element_present('table.order'):\n",
    "                return\n",
    "            tgt = accurately_find_table_and_read_it('table.order')\n",
    "            table.append(tgt)\n",
    "        # 搜尋結果的數量為＂多筆＂和＂零筆＂\n",
    "        elif wait_for_element_present('iframe#leftFrame'):\n",
    "            iframe = driver.find_element_by_id('leftFrame')\n",
    "            driver.switch_to.frame(iframe)\n",
    "            # 切換到 <frame> 需要時間，否則會無法讀取\n",
    "            time.sleep(1)\n",
    "            # 解析 html，以取得 tgt_urls\n",
    "            soup = BeautifulSoup(driver.page_source, 'html.parser')\n",
    "            # 判斷是不是＂零筆＂\n",
    "            if soup.find('em', {'id': 'totalpage'}).text == '0':\n",
    "                print(f'您所輸入的 ISBN 碼：{ISBN}，共查得 0 筆。')\n",
    "                return\n",
    "            anchors = soup.find_all('a', 'bookname')\n",
    "            # tgt_urls 為各個＂詳細書目＂的網址\n",
    "            tgt_urls = []\n",
    "            for anchor in anchors:\n",
    "                tgt_urls.append(org_url.replace('webpacIndex.jsp', '') + anchor['href'])\n",
    "            # 取得 tgt_urls 後，開始進入 tgt_url\n",
    "            for tgt_url in tgt_urls:\n",
    "                # 進入＂詳細書目＂\n",
    "                driver.get(tgt_url)\n",
    "                # 等待元素出現，如果出現，那麼抓取 DataFrame；如果沒出現，那麼跳出迴圈\n",
    "                if not wait_for_element_present('table.order'):\n",
    "                    continue  # 暫停＂本次＂迴圈，以下敘述不會執行\n",
    "                tgt = accurately_find_table_and_read_it('div.allDetail table.order')\n",
    "                table.append(tgt)\n",
    "        table = organize_columns(table)\n",
    "    except Exception as e:\n",
    "        print(e)\n",
    "        return\n",
    "    else:\n",
    "        return table"
   ],
   "outputs": [],
   "metadata": {
    "code_folding": []
   }
  },
  {
   "cell_type": "markdown",
   "source": [
    "### 函式測試"
   ],
   "metadata": {}
  },
  {
   "cell_type": "code",
   "execution_count": 14,
   "source": [
    "if __name__ == '__main__':\n",
    "    driver = webdriver.Chrome(options=my_options, desired_capabilities=my_capabilities)\n",
    "    table = webpac_jsp_crawler(\n",
    "        org='美和科技大學',\n",
    "        org_url='http://192.192.231.232/webpacIndex.jsp',\n",
    "        ISBN='9573317249'\n",
    "    )\n",
    "table"
   ],
   "outputs": [
    {
     "output_type": "stream",
     "name": "stdout",
     "text": [
      "'圖書館'\n"
     ]
    }
   ],
   "metadata": {}
  },
  {
   "cell_type": "markdown",
   "source": [
    "## easy_crawler(table_position, org, org_url, ISBN)\n",
    "- 『函式完成度』：高"
   ],
   "metadata": {
    "heading_collapsed": true
   }
  },
  {
   "cell_type": "markdown",
   "source": [
    "### 函式說明\n",
    "- 『運作的原理』：直接進入＂詳細書目＂頁面後，使用 pd.read_html 抓取 table，但每個機構的 table 位置不同，需要在 function 將此當作一個 parameter。\n",
    "- 『適用的機構』：國立臺灣海洋大學、國立臺灣師範大學、中央研究院、國立陽明大學、國立中央大學、中原大學、國立臺灣科技大學、中國文化大學、輔仁大學\n",
    "- 『能處理狀況』：HTTPError\n",
    "- 『下一步優化』：師大查詢結果有多本（https://opac.lib.ntnu.edu.tw/search*cht/i?SEARCH=9789573229131 ）"
   ],
   "metadata": {
    "hidden": true
   }
  },
  {
   "cell_type": "markdown",
   "source": [
    "### 函式本體"
   ],
   "metadata": {
    "hidden": true
   }
  },
  {
   "cell_type": "code",
   "execution_count": null,
   "source": [
    "def easy_crawler(table_position, org, org_url, ISBN):\n",
    "    try:\n",
    "        # 組合成書本的網址\n",
    "        tgt_url = org_url + ISBN\n",
    "        # 載入 html，如果發生 HTTPError，那麼就使用 requests.get(url, verify=False)\n",
    "        try:\n",
    "            tgt = pd.read_html(tgt_url, encoding=\"utf-8\")\n",
    "        except HTTPError:\n",
    "            resp = requests.get(tgt_url,\n",
    "                                verify=False)  # 設定 verify=False，以解決 SSLError\n",
    "            tgt = pd.read_html(resp.text, encoding=\"utf-8\")\n",
    "        # 定位表格\n",
    "        table = tgt[table_position]\n",
    "        table['圖書館'], table['連結'] = org, tgt_url\n",
    "        table = organize_columns(table)\n",
    "        return table  # 完成抓取 table\n",
    "    except:\n",
    "        print(f'《{ISBN}》在「{url}」無法爬取')"
   ],
   "outputs": [],
   "metadata": {
    "code_folding": [],
    "hidden": true
   }
  },
  {
   "cell_type": "markdown",
   "source": [
    "### 函式測試"
   ],
   "metadata": {
    "hidden": true
   }
  },
  {
   "cell_type": "code",
   "execution_count": null,
   "source": [
    "if __name__ == '__main__':\n",
    "    table = easy_crawler(\n",
    "        table_position=4,\n",
    "        org='國立臺灣師範大學',\n",
    "        org_url='https://opac.lib.ntnu.edu.tw/search*cht/i?SEARCH=',\n",
    "        ISBN='9789869109321'\n",
    "    )\n",
    "table"
   ],
   "outputs": [],
   "metadata": {
    "hidden": true
   }
  },
  {
   "cell_type": "code",
   "execution_count": null,
   "source": [],
   "outputs": [],
   "metadata": {
    "hidden": true
   }
  },
  {
   "cell_type": "code",
   "execution_count": null,
   "source": [],
   "outputs": [],
   "metadata": {
    "hidden": true
   }
  },
  {
   "cell_type": "markdown",
   "source": [
    "## 國立臺灣師範大學(org, org_url, ISBN)\n",
    "- 最後編輯：2021/07/24\n",
    "- 『函式完成度』：極高"
   ],
   "metadata": {}
  },
  {
   "cell_type": "markdown",
   "source": [
    "### 函式說明\n",
    "- 『運作的原理』：待輸入\n",
    "- 『適用的機構』：[國立臺灣師範大學](https://opac.lib.ntnu.edu.tw/screens/opacmenu_chi.html)、[國立臺灣科技大學](https://sierra.lib.ntust.edu.tw/search~S1*cht)、[國立臺灣海洋大學](https://ocean.ntou.edu.tw/*cht)、[中原大學](http://cylis.lib.cycu.edu.tw/search*cht)、[逢甲大學](https://innopac.lib.fcu.edu.tw/search*cht)、[朝陽科技大學](https://millennium.lib.cyut.edu.tw/search*cht)、[國立中山大學](https://dec.lib.nsysu.edu.tw/search*cht)、[國立高雄師範大學](https://nknulib.nknu.edu.tw/search*cht)、[文藻外語大學](https://libpac.wzu.edu.tw/search*cht)、[大仁科技大學](http://lib.tajen.edu.tw/search*cht)\n",
    "- 『能處理狀況』：一筆、無\n",
    "- 『下一步優化』：\n",
    "    - 待輸入\n",
    "    - 待輸入"
   ],
   "metadata": {}
  },
  {
   "cell_type": "code",
   "execution_count": null,
   "source": [
    "def 國立臺灣師範大學(org, org_url, ISBN):\n",
    "    driver.get(org_url)\n",
    "    \n",
    "    if not wait_for_element_clickable('ISBN', by=By.PARTIAL_LINK_TEXT):\n",
    "        print('定位不到 ISBN（PARTIAL_LINK_TEXT）')\n",
    "        return\n",
    "    driver.find_element(By.PARTIAL_LINK_TEXT, 'ISBN').click()\n",
    "    \n",
    "    search_ISBN(ISBN, 'SEARCH')\n",
    "    \n",
    "    if not wait_for_element_present('table.bibItems'):\n",
    "        print(f'在「{org}」找不到「{ISBN}」')\n",
    "        return\n",
    "    \n",
    "    table = accurately_find_table_and_read_it('table.bibItems')\n",
    "    table['圖書館'], table['連結'] = org, driver.current_url\n",
    "    table = organize_columns(table)\n",
    "    return table"
   ],
   "outputs": [],
   "metadata": {}
  },
  {
   "cell_type": "code",
   "execution_count": null,
   "source": [
    "if __name__ == '__main__':\n",
    "    driver = webdriver.Chrome(options=my_options, desired_capabilities=my_capabilities)\n",
    "    table = 國立臺灣師範大學(\n",
    "        org='逢甲大學',\n",
    "        org_url='https://innopac.lib.fcu.edu.tw/search*cht',\n",
    "        ISBN='9789868879348'  # 國家為什麼會失敗\n",
    "    )"
   ],
   "outputs": [],
   "metadata": {
    "scrolled": true
   }
  },
  {
   "cell_type": "markdown",
   "source": [
    "## 中央研究院(org, org_url, ISBN)\n",
    "- 最後編輯：2021/07/24\n",
    "- 『函式完成度』：極高"
   ],
   "metadata": {
    "heading_collapsed": true
   }
  },
  {
   "cell_type": "markdown",
   "source": [
    "### 函式說明\n",
    "- 『運作的原理』：待輸入\n",
    "- 『適用的機構』：[中央研究院](https://las.sinica.edu.tw/*cht)、[中國文化大學](https://webpac.pccu.edu.tw/*cht)、[輔仁大學](https://library.lib.fju.edu.tw:444/)、[國立陽明交通大學](https://library.ym.edu.tw/screens/opacmenu_cht_s7.html)、國立中央大學\n",
    "- 『能處理狀況』：一筆、無\n",
    "- 『下一步優化』：\n",
    "    - 待輸入\n",
    "    - 待輸入"
   ],
   "metadata": {
    "hidden": true
   }
  },
  {
   "cell_type": "code",
   "execution_count": null,
   "source": [
    "def 中央研究院(org, org_url, ISBN):\n",
    "    driver.get(org_url)\n",
    "    \n",
    "    select_ISBN_strategy('searchtype', 'i')\n",
    "    \n",
    "    search_ISBN(ISBN, 'searcharg')\n",
    "\n",
    "    if not wait_for_element_present('table.bibItems'):\n",
    "        print(f'在「{org}」找不到「{ISBN}」')\n",
    "        return\n",
    "\n",
    "    table = accurately_find_table_and_read_it('table.bibItems')\n",
    "    table['圖書館'], table['連結'] = org, driver.current_url\n",
    "    table = organize_columns(table)\n",
    "    return table"
   ],
   "outputs": [],
   "metadata": {
    "hidden": true
   }
  },
  {
   "cell_type": "code",
   "execution_count": null,
   "source": [
    "driver = webdriver.Chrome(options=my_options, desired_capabilities=my_capabilities)"
   ],
   "outputs": [],
   "metadata": {
    "hidden": true
   }
  },
  {
   "cell_type": "code",
   "execution_count": null,
   "source": [
    "中央研究院('國立臺灣師範大學', 'https://www.lib.ntnu.edu.tw/mobile/holding/index.jsp', '9789869109321')"
   ],
   "outputs": [],
   "metadata": {
    "hidden": true
   }
  },
  {
   "cell_type": "code",
   "execution_count": null,
   "source": [],
   "outputs": [],
   "metadata": {
    "hidden": true
   }
  },
  {
   "cell_type": "code",
   "execution_count": null,
   "source": [],
   "outputs": [],
   "metadata": {
    "hidden": true
   }
  },
  {
   "cell_type": "code",
   "execution_count": null,
   "source": [],
   "outputs": [],
   "metadata": {
    "hidden": true
   }
  },
  {
   "cell_type": "markdown",
   "source": [
    "## webpac_ajax_page_crawler(org, org_url, ISBN)\n",
    "- 『函式完成度』：極高"
   ],
   "metadata": {}
  },
  {
   "cell_type": "markdown",
   "source": [
    "### 函式說明\n",
    "- 『運作的原理』：使用 selenium 進行搜索，進入＂詳細書目＂頁面後，從該網址分析並得到 mid，在由此進入 ajax_page。\n",
    "- 『適用的機構』：新北市立圖書館、高雄市立空中大學、國立屏東大學\n",
    "- 『能處理狀況』：判斷搜尋結果有沒有超過一筆、只有一筆搜尋結果有沒有跳轉、找不到書\n",
    "- 『下一步優化』：當搜尋無結果時，可以直接結束。"
   ],
   "metadata": {}
  },
  {
   "cell_type": "markdown",
   "source": [
    "### 函式本體"
   ],
   "metadata": {}
  },
  {
   "cell_type": "code",
   "execution_count": null,
   "source": [
    "def webpac_ajax_page_crawler(org, org_url, ISBN):\n",
    "    try:\n",
    "        # 進入＂搜尋主頁＂\n",
    "        driver.get(org_url)\n",
    "        # 等待點擊＂進階查詢＂按鈕，接著點擊\n",
    "        WebDriverWait(driver, 30).until(\n",
    "            EC.element_to_be_clickable((By.LINK_TEXT, '進階查詢'))).click()\n",
    "        # 等待定位＂下拉式選單＂，選擇以 ISBN 方式搜尋\n",
    "        search_field = WebDriverWait(driver, 10).until(\n",
    "            EC.presence_of_element_located((By.ID, 'as_type_1')))\n",
    "        select = Select(search_field)\n",
    "        select.select_by_value('i')\n",
    "        # 定位＂搜尋欄＂，輸入 ISBN\n",
    "        search_input = driver.find_element_by_id('as_keyword_1')\n",
    "        search_input.send_keys(ISBN)\n",
    "        search_input.send_keys(\n",
    "            Keys.ENTER)  # 無法 submit()，用 send_keys(keys.ENTER) 來替代\n",
    "\n",
    "        # 在＂搜尋結果頁面＂，等待定位＂詳細書目＂。\n",
    "        # try-except 來判斷有沒有在＂搜尋結果頁面＂\n",
    "        try:\n",
    "            WebDriverWait(driver, 10).until(\n",
    "                EC.presence_of_element_located((By.LINK_TEXT, '詳細書目')))\n",
    "        except:\n",
    "            try:\n",
    "                WebDriverWait(driver, 10).until(\n",
    "                    EC.presence_of_element_located(\n",
    "                        (By.CSS_SELECTOR, 'div.book-detail')))\n",
    "\n",
    "                # 抓取方式：找出 mid 後，進入 ajax pag 抓取 DataFrame\n",
    "                org_url = org_url.replace('/search.cfm', '')\n",
    "                tgts = []\n",
    "                url = driver.current_url\n",
    "                mid = url.split('mid=')[-1].split('&')[0]\n",
    "                ajax_page_url = f'{org_url}/ajax_page/get_content_area.cfm?mid={mid}&i_list_number=250&i_page=1&i_sory_by=1'\n",
    "                tgt = pd.read_html(ajax_page_url, encoding='utf-8')[0]\n",
    "                tgt['圖書館'], tgt['連結'] = org, url\n",
    "                tgts.append(tgt)\n",
    "                table = pd.concat(tgts, axis=0, ignore_index=True)\n",
    "                table = organize_columns(table)\n",
    "                return table  # 完成抓取 table\n",
    "            except:  # 沒有搜尋結果，也沒有進入＂詳細書目頁面＂\n",
    "                print(f'《{ISBN}》查無此書')\n",
    "                return  # 什麼都不做，退出此 function\n",
    "\n",
    "        # 抓取多個＂詳細書目＂的網址\n",
    "        anchors = driver.find_elements_by_link_text('詳細書目')\n",
    "        urls = []\n",
    "        for anchor in anchors:\n",
    "            urls.append(anchor.get_attribute('href'))\n",
    "\n",
    "        # 抓取方式：找出 mid 後，進入 ajax pag 抓取 DataFrame\n",
    "        org_url = org_url.replace('/search.cfm', '')\n",
    "        tgts = []\n",
    "        for url in urls:\n",
    "            mid = url.split('mid=')[-1].split('&')[0]  # 抓取 mid\n",
    "            ajax_page_url = f'{org_url}/ajax_page/get_content_area.cfm?mid={mid}&i_list_number=250&i_page=1&i_sory_by=1'\n",
    "            tgt = pd.read_html(ajax_page_url, encoding='utf-8')[0]\n",
    "            tgt['圖書館'], tgt['連結'] = org, url\n",
    "            tgts.append(tgt)\n",
    "        table = organize_columns(table)\n",
    "        return table  # 完成抓取 table\n",
    "    except:\n",
    "        print(f'《{ISBN}》在「{url}」無法爬取')"
   ],
   "outputs": [],
   "metadata": {
    "code_folding": []
   }
  },
  {
   "cell_type": "markdown",
   "source": [
    "### 函式測試"
   ],
   "metadata": {}
  },
  {
   "cell_type": "code",
   "execution_count": null,
   "source": [
    "if __name__ == '__main__':\n",
    "    driver = webdriver.Chrome(options=my_options, desired_capabilities=my_capabilities)\n",
    "    table = webpac_ajax_page_crawler(\n",
    "        org='新北市立圖書館',\n",
    "        org_url='https://webpac.tphcc.gov.tw/webpac/search.cfm',\n",
    "        ISBN='9789869109321'\n",
    "    )\n",
    "    table = webpac_ajax_page_crawler(\n",
    "        org='高雄市立空中大學',\n",
    "        org_url='https://webpac.ouk.edu.tw/webpac/search.cfm',\n",
    "        ISBN='9789869109321'\n",
    "    )\n",
    "    table = webpac_ajax_page_crawler(\n",
    "        org='國立屏東大學',\n",
    "        org_url='https://webpac.nptu.edu.tw/webpac/search.cfm',\n",
    "        ISBN='9789869109321'\n",
    "    )"
   ],
   "outputs": [],
   "metadata": {}
  },
  {
   "cell_type": "markdown",
   "source": [
    "## 基隆市公共圖書館(org, org_url, ISBN)\n",
    "- 『函式完成度』：中"
   ],
   "metadata": {}
  },
  {
   "cell_type": "markdown",
   "source": [
    "### 函式說明\n",
    "- 『運作的原理』：使用 Selenium\n",
    "- 『適用的機構』：[基隆市公共圖書館](https://webpac.klccab.gov.tw/webpac/search.cfm)\n",
    "- 『能處理狀況』：一筆、無\n",
    "- 『下一步優化』：\n",
    "    - 網站載入過慢，且 wait 方式不適用於此，只能使用大量的 time.sleep()"
   ],
   "metadata": {}
  },
  {
   "cell_type": "markdown",
   "source": [
    "### 函式本體"
   ],
   "metadata": {}
  },
  {
   "cell_type": "code",
   "execution_count": null,
   "source": [
    "def 基隆市公共圖書館(org, org_url, ISBN):\n",
    "    try:\n",
    "        # 進入＂搜尋主頁＂\n",
    "        driver.get(org_url)\n",
    "        # 等待點擊＂進階查詢＂按鈕，接著點擊\n",
    "        WebDriverWait(driver, 30).until(EC.element_to_be_clickable((By.LINK_TEXT, '進階檢索'))).click()\n",
    "        time.sleep(2)  # JavaScript 動畫，強制等待\n",
    "        # 等待定位＂下拉式選單＂，選擇以 ISBN 方式搜尋\n",
    "        search_field = WebDriverWait(driver, 10).until(EC.presence_of_element_located((By.ID, 'as_type_1')))\n",
    "        select = Select(search_field)\n",
    "        select.select_by_value('i')\n",
    "        # 定位＂搜尋欄＂，輸入 ISBN\n",
    "        search_input = driver.find_element_by_id('as_keyword_1')\n",
    "        search_input.send_keys(ISBN)\n",
    "        search_input.send_keys(Keys.ENTER)\n",
    "\n",
    "        time.sleep(8)  # 基隆的系統太詭異了，強制等待\n",
    "        soup = BeautifulSoup(driver.page_source, \"html.parser\")\n",
    "        results = len(soup.find_all(\"div\", \"list_box\"))\n",
    "        if results < 2:\n",
    "            WebDriverWait(driver, 10).until(\n",
    "                EC.presence_of_element_located(\n",
    "                    (By.CSS_SELECTOR, \"table.list.list_border\")))\n",
    "            time.sleep(2)\n",
    "            table = pd.read_html(driver.page_source)[0]\n",
    "        else:\n",
    "            table = []\n",
    "            for li in soup.find_all(\"div\", \"list_box\"):\n",
    "                url_temp = \"https://webpac.klccab.gov.tw/webpac/\" + li.find(\n",
    "                    \"a\", \"btn\")[\"href\"]\n",
    "                driver.get(url_temp)\n",
    "                wait.until(\n",
    "                    EC.presence_of_element_located(\n",
    "                        (By.CSS_SELECTOR, \"table.list.list_border\")))\n",
    "                time.sleep(2)\n",
    "                table.append(\n",
    "                    pd.read_html(driver.page_source, encoding=\"utf-8\")[0])\n",
    "            table = pd.concat(table, axis=0, ignore_index=True)\n",
    "        table['圖書館'], table['連結'] = org, driver.current_url\n",
    "        table = organize_columns(table)\n",
    "        return table\n",
    "    except:\n",
    "        print(f'《{ISBN}》在「{url}」無法爬取')"
   ],
   "outputs": [],
   "metadata": {}
  },
  {
   "cell_type": "markdown",
   "source": [
    "### 函式測試"
   ],
   "metadata": {}
  },
  {
   "cell_type": "code",
   "execution_count": null,
   "source": [
    "if __name__ == '__main__':\n",
    "    driver = webdriver.Chrome(options=my_options, desired_capabilities=my_capabilities)\n",
    "    table = 基隆市公共圖書館(\n",
    "        org='基隆市公共圖書館',\n",
    "        org_url='https://webpac.klccab.gov.tw/webpac/search.cfm',\n",
    "        ISBN='9789869109321'\n",
    "    )"
   ],
   "outputs": [],
   "metadata": {}
  },
  {
   "cell_type": "code",
   "execution_count": null,
   "source": [],
   "outputs": [],
   "metadata": {}
  },
  {
   "cell_type": "code",
   "execution_count": null,
   "source": [],
   "outputs": [],
   "metadata": {}
  },
  {
   "cell_type": "markdown",
   "source": [
    "## 臺北市立圖書館(org, org_url, ISBN)\n",
    "- 『函式完成度』：極高"
   ],
   "metadata": {}
  },
  {
   "cell_type": "markdown",
   "source": [
    "### 函式說明\n",
    "- 『運作的原理』：輸入 ISBN 搜索後，直接進入＂詳細書目＂，並且該頁面有全部的藏書狀況，只要爬一個表格即可。\n",
    "- 『適用的機構』：[臺北市立圖書館](https://book.tpml.edu.tw/webpac/webpacIndex.jsp)\n",
    "- 『能處理狀況』：找不到、一筆\n",
    "- 『下一步優化』：暫無問題"
   ],
   "metadata": {}
  },
  {
   "cell_type": "markdown",
   "source": [
    "### 函式本體"
   ],
   "metadata": {
    "heading_collapsed": true
   }
  },
  {
   "cell_type": "code",
   "execution_count": null,
   "source": [
    "def 臺北市立圖書館(org, org_url, ISBN):\n",
    "    try:\n",
    "        # 進入＂搜尋主頁＂\n",
    "        driver.get(org_url)\n",
    "        # 等待定位＂下拉式選單＂，選擇以 ISBN 方式搜尋\n",
    "        search_field = WebDriverWait(driver, 30).until(\n",
    "            EC.presence_of_element_located((By.NAME, 'search_field')))\n",
    "        select = Select(search_field)\n",
    "        select.select_by_value('ISBN')\n",
    "        # 定位＂搜尋欄＂，輸入 ISBN\n",
    "        search_input = driver.find_element_by_name('search_input')\n",
    "        search_input.send_keys(ISBN)\n",
    "        search_input.submit()\n",
    "\n",
    "        # 等待＜表格＞出現\n",
    "        WebDriverWait(driver, 30).until(EC.presence_of_element_located(\n",
    "            (By.CSS_SELECTOR, 'table.order')))\n",
    "\n",
    "        # 取得當前網頁的 html 進行解析，以取得 DataFrame\n",
    "        tgt = pd.read_html(driver.page_source, encoding=\"utf-8\")\n",
    "        table = tgt[-3]\n",
    "        table['圖書館'], table['連結'] = org, driver.current_url\n",
    "        table = organize_columns(table)\n",
    "        return table\n",
    "    except:\n",
    "        print(f'《{ISBN}》在「{org_url}」無法爬取')"
   ],
   "outputs": [],
   "metadata": {
    "hidden": true
   }
  },
  {
   "cell_type": "markdown",
   "source": [
    "### 函式測試"
   ],
   "metadata": {}
  },
  {
   "cell_type": "code",
   "execution_count": null,
   "source": [
    "if __name__ == '__main__':\n",
    "    driver = webdriver.Chrome(options=my_options, desired_capabilities=my_capabilities)\n",
    "    table = 臺北市立圖書館(\n",
    "        org='臺北市立圖書館',\n",
    "        org_url='https://book.tpml.edu.tw/webpac/webpacIndex.jsp',\n",
    "        ISBN='9789869109321'\n",
    "    )"
   ],
   "outputs": [],
   "metadata": {}
  },
  {
   "cell_type": "markdown",
   "source": [
    "## 國家圖書館(org, org_url, ISBN)\n",
    "- 『函式完成度』：極高"
   ],
   "metadata": {}
  },
  {
   "cell_type": "markdown",
   "source": [
    "### 函式說明\n",
    "- 『運作的原理』：使用 Selenium\n",
    "- 『適用的機構』：[國家圖書館](https://aleweb.ncl.edu.tw/F)\n",
    "- 『能處理狀況』：找不到、一筆\n",
    "- 『下一步優化』：\n",
    "    - 目前尚未遇到多筆情況\n",
    "    - 不知道可以和什麼機構的系統合併在一起？"
   ],
   "metadata": {}
  },
  {
   "cell_type": "markdown",
   "source": [
    "### 函式本體"
   ],
   "metadata": {}
  },
  {
   "cell_type": "code",
   "execution_count": null,
   "source": [
    "def 國家圖書館(org, org_url, ISBN):\n",
    "    try:\n",
    "        driver.get(org_url)\n",
    "        select_ISBN_strategy('find_code', 'ISBN')\n",
    "        search_ISBN(ISBN, 'request')\n",
    "        \n",
    "        # 點擊＂書在哪裡(請點選)＂，進入＂詳細書目＂\n",
    "        tgt_url = WebDriverWait(driver, 10).until(\n",
    "            EC.presence_of_element_located((By.LINK_TEXT, '書在哪裡(請點選)'))).get_attribute('href')\n",
    "        driver.get(tgt_url)\n",
    "        # 定位＂表格＂，爬取內容\n",
    "        accurately_find_table_and_read_it('')\n",
    "        \n",
    "        table = pd.read_html(driver.page_source)[-2]\n",
    "        table['圖書館'], table['連結'] = org, tgt_url\n",
    "        table = organize_columns(table)\n",
    "        return table\n",
    "    except:\n",
    "        print(f'《{ISBN}》在「{org_url}」無法爬取')"
   ],
   "outputs": [],
   "metadata": {}
  },
  {
   "cell_type": "markdown",
   "source": [
    "### 函式測試"
   ],
   "metadata": {}
  },
  {
   "cell_type": "code",
   "execution_count": null,
   "source": [
    "if __name__ == '__main__':\n",
    "    driver = webdriver.Chrome(options=my_options, desired_capabilities=my_capabilities)\n",
    "    table = 國家圖書館(\n",
    "        org='國家圖書館',\n",
    "        org_url='https://aleweb.ncl.edu.tw/F',\n",
    "        ISBN='9789869109321'\n",
    "    )"
   ],
   "outputs": [],
   "metadata": {
    "scrolled": true
   }
  },
  {
   "cell_type": "code",
   "execution_count": null,
   "source": [],
   "outputs": [],
   "metadata": {}
  },
  {
   "cell_type": "code",
   "execution_count": null,
   "source": [],
   "outputs": [],
   "metadata": {}
  },
  {
   "cell_type": "markdown",
   "source": [
    "## 彰化縣公共圖書館(org, org_url, ISBN) 進行中\n",
    "- 『函式完成度』：高"
   ],
   "metadata": {
    "heading_collapsed": true
   }
  },
  {
   "cell_type": "markdown",
   "source": [
    "### 函式說明\n",
    "- 『運作的原理』：待輸入\n",
    "- 『適用的機構』：彰化縣圖書館\n",
    "- 『能處理狀況』：一筆、無、多筆、（翻頁\n",
    "- 『下一步優化』：\n",
    "    - [翻頁](https://library.toread.bocach.gov.tw/toread/opac/bibliographic_view?NewBookMode=false&id=341724&mps=10&q=986729193X+OR+9789867291936&start=0&view=CONTENT)\n",
    "    - 待輸入"
   ],
   "metadata": {
    "hidden": true
   }
  },
  {
   "cell_type": "markdown",
   "source": [
    "### 函式本體"
   ],
   "metadata": {
    "hidden": true
   }
  },
  {
   "cell_type": "code",
   "execution_count": null,
   "source": [
    "def 彰化縣公共圖書館(org, org_url, ISBN):\n",
    "    table = []\n",
    "    tgt_urls = []\n",
    "    \n",
    "    driver.get(org_url)\n",
    "    search_ISBN(ISBN, 'q')\n",
    "    \n",
    "    if not wait_for_element_present('div#results'):\n",
    "        print(f'在{org}裡，沒有《{ISBN}》')\n",
    "        return\n",
    "    \n",
    "    # 有 div#results，接著分析 html，找出所有的＂詳細書目＂的網址\n",
    "    soup = BeautifulSoup(driver.page_source, 'html.parser')\n",
    "    ul = soup.select('div#results > ul')[0]\n",
    "    for li in ul.select('li.is_img'):\n",
    "        tgt_urls.append(org_url + li.a['href'])\n",
    "    # for 迴圈，進入所有的＂詳細書目＂的網址\n",
    "    for tgt_url in tgt_urls:\n",
    "        driver.get(tgt_url)\n",
    "        tgt = accurately_find_table_and_read_it('table.gridTable')\n",
    "        \n",
    "        # 以下兩行，是＂彰化縣公共圖書館＂有多餘的 row，須要特別篩選調 NaN\n",
    "        filtered_tgt = tgt.dropna(subset=['典藏地名稱'])\n",
    "        filtered_tgt.reset_index(drop=True, inplace=True)\n",
    "        \n",
    "        table.append(filtered_tgt)\n",
    "    table = organize_columns(table)\n",
    "    return table"
   ],
   "outputs": [],
   "metadata": {
    "hidden": true,
    "scrolled": false
   }
  },
  {
   "cell_type": "markdown",
   "source": [
    "### 函式測試"
   ],
   "metadata": {
    "hidden": true
   }
  },
  {
   "cell_type": "code",
   "execution_count": null,
   "source": [
    "if __name__ == '__main__':\n",
    "    driver = webdriver.Chrome(options=my_options, desired_capabilities=my_capabilities)\n",
    "    table = 彰化縣公共圖書館(\n",
    "        org='彰化縣公共圖書館',\n",
    "        org_url='https://library.toread.bocach.gov.tw',\n",
    "        ISBN='986729193X'\n",
    "    )"
   ],
   "outputs": [],
   "metadata": {
    "hidden": true
   }
  },
  {
   "cell_type": "code",
   "execution_count": null,
   "source": [
    "table"
   ],
   "outputs": [],
   "metadata": {
    "hidden": true,
    "scrolled": true
   }
  },
  {
   "cell_type": "markdown",
   "source": [
    "## 待輸入(org, org_url, ISBN)\n",
    "- 『函式完成度』：待輸入"
   ],
   "metadata": {}
  },
  {
   "cell_type": "markdown",
   "source": [
    "### 函式說明\n",
    "- 『運作的原理』：待輸入\n",
    "- 『適用的機構』：待輸入\n",
    "- 『能處理狀況』：待輸入\n",
    "- 『下一步優化』：\n",
    "    - 待輸入\n",
    "    - 待輸入"
   ],
   "metadata": {}
  },
  {
   "cell_type": "markdown",
   "source": [
    "### 函式本體"
   ],
   "metadata": {}
  },
  {
   "cell_type": "code",
   "execution_count": null,
   "source": [
    "def web2_crawler(org, url_front, ISBN, url_behind, driver):\n",
    "    url = url_front + ISBN + url_behind\n",
    "    try:\n",
    "        driver.get(url)\n",
    "        title = driver.find_element_by_xpath('/html/body/div/div[1]/div[2]/div/div/div[2]/div[3]/div[1]/div[3]/div/ul/li/div/div[2]/h3/a').click()\n",
    "        \n",
    "        df_web2 = accurately_find_table_and_read_it('div#LocalHolding > table')\n",
    "        df_web2 = organize_columns(df_web2)\n",
    "        return df_web2\n",
    "    except:\n",
    "        print(f\"「{url}」無法爬取！\")"
   ],
   "outputs": [],
   "metadata": {}
  },
  {
   "cell_type": "markdown",
   "source": [
    "### 函式測試"
   ],
   "metadata": {}
  },
  {
   "cell_type": "code",
   "execution_count": null,
   "source": [
    "if __name__ == '__main__':\n",
    "    driver = webdriver.Chrome(options=my_options, desired_capabilities=my_capabilities)\n",
    "    table = web2_crawler(\n",
    "        org='國立勤益科技大學',\n",
    "        url_front='http://140.128.95.172/webpac/search/?q=',\n",
    "        url_behind='&field=isn&op=AND&type=&department=&college=&dep=&active=1',\n",
    "        ISBN='9789869109321'\n",
    "    )\n",
    "table"
   ],
   "outputs": [],
   "metadata": {
    "scrolled": true
   }
  },
  {
   "cell_type": "code",
   "execution_count": null,
   "source": [],
   "outputs": [],
   "metadata": {}
  },
  {
   "cell_type": "code",
   "execution_count": null,
   "source": [],
   "outputs": [],
   "metadata": {}
  },
  {
   "cell_type": "code",
   "execution_count": null,
   "source": [
    "soup.find('div', {'id': 'LocalHolding'})"
   ],
   "outputs": [],
   "metadata": {}
  },
  {
   "cell_type": "code",
   "execution_count": null,
   "source": [
    "soup2 = BeautifulSoup(driver.page_source, 'html.parser')"
   ],
   "outputs": [],
   "metadata": {}
  },
  {
   "cell_type": "code",
   "execution_count": null,
   "source": [
    "soup2.find('div', {'id': 'LocalHolding'})"
   ],
   "outputs": [],
   "metadata": {}
  },
  {
   "cell_type": "code",
   "execution_count": null,
   "source": [],
   "outputs": [],
   "metadata": {}
  },
  {
   "cell_type": "code",
   "execution_count": null,
   "source": [
    "type(df_web2)"
   ],
   "outputs": [],
   "metadata": {
    "scrolled": true
   }
  },
  {
   "cell_type": "code",
   "execution_count": null,
   "source": [
    "df_web2['圖書館'], df_web2['連結'] = org, driver.current_url\n",
    "df_web2 = organize_columns(df_web2)"
   ],
   "outputs": [],
   "metadata": {}
  },
  {
   "cell_type": "code",
   "execution_count": null,
   "source": [],
   "outputs": [],
   "metadata": {}
  },
  {
   "cell_type": "code",
   "execution_count": null,
   "source": [],
   "outputs": [],
   "metadata": {}
  },
  {
   "cell_type": "markdown",
   "source": [
    "## 連江縣公共圖書館(org, org_url, ISBN)\n",
    "- 最後更新：7/27\n",
    "- 『函式完成度』：極高"
   ],
   "metadata": {
    "heading_collapsed": true
   }
  },
  {
   "cell_type": "markdown",
   "source": [
    "### 函式說明\n",
    "- 『運作的原理』：待輸入\n",
    "- 『適用的機構』：[連江縣公共圖書館](http://210.63.206.76/Webpac2/msearch.dll/)、[開南大學](http://www.lib.knu.edu.tw/Webpac2/msearch.dll/)（無法？\n",
    "- 『能處理狀況』：一筆、無\n",
    "- 『下一步優化』：暫無找到多筆"
   ],
   "metadata": {
    "hidden": true
   }
  },
  {
   "cell_type": "markdown",
   "source": [
    "### 函式本體"
   ],
   "metadata": {
    "hidden": true
   }
  },
  {
   "cell_type": "code",
   "execution_count": null,
   "source": [
    "def 連江縣公共圖書館(org, org_url, ISBN):\n",
    "    table = []\n",
    "    \n",
    "    driver.get(org_url)\n",
    "    search_ISBN(ISBN, 'ISBN')\n",
    "\n",
    "    if wait_for_element_present('重新查詢', by=By.LINK_TEXT):\n",
    "        print(f'在「{org}」找不到「{ISBN}」')\n",
    "        return\n",
    "    \n",
    "    tgt = accurately_find_table_and_read_it('table', -2)\n",
    "    tgt['圖書館'], tgt['連結'] = org, driver.current_url\n",
    "    table.append(tgt)\n",
    "    \n",
    "    table = organize_columns(table)\n",
    "    return table"
   ],
   "outputs": [],
   "metadata": {
    "hidden": true
   }
  },
  {
   "cell_type": "markdown",
   "source": [
    "### 函式測試"
   ],
   "metadata": {
    "hidden": true
   }
  },
  {
   "cell_type": "code",
   "execution_count": null,
   "source": [
    "if __name__ == '__main__':\n",
    "    driver = webdriver.Chrome(options=my_options, desired_capabilities=my_capabilities)\n",
    "    table = 連江縣公共圖書館(\n",
    "        org='開南大學',\n",
    "        org_url='http://www.lib.knu.edu.tw/Webpac2/msearch.dll/',\n",
    "        ISBN='9789573317241'\n",
    "    )\n"
   ],
   "outputs": [],
   "metadata": {
    "hidden": true
   }
  },
  {
   "cell_type": "markdown",
   "source": [
    "## 樹德科技大學(org, org_url, ISBN) 進行中\n",
    "- 『函式完成度』：待輸入"
   ],
   "metadata": {}
  },
  {
   "cell_type": "markdown",
   "source": [
    "### 函式說明\n",
    "- 『運作的原理』：待輸入\n",
    "- 『適用的機構』：待輸入\n",
    "- 『能處理狀況』：待輸入\n",
    "- 『下一步優化』：\n",
    "    - 待輸入\n",
    "    - 待輸入"
   ],
   "metadata": {}
  },
  {
   "cell_type": "markdown",
   "source": [
    "### 函式本體"
   ],
   "metadata": {}
  },
  {
   "cell_type": "code",
   "execution_count": 11,
   "source": [
    "driver = webdriver.Chrome(options=my_options, desired_capabilities=my_capabilities)"
   ],
   "outputs": [],
   "metadata": {}
  },
  {
   "cell_type": "code",
   "execution_count": 12,
   "source": [
    "ISBN='9789869109321'"
   ],
   "outputs": [],
   "metadata": {}
  },
  {
   "cell_type": "code",
   "execution_count": 25,
   "source": [
    "def 樹德科技大學(org, org_url, ISBN):\n",
    "    table = []\n",
    "    driver.get('https://webpac.stu.edu.tw/webopac/')\n",
    "    iframe = driver.find_element(By.NAME, 'default')\n",
    "    driver.switch_to.frame(iframe)\n",
    "    select_ISBN_strategy('ctl00$ContentPlaceHolder1$ListBox1', 'Info000076')\n",
    "    search_ISBN(ISBN, 'ctl00$ContentPlaceHolder1$TextBox1')\n",
    "    driver.switch_to.default_content()\n",
    "    iframe = driver.find_element(By.NAME, 'default')\n",
    "    driver.switch_to.frame(iframe)\n",
    "    driver.find_elements(By.CSS_SELECTOR, '#ctl00_ContentPlaceHolder1_dg_ctl02_lbtgcd2')[0].click()\n",
    "    tgt = accurately_find_table_and_read_it('#ctl00_ContentPlaceHolder1_dg')\n",
    "    tgt['圖書館'], tgt['連結'] = '樹德科技大學', driver.current_url\n",
    "    table.append(tgt)\n",
    "    table = organize_columns(table)\n",
    "    return table"
   ],
   "outputs": [],
   "metadata": {}
  },
  {
   "cell_type": "code",
   "execution_count": 28,
   "source": [
    "樹德科技大學('樹德科技大學', 'https://webpac.stu.edu.tw/webopac/', '986729193XX')"
   ],
   "outputs": [
    {
     "output_type": "execute_result",
     "data": {
      "text/plain": [
       "      圖書館               館藏地            索書號          館藏狀態  \\\n",
       "0  樹德科技大學  圖書館 B1中文書庫區(0/1)  550 4022 2010  C344801/仍在館內   \n",
       "1  樹德科技大學  圖書館 B1中文書庫區(0/1)       550 4022  C276957/仍在館內   \n",
       "\n",
       "                                   連結  \n",
       "0  https://webpac.stu.edu.tw/webopac/  \n",
       "1  https://webpac.stu.edu.tw/webopac/  "
      ],
      "text/html": [
       "<div>\n",
       "<style scoped>\n",
       "    .dataframe tbody tr th:only-of-type {\n",
       "        vertical-align: middle;\n",
       "    }\n",
       "\n",
       "    .dataframe tbody tr th {\n",
       "        vertical-align: top;\n",
       "    }\n",
       "\n",
       "    .dataframe thead th {\n",
       "        text-align: right;\n",
       "    }\n",
       "</style>\n",
       "<table border=\"1\" class=\"dataframe\">\n",
       "  <thead>\n",
       "    <tr style=\"text-align: right;\">\n",
       "      <th></th>\n",
       "      <th>圖書館</th>\n",
       "      <th>館藏地</th>\n",
       "      <th>索書號</th>\n",
       "      <th>館藏狀態</th>\n",
       "      <th>連結</th>\n",
       "    </tr>\n",
       "  </thead>\n",
       "  <tbody>\n",
       "    <tr>\n",
       "      <th>0</th>\n",
       "      <td>樹德科技大學</td>\n",
       "      <td>圖書館 B1中文書庫區(0/1)</td>\n",
       "      <td>550 4022 2010</td>\n",
       "      <td>C344801/仍在館內</td>\n",
       "      <td>https://webpac.stu.edu.tw/webopac/</td>\n",
       "    </tr>\n",
       "    <tr>\n",
       "      <th>1</th>\n",
       "      <td>樹德科技大學</td>\n",
       "      <td>圖書館 B1中文書庫區(0/1)</td>\n",
       "      <td>550 4022</td>\n",
       "      <td>C276957/仍在館內</td>\n",
       "      <td>https://webpac.stu.edu.tw/webopac/</td>\n",
       "    </tr>\n",
       "  </tbody>\n",
       "</table>\n",
       "</div>"
      ]
     },
     "metadata": {},
     "execution_count": 28
    }
   ],
   "metadata": {}
  },
  {
   "cell_type": "code",
   "execution_count": null,
   "source": [],
   "outputs": [],
   "metadata": {}
  },
  {
   "cell_type": "markdown",
   "source": [
    "### 函式測試"
   ],
   "metadata": {}
  },
  {
   "cell_type": "code",
   "execution_count": null,
   "source": [
    "if __name__ == '__main__':\n",
    "    driver = webdriver.Chrome(options=my_options, desired_capabilities=my_capabilities)\n",
    "    table = 待輸入(\n",
    "        org='待輸入',\n",
    "        org_url='待輸入',\n",
    "        ISBN='9789869109321'\n",
    "    )"
   ],
   "outputs": [],
   "metadata": {}
  },
  {
   "cell_type": "markdown",
   "source": [
    "## 國立臺北護理健康大學(org, org_url, ISBN)\n",
    "- 『函式完成度』：高"
   ],
   "metadata": {}
  },
  {
   "cell_type": "markdown",
   "source": [
    "### 函式說明\n",
    "- 『運作的原理』：待輸入\n",
    "- 『適用的機構』：[國立臺北護理健康大學](http://140.131.94.8/uhtbin/webcat)、[大同大學](http://140.129.23.14/uhtbin/webcat)、[國立體育大學](http://192.83.181.243/uhtbin/webcat)\n",
    "- 『能處理狀況』：待輸入\n",
    "- 『下一步優化』：\n",
    "    - 待輸入\n",
    "    - 待輸入"
   ],
   "metadata": {}
  },
  {
   "cell_type": "markdown",
   "source": [
    "### 函式本體"
   ],
   "metadata": {}
  },
  {
   "cell_type": "code",
   "execution_count": 125,
   "source": [
    "def 國立臺北護理健康大學(org, org_url, ISBN):\n",
    "    try:\n",
    "        driver.get(org_url)\n",
    "        try:\n",
    "            select_ISBN_strategy('srchfield1', 'GENERAL^SUBJECT^GENERAL^^所有欄位')\n",
    "        except:\n",
    "            select_ISBN_strategy('srchfield1', '020^SUBJECT^SERIES^Title Processing^ISBN')\n",
    "        search_ISBN(ISBN, 'searchdata1')\n",
    "        tgt = accurately_find_table_and_read_it('table', 0)\n",
    "        tgt.drop([0, 1, 2], inplace=True)\n",
    "        tgt.drop([1, 2, 4], axis='columns', inplace=True)\n",
    "        tgt.rename(columns={0: '索書號', 3: '館藏狀態'}, inplace=True)\n",
    "        tgt['圖書館'], tgt['連結'], tgt['館藏地'] = org, driver.current_url, tgt['館藏狀態']\n",
    "        tgt = organize_columns(tgt)\n",
    "    except:\n",
    "        print(f'在「{org}」找不到「{ISBN}」')\n",
    "        return\n",
    "    else:\n",
    "        return tgt"
   ],
   "outputs": [],
   "metadata": {}
  },
  {
   "cell_type": "markdown",
   "source": [
    "### 函式測試"
   ],
   "metadata": {}
  },
  {
   "cell_type": "code",
   "execution_count": 126,
   "source": [
    "if __name__ == '__main__':\n",
    "    driver = webdriver.Chrome(options=my_options, desired_capabilities=my_capabilities)\n",
    "    table = 國立體育大學(\n",
    "        org='國立體育大學',\n",
    "        org_url='http://192.83.181.243/uhtbin/webcat',\n",
    "        ISBN='9789574672028'\n",
    "    )\n",
    "table"
   ],
   "outputs": [
    {
     "output_type": "execute_result",
     "data": {
      "text/plain": [
       "          圖書館         館藏地               索書號        館藏狀態  \\\n",
       "0  國立臺北護理健康大學    4F中日文圖書區  563.081 1838 V.4    4F中日文圖書區   \n",
       "1  國立臺北護理健康大學    4F中日文圖書區  563.081 1838 V.4    4F中日文圖書區   \n",
       "2  國立臺北護理健康大學    4F中日文圖書區  563.081 1838 V.4    4F中日文圖書區   \n",
       "3  國立臺北護理健康大學    4F中日文圖書區  563.081 1838 V.4    4F中日文圖書區   \n",
       "4  國立臺北護理健康大學  外借中  (不流通)  563.081 1838 V.4  外借中  (不流通)   \n",
       "\n",
       "                                                  連結  \n",
       "0  http://192.83.181.243/uhtbin/cgisirsi/?ps=1FHa...  \n",
       "1  http://192.83.181.243/uhtbin/cgisirsi/?ps=1FHa...  \n",
       "2  http://192.83.181.243/uhtbin/cgisirsi/?ps=1FHa...  \n",
       "3  http://192.83.181.243/uhtbin/cgisirsi/?ps=1FHa...  \n",
       "4  http://192.83.181.243/uhtbin/cgisirsi/?ps=1FHa...  "
      ],
      "text/html": [
       "<div>\n",
       "<style scoped>\n",
       "    .dataframe tbody tr th:only-of-type {\n",
       "        vertical-align: middle;\n",
       "    }\n",
       "\n",
       "    .dataframe tbody tr th {\n",
       "        vertical-align: top;\n",
       "    }\n",
       "\n",
       "    .dataframe thead th {\n",
       "        text-align: right;\n",
       "    }\n",
       "</style>\n",
       "<table border=\"1\" class=\"dataframe\">\n",
       "  <thead>\n",
       "    <tr style=\"text-align: right;\">\n",
       "      <th></th>\n",
       "      <th>圖書館</th>\n",
       "      <th>館藏地</th>\n",
       "      <th>索書號</th>\n",
       "      <th>館藏狀態</th>\n",
       "      <th>連結</th>\n",
       "    </tr>\n",
       "  </thead>\n",
       "  <tbody>\n",
       "    <tr>\n",
       "      <th>0</th>\n",
       "      <td>國立臺北護理健康大學</td>\n",
       "      <td>4F中日文圖書區</td>\n",
       "      <td>563.081 1838 V.4</td>\n",
       "      <td>4F中日文圖書區</td>\n",
       "      <td>http://192.83.181.243/uhtbin/cgisirsi/?ps=1FHa...</td>\n",
       "    </tr>\n",
       "    <tr>\n",
       "      <th>1</th>\n",
       "      <td>國立臺北護理健康大學</td>\n",
       "      <td>4F中日文圖書區</td>\n",
       "      <td>563.081 1838 V.4</td>\n",
       "      <td>4F中日文圖書區</td>\n",
       "      <td>http://192.83.181.243/uhtbin/cgisirsi/?ps=1FHa...</td>\n",
       "    </tr>\n",
       "    <tr>\n",
       "      <th>2</th>\n",
       "      <td>國立臺北護理健康大學</td>\n",
       "      <td>4F中日文圖書區</td>\n",
       "      <td>563.081 1838 V.4</td>\n",
       "      <td>4F中日文圖書區</td>\n",
       "      <td>http://192.83.181.243/uhtbin/cgisirsi/?ps=1FHa...</td>\n",
       "    </tr>\n",
       "    <tr>\n",
       "      <th>3</th>\n",
       "      <td>國立臺北護理健康大學</td>\n",
       "      <td>4F中日文圖書區</td>\n",
       "      <td>563.081 1838 V.4</td>\n",
       "      <td>4F中日文圖書區</td>\n",
       "      <td>http://192.83.181.243/uhtbin/cgisirsi/?ps=1FHa...</td>\n",
       "    </tr>\n",
       "    <tr>\n",
       "      <th>4</th>\n",
       "      <td>國立臺北護理健康大學</td>\n",
       "      <td>外借中  (不流通)</td>\n",
       "      <td>563.081 1838 V.4</td>\n",
       "      <td>外借中  (不流通)</td>\n",
       "      <td>http://192.83.181.243/uhtbin/cgisirsi/?ps=1FHa...</td>\n",
       "    </tr>\n",
       "  </tbody>\n",
       "</table>\n",
       "</div>"
      ]
     },
     "metadata": {},
     "execution_count": 126
    }
   ],
   "metadata": {
    "scrolled": false
   }
  }
 ],
 "metadata": {
  "kernelspec": {
   "display_name": "Python 3",
   "language": "python",
   "name": "python3"
  },
  "language_info": {
   "codemirror_mode": {
    "name": "ipython",
    "version": 3
   },
   "file_extension": ".py",
   "mimetype": "text/x-python",
   "name": "python",
   "nbconvert_exporter": "python",
   "pygments_lexer": "ipython3",
   "version": "3.8.8"
  },
  "toc": {
   "base_numbering": 1,
   "nav_menu": {},
   "number_sections": true,
   "sideBar": true,
   "skip_h1_title": false,
   "title_cell": "Table of Contents",
   "title_sidebar": "Contents",
   "toc_cell": false,
   "toc_position": {
    "height": "calc(100% - 180px)",
    "left": "10px",
    "top": "150px",
    "width": "256px"
   },
   "toc_section_display": true,
   "toc_window_display": false
  }
 },
 "nbformat": 4,
 "nbformat_minor": 5
}