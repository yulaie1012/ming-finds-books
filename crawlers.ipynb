{
 "cells": [
  {
   "cell_type": "markdown",
   "source": [
    "# 環境設置"
   ],
   "metadata": {}
  },
  {
   "cell_type": "markdown",
   "source": [
    "## 載入套件\n",
    "- selenium、pandas、requests、bs4、time"
   ],
   "metadata": {}
  },
  {
   "cell_type": "code",
   "execution_count": 24,
   "source": [
    "from selenium import webdriver\r\n",
    "from selenium.webdriver.chrome.options import Options  # 設定 driver 的行為\r\n",
    "from selenium.webdriver.support.ui import Select  # 選擇＂下拉式選單＂\r\n",
    "from selenium.webdriver.common.keys import Keys  # 鍵盤操作\r\n",
    "from selenium.common.exceptions import NoSuchElementException, TimeoutException  # 載入常見錯誤\r\n",
    "from selenium.webdriver.common.desired_capabilities import DesiredCapabilities  # 更改載入策略\r\n",
    "from selenium.webdriver.support.ui import WebDriverWait  # 等待機制\r\n",
    "from selenium.webdriver.support import expected_conditions as EC  # 預期事件\r\n",
    "from selenium.webdriver.common.by import By  # 找尋元素的方法\r\n",
    "import pandas as pd  # 載入 pandas\r\n",
    "import pandas.io.formats.excel  # 輸出自定義格式 Excel\r\n",
    "import requests\r\n",
    "import requests.packages.urllib3\r\n",
    "\r\n",
    "requests.packages.urllib3.disable_warnings()  # 關閉錯誤警告\r\n",
    "from urllib.request import HTTPError  # 載入 HTTPError\r\n",
    "from bs4 import BeautifulSoup\r\n",
    "import time  # 強制等待"
   ],
   "outputs": [],
   "metadata": {
    "code_folding": []
   }
  },
  {
   "cell_type": "markdown",
   "source": [
    "## 設定 driver 的參數：options、desired_capabilities"
   ],
   "metadata": {}
  },
  {
   "cell_type": "code",
   "execution_count": 25,
   "source": [
    "my_options = Options()\r\n",
    "my_options.add_argument('--incognito')  # 開啟無痕模式\r\n",
    "# my_options.add_argument('--start-maximized')  # 視窗最大化\r\n",
    "# my_options.add_argument('--headless')  # 不開啟實體瀏覽器\r\n",
    "my_capabilities = DesiredCapabilities.CHROME\r\n",
    "my_capabilities['pageLoadStrategy'] = 'eager'"
   ],
   "outputs": [],
   "metadata": {}
  },
  {
   "cell_type": "markdown",
   "source": [
    "# 自定義函式"
   ],
   "metadata": {}
  },
  {
   "cell_type": "markdown",
   "source": [
    "## organize_columns(df1)\n",
    "- 處理欄位：圖書館、館藏地（c2）、索書號（c3）、館藏狀態（c4）、連結\n",
    "- 如果 df1 是裝著 DataFrame 的 list，則就合併它們；否則（df1 是 DataFrame），就接著執行以下敘述。\n",
    "- 丟掉垃圾欄位，整理成要呈現的表格\n",
    "- 新增必要欄位（圖書館、連結）\n",
    "- 填滿 NaN（用 ffill 的 方式）"
   ],
   "metadata": {
    "heading_collapsed": true
   }
  },
  {
   "cell_type": "code",
   "execution_count": 26,
   "source": [
    "def organize_columns(df1):\r\n",
    "    # 合併全部的 DataFrame\r\n",
    "    try:\r\n",
    "        df1 = pd.concat(df1, axis=0, ignore_index=True)\r\n",
    "    except:\r\n",
    "        pass\r\n",
    "\r\n",
    "    # 處理 column 2：館藏地\r\n",
    "    c2 = [\r\n",
    "        '分館/專室', '館藏地/室', '館藏室', '館藏地/館藏室', '館藏地', '典藏館', '館藏位置', '館藏地/區域',\r\n",
    "        '典藏地名稱'\r\n",
    "    ]\r\n",
    "    df1['c2'] = ''\r\n",
    "    for c in c2:\r\n",
    "        try:\r\n",
    "            df1['c2'] += df1[c]\r\n",
    "        except:\r\n",
    "            pass\r\n",
    "\r\n",
    "    # 處理 column 3：索書號\r\n",
    "    c3 = ['索書號', '索書號/期刊合訂本卷期', '索書號 / 部冊號']\r\n",
    "    df1['c3'] = ''\r\n",
    "    for c in c3:\r\n",
    "        try:\r\n",
    "            df1['c3'] += df1[c]\r\n",
    "        except:\r\n",
    "            pass\r\n",
    "\r\n",
    "    # 處理 column 4：館藏狀態\r\n",
    "    c4 = [\r\n",
    "        '館藏位置(到期日期僅為期限，不代表上架日期)', '狀態/到期日', '目前狀態 / 到期日', '館藏狀態', '處理狀態',\r\n",
    "        '狀態 (說明)', '館藏現況 說明', '目前狀態/預計歸還日期', '圖書狀況 / 到期日', '調閱說明', '借閱狀態', '狀態'\r\n",
    "    ]\r\n",
    "    df1['c4'] = ''\r\n",
    "    for c in c4:\r\n",
    "        try:\r\n",
    "            df1['c4'] += df1[c]\r\n",
    "        except:\r\n",
    "            pass\r\n",
    "\r\n",
    "    # 直接生成另一個 DataFrame\r\n",
    "    df2 = pd.DataFrame()\r\n",
    "    df2['圖書館'] = df1['圖書館']\r\n",
    "    df2['館藏地'] = df1['c2']\r\n",
    "    df2['索書號'] = df1['c3']\r\n",
    "    df2['館藏狀態'] = df1['c4']\r\n",
    "    df2['連結'] = df1['連結']\r\n",
    "\r\n",
    "    # 遇到值為 NaN時，將前一列的值填補進來\r\n",
    "    df2.fillna(method=\"ffill\", axis=0, inplace=True)\r\n",
    "\r\n",
    "    return df2"
   ],
   "outputs": [],
   "metadata": {
    "hidden": true
   }
  },
  {
   "cell_type": "markdown",
   "source": [
    "## set_excel(df, directory)\n",
    "- 待"
   ],
   "metadata": {
    "heading_collapsed": true
   }
  },
  {
   "cell_type": "code",
   "execution_count": 27,
   "source": [
    "def set_excel(df, directory):\r\n",
    "    # B｢圖書館｣、C「館藏地」、D「索書號」、E「館藏狀態」、F「連結」\r\n",
    "    pandas.io.formats.excel.header_style = None  # 標題格式清除\r\n",
    "    writer = pd.ExcelWriter(directory)\r\n",
    "    df.to_excel(writer, sheet_name=\"搜尋結果\")\r\n",
    "\r\n",
    "    workbook1 = writer.book\r\n",
    "    worksheets = writer.sheets\r\n",
    "    worksheet1 = worksheets[\"搜尋結果\"]\r\n",
    "\r\n",
    "    # 測試\r\n",
    "    cell_format = workbook1.add_format({\r\n",
    "        \"font_name\": \"微軟正黑體\",\r\n",
    "        \"font_size\": 16,\r\n",
    "        \"align\": \"left\",\r\n",
    "        #         \"border\": 80,\r\n",
    "    })\r\n",
    "    worksheet1.set_column(\"B:F\", 40, cell_format)\r\n",
    "\r\n",
    "    # 設定單元格的寬度\r\n",
    "    #     worksheet1.set_column(\"B:F\", 35)\r\n",
    "\r\n",
    "    writer.save()\r\n",
    "    print(\"爬取完成\")"
   ],
   "outputs": [],
   "metadata": {
    "code_folding": [],
    "hidden": true
   }
  },
  {
   "cell_type": "markdown",
   "source": [
    "## wait_for_element_present(element_position, waiting_time=5, by=By.CSS_SELECTOR)\n",
    "- 用法：\n",
    "    - 等待 element 出現，每間隔 0.5 秒定位一次，直到 5 秒。如果定位 element 成功，回傳 element；否則，回傳 None。\n",
    "- 參數：\n",
    "    - element_position：元素位置，預設 CSS selector\n",
    "    - waiting_time：等待時間，預設 5 秒\n",
    "    - by：定位方式，預設 By.CSS_SELECTOR"
   ],
   "metadata": {
    "heading_collapsed": true
   }
  },
  {
   "cell_type": "code",
   "execution_count": 28,
   "source": [
    "def wait_for_element_present(element_position, waiting_time=5, by=By.CSS_SELECTOR):\r\n",
    "    try:\r\n",
    "        element = WebDriverWait(driver, waiting_time).until(\r\n",
    "            EC.presence_of_element_located((by, element_position)))\r\n",
    "    except:\r\n",
    "        return\r\n",
    "    else:\r\n",
    "        return element"
   ],
   "outputs": [],
   "metadata": {
    "hidden": true
   }
  },
  {
   "cell_type": "markdown",
   "source": [
    "## wait_for_url_changed(old_url, waiting_time=10)\n",
    "- 用法：\n",
    "    - 等待網址改變（輸入的網址和現在的網址進行比較），每間隔 0.5 秒檢查一次，直到 10 秒。如果網址有改變，回傳 True；否則，回傳 None。\n",
    "- 參數：\n",
    "    - old_url：舊網址\n",
    "    - waiting_time：等待時間，預設 10 秒"
   ],
   "metadata": {
    "heading_collapsed": true
   }
  },
  {
   "cell_type": "code",
   "execution_count": 29,
   "source": [
    "def wait_for_url_changed(old_url, waiting_time=10):\r\n",
    "    try:\r\n",
    "        WebDriverWait(driver, time).until(EC.url_changes(old_url))\r\n",
    "    except:\r\n",
    "        return\r\n",
    "    else:\r\n",
    "        return True"
   ],
   "outputs": [],
   "metadata": {
    "hidden": true
   }
  },
  {
   "cell_type": "markdown",
   "source": [
    "## accurately_find_table_and_read_it(table_position)\n",
    "- 用法：\n",
    "    - 精準定位 table 並讀取成 pd.DataFrame。如果定位 table 成功，回傳 table；否則，回傳 None。\n",
    "    - 為 table 增加＂圖書館＂和＂連結＂的欄位。\n",
    "- 參數：\n",
    "    - table_position：table 位置，預設 CSS selector"
   ],
   "metadata": {
    "heading_collapsed": true
   }
  },
  {
   "cell_type": "code",
   "execution_count": 30,
   "source": [
    "def accurately_find_table_and_read_it(table_position):\r\n",
    "    try:\r\n",
    "        if not wait_for_element_present(table_position):\r\n",
    "            print(f'找不到 {table_position}！')\r\n",
    "            return\r\n",
    "        soup = BeautifulSoup(driver.page_source, 'html.parser')\r\n",
    "        table_innerHTML = soup.select(table_position)[0]\r\n",
    "        target = pd.read_html(str(table_innerHTML), encoding='utf-8')[0]\r\n",
    "        target['圖書館'], target['連結'] = org, driver.current_url\r\n",
    "    except:\r\n",
    "        return\r\n",
    "    else:\r\n",
    "        return target"
   ],
   "outputs": [],
   "metadata": {
    "hidden": true
   }
  },
  {
   "cell_type": "markdown",
   "source": [
    "## select_ISBN_strategy(select_position, option_position, waiting_time=30)\n",
    "- 用法：\n",
    "    - 等待 select 出現，並選擇以 ISBN 方式搜尋\n",
    "- 參數：\n",
    "    - select_position：select 位置，預設 name\n",
    "    - option_position：option 位置，預設 value\n",
    "    - waiting_time：等待時間，預設 30 秒"
   ],
   "metadata": {
    "heading_collapsed": true
   }
  },
  {
   "cell_type": "code",
   "execution_count": 31,
   "source": [
    "def select_ISBN_strategy(select_position, option_position, waiting_time=30):\r\n",
    "    time.sleep(0.5)\r\n",
    "    search_field = WebDriverWait(driver, time).until(EC.presence_of_element_located((By.NAME, select_position)))\r\n",
    "    select = Select(search_field)\r\n",
    "    select.select_by_value(option_position)"
   ],
   "outputs": [],
   "metadata": {
    "hidden": true
   }
  },
  {
   "cell_type": "markdown",
   "source": [
    "## search_ISBN(ISBN, input_position, waiting_time=10)\n",
    "- 用法：\n",
    "    - 等待 input 出現，輸入 ISBN 並按下 ENTER\n",
    "- 參數：\n",
    "    - ISBN：ISBN\n",
    "    - input_position：input 位置，預設 name\n",
    "    - waiting_time：等待時間，預設 10 秒"
   ],
   "metadata": {
    "heading_collapsed": true
   }
  },
  {
   "cell_type": "code",
   "execution_count": 32,
   "source": [
    "def search_ISBN(ISBN, input_position, waiting_time=10):\r\n",
    "    time.sleep(0.5)\r\n",
    "    search_input = WebDriverWait(driver, waiting_time).until(EC.presence_of_element_located((By.NAME, input_position)))\r\n",
    "    search_input.send_keys(ISBN)\r\n",
    "    search_input.send_keys(Keys.ENTER)"
   ],
   "outputs": [],
   "metadata": {
    "hidden": true
   }
  },
  {
   "cell_type": "markdown",
   "source": [
    "# 爬蟲程式"
   ],
   "metadata": {}
  },
  {
   "cell_type": "markdown",
   "source": [
    "## webpac_gov_crawler(org, org_url, ISBN) 進行中\n",
    "- 『函式完成度』：高，待 general"
   ],
   "metadata": {}
  },
  {
   "cell_type": "markdown",
   "source": [
    "### 函式說明\n",
    "\n",
    "- 『運作的原理』：\n",
    "- 『適用的機構』：宜蘭縣公共圖書館、桃園市立圖書館、高雄市立圖書館、屏東縣公共圖書館、花蓮縣圖書館、澎湖縣圖書館\n",
    "- 『能處理狀況』：判斷搜尋結果有沒有超過一筆、只有一筆搜尋結果有沒有跳轉、找不到書\n",
    "- 『下一步優化』：當搜尋無結果時，可以直接結束。"
   ],
   "metadata": {}
  },
  {
   "cell_type": "markdown",
   "source": [
    "### 函式本體"
   ],
   "metadata": {}
  },
  {
   "cell_type": "code",
   "execution_count": null,
   "source": [
    "def click_more_btn(driver):\r\n",
    "    try:\r\n",
    "        while True:\r\n",
    "            more_btn = WebDriverWait(driver, 10).until(\r\n",
    "                EC.visibility_of_element_located(\r\n",
    "                    (By.CSS_SELECTOR, \"a.btnstyle.bluebg3.morewidth\")))\r\n",
    "            if more_btn:\r\n",
    "                time.sleep(2.5)  # 不得已的強制等待\r\n",
    "                more_btn.click()\r\n",
    "                # driver.find_element_by_css_selector(\"a.btnstyle.bluebg3.morewidth\").click()\r\n",
    "    except:\r\n",
    "        time.sleep(2.5)\r\n",
    "\r\n",
    "\r\n",
    "def webpac_gov_crawler(org, org_url, ISBN):\r\n",
    "    try:\r\n",
    "        # 進入＂搜尋結果＂頁面\r\n",
    "        search_url = org_url + ISBN\r\n",
    "        driver.get(search_url)\r\n",
    "\r\n",
    "        # 計算＂搜尋結果的數量＂\r\n",
    "        book_list = WebDriverWait(driver, 30).until(\r\n",
    "            EC.presence_of_all_elements_located(\r\n",
    "                (By.CSS_SELECTOR, \"div.booklist\")))\r\n",
    "        results = len(book_list)\r\n",
    "        print(f\"搜尋結果數量有：{results}筆\")\r\n",
    "\r\n",
    "        time.sleep(2)  # 頁面加載，用強制等待\r\n",
    "\r\n",
    "        # 依照搜尋結果的數量分成：一筆和多筆兩種情形\r\n",
    "        if results < 2:\r\n",
    "            if WebDriverWait(driver, 30).until(\r\n",
    "                    EC.presence_of_element_located(\r\n",
    "                        (By.CSS_SELECTOR, \"div.bookplace_list\"))):\r\n",
    "                click_more_btn(driver)\r\n",
    "                table = pd.read_html(driver.page_source, encoding=\"utf-8\")[-1]\r\n",
    "                table = organize_columns(table)\r\n",
    "                return table\r\n",
    "        else:\r\n",
    "            soup = BeautifulSoup(driver.page_source,\r\n",
    "                                 \"html.parser\")  # 用以當搜尋結果多筆時，找尋不同＂詳細書目＂的網址\r\n",
    "\r\n",
    "            table = []\r\n",
    "            org_url = org_url.split(\"search?\")[0]  # 取得＂搜尋主頁＂頁面\r\n",
    "            for li in soup.find_all(\"div\", \"booklist\"):\r\n",
    "                href = org_url + li.find(\"h2\").find(\"a\")[\"href\"]\r\n",
    "\r\n",
    "                driver.get(href)\r\n",
    "                if WebDriverWait(driver, 30).until(\r\n",
    "                        EC.presence_of_element_located(\r\n",
    "                            (By.CSS_SELECTOR, \"div.bookplace_list\"))):\r\n",
    "                    click_more_btn(driver)\r\n",
    "                table.append(\r\n",
    "                    pd.read_html(driver.page_source, encoding=\"utf-8\")[-1])\r\n",
    "            table = organize_columns(table)\r\n",
    "            return table\r\n",
    "    except:\r\n",
    "        print(f\"「{org_url}」無法爬取！\")"
   ],
   "outputs": [],
   "metadata": {}
  },
  {
   "cell_type": "markdown",
   "source": [
    "### 函式測試"
   ],
   "metadata": {}
  },
  {
   "cell_type": "code",
   "execution_count": null,
   "source": [
    "if __name__ == '__main__':\r\n",
    "    driver = webdriver.Chrome(options=my_options, desired_capabilities=my_capabilities)\r\n",
    "    table = webpac_gov_crawler(\r\n",
    "        org='宜蘭縣公共圖書館',\r\n",
    "        org_url='https://webpac.ilccb.gov.tw/search?phonetic=0&queryType=0&searchField=ISBN&searchInput=',\r\n",
    "        ISBN='9789868879348'\r\n",
    "    )\r\n",
    "table"
   ],
   "outputs": [],
   "metadata": {}
  },
  {
   "cell_type": "code",
   "execution_count": 13,
   "source": [
    "driver = webdriver.Chrome(options=my_options, desired_capabilities=my_capabilities)"
   ],
   "outputs": [],
   "metadata": {}
  },
  {
   "cell_type": "code",
   "execution_count": 14,
   "source": [
    "org='宜蘭縣公共圖書館'\r\n",
    "org_url='https://webpac.ilccb.gov.tw'\r\n",
    "ISBN='9789868879348'"
   ],
   "outputs": [],
   "metadata": {}
  },
  {
   "cell_type": "code",
   "execution_count": 15,
   "source": [
    "driver.get(org_url)"
   ],
   "outputs": [],
   "metadata": {}
  },
  {
   "cell_type": "code",
   "execution_count": 16,
   "source": [
    "if not wait_for_element_present('div.advancedsearch > a'):\r\n",
    "    print('跳出函式')\r\n",
    "driver.find_element(By.CSS_SELECTOR, 'div.advancedsearch > a').click()"
   ],
   "outputs": [],
   "metadata": {}
  },
  {
   "cell_type": "code",
   "execution_count": 17,
   "source": [
    "select_ISBN_strategy('searchField', 'ISBN')"
   ],
   "outputs": [
    {
     "output_type": "error",
     "ename": "AttributeError",
     "evalue": "'int' object has no attribute 'sleep'",
     "traceback": [
      "\u001b[1;31m---------------------------------------------------------------------------\u001b[0m",
      "\u001b[1;31mAttributeError\u001b[0m                            Traceback (most recent call last)",
      "\u001b[1;32m<ipython-input-17-d72f97af0993>\u001b[0m in \u001b[0;36m<module>\u001b[1;34m\u001b[0m\n\u001b[1;32m----> 1\u001b[1;33m \u001b[0mselect_ISBN_strategy\u001b[0m\u001b[1;33m(\u001b[0m\u001b[1;34m'searchField'\u001b[0m\u001b[1;33m,\u001b[0m \u001b[1;34m'ISBN'\u001b[0m\u001b[1;33m)\u001b[0m\u001b[1;33m\u001b[0m\u001b[1;33m\u001b[0m\u001b[0m\n\u001b[0m",
      "\u001b[1;32m<ipython-input-10-94e77ee5fac8>\u001b[0m in \u001b[0;36mselect_ISBN_strategy\u001b[1;34m(value1, value2, time)\u001b[0m\n\u001b[0;32m      1\u001b[0m \u001b[1;32mdef\u001b[0m \u001b[0mselect_ISBN_strategy\u001b[0m\u001b[1;33m(\u001b[0m\u001b[0mvalue1\u001b[0m\u001b[1;33m,\u001b[0m \u001b[0mvalue2\u001b[0m\u001b[1;33m,\u001b[0m \u001b[0mtime\u001b[0m\u001b[1;33m=\u001b[0m\u001b[1;36m30\u001b[0m\u001b[1;33m)\u001b[0m\u001b[1;33m:\u001b[0m\u001b[1;33m\u001b[0m\u001b[1;33m\u001b[0m\u001b[0m\n\u001b[1;32m----> 2\u001b[1;33m     \u001b[0mtime\u001b[0m\u001b[1;33m.\u001b[0m\u001b[0msleep\u001b[0m\u001b[1;33m(\u001b[0m\u001b[1;36m0.5\u001b[0m\u001b[1;33m)\u001b[0m\u001b[1;33m\u001b[0m\u001b[1;33m\u001b[0m\u001b[0m\n\u001b[0m\u001b[0;32m      3\u001b[0m     \u001b[0msearch_field\u001b[0m \u001b[1;33m=\u001b[0m \u001b[0mWebDriverWait\u001b[0m\u001b[1;33m(\u001b[0m\u001b[0mdriver\u001b[0m\u001b[1;33m,\u001b[0m \u001b[0mtime\u001b[0m\u001b[1;33m)\u001b[0m\u001b[1;33m.\u001b[0m\u001b[0muntil\u001b[0m\u001b[1;33m(\u001b[0m\u001b[0mEC\u001b[0m\u001b[1;33m.\u001b[0m\u001b[0mpresence_of_element_located\u001b[0m\u001b[1;33m(\u001b[0m\u001b[1;33m(\u001b[0m\u001b[0mBy\u001b[0m\u001b[1;33m.\u001b[0m\u001b[0mNAME\u001b[0m\u001b[1;33m,\u001b[0m \u001b[0mvalue1\u001b[0m\u001b[1;33m)\u001b[0m\u001b[1;33m)\u001b[0m\u001b[1;33m)\u001b[0m\u001b[1;33m\u001b[0m\u001b[1;33m\u001b[0m\u001b[0m\n\u001b[0;32m      4\u001b[0m     \u001b[0mselect\u001b[0m \u001b[1;33m=\u001b[0m \u001b[0mSelect\u001b[0m\u001b[1;33m(\u001b[0m\u001b[0msearch_field\u001b[0m\u001b[1;33m)\u001b[0m\u001b[1;33m\u001b[0m\u001b[1;33m\u001b[0m\u001b[0m\n\u001b[0;32m      5\u001b[0m     \u001b[0mselect\u001b[0m\u001b[1;33m.\u001b[0m\u001b[0mselect_by_value\u001b[0m\u001b[1;33m(\u001b[0m\u001b[0mvalue2\u001b[0m\u001b[1;33m)\u001b[0m\u001b[1;33m\u001b[0m\u001b[1;33m\u001b[0m\u001b[0m\n",
      "\u001b[1;31mAttributeError\u001b[0m: 'int' object has no attribute 'sleep'"
     ]
    }
   ],
   "metadata": {}
  },
  {
   "cell_type": "code",
   "execution_count": null,
   "source": [
    "search_ISBN(ISBN, 'searchInput')"
   ],
   "outputs": [],
   "metadata": {}
  },
  {
   "cell_type": "code",
   "execution_count": null,
   "source": [
    "if not wait_for_element_present('div.bookplace_list table'):\r\n",
    "    print('跳出函式')\r\n",
    "tgt = accurately_find_table_and_read_it('div.bookplace_list table')\r\n",
    "tgt = organize_columns(tgt)\r\n",
    "tgt"
   ],
   "outputs": [],
   "metadata": {}
  },
  {
   "cell_type": "code",
   "execution_count": null,
   "source": [],
   "outputs": [],
   "metadata": {}
  },
  {
   "cell_type": "code",
   "execution_count": null,
   "source": [],
   "outputs": [],
   "metadata": {}
  },
  {
   "cell_type": "code",
   "execution_count": null,
   "source": [],
   "outputs": [],
   "metadata": {}
  },
  {
   "cell_type": "code",
   "execution_count": null,
   "source": [],
   "outputs": [],
   "metadata": {}
  },
  {
   "cell_type": "code",
   "execution_count": null,
   "source": [],
   "outputs": [],
   "metadata": {}
  },
  {
   "cell_type": "code",
   "execution_count": null,
   "source": [],
   "outputs": [],
   "metadata": {}
  },
  {
   "cell_type": "markdown",
   "source": [
    "## webpac_jsp_crawler(org, org_url, ISBN)\n",
    "- 『函式完成度』：極高"
   ],
   "metadata": {
    "heading_collapsed": true
   }
  },
  {
   "cell_type": "markdown",
   "source": [
    "### 函式說明\n",
    "- 『運作的原理』：\n",
    "    - 使用 selenium 進行搜索。\n",
    "    - 大量使用 wait 機制，來應對加載過慢的網頁（例：[佛光大學](http://libils.fgu.edu.tw/webpacIndex.jsp)）\n",
    "    - 當搜尋結果只有一筆時，有些網站會直接進入＂詳細書目＂（例：[國立宜蘭大學](https://lib.niu.edu.tw/webpacIndex.jsp)）\n",
    "        - 還是會停留在＂搜尋結果＂頁面，但大部分會看不到，網址仍會改變，所以無法用網址判定\n",
    "    - 當搜尋結果有多筆時，會要切換到 iframe 爬取。\n",
    "    - 有些＂詳細書目＂會有沒有表格的情況（例：[中華科大](http://192.192.231.232/bookDetail.do?id=260965&nowid=3&resid=188809854)）\n",
    "- 『適用的機構』：國立宜蘭大學、佛光大學、嘉南藥理大學、……\n",
    "- 『能處理狀況』：[一筆](http://webpac.meiho.edu.tw/bookDetail.do?id=194508)、[無](http://webpac.meiho.edu.tw/bookSearchList.do?searchtype=simplesearch&search_field=ISBN&search_input=97895733172411&searchsymbol=hyLibCore.webpac.search.common_symbol&execodehidden=true&execode=&ebook=)、[多筆](http://webpac.meiho.edu.tw/bookSearchList.do?searchtype=simplesearch&execodeHidden=true&execode=&search_field=ISBN&search_input=9789573317241&searchsymbol=hyLibCore.webpac.search.common_symbol&resid=189006169&nowpage=1#searchtype=simplesearch&execodeHidden=true&execode=&search_field=ISBN&search_input=9789573317241&searchsymbol=hyLibCore.webpac.search.common_symbol&resid=189006169&nowpage=1)、[無表格](http://192.192.231.232/bookDetail.do?id=260965&nowid=3&resid=188809854)\n",
    "- 『下一步優化』：\n",
    "    - 統一 search_input.submit() 和 search_input.send_keys(Keys.ENTER)？"
   ],
   "metadata": {
    "hidden": true
   }
  },
  {
   "cell_type": "markdown",
   "source": [
    "### 函式本體"
   ],
   "metadata": {
    "hidden": true
   }
  },
  {
   "cell_type": "code",
   "execution_count": null,
   "source": [
    "def webpac_jsp_crawler(org, org_url, ISBN):\r\n",
    "    try:\r\n",
    "        # 進入＂搜尋主頁＂\r\n",
    "        driver.get(org_url)\r\n",
    "        # 等待定位＂下拉式選單＂，選擇 ISBN\r\n",
    "        search_field = WebDriverWait(driver, 30).until(EC.presence_of_element_located((By.NAME, 'search_field')))\r\n",
    "        select = Select(search_field)\r\n",
    "        select.select_by_value('ISBN')  # select.select_by_value('STANDARDNO') -> 北科\r\n",
    "        # 等待定位＂搜尋欄＂，輸入 ISBN\r\n",
    "        search_input = WebDriverWait(driver, 10).until(EC.presence_of_element_located((By.NAME, 'search_input')))\r\n",
    "        search_input.send_keys(ISBN)\r\n",
    "        search_input.submit()\r\n",
    "        # table 為回傳值\r\n",
    "        table = []\r\n",
    "        # 搜尋結果的數量為＂一筆＂\r\n",
    "        if wait_for_element_present('div.mainCon'):\r\n",
    "            if not wait_for_element_present('table.order'):\r\n",
    "                return\r\n",
    "            tgt = accurately_find_table_and_read_it('table.order')\r\n",
    "            table.append(tgt)\r\n",
    "        # 搜尋結果的數量為＂多筆＂和＂零筆＂\r\n",
    "        elif wait_for_element_present('iframe#leftFrame'):\r\n",
    "            iframe = driver.find_element_by_id('leftFrame')\r\n",
    "            driver.switch_to.frame(iframe)\r\n",
    "            # 切換到 <frame> 需要時間，否則會無法讀取\r\n",
    "            time.sleep(1)\r\n",
    "            # 解析 html，以取得 tgt_urls\r\n",
    "            soup = BeautifulSoup(driver.page_source, 'html.parser')\r\n",
    "            # 判斷是不是＂零筆＂\r\n",
    "            if soup.find('em', {'id': 'totalpage'}).text == '0':\r\n",
    "                print(f'您所輸入的 ISBN 碼：{ISBN}，共查得 0 筆。')\r\n",
    "                return\r\n",
    "            anchors = soup.find_all('a', 'bookname')\r\n",
    "            # tgt_urls 為各個＂詳細書目＂的網址\r\n",
    "            tgt_urls = []\r\n",
    "            for anchor in anchors:\r\n",
    "                tgt_urls.append(org_url.replace('webpacIndex.jsp', '') + anchor['href'])\r\n",
    "            # 取得 tgt_urls 後，開始進入 tgt_url\r\n",
    "            for tgt_url in tgt_urls:\r\n",
    "                # 進入＂詳細書目＂\r\n",
    "                driver.get(tgt_url)\r\n",
    "                # 等待元素出現，如果出現，那麼抓取 DataFrame；如果沒出現，那麼跳出迴圈\r\n",
    "                if not wait_for_element_present('table.order'):\r\n",
    "                    continue  # 暫停＂本次＂迴圈，以下敘述不會執行\r\n",
    "                tgt = accurately_find_table_and_read_it('div.allDetail table.order')\r\n",
    "                table.append(tgt)\r\n",
    "        table = organize_columns(table)\r\n",
    "    except Exception as e:\r\n",
    "        print(e)\r\n",
    "        return\r\n",
    "    else:\r\n",
    "        return table"
   ],
   "outputs": [],
   "metadata": {
    "code_folding": [],
    "hidden": true
   }
  },
  {
   "cell_type": "markdown",
   "source": [
    "### 函式測試"
   ],
   "metadata": {
    "hidden": true
   }
  },
  {
   "cell_type": "code",
   "execution_count": null,
   "source": [
    "if __name__ == '__main__':\r\n",
    "    driver = webdriver.Chrome(options=my_options, desired_capabilities=my_capabilities)\r\n",
    "    table = webpac_jsp_crawler(\r\n",
    "        org='美和科技大學',\r\n",
    "        org_url='http://192.192.231.232/webpacIndex.jsp',\r\n",
    "        ISBN='9573317249'\r\n",
    "    )"
   ],
   "outputs": [],
   "metadata": {
    "hidden": true
   }
  },
  {
   "cell_type": "markdown",
   "source": [
    "## easy_crawler(table_position, org, org_url, ISBN)\n",
    "- 『函式完成度』：高"
   ],
   "metadata": {}
  },
  {
   "cell_type": "markdown",
   "source": [
    "### 函式說明\n",
    "- 『運作的原理』：直接進入＂詳細書目＂頁面後，使用 pd.read_html 抓取 table，但每個機構的 table 位置不同，需要在 function 將此當作一個 parameter。\n",
    "- 『適用的機構』：國立臺灣海洋大學、國立臺灣師範大學、中央研究院、國立陽明大學、國立中央大學、中原大學、國立臺灣科技大學、中國文化大學、輔仁大學\n",
    "- 『能處理狀況』：HTTPError\n",
    "- 『下一步優化』：師大查詢結果有多本（https://opac.lib.ntnu.edu.tw/search*cht/i?SEARCH=9789573229131 ）"
   ],
   "metadata": {}
  },
  {
   "cell_type": "markdown",
   "source": [
    "### 函式本體"
   ],
   "metadata": {}
  },
  {
   "cell_type": "code",
   "execution_count": null,
   "source": [
    "def easy_crawler(table_position, org, org_url, ISBN):\r\n",
    "    try:\r\n",
    "        # 組合成書本的網址\r\n",
    "        tgt_url = org_url + ISBN\r\n",
    "        # 載入 html，如果發生 HTTPError，那麼就使用 requests.get(url, verify=False)\r\n",
    "        try:\r\n",
    "            tgt = pd.read_html(tgt_url, encoding=\"utf-8\")\r\n",
    "        except HTTPError:\r\n",
    "            resp = requests.get(tgt_url,\r\n",
    "                                verify=False)  # 設定 verify=False，以解決 SSLError\r\n",
    "            tgt = pd.read_html(resp.text, encoding=\"utf-8\")\r\n",
    "        # 定位表格\r\n",
    "        table = tgt[table_position]\r\n",
    "        table['圖書館'], table['連結'] = org, tgt_url\r\n",
    "        table = organize_columns(table)\r\n",
    "        return table  # 完成抓取 table\r\n",
    "    except:\r\n",
    "        print(f'《{ISBN}》在「{url}」無法爬取')"
   ],
   "outputs": [],
   "metadata": {
    "code_folding": []
   }
  },
  {
   "cell_type": "markdown",
   "source": [
    "### 函式測試"
   ],
   "metadata": {
    "heading_collapsed": true
   }
  },
  {
   "cell_type": "code",
   "execution_count": null,
   "source": [
    "if __name__ == '__main__':\r\n",
    "    table = easy_crawler(\r\n",
    "        table_position=4,\r\n",
    "        org='國立臺灣師範大學',\r\n",
    "        org_url='https://opac.lib.ntnu.edu.tw/search*cht/i?SEARCH=',\r\n",
    "        ISBN='9789869109321'\r\n",
    "    )\r\n",
    "table"
   ],
   "outputs": [],
   "metadata": {
    "hidden": true
   }
  },
  {
   "cell_type": "markdown",
   "source": [
    "## webpac_ajax_page_crawler(org, org_url, ISBN)\n",
    "- 『函式完成度』：極高"
   ],
   "metadata": {}
  },
  {
   "cell_type": "markdown",
   "source": [
    "### 函式說明\n",
    "- 『運作的原理』：使用 selenium 進行搜索，進入＂詳細書目＂頁面後，從該網址分析並得到 mid，在由此進入 ajax_page。\n",
    "- 『適用的機構』：新北市立圖書館、高雄市立空中大學、國立屏東大學\n",
    "- 『能處理狀況』：判斷搜尋結果有沒有超過一筆、只有一筆搜尋結果有沒有跳轉、找不到書\n",
    "- 『下一步優化』：當搜尋無結果時，可以直接結束。"
   ],
   "metadata": {}
  },
  {
   "cell_type": "markdown",
   "source": [
    "### 函式本體"
   ],
   "metadata": {}
  },
  {
   "cell_type": "code",
   "execution_count": null,
   "source": [
    "def webpac_ajax_page_crawler(org, org_url, ISBN):\r\n",
    "    try:\r\n",
    "        # 進入＂搜尋主頁＂\r\n",
    "        driver.get(org_url)\r\n",
    "        # 等待點擊＂進階查詢＂按鈕，接著點擊\r\n",
    "        WebDriverWait(driver, 30).until(\r\n",
    "            EC.element_to_be_clickable((By.LINK_TEXT, '進階查詢'))).click()\r\n",
    "        # 等待定位＂下拉式選單＂，選擇以 ISBN 方式搜尋\r\n",
    "        search_field = WebDriverWait(driver, 10).until(\r\n",
    "            EC.presence_of_element_located((By.ID, 'as_type_1')))\r\n",
    "        select = Select(search_field)\r\n",
    "        select.select_by_value('i')\r\n",
    "        # 定位＂搜尋欄＂，輸入 ISBN\r\n",
    "        search_input = driver.find_element_by_id('as_keyword_1')\r\n",
    "        search_input.send_keys(ISBN)\r\n",
    "        search_input.send_keys(\r\n",
    "            Keys.ENTER)  # 無法 submit()，用 send_keys(keys.ENTER) 來替代\r\n",
    "\r\n",
    "        # 在＂搜尋結果頁面＂，等待定位＂詳細書目＂。\r\n",
    "        # try-except 來判斷有沒有在＂搜尋結果頁面＂\r\n",
    "        try:\r\n",
    "            WebDriverWait(driver, 10).until(\r\n",
    "                EC.presence_of_element_located((By.LINK_TEXT, '詳細書目')))\r\n",
    "        except:\r\n",
    "            try:\r\n",
    "                WebDriverWait(driver, 10).until(\r\n",
    "                    EC.presence_of_element_located(\r\n",
    "                        (By.CSS_SELECTOR, 'div.book-detail')))\r\n",
    "\r\n",
    "                # 抓取方式：找出 mid 後，進入 ajax pag 抓取 DataFrame\r\n",
    "                org_url = org_url.replace('/search.cfm', '')\r\n",
    "                tgts = []\r\n",
    "                url = driver.current_url\r\n",
    "                mid = url.split('mid=')[-1].split('&')[0]\r\n",
    "                ajax_page_url = f'{org_url}/ajax_page/get_content_area.cfm?mid={mid}&i_list_number=250&i_page=1&i_sory_by=1'\r\n",
    "                tgt = pd.read_html(ajax_page_url, encoding='utf-8')[0]\r\n",
    "                tgt['圖書館'], tgt['連結'] = org, url\r\n",
    "                tgts.append(tgt)\r\n",
    "                table = pd.concat(tgts, axis=0, ignore_index=True)\r\n",
    "                table = organize_columns(table)\r\n",
    "                return table  # 完成抓取 table\r\n",
    "            except:  # 沒有搜尋結果，也沒有進入＂詳細書目頁面＂\r\n",
    "                print(f'《{ISBN}》查無此書')\r\n",
    "                return  # 什麼都不做，退出此 function\r\n",
    "\r\n",
    "        # 抓取多個＂詳細書目＂的網址\r\n",
    "        anchors = driver.find_elements_by_link_text('詳細書目')\r\n",
    "        urls = []\r\n",
    "        for anchor in anchors:\r\n",
    "            urls.append(anchor.get_attribute('href'))\r\n",
    "\r\n",
    "        # 抓取方式：找出 mid 後，進入 ajax pag 抓取 DataFrame\r\n",
    "        org_url = org_url.replace('/search.cfm', '')\r\n",
    "        tgts = []\r\n",
    "        for url in urls:\r\n",
    "            mid = url.split('mid=')[-1].split('&')[0]  # 抓取 mid\r\n",
    "            ajax_page_url = f'{org_url}/ajax_page/get_content_area.cfm?mid={mid}&i_list_number=250&i_page=1&i_sory_by=1'\r\n",
    "            tgt = pd.read_html(ajax_page_url, encoding='utf-8')[0]\r\n",
    "            tgt['圖書館'], tgt['連結'] = org, url\r\n",
    "            tgts.append(tgt)\r\n",
    "        table = organize_columns(table)\r\n",
    "        return table  # 完成抓取 table\r\n",
    "    except:\r\n",
    "        print(f'《{ISBN}》在「{url}」無法爬取')"
   ],
   "outputs": [],
   "metadata": {
    "code_folding": []
   }
  },
  {
   "cell_type": "markdown",
   "source": [
    "### 函式測試"
   ],
   "metadata": {}
  },
  {
   "cell_type": "code",
   "execution_count": null,
   "source": [
    "if __name__ == '__main__':\r\n",
    "    driver = webdriver.Chrome(options=my_options, desired_capabilities=my_capabilities)\r\n",
    "    table = webpac_ajax_page_crawler(\r\n",
    "        org='新北市立圖書館',\r\n",
    "        org_url='https://webpac.tphcc.gov.tw/webpac/search.cfm',\r\n",
    "        ISBN='9789869109321'\r\n",
    "    )\r\n",
    "    table = webpac_ajax_page_crawler(\r\n",
    "        org='高雄市立空中大學',\r\n",
    "        org_url='https://webpac.ouk.edu.tw/webpac/search.cfm',\r\n",
    "        ISBN='9789869109321'\r\n",
    "    )\r\n",
    "    table = webpac_ajax_page_crawler(\r\n",
    "        org='國立屏東大學',\r\n",
    "        org_url='https://webpac.nptu.edu.tw/webpac/search.cfm',\r\n",
    "        ISBN='9789869109321'\r\n",
    "    )"
   ],
   "outputs": [],
   "metadata": {}
  },
  {
   "cell_type": "markdown",
   "source": [
    "## 基隆市公共圖書館(org, org_url, ISBN)\n",
    "- 『函式完成度』：中"
   ],
   "metadata": {}
  },
  {
   "cell_type": "markdown",
   "source": [
    "### 函式說明\n",
    "- 『運作的原理』：使用 Selenium\n",
    "- 『適用的機構』：[基隆市公共圖書館](https://webpac.klccab.gov.tw/webpac/search.cfm)\n",
    "- 『能處理狀況』：一筆、無\n",
    "- 『下一步優化』：\n",
    "    - 網站載入過慢，且 wait 方式不適用於此，只能使用大量的 time.sleep()"
   ],
   "metadata": {}
  },
  {
   "cell_type": "markdown",
   "source": [
    "### 函式本體"
   ],
   "metadata": {}
  },
  {
   "cell_type": "code",
   "execution_count": null,
   "source": [
    "def 基隆市公共圖書館(org, org_url, ISBN):\r\n",
    "    try:\r\n",
    "        # 進入＂搜尋主頁＂\r\n",
    "        driver.get(org_url)\r\n",
    "        # 等待點擊＂進階查詢＂按鈕，接著點擊\r\n",
    "        WebDriverWait(driver, 30).until(EC.element_to_be_clickable((By.LINK_TEXT, '進階檢索'))).click()\r\n",
    "        time.sleep(2)  # JavaScript 動畫，強制等待\r\n",
    "        # 等待定位＂下拉式選單＂，選擇以 ISBN 方式搜尋\r\n",
    "        search_field = WebDriverWait(driver, 10).until(EC.presence_of_element_located((By.ID, 'as_type_1')))\r\n",
    "        select = Select(search_field)\r\n",
    "        select.select_by_value('i')\r\n",
    "        # 定位＂搜尋欄＂，輸入 ISBN\r\n",
    "        search_input = driver.find_element_by_id('as_keyword_1')\r\n",
    "        search_input.send_keys(ISBN)\r\n",
    "        search_input.send_keys(Keys.ENTER)\r\n",
    "\r\n",
    "        time.sleep(8)  # 基隆的系統太詭異了，強制等待\r\n",
    "        soup = BeautifulSoup(driver.page_source, \"html.parser\")\r\n",
    "        results = len(soup.find_all(\"div\", \"list_box\"))\r\n",
    "        if results < 2:\r\n",
    "            WebDriverWait(driver, 10).until(\r\n",
    "                EC.presence_of_element_located(\r\n",
    "                    (By.CSS_SELECTOR, \"table.list.list_border\")))\r\n",
    "            time.sleep(2)\r\n",
    "            table = pd.read_html(driver.page_source)[0]\r\n",
    "        else:\r\n",
    "            table = []\r\n",
    "            for li in soup.find_all(\"div\", \"list_box\"):\r\n",
    "                url_temp = \"https://webpac.klccab.gov.tw/webpac/\" + li.find(\r\n",
    "                    \"a\", \"btn\")[\"href\"]\r\n",
    "                driver.get(url_temp)\r\n",
    "                wait.until(\r\n",
    "                    EC.presence_of_element_located(\r\n",
    "                        (By.CSS_SELECTOR, \"table.list.list_border\")))\r\n",
    "                time.sleep(2)\r\n",
    "                table.append(\r\n",
    "                    pd.read_html(driver.page_source, encoding=\"utf-8\")[0])\r\n",
    "            table = pd.concat(table, axis=0, ignore_index=True)\r\n",
    "        table['圖書館'], table['連結'] = org, driver.current_url\r\n",
    "        table = organize_columns(table)\r\n",
    "        return table\r\n",
    "    except:\r\n",
    "        print(f'《{ISBN}》在「{url}」無法爬取')"
   ],
   "outputs": [],
   "metadata": {}
  },
  {
   "cell_type": "markdown",
   "source": [
    "### 函式測試"
   ],
   "metadata": {}
  },
  {
   "cell_type": "code",
   "execution_count": null,
   "source": [
    "if __name__ == '__main__':\r\n",
    "    driver = webdriver.Chrome(options=my_options, desired_capabilities=my_capabilities)\r\n",
    "    table = 基隆市公共圖書館(\r\n",
    "        org='基隆市公共圖書館',\r\n",
    "        org_url='https://webpac.klccab.gov.tw/webpac/search.cfm',\r\n",
    "        ISBN='9789869109321'\r\n",
    "    )"
   ],
   "outputs": [],
   "metadata": {}
  },
  {
   "cell_type": "code",
   "execution_count": null,
   "source": [],
   "outputs": [],
   "metadata": {}
  },
  {
   "cell_type": "code",
   "execution_count": null,
   "source": [],
   "outputs": [],
   "metadata": {}
  },
  {
   "cell_type": "markdown",
   "source": [
    "## 臺北市立圖書館(org, org_url, ISBN)\n",
    "- 『函式完成度』：極高"
   ],
   "metadata": {}
  },
  {
   "cell_type": "markdown",
   "source": [
    "### 函式說明\n",
    "- 『運作的原理』：輸入 ISBN 搜索後，直接進入＂詳細書目＂，並且該頁面有全部的藏書狀況，只要爬一個表格即可。\n",
    "- 『適用的機構』：[臺北市立圖書館](https://book.tpml.edu.tw/webpac/webpacIndex.jsp)\n",
    "- 『能處理狀況』：找不到、一筆\n",
    "- 『下一步優化』：暫無問題"
   ],
   "metadata": {}
  },
  {
   "cell_type": "markdown",
   "source": [
    "### 函式本體"
   ],
   "metadata": {
    "heading_collapsed": true
   }
  },
  {
   "cell_type": "code",
   "execution_count": null,
   "source": [
    "def 臺北市立圖書館(org, org_url, ISBN):\r\n",
    "    try:\r\n",
    "        # 進入＂搜尋主頁＂\r\n",
    "        driver.get(org_url)\r\n",
    "        # 等待定位＂下拉式選單＂，選擇以 ISBN 方式搜尋\r\n",
    "        search_field = WebDriverWait(driver, 30).until(\r\n",
    "            EC.presence_of_element_located((By.NAME, 'search_field')))\r\n",
    "        select = Select(search_field)\r\n",
    "        select.select_by_value('ISBN')\r\n",
    "        # 定位＂搜尋欄＂，輸入 ISBN\r\n",
    "        search_input = driver.find_element_by_name('search_input')\r\n",
    "        search_input.send_keys(ISBN)\r\n",
    "        search_input.submit()\r\n",
    "\r\n",
    "        # 等待＜表格＞出現\r\n",
    "        WebDriverWait(driver, 30).until(EC.presence_of_element_located(\r\n",
    "            (By.CSS_SELECTOR, 'table.order')))\r\n",
    "\r\n",
    "        # 取得當前網頁的 html 進行解析，以取得 DataFrame\r\n",
    "        tgt = pd.read_html(driver.page_source, encoding=\"utf-8\")\r\n",
    "        table = tgt[-3]\r\n",
    "        table['圖書館'], table['連結'] = org, driver.current_url\r\n",
    "        table = organize_columns(table)\r\n",
    "        return table\r\n",
    "    except:\r\n",
    "        print(f'《{ISBN}》在「{org_url}」無法爬取')"
   ],
   "outputs": [],
   "metadata": {
    "hidden": true
   }
  },
  {
   "cell_type": "markdown",
   "source": [
    "### 函式測試"
   ],
   "metadata": {}
  },
  {
   "cell_type": "code",
   "execution_count": null,
   "source": [
    "if __name__ == '__main__':\r\n",
    "    driver = webdriver.Chrome(options=my_options, desired_capabilities=my_capabilities)\r\n",
    "    table = 臺北市立圖書館(\r\n",
    "        org='臺北市立圖書館',\r\n",
    "        org_url='https://book.tpml.edu.tw/webpac/webpacIndex.jsp',\r\n",
    "        ISBN='9789869109321'\r\n",
    "    )"
   ],
   "outputs": [],
   "metadata": {}
  },
  {
   "cell_type": "markdown",
   "source": [
    "## 國家圖書館(org, org_url, ISBN)\n",
    "- 『函式完成度』：極高"
   ],
   "metadata": {}
  },
  {
   "cell_type": "markdown",
   "source": [
    "### 函式說明\n",
    "- 『運作的原理』：使用 Selenium\n",
    "- 『適用的機構』：[國家圖書館](https://aleweb.ncl.edu.tw/F)\n",
    "- 『能處理狀況』：找不到、一筆\n",
    "- 『下一步優化』：\n",
    "    - 目前尚未遇到多筆情況\n",
    "    - 不知道可以和什麼機構的系統合併在一起？"
   ],
   "metadata": {}
  },
  {
   "cell_type": "markdown",
   "source": [
    "### 函式本體"
   ],
   "metadata": {}
  },
  {
   "cell_type": "code",
   "execution_count": null,
   "source": [
    "def 國家圖書館(org, org_url, ISBN):\r\n",
    "    try:\r\n",
    "        driver.get(org_url)\r\n",
    "        select_ISBN_strategy('find_code', 'ISBN')\r\n",
    "        search_ISBN(ISBN, 'request')\r\n",
    "        \r\n",
    "        # 點擊＂書在哪裡(請點選)＂，進入＂詳細書目＂\r\n",
    "        tgt_url = WebDriverWait(driver, 10).until(\r\n",
    "            EC.presence_of_element_located((By.LINK_TEXT, '書在哪裡(請點選)'))).get_attribute('href')\r\n",
    "        driver.get(tgt_url)\r\n",
    "        # 定位＂表格＂，爬取內容\r\n",
    "        accurately_find_table_and_read_it('')\r\n",
    "        \r\n",
    "        table = pd.read_html(driver.page_source)[-2]\r\n",
    "        table['圖書館'], table['連結'] = org, tgt_url\r\n",
    "        table = organize_columns(table)\r\n",
    "        return table\r\n",
    "    except:\r\n",
    "        print(f'《{ISBN}》在「{org_url}」無法爬取')"
   ],
   "outputs": [],
   "metadata": {}
  },
  {
   "cell_type": "markdown",
   "source": [
    "### 函式測試"
   ],
   "metadata": {}
  },
  {
   "cell_type": "code",
   "execution_count": null,
   "source": [
    "if __name__ == '__main__':\r\n",
    "    driver = webdriver.Chrome(options=my_options, desired_capabilities=my_capabilities)\r\n",
    "    table = 國家圖書館(\r\n",
    "        org='國家圖書館',\r\n",
    "        org_url='https://aleweb.ncl.edu.tw/F',\r\n",
    "        ISBN='9789869109321'\r\n",
    "    )"
   ],
   "outputs": [],
   "metadata": {
    "scrolled": true
   }
  },
  {
   "cell_type": "code",
   "execution_count": null,
   "source": [],
   "outputs": [],
   "metadata": {}
  },
  {
   "cell_type": "code",
   "execution_count": null,
   "source": [],
   "outputs": [],
   "metadata": {}
  },
  {
   "cell_type": "markdown",
   "source": [
    "## 彰化縣公共圖書館(org, org_url, ISBN) 進行中\n",
    "- 『函式完成度』：高"
   ],
   "metadata": {}
  },
  {
   "cell_type": "markdown",
   "source": [
    "### 函式說明\n",
    "- 『運作的原理』：待輸入\n",
    "- 『適用的機構』：彰化縣圖書館\n",
    "- 『能處理狀況』：一筆、無、多筆、（翻頁\n",
    "- 『下一步優化』：\n",
    "    - [翻頁](https://library.toread.bocach.gov.tw/toread/opac/bibliographic_view?NewBookMode=false&id=341724&mps=10&q=986729193X+OR+9789867291936&start=0&view=CONTENT)\n",
    "    - 待輸入"
   ],
   "metadata": {}
  },
  {
   "cell_type": "markdown",
   "source": [
    "### 函式本體"
   ],
   "metadata": {}
  },
  {
   "cell_type": "code",
   "execution_count": null,
   "source": [
    "def 彰化縣公共圖書館(org, org_url, ISBN):\r\n",
    "    table = []\r\n",
    "    tgt_urls = []\r\n",
    "    \r\n",
    "    driver.get(org_url)\r\n",
    "    search_ISBN(ISBN, 'q')\r\n",
    "    \r\n",
    "    if not wait_for_element_present('div#results'):\r\n",
    "        print(f'在{org}裡，沒有《{ISBN}》')\r\n",
    "        return\r\n",
    "    \r\n",
    "    # 有 div#results，接著分析 html，找出所有的＂詳細書目＂的網址\r\n",
    "    soup = BeautifulSoup(driver.page_source, 'html.parser')\r\n",
    "    ul = soup.select('div#results > ul')[0]\r\n",
    "    for li in ul.select('li.is_img'):\r\n",
    "        tgt_urls.append(org_url + li.a['href'])\r\n",
    "    # for 迴圈，進入所有的＂詳細書目＂的網址\r\n",
    "    for tgt_url in tgt_urls:\r\n",
    "        driver.get(tgt_url)\r\n",
    "        tgt = accurately_find_table_and_read_it('table.gridTable')\r\n",
    "        \r\n",
    "        # 以下兩行，是＂彰化縣公共圖書館＂有多餘的 row，須要特別篩選調 NaN\r\n",
    "        filtered_tgt = tgt.dropna(subset=['典藏地名稱'])\r\n",
    "        filtered_tgt.reset_index(drop=True, inplace=True)\r\n",
    "        \r\n",
    "        table.append(filtered_tgt)\r\n",
    "    table = organize_columns(table)\r\n",
    "    return table"
   ],
   "outputs": [],
   "metadata": {
    "scrolled": false
   }
  },
  {
   "cell_type": "markdown",
   "source": [
    "### 函式測試"
   ],
   "metadata": {}
  },
  {
   "cell_type": "code",
   "execution_count": null,
   "source": [
    "if __name__ == '__main__':\r\n",
    "    driver = webdriver.Chrome(options=my_options, desired_capabilities=my_capabilities)\r\n",
    "    table = 彰化縣公共圖書館(\r\n",
    "        org='彰化縣公共圖書館',\r\n",
    "        org_url='https://library.toread.bocach.gov.tw',\r\n",
    "        ISBN='986729193X'\r\n",
    "    )"
   ],
   "outputs": [],
   "metadata": {}
  },
  {
   "cell_type": "code",
   "execution_count": null,
   "source": [
    "table"
   ],
   "outputs": [],
   "metadata": {
    "scrolled": true
   }
  },
  {
   "cell_type": "markdown",
   "source": [
    "## 待輸入(org, org_url, ISBN)\n",
    "- 『函式完成度』：待輸入"
   ],
   "metadata": {}
  },
  {
   "cell_type": "markdown",
   "source": [
    "### 函式說明\n",
    "- 『運作的原理』：待輸入\n",
    "- 『適用的機構』：待輸入\n",
    "- 『能處理狀況』：待輸入\n",
    "- 『下一步優化』：\n",
    "    - 待輸入\n",
    "    - 待輸入"
   ],
   "metadata": {}
  },
  {
   "cell_type": "markdown",
   "source": [
    "### 函式本體"
   ],
   "metadata": {}
  },
  {
   "cell_type": "code",
   "execution_count": null,
   "source": [
    "def web2_crawler(org, url_front, ISBN, url_behind, driver):\r\n",
    "    url = url_front + ISBN + url_behind\r\n",
    "    try:\r\n",
    "        driver.get(url)\r\n",
    "        title = driver.find_element_by_xpath('/html/body/div/div[1]/div[2]/div/div/div[2]/div[3]/div[1]/div[3]/div/ul/li/div/div[2]/h3/a').click()\r\n",
    "        \r\n",
    "        df_web2 = accurately_find_table_and_read_it('div#LocalHolding > table')\r\n",
    "        df_web2 = organize_columns(df_web2)\r\n",
    "        return df_web2\r\n",
    "    except:\r\n",
    "        print(f\"「{url}」無法爬取！\")"
   ],
   "outputs": [],
   "metadata": {}
  },
  {
   "cell_type": "markdown",
   "source": [
    "### 函式測試"
   ],
   "metadata": {}
  },
  {
   "cell_type": "code",
   "execution_count": null,
   "source": [
    "if __name__ == '__main__':\r\n",
    "    driver = webdriver.Chrome(options=my_options, desired_capabilities=my_capabilities)\r\n",
    "    table = web2_crawler(\r\n",
    "        org='國立勤益科技大學',\r\n",
    "        url_front='http://140.128.95.172/webpac/search/?q=',\r\n",
    "        url_behind='&field=isn&op=AND&type=&department=&college=&dep=&active=1',\r\n",
    "        ISBN='9789869109321'\r\n",
    "    )\r\n",
    "table"
   ],
   "outputs": [],
   "metadata": {
    "scrolled": true
   }
  },
  {
   "cell_type": "code",
   "execution_count": null,
   "source": [],
   "outputs": [],
   "metadata": {}
  },
  {
   "cell_type": "code",
   "execution_count": null,
   "source": [],
   "outputs": [],
   "metadata": {}
  },
  {
   "cell_type": "code",
   "execution_count": null,
   "source": [
    "soup.find('div', {'id': 'LocalHolding'})"
   ],
   "outputs": [],
   "metadata": {}
  },
  {
   "cell_type": "code",
   "execution_count": null,
   "source": [
    "soup2 = BeautifulSoup(driver.page_source, 'html.parser')"
   ],
   "outputs": [],
   "metadata": {}
  },
  {
   "cell_type": "code",
   "execution_count": null,
   "source": [
    "soup2.find('div', {'id': 'LocalHolding'})"
   ],
   "outputs": [],
   "metadata": {}
  },
  {
   "cell_type": "code",
   "execution_count": null,
   "source": [],
   "outputs": [],
   "metadata": {}
  },
  {
   "cell_type": "code",
   "execution_count": null,
   "source": [
    "type(df_web2)"
   ],
   "outputs": [],
   "metadata": {
    "scrolled": true
   }
  },
  {
   "cell_type": "code",
   "execution_count": null,
   "source": [
    "df_web2['圖書館'], df_web2['連結'] = org, driver.current_url\n",
    "df_web2 = organize_columns(df_web2)"
   ],
   "outputs": [],
   "metadata": {}
  },
  {
   "cell_type": "code",
   "execution_count": null,
   "source": [],
   "outputs": [],
   "metadata": {}
  },
  {
   "cell_type": "code",
   "execution_count": null,
   "source": [],
   "outputs": [],
   "metadata": {}
  },
  {
   "cell_type": "markdown",
   "source": [
    "## 待輸入(org, org_url, ISBN)\n",
    "- 『函式完成度』：待輸入"
   ],
   "metadata": {}
  },
  {
   "cell_type": "markdown",
   "source": [
    "### 函式說明\n",
    "- 『運作的原理』：待輸入\n",
    "- 『適用的機構』：待輸入\n",
    "- 『能處理狀況』：待輸入\n",
    "- 『下一步優化』：\n",
    "    - 待輸入\n",
    "    - 待輸入"
   ],
   "metadata": {}
  },
  {
   "cell_type": "markdown",
   "source": [
    "### 函式本體"
   ],
   "metadata": {}
  },
  {
   "cell_type": "markdown",
   "source": [
    "### 函式測試"
   ],
   "metadata": {}
  },
  {
   "cell_type": "code",
   "execution_count": null,
   "source": [
    "if __name__ == '__main__':\n",
    "    driver = webdriver.Chrome(options=my_options, desired_capabilities=my_capabilities)\n",
    "    table = 待輸入(\n",
    "        org='待輸入',\n",
    "        org_url='待輸入',\n",
    "        ISBN='9789869109321'\n",
    "    )"
   ],
   "outputs": [],
   "metadata": {}
  },
  {
   "cell_type": "markdown",
   "source": [
    "## 待輸入(org, org_url, ISBN)\n",
    "- 『函式完成度』：待輸入"
   ],
   "metadata": {}
  },
  {
   "cell_type": "markdown",
   "source": [
    "### 函式說明\n",
    "- 『運作的原理』：待輸入\n",
    "- 『適用的機構』：待輸入\n",
    "- 『能處理狀況』：待輸入\n",
    "- 『下一步優化』：\n",
    "    - 待輸入\n",
    "    - 待輸入"
   ],
   "metadata": {}
  },
  {
   "cell_type": "markdown",
   "source": [
    "### 函式本體"
   ],
   "metadata": {}
  },
  {
   "cell_type": "markdown",
   "source": [
    "### 函式測試"
   ],
   "metadata": {}
  },
  {
   "cell_type": "code",
   "execution_count": null,
   "source": [
    "if __name__ == '__main__':\n",
    "    driver = webdriver.Chrome(options=my_options, desired_capabilities=my_capabilities)\n",
    "    table = 待輸入(\n",
    "        org='待輸入',\n",
    "        org_url='待輸入',\n",
    "        ISBN='9789869109321'\n",
    "    )"
   ],
   "outputs": [],
   "metadata": {}
  }
 ],
 "metadata": {
  "kernelspec": {
   "display_name": "Python 3",
   "language": "python",
   "name": "python3"
  },
  "language_info": {
   "codemirror_mode": {
    "name": "ipython",
    "version": 3
   },
   "file_extension": ".py",
   "mimetype": "text/x-python",
   "name": "python",
   "nbconvert_exporter": "python",
   "pygments_lexer": "ipython3",
   "version": "3.8.8"
  },
  "toc": {
   "base_numbering": 1,
   "nav_menu": {},
   "number_sections": true,
   "sideBar": true,
   "skip_h1_title": false,
   "title_cell": "Table of Contents",
   "title_sidebar": "Contents",
   "toc_cell": false,
   "toc_position": {
    "height": "calc(100% - 180px)",
    "left": "10px",
    "top": "150px",
    "width": "256px"
   },
   "toc_section_display": true,
   "toc_window_display": false
  }
 },
 "nbformat": 4,
 "nbformat_minor": 5
}