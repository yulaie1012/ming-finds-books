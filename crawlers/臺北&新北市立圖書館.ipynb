{
 "cells": [
  {
   "cell_type": "code",
   "execution_count": 1,
   "id": "7c0cc8ef",
   "metadata": {},
   "outputs": [],
   "source": [
    "# 環境設置\n",
    "from selenium import webdriver\n",
    "from selenium.webdriver.chrome.options import Options\n",
    "from selenium.webdriver.support.ui import Select\n",
    "from selenium.webdriver.common.keys import Keys  # 鍵盤操作\n",
    "from selenium.common.exceptions import NoSuchElementException\n",
    "import pandas as pd\n",
    "import requests\n",
    "import requests.packages.urllib3\n",
    "requests.packages.urllib3.disable_warnings()\n",
    "from urllib.request import HTTPError\n",
    "from bs4 import BeautifulSoup\n",
    "import time\n",
    "\n",
    "ISBN = \"9789573317241\"\n",
    "title = \"哈利波特(1)：神秘的魔法石\"\n",
    "\n",
    "my_options = Options()\n",
    "my_options.add_argument(\"--incognito\")  # 開啟無痕模式\n",
    "# my_options.add_argument(\"--headless\")  # 不開啟實體瀏覽器"
   ]
  },
  {
   "cell_type": "code",
   "execution_count": null,
   "id": "c2a148a4",
   "metadata": {
    "scrolled": true
   },
   "outputs": [],
   "source": [
    "# 臺北市立圖書館\n",
    "# 進入《臺北市立圖書館》館藏系統\n",
    "driver = webdriver.Chrome(options=my_options)\n",
    "url = \"https://book.tpml.edu.tw/webpac/webpacIndex.jsp\"\n",
    "driver.get(url)\n",
    "\n",
    "# 定位選擇欄，以 ISBN 搜尋方式搜尋\n",
    "select = Select(driver.find_element_by_name(\"search_field\"))\n",
    "select.select_by_visible_text(u\"ISBN\")\n",
    "search_input = driver.find_element_by_name(\"search_input\")\n",
    "search_input.send_keys(ISBN)\n",
    "search_input.submit()"
   ]
  },
  {
   "cell_type": "code",
   "execution_count": null,
   "id": "8bd74a21",
   "metadata": {},
   "outputs": [],
   "source": [
    "# 取得當前網頁的 html 進行解析，以取得 DataFrame\n",
    "html_text = driver.page_source"
   ]
  },
  {
   "cell_type": "code",
   "execution_count": null,
   "id": "153bdb72",
   "metadata": {
    "scrolled": true
   },
   "outputs": [],
   "source": [
    "dfs = pd.read_html(html_text, encoding=\"utf-8\")\n",
    "tgt2 = dfs[19]\n",
    "\n",
    "# 清理資料\n",
    "tgt2[\"索書號\"] = tgt2[\"索書號\"].fillna(method=\"ffill\", axis=0) + \" \" + tgt2[\"編號\"].apply(str)\n",
    "tgt2.drop([\"編號\", \"館藏類型\", \"註記\"], axis=1, inplace=True)\n",
    "tgt2.rename(columns={\n",
    "    \"典藏館\": \"館藏地\",\n",
    "    \"館藏位置(到期日期僅為期限，不代表上架日期)\": \"館藏狀態\"\n",
    "}, inplace=True)\n",
    "tgt2.insert(0, \"圖書館\", [\"臺北市立圖書館\" for i in range(tgt2.shape[0])])"
   ]
  },
  {
   "cell_type": "code",
   "execution_count": null,
   "id": "525c4ed4",
   "metadata": {},
   "outputs": [],
   "source": []
  },
  {
   "cell_type": "code",
   "execution_count": 2,
   "id": "8f75df2b",
   "metadata": {},
   "outputs": [],
   "source": [
    "# 新北市立圖書館\n",
    "# 進入《新北市立圖書館》館藏系統\n",
    "driver = webdriver.Chrome(options=my_options)\n",
    "url = \"https://webpac.tphcc.gov.tw/webpac/search.cfm\"\n",
    "driver.get(url)\n",
    "\n",
    "# 進階搜尋，以 ISBN 搜尋方式搜尋\n",
    "driver.find_element_by_xpath('//*[@id=\"change_adv\"]').click()\n",
    "select = Select(driver.find_element_by_name(\"as_type\"))\n",
    "select.select_by_visible_text(u\"ISBN/ISSN\")\n",
    "search_input = driver.find_element_by_name(\"as_keyword\")\n",
    "search_input.send_keys(ISBN)\n",
    "# search_input.submit()  # 不知道為什麼無法 submit()？\n",
    "search_input.send_keys(Keys.ENTER)  # 改使用鍵盤控制，按下「ENTER」鍵\n",
    "\n",
    "# 進入詳細書目\n",
    "time.sleep(1)\n",
    "driver.find_element_by_xpath('//*[@id=\"autolink\"]/h3').click()\n",
    "\n",
    "# 選擇書目排序方式：館藏狀態(由小到大)\n",
    "time.sleep(1)\n",
    "select = Select(driver.find_element_by_name(\"sort\"))\n",
    "select.select_by_visible_text(u\"館藏狀態(由小到大)\")"
   ]
  },
  {
   "cell_type": "code",
   "execution_count": 3,
   "id": "eef013d5",
   "metadata": {},
   "outputs": [
    {
     "data": {
      "text/plain": [
       "'18'"
      ]
     },
     "execution_count": 3,
     "metadata": {},
     "output_type": "execute_result"
    }
   ],
   "source": [
    "# 確定搜尋結果的頁數，跑迴圈用\n",
    "num_of_pages = driver.find_element_by_xpath('//*[@id=\"wrap\"]/div[3]/div/div[2]/div[5]/div/div[6]/div/span').text\\\n",
    ".replace(\"1 - \", \"\")\\\n",
    ".replace(\"頁，跳頁至\", \"\")\n",
    "num_of_pages"
   ]
  },
  {
   "cell_type": "code",
   "execution_count": 4,
   "id": "b1da3926",
   "metadata": {},
   "outputs": [],
   "source": [
    "df_lst = []\n",
    "for pagination in range(1, int(num_of_pages) + 1):\n",
    "    go_page = driver.find_element_by_name('page')\n",
    "    go_page.send_keys(pagination)\n",
    "    go_page.send_keys(Keys.ENTER)\n",
    "    time.sleep(1)\n",
    "    \n",
    "    html_text = driver.page_source\n",
    "    dfs = pd.read_html(html_text, encoding=\"utf-8\")\n",
    "    df_lst.append(dfs[0])"
   ]
  },
  {
   "cell_type": "code",
   "execution_count": 5,
   "id": "029a9c2c",
   "metadata": {
    "scrolled": true
   },
   "outputs": [],
   "source": [
    "tgt1 = pd.concat(df_lst, axis=0, ignore_index=True)\n",
    "tgt1.drop([\"條碼號\", \"館藏流通類別\", \"資料類型\", \"預約人數\", \"備註\", \"附件\", \"預約\"], axis=1, inplace=True)\n",
    "tgt1.rename(columns={\n",
    "    \"典藏地名稱\": \"館藏地\"\n",
    "}, inplace=True)\n",
    "tgt1.insert(0, \"圖書館\", [\"新北市立圖書館\" for i in range(tgt1.shape[0])])"
   ]
  },
  {
   "cell_type": "code",
   "execution_count": null,
   "id": "508e1f89",
   "metadata": {},
   "outputs": [],
   "source": []
  },
  {
   "cell_type": "code",
   "execution_count": 7,
   "id": "db409e93",
   "metadata": {},
   "outputs": [
    {
     "data": {
      "text/html": [
       "<div>\n",
       "<style scoped>\n",
       "    .dataframe tbody tr th:only-of-type {\n",
       "        vertical-align: middle;\n",
       "    }\n",
       "\n",
       "    .dataframe tbody tr th {\n",
       "        vertical-align: top;\n",
       "    }\n",
       "\n",
       "    .dataframe thead th {\n",
       "        text-align: right;\n",
       "    }\n",
       "</style>\n",
       "<table border=\"1\" class=\"dataframe\">\n",
       "  <thead>\n",
       "    <tr style=\"text-align: right;\">\n",
       "      <th></th>\n",
       "      <th>圖書館</th>\n",
       "      <th>館藏地</th>\n",
       "      <th>索書號</th>\n",
       "      <th>館藏狀態</th>\n",
       "    </tr>\n",
       "  </thead>\n",
       "  <tbody>\n",
       "    <tr>\n",
       "      <th>0</th>\n",
       "      <td>新北市立圖書館</td>\n",
       "      <td>淡水青少年專區</td>\n",
       "      <td>Y 873.57 857</td>\n",
       "      <td>在架</td>\n",
       "    </tr>\n",
       "    <tr>\n",
       "      <th>1</th>\n",
       "      <td>新北市立圖書館</td>\n",
       "      <td>汐止大同分館開架閱覽[原汐止分館]</td>\n",
       "      <td>873.57 857 2000</td>\n",
       "      <td>在架</td>\n",
       "    </tr>\n",
       "    <tr>\n",
       "      <th>2</th>\n",
       "      <td>新北市立圖書館</td>\n",
       "      <td>汐止大同分館開架閱覽[原汐止分館]</td>\n",
       "      <td>873.57 857 2000 c.2</td>\n",
       "      <td>在架</td>\n",
       "    </tr>\n",
       "    <tr>\n",
       "      <th>3</th>\n",
       "      <td>新北市立圖書館</td>\n",
       "      <td>新莊開架閱覽</td>\n",
       "      <td>873.57 857 c.2</td>\n",
       "      <td>在架</td>\n",
       "    </tr>\n",
       "    <tr>\n",
       "      <th>4</th>\n",
       "      <td>新北市立圖書館</td>\n",
       "      <td>林口開架閱覽</td>\n",
       "      <td>873.57 857 c.2</td>\n",
       "      <td>在架</td>\n",
       "    </tr>\n",
       "    <tr>\n",
       "      <th>...</th>\n",
       "      <td>...</td>\n",
       "      <td>...</td>\n",
       "      <td>...</td>\n",
       "      <td>...</td>\n",
       "    </tr>\n",
       "    <tr>\n",
       "      <th>168</th>\n",
       "      <td>新北市立圖書館</td>\n",
       "      <td>土城清水開架閱覽</td>\n",
       "      <td>873.57 8666</td>\n",
       "      <td>久借未還  : 2012/11/30</td>\n",
       "    </tr>\n",
       "    <tr>\n",
       "      <th>169</th>\n",
       "      <td>新北市立圖書館</td>\n",
       "      <td>三重開架閱覽</td>\n",
       "      <td>873.57 857</td>\n",
       "      <td>D破損</td>\n",
       "    </tr>\n",
       "    <tr>\n",
       "      <th>170</th>\n",
       "      <td>新北市立圖書館</td>\n",
       "      <td>三重開架閱覽</td>\n",
       "      <td>873.57 857 c.2</td>\n",
       "      <td>M圖書掛失(開架遺失)</td>\n",
       "    </tr>\n",
       "    <tr>\n",
       "      <th>171</th>\n",
       "      <td>新北市立圖書館</td>\n",
       "      <td>三重五常罕用書庫</td>\n",
       "      <td>873.57 857 1櫃</td>\n",
       "      <td>M圖書掛失(開架遺失)</td>\n",
       "    </tr>\n",
       "    <tr>\n",
       "      <th>172</th>\n",
       "      <td>新北市立圖書館</td>\n",
       "      <td>土城清水開架閱覽</td>\n",
       "      <td>873.57 8666 c.2</td>\n",
       "      <td>M圖書掛失(開架遺失)</td>\n",
       "    </tr>\n",
       "  </tbody>\n",
       "</table>\n",
       "<p>173 rows × 4 columns</p>\n",
       "</div>"
      ],
      "text/plain": [
       "         圖書館                館藏地                  索書號                館藏狀態\n",
       "0    新北市立圖書館            淡水青少年專區         Y 873.57 857                  在架\n",
       "1    新北市立圖書館  汐止大同分館開架閱覽[原汐止分館]      873.57 857 2000                  在架\n",
       "2    新北市立圖書館  汐止大同分館開架閱覽[原汐止分館]  873.57 857 2000 c.2                  在架\n",
       "3    新北市立圖書館             新莊開架閱覽       873.57 857 c.2                  在架\n",
       "4    新北市立圖書館             林口開架閱覽       873.57 857 c.2                  在架\n",
       "..       ...                ...                  ...                 ...\n",
       "168  新北市立圖書館           土城清水開架閱覽          873.57 8666  久借未還  : 2012/11/30\n",
       "169  新北市立圖書館             三重開架閱覽           873.57 857                 D破損\n",
       "170  新北市立圖書館             三重開架閱覽       873.57 857 c.2         M圖書掛失(開架遺失)\n",
       "171  新北市立圖書館           三重五常罕用書庫        873.57 857 1櫃         M圖書掛失(開架遺失)\n",
       "172  新北市立圖書館           土城清水開架閱覽      873.57 8666 c.2         M圖書掛失(開架遺失)\n",
       "\n",
       "[173 rows x 4 columns]"
      ]
     },
     "execution_count": 7,
     "metadata": {},
     "output_type": "execute_result"
    }
   ],
   "source": [
    "# all-in-one\n",
    "df_final = pd.concat([tgt1], axis=0, ignore_index=True)\n",
    "df_final"
   ]
  },
  {
   "cell_type": "code",
   "execution_count": null,
   "id": "89cc1316",
   "metadata": {},
   "outputs": [],
   "source": [
    "df_final[\"館藏地\"] = df_final[\"館藏地\"].str.replace(\"栅\", \"柵\")"
   ]
  },
  {
   "cell_type": "code",
   "execution_count": null,
   "id": "db617fb1",
   "metadata": {},
   "outputs": [],
   "source": []
  },
  {
   "cell_type": "code",
   "execution_count": null,
   "id": "3c29f5e2",
   "metadata": {},
   "outputs": [],
   "source": []
  },
  {
   "cell_type": "code",
   "execution_count": null,
   "id": "1a3987de",
   "metadata": {},
   "outputs": [],
   "source": [
    "# 輸出成 csv 格式\n",
    "df_final.to_csv(f\"《{title}》的搜尋結果.csv\", encoding=\"big5\", index=True, errors=\"strict\")"
   ]
  },
  {
   "cell_type": "code",
   "execution_count": null,
   "id": "559d338f",
   "metadata": {},
   "outputs": [],
   "source": [
    "# 輸出成 excel\n",
    "abc = df_final.to_excel(f\"《{title}》的搜尋結果.xlsx\", encoding=\"big5\", index=True)"
   ]
  },
  {
   "cell_type": "code",
   "execution_count": null,
   "id": "791bc6ff",
   "metadata": {},
   "outputs": [],
   "source": []
  }
 ],
 "metadata": {
  "kernelspec": {
   "display_name": "Python 3",
   "language": "python",
   "name": "python3"
  },
  "language_info": {
   "codemirror_mode": {
    "name": "ipython",
    "version": 3
   },
   "file_extension": ".py",
   "mimetype": "text/x-python",
   "name": "python",
   "nbconvert_exporter": "python",
   "pygments_lexer": "ipython3",
   "version": "3.8.8"
  }
 },
 "nbformat": 4,
 "nbformat_minor": 5
}
