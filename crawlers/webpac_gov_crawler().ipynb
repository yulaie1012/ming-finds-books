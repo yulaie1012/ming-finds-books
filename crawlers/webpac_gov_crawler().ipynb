{
 "cells": [
  {
   "cell_type": "code",
   "execution_count": 2,
   "id": "37c6d207",
   "metadata": {},
   "outputs": [],
   "source": [
    "from selenium import webdriver\n",
    "from selenium.webdriver.chrome.options import Options  # 設定 driver 的行為\n",
    "from selenium.webdriver.support.ui import Select  # 選擇＂下拉式選單＂\n",
    "from selenium.webdriver.common.keys import Keys  # 鍵盤操作\n",
    "from selenium.common.exceptions import NoSuchElementException, TimeoutException  # 載入常見錯誤\n",
    "from selenium.webdriver.common.desired_capabilities import DesiredCapabilities  # 更改載入策略\n",
    "from selenium.webdriver.support.ui import WebDriverWait  # 等待機制\n",
    "from selenium.webdriver.support import expected_conditions as EC  # 預期事件\n",
    "from selenium.webdriver.common.by import By  # 找尋元素的方法\n",
    "import pandas as pd  # 載入 pandas\n",
    "import pandas.io.formats.excel  # 輸出自定義格式 Excel\n",
    "import requests\n",
    "import requests.packages.urllib3\n",
    "\n",
    "requests.packages.urllib3.disable_warnings()  # 關閉錯誤警告\n",
    "from urllib.request import HTTPError  # 載入 HTTPError\n",
    "from bs4 import BeautifulSoup\n",
    "import time  # 強制等待"
   ]
  },
  {
   "cell_type": "code",
   "execution_count": 3,
   "id": "b6585ef7",
   "metadata": {},
   "outputs": [],
   "source": [
    "my_options = Options()\n",
    "my_options.add_argument(\"--incognito\")  # 開啟無痕模式\n",
    "# my_options.add_argument(\"--start-maximized\")  # 視窗最大化\n",
    "# my_options.add_argument(\"--headless\")  # 不開啟實體瀏覽器\n",
    "my_capabilities = DesiredCapabilities.CHROME\n",
    "my_capabilities[\n",
    "    \"pageLoadStrategy\"] = \"none\"  # 當 html下載完成之後，不等待解析完成，selenium會直接返回"
   ]
  },
  {
   "cell_type": "code",
   "execution_count": 8,
   "id": "478d2af0",
   "metadata": {},
   "outputs": [],
   "source": []
  },
  {
   "cell_type": "code",
   "execution_count": 10,
   "id": "2ea59f59",
   "metadata": {},
   "outputs": [],
   "source": [
    "driver = webdriver.Chrome(options=my_options, desired_capabilities=my_capabilities)"
   ]
  },
  {
   "cell_type": "code",
   "execution_count": null,
   "id": "59702ae4",
   "metadata": {},
   "outputs": [],
   "source": [
    "# 代入值\n",
    "org='宜蘭縣公共圖書館'\n",
    "org_url='https://webpac.ilccb.gov.tw/advanceSearch'\n",
    "ISBN='9789573317241'\n",
    "\n",
    "# 進入＂進階搜尋首頁＂\n",
    "search_url = url + ISBN\n",
    "driver.get(org_url)\n",
    "\n",
    "# 等待定位＂下拉式選單＂，選擇以 ISBN 方式搜尋\n",
    "search_field = WebDriverWait(driver, 10).until(\n",
    "    EC.presence_of_element_located((By.NAME, 'searchField')))\n",
    "select = Select(search_field)\n",
    "time.sleep(0.5)\n",
    "select.select_by_value('ISBN')\n",
    "\n",
    "# 定位＂搜尋欄＂，輸入 ISBN\n",
    "search_input = driver.find_element_by_name('searchInput')\n",
    "search_input.send_keys(ISBN)\n",
    "search_input.send_keys(Keys.ENTER)\n",
    "\n",
    "# 計算＂搜尋結果的數量＂\n",
    "book_list = wait.until(\n",
    "    EC.presence_of_all_elements_located(\n",
    "        (By.CSS_SELECTOR, \"div.booklist\")))\n",
    "results = len(book_list)\n",
    "print(f\"搜尋結果數量有：{results}筆\", end=\"    \")\n",
    "\n",
    "time.sleep(2)  # 頁面加載，用強制等待\n",
    "\n",
    "# 依照搜尋結果的數量分成：一筆和多筆兩種情形\n",
    "if results < 2:\n",
    "    if WebDriverWait(driver, 10).until(\n",
    "            EC.presence_of_element_located(\n",
    "                (By.CSS_SELECTOR, \"div.bookplace_list\"))):\n",
    "        click_more_btn(driver)\n",
    "        return pd.read_html(driver.page_source, encoding=\"utf-8\")[-1]\n",
    "else:\n",
    "    soup = BeautifulSoup(driver.page_source,\n",
    "                         \"html.parser\")  # 用以當搜尋結果多筆時，找尋不同＂詳細書目＂的網址\n",
    "\n",
    "    tgt = []\n",
    "    url = url.split(\"search?\")[0]  # 取得＂搜尋主頁＂頁面\n",
    "    for li in soup.find_all(\"div\", \"booklist\"):\n",
    "        href = url + li.find(\"h2\").find(\"a\")[\"href\"]\n",
    "\n",
    "        driver.get(href)\n",
    "        if wait.until(\n",
    "                EC.presence_of_element_located(\n",
    "                    (By.CSS_SELECTOR, \"div.bookplace_list\"))):\n",
    "            click_more_btn(driver)\n",
    "        tgt.append(\n",
    "            pd.read_html(driver.page_source, encoding=\"utf-8\")[-1])\n",
    "    return pd.concat(tgt, axis=0, ignore_index=True)"
   ]
  },
  {
   "cell_type": "code",
   "execution_count": null,
   "id": "a5d04511",
   "metadata": {},
   "outputs": [],
   "source": []
  }
 ],
 "metadata": {
  "kernelspec": {
   "display_name": "Python 3",
   "language": "python",
   "name": "python3"
  },
  "language_info": {
   "codemirror_mode": {
    "name": "ipython",
    "version": 3
   },
   "file_extension": ".py",
   "mimetype": "text/x-python",
   "name": "python",
   "nbconvert_exporter": "python",
   "pygments_lexer": "ipython3",
   "version": "3.8.8"
  },
  "toc": {
   "base_numbering": 1,
   "nav_menu": {},
   "number_sections": true,
   "sideBar": true,
   "skip_h1_title": false,
   "title_cell": "Table of Contents",
   "title_sidebar": "Contents",
   "toc_cell": false,
   "toc_position": {},
   "toc_section_display": true,
   "toc_window_display": false
  }
 },
 "nbformat": 4,
 "nbformat_minor": 5
}
