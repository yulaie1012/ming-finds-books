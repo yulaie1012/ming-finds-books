{
 "cells": [
  {
   "cell_type": "code",
   "execution_count": null,
   "id": "d4cc9089",
   "metadata": {},
   "outputs": [],
   "source": [
    "# 環境設置\n",
    "from selenium import webdriver\n",
    "from selenium import webdriver\n",
    "from selenium.webdriver.chrome.options import Options\n",
    "from selenium.webdriver.support.ui import Select\n",
    "from selenium.webdriver.common.keys import Keys  # 鍵盤操作\n",
    "from selenium.common.exceptions import NoSuchElementException\n",
    "# ---------- 等待頁面加載完成\n",
    "from selenium.webdriver.common.desired_capabilities import DesiredCapabilities\n",
    "from selenium.webdriver.support.ui import WebDriverWait\n",
    "from selenium.webdriver.support import expected_conditions as EC\n",
    "from selenium.webdriver.common.by import By\n",
    "# ----------\n",
    "import pandas as pd\n",
    "import pandas.io.formats.excel\n",
    "import requests\n",
    "import requests.packages.urllib3\n",
    "requests.packages.urllib3.disable_warnings()\n",
    "from urllib.request import HTTPError\n",
    "from bs4 import BeautifulSoup\n",
    "import time"
   ]
  },
  {
   "cell_type": "code",
   "execution_count": null,
   "id": "edbcbebc",
   "metadata": {},
   "outputs": [],
   "source": [
    "# 國立宜蘭大學、佛光大學\n",
    "def webpac_jsp_crawler(url, ISBN, driver, wait):\n",
    "    try:\n",
    "        # 前往《館藏系統》頁面\n",
    "        driver.get(url)\n",
    "\n",
    "        # 等待＜下拉式選單＞元素出現\n",
    "        wait.until(EC.presence_of_element_located((By.NAME, \"search_field\")))\n",
    "\n",
    "        # 定位＜下拉式選單＞，以 ISBN 搜尋方式搜尋\n",
    "        select = Select(driver.find_element_by_name(\"search_field\"))\n",
    "        select.select_by_visible_text(u\"ISBN\")\n",
    "\n",
    "        # 定位＜搜尋＞，輸入 IBSN 後，按下 ENTER 鍵\n",
    "        search_input = driver.find_element_by_name(\"search_input\")\n",
    "        search_input.send_keys(ISBN)\n",
    "        search_input.submit()\n",
    "\n",
    "        # 等待＜表格＞元素出現\n",
    "        wait.until(EC.presence_of_element_located(\n",
    "            (By.CSS_SELECTOR, \"table.order\")))\n",
    "\n",
    "        # 取得 tgt\n",
    "        tgt = pd.read_html(driver.page_source, encoding=\"utf-8\")[-2]\n",
    "\n",
    "        return tgt\n",
    "    except:\n",
    "        print(f\"「{url}」無法爬取！\")"
   ]
  },
  {
   "cell_type": "code",
   "execution_count": null,
   "id": "f4b719d0",
   "metadata": {},
   "outputs": [],
   "source": [
    "tgt"
   ]
  },
  {
   "cell_type": "code",
   "execution_count": null,
   "id": "fe8c206a",
   "metadata": {},
   "outputs": [],
   "source": []
  },
  {
   "cell_type": "code",
   "execution_count": null,
   "id": "08a860e0",
   "metadata": {},
   "outputs": [],
   "source": [
    "def click_more_btn(driver):\n",
    "    while True:\n",
    "        try:\n",
    "            time.sleep(1)\n",
    "            driver.find_element_by_css_selector(\"a.btnstyle.bluebg3.morewidth\").click()\n",
    "        except NoSuchElementException:\n",
    "            break\n",
    "    tgt = pd.read_html(driver.page_source, encoding=\"utf-8\")[0]\n",
    "    return tgt"
   ]
  },
  {
   "cell_type": "code",
   "execution_count": null,
   "id": "0b1faa4f",
   "metadata": {},
   "outputs": [],
   "source": [
    "# 宜蘭縣公共圖書館、桃園市立圖書館\n",
    "def webpac_gov_crawler(url, ISBN, driver):\n",
    "    tgt = []\n",
    "    \n",
    "    # 進入《館藏系統》頁面\n",
    "    driver.get(url)\n",
    "\n",
    "    # 點選進階查詢\n",
    "    time.sleep(1)\n",
    "    driver.find_element_by_xpath('//*[@id=\"center\"]/div/section[1]/div/div/div/form/div[3]/div[1]/a').click()\n",
    "\n",
    "    # 選擇以 ISBN 查詢，並輸入欲查書的 ISBN，按下 ENTER\n",
    "    time.sleep(1)\n",
    "    select = Select(driver.find_element_by_name(\"searchField\"))\n",
    "    select.select_by_visible_text(u\"ISBN\")\n",
    "    search_input = driver.find_element_by_name(\"searchInput\")\n",
    "    search_input.send_keys(ISBN)\n",
    "    search_input.submit()\n",
    "\n",
    "    # 計算搜尋結果的數量\n",
    "    time.sleep(2)\n",
    "    soup = BeautifulSoup(driver.page_source, \"html.parser\")\n",
    "    results = len(soup.find_all(\"div\", \"booklist\"))\n",
    "\n",
    "    # 依照搜尋結果的數量分成一筆和多筆兩種情形\n",
    "    if results == 0:\n",
    "        tgt = click_more_btn(driver)\n",
    "        return tgt\n",
    "    else:\n",
    "        book_list = soup.find_all(\"div\", \"booklist\")\n",
    "        for li in book_list:\n",
    "            href = url + li.find(\"h2\").find(\"a\")[\"href\"]\n",
    "            driver.get(href)\n",
    "            time.sleep(2)\n",
    "            tgt.append(click_more_btn(driver))\n",
    "            tgt = pd.concat(tgt, axis=0, ignore_index=True)\n",
    "            return tgt"
   ]
  }
 ],
 "metadata": {
  "kernelspec": {
   "display_name": "Python 3",
   "language": "python",
   "name": "python3"
  },
  "language_info": {
   "codemirror_mode": {
    "name": "ipython",
    "version": 3
   },
   "file_extension": ".py",
   "mimetype": "text/x-python",
   "name": "python",
   "nbconvert_exporter": "python",
   "pygments_lexer": "ipython3",
   "version": "3.8.8"
  }
 },
 "nbformat": 4,
 "nbformat_minor": 5
}
