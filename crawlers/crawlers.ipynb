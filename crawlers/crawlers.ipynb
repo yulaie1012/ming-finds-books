{
 "cells": [
  {
   "cell_type": "markdown",
   "id": "ef2f09f6",
   "metadata": {},
   "source": [
    "# 環境設置"
   ]
  },
  {
   "cell_type": "markdown",
   "id": "aa2d8c90",
   "metadata": {},
   "source": [
    "## 載入套件\n",
    "- selenium、pandas、requests、bs4、time"
   ]
  },
  {
   "cell_type": "code",
   "execution_count": 1,
   "id": "9a1ffc24",
   "metadata": {
    "code_folding": []
   },
   "outputs": [],
   "source": [
    "from selenium import webdriver\n",
    "from selenium.webdriver.chrome.options import Options  # 設定 driver 的行為\n",
    "from selenium.webdriver.support.ui import Select  # 選擇＂下拉式選單＂\n",
    "from selenium.webdriver.common.keys import Keys  # 鍵盤操作\n",
    "from selenium.common.exceptions import NoSuchElementException, TimeoutException  # 載入常見錯誤\n",
    "from selenium.webdriver.common.desired_capabilities import DesiredCapabilities  # 更改載入策略\n",
    "from selenium.webdriver.support.ui import WebDriverWait  # 等待機制\n",
    "from selenium.webdriver.support import expected_conditions as EC  # 預期事件\n",
    "from selenium.webdriver.common.by import By  # 找尋元素的方法\n",
    "import pandas as pd  # 載入 pandas\n",
    "import pandas.io.formats.excel  # 輸出自定義格式 Excel\n",
    "import requests\n",
    "import requests.packages.urllib3\n",
    "\n",
    "requests.packages.urllib3.disable_warnings()  # 關閉錯誤警告\n",
    "from urllib.request import HTTPError  # 載入 HTTPError\n",
    "from bs4 import BeautifulSoup\n",
    "import time  # 強制等待"
   ]
  },
  {
   "cell_type": "markdown",
   "id": "72162171",
   "metadata": {},
   "source": [
    "## 設定 driver 的參數：options、desired_capabilities"
   ]
  },
  {
   "cell_type": "code",
   "execution_count": 2,
   "id": "f496877e",
   "metadata": {},
   "outputs": [],
   "source": [
    "my_options = Options()\n",
    "my_options.add_argument(\"--incognito\")  # 開啟無痕模式\n",
    "# my_options.add_argument(\"--start-maximized\")  # 視窗最大化\n",
    "# my_options.add_argument(\"--headless\")  # 不開啟實體瀏覽器\n",
    "my_capabilities = DesiredCapabilities.CHROME\n",
    "my_capabilities[\n",
    "    \"pageLoadStrategy\"] = \"none\"  # 當 html下載完成之後，不等待解析完成，selenium會直接返回"
   ]
  },
  {
   "cell_type": "markdown",
   "id": "df71dabf",
   "metadata": {},
   "source": [
    "# 輸出用的 function"
   ]
  },
  {
   "cell_type": "markdown",
   "id": "e1954306",
   "metadata": {},
   "source": [
    "## organize_columns(df1)\n",
    "- 處理欄位：圖書館、館藏地（c2）、索書號（c3）、館藏狀態（c4）、連結"
   ]
  },
  {
   "cell_type": "code",
   "execution_count": 37,
   "id": "80b9038a",
   "metadata": {},
   "outputs": [],
   "source": [
    "def organize_columns(df1):\n",
    "    # 處理 column 2：館藏地\n",
    "    c2 = ['館藏地/室', '館藏室', '館藏地/館藏室', '館藏地', '典藏館', '館藏位置', '館藏地/區域', '典藏地名稱']\n",
    "    df1['c2'] = ''\n",
    "    for c in c2:\n",
    "        try:\n",
    "            df1['c2'] += df1[c]\n",
    "        except:\n",
    "            pass\n",
    "\n",
    "    # 處理 column 3：索書號\n",
    "    c3 = ['索書號', '索書號/期刊合訂本卷期', '索書號 / 部冊號']\n",
    "    df1['c3'] = ''\n",
    "    for c in c3:\n",
    "        try:\n",
    "            df1['c3'] += df1[c]\n",
    "        except:\n",
    "            pass\n",
    "\n",
    "    # 處理 column 4：館藏狀態\n",
    "    c4 = [\n",
    "        '狀態/到期日', '目前狀態 / 到期日', '館藏狀態', '處理狀態', '狀態 (說明)', '館藏現況 說明',\n",
    "        '目前狀態/預計歸還日期', '圖書狀況 / 到期日'\n",
    "    ]\n",
    "    df1['c4'] = ''\n",
    "    for c in c4:\n",
    "        try:\n",
    "            df1['c4'] += df1[c]\n",
    "        except:\n",
    "            pass\n",
    "\n",
    "    # 直接生成另一個 DataFrame\n",
    "    df2 = pd.DataFrame()\n",
    "    df2['圖書館'] = df1['圖書館']\n",
    "    df2['館藏地'] = df1['c2']\n",
    "    df2['索書號'] = df1['c3']\n",
    "    df2['館藏狀態'] = df1['c4']\n",
    "    df2['連結'] = df1['連結']\n",
    "\n",
    "    return df2"
   ]
  },
  {
   "cell_type": "markdown",
   "id": "9df22a4a",
   "metadata": {
    "heading_collapsed": true
   },
   "source": [
    "## set_excel(df, directory)\n",
    "- 待"
   ]
  },
  {
   "cell_type": "code",
   "execution_count": 4,
   "id": "5d928aa0",
   "metadata": {
    "code_folding": [],
    "hidden": true
   },
   "outputs": [],
   "source": [
    "def set_excel(df, directory):\n",
    "    # B｢圖書館｣、C「館藏地」、D「索書號」、E「館藏狀態」、F「連結」\n",
    "    pandas.io.formats.excel.header_style = None  # 標題格式清除\n",
    "    writer = pd.ExcelWriter(directory)\n",
    "    df.to_excel(writer, sheet_name=\"搜尋結果\")\n",
    "\n",
    "    workbook1 = writer.book\n",
    "    worksheets = writer.sheets\n",
    "    worksheet1 = worksheets[\"搜尋結果\"]\n",
    "\n",
    "    # 測試\n",
    "    cell_format = workbook1.add_format({\n",
    "        \"font_name\": \"微軟正黑體\",\n",
    "        \"font_size\": 16,\n",
    "        \"align\": \"left\",\n",
    "        #         \"border\": 80,\n",
    "    })\n",
    "    worksheet1.set_column(\"B:F\", 40, cell_format)\n",
    "\n",
    "    # 設定單元格的寬度\n",
    "    #     worksheet1.set_column(\"B:F\", 35)\n",
    "\n",
    "    writer.save()\n",
    "    print(\"爬取完成\")"
   ]
  },
  {
   "cell_type": "markdown",
   "id": "88bc62e3",
   "metadata": {},
   "source": [
    "# 爬蟲程式"
   ]
  },
  {
   "cell_type": "markdown",
   "id": "2f196f22",
   "metadata": {
    "heading_collapsed": true
   },
   "source": [
    "## webpac_gov_crawler(org, org_url, ISBN)\n",
    "- 『函式完成度』：\n",
    "- 『運作的原理』：宜蘭縣公共圖書館、桃園市立圖書館、高雄市立圖書館、屏東縣公共圖書館、花蓮縣圖書館、澎湖縣圖書館\n",
    "- 『適用的機構』：\n",
    "- 『能處理狀況』：判斷搜尋結果有沒有超過一筆、只有一筆搜尋結果有沒有跳轉、找不到書\n",
    "- 『下一步優化』：當搜尋無結果時，可以直接結束。"
   ]
  },
  {
   "cell_type": "markdown",
   "id": "ad674aa6",
   "metadata": {
    "hidden": true
   },
   "source": [
    "### click_more_btn()"
   ]
  },
  {
   "cell_type": "code",
   "execution_count": 5,
   "id": "421320ac",
   "metadata": {
    "hidden": true
   },
   "outputs": [],
   "source": [
    "def click_more_btn(driver):\n",
    "    try:\n",
    "        while True:\n",
    "            more_btn = wait.until(\n",
    "                EC.visibility_of_element_located(\n",
    "                    (By.CSS_SELECTOR, \"a.btnstyle.bluebg3.morewidth\")))\n",
    "            if more_btn:\n",
    "                time.sleep(2.5)  # 不得已的強制等待\n",
    "                more_btn.click()\n",
    "                # driver.find_element_by_css_selector(\"a.btnstyle.bluebg3.morewidth\").click()\n",
    "    except:\n",
    "        time.sleep(2.5)"
   ]
  },
  {
   "cell_type": "markdown",
   "id": "60492175",
   "metadata": {
    "heading_collapsed": true,
    "hidden": true
   },
   "source": [
    "### webpac_gov_crawler"
   ]
  },
  {
   "cell_type": "code",
   "execution_count": null,
   "id": "b72663e6",
   "metadata": {
    "hidden": true
   },
   "outputs": [],
   "source": [
    "def webpac_gov_crawler(org, org_url, ISBN):\n",
    "    try:\n",
    "        # 進入＂進階搜尋首頁＂\n",
    "        search_url = url + ISBN\n",
    "        driver.get(org_url)\n",
    "\n",
    "        # 計算＂搜尋結果的數量＂\n",
    "        book_list = wait.until(\n",
    "            EC.presence_of_all_elements_located(\n",
    "                (By.CSS_SELECTOR, \"div.booklist\")))\n",
    "        results = len(book_list)\n",
    "        print(f\"搜尋結果數量有：{results}筆\", end=\"    \")\n",
    "\n",
    "        time.sleep(2)  # 頁面加載，用強制等待\n",
    "\n",
    "        # 依照搜尋結果的數量分成：一筆和多筆兩種情形\n",
    "        if results < 2:\n",
    "            if wait.until(\n",
    "                    EC.presence_of_element_located(\n",
    "                        (By.CSS_SELECTOR, \"div.bookplace_list\"))):\n",
    "                click_more_btn(driver)\n",
    "                return pd.read_html(driver.page_source, encoding=\"utf-8\")[-1]\n",
    "        else:\n",
    "            soup = BeautifulSoup(driver.page_source,\n",
    "                                 \"html.parser\")  # 用以當搜尋結果多筆時，找尋不同＂詳細書目＂的網址\n",
    "\n",
    "            tgt = []\n",
    "            url = url.split(\"search?\")[0]  # 取得＂搜尋主頁＂頁面\n",
    "            for li in soup.find_all(\"div\", \"booklist\"):\n",
    "                href = url + li.find(\"h2\").find(\"a\")[\"href\"]\n",
    "\n",
    "                driver.get(href)\n",
    "                if wait.until(\n",
    "                        EC.presence_of_element_located(\n",
    "                            (By.CSS_SELECTOR, \"div.bookplace_list\"))):\n",
    "                    click_more_btn(driver)\n",
    "                tgt.append(\n",
    "                    pd.read_html(driver.page_source, encoding=\"utf-8\")[-1])\n",
    "            return pd.concat(tgt, axis=0, ignore_index=True)\n",
    "    except:\n",
    "        print(f\"「{url}」無法爬取！\")"
   ]
  },
  {
   "cell_type": "code",
   "execution_count": null,
   "id": "edd18f87",
   "metadata": {
    "hidden": true
   },
   "outputs": [],
   "source": []
  },
  {
   "cell_type": "code",
   "execution_count": null,
   "id": "51132006",
   "metadata": {
    "hidden": true
   },
   "outputs": [],
   "source": []
  },
  {
   "cell_type": "code",
   "execution_count": null,
   "id": "696aad62",
   "metadata": {
    "hidden": true
   },
   "outputs": [],
   "source": []
  },
  {
   "cell_type": "code",
   "execution_count": null,
   "id": "8e7be0d2",
   "metadata": {
    "hidden": true
   },
   "outputs": [],
   "source": []
  },
  {
   "cell_type": "code",
   "execution_count": null,
   "id": "0ddcfb05",
   "metadata": {
    "hidden": true
   },
   "outputs": [],
   "source": []
  },
  {
   "cell_type": "markdown",
   "id": "c4f829f1",
   "metadata": {
    "heading_collapsed": true,
    "hidden": true
   },
   "source": [
    "### TEST ZONE for webpac_gov_crawler()"
   ]
  },
  {
   "cell_type": "code",
   "execution_count": null,
   "id": "096805f6",
   "metadata": {
    "hidden": true
   },
   "outputs": [],
   "source": [
    "webpac_gov_crawler(\n",
    "    org='宜蘭縣公共圖書館',\n",
    "    org_url='https://webpac.ilccb.gov.tw/',\n",
    "    ISBN='9789869109321'\n",
    ")"
   ]
  },
  {
   "cell_type": "markdown",
   "id": "84d6353e",
   "metadata": {
    "heading_collapsed": true
   },
   "source": [
    "## webpac_jsp_crawler(org, org_url, ISBN)\n",
    "- 『函式完成度』：高\n",
    "- 『運作的原理』：\n",
    "- 『適用的機構』：國立宜蘭大學、佛光大學、嘉南藥理大學\n",
    "- 『能處理狀況』：\n",
    "- 『下一步優化』："
   ]
  },
  {
   "cell_type": "code",
   "execution_count": null,
   "id": "e2a5536c",
   "metadata": {
    "hidden": true
   },
   "outputs": [],
   "source": [
    "def webpac_jsp_crawler(org, url, ISBN):\n",
    "    try:\n",
    "        # url = \"http://libils.fgu.edu.tw/webpacIndex.jsp\"\n",
    "        # ISBN = \"9789573317241\"  # 哈利波特(1)：神秘的魔法石\n",
    "\n",
    "        test_url = url[:]  # 測試用，輸出「現在測試的網頁」\n",
    "        test_start = time.time()  # 測試用，計算程式進行時間\n",
    "\n",
    "        # 初始化 driver；設定 explicit waits\n",
    "        driver = webdriver.Chrome(options=my_options,\n",
    "                                  desired_capabilities=my_capabilities)\n",
    "        wait = WebDriverWait(driver, 30)  # 最長等待時間：30 秒；查找元素的間隔時間：0.5秒（default）\n",
    "\n",
    "        # 進入＂搜尋主頁＂\n",
    "        driver.get(url)\n",
    "\n",
    "        # 等待定位＂下拉式選單＂，選擇 ISBN\n",
    "        search_field = wait.until(\n",
    "            EC.presence_of_element_located((By.NAME, \"search_field\")))\n",
    "        select = Select(search_field)\n",
    "        select.select_by_value(\"ISBN\")\n",
    "\n",
    "        org = driver.title\n",
    "\n",
    "        # 等待定位＂搜尋欄＂，輸入 ISBN\n",
    "        search_input = wait.until(\n",
    "            EC.presence_of_element_located((By.NAME, \"search_input\")))\n",
    "        search_input.send_keys(ISBN)\n",
    "        search_input.submit()\n",
    "\n",
    "        # 依據有沒有＂div.mainCon＂，來判斷搜尋結果是「＂一筆＂」還是「＂零筆＂或＂多筆＂」\n",
    "        try:  # 3 秒內可以找到元素，表示只有＂一筆＂搜尋結果\n",
    "            WebDriverWait(driver, 5).until(\n",
    "                EC.presence_of_element_located(\n",
    "                    (By.CSS_SELECTOR, \"div.mainCon\")))\n",
    "\n",
    "            # 依據有沒有＂table.order＂，來判斷該頁面＂有＂表格還是＂沒有＂表格\n",
    "            # 例如：「http://192.192.231.232/bookDetail.do?id=260965&resid=188809782&nowid=3」，\n",
    "            # 有頁面但沒有表格\n",
    "            try:\n",
    "                WebDriverWait(driver, 5).until(\n",
    "                    EC.presence_of_element_located(\n",
    "                        (By.CSS_SELECTOR, \"table.order\")))\n",
    "                tgt = pd.read_html(driver.page_source,\n",
    "                                   encoding=\"utf-8\")[-2]  # 定位＂表格＂，爬取內容\n",
    "                tgt[\"圖書館\"], tgt[\"連結\"] = org, driver.current_url\n",
    "\n",
    "                driver.close()\n",
    "                test_end = time.time()  # 測試用，計算程式進行時間\n",
    "                print(f\"程式執行成功，執行時間：{test_end - test_start:7.4f}秒，在「{url}」\"\n",
    "                      )  # 測試用，計算程式進行時間\n",
    "                return tgt.fillna(\"\")\n",
    "            except:  # 5 秒內＂找不到＂ table.order，表示該頁面有表格\n",
    "                print(f\"該頁面沒有表格：「{driver.current_url}」\")\n",
    "        except (NoSuchElementException,\n",
    "                TimeoutException):  # 3 秒內＂找不到＂元素，，表示有＂多筆＂搜尋結果\n",
    "            root_url = url.replace(url.split(\"/\")[-1],\n",
    "                                   \"\")  # root_url 用來組成不同的＂詳細書目＂的網址\n",
    "\n",
    "            tgt = []\n",
    "            # 定位＂內嵌框架＂，切換至此內部，找尋多個＂詳細書目的網址＂\n",
    "            iframe = wait.until(\n",
    "                EC.presence_of_element_located((By.ID, \"leftFrame\")))\n",
    "            driver.switch_to.frame(iframe)\n",
    "            soup = BeautifulSoup(driver.page_source, \"html.parser\")\n",
    "\n",
    "            # 組合網址\n",
    "            tgt_urls = []\n",
    "            for anchor in soup.find_all(\"a\", \"bookname\"):\n",
    "                tgt_urls.append(root_url + anchor[\"href\"])\n",
    "\n",
    "            # 進入不同的＂詳細書目＂\n",
    "            for urlx in tgt_urls:\n",
    "                driver.get(urlx)\n",
    "\n",
    "                # 依據有沒有＂table.order＂，來判斷該頁面＂有＂表格還是＂沒有＂表格\n",
    "                try:\n",
    "                    WebDriverWait(driver, 5).until(\n",
    "                        EC.presence_of_element_located(\n",
    "                            (By.CSS_SELECTOR, \"table.order\")))\n",
    "                    sec_tgt = pd.read_html(driver.page_source,\n",
    "                                           encoding=\"utf-8\")[-2]  # 定位＂表格＂，爬取內容\n",
    "                    sec_tgt[\"圖書館\"], sec_tgt[\"連結\"] = org, driver.current_url\n",
    "                    tgt.append(sec_tgt)\n",
    "                except:\n",
    "                    print(f\"該頁面沒有表格：「{driver.current_url}」\")\n",
    "\n",
    "            driver.close()\n",
    "            if tgt != []:\n",
    "                tgt = pd.concat(tgt, axis=0, ignore_index=True)\n",
    "                test_end = time.time()  # 測試用，計算程式進行時間\n",
    "                print(f\"程式執行成功，執行時間：{test_end - test_start:7.4f}秒，在「{url}」\"\n",
    "                      )  # 測試用，計算程式進行時間\n",
    "                return tgt.fillna(\"\")\n",
    "        except Exception as e:\n",
    "            test_end = time.time()  # 測試用，計算程式進行時間\n",
    "            print(\"=\" * 100)\n",
    "            print(f\"程式執行失敗，執行時間：{test_end - test_start:7.4f}秒，在「{org}」\")\n",
    "            print(f\"網址為：「{url}」\")\n",
    "            print(f\"錯誤訊息為：「{e}」\")\n",
    "            print(\"=\" * 100)\n",
    "    except:\n",
    "        pass"
   ]
  },
  {
   "cell_type": "markdown",
   "id": "7150e35e",
   "metadata": {
    "heading_collapsed": true
   },
   "source": [
    "## easy_crawler(table_position, org, org_url, ISBN)\n",
    "- 『函式完成度』：高\n",
    "- 『運作的原理』：直接進入＂詳細書目＂頁面後，使用 pd.read_html 抓取 table，但每個機構的 table 位置不同，需要在 function 將此當作一個 parameter。\n",
    "- 『適用的機構』：國立臺灣海洋大學、國立臺灣師範大學、中央研究院、國立陽明大學、國立中央大學、中原大學、國立臺灣科技大學、中國文化大學、輔仁大學\n",
    "- 『能處理狀況』：HTTPError\n",
    "- 『下一步優化』：師大查詢結果有多本（https://opac.lib.ntnu.edu.tw/search*cht/i?SEARCH=9789573229131 ）"
   ]
  },
  {
   "cell_type": "code",
   "execution_count": 41,
   "id": "30f7bae9",
   "metadata": {
    "hidden": true
   },
   "outputs": [],
   "source": [
    "def easy_crawler(table_position, org, org_url, ISBN):\n",
    "    try:\n",
    "        # 組合成書本的網址\n",
    "        tgt_url = org_url + ISBN\n",
    "        # 載入 html，如果發生 HTTPError，那麼就使用 requests.get(url, verify=False)\n",
    "        try:\n",
    "            tgt = pd.read_html(tgt_url, encoding=\"utf-8\")\n",
    "        except HTTPError:\n",
    "            resp = requests.get(tgt_url,\n",
    "                                verify=False)  # 設定 verify=False，以解決 SSLError\n",
    "            tgt = pd.read_html(resp.text, encoding=\"utf-8\")\n",
    "        # 定位表格\n",
    "        table = tgt[table_position]\n",
    "        table['圖書館'], table['連結'] = org, tgt_url\n",
    "        table = organize_columns(table)\n",
    "        return table  # 完成抓取 table\n",
    "    except:\n",
    "        print(f'《{ISBN}》在「{url}」無法爬取')"
   ]
  },
  {
   "cell_type": "markdown",
   "id": "9ae3b23d",
   "metadata": {
    "heading_collapsed": true,
    "hidden": true
   },
   "source": [
    "### TEST ZONE for easy_crawler()"
   ]
  },
  {
   "cell_type": "code",
   "execution_count": 42,
   "id": "919b85af",
   "metadata": {
    "hidden": true
   },
   "outputs": [
    {
     "data": {
      "text/html": [
       "<div>\n",
       "<style scoped>\n",
       "    .dataframe tbody tr th:only-of-type {\n",
       "        vertical-align: middle;\n",
       "    }\n",
       "\n",
       "    .dataframe tbody tr th {\n",
       "        vertical-align: top;\n",
       "    }\n",
       "\n",
       "    .dataframe thead th {\n",
       "        text-align: right;\n",
       "    }\n",
       "</style>\n",
       "<table border=\"1\" class=\"dataframe\">\n",
       "  <thead>\n",
       "    <tr style=\"text-align: right;\">\n",
       "      <th></th>\n",
       "      <th>圖書館</th>\n",
       "      <th>館藏地</th>\n",
       "      <th>索書號</th>\n",
       "      <th>館藏狀態</th>\n",
       "      <th>連結</th>\n",
       "    </tr>\n",
       "  </thead>\n",
       "  <tbody>\n",
       "    <tr>\n",
       "      <th>0</th>\n",
       "      <td>國立臺灣師範大學</td>\n",
       "      <td>總館5F書架</td>\n",
       "      <td>330.18 081</td>\n",
       "      <td>到期 11-20-21</td>\n",
       "      <td>https://opac.lib.ntnu.edu.tw/search*cht/i?SEAR...</td>\n",
       "    </tr>\n",
       "    <tr>\n",
       "      <th>1</th>\n",
       "      <td>國立臺灣師範大學</td>\n",
       "      <td>總館5F書架</td>\n",
       "      <td>330.18 081</td>\n",
       "      <td>可外借</td>\n",
       "      <td>https://opac.lib.ntnu.edu.tw/search*cht/i?SEAR...</td>\n",
       "    </tr>\n",
       "    <tr>\n",
       "      <th>2</th>\n",
       "      <td>國立臺灣師範大學</td>\n",
       "      <td>公館分館</td>\n",
       "      <td>330.18 081 2015</td>\n",
       "      <td>到期 09-16-21</td>\n",
       "      <td>https://opac.lib.ntnu.edu.tw/search*cht/i?SEAR...</td>\n",
       "    </tr>\n",
       "  </tbody>\n",
       "</table>\n",
       "</div>"
      ],
      "text/plain": [
       "        圖書館     館藏地              索書號         館藏狀態  \\\n",
       "0  國立臺灣師範大學  總館5F書架       330.18 081  到期 11-20-21   \n",
       "1  國立臺灣師範大學  總館5F書架       330.18 081          可外借   \n",
       "2  國立臺灣師範大學    公館分館  330.18 081 2015  到期 09-16-21   \n",
       "\n",
       "                                                  連結  \n",
       "0  https://opac.lib.ntnu.edu.tw/search*cht/i?SEAR...  \n",
       "1  https://opac.lib.ntnu.edu.tw/search*cht/i?SEAR...  \n",
       "2  https://opac.lib.ntnu.edu.tw/search*cht/i?SEAR...  "
      ]
     },
     "execution_count": 42,
     "metadata": {},
     "output_type": "execute_result"
    }
   ],
   "source": [
    "if __name__ == '__main__':\n",
    "    table = easy_crawler(\n",
    "        table_position=4,\n",
    "        org='國立臺灣師範大學',\n",
    "        org_url='https://opac.lib.ntnu.edu.tw/search*cht/i?SEARCH=',\n",
    "        ISBN='9789869109321'\n",
    "    )\n",
    "table"
   ]
  },
  {
   "cell_type": "markdown",
   "id": "f1c74d34",
   "metadata": {
    "heading_collapsed": true
   },
   "source": [
    "## webpac_ajax_page_crawler(org, org_url, ISBN)\n",
    "- 『函式完成度』：極高\n",
    "- 『運作的原理』：使用 selenium 進行搜索，進入＂詳細書目＂頁面後，從該網址分析並得到 mid，在由此進入 ajax_page。\n",
    "- 『適用的機構』：新北市立圖書館、高雄市立空中大學、國立屏東大學\n",
    "- 『能處理狀況』：判斷搜尋結果有沒有超過一筆、只有一筆搜尋結果有沒有跳轉、找不到書\n",
    "- 『下一步優化』：當搜尋無結果時，可以直接結束。"
   ]
  },
  {
   "cell_type": "code",
   "execution_count": null,
   "id": "28b8da07",
   "metadata": {
    "code_folding": [],
    "hidden": true
   },
   "outputs": [],
   "source": [
    "def webpac_ajax_page_crawler(org, org_url, ISBN):\n",
    "    try:\n",
    "        # 進入＂搜尋主頁＂\n",
    "        driver.get(org_url)\n",
    "        # 等待點擊＂進階查詢＂按鈕，接著點擊\n",
    "        WebDriverWait(driver, 30).until(\n",
    "            EC.element_to_be_clickable((By.LINK_TEXT, '進階查詢'))).click()\n",
    "        # 等待定位＂下拉式選單＂，選擇以 ISBN 方式搜尋\n",
    "        search_field = WebDriverWait(driver, 10).until(\n",
    "            EC.presence_of_element_located((By.ID, 'as_type_1')))\n",
    "        select = Select(search_field)\n",
    "        select.select_by_value('i')\n",
    "        # 定位＂搜尋欄＂，輸入 ISBN\n",
    "        search_input = driver.find_element_by_id('as_keyword_1')\n",
    "        search_input.send_keys(ISBN)\n",
    "        search_input.send_keys(\n",
    "            Keys.ENTER)  # 無法 submit()，用 send_keys(keys.ENTER) 來替代\n",
    "\n",
    "        # 在＂搜尋結果頁面＂，等待定位＂詳細書目＂。\n",
    "        # try-except 來判斷有沒有在＂搜尋結果頁面＂\n",
    "        try:\n",
    "            WebDriverWait(driver, 10).until(\n",
    "                EC.presence_of_element_located((By.LINK_TEXT, '詳細書目')))\n",
    "        except:\n",
    "            try:\n",
    "                WebDriverWait(driver, 10).until(\n",
    "                    EC.presence_of_element_located(\n",
    "                        (By.CSS_SELECTOR, 'div.book-detail')))\n",
    "\n",
    "                # 抓取方式：找出 mid 後，進入 ajax pag 抓取 DataFrame\n",
    "                org_url = org_url.replace('/search.cfm', '')\n",
    "                tgts = []\n",
    "                url = driver.current_url\n",
    "                mid = url.split('mid=')[-1].split('&')[0]\n",
    "                ajax_page_url = f'{org_url}/ajax_page/get_content_area.cfm?mid={mid}&i_list_number=250&i_page=1&i_sory_by=1'\n",
    "                tgt = pd.read_html(ajax_page_url, encoding='utf-8')[0]\n",
    "                tgt['圖書館'], tgt['連結'] = org, url\n",
    "                tgts.append(tgt)\n",
    "                table = pd.concat(tgts, axis=0, ignore_index=True)\n",
    "                table = organize_columns(table)\n",
    "                return table  # 完成抓取 table\n",
    "            except:  # 沒有搜尋結果，也沒有進入＂詳細書目頁面＂\n",
    "                print(f'《{ISBN}》查無此書')\n",
    "                return  # 什麼都不做，退出此 function\n",
    "\n",
    "        # 抓取多個＂詳細書目＂的網址\n",
    "        anchors = driver.find_elements_by_link_text('詳細書目')\n",
    "        urls = []\n",
    "        for anchor in anchors:\n",
    "            urls.append(anchor.get_attribute('href'))\n",
    "\n",
    "        # 抓取方式：找出 mid 後，進入 ajax pag 抓取 DataFrame\n",
    "        org_url = org_url.replace('/search.cfm', '')\n",
    "        tgts = []\n",
    "        for url in urls:\n",
    "            mid = url.split('mid=')[-1].split('&')[0]  # 抓取 mid\n",
    "            ajax_page_url = f'{org_url}/ajax_page/get_content_area.cfm?mid={mid}&i_list_number=250&i_page=1&i_sory_by=1'\n",
    "            tgt = pd.read_html(ajax_page_url, encoding='utf-8')[0]\n",
    "            tgt['圖書館'], tgt['連結'] = org, url\n",
    "            tgts.append(tgt)\n",
    "        table = pd.concat(tgts, axis=0, ignore_index=True)\n",
    "        table = organize_columns(table)\n",
    "        return table  # 完成抓取 table\n",
    "    except:\n",
    "        print(f'《{ISBN}》在「{url}」無法爬取')"
   ]
  },
  {
   "cell_type": "markdown",
   "id": "748a7543",
   "metadata": {
    "hidden": true
   },
   "source": [
    "### TEST ZONE for webpac_ajax_page_crawler()"
   ]
  },
  {
   "cell_type": "code",
   "execution_count": null,
   "id": "9c05dfae",
   "metadata": {
    "hidden": true
   },
   "outputs": [],
   "source": [
    "driver = webdriver.Chrome(options=my_options,\n",
    "                          desired_capabilities=my_capabilities)"
   ]
  },
  {
   "cell_type": "code",
   "execution_count": null,
   "id": "d554d526",
   "metadata": {
    "hidden": true,
    "scrolled": true
   },
   "outputs": [],
   "source": [
    "table = webpac_ajax_page_crawler(\n",
    "    org='新北市立圖書館',\n",
    "    org_url='https://webpac.tphcc.gov.tw/webpac/search.cfm',\n",
    "    ISBN='9789869109321')\n",
    "table"
   ]
  },
  {
   "cell_type": "code",
   "execution_count": null,
   "id": "4f3fd4ba",
   "metadata": {
    "hidden": true
   },
   "outputs": [],
   "source": [
    "table = webpac_ajax_page_crawler(\n",
    "    org='高雄市立空中大學',\n",
    "    org_url='https://webpac.ouk.edu.tw/webpac/search.cfm',\n",
    "    ISBN='9789869109321')\n",
    "table"
   ]
  },
  {
   "cell_type": "code",
   "execution_count": null,
   "id": "5a9af34e",
   "metadata": {
    "hidden": true
   },
   "outputs": [],
   "source": [
    "table = webpac_ajax_page_crawler(\n",
    "    org='國立屏東大學',\n",
    "    org_url='https://webpac.nptu.edu.tw/webpac/search.cfm',\n",
    "    ISBN='9789869109321')\n",
    "table"
   ]
  },
  {
   "cell_type": "markdown",
   "id": "7a2dd093",
   "metadata": {
    "heading_collapsed": true
   },
   "source": [
    "## klccab_crawler(org, ISBN, driver, wait)\n",
    "- 『函式完成度』：\n",
    "- 『運作的原理』：\n",
    "- 『適用的機構』：\n",
    "- 『能處理狀況』：\n",
    "- 『下一步優化』："
   ]
  },
  {
   "cell_type": "code",
   "execution_count": null,
   "id": "9a883046",
   "metadata": {
    "hidden": true
   },
   "outputs": [],
   "source": [
    "def klccab_crawler(org, ISBN, driver, wait):\n",
    "    try:\n",
    "        url = f\"https://webpac.klccab.gov.tw/webpac/search.cfm?m=as&k0={ISBN}&t0=i&c0=and&y10=&y20=&cat0=&dt0=&l0=&lv0=&lc0=\"\n",
    "        driver.get(url)\n",
    "\n",
    "        time.sleep(5)  # 基隆的系統太詭異了，強制等待\n",
    "        soup = BeautifulSoup(driver.page_source, \"html.parser\")\n",
    "        results = len(soup.find_all(\"div\", \"list_box\"))\n",
    "        if results < 2:\n",
    "            wait.until(\n",
    "                EC.presence_of_element_located(\n",
    "                    (By.CSS_SELECTOR, \"table.list.list_border\")))\n",
    "            tgt = pd.read_html(driver.page_source)[0]\n",
    "        else:\n",
    "            tgt = []\n",
    "            for li in soup.find_all(\"div\", \"list_box\"):\n",
    "                url_temp = \"https://webpac.klccab.gov.tw/webpac/\" + li.find(\n",
    "                    \"a\", \"btn\")[\"href\"]\n",
    "                driver.get(url_temp)\n",
    "                wait.until(\n",
    "                    EC.presence_of_element_located(\n",
    "                        (By.CSS_SELECTOR, \"table.list.list_border\")))\n",
    "                tgt.append(\n",
    "                    pd.read_html(driver.page_source, encoding=\"utf-8\")[0])\n",
    "            tgt = pd.concat(tgt, axis=0, ignore_index=True)\n",
    "        return tgt\n",
    "    except:\n",
    "        print(f\"「{url}」無法爬取！\")"
   ]
  },
  {
   "cell_type": "markdown",
   "id": "887c1b6c",
   "metadata": {
    "heading_collapsed": true
   },
   "source": [
    "## tpml_crawler(org, url, ISBN, driver, wait)\n",
    "- 『函式完成度』：\n",
    "- 『運作的原理』：\n",
    "- 『適用的機構』：\n",
    "- 『能處理狀況』：\n",
    "- 『下一步優化』："
   ]
  },
  {
   "cell_type": "code",
   "execution_count": null,
   "id": "2129241e",
   "metadata": {
    "hidden": true
   },
   "outputs": [],
   "source": [
    "def tpml_crawler(org, url, ISBN, driver, wait):\n",
    "    # 進入《館藏系統》頁面\n",
    "    driver.get(url)\n",
    "\n",
    "    # 等待＜下拉式選單＞元素出現\n",
    "    wait.until(EC.presence_of_element_located((By.NAME, \"search_field\")))\n",
    "\n",
    "    # 定位＜下拉式選單＞，以 ISBN 搜尋方式搜尋\n",
    "    select = Select(driver.find_element_by_name(\"search_field\"))\n",
    "    select.select_by_visible_text(u\"ISBN\")\n",
    "    search_input = driver.find_element_by_name(\"search_input\")\n",
    "    search_input.send_keys(ISBN)\n",
    "    search_input.submit()\n",
    "\n",
    "    # 等待＜表格＞出現\n",
    "    wait.until(EC.presence_of_element_located(\n",
    "        (By.CSS_SELECTOR, \"table.order\")))\n",
    "\n",
    "    # 取得當前網頁的 html 進行解析，以取得 DataFrame\n",
    "    html_text = driver.page_source\n",
    "\n",
    "    dfs = pd.read_html(html_text, encoding=\"utf-8\")\n",
    "    tgt = dfs[19]\n",
    "    return tgt"
   ]
  },
  {
   "cell_type": "markdown",
   "id": "53c07d3d",
   "metadata": {},
   "source": [
    "## ntu_crawler(ISBN, driver)\n",
    "- 『函式完成度』：\n",
    "- 『運作的原理』：\n",
    "- 『適用的機構』：\n",
    "- 『能處理狀況』：\n",
    "- 『下一步優化』："
   ]
  },
  {
   "cell_type": "code",
   "execution_count": null,
   "id": "3e1ff4f5",
   "metadata": {
    "code_folding": [
     0
    ]
   },
   "outputs": [],
   "source": [
    "def ntu_crawler(ISBN, driver):\n",
    "    df_lst = []\n",
    "\n",
    "    url = \"https://ntu.primo.exlibrisgroup.com/discovery/search?query=any,contains,\" + ISBN + \"&tab=Everything&search_scope=MyInst_and_CI&vid=886NTU_INST:886NTU_INST&offset=0\"\n",
    "    driver.get(url)\n",
    "    time.sleep(5)\n",
    "    title = driver.find_element_by_class_name('item-title').click()\n",
    "\n",
    "    time.sleep(3)\n",
    "    try:\n",
    "        try:\n",
    "            back = driver.find_element_by_css_selector(\n",
    "                \".tab-header .back-button.button-with-icon.zero-margin.md-button.md-primoExplore-theme.md-ink-ripple\"\n",
    "            )\n",
    "        except:\n",
    "            back = None\n",
    "        if back != None:\n",
    "            back.click()\n",
    "\n",
    "        thelist = driver.find_elements_by_class_name(\n",
    "            \"layout-align-space-between-center.layout-row.flex-100\")\n",
    "        for row in thelist:\n",
    "            plist = row.find_elements_by_tag_name(\"p\")\n",
    "            where = row.find_elements_by_tag_name(\"h3\")\n",
    "            i = len(where)\n",
    "            for sth in plist:\n",
    "                a = sth.find_elements_by_tag_name(\"span\")\n",
    "                for _ in range(i):\n",
    "                    new_row = [\n",
    "                        '台灣大學', where[_].text, a[4].text, a[0].text, url\n",
    "                    ]\n",
    "                    df_lst.append(new_row)\n",
    "                    break\n",
    "                break\n",
    "    except:\n",
    "        return pd.DataFrame(df_lst)"
   ]
  },
  {
   "cell_type": "code",
   "execution_count": null,
   "id": "9c83b0ea",
   "metadata": {},
   "outputs": [],
   "source": []
  },
  {
   "cell_type": "code",
   "execution_count": null,
   "id": "4d2e79ae",
   "metadata": {},
   "outputs": [],
   "source": []
  },
  {
   "cell_type": "markdown",
   "id": "02a4abed",
   "metadata": {},
   "source": [
    "## 國家圖書館"
   ]
  },
  {
   "cell_type": "code",
   "execution_count": null,
   "id": "c113299a",
   "metadata": {},
   "outputs": [],
   "source": [
    "def 國家圖書館(url, ISBN, driver):\n",
    "    try:\n",
    "        # 進入＂搜尋主頁＂\n",
    "        driver.get(url)\n",
    "\n",
    "        # 定位＂下拉式選單＂，選擇 ISBN\n",
    "        select = Select(driver.find_element_by_name(\"find_code\"))\n",
    "        select.select_by_value(\"ISBN\")\n",
    "        search_input = driver.find_element_by_name(\"request\")\n",
    "        search_input.send_keys(ISBN)\n",
    "        search_input.submit()\n",
    "\n",
    "        # 點擊＂書在哪裡(請點選)＂\n",
    "        driver.find_element_by_xpath(\n",
    "            '/html/body/table[10]/tbody/tr/td[1]/table/tbody/tr[1]/td[2]/a'\n",
    "        ).click()\n",
    "\n",
    "        # 定位＂表格＂，爬取內容\n",
    "        tgt = pd.read_html(driver.page_source)[-2]  # 會有 NaN，要加 .fillna(\"\")？\n",
    "\n",
    "        # 清理、整理資料\n",
    "        tgt['連結'], tgt['圖書館'] = driver.current_url, '國家圖書館'\n",
    "        tgt = tgt[['圖書館', '分館/專室', '索書號', '狀態/調閱日期', '連結']]  # 篩選 column label\n",
    "        tgt.set_axis(['圖書館', '館藏地', '索書號', '館藏狀態', '連結'],\n",
    "                     axis='columns',\n",
    "                     inplace=True)  # 重新命名 column label\n",
    "        return tgt\n",
    "    except:\n",
    "        print(f\"「{url}」無法爬取！\")"
   ]
  },
  {
   "cell_type": "code",
   "execution_count": null,
   "id": "fe93755e",
   "metadata": {},
   "outputs": [],
   "source": []
  },
  {
   "cell_type": "code",
   "execution_count": null,
   "id": "ea33afac",
   "metadata": {},
   "outputs": [],
   "source": []
  }
 ],
 "metadata": {
  "kernelspec": {
   "display_name": "Python 3",
   "language": "python",
   "name": "python3"
  },
  "language_info": {
   "codemirror_mode": {
    "name": "ipython",
    "version": 3
   },
   "file_extension": ".py",
   "mimetype": "text/x-python",
   "name": "python",
   "nbconvert_exporter": "python",
   "pygments_lexer": "ipython3",
   "version": "3.8.8"
  },
  "toc": {
   "base_numbering": 1,
   "nav_menu": {},
   "number_sections": true,
   "sideBar": true,
   "skip_h1_title": false,
   "title_cell": "Table of Contents",
   "title_sidebar": "Contents",
   "toc_cell": false,
   "toc_position": {
    "height": "calc(100% - 180px)",
    "left": "10px",
    "top": "150px",
    "width": "256px"
   },
   "toc_section_display": true,
   "toc_window_display": false
  }
 },
 "nbformat": 4,
 "nbformat_minor": 5
}
