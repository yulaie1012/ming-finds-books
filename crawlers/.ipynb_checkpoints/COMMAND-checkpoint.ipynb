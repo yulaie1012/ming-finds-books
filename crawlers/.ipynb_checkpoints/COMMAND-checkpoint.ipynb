{
 "cells": [
  {
   "cell_type": "code",
   "execution_count": 1,
   "id": "f68755e4",
   "metadata": {},
   "outputs": [
    {
     "name": "stdout",
     "output_type": "stream",
     "text": [
      "importing Jupyter notebook from crawlers.ipynb\n",
      "importing Jupyter notebook from all_in_one.ipynb\n",
      "importing Jupyter notebook from perfect_data.ipynb\n"
     ]
    }
   ],
   "source": [
    "from selenium import webdriver\n",
    "from selenium.webdriver.chrome.options import Options\n",
    "from selenium.webdriver.common.desired_capabilities import DesiredCapabilities\n",
    "from selenium.webdriver.support.ui import WebDriverWait\n",
    "from selenium.webdriver.support import expected_conditions as EC\n",
    "from selenium.webdriver.common.by import By\n",
    "import pandas as pd\n",
    "# 載入自定義函式\n",
    "import import_ipynb\n",
    "import crawlers\n",
    "import all_in_one\n",
    "import perfect_data\n",
    "\n",
    "# 搜尋目標\n",
    "# ISBN = \"9789869109321\"  # 爬取＂宜蘭縣公共圖書館＂時，會有兩筆搜索結果\n",
    "# title = \"二十一世紀資本論\"\n",
    "ISBN = \"9789573317241\"  # \"哈利波特：神秘的魔法石\"\n",
    "title = \"哈利波特：神秘的魔法石\"\n",
    "\n",
    "# 設定 driver\n",
    "my_options = Options()\n",
    "my_options.add_argument(\"--incognito\")  # 開啟無痕模式\n",
    "# my_options.add_argument(\"--headless\")  # 不開啟實體瀏覽器\n",
    "\n",
    "capabilities = DesiredCapabilities.CHROME\n",
    "capabilities[\"pageLoadStrategy\"] = \"none\""
   ]
  },
  {
   "cell_type": "code",
   "execution_count": null,
   "id": "66db80fc",
   "metadata": {},
   "outputs": [],
   "source": [
    "########## 宜蘭 ##########\n",
    "########## 宜蘭 ##########\n",
    "########## 宜蘭 ##########\n",
    "# 宜蘭 OK\n",
    "# ：宜蘭縣公共圖書館、國立宜蘭大學、佛光大學\n",
    "# ISBN = \"9789869109321\"  # title = \"二十一世紀資本論\"\n",
    "\n",
    "########## 初始化\n",
    "ISBN = \"9789869109321\"\n",
    "df_result = []\n",
    "\n",
    "# 開啟 Chrome，設定等待元素最多 10 秒\n",
    "driver = webdriver.Chrome(options=my_options, desired_capabilities=capabilities)\n",
    "wait = WebDriverWait(driver, 10)\n",
    "\n",
    "########## 初始化\n",
    "\n",
    "df_result.append(\n",
    "    crawlers.webpac_gov_crawler(\n",
    "        \"宜蘭縣公共圖書館\", \"https://webpac.ilccb.gov.tw/\", ISBN,  driver, wait\n",
    "    )\n",
    ")\n",
    "\n",
    "df_result.append(\n",
    "    crawlers.webpac_jsp_crawler(\n",
    "        \"國立宜蘭大學\", \"https://lib.niu.edu.tw/webpacIndex.jsp\", ISBN,  driver, wait\n",
    "    )\n",
    ")\n",
    "\n",
    "df_result.append(\n",
    "    crawlers.webpac_jsp_crawler(\n",
    "        \"佛光大學\", \"http://libils.fgu.edu.tw/webpacIndex.jsp\", ISBN,  driver, wait\n",
    "    )\n",
    ")"
   ]
  },
  {
   "cell_type": "code",
   "execution_count": null,
   "id": "6cadc270",
   "metadata": {},
   "outputs": [],
   "source": [
    "########## 宜蘭 ##########\n",
    "########## 宜蘭 ##########\n",
    "########## 宜蘭 ##########\n",
    "\n",
    "# 最後輸出\n",
    "import perfect_data\n",
    "df_Yilan = pd.concat(df_result, axis=0, ignore_index=True).fillna(\"\")\n",
    "perfect_data.organize_columns(df_Yilan)\n",
    "driver.quit()\n",
    "df_Yilan"
   ]
  },
  {
   "cell_type": "code",
   "execution_count": null,
   "id": "407715e2",
   "metadata": {
    "scrolled": true
   },
   "outputs": [],
   "source": [
    "########## 基隆 ##########\n",
    "########## 基隆 ##########\n",
    "########## 基隆 ##########\n",
    "# 基隆\n",
    "# ：基隆市公共圖書館（待測試哈利波特）、國立臺灣海洋大學測資：\n",
    "# ISBN = \"9789573317241\"  # title = \"哈利波特(1)：神秘的魔法石\"\n",
    "\n",
    "########## 初始化 df_DataFrame\n",
    "ISBN = \"9789573317241\"\n",
    "df_result = []\n",
    "\n",
    "# 開啟 Chrome，設定等待元素最多 10 秒\n",
    "driver = webdriver.Chrome(options=my_options, desired_capabilities=capabilities)\n",
    "wait = WebDriverWait(driver, 10)\n",
    "\n",
    "########## 初始化\n",
    "\n",
    "df_result.append(\n",
    "    crawlers.klccab_crawler(\n",
    "        \"基隆市公共圖書館\", ISBN,  driver, wait\n",
    "    )\n",
    ")\n",
    "\n",
    "df_result.append(\n",
    "    crawlers.easy_crawler(\n",
    "        2, \"國立臺灣海洋大學\", \"https://ocean.ntou.edu.tw/search*cht/i?SEARCH=\", ISBN\n",
    "    )\n",
    ")"
   ]
  },
  {
   "cell_type": "code",
   "execution_count": null,
   "id": "011ed6ba",
   "metadata": {},
   "outputs": [],
   "source": [
    "########## 基隆 ##########\n",
    "########## 基隆 ##########\n",
    "########## 基隆 ##########\n",
    "\n",
    "# 最後輸出\n",
    "df_Keelung = pd.concat(df_result, axis=0, ignore_index=True).fillna(\"\")\n",
    "organize_columns(df_Keelung)\n",
    "driver.quit()\n",
    "df_Keelung"
   ]
  },
  {
   "cell_type": "code",
   "execution_count": null,
   "id": "e78d1bfd",
   "metadata": {},
   "outputs": [],
   "source": []
  },
  {
   "cell_type": "code",
   "execution_count": null,
   "id": "344db4de",
   "metadata": {},
   "outputs": [],
   "source": []
  },
  {
   "cell_type": "code",
   "execution_count": 8,
   "id": "2962c3dc",
   "metadata": {},
   "outputs": [],
   "source": [
    "########## 臺北 ##########\n",
    "########## 臺北 ##########\n",
    "########## 臺北 ##########\n",
    "# 臺北\n",
    "# ：臺北市市立圖書館\n",
    "# ISBN = \"9789573317241\"  # title = \"哈利波特(1)：神秘的魔法石\"\n",
    "\n",
    "########## 初始化 df_DataFrame\n",
    "ISBN = \"9789573317241\"\n",
    "df_result = []\n",
    "\n",
    "# 開啟 Chrome，設定等待元素最多 10 秒\n",
    "driver = webdriver.Chrome(options=my_options, desired_capabilities=capabilities)\n",
    "wait = WebDriverWait(driver, 10)\n",
    "\n",
    "########## 初始化\n",
    "\n",
    "df_result.append(\n",
    "    crawlers.tpml_crawler(\n",
    "        \"臺北市市立圖書館\", \"https://book.tpml.edu.tw/webpac/webpacIndex.jsp\", ISBN, driver, wait\n",
    "    )\n",
    ")\n",
    "\n",
    "df_result.append(\n",
    "    crawlers.easy_crawler(\n",
    "        4, \"國立臺灣師範大學\", \"https://opac.lib.ntnu.edu.tw/search*cht/i?SEARCH=\", ISBN\n",
    "    )\n",
    ")\n",
    "\n",
    "df_result.append(\n",
    "    crawlers.easy_crawler(\n",
    "        4, \"中央研究院\", \"https://las.sinica.edu.tw/search*cht/a?searchtype=i&searcharg=\", ISBN\n",
    "    )\n",
    ")\n",
    "\n",
    "df_result.append(\n",
    "    crawlers.easy_crawler(\n",
    "        4, \"國立陽明大學\", \"https://library.ym.edu.tw/search*cht/a?searchtype=i&searcharg=\", ISBN\n",
    "    )\n",
    ")\n",
    "\n",
    "df_result.append(\n",
    "    crawlers.easy_crawler(\n",
    "        6, \"國立臺灣科技大學\", \"https://sierra.lib.ntust.edu.tw/search*cht/i?SEARCH=\", ISBN\n",
    "    )\n",
    ")\n",
    "\n",
    "df_result.append(\n",
    "    crawlers.easy_crawler(\n",
    "        7, \"中國文化大學\", \"https://webpac.pccu.edu.tw/search*cht/?searchtype=i&searcharg=\", ISBN\n",
    "    )\n",
    ")\n",
    "\n",
    "df_result.append(\n",
    "    crawlers.easy_crawler(\n",
    "        7, \"輔仁大學\", \"https://library.lib.fju.edu.tw/search~S0*cht/?searchtype=i&searcharg=\", ISBN\n",
    "    )\n",
    ")"
   ]
  },
  {
   "cell_type": "code",
   "execution_count": null,
   "id": "e05e18e3",
   "metadata": {},
   "outputs": [],
   "source": []
  },
  {
   "cell_type": "code",
   "execution_count": 21,
   "id": "6982d76b",
   "metadata": {},
   "outputs": [],
   "source": [
    "def organize_columns(df):\n",
    "    # 合併欄位\n",
    "    # 處理 column 2：館藏地\n",
    "    c2 = [\"館藏地/室\", \"館藏室\", \"館藏地/館藏室\", \"館藏地\", \"典藏館\"]\n",
    "    df[\"c2\"] = \"\"\n",
    "    for c in c2:\n",
    "        try:\n",
    "            df[\"c2\"] += df[c]\n",
    "        except:\n",
    "            pass\n",
    "    \n",
    "    # 處理 column 3：索書號\n",
    "    c3 = [\"索書號\", \"索書號/期刊合訂本卷期\", \"索書號 / 部冊號\"]\n",
    "    df[\"c3\"] = \"\"\n",
    "    for c in c3:\n",
    "        try:\n",
    "            df[\"c3\"] += df[c]\n",
    "        except:\n",
    "            pass\n",
    "\n",
    "    # 處理 column 4：館藏狀態\n",
    "    c4 = [\"狀態/到期日\", \"目前狀態 / 到期日\", \"館藏狀態\", \"處理狀態\"]\n",
    "    df[\"c4\"] = \"\"\n",
    "    for c in c4:\n",
    "        try:\n",
    "            df[\"c4\"] += df[c]\n",
    "        except:\n",
    "            pass\n",
    "    \n",
    "    # 刪除欄位\n",
    "    garbage = [\"年代\", \"OPAC 訊息\", \"註記\", \"編號\", \"館藏類型\", \"條碼\", \"備註\", \"預約人數\", \"使用類型\", \"Unnamed: 9\", \"Unnamed: 10\", \"預約\", \"附件\", \"資料類型\", \"#\", \"尋書單/位置i\", \"non-existent\", \"特藏/用途i\", \"條碼號\", \"備註/附件\", \"預約（人數）\", \"Unnamed: 8\"]\n",
    "    deleted = c2 + c3 + c4 + garbage\n",
    "    for i in deleted:\n",
    "        try:\n",
    "            df.pop(i)\n",
    "        except:\n",
    "            pass\n",
    "    \n",
    "    # 解決編碼問題\n",
    "    df[\"c2\"] = df[\"c2\"]\n",
    "    # .str.replace(\"栅\", \"柵\")\n",
    "    # .str.replace(\"斈\", \"學\")"
   ]
  },
  {
   "cell_type": "code",
   "execution_count": null,
   "id": "ae8e9362",
   "metadata": {},
   "outputs": [],
   "source": []
  },
  {
   "cell_type": "code",
   "execution_count": 20,
   "id": "3c4190bf",
   "metadata": {
    "scrolled": true
   },
   "outputs": [
    {
     "ename": "UnicodeEncodeError",
     "evalue": "'big5' codec can't encode character '\\u6588' in position 9: illegal multibyte sequence",
     "output_type": "error",
     "traceback": [
      "\u001b[1;31m---------------------------------------------------------------------------\u001b[0m",
      "\u001b[1;31mUnicodeEncodeError\u001b[0m                        Traceback (most recent call last)",
      "\u001b[1;32m<ipython-input-20-b3d42a3846c6>\u001b[0m in \u001b[0;36m<module>\u001b[1;34m\u001b[0m\n\u001b[0;32m      7\u001b[0m \u001b[0morganize_columns\u001b[0m\u001b[1;33m(\u001b[0m\u001b[0mdf_Taipei\u001b[0m\u001b[1;33m)\u001b[0m\u001b[1;33m\u001b[0m\u001b[1;33m\u001b[0m\u001b[0m\n\u001b[0;32m      8\u001b[0m \u001b[0mdriver\u001b[0m\u001b[1;33m.\u001b[0m\u001b[0mquit\u001b[0m\u001b[1;33m(\u001b[0m\u001b[1;33m)\u001b[0m\u001b[1;33m\u001b[0m\u001b[1;33m\u001b[0m\u001b[0m\n\u001b[1;32m----> 9\u001b[1;33m \u001b[0mdf_Taipei\u001b[0m\u001b[1;33m.\u001b[0m\u001b[0mto_csv\u001b[0m\u001b[1;33m(\u001b[0m\u001b[1;34m\"finalllll.csv\"\u001b[0m\u001b[1;33m,\u001b[0m \u001b[0mencoding\u001b[0m\u001b[1;33m=\u001b[0m\u001b[1;34m\"big5\"\u001b[0m\u001b[1;33m)\u001b[0m\u001b[1;33m\u001b[0m\u001b[1;33m\u001b[0m\u001b[0m\n\u001b[0m\u001b[0;32m     10\u001b[0m \u001b[0mdf_Taipei\u001b[0m\u001b[1;33m\u001b[0m\u001b[1;33m\u001b[0m\u001b[0m\n",
      "\u001b[1;32mC:\\ProgramData\\Anaconda3\\lib\\site-packages\\pandas\\core\\generic.py\u001b[0m in \u001b[0;36mto_csv\u001b[1;34m(self, path_or_buf, sep, na_rep, float_format, columns, header, index, index_label, mode, encoding, compression, quoting, quotechar, line_terminator, chunksize, date_format, doublequote, escapechar, decimal, errors, storage_options)\u001b[0m\n\u001b[0;32m   3385\u001b[0m         )\n\u001b[0;32m   3386\u001b[0m \u001b[1;33m\u001b[0m\u001b[0m\n\u001b[1;32m-> 3387\u001b[1;33m         return DataFrameRenderer(formatter).to_csv(\n\u001b[0m\u001b[0;32m   3388\u001b[0m             \u001b[0mpath_or_buf\u001b[0m\u001b[1;33m,\u001b[0m\u001b[1;33m\u001b[0m\u001b[1;33m\u001b[0m\u001b[0m\n\u001b[0;32m   3389\u001b[0m             \u001b[0mline_terminator\u001b[0m\u001b[1;33m=\u001b[0m\u001b[0mline_terminator\u001b[0m\u001b[1;33m,\u001b[0m\u001b[1;33m\u001b[0m\u001b[1;33m\u001b[0m\u001b[0m\n",
      "\u001b[1;32mC:\\ProgramData\\Anaconda3\\lib\\site-packages\\pandas\\io\\formats\\format.py\u001b[0m in \u001b[0;36mto_csv\u001b[1;34m(self, path_or_buf, encoding, sep, columns, index_label, mode, compression, quoting, quotechar, line_terminator, chunksize, date_format, doublequote, escapechar, errors, storage_options)\u001b[0m\n\u001b[0;32m   1081\u001b[0m             \u001b[0mformatter\u001b[0m\u001b[1;33m=\u001b[0m\u001b[0mself\u001b[0m\u001b[1;33m.\u001b[0m\u001b[0mfmt\u001b[0m\u001b[1;33m,\u001b[0m\u001b[1;33m\u001b[0m\u001b[1;33m\u001b[0m\u001b[0m\n\u001b[0;32m   1082\u001b[0m         )\n\u001b[1;32m-> 1083\u001b[1;33m         \u001b[0mcsv_formatter\u001b[0m\u001b[1;33m.\u001b[0m\u001b[0msave\u001b[0m\u001b[1;33m(\u001b[0m\u001b[1;33m)\u001b[0m\u001b[1;33m\u001b[0m\u001b[1;33m\u001b[0m\u001b[0m\n\u001b[0m\u001b[0;32m   1084\u001b[0m \u001b[1;33m\u001b[0m\u001b[0m\n\u001b[0;32m   1085\u001b[0m         \u001b[1;32mif\u001b[0m \u001b[0mcreated_buffer\u001b[0m\u001b[1;33m:\u001b[0m\u001b[1;33m\u001b[0m\u001b[1;33m\u001b[0m\u001b[0m\n",
      "\u001b[1;32mC:\\ProgramData\\Anaconda3\\lib\\site-packages\\pandas\\io\\formats\\csvs.py\u001b[0m in \u001b[0;36msave\u001b[1;34m(self)\u001b[0m\n\u001b[0;32m    246\u001b[0m             )\n\u001b[0;32m    247\u001b[0m \u001b[1;33m\u001b[0m\u001b[0m\n\u001b[1;32m--> 248\u001b[1;33m             \u001b[0mself\u001b[0m\u001b[1;33m.\u001b[0m\u001b[0m_save\u001b[0m\u001b[1;33m(\u001b[0m\u001b[1;33m)\u001b[0m\u001b[1;33m\u001b[0m\u001b[1;33m\u001b[0m\u001b[0m\n\u001b[0m\u001b[0;32m    249\u001b[0m \u001b[1;33m\u001b[0m\u001b[0m\n\u001b[0;32m    250\u001b[0m     \u001b[1;32mdef\u001b[0m \u001b[0m_save\u001b[0m\u001b[1;33m(\u001b[0m\u001b[0mself\u001b[0m\u001b[1;33m)\u001b[0m \u001b[1;33m->\u001b[0m \u001b[1;32mNone\u001b[0m\u001b[1;33m:\u001b[0m\u001b[1;33m\u001b[0m\u001b[1;33m\u001b[0m\u001b[0m\n",
      "\u001b[1;32mC:\\ProgramData\\Anaconda3\\lib\\site-packages\\pandas\\io\\formats\\csvs.py\u001b[0m in \u001b[0;36m_save\u001b[1;34m(self)\u001b[0m\n\u001b[0;32m    251\u001b[0m         \u001b[1;32mif\u001b[0m \u001b[0mself\u001b[0m\u001b[1;33m.\u001b[0m\u001b[0m_need_to_save_header\u001b[0m\u001b[1;33m:\u001b[0m\u001b[1;33m\u001b[0m\u001b[1;33m\u001b[0m\u001b[0m\n\u001b[0;32m    252\u001b[0m             \u001b[0mself\u001b[0m\u001b[1;33m.\u001b[0m\u001b[0m_save_header\u001b[0m\u001b[1;33m(\u001b[0m\u001b[1;33m)\u001b[0m\u001b[1;33m\u001b[0m\u001b[1;33m\u001b[0m\u001b[0m\n\u001b[1;32m--> 253\u001b[1;33m         \u001b[0mself\u001b[0m\u001b[1;33m.\u001b[0m\u001b[0m_save_body\u001b[0m\u001b[1;33m(\u001b[0m\u001b[1;33m)\u001b[0m\u001b[1;33m\u001b[0m\u001b[1;33m\u001b[0m\u001b[0m\n\u001b[0m\u001b[0;32m    254\u001b[0m \u001b[1;33m\u001b[0m\u001b[0m\n\u001b[0;32m    255\u001b[0m     \u001b[1;32mdef\u001b[0m \u001b[0m_save_header\u001b[0m\u001b[1;33m(\u001b[0m\u001b[0mself\u001b[0m\u001b[1;33m)\u001b[0m \u001b[1;33m->\u001b[0m \u001b[1;32mNone\u001b[0m\u001b[1;33m:\u001b[0m\u001b[1;33m\u001b[0m\u001b[1;33m\u001b[0m\u001b[0m\n",
      "\u001b[1;32mC:\\ProgramData\\Anaconda3\\lib\\site-packages\\pandas\\io\\formats\\csvs.py\u001b[0m in \u001b[0;36m_save_body\u001b[1;34m(self)\u001b[0m\n\u001b[0;32m    289\u001b[0m             \u001b[1;32mif\u001b[0m \u001b[0mstart_i\u001b[0m \u001b[1;33m>=\u001b[0m \u001b[0mend_i\u001b[0m\u001b[1;33m:\u001b[0m\u001b[1;33m\u001b[0m\u001b[1;33m\u001b[0m\u001b[0m\n\u001b[0;32m    290\u001b[0m                 \u001b[1;32mbreak\u001b[0m\u001b[1;33m\u001b[0m\u001b[1;33m\u001b[0m\u001b[0m\n\u001b[1;32m--> 291\u001b[1;33m             \u001b[0mself\u001b[0m\u001b[1;33m.\u001b[0m\u001b[0m_save_chunk\u001b[0m\u001b[1;33m(\u001b[0m\u001b[0mstart_i\u001b[0m\u001b[1;33m,\u001b[0m \u001b[0mend_i\u001b[0m\u001b[1;33m)\u001b[0m\u001b[1;33m\u001b[0m\u001b[1;33m\u001b[0m\u001b[0m\n\u001b[0m\u001b[0;32m    292\u001b[0m \u001b[1;33m\u001b[0m\u001b[0m\n\u001b[0;32m    293\u001b[0m     \u001b[1;32mdef\u001b[0m \u001b[0m_save_chunk\u001b[0m\u001b[1;33m(\u001b[0m\u001b[0mself\u001b[0m\u001b[1;33m,\u001b[0m \u001b[0mstart_i\u001b[0m\u001b[1;33m:\u001b[0m \u001b[0mint\u001b[0m\u001b[1;33m,\u001b[0m \u001b[0mend_i\u001b[0m\u001b[1;33m:\u001b[0m \u001b[0mint\u001b[0m\u001b[1;33m)\u001b[0m \u001b[1;33m->\u001b[0m \u001b[1;32mNone\u001b[0m\u001b[1;33m:\u001b[0m\u001b[1;33m\u001b[0m\u001b[1;33m\u001b[0m\u001b[0m\n",
      "\u001b[1;32mC:\\ProgramData\\Anaconda3\\lib\\site-packages\\pandas\\io\\formats\\csvs.py\u001b[0m in \u001b[0;36m_save_chunk\u001b[1;34m(self, start_i, end_i)\u001b[0m\n\u001b[0;32m    300\u001b[0m \u001b[1;33m\u001b[0m\u001b[0m\n\u001b[0;32m    301\u001b[0m         \u001b[0mix\u001b[0m \u001b[1;33m=\u001b[0m \u001b[0mself\u001b[0m\u001b[1;33m.\u001b[0m\u001b[0mdata_index\u001b[0m\u001b[1;33m[\u001b[0m\u001b[0mslicer\u001b[0m\u001b[1;33m]\u001b[0m\u001b[1;33m.\u001b[0m\u001b[0m_format_native_types\u001b[0m\u001b[1;33m(\u001b[0m\u001b[1;33m**\u001b[0m\u001b[0mself\u001b[0m\u001b[1;33m.\u001b[0m\u001b[0m_number_format\u001b[0m\u001b[1;33m)\u001b[0m\u001b[1;33m\u001b[0m\u001b[1;33m\u001b[0m\u001b[0m\n\u001b[1;32m--> 302\u001b[1;33m         \u001b[0mlibwriters\u001b[0m\u001b[1;33m.\u001b[0m\u001b[0mwrite_csv_rows\u001b[0m\u001b[1;33m(\u001b[0m\u001b[0mdata\u001b[0m\u001b[1;33m,\u001b[0m \u001b[0mix\u001b[0m\u001b[1;33m,\u001b[0m \u001b[0mself\u001b[0m\u001b[1;33m.\u001b[0m\u001b[0mnlevels\u001b[0m\u001b[1;33m,\u001b[0m \u001b[0mself\u001b[0m\u001b[1;33m.\u001b[0m\u001b[0mcols\u001b[0m\u001b[1;33m,\u001b[0m \u001b[0mself\u001b[0m\u001b[1;33m.\u001b[0m\u001b[0mwriter\u001b[0m\u001b[1;33m)\u001b[0m\u001b[1;33m\u001b[0m\u001b[1;33m\u001b[0m\u001b[0m\n\u001b[0m",
      "\u001b[1;32mpandas\\_libs\\writers.pyx\u001b[0m in \u001b[0;36mpandas._libs.writers.write_csv_rows\u001b[1;34m()\u001b[0m\n",
      "\u001b[1;31mUnicodeEncodeError\u001b[0m: 'big5' codec can't encode character '\\u6588' in position 9: illegal multibyte sequence"
     ]
    }
   ],
   "source": [
    "########## 臺北 ##########\n",
    "########## 臺北 ##########\n",
    "########## 臺北 ##########\n",
    "\n",
    "# 最後輸出\n",
    "df_Taipei = pd.concat(df_result, axis=0, ignore_index=True).fillna(\"\")\n",
    "organize_columns(df_Taipei)\n",
    "driver.quit()\n",
    "df_Taipei.to_csv(\"finalllll.csv\", encoding=\"big5\", error=\"ignore\")\n",
    "df_Taipei"
   ]
  },
  {
   "cell_type": "code",
   "execution_count": 11,
   "id": "e6543c91",
   "metadata": {},
   "outputs": [
    {
     "data": {
      "text/plain": [
       "Index(['館藏位置(到期日期僅為期限，不代表上架日期)', 'OPAC 訊息', '冊次', '年代', '狀態 (說明)', '索書號 / 部冊號',\n",
       "       '館藏現況 說明', 'c2', 'c3', 'c4'],\n",
       "      dtype='object')"
      ]
     },
     "execution_count": 11,
     "metadata": {},
     "output_type": "execute_result"
    }
   ],
   "source": [
    "df_Taipei.columns"
   ]
  },
  {
   "cell_type": "code",
   "execution_count": null,
   "id": "8ef6d27f",
   "metadata": {},
   "outputs": [],
   "source": []
  },
  {
   "cell_type": "code",
   "execution_count": null,
   "id": "a98255a6",
   "metadata": {},
   "outputs": [],
   "source": [
    "########## 新北 ##########\n",
    "########## 新北 ##########\n",
    "########## 新北 ##########\n"
   ]
  },
  {
   "cell_type": "code",
   "execution_count": null,
   "id": "c04f9b66",
   "metadata": {},
   "outputs": [],
   "source": []
  },
  {
   "cell_type": "code",
   "execution_count": null,
   "id": "2162610f",
   "metadata": {},
   "outputs": [],
   "source": []
  },
  {
   "cell_type": "code",
   "execution_count": null,
   "id": "918d9d50",
   "metadata": {},
   "outputs": [],
   "source": [
    "########## 新北 ##########\n",
    "########## 新北 ##########\n",
    "########## 新北 ##########\n",
    "\n",
    "# 最後輸出\n",
    "df_New_Taipei = pd.concat(df_result, axis=0, ignore_index=True).fillna(\"\")\n",
    "organize_columns(df_New_Taipei)\n",
    "driver.quit()\n",
    "df_New_Taipei"
   ]
  },
  {
   "cell_type": "code",
   "execution_count": null,
   "id": "bcb2ad60",
   "metadata": {},
   "outputs": [],
   "source": []
  },
  {
   "cell_type": "code",
   "execution_count": null,
   "id": "166e9103",
   "metadata": {},
   "outputs": [],
   "source": []
  }
 ],
 "metadata": {
  "kernelspec": {
   "display_name": "Python 3",
   "language": "python",
   "name": "python3"
  },
  "language_info": {
   "codemirror_mode": {
    "name": "ipython",
    "version": 3
   },
   "file_extension": ".py",
   "mimetype": "text/x-python",
   "name": "python",
   "nbconvert_exporter": "python",
   "pygments_lexer": "ipython3",
   "version": "3.8.8"
  }
 },
 "nbformat": 4,
 "nbformat_minor": 5
}
