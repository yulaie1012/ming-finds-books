{
 "cells": [
  {
   "cell_type": "code",
   "execution_count": null,
   "id": "7a8c8e9a",
   "metadata": {},
   "outputs": [],
   "source": [
    "list1 = \"8 7 5 4 3 2 1 9 10 11 12\".split()\n",
    "list2 = \"a a b b b c c c d d d\".split()"
   ]
  },
  {
   "cell_type": "code",
   "execution_count": null,
   "id": "bf03c679",
   "metadata": {},
   "outputs": [],
   "source": [
    "x = dict(zip(list1, list2))\n",
    "x"
   ]
  },
  {
   "cell_type": "code",
   "execution_count": null,
   "id": "75a3962b",
   "metadata": {},
   "outputs": [],
   "source": [
    "y = {i: [] for i in sorted(set(x.values()))}\n",
    "y"
   ]
  },
  {
   "cell_type": "code",
   "execution_count": null,
   "id": "d0deabbd",
   "metadata": {},
   "outputs": [],
   "source": [
    "for key, value in x.items():\n",
    "    y[value].append(key)\n",
    "y"
   ]
  },
  {
   "cell_type": "code",
   "execution_count": null,
   "id": "2b3aa4df",
   "metadata": {},
   "outputs": [],
   "source": [
    "def forward_pop(y):\n",
    "    for level in sorted(y.keys(), reverse=False):\n",
    "        if y[level] != []:\n",
    "            print(y[level].pop(0), end=' ')\n",
    "    return {key: value for key, value in y.items() if bool(value)}\n",
    "def reverse_pop(y):\n",
    "    for level in sorted(y.keys(), reverse=True):\n",
    "        if y[level] != []:\n",
    "            print(y[level].pop(0), end=' ')\n",
    "    return {key: value for key, value in y.items() if bool(value)}"
   ]
  },
  {
   "cell_type": "code",
   "execution_count": null,
   "id": "7c38214f",
   "metadata": {
    "scrolled": true
   },
   "outputs": [],
   "source": [
    "while True:\n",
    "    try:\n",
    "        y = forward_pop(y)\n",
    "        y = reverse_pop(y)\n",
    "    except:\n",
    "        break"
   ]
  },
  {
   "cell_type": "code",
   "execution_count": null,
   "id": "eec2bd91",
   "metadata": {},
   "outputs": [],
   "source": []
  },
  {
   "cell_type": "code",
   "execution_count": 17,
   "id": "ccbb4a87",
   "metadata": {},
   "outputs": [
    {
     "ename": "TypeError",
     "evalue": "object of type 'int' has no len()",
     "output_type": "error",
     "traceback": [
      "\u001b[1;31m---------------------------------------------------------------------------\u001b[0m",
      "\u001b[1;31mTypeError\u001b[0m                                 Traceback (most recent call last)",
      "\u001b[1;32m<ipython-input-17-ec67a52704b7>\u001b[0m in \u001b[0;36m<module>\u001b[1;34m\u001b[0m\n\u001b[1;32m----> 1\u001b[1;33m \u001b[0mlen\u001b[0m\u001b[1;33m(\u001b[0m\u001b[1;36m1234\u001b[0m\u001b[1;33m)\u001b[0m\u001b[1;33m\u001b[0m\u001b[1;33m\u001b[0m\u001b[0m\n\u001b[0m",
      "\u001b[1;31mTypeError\u001b[0m: object of type 'int' has no len()"
     ]
    }
   ],
   "source": [
    "len(1234)"
   ]
  },
  {
   "cell_type": "code",
   "execution_count": null,
   "id": "16113080",
   "metadata": {},
   "outputs": [],
   "source": []
  }
 ],
 "metadata": {
  "kernelspec": {
   "display_name": "Python 3",
   "language": "python",
   "name": "python3"
  },
  "language_info": {
   "codemirror_mode": {
    "name": "ipython",
    "version": 3
   },
   "file_extension": ".py",
   "mimetype": "text/x-python",
   "name": "python",
   "nbconvert_exporter": "python",
   "pygments_lexer": "ipython3",
   "version": "3.8.8"
  }
 },
 "nbformat": 4,
 "nbformat_minor": 5
}
