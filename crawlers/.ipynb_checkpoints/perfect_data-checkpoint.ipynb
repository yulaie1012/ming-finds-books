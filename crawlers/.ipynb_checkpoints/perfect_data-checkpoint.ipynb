{
 "cells": [
  {
   "cell_type": "code",
   "execution_count": null,
   "id": "6ce17984",
   "metadata": {},
   "outputs": [],
   "source": [
    "import pandas as pd"
   ]
  },
  {
   "cell_type": "code",
   "execution_count": null,
   "id": "61661038",
   "metadata": {},
   "outputs": [],
   "source": [
    "def organize_columns(df):\n",
    "    # 合併欄位\n",
    "    # 處理 column 2：館藏地\n",
    "    c2 = [\"館藏地/室\", \"館藏室\", \"館藏地/館藏室\", \"館藏地\"]\n",
    "    df[\"c2\"] = \"\"\n",
    "    for c in c2:\n",
    "        try:\n",
    "            df[\"c2\"] += df[c]\n",
    "        except:\n",
    "            pass\n",
    "    \n",
    "    # 處理 column 3：索書號\n",
    "    c3 = [\"索書號\", \"索書號/期刊合訂本卷期\"]\n",
    "    df[\"c3\"] = \"\"\n",
    "    for c in c3:\n",
    "        try:\n",
    "            df[\"c3\"] += df[c]\n",
    "        except:\n",
    "            pass\n",
    "\n",
    "    # 處理 column 4：館藏狀態\n",
    "    c4 = [\"狀態/到期日\", \"目前狀態 / 到期日\", \"館藏狀態\", \"處理狀態\"]\n",
    "    df[\"c4\"] = \"\"\n",
    "    for c in c4:\n",
    "        try:\n",
    "            df[\"c4\"] += df[c]\n",
    "        except:\n",
    "            pass\n",
    "    \n",
    "    # 刪除欄位\n",
    "    garbage = [\"條碼\", \"備註\", \"預約人數\", \"使用類型\", \"Unnamed: 9\", \"Unnamed: 10\", \"預約\", \"附件\", \"資料類型\", \"#\", \"尋書單/位置i\", \"non-existent\", \"特藏/用途i\", \"條碼號\", \"備註/附件\", \"預約（人數）\", \"Unnamed: 8\"]\n",
    "    deleted = c2 + c3 + c4 + garbage\n",
    "    for i in deleted:\n",
    "        try:\n",
    "            df.pop(i)\n",
    "        except:\n",
    "            pass"
   ]
  }
 ],
 "metadata": {
  "kernelspec": {
   "display_name": "Python 3",
   "language": "python",
   "name": "python3"
  },
  "language_info": {
   "codemirror_mode": {
    "name": "ipython",
    "version": 3
   },
   "file_extension": ".py",
   "mimetype": "text/x-python",
   "name": "python",
   "nbconvert_exporter": "python",
   "pygments_lexer": "ipython3",
   "version": "3.8.8"
  }
 },
 "nbformat": 4,
 "nbformat_minor": 5
}
