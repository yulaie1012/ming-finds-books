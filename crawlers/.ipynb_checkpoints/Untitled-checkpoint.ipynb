{
 "cells": [
  {
   "cell_type": "code",
   "execution_count": 7,
   "id": "d905865b",
   "metadata": {},
   "outputs": [
    {
     "name": "stdout",
     "output_type": "stream",
     "text": [
      "「https://ntu.primo.exlibrisgroup.com/discovery/search?query=any,contains,9789869109321&tab=Everything&search_scope=MyInst_and_CI&vid=886NTU_INST:886NTU_INST&offset=0」無法爬取！\n"
     ]
    }
   ],
   "source": [
    "from selenium import webdriver\n",
    "import pandas as pd\n",
    "import time\n",
    "\n",
    "ISBN = \"9789869109321\"\n",
    "\n",
    "driver = webdriver.Chrome()\n",
    "\n",
    "# 台大\n",
    "\n",
    "url = \"https://ntu.primo.exlibrisgroup.com/discovery/search?query=any,contains,\" + ISBN + \"&tab=Everything&search_scope=MyInst_and_CI&vid=886NTU_INST:886NTU_INST&offset=0\"\n",
    "driver.get(url)\n",
    "time.sleep(5)\n",
    "title = driver.find_element_by_class_name('item-title').click()\n",
    "\n",
    "time.sleep(3)\n",
    "try:\n",
    "    try:\n",
    "        back = driver.find_element_by_css_selector(\".tab-header .back-button.button-with-icon.zero-margin.md-button.md-primoExplore-theme.md-ink-ripple\")\n",
    "    except:\n",
    "        back = None\n",
    "    if back != None:\n",
    "        back.click()\n",
    "        \n",
    "    thelist = driver.find_elements_by_class_name(\"layout-align-space-between-center.layout-row.flex-100\")\n",
    "    for row in thelist:\n",
    "        plist = row.find_elements_by_tag_name(\"p\")\n",
    "        where = row.find_elements_by_tag_name(\"h3\")\n",
    "        i = len(where)\n",
    "        for sth in plist:\n",
    "            a = sth.find_elements_by_tag_name(\"span\")\n",
    "            for _ in range(i):\n",
    "                new_row = ['台灣大學', where[_].text, a[4].text, a[0].text, url]\n",
    "                df_lst.append(new_row)\n",
    "                break\n",
    "            break\n",
    "except:\n",
    "    print(f\"「{url}」無法爬取！\")\n",
    "\n",
    "driver.close()"
   ]
  },
  {
   "cell_type": "code",
   "execution_count": null,
   "id": "83057374",
   "metadata": {},
   "outputs": [],
   "source": []
  }
 ],
 "metadata": {
  "kernelspec": {
   "display_name": "Python 3",
   "language": "python",
   "name": "python3"
  },
  "language_info": {
   "codemirror_mode": {
    "name": "ipython",
    "version": 3
   },
   "file_extension": ".py",
   "mimetype": "text/x-python",
   "name": "python",
   "nbconvert_exporter": "python",
   "pygments_lexer": "ipython3",
   "version": "3.8.8"
  }
 },
 "nbformat": 4,
 "nbformat_minor": 5
}
