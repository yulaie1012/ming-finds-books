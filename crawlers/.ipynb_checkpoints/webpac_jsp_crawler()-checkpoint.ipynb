{
 "cells": [
  {
   "cell_type": "code",
   "execution_count": 1,
   "id": "803d67bc",
   "metadata": {
    "scrolled": true
   },
   "outputs": [],
   "source": [
    "from selenium import webdriver\n",
    "from selenium.webdriver.support.ui import Select\n",
    "from selenium.webdriver.common.by import By\n",
    "from selenium.webdriver.support.ui import WebDriverWait\n",
    "from selenium.webdriver.support import expected_conditions as EC\n",
    "from selenium.webdriver.chrome.options import Options\n",
    "from selenium.webdriver.common.desired_capabilities import DesiredCapabilities\n",
    "from selenium.common.exceptions import NoSuchElementException, TimeoutException\n",
    "\n",
    "import pandas as pd\n",
    "from bs4 import BeautifulSoup\n",
    "import time\n",
    "\n",
    "import test_data\n",
    "\n",
    "my_options = Options()\n",
    "my_options.add_argument(\"--incognito\")  # 開啟無痕模式\n",
    "my_options.add_argument(\"--start-maximized\")  # 視窗最大化\n",
    "# my_options.add_argument(\"--headless\")  # 不開啟實體瀏覽器\n",
    "capabilities = DesiredCapabilities.CHROME\n",
    "capabilities[\"pageLoadStrategy\"] = \"none\"\n",
    "\n",
    "def webpac_jsp_crawler(url, ISBN):\n",
    "    test_url = url[:]  # 測試用，輸出「現在測試的網頁」\n",
    "    test_start = time.time()  # 測試用，計算程式進行時間\n",
    "    \n",
    "    # 初始化 driver；設定 explicit waits\n",
    "    driver = webdriver.Chrome(options=my_options, desired_capabilities=capabilities)\n",
    "    wait = WebDriverWait(driver, 30)  # 最長等待時間：30 秒；查找元素的間隔時間：0.5秒（default）\n",
    "\n",
    "    # 進入＂搜尋主頁＂\n",
    "    driver.get(url)\n",
    "\n",
    "    try:\n",
    "        # 定位＂下拉式選單＂，選擇 ISBN\n",
    "        search_field = wait.until(\n",
    "            EC.presence_of_element_located((By.NAME, \"search_field\"))\n",
    "        )\n",
    "        select = Select(search_field)\n",
    "        select.select_by_value(\"ISBN\")\n",
    "        \n",
    "        # 抓取在哪間＂圖書館＂\n",
    "        org = driver.title\n",
    "\n",
    "        # 定位＂搜尋欄＂，輸入 ISBN\n",
    "        search_input = wait.until(\n",
    "            EC.presence_of_element_located((By.NAME, \"search_input\"))\n",
    "        )\n",
    "        search_input.send_keys(ISBN)\n",
    "        search_input.submit()\n",
    "\n",
    "        # 依據＂div.mainCon＂，來判斷搜尋結果是「＂一筆＂」還是「＂零筆＂或＂多筆＂」\n",
    "        try:\n",
    "            WebDriverWait(driver, 3).until(\n",
    "                EC.presence_of_element_located((By.CSS_SELECTOR, \"div.mainCon\"))\n",
    "            )\n",
    "            \n",
    "            # 定位＂表格＂，爬取內容\n",
    "            wait.until(\n",
    "                EC.presence_of_element_located((By.CSS_SELECTOR, \"table.order\"))\n",
    "            )\n",
    "            tgt = pd.read_html(driver.page_source, encoding=\"utf-8\")[-2]\n",
    "            tgt[\"圖書館\"] = org\n",
    "            tgt[\"連結\"] = driver.current_url\n",
    "        except (NoSuchElementException, TimeoutException):\n",
    "            if \".jsp\" in url:  # 用來組合不同＂詳細書目＂的網址\n",
    "                url = url.replace(url.split(\"/\")[-1], \"\")\n",
    "\n",
    "            tgt = []\n",
    "            # 定位＂內嵌框架＂，切換至此內部，找尋多個＂詳細書目的網址＂\n",
    "            iframe = wait.until(\n",
    "                EC.presence_of_element_located((By.ID, \"leftFrame\"))\n",
    "            )\n",
    "            driver.switch_to.frame(iframe)\n",
    "            soup = BeautifulSoup(driver.page_source, \"html.parser\")\n",
    "            tgt_urls = []\n",
    "            for anchor in soup.find_all(\"a\", \"bookname\"):\n",
    "                tgt_urls.append(url + anchor[\"href\"])\n",
    "            \n",
    "            # 進入不同的＂詳細書目＂，再定位＂表格＂，爬取內容\n",
    "            for urlx in tgt_urls:\n",
    "                driver.get(urlx)\n",
    "                wait.until(\n",
    "                    EC.presence_of_element_located((By.CSS_SELECTOR, \"table.order\"))\n",
    "                )\n",
    "                sec_tgt = pd.read_html(driver.page_source, encoding=\"utf-8\")[-2]\n",
    "                sec_tgt[\"連結\"] = driver.current_url\n",
    "                tgt.append(sec_tgt)\n",
    "            tgt = pd.concat(tgt, axis=0, ignore_index=True)\n",
    "            tgt[\"圖書館\"] = org\n",
    "        finally:\n",
    "            driver.close()\n",
    "            tgt.to_csv(f\"{org}.csv\", encoding=\"big5\", errors=\"ignore\")\n",
    "            test_end = time.time()  # 測試用，計算程式進行時間\n",
    "            print(f\"程式執行成功，執行時間：{test_end - test_start:7.4f}秒，在「{org}」\")  # 測試用，計算程式進行時間\n",
    "    except Exception as e:\n",
    "        print(\"=\"*80)\n",
    "        print(f\"程式執行失敗，執行時間：{test_end - test_start:7.4f}秒，在「{org}」\")\n",
    "        print(f\"網址為：「{test_url}」\")\n",
    "        print(f\"錯誤訊息為：「{e}」\")\n",
    "        print(\"=\"*80)"
   ]
  },
  {
   "cell_type": "code",
   "execution_count": null,
   "id": "9393d266",
   "metadata": {},
   "outputs": [],
   "source": []
  },
  {
   "cell_type": "code",
   "execution_count": 2,
   "id": "668ba4e2",
   "metadata": {
    "scrolled": true
   },
   "outputs": [
    {
     "ename": "AttributeError",
     "evalue": "module 'test_data' has no attribute 'test_urls'",
     "output_type": "error",
     "traceback": [
      "\u001b[1;31m---------------------------------------------------------------------------\u001b[0m",
      "\u001b[1;31mAttributeError\u001b[0m                            Traceback (most recent call last)",
      "\u001b[1;32m<ipython-input-2-81674dbe20c9>\u001b[0m in \u001b[0;36m<module>\u001b[1;34m\u001b[0m\n\u001b[0;32m      1\u001b[0m \u001b[0mdf_lst\u001b[0m \u001b[1;33m=\u001b[0m \u001b[1;33m[\u001b[0m\u001b[1;33m]\u001b[0m\u001b[1;33m\u001b[0m\u001b[1;33m\u001b[0m\u001b[0m\n\u001b[1;32m----> 2\u001b[1;33m \u001b[1;32mfor\u001b[0m \u001b[0mtest_url\u001b[0m \u001b[1;32min\u001b[0m \u001b[0mtest_data\u001b[0m\u001b[1;33m.\u001b[0m\u001b[0mtest_urls\u001b[0m\u001b[1;33m:\u001b[0m\u001b[1;33m\u001b[0m\u001b[1;33m\u001b[0m\u001b[0m\n\u001b[0m\u001b[0;32m      3\u001b[0m     df_lst.append(\n\u001b[0;32m      4\u001b[0m         webpac_jsp_crawler(\n\u001b[0;32m      5\u001b[0m             \u001b[0murl\u001b[0m\u001b[1;33m=\u001b[0m\u001b[0mtest_url\u001b[0m\u001b[1;33m,\u001b[0m\u001b[1;33m\u001b[0m\u001b[1;33m\u001b[0m\u001b[0m\n",
      "\u001b[1;31mAttributeError\u001b[0m: module 'test_data' has no attribute 'test_urls'"
     ]
    }
   ],
   "source": [
    "df_lst = []\n",
    "for test_url in test_data.test_urls:\n",
    "    df_lst.append(\n",
    "        webpac_jsp_crawler(\n",
    "            url=test_url,\n",
    "            ISBN=\"9789573317241\")\n",
    "    )"
   ]
  },
  {
   "cell_type": "code",
   "execution_count": null,
   "id": "b2c5a5c7",
   "metadata": {},
   "outputs": [],
   "source": [
    "pd.concat(df_lst, axis=0, ignore_index=True)"
   ]
  },
  {
   "cell_type": "code",
   "execution_count": null,
   "id": "4ffa5980",
   "metadata": {},
   "outputs": [],
   "source": []
  },
  {
   "cell_type": "code",
   "execution_count": null,
   "id": "45eecafc",
   "metadata": {},
   "outputs": [],
   "source": [
    "# webpac_jsp_crawler(\n",
    "#     url=\"http://192.192.231.232/webpacIndex.jsp\",\n",
    "#     ISBN=\"9789573317241\")"
   ]
  }
 ],
 "metadata": {
  "kernelspec": {
   "display_name": "Python 3",
   "language": "python",
   "name": "python3"
  },
  "language_info": {
   "codemirror_mode": {
    "name": "ipython",
    "version": 3
   },
   "file_extension": ".py",
   "mimetype": "text/x-python",
   "name": "python",
   "nbconvert_exporter": "python",
   "pygments_lexer": "ipython3",
   "version": "3.8.8"
  }
 },
 "nbformat": 4,
 "nbformat_minor": 5
}
