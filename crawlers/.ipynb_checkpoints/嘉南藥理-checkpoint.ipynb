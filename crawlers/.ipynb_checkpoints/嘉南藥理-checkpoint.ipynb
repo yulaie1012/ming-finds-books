{
 "cells": [
  {
   "cell_type": "code",
   "execution_count": 13,
   "id": "a5a5f1ba",
   "metadata": {},
   "outputs": [],
   "source": [
    "# 環境設置\n",
    "from selenium import webdriver\n",
    "from selenium.webdriver.chrome.options import Options\n",
    "from selenium.webdriver.support.ui import Select\n",
    "from selenium.webdriver.common.keys import Keys  # 鍵盤操作\n",
    "from selenium.common.exceptions import NoSuchElementException, TimeoutException\n",
    "# ---------- 等待頁面加載完成\n",
    "from selenium.webdriver.common.desired_capabilities import DesiredCapabilities\n",
    "from selenium.webdriver.support.ui import WebDriverWait\n",
    "from selenium.webdriver.support import expected_conditions as EC\n",
    "from selenium.webdriver.common.by import By\n",
    "# ----------\n",
    "import pandas as pd\n",
    "import pandas.io.formats.excel\n",
    "import requests\n",
    "import requests.packages.urllib3\n",
    "requests.packages.urllib3.disable_warnings()\n",
    "from urllib.request import HTTPError\n",
    "from bs4 import BeautifulSoup\n",
    "import time"
   ]
  },
  {
   "cell_type": "code",
   "execution_count": 14,
   "id": "cebe0fdf",
   "metadata": {},
   "outputs": [],
   "source": [
    "# 搜尋目標\n",
    "# ISBN = \"9789869109321\"  # 爬取＂宜蘭縣公共圖書館＂時，會有兩筆搜索結果\n",
    "# title = \"二十一世紀資本論\"\n",
    "ISBN = \"9789573317241\"  # \"哈利波特：神秘的魔法石\"\n",
    "title = \"哈利波特：神秘的魔法石\"\n",
    "\n",
    "# 設定 driver\n",
    "my_options = Options()\n",
    "my_options.add_argument(\"--incognito\")  # 開啟無痕模式\n",
    "# my_options.add_argument(\"--headless\")  # 不開啟實體瀏覽器\n",
    "\n",
    "capabilities = DesiredCapabilities.CHROME\n",
    "capabilities[\"pageLoadStrategy\"] = \"none\""
   ]
  },
  {
   "cell_type": "code",
   "execution_count": 15,
   "id": "c6747c91",
   "metadata": {},
   "outputs": [],
   "source": [
    "# 開啟 Chrome，設定等待元素最多 10 秒\n",
    "driver = webdriver.Chrome(options=my_options, desired_capabilities=capabilities)\n",
    "wait = WebDriverWait(driver, 10)"
   ]
  },
  {
   "cell_type": "code",
   "execution_count": 16,
   "id": "13c24cf9",
   "metadata": {},
   "outputs": [
    {
     "name": "stdout",
     "output_type": "stream",
     "text": [
      "<class 'pandas.core.frame.DataFrame'>\n"
     ]
    }
   ],
   "source": [
    "df_result = []\n",
    "# url = \"https://webpac.cnu.edu.tw/webpacIndex.jsp\"  # 嘉南藥理大學\n",
    "url = \"https://lib.niu.edu.tw/webpacIndex.jsp\"  # 國立宜蘭大學\n",
    "\n",
    "# webpac_jsp_crawler(org, url, ISBN, driver, wait):\n",
    "# 前往《館藏系統》頁面\n",
    "driver.get()\n",
    "\n",
    "# 等待＜下拉式選單＞元素出現\n",
    "wait.until(EC.presence_of_element_located((By.NAME, \"search_field\")))\n",
    "\n",
    "# 定位＜下拉式選單＞，以 ISBN 搜尋方式搜尋\n",
    "select = Select(driver.find_element_by_name(\"search_field\"))\n",
    "select.select_by_visible_text(u\"ISBN\")\n",
    "\n",
    "# 定位＜搜尋＞，輸入 IBSN 後，按下 ENTER 鍵\n",
    "search_input = driver.find_element_by_name(\"search_input\")\n",
    "search_input.send_keys(ISBN)\n",
    "search_input.submit()\n",
    "\n",
    "# 等待＜表格＞元素出現\n",
    "wait.until(EC.presence_of_element_located((By.CSS_SELECTOR, \"table.order\")))\n",
    "\n",
    "# 取得 tgt\n",
    "tgt = pd.read_html(driver.page_source, encoding=\"utf-8\")[-2]"
   ]
  },
  {
   "cell_type": "code",
   "execution_count": null,
   "id": "b56949ee",
   "metadata": {},
   "outputs": [],
   "source": []
  }
 ],
 "metadata": {
  "kernelspec": {
   "display_name": "Python 3",
   "language": "python",
   "name": "python3"
  },
  "language_info": {
   "codemirror_mode": {
    "name": "ipython",
    "version": 3
   },
   "file_extension": ".py",
   "mimetype": "text/x-python",
   "name": "python",
   "nbconvert_exporter": "python",
   "pygments_lexer": "ipython3",
   "version": "3.8.8"
  }
 },
 "nbformat": 4,
 "nbformat_minor": 5
}
