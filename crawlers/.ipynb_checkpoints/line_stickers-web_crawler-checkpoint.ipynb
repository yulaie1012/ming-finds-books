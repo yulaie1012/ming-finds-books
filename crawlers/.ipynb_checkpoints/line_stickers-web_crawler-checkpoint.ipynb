{
 "cells": [
  {
   "cell_type": "code",
   "execution_count": 15,
   "id": "80c74e10",
   "metadata": {},
   "outputs": [
    {
     "ename": "SyntaxError",
     "evalue": "EOL while scanning string literal (<ipython-input-15-870234890688>, line 37)",
     "output_type": "error",
     "traceback": [
      "\u001b[1;36m  File \u001b[1;32m\"<ipython-input-15-870234890688>\"\u001b[1;36m, line \u001b[1;32m37\u001b[0m\n\u001b[1;33m    if not os.path.exists(f\"{theme}\\\\title):\u001b[0m\n\u001b[1;37m                                            ^\u001b[0m\n\u001b[1;31mSyntaxError\u001b[0m\u001b[1;31m:\u001b[0m EOL while scanning string literal\n"
     ]
    }
   ],
   "source": [
    "import requests\n",
    "from bs4 import BeautifulSoup\n",
    "import os\n",
    "\n",
    "urls = [\"https://store.line.me/stickershop/product/15734681/zh-Hant\",\n",
    "        \"https://store.line.me/stickershop/product/15300937/zh-Hant\",\n",
    "        \"\",\n",
    "        \"\",\n",
    "        \"\",\n",
    "        \"\",\n",
    "        \"\",\n",
    "        \"\",\n",
    "       ]  # 要爬的網址\n",
    "\n",
    "for url in urls:\n",
    "    resp = requests.get(url)\n",
    "    soup = BeautifulSoup(resp.text, \"html.parser\")\n",
    "    title = soup.title.text.replace(\" – LINE貼圖 | LINE STORE\", \"\")\n",
    "    # 確認爬取的主題，分為：jersey kun、jersey chan、jersey couple，其他不爬\n",
    "    if \"jersey kun\" in title:\n",
    "        theme = \"jersey kun\"\n",
    "    elif \"jersey chan\" in title:\n",
    "        theme = \"jersey chan\"\n",
    "    elif \"jersey couple\" in title:\n",
    "        theme = \"jersey couple\"\n",
    "    else:\n",
    "        break\n",
    "    if not os.path.exists(theme):\n",
    "        os.mkdir(theme)\n",
    "    \n",
    "    # 進入頁面，開始爬取貼圖\n",
    "    sticker_links = []\n",
    "    stickers = soup.find(\"ul\", \"mdCMN09Ul FnStickerList\").find_all(\"li\")\n",
    "    for sticker in stickers:\n",
    "        sticker_links.append(sticker.find(\"span\")[\"style\"].replace(\"background-image:url(\", \"\").replace(\";compress=true);\", \"\"))\n",
    "\n",
    "    for index, link in enumerate(sticker_links):\n",
    "        if not os.path.exists(f\"{theme}\\\\{title}\"):\n",
    "            os.mkdir(title)  # 建立資料夾\n",
    "        img = requests.get(link)\n",
    "        with open(f\"{theme}\\\\{title}\\\\{title}_{str(index+1)}.jpg\", \"wb\") as file:\n",
    "            file.write(img.content)  # 寫入圖片的二進位碼"
   ]
  },
  {
   "cell_type": "code",
   "execution_count": null,
   "id": "4ae845fd",
   "metadata": {},
   "outputs": [],
   "source": []
  }
 ],
 "metadata": {
  "kernelspec": {
   "display_name": "Python 3",
   "language": "python",
   "name": "python3"
  },
  "language_info": {
   "codemirror_mode": {
    "name": "ipython",
    "version": 3
   },
   "file_extension": ".py",
   "mimetype": "text/x-python",
   "name": "python",
   "nbconvert_exporter": "python",
   "pygments_lexer": "ipython3",
   "version": "3.8.8"
  }
 },
 "nbformat": 4,
 "nbformat_minor": 5
}
