{
 "cells": [
  {
   "cell_type": "code",
   "execution_count": null,
   "id": "dfcb5d93",
   "metadata": {},
   "outputs": [],
   "source": [
    "import pandas as pd\n",
    "import pandas.io.formats.excel"
   ]
  },
  {
   "cell_type": "code",
   "execution_count": null,
   "id": "f18ab89d",
   "metadata": {},
   "outputs": [],
   "source": [
    "def set_excel(df, set_dir):\n",
    "    # B｢圖書館｣、C「館藏地」、D「索書號」、E「館藏狀態」、F「連結」\n",
    "    pandas.io.formats.excel.header_style = None  # 標題格式清除\n",
    "    writer = pd.ExcelWriter(set_dir)\n",
    "    df.to_excel(writer, sheet_name=\"搜尋結果\")\n",
    "\n",
    "    workbook1 = writer.book\n",
    "    worksheets = writer.sheets\n",
    "    worksheet1 = worksheets[\"搜尋結果\"]\n",
    "    \n",
    "    # 測試\n",
    "    cell_format = workbook1.add_format({\n",
    "        \"font_name\": \"微軟正黑體\",\n",
    "        \"font_size\": 16,\n",
    "        \"align\": \"left\",\n",
    "        \"border\": 20,\n",
    "    })\n",
    "#     worksheet1.set_column(\"B:F\", 20, cell_format)\n",
    "    \n",
    "    # 設定單元格的寬度\n",
    "#     worksheet1.set_column(\"B:F\", 35)\n",
    "\n",
    "    writer.save()\n",
    "    print(\"爬取完成\")"
   ]
  },
  {
   "cell_type": "code",
   "execution_count": 1,
   "id": "39c427c4",
   "metadata": {},
   "outputs": [],
   "source": [
    "def organize_columns(df):    \n",
    "    # 合併欄位\n",
    "    # 處理 column 2：館藏地\n",
    "    c2 = [\"館藏地/室\", \"館藏室\", \"館藏地/館藏室\", \"館藏地\", \"典藏館\"]\n",
    "    df[\"c2\"] = \"\"\n",
    "    for c in c2:\n",
    "        try:\n",
    "            df[\"c2\"] += df[c]\n",
    "        except:\n",
    "            pass\n",
    "    \n",
    "    # 處理 column 3：索書號\n",
    "    c3 = [\"索書號\", \"索書號/期刊合訂本卷期\", \"索書號 / 部冊號\"]\n",
    "    df[\"c3\"] = \"\"\n",
    "    for c in c3:\n",
    "        try:\n",
    "            df[\"c3\"] += df[c]\n",
    "        except:\n",
    "            pass\n",
    "\n",
    "    # 處理 column 4：館藏狀態\n",
    "    c4 = [\"狀態/到期日\", \"目前狀態 / 到期日\", \"館藏狀態\", \"處理狀態\", '狀態 (說明)', '館藏現況 說明']\n",
    "    df[\"c4\"] = \"\"\n",
    "    for c in c4:\n",
    "        try:\n",
    "            df[\"c4\"] += df[c]\n",
    "        except:\n",
    "            pass\n",
    "    \n",
    "#     刪除欄位\n",
    "#     garbage = [\"冊次\", \"年代\", \"OPAC 訊息\", \"註記\", \"編號\", \"館藏類型\", \"條碼\", \"備註\", \"預約人數\", \"使用類型\", \"Unnamed: 9\", \"Unnamed: 10\", \"預約\", \"附件\", \"資料類型\", \"#\", \"尋書單/位置i\", \"non-existent\", \"特藏/用途i\", \"條碼號\", \"備註/附件\", \"預約（人數）\", \"Unnamed: 8\"]\n",
    "#     deleted = c2 + c3 + c4 + garbage\n",
    "#     for i in deleted:\n",
    "#         try:\n",
    "#             df.pop(i)\n",
    "#         except:\n",
    "#             pass\n",
    "    \n",
    "    # 解決編碼問題\n",
    "    df[\"c2\"] = df[\"c2\"].str.replace(\"栅\", \"柵\").str.replace(\"斈\", \"學\")\n",
    "    # .str.replace(\"栅\", \"柵\")\n",
    "    # .str.replace(\"斈\", \"學\")\n",
    "    \n",
    "    # 直接生成另一個 DataFrame\n",
    "    test = pd.DataFrame()\n",
    "    test[\"圖書館\"] = df[\"c1\"]\n",
    "    test[\"館藏地\"] = df[\"c2\"]\n",
    "    test[\"索書號\"] = df[\"c3\"]\n",
    "    test[\"館藏狀態\"] = df[\"c4\"]\n",
    "    test[\"連結\"] = df[\"c5\"]\n",
    "    \n",
    "    return test"
   ]
  },
  {
   "cell_type": "code",
   "execution_count": null,
   "id": "6f39d988",
   "metadata": {},
   "outputs": [],
   "source": []
  },
  {
   "cell_type": "code",
   "execution_count": null,
   "id": "61e3e8b4",
   "metadata": {},
   "outputs": [],
   "source": []
  },
  {
   "cell_type": "code",
   "execution_count": null,
   "id": "d16cdec8",
   "metadata": {},
   "outputs": [],
   "source": []
  }
 ],
 "metadata": {
  "kernelspec": {
   "display_name": "Python 3",
   "language": "python",
   "name": "python3"
  },
  "language_info": {
   "codemirror_mode": {
    "name": "ipython",
    "version": 3
   },
   "file_extension": ".py",
   "mimetype": "text/x-python",
   "name": "python",
   "nbconvert_exporter": "python",
   "pygments_lexer": "ipython3",
   "version": "3.8.8"
  }
 },
 "nbformat": 4,
 "nbformat_minor": 5
}
