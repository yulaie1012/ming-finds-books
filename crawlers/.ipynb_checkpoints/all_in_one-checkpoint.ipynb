{
 "cells": [
  {
   "cell_type": "code",
   "execution_count": null,
   "id": "dfcb5d93",
   "metadata": {},
   "outputs": [],
   "source": [
    "import pandas as pd\n",
    "import pandas.io.formats.excel\n",
    "\n",
    "def test_clean_data(df2):\n",
    "    \n",
    "    # copy 用來測試，還在開發中\n",
    "    df = df2.copy()\n",
    "    # 填補 NaN\n",
    "    df.fillna(\"\", inplace=True)\n",
    "    \n",
    "    # 合併欄位\n",
    "    df[\"館藏地/室\"] = df[\"館藏地/室\"] + df[\"館藏室\"] + df[\"館藏地/館藏室\"]\n",
    "    df[\"狀態/到期日\"] = df[\"狀態/到期日\"] + df[\"目前狀態 / 到期日\"]\n",
    "    \n",
    "    # 剔除不要的欄位\n",
    "    deleted = [\"尋書單/位置i\", \"特藏/用途i\", \"條碼號\", \"預約（人數）\", \"備註/附件\", \"Unnamed: 8\", \"#\", \"資料類型\", \"附件\", \"預約\", \"館藏室\", \"館藏地/館藏室\", \"目前狀態 / 到期日\"]\n",
    "    for i in deleted:\n",
    "        try:\n",
    "            df.pop(i)\n",
    "        except:\n",
    "            pass\n",
    "\n",
    "    return df"
   ]
  },
  {
   "cell_type": "code",
   "execution_count": null,
   "id": "f18ab89d",
   "metadata": {},
   "outputs": [],
   "source": [
    "def set_excel(df, set_dir):\n",
    "    # pandas.io.formats.excel.header_style = None\n",
    "    writer = pd.ExcelWriter(set_dir)\n",
    "    df.to_excel(writer, sheet_name=f\"搜尋結果\")\n",
    "\n",
    "    workbook1 = writer.book\n",
    "    worksheets = writer.sheets\n",
    "    worksheet1 = worksheets[\"搜尋結果\"]\n",
    "    \n",
    "    # 測試\n",
    "    cell_format = workbook1.add_format({\n",
    "        \"font_name\": \"微軟正黑體\",\n",
    "        \"font_size\": 16\n",
    "    })\n",
    "    worksheet1.set_column(\"B:E\", 20, cell_format)\n",
    "    \n",
    "    # 設定單元格的寬度\n",
    "    worksheet1.set_column(\"B:E\", 35)\n",
    "\n",
    "    writer.save()\n",
    "    print(\"爬取完成\")"
   ]
  },
  {
   "cell_type": "code",
   "execution_count": null,
   "id": "61e3e8b4",
   "metadata": {},
   "outputs": [],
   "source": []
  },
  {
   "cell_type": "code",
   "execution_count": null,
   "id": "d16cdec8",
   "metadata": {},
   "outputs": [],
   "source": []
  }
 ],
 "metadata": {
  "kernelspec": {
   "display_name": "Python 3",
   "language": "python",
   "name": "python3"
  },
  "language_info": {
   "codemirror_mode": {
    "name": "ipython",
    "version": 3
   },
   "file_extension": ".py",
   "mimetype": "text/x-python",
   "name": "python",
   "nbconvert_exporter": "python",
   "pygments_lexer": "ipython3",
   "version": "3.8.8"
  }
 },
 "nbformat": 4,
 "nbformat_minor": 5
}
