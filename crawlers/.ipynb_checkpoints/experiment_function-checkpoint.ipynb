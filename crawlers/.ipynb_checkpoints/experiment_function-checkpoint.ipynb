{
 "cells": [
  {
   "cell_type": "code",
   "execution_count": 1,
   "id": "e3efbd9a",
   "metadata": {},
   "outputs": [],
   "source": [
    "# 環境設置\n",
    "from selenium import webdriver\n",
    "from selenium.webdriver.chrome.options import Options\n",
    "from selenium.webdriver.support.ui import Select\n",
    "from selenium.webdriver.common.keys import Keys  # 鍵盤操作\n",
    "from selenium.common.exceptions import NoSuchElementException\n",
    "# ---------- 等待頁面加載完成\n",
    "from selenium.webdriver.common.desired_capabilities import DesiredCapabilities\n",
    "from selenium.webdriver.support.ui import WebDriverWait\n",
    "from selenium.webdriver.support import expected_conditions as EC\n",
    "from selenium.webdriver.common.by import By\n",
    "# ----------\n",
    "import pandas as pd\n",
    "import pandas.io.formats.excel\n",
    "import requests\n",
    "import requests.packages.urllib3\n",
    "requests.packages.urllib3.disable_warnings()\n",
    "from urllib.request import HTTPError\n",
    "from bs4 import BeautifulSoup\n",
    "import time\n",
    "\n",
    "def click_more_btn(driver):\n",
    "    while True:\n",
    "        try:\n",
    "            time.sleep(1)\n",
    "            driver.find_element_by_css_selector(\"a.btnstyle.bluebg3.morewidth\").click()\n",
    "        except NoSuchElementException:\n",
    "            break\n",
    "    tgt = pd.read_html(driver.page_source, encoding=\"utf-8\")[0]\n",
    "    return tgt\n",
    "\n",
    "# 搜尋目標\n",
    "ISBN = \"9789869109321\"  # 爬取＂宜蘭縣公共圖書館＂時，會有兩筆搜索結果\n",
    "title = \"二十一世紀資本論\"\n",
    "# ISBN = \"9789573317241\"  # \"哈利波特：神秘的魔法石\"\n",
    "# title = \"哈利波特：神秘的魔法石\"\n",
    "\n",
    "# 設定 driver\n",
    "my_options = Options()\n",
    "my_options.add_argument(\"--incognito\")  # 開啟無痕模式\n",
    "# my_options.add_argument(\"--headless\")  # 不開啟實體瀏覽器\n",
    "\n",
    "capabilities = DesiredCapabilities.CHROME\n",
    "capabilities[\"pageLoadStrategy\"] = \"none\"\n",
    "\n",
    "# 初始化 df_result\n",
    "df_result = []\n",
    "\n",
    "# 開啟 Chrome，設定等待元素最多 10 秒\n",
    "driver = webdriver.Chrome(options=my_options, desired_capabilities=capabilities)\n",
    "wait = WebDriverWait(driver, 10)\n",
    "\n",
    "ISBN = \"9789869109321\"\n",
    "url = \"https://webpac.ilccb.gov.tw/\"\n",
    "\n",
    "driver.get(url)\n",
    "\n",
    "\n",
    "wait.until(EC.element_to_be_clickable((By.XPATH, '//*[@id=\"center\"]/div/section[1]/div/div/div/form/div[3]/div[1]/a'))).click()\n",
    "\n",
    "select = Select(wait.until(EC.presence_of_element_located((By.NAME, \"searchField\"))))\n",
    "time.sleep(0.2)\n",
    "select.select_by_visible_text(u\"ISBN\")\n",
    "search_input = driver.find_element_by_name(\"searchInput\")\n",
    "search_input.send_keys(ISBN)\n",
    "search_input.submit()"
   ]
  },
  {
   "cell_type": "code",
   "execution_count": 2,
   "id": "378c8494",
   "metadata": {},
   "outputs": [],
   "source": [
    "# 計算搜尋結果的數量\n",
    "results = len(wait.until(EC.presence_of_all_elements_located((By.CSS_SELECTOR, \"div.booklist\"))))"
   ]
  },
  {
   "cell_type": "code",
   "execution_count": null,
   "id": "b3bf435a",
   "metadata": {},
   "outputs": [],
   "source": []
  }
 ],
 "metadata": {
  "kernelspec": {
   "display_name": "Python 3",
   "language": "python",
   "name": "python3"
  },
  "language_info": {
   "codemirror_mode": {
    "name": "ipython",
    "version": 3
   },
   "file_extension": ".py",
   "mimetype": "text/x-python",
   "name": "python",
   "nbconvert_exporter": "python",
   "pygments_lexer": "ipython3",
   "version": "3.8.8"
  }
 },
 "nbformat": 4,
 "nbformat_minor": 5
}
