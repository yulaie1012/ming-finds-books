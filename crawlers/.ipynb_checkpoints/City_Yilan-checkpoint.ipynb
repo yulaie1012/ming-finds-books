{
 "cells": [
  {
   "cell_type": "code",
   "execution_count": 1,
   "id": "0d9147b7",
   "metadata": {},
   "outputs": [
    {
     "name": "stdout",
     "output_type": "stream",
     "text": [
      "importing Jupyter notebook from crawlers.ipynb\n",
      "importing Jupyter notebook from all_in_one.ipynb\n"
     ]
    }
   ],
   "source": [
    "# 初始環境設置\n",
    "from selenium import webdriver\n",
    "from selenium.webdriver.chrome.options import Options\n",
    "from selenium.webdriver.support.ui import Select\n",
    "from selenium.webdriver.common.keys import Keys  # 鍵盤操作\n",
    "from selenium.common.exceptions import NoSuchElementException\n",
    "# ---------- 等待頁面加載完成\n",
    "from selenium.webdriver.common.desired_capabilities import DesiredCapabilities\n",
    "from selenium.webdriver.support.ui import WebDriverWait\n",
    "from selenium.webdriver.support import expected_conditions as EC\n",
    "from selenium.webdriver.common.by import By\n",
    "# ----------\n",
    "import pandas as pd\n",
    "import pandas.io.formats.excel\n",
    "import requests\n",
    "import requests.packages.urllib3\n",
    "requests.packages.urllib3.disable_warnings()\n",
    "from urllib.request import HTTPError\n",
    "from bs4 import BeautifulSoup\n",
    "import time\n",
    "# 載入自定義函式\n",
    "import import_ipynb\n",
    "import crawlers\n",
    "import all_in_one\n",
    "\n",
    "# 搜尋條件設定\n",
    "ISBN = \"9789869109321\"  # 二十一世紀資本論\n",
    "# ISBN = \"9789573317241\"  # \"哈利波特(1)：神秘的魔法石\"\n",
    "\n",
    "my_options = Options()\n",
    "my_options.add_argument(\"--incognito\")  # 開啟無痕模式\n",
    "# my_options.add_argument(\"--headless\")  # 不開啟實體瀏覽器\n",
    "\n",
    "cap = DesiredCapabilities.CHROME\n",
    "cap[\"pageLoadStrategy\"] = \"none\"\n",
    "\n",
    "# 儲存不同網站所爬下來的 DataFrame\n",
    "df_lst = []"
   ]
  },
  {
   "cell_type": "code",
   "execution_count": 2,
   "id": "5ee9ab07",
   "metadata": {},
   "outputs": [],
   "source": [
    "# 開啟瀏覽器\n",
    "driver = webdriver.Chrome(options=my_options, desired_capabilities=cap)\n",
    "wait = WebDriverWait(driver, 10)"
   ]
  },
  {
   "cell_type": "code",
   "execution_count": 3,
   "id": "92732247",
   "metadata": {},
   "outputs": [],
   "source": [
    "# 爬蟲開始\n",
    "df_lst.append(crawlers.webpac_gov_crawler(\"https://webpac.ilccb.gov.tw/\", ISBN, driver))\n",
    "df_lst.append(crawlers.webpac_jsp_crawler(\"https://lib.niu.edu.tw/webpacIndex.jsp\", ISBN, driver, wait))\n",
    "df_lst.append(crawlers.webpac_jsp_crawler(\"http://libils.fgu.edu.tw/webpacIndex.jsp\", ISBN, driver, wait))\n",
    "df_final = pd.concat(df_lst, axis=0, ignore_index=True)"
   ]
  },
  {
   "cell_type": "code",
   "execution_count": 4,
   "id": "c0936cb4",
   "metadata": {},
   "outputs": [],
   "source": [
    "# 整理資料，暫時先不要原地變更，以方便測試\n",
    "x = all_in_one.test_clean_data(df_final)"
   ]
  },
  {
   "cell_type": "code",
   "execution_count": 5,
   "id": "74ca9714",
   "metadata": {},
   "outputs": [
    {
     "name": "stdout",
     "output_type": "stream",
     "text": [
      "爬取完成\n"
     ]
    }
   ],
   "source": [
    "# 輸出成 excel\n",
    "all_in_one.set_excel(x, \"搜尋結果.xlsx\")"
   ]
  },
  {
   "cell_type": "code",
   "execution_count": null,
   "id": "84814b88",
   "metadata": {},
   "outputs": [],
   "source": []
  }
 ],
 "metadata": {
  "kernelspec": {
   "display_name": "Python 3",
   "language": "python",
   "name": "python3"
  },
  "language_info": {
   "codemirror_mode": {
    "name": "ipython",
    "version": 3
   },
   "file_extension": ".py",
   "mimetype": "text/x-python",
   "name": "python",
   "nbconvert_exporter": "python",
   "pygments_lexer": "ipython3",
   "version": "3.8.8"
  }
 },
 "nbformat": 4,
 "nbformat_minor": 5
}
