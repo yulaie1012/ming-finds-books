{
 "cells": [
  {
   "cell_type": "code",
   "execution_count": 3,
   "id": "e9561ad2",
   "metadata": {
    "scrolled": true
   },
   "outputs": [],
   "source": [
    "import requests\n",
    "from bs4 import BeautifulSoup\n",
    "import os\n",
    "\n",
    "urls = [\"https://store.line.me/stickershop/product/15734681/zh-Hant\",\n",
    "        \"https://store.line.me/stickershop/product/15300937/zh-Hant\",\n",
    "       ]  # 要爬的網址\n",
    "\n",
    "for url in urls:\n",
    "    resp = requests.get(url)\n",
    "    soup = BeautifulSoup(resp.text, \"html.parser\")\n",
    "    title = soup.title.text.replace(\" – LINE貼圖 | LINE STORE\", \"\")\n",
    "    # 確認爬取的主題，分為：jersey kun、jersey chan、jersey couple，其他不爬\n",
    "    if \"jersey kun\" in title:\n",
    "        theme = \"jersey kun\"\n",
    "    elif \"jersey chan\" in title:\n",
    "        theme = \"jersey chan\"\n",
    "    elif \"jersey couple\" in title:\n",
    "        theme = \"jersey couple\"\n",
    "    else:\n",
    "        break\n",
    "    if not os.path.exists(theme):\n",
    "        os.mkdir(theme)\n",
    "    \n",
    "    # 進入頁面，開始爬取貼圖\n",
    "    sticker_links = []\n",
    "    stickers = soup.find(\"ul\", \"mdCMN09Ul FnStickerList\").find_all(\"li\")\n",
    "    for sticker in stickers:\n",
    "        sticker_links.append(sticker.find(\"span\")[\"style\"].replace(\"background-image:url(\", \"\").replace(\";compress=true);\", \"\"))\n",
    "\n",
    "    for index, link in enumerate(sticker_links):\n",
    "        if not os.path.exists(f\"{theme}\\\\{title}\"):\n",
    "            os.mkdir(f\"{theme}\\\\{title}\")  # 建立資料夾\n",
    "        img = requests.get(link)\n",
    "        with open(f\"{theme}\\\\{title}\\\\{title}_{str(index+1)}.png\", \"wb\") as file:\n",
    "            file.write(img.content)  # 寫入圖片的二進位碼"
   ]
  },
  {
   "cell_type": "code",
   "execution_count": null,
   "id": "7575cb2d",
   "metadata": {},
   "outputs": [],
   "source": []
  }
 ],
 "metadata": {
  "kernelspec": {
   "display_name": "Python 3",
   "language": "python",
   "name": "python3"
  },
  "language_info": {
   "codemirror_mode": {
    "name": "ipython",
    "version": 3
   },
   "file_extension": ".py",
   "mimetype": "text/x-python",
   "name": "python",
   "nbconvert_exporter": "python",
   "pygments_lexer": "ipython3",
   "version": "3.8.8"
  }
 },
 "nbformat": 4,
 "nbformat_minor": 5
}
