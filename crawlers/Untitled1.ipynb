{
 "cells": [
  {
   "cell_type": "code",
   "execution_count": 1,
   "id": "4f798cd7",
   "metadata": {},
   "outputs": [],
   "source": [
    "# 環境設置\n",
    "from selenium import webdriver\n",
    "from selenium.webdriver.chrome.options import Options\n",
    "from selenium.webdriver.support.ui import Select\n",
    "from selenium.webdriver.common.keys import Keys  # 鍵盤操作\n",
    "from selenium.common.exceptions import NoSuchElementException, TimeoutException\n",
    "# ---------- 等待頁面加載完成\n",
    "from selenium.webdriver.common.desired_capabilities import DesiredCapabilities\n",
    "from selenium.webdriver.support.ui import WebDriverWait\n",
    "from selenium.webdriver.support import expected_conditions as EC\n",
    "from selenium.webdriver.common.by import By\n",
    "# ----------\n",
    "import pandas as pd\n",
    "import pandas.io.formats.excel\n",
    "import requests\n",
    "import requests.packages.urllib3\n",
    "requests.packages.urllib3.disable_warnings()\n",
    "from urllib.request import HTTPError\n",
    "from bs4 import BeautifulSoup\n",
    "import time\n",
    "\n",
    "def main():\n",
    "    # 設定 driver\n",
    "    global my_options\n",
    "    global capabilities\n",
    "    my_options = Options()\n",
    "    my_options.add_argument(\"--incognito\")  # 開啟無痕模式\n",
    "    # my_options.add_argument(\"--headless\")  # 不開啟實體瀏覽器\n",
    "    capabilities = DesiredCapabilities.CHROME\n",
    "    capabilities[\"pageLoadStrategy\"] = \"none\"\n",
    "\n",
    "if __name__ == '__main__':\n",
    "    main()\n",
    "    driver = webdriver.Chrome(options=my_options, desired_capabilities=capabilities)\n",
    "    wait = WebDriverWait(driver, 10)"
   ]
  },
  {
   "cell_type": "code",
   "execution_count": null,
   "id": "a73eabbc",
   "metadata": {},
   "outputs": [],
   "source": []
  },
  {
   "cell_type": "code",
   "execution_count": null,
   "id": "1021d518",
   "metadata": {},
   "outputs": [],
   "source": []
  },
  {
   "cell_type": "code",
   "execution_count": null,
   "id": "0b4821b5",
   "metadata": {},
   "outputs": [],
   "source": []
  },
  {
   "cell_type": "code",
   "execution_count": null,
   "id": "8e2caf50",
   "metadata": {},
   "outputs": [],
   "source": [
    "# so-so version ~\n",
    "# webpac_gov_crawler\n",
    "def click_more_btn(driver):\n",
    "    try:\n",
    "        while True:\n",
    "            more_btn = wait.until(\n",
    "                EC.visibility_of_element_located((By.CSS_SELECTOR, \"a.btnstyle.bluebg3.morewidth\"))\n",
    "            )\n",
    "            if more_btn:\n",
    "                time.sleep(2.5)  # 不得已的強制等待\n",
    "                more_btn.click()\n",
    "                # driver.find_element_by_css_selector(\"a.btnstyle.bluebg3.morewidth\").click()\n",
    "    except:\n",
    "        time.sleep(2.5)\n",
    "\n",
    "# 宜蘭縣公共圖書館、桃園市立圖書館、高雄市立圖書館、屏東縣公共圖書館、花蓮縣圖書館、澎湖縣圖書館\n",
    "\n",
    "# 進入＂搜尋結果＂頁面\n",
    "search_url = url + ISBN\n",
    "driver.get(search_url)\n",
    "\n",
    "\n",
    "# 計算＂搜尋結果的數量＂\n",
    "book_list = wait.until(\n",
    "    EC.presence_of_all_elements_located((By.CSS_SELECTOR, \"div.booklist\"))\n",
    ")\n",
    "results = len(book_list)\n",
    "print(f\"搜尋結果數量有：{results}筆\", end=\"    \")\n",
    "\n",
    "time.sleep(2)  # 頁面加載，用強制等待\n",
    "\n",
    "# 依照搜尋結果的數量分成：一筆和多筆兩種情形\n",
    "if results < 2:\n",
    "    if wait.until(EC.presence_of_element_located((By.CSS_SELECTOR, \"div.bookplace_list\"))):\n",
    "        click_more_btn(driver)\n",
    "        return pd.read_html(driver.page_source, encoding=\"utf-8\")[-1]\n",
    "else:\n",
    "    soup = BeautifulSoup(driver.page_source, \"html.parser\")  # 用以當搜尋結果多筆時，找尋不同＂詳細書目＂的網址\n",
    "\n",
    "    tgt = []\n",
    "    url = url.split(\"search?\")[0]  # 取得＂搜尋主頁＂頁面\n",
    "    for li in soup.find_all(\"div\", \"booklist\"):\n",
    "        href = url + li.find(\"h2\").find(\"a\")[\"href\"]\n",
    "\n",
    "        driver.get(href)\n",
    "        if wait.until(EC.presence_of_element_located((By.CSS_SELECTOR, \"div.bookplace_list\"))):\n",
    "            click_more_btn(driver)\n",
    "        tgt.append(pd.read_html(driver.page_source, encoding=\"utf-8\")[-1])\n",
    "    tgt pd.concat(tgt, axis=0, ignore_index=True)"
   ]
  },
  {
   "cell_type": "code",
   "execution_count": 4,
   "id": "86133cd1",
   "metadata": {},
   "outputs": [
    {
     "data": {
      "text/plain": [
       "'CDwindow-B66D2D1AD51A73811BF02A591F81B8B0'"
      ]
     },
     "execution_count": 4,
     "metadata": {},
     "output_type": "execute_result"
    }
   ],
   "source": [
    "driver.get(\"https://webpac.ilccb.gov.tw/search?searchField=ISBN&searchInput=9789869109321\")\n",
    "driver.current_window_handle"
   ]
  },
  {
   "cell_type": "code",
   "execution_count": null,
   "id": "f7762ef6",
   "metadata": {},
   "outputs": [],
   "source": []
  }
 ],
 "metadata": {
  "kernelspec": {
   "display_name": "Python 3",
   "language": "python",
   "name": "python3"
  },
  "language_info": {
   "codemirror_mode": {
    "name": "ipython",
    "version": 3
   },
   "file_extension": ".py",
   "mimetype": "text/x-python",
   "name": "python",
   "nbconvert_exporter": "python",
   "pygments_lexer": "ipython3",
   "version": "3.8.8"
  }
 },
 "nbformat": 4,
 "nbformat_minor": 5
}
