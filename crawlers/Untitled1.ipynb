{
 "cells": [
  {
   "cell_type": "code",
   "execution_count": 10,
   "id": "c699b712",
   "metadata": {},
   "outputs": [
    {
     "name": "stdout",
     "output_type": "stream",
     "text": [
      "9912\n",
      "9921\n"
     ]
    }
   ],
   "source": [
    "# PROCESS\n",
    "def maximum(num_list):\n",
    "    # hasp_map 用來記錄數字的 index 最大值\n",
    "    hash_map = {number: index for index, number in enumerate(num_list)}\n",
    "\n",
    "    for index, number in enumerate(num_list):\n",
    "        for digit in range(9, int(number), -1):\n",
    "            digit = str(digit)\n",
    "            if digit in hash_map and hash_map[digit] > index:\n",
    "                num_list[index], num_list[hash_map[digit]] = num_list[hash_map[digit]], num_list[index]\n",
    "                return \"\".join(num_list)  # 利用 return 來跳出多重迴圈\n",
    "    return \"\".join(num_list)\n",
    "\n",
    "# INPUT\n",
    "num_list = list(input())\n",
    "\n",
    "# OUTPUT\n",
    "print(maximum(num_list))"
   ]
  },
  {
   "cell_type": "code",
   "execution_count": null,
   "id": "5fd8c0a5",
   "metadata": {},
   "outputs": [],
   "source": []
  }
 ],
 "metadata": {
  "kernelspec": {
   "display_name": "Python 3",
   "language": "python",
   "name": "python3"
  },
  "language_info": {
   "codemirror_mode": {
    "name": "ipython",
    "version": 3
   },
   "file_extension": ".py",
   "mimetype": "text/x-python",
   "name": "python",
   "nbconvert_exporter": "python",
   "pygments_lexer": "ipython3",
   "version": "3.8.8"
  }
 },
 "nbformat": 4,
 "nbformat_minor": 5
}
