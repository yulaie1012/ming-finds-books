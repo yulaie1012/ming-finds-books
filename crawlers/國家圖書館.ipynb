{
 "cells": [
  {
   "cell_type": "code",
   "execution_count": 1,
   "id": "683be2af",
   "metadata": {},
   "outputs": [],
   "source": [
    "# 環境設置\n",
    "from selenium import webdriver\n",
    "from selenium.webdriver.chrome.options import Options\n",
    "from selenium.webdriver.support.ui import Select\n",
    "import pandas as pd\n",
    "import requests\n",
    "import requests.packages.urllib3\n",
    "requests.packages.urllib3.disable_warnings()\n",
    "from bs4 import BeautifulSoup\n",
    "import time\n",
    "\n",
    "ISBN = 9789869109321  # 二十一世紀資本論\n",
    "\n",
    "df_lst = []  # 裝著各種表格的 list\n",
    "\n",
    "my_options = Options()\n",
    "my_options.add_argument(\"--incognito\")  # 開啟無痕模式\n",
    "# my_options.add_argument(\"--headless\")  # 不開啟實體瀏覽器\n",
    "driver = webdriver.Chrome(options=my_options)"
   ]
  },
  {
   "cell_type": "code",
   "execution_count": null,
   "id": "cc8c8240",
   "metadata": {},
   "outputs": [],
   "source": []
  },
  {
   "cell_type": "code",
   "execution_count": 3,
   "id": "040b6f3f",
   "metadata": {},
   "outputs": [],
   "source": [
    "url = \"https://aleweb.ncl.edu.tw/F\""
   ]
  },
  {
   "cell_type": "code",
   "execution_count": null,
   "id": "116b95c1",
   "metadata": {},
   "outputs": [],
   "source": [
    "drvier.get(url)"
   ]
  },
  {
   "cell_type": "code",
   "execution_count": null,
   "id": "d1732de5",
   "metadata": {},
   "outputs": [],
   "source": [
    "select = Select(driver.find_element_by_name(\"x\"))\n",
    "select.select_by_visible_text(u\"ISBN\")\n",
    "search_input = driver.find_element_by_name(\"y\")\n",
    "search_input.send_keys(ISBN)\n",
    "# search_input.submit()  # 不知道為什麼無法 submit()？\n",
    "submit_input = driver.find_element_by_name(\"Search\")\n",
    "submit_input.click()"
   ]
  },
  {
   "cell_type": "code",
   "execution_count": null,
   "id": "8ac8ee8e",
   "metadata": {},
   "outputs": [],
   "source": []
  },
  {
   "cell_type": "code",
   "execution_count": null,
   "id": "7514b582",
   "metadata": {},
   "outputs": [],
   "source": []
  }
 ],
 "metadata": {
  "kernelspec": {
   "display_name": "Python 3",
   "language": "python",
   "name": "python3"
  },
  "language_info": {
   "codemirror_mode": {
    "name": "ipython",
    "version": 3
   },
   "file_extension": ".py",
   "mimetype": "text/x-python",
   "name": "python",
   "nbconvert_exporter": "python",
   "pygments_lexer": "ipython3",
   "version": "3.8.8"
  }
 },
 "nbformat": 4,
 "nbformat_minor": 5
}
