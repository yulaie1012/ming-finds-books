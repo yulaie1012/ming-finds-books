{
 "cells": [
  {
   "cell_type": "code",
   "execution_count": 1,
   "id": "683be2af",
   "metadata": {},
   "outputs": [],
   "source": [
    "# 環境設置\n",
    "from selenium import webdriver\n",
    "from selenium.webdriver.chrome.options import Options\n",
    "from selenium.webdriver.support.ui import Select\n",
    "import pandas as pd\n",
    "import requests\n",
    "import requests.packages.urllib3\n",
    "requests.packages.urllib3.disable_warnings()\n",
    "from bs4 import BeautifulSoup\n",
    "import time\n",
    "\n",
    "ISBN = \"9789869109321\"  # 二十一世紀資本論\n",
    "ISBN = \"1231234567\"\n",
    "ISBN = \"9789868879348\"\n",
    "ISBN = \"986729193X\"\n",
    "\n",
    "df_lst = []  # 裝著各種表格的 list\n",
    "\n",
    "my_options = Options()\n",
    "my_options.add_argument(\"--incognito\")  # 開啟無痕模式\n",
    "# my_options.add_argument(\"--headless\")  # 不開啟實體瀏覽器\n",
    "driver = webdriver.Chrome(options=my_options)"
   ]
  },
  {
   "cell_type": "code",
   "execution_count": 2,
   "id": "cc8c8240",
   "metadata": {},
   "outputs": [
    {
     "data": {
      "text/html": [
       "<div>\n",
       "<style scoped>\n",
       "    .dataframe tbody tr th:only-of-type {\n",
       "        vertical-align: middle;\n",
       "    }\n",
       "\n",
       "    .dataframe tbody tr th {\n",
       "        vertical-align: top;\n",
       "    }\n",
       "\n",
       "    .dataframe thead th {\n",
       "        text-align: right;\n",
       "    }\n",
       "</style>\n",
       "<table border=\"1\" class=\"dataframe\">\n",
       "  <thead>\n",
       "    <tr style=\"text-align: right;\">\n",
       "      <th></th>\n",
       "      <th>圖書館</th>\n",
       "      <th>館藏地</th>\n",
       "      <th>索書號</th>\n",
       "      <th>館藏狀態</th>\n",
       "      <th>連結</th>\n",
       "    </tr>\n",
       "  </thead>\n",
       "  <tbody>\n",
       "    <tr>\n",
       "      <th>0</th>\n",
       "      <td>國家圖書館</td>\n",
       "      <td>典藏書庫</td>\n",
       "      <td>550.187 8757</td>\n",
       "      <td>NaN</td>\n",
       "      <td>https://aleweb.ncl.edu.tw/F/TCDSJL2XQYF9K9YBHF...</td>\n",
       "    </tr>\n",
       "  </tbody>\n",
       "</table>\n",
       "</div>"
      ],
      "text/plain": [
       "     圖書館   館藏地           索書號  館藏狀態  \\\n",
       "0  國家圖書館  典藏書庫  550.187 8757   NaN   \n",
       "\n",
       "                                                  連結  \n",
       "0  https://aleweb.ncl.edu.tw/F/TCDSJL2XQYF9K9YBHF...  "
      ]
     },
     "execution_count": 2,
     "metadata": {},
     "output_type": "execute_result"
    }
   ],
   "source": [
    "ISBN = \"9789869109321\"\n",
    "url = \"https://aleweb.ncl.edu.tw/F\"\n",
    "def 國家圖書館(url, ISBN, driver):\n",
    "    try:\n",
    "        # 進入＂搜尋主頁＂\n",
    "        driver.get(url)\n",
    "\n",
    "        # 定位＂下拉式選單＂，選擇 ISBN\n",
    "        select = Select(driver.find_element_by_name(\"find_code\"))\n",
    "        select.select_by_value(\"ISBN\")\n",
    "        search_input = driver.find_element_by_name(\"request\")\n",
    "        search_input.send_keys(ISBN)\n",
    "        search_input.submit()\n",
    "\n",
    "        # 點擊＂書在哪裡(請點選)＂\n",
    "        driver.find_element_by_xpath('/html/body/table[10]/tbody/tr/td[1]/table/tbody/tr[1]/td[2]/a').click()\n",
    "\n",
    "        # 定位＂表格＂，爬取內容\n",
    "        tgt = pd.read_html(driver.page_source)[-2]  # 會有 NaN，要加 .fillna(\"\")？\n",
    "\n",
    "        # 清理、整理資料\n",
    "        tgt['連結'], tgt['圖書館'] = driver.current_url, '國家圖書館'\n",
    "        tgt = tgt[['圖書館', '分館/專室', '索書號', '狀態/調閱日期', '連結']]  # 篩選 column label\n",
    "        tgt.set_axis(['圖書館', '館藏地', '索書號','館藏狀態', '連結'], axis='columns', inplace=True)  # 重新命名 column label\n",
    "        return tgt\n",
    "    except:\n",
    "        print(f\"「{url}」無法爬取！\")\n",
    "國家圖書館(url, ISBN, driver)"
   ]
  },
  {
   "cell_type": "code",
   "execution_count": null,
   "id": "d37c7088",
   "metadata": {},
   "outputs": [],
   "source": []
  }
 ],
 "metadata": {
  "kernelspec": {
   "display_name": "Python 3",
   "language": "python",
   "name": "python3"
  },
  "language_info": {
   "codemirror_mode": {
    "name": "ipython",
    "version": 3
   },
   "file_extension": ".py",
   "mimetype": "text/x-python",
   "name": "python",
   "nbconvert_exporter": "python",
   "pygments_lexer": "ipython3",
   "version": "3.8.8"
  }
 },
 "nbformat": 4,
 "nbformat_minor": 5
}
