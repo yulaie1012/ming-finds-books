{
 "cells": [
  {
   "cell_type": "code",
   "execution_count": 1,
   "id": "b0921802",
   "metadata": {},
   "outputs": [],
   "source": [
    "#基隆市\n",
    "from selenium import webdriver \n",
    "from selenium.webdriver.support.ui import Select\n",
    "from selenium.webdriver.chrome.options import Options\n",
    "from selenium.common.exceptions import TimeoutException\n",
    "from bs4 import BeautifulSoup\n",
    "import pandas as pd\n",
    "import time\n",
    "# ---------- 等待頁面加載完成\n",
    "from selenium.webdriver.common.desired_capabilities import DesiredCapabilities\n",
    "from selenium.webdriver.support.ui import WebDriverWait\n",
    "from selenium.webdriver.support import expected_conditions as EC\n",
    "from selenium.webdriver.common.by import By\n",
    "# ----------"
   ]
  },
  {
   "cell_type": "code",
   "execution_count": 2,
   "id": "bb647e86",
   "metadata": {},
   "outputs": [],
   "source": [
    "ISBN = \"9789861206066\"  # 三體，會有兩筆搜尋結果\n",
    "# ISBN = \"9789869109321\"  # 二十一世紀資本論，會有一筆搜尋結果"
   ]
  },
  {
   "cell_type": "code",
   "execution_count": 3,
   "id": "e46678a5",
   "metadata": {},
   "outputs": [],
   "source": [
    "# 設定 driver\n",
    "my_options = Options()\n",
    "my_options.add_argument(\"--incognito\")  # 開啟無痕模式\n",
    "# my_options.add_argument(\"--headless\")  # 不開啟實體瀏覽器\n",
    "\n",
    "capabilities = DesiredCapabilities.CHROME\n",
    "capabilities[\"pageLoadStrategy\"] = \"none\""
   ]
  },
  {
   "cell_type": "code",
   "execution_count": 4,
   "id": "80337217",
   "metadata": {},
   "outputs": [],
   "source": [
    "# 初始化 df_DataFrame\n",
    "df_result = []\n",
    "\n",
    "# 開啟 Chrome，設定等待元素最多 10 秒\n",
    "driver = webdriver.Chrome(options=my_options, desired_capabilities=capabilities)\n",
    "wait = WebDriverWait(driver, 10)"
   ]
  },
  {
   "cell_type": "code",
   "execution_count": 5,
   "id": "e26de837",
   "metadata": {},
   "outputs": [],
   "source": [
    "ISBN = \"9789861206066\"  # 三體，會有兩筆搜尋結果\n",
    "# ISBN = \"9789573317241\"  # 哈利波特：神秘的魔法石，會有一筆搜尋結果，但多頁\n",
    "# def webpac_cfm_crawler()\n",
    "url = f\"https://webpac.klccab.gov.tw/webpac/search.cfm?m=as&k0={ISBN}&t0=i&c0=and&y10=&y20=&cat0=&dt0=&l0=&lv0=&lc0=\"\n"
   ]
  },
  {
   "cell_type": "code",
   "execution_count": null,
   "id": "3bcba156",
   "metadata": {},
   "outputs": [],
   "source": [
    "driver.get(url)\n",
    "\n",
    "time.sleep(5)  # 基隆的系統太詭異了，強制等待\n",
    "soup = BeautifulSoup(driver.page_source, \"html.parser\")\n",
    "results = len(soup.find_all(\"div\", \"list_box\"))\n",
    "if results < 2:\n",
    "    wait.until(EC.presence_of_element_located((By.CSS_SELECTOR, \"table.list.list_border\")))\n",
    "    tgt = pd.read_html(driver.page_source)[0]\n",
    "else:\n",
    "    tgt = []\n",
    "    for li in soup.find_all(\"div\", \"list_box\"):\n",
    "        url_temp = \"https://webpac.klccab.gov.tw/webpac/\" + li.find(\"a\", \"btn\")[\"href\"]\n",
    "        driver.get(url_temp)\n",
    "        wait.until(EC.presence_of_element_located((By.CSS_SELECTOR, \"table.list.list_border\")))\n",
    "        tgt.append(pd.read_html(driver.page_source, encoding=\"utf-8\")[0])\n",
    "    tgt = pd.concat(tgt, axis=0, ignore_index=True)"
   ]
  },
  {
   "cell_type": "code",
   "execution_count": null,
   "id": "0c918766",
   "metadata": {},
   "outputs": [],
   "source": []
  },
  {
   "cell_type": "code",
   "execution_count": null,
   "id": "ff1f128b",
   "metadata": {},
   "outputs": [],
   "source": []
  },
  {
   "cell_type": "code",
   "execution_count": null,
   "id": "37c9e9be",
   "metadata": {},
   "outputs": [],
   "source": []
  },
  {
   "cell_type": "code",
   "execution_count": null,
   "id": "6006bf1b",
   "metadata": {},
   "outputs": [],
   "source": []
  }
 ],
 "metadata": {
  "kernelspec": {
   "display_name": "Python 3",
   "language": "python",
   "name": "python3"
  },
  "language_info": {
   "codemirror_mode": {
    "name": "ipython",
    "version": 3
   },
   "file_extension": ".py",
   "mimetype": "text/x-python",
   "name": "python",
   "nbconvert_exporter": "python",
   "pygments_lexer": "ipython3",
   "version": "3.8.8"
  }
 },
 "nbformat": 4,
 "nbformat_minor": 5
}
