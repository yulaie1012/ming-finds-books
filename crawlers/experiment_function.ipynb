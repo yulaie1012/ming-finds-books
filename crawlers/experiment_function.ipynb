{
 "cells": [
  {
   "cell_type": "code",
   "execution_count": 1,
   "id": "f09c35ed",
   "metadata": {},
   "outputs": [],
   "source": [
    "# 環境設置\n",
    "from selenium import webdriver\n",
    "from selenium.webdriver.chrome.options import Options\n",
    "from selenium.webdriver.support.ui import Select\n",
    "from selenium.webdriver.common.keys import Keys  # 鍵盤操作\n",
    "from selenium.common.exceptions import NoSuchElementException, TimeoutException\n",
    "# ---------- 等待頁面加載完成\n",
    "from selenium.webdriver.common.desired_capabilities import DesiredCapabilities\n",
    "from selenium.webdriver.support.ui import WebDriverWait\n",
    "from selenium.webdriver.support import expected_conditions as EC\n",
    "from selenium.webdriver.common.by import By\n",
    "# ----------\n",
    "import pandas as pd\n",
    "import pandas.io.formats.excel\n",
    "import requests\n",
    "import requests.packages.urllib3\n",
    "requests.packages.urllib3.disable_warnings()\n",
    "from urllib.request import HTTPError\n",
    "from bs4 import BeautifulSoup\n",
    "import time"
   ]
  },
  {
   "cell_type": "code",
   "execution_count": 2,
   "id": "9187dc7a",
   "metadata": {},
   "outputs": [],
   "source": [
    "# webpac_gov_crawler\n",
    "def click_more_btn(driver):\n",
    "    try:\n",
    "        while True:\n",
    "            time.sleep(2)  # 不得已的強制等待\n",
    "            driver.find_element_by_css_selector(\"a.btnstyle.bluebg3.morewidth\").click()\n",
    "    except:\n",
    "        pass \n",
    "\n",
    "# 宜蘭縣公共圖書館、桃園市立圖書館\n",
    "def webpac_gov_crawler(org, url, ISBN, driver, wait):\n",
    "    try:\n",
    "        # 進入《館藏系統》頁面\n",
    "        driver.get(url)\n",
    "\n",
    "        # 等待＂進階查詢的按鈕＂直到出現：click\n",
    "        wait.until(EC.element_to_be_clickable((By.XPATH, '//*[@id=\"center\"]/div/section[1]/div/div/div/form/div[3]/div[1]/a'))).click()\n",
    "\n",
    "        # 等待＂下拉式選單＂直到出現：選擇以＂ISBN＂方式搜尋，並再搜尋欄位輸入＂ISBN＂後再 submit\n",
    "        select = Select(wait.until(EC.presence_of_element_located((By.NAME, \"searchField\"))))\n",
    "        time.sleep(0.2)  # 瀏覽器反應不過來 QQ\n",
    "        select.select_by_visible_text(u\"ISBN\")\n",
    "        search_input = driver.find_element_by_name(\"searchInput\")\n",
    "        search_input.send_keys(ISBN)\n",
    "        search_input.submit()  # 有些網站無法 submit，必須使用 send_keys(Keys.ENTER)\n",
    "\n",
    "        # 計算搜尋結果的數量（results）\n",
    "        # 以＂宜蘭縣公共圖書館＂為例，當搜尋結果只有一筆時，網頁會迅速地自動跳轉至＂詳細書目＂\n",
    "        results = len(wait.until(EC.presence_of_all_elements_located((By.CSS_SELECTOR, \"div.booklist\"))))\n",
    "        soup = BeautifulSoup(driver.page_source, \"html.parser\")  # 用以當搜尋結果多筆時，找尋不同＂詳細書目＂的網址\n",
    "\n",
    "        # 依照搜尋結果的數量分成：一筆和多筆兩種情形\n",
    "#         time.sleep(2)\n",
    "        if results < 2:\n",
    "            click_more_btn(driver)\n",
    "            return pd.read_html(driver.page_source, encoding=\"utf-8\")[0]\n",
    "        else:\n",
    "            dfs_temp = []\n",
    "            for li in soup.find_all(\"div\", \"booklist\"):\n",
    "                href = url + li.find(\"h2\").find(\"a\")[\"href\"]\n",
    "                \n",
    "                driver.get(href)\n",
    "                click_more_btn(driver)\n",
    "                dfs_temp.append(pd.read_html(driver.page_source, encoding=\"utf-8\")[0])\n",
    "            return pd.concat(tgt, axis=0, ignore_index=True)\n",
    "    except:\n",
    "        print(f\"「{url}」無法爬取！\")"
   ]
  },
  {
   "cell_type": "code",
   "execution_count": 3,
   "id": "f7a438ef",
   "metadata": {},
   "outputs": [],
   "source": [
    "# 搜尋目標\n",
    "# ISBN = \"9789869109321\"  # 爬取＂宜蘭縣公共圖書館＂時，會有兩筆搜索結果\n",
    "# title = \"二十一世紀資本論\"\n",
    "# ISBN = \"9789573317241\"  # \"哈利波特：神秘的魔法石\"\n",
    "# title = \"哈利波特：神秘的魔法石\"\n",
    "\n",
    "# 設定 driver\n",
    "my_options = Options()\n",
    "my_options.add_argument(\"--incognito\")  # 開啟無痕模式\n",
    "# my_options.add_argument(\"--headless\")  # 不開啟實體瀏覽器\n",
    "\n",
    "capabilities = DesiredCapabilities.CHROME\n",
    "capabilities[\"pageLoadStrategy\"] = \"none\"\n",
    "\n",
    "########## 初始化 df_DataFrame\n",
    "ISBN = \"9789573317241\"\n",
    "df_result = []\n",
    "\n",
    "# 開啟 Chrome，設定等待元素最多 10 秒\n",
    "driver = webdriver.Chrome(options=my_options, desired_capabilities=capabilities)\n",
    "wait = WebDriverWait(driver, 10)\n",
    "\n",
    "########## 初始化"
   ]
  },
  {
   "cell_type": "code",
   "execution_count": 4,
   "id": "0b7042aa",
   "metadata": {},
   "outputs": [],
   "source": [
    "# 搜尋目標\n",
    "ISBN = \"9789869109321\"  # 爬取＂宜蘭縣公共圖書館＂時，會有兩筆搜索結果\n",
    "# title = \"二十一世紀資本論\"\n",
    "# ISBN = \"9789573317241\"  # \"哈利波特：神秘的魔法石\"\n",
    "# title = \"哈利波特：神秘的魔法石\"\n",
    "\n",
    "# 設定 driver\n",
    "my_options = Options()\n",
    "my_options.add_argument(\"--incognito\")  # 開啟無痕模式\n",
    "# my_options.add_argument(\"--headless\")  # 不開啟實體瀏覽器\n",
    "\n",
    "capabilities = DesiredCapabilities.CHROME\n",
    "capabilities[\"pageLoadStrategy\"] = \"none\"\n",
    "\n",
    "########## 初始化 df_DataFrame\n",
    "ISBN = \"9789573317241\"\n",
    "df_result = []\n",
    "\n",
    "# 開啟 Chrome，設定等待元素最多 10 秒\n",
    "driver = webdriver.Chrome(options=my_options, desired_capabilities=capabilities)\n",
    "wait = WebDriverWait(driver, 10)\n",
    "\n",
    "########## 初始化\n",
    "\n"
   ]
  },
  {
   "cell_type": "code",
   "execution_count": 5,
   "id": "4b2f3358",
   "metadata": {},
   "outputs": [
    {
     "name": "stderr",
     "output_type": "stream",
     "text": [
      "C:\\ProgramData\\Anaconda3\\lib\\site-packages\\bs4\\__init__.py:221: UserWarning: You provided Unicode markup but also provided a value for from_encoding. Your from_encoding will be ignored.\n",
      "  warnings.warn(\"You provided Unicode markup but also provided a value for from_encoding. Your from_encoding will be ignored.\")\n"
     ]
    },
    {
     "name": "stdout",
     "output_type": "stream",
     "text": [
      "「https://webpac.ilccb.gov.tw/」無法爬取！\n"
     ]
    },
    {
     "ename": "AttributeError",
     "evalue": "'NoneType' object has no attribute 'shape'",
     "output_type": "error",
     "traceback": [
      "\u001b[1;31m---------------------------------------------------------------------------\u001b[0m",
      "\u001b[1;31mAttributeError\u001b[0m                            Traceback (most recent call last)",
      "\u001b[1;32m<ipython-input-5-5f7154bfb9dd>\u001b[0m in \u001b[0;36m<module>\u001b[1;34m\u001b[0m\n\u001b[0;32m      1\u001b[0m \u001b[1;32mwhile\u001b[0m \u001b[1;32mTrue\u001b[0m\u001b[1;33m:\u001b[0m\u001b[1;33m\u001b[0m\u001b[1;33m\u001b[0m\u001b[0m\n\u001b[0;32m      2\u001b[0m     print(\n\u001b[1;32m----> 3\u001b[1;33m         \u001b[0mwebpac_gov_crawler\u001b[0m\u001b[1;33m(\u001b[0m\u001b[1;34m\"宜蘭縣公共圖書館\"\u001b[0m\u001b[1;33m,\u001b[0m \u001b[1;34m\"https://webpac.ilccb.gov.tw/\"\u001b[0m\u001b[1;33m,\u001b[0m \u001b[0mISBN\u001b[0m\u001b[1;33m,\u001b[0m  \u001b[0mdriver\u001b[0m\u001b[1;33m,\u001b[0m \u001b[0mwait\u001b[0m\u001b[1;33m)\u001b[0m\u001b[1;33m.\u001b[0m\u001b[0mshape\u001b[0m\u001b[1;33m[\u001b[0m\u001b[1;36m0\u001b[0m\u001b[1;33m]\u001b[0m\u001b[1;33m\u001b[0m\u001b[1;33m\u001b[0m\u001b[0m\n\u001b[0m\u001b[0;32m      4\u001b[0m     )\n",
      "\u001b[1;31mAttributeError\u001b[0m: 'NoneType' object has no attribute 'shape'"
     ]
    }
   ],
   "source": [
    "while True:\n",
    "    print(\n",
    "        webpac_gov_crawler(\"宜蘭縣公共圖書館\", \"https://webpac.ilccb.gov.tw/\", ISBN,  driver, wait).shape[0]\n",
    "    )"
   ]
  },
  {
   "cell_type": "code",
   "execution_count": null,
   "id": "bf1f4356",
   "metadata": {},
   "outputs": [],
   "source": []
  }
 ],
 "metadata": {
  "kernelspec": {
   "display_name": "Python 3",
   "language": "python",
   "name": "python3"
  },
  "language_info": {
   "codemirror_mode": {
    "name": "ipython",
    "version": 3
   },
   "file_extension": ".py",
   "mimetype": "text/x-python",
   "name": "python",
   "nbconvert_exporter": "python",
   "pygments_lexer": "ipython3",
   "version": "3.8.8"
  }
 },
 "nbformat": 4,
 "nbformat_minor": 5
}
