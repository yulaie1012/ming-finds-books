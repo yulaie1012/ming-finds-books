{
 "cells": [
  {
   "cell_type": "code",
   "execution_count": 1,
   "id": "bdcaf9d3",
   "metadata": {},
   "outputs": [],
   "source": [
    "# 環境設置\n",
    "from selenium import webdriver\n",
    "from selenium.webdriver.chrome.options import Options\n",
    "from selenium.webdriver.support.ui import Select\n",
    "from selenium.webdriver.common.keys import Keys  # 鍵盤操作\n",
    "from selenium.common.exceptions import NoSuchElementException\n",
    "# ---------- 等待頁面加載完成\n",
    "from selenium.webdriver.common.desired_capabilities import DesiredCapabilities\n",
    "from selenium.webdriver.support.ui import WebDriverWait\n",
    "from selenium.webdriver.support import expected_conditions as EC\n",
    "from selenium.webdriver.common.by import By\n",
    "# ----------\n",
    "import pandas as pd\n",
    "import pandas.io.formats.excel\n",
    "import requests\n",
    "import requests.packages.urllib3\n",
    "requests.packages.urllib3.disable_warnings()\n",
    "from urllib.request import HTTPError\n",
    "from bs4 import BeautifulSoup\n",
    "import time\n",
    "\n",
    "def click_more_btn(driver):\n",
    "    while True:\n",
    "        try:\n",
    "            WebDriverWait(driver, 1.5).until(EC.visibility_of_element_located((By.CSS_SELECTOR, \"a.btnstyle.bluebg3.morewidth\"))).click()\n",
    "        except:\n",
    "            break\n",
    "    tgt = pd.read_html(driver.page_source, encoding=\"utf-8\")[0]\n",
    "    return tgt\n",
    "\n",
    "# 搜尋目標\n",
    "# ISBN = \"9789869109321\"  # 爬取＂宜蘭縣公共圖書館＂時，會有兩筆搜索結果\n",
    "# title = \"二十一世紀資本論\"\n",
    "ISBN = \"9789573317241\"  # \"哈利波特：神秘的魔法石\"\n",
    "title = \"哈利波特：神秘的魔法石\"\n",
    "\n",
    "# 設定 driver\n",
    "my_options = Options()\n",
    "my_options.add_argument(\"--incognito\")  # 開啟無痕模式\n",
    "# my_options.add_argument(\"--headless\")  # 不開啟實體瀏覽器\n",
    "\n",
    "capabilities = DesiredCapabilities.CHROME\n",
    "capabilities[\"pageLoadStrategy\"] = \"none\"\n",
    "\n",
    "# 初始化 df_result\n",
    "df_result = []\n",
    "\n",
    "# 開啟 Chrome，設定等待元素最多 10 秒\n",
    "driver = webdriver.Chrome(options=my_options, desired_capabilities=capabilities)\n",
    "wait = WebDriverWait(driver, 10)"
   ]
  },
  {
   "cell_type": "code",
   "execution_count": 2,
   "id": "5ea0dd5d",
   "metadata": {
    "scrolled": false
   },
   "outputs": [],
   "source": [
    "url = \"https://webpac.ilccb.gov.tw/\"\n",
    "def webpac_gov_crawler(org, url, ISBN, driver, wait):\n",
    "    try:\n",
    "        # 進入《館藏系統》頁面\n",
    "        driver.get(url)\n",
    "\n",
    "        # 等待＂進階查詢的按鈕＂直到出現：click\n",
    "        wait.until(EC.element_to_be_clickable((By.XPATH, '//*[@id=\"center\"]/div/section[1]/div/div/div/form/div[3]/div[1]/a'))).click()\n",
    "\n",
    "        # 等待＂下拉式選單＂直到出現：選擇以＂ISBN＂方式搜尋，並再搜尋欄位輸入＂ISBN＂後再 submit\n",
    "        select = Select(wait.until(EC.presence_of_element_located((By.NAME, \"searchField\"))))\n",
    "        time.sleep(0.2)  # 瀏覽器反應不過來 QQ\n",
    "        select.select_by_visible_text(u\"ISBN\")\n",
    "        search_input = driver.find_element_by_name(\"searchInput\")\n",
    "        search_input.send_keys(ISBN)\n",
    "        search_input.submit()  # 有些網站無法 submit，必須使用 send_keys(Keys.ENTER)\n",
    "\n",
    "        # 計算搜尋結果的數量（results）\n",
    "        # 以＂宜蘭縣公共圖書館＂為例，當搜尋結果只有一筆時，網頁會迅速地自動跳轉至＂詳細書目＂\n",
    "        results = len(wait.until(EC.presence_of_all_elements_located((By.CSS_SELECTOR, \"div.booklist\"))))\n",
    "        soup = BeautifulSoup(driver.page_source, \"html.parser\")  # 用以當搜尋結果多筆時，找尋不同＂詳細書目＂的網址\n",
    "\n",
    "        # 依照搜尋結果的數量分成：一筆和多筆兩種情形\n",
    "        if results < 2:\n",
    "            time.sleep(2)  # 強制等待，用 wait.until() 的方式一直出現錯誤，待解決\n",
    "            tgt = click_more_btn(driver)\n",
    "        else:\n",
    "            tgt = []\n",
    "            for li in soup.find_all(\"div\", \"booklist\"):\n",
    "                href = url + li.find(\"h2\").find(\"a\")[\"href\"]\n",
    "                driver.get(href)\n",
    "\n",
    "                time.sleep(2)  # # 強制等待，用 wait.until() 的方式一直出現錯誤，待解決\n",
    "                tgt.append(click_more_btn(driver))\n",
    "            tgt = pd.concat(tgt, axis=0, ignore_index=True)\n",
    "        return tgt\n",
    "    except:\n",
    "        print(f\"「{url}」無法爬取！\")"
   ]
  },
  {
   "cell_type": "code",
   "execution_count": null,
   "id": "92d11b1e",
   "metadata": {},
   "outputs": [],
   "source": []
  },
  {
   "cell_type": "code",
   "execution_count": null,
   "id": "34a51dae",
   "metadata": {},
   "outputs": [],
   "source": []
  },
  {
   "cell_type": "code",
   "execution_count": null,
   "id": "1d7b8da8",
   "metadata": {},
   "outputs": [],
   "source": []
  },
  {
   "cell_type": "code",
   "execution_count": null,
   "id": "8a741fff",
   "metadata": {},
   "outputs": [],
   "source": []
  },
  {
   "cell_type": "code",
   "execution_count": null,
   "id": "45620029",
   "metadata": {},
   "outputs": [],
   "source": []
  },
  {
   "cell_type": "code",
   "execution_count": null,
   "id": "e60d677b",
   "metadata": {},
   "outputs": [],
   "source": []
  },
  {
   "cell_type": "code",
   "execution_count": null,
   "id": "5f07091a",
   "metadata": {},
   "outputs": [],
   "source": []
  }
 ],
 "metadata": {
  "kernelspec": {
   "display_name": "Python 3",
   "language": "python",
   "name": "python3"
  },
  "language_info": {
   "codemirror_mode": {
    "name": "ipython",
    "version": 3
   },
   "file_extension": ".py",
   "mimetype": "text/x-python",
   "name": "python",
   "nbconvert_exporter": "python",
   "pygments_lexer": "ipython3",
   "version": "3.8.8"
  }
 },
 "nbformat": 4,
 "nbformat_minor": 5
}
