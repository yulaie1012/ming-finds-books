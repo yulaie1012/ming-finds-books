{
 "cells": [
  {
   "cell_type": "code",
   "execution_count": 1,
   "id": "f68755e4",
   "metadata": {
    "scrolled": true
   },
   "outputs": [
    {
     "name": "stdout",
     "output_type": "stream",
     "text": [
      "importing Jupyter notebook from crawlers.ipynb\n",
      "importing Jupyter notebook from all_in_one.ipynb\n"
     ]
    }
   ],
   "source": [
    "from selenium import webdriver\n",
    "from selenium.webdriver.chrome.options import Options\n",
    "from selenium.webdriver.common.desired_capabilities import DesiredCapabilities\n",
    "from selenium.webdriver.support.ui import WebDriverWait\n",
    "from selenium.webdriver.support import expected_conditions as EC\n",
    "from selenium.webdriver.common.by import By\n",
    "import pandas as pd\n",
    "# 載入自定義函式\n",
    "import import_ipynb\n",
    "import crawlers\n",
    "import all_in_one\n",
    "\n",
    "# ISBN = \"9789869109321\"  # \"二十一世紀資本論\"\n",
    "ISBN = \"9789573317241\"  # \"哈利波特：神秘的魔法石\"\n",
    "\n",
    "# 設定 driver\n",
    "my_options = Options()\n",
    "my_options.add_argument(\"--incognito\")  # 開啟無痕模式\n",
    "# my_options.add_argument(\"--headless\")  # 不開啟實體瀏覽器\n",
    "capabilities = DesiredCapabilities.CHROME\n",
    "capabilities[\"pageLoadStrategy\"] = \"none\""
   ]
  },
  {
   "cell_type": "code",
   "execution_count": null,
   "id": "6982d76b",
   "metadata": {},
   "outputs": [],
   "source": [
    "location = \"輸入地點\"\n",
    "if \"宜蘭\" == \"location\":\n",
    "    Yilan()\n",
    "elif \"基隆\" == \"location\":\n",
    "    Keelung()\n",
    "elif \"臺北\" == \"location\":\n",
    "    Taipei()\n",
    "elif \"新北\" == \"location\":\n",
    "    New_Taipei()\n",
    "elif \"基隆\" == \"location\":\n",
    "    Keelung()\n",
    "elif \"桃園\" == \"location\":\n",
    "    Taoyuan()\n",
    "elif \"新竹\" == \"location\":\n",
    "    Hsinchu()\n",
    "elif \"苗栗\" == \"location\":\n",
    "    Miaoli()\n",
    "elif \"臺中\" == \"location\":\n",
    "    Taichung()\n",
    "elif \"南投\" == \"location\":\n",
    "    Nantou()\n",
    "elif \"彰化\" == \"location\":\n",
    "    Changhua()\n",
    "elif \"雲林\" == \"location\":\n",
    "    Yunlin()\n",
    "elif \"嘉義\" == \"location\":\n",
    "    Chiayi()\n",
    "elif \"臺南\" == \"location\":\n",
    "    Tainan()\n",
    "elif \"高雄\" == \"location\":\n",
    "    Kaohsiung()\n",
    "elif \"屏東\" == \"location\":\n",
    "    Pingtung()\n",
    "elif \"臺東\" == \"location\":\n",
    "    Taitung()\n",
    "elif \"花蓮\" == \"location\":\n",
    "    Hualien()"
   ]
  },
  {
   "cell_type": "code",
   "execution_count": null,
   "id": "a210d1c4",
   "metadata": {},
   "outputs": [],
   "source": []
  },
  {
   "cell_type": "code",
   "execution_count": null,
   "id": "6f78584b",
   "metadata": {},
   "outputs": [],
   "source": [
    "def Yilan(ISBN):\n",
    "    output = []\n",
    "    \n",
    "    driver = webdriver.Chrome(options=my_options, desired_capabilities=capabilities)\n",
    "    wait = WebDriverWait(driver, 10)\n",
    "    \n",
    "    output.append(\n",
    "        crawlers.webpac_gov_crawler(\n",
    "            \"宜蘭縣公共圖書館\", \"https://webpac.ilccb.gov.tw/search?searchField=ISBN&searchInput=\",\n",
    "            ISBN,  driver, wait\n",
    "        )\n",
    "    )\n",
    "\n",
    "    output.append(\n",
    "        crawlers.webpac_jsp_crawler(\n",
    "            \"國立宜蘭大學\", \"https://lib.niu.edu.tw/webpacIndex.jsp\",\n",
    "            ISBN,  driver, wait\n",
    "        )\n",
    "    )\n",
    "\n",
    "    output.append(\n",
    "        crawlers.webpac_jsp_crawler(\n",
    "            \"佛光大學\", \"http://libils.fgu.edu.tw/webpacIndex.jsp\",\n",
    "            ISBN,  driver, wait\n",
    "        )\n",
    "    )\n",
    "    \n",
    "    driver.quit()\n",
    "    return all_in_one.organize_columns(pd.concat(output, axis=0, ignore_index=True).fillna(\"\"))"
   ]
  },
  {
   "cell_type": "code",
   "execution_count": null,
   "id": "37d49cab",
   "metadata": {},
   "outputs": [],
   "source": [
    "def Keelung(ISBN):\n",
    "    output = []\n",
    "    \n",
    "    driver = webdriver.Chrome(options=my_options, desired_capabilities=capabilities)\n",
    "    wait = WebDriverWait(driver, 10)\n",
    "    \n",
    "    output.append(\n",
    "        crawlers.klccab_crawler(\n",
    "            \"基隆市公共圖書館\", ISBN,  driver, wait\n",
    "        )\n",
    "    )\n",
    "    \n",
    "    output.append(\n",
    "        crawlers.easy_crawler(\n",
    "            2, \"國立臺灣海洋大學\", \"https://ocean.ntou.edu.tw/search*cht/i?SEARCH=\", ISBN\n",
    "        )\n",
    "    )\n",
    "    \n",
    "    driver.quit()\n",
    "    return all_in_one.organize_columns(pd.concat(output, axis=0, ignore_index=True).fillna(\"\"))"
   ]
  },
  {
   "cell_type": "code",
   "execution_count": null,
   "id": "3931ec20",
   "metadata": {},
   "outputs": [],
   "source": []
  },
  {
   "cell_type": "code",
   "execution_count": 2,
   "id": "2962c3dc",
   "metadata": {},
   "outputs": [],
   "source": [
    "# def Taipei():\n",
    "\n",
    "########## 臺北 ##########\n",
    "########## 臺北 ##########\n",
    "########## 臺北 ##########\n",
    "# ISBN = \"9789573317241\"  # title = \"哈利波特(1)：神秘的魔法石\"\n",
    "\n",
    "########## 初始化 df_DataFrame\n",
    "ISBN = \"9789573317241\"\n",
    "df_result = []\n",
    "\n",
    "# 開啟 Chrome，設定等待元素最多 10 秒\n",
    "driver = webdriver.Chrome(options=my_options, desired_capabilities=capabilities)\n",
    "wait = WebDriverWait(driver, 10)\n",
    "\n",
    "########## 初始化\n",
    "\n",
    "df_result.append(\n",
    "    crawlers.tpml_crawler(\n",
    "        \"臺北市市立圖書館\", \"https://book.tpml.edu.tw/webpac/webpacIndex.jsp\", ISBN, driver, wait\n",
    "    )\n",
    ")\n",
    "\n",
    "df_result.append(\n",
    "    crawlers.easy_crawler(\n",
    "        4, \"國立臺灣師範大學\", \"https://opac.lib.ntnu.edu.tw/search*cht/i?SEARCH=\", ISBN\n",
    "    )\n",
    ")\n",
    "\n",
    "df_result.append(\n",
    "    crawlers.easy_crawler(\n",
    "        4, \"中央研究院\", \"https://las.sinica.edu.tw/search*cht/a?searchtype=i&searcharg=\", ISBN\n",
    "    )\n",
    ")\n",
    "\n",
    "df_result.append(\n",
    "    crawlers.easy_crawler(\n",
    "        4, \"國立陽明大學\", \"https://library.ym.edu.tw/search*cht/a?searchtype=i&searcharg=\", ISBN\n",
    "    )\n",
    ")\n",
    "\n",
    "df_result.append(\n",
    "    crawlers.easy_crawler(\n",
    "        6, \"國立臺灣科技大學\", \"https://sierra.lib.ntust.edu.tw/search*cht/i?SEARCH=\", ISBN\n",
    "    )\n",
    ")\n",
    "\n",
    "df_result.append(\n",
    "    crawlers.easy_crawler(\n",
    "        7, \"中國文化大學\", \"https://webpac.pccu.edu.tw/search*cht/?searchtype=i&searcharg=\", ISBN\n",
    "    )\n",
    ")\n",
    "\n",
    "df_result.append(\n",
    "    crawlers.easy_crawler(\n",
    "        7, \"輔仁大學\", \"https://library.lib.fju.edu.tw/search~S0*cht/?searchtype=i&searcharg=\", ISBN\n",
    "    )\n",
    ")"
   ]
  },
  {
   "cell_type": "code",
   "execution_count": 6,
   "id": "e05e18e3",
   "metadata": {},
   "outputs": [
    {
     "data": {
      "text/html": [
       "<div>\n",
       "<style scoped>\n",
       "    .dataframe tbody tr th:only-of-type {\n",
       "        vertical-align: middle;\n",
       "    }\n",
       "\n",
       "    .dataframe tbody tr th {\n",
       "        vertical-align: top;\n",
       "    }\n",
       "\n",
       "    .dataframe thead th {\n",
       "        text-align: right;\n",
       "    }\n",
       "</style>\n",
       "<table border=\"1\" class=\"dataframe\">\n",
       "  <thead>\n",
       "    <tr style=\"text-align: right;\">\n",
       "      <th></th>\n",
       "      <th>館藏地</th>\n",
       "      <th>索書號</th>\n",
       "      <th>處理狀態</th>\n",
       "      <th>OPAC 訊息</th>\n",
       "      <th>條碼</th>\n",
       "    </tr>\n",
       "  </thead>\n",
       "  <tbody>\n",
       "    <tr>\n",
       "      <th>0</th>\n",
       "      <td>人文社會聯圖</td>\n",
       "      <td>873.57 6014 v.1</td>\n",
       "      <td>到期 09-15-21</td>\n",
       "      <td>NaN</td>\n",
       "      <td>30610010074516</td>\n",
       "    </tr>\n",
       "    <tr>\n",
       "      <th>1</th>\n",
       "      <td>文哲所</td>\n",
       "      <td>873.57 R884-1/ 8666</td>\n",
       "      <td>在架上</td>\n",
       "      <td>NaN</td>\n",
       "      <td>30580001595946</td>\n",
       "    </tr>\n",
       "  </tbody>\n",
       "</table>\n",
       "</div>"
      ],
      "text/plain": [
       "      館藏地                  索書號         處理狀態  OPAC 訊息              條碼\n",
       "0  人文社會聯圖      873.57 6014 v.1  到期 09-15-21      NaN  30610010074516\n",
       "1     文哲所  873.57 R884-1/ 8666          在架上      NaN  30580001595946"
      ]
     },
     "execution_count": 6,
     "metadata": {},
     "output_type": "execute_result"
    }
   ],
   "source": [
    "df_result[2]"
   ]
  },
  {
   "cell_type": "code",
   "execution_count": null,
   "id": "d70d8228",
   "metadata": {},
   "outputs": [],
   "source": []
  },
  {
   "cell_type": "code",
   "execution_count": null,
   "id": "3c4190bf",
   "metadata": {
    "scrolled": true
   },
   "outputs": [],
   "source": [
    "########## 臺北 ##########\n",
    "########## 臺北 ##########\n",
    "########## 臺北 ##########\n",
    "\n",
    "# 最後輸出\n",
    "df_Taipei = pd.concat(df_result, axis=0, ignore_index=True).fillna(\"\")\n",
    "all_in_one.organize_columns(df_Taipei)\n",
    "driver.quit()"
   ]
  },
  {
   "cell_type": "code",
   "execution_count": null,
   "id": "8ef6d27f",
   "metadata": {},
   "outputs": [],
   "source": []
  },
  {
   "cell_type": "code",
   "execution_count": null,
   "id": "9713621e",
   "metadata": {},
   "outputs": [],
   "source": [
    "########## 新北 ##########\n",
    "########## 新北 ##########\n",
    "########## 新北 ##########\n"
   ]
  },
  {
   "cell_type": "code",
   "execution_count": null,
   "id": "ad6ce758",
   "metadata": {},
   "outputs": [],
   "source": []
  },
  {
   "cell_type": "code",
   "execution_count": null,
   "id": "4f9ab368",
   "metadata": {},
   "outputs": [],
   "source": []
  },
  {
   "cell_type": "code",
   "execution_count": null,
   "id": "c8d8f3c5",
   "metadata": {},
   "outputs": [],
   "source": [
    "########## 新北 ##########\n",
    "########## 新北 ##########\n",
    "########## 新北 ##########\n",
    "\n",
    "# 最後輸出\n",
    "df_New_Taipei = pd.concat(df_result, axis=0, ignore_index=True).fillna(\"\")\n",
    "all_in_one.organize_columns(df_New_Taipei)\n",
    "driver.quit()\n",
    "df_New_Taipei"
   ]
  },
  {
   "cell_type": "code",
   "execution_count": null,
   "id": "fc4edb12",
   "metadata": {},
   "outputs": [],
   "source": []
  },
  {
   "cell_type": "code",
   "execution_count": null,
   "id": "2e9cb637",
   "metadata": {},
   "outputs": [],
   "source": []
  },
  {
   "cell_type": "code",
   "execution_count": null,
   "id": "758c5324",
   "metadata": {},
   "outputs": [],
   "source": []
  },
  {
   "cell_type": "code",
   "execution_count": null,
   "id": "2576096d",
   "metadata": {},
   "outputs": [],
   "source": []
  },
  {
   "cell_type": "code",
   "execution_count": null,
   "id": "89117585",
   "metadata": {},
   "outputs": [],
   "source": []
  },
  {
   "cell_type": "code",
   "execution_count": null,
   "id": "0f125cdd",
   "metadata": {},
   "outputs": [],
   "source": []
  },
  {
   "cell_type": "code",
   "execution_count": null,
   "id": "d61bbf11",
   "metadata": {},
   "outputs": [],
   "source": []
  },
  {
   "cell_type": "code",
   "execution_count": null,
   "id": "69ae6f98",
   "metadata": {},
   "outputs": [],
   "source": []
  },
  {
   "cell_type": "code",
   "execution_count": null,
   "id": "33f95f0f",
   "metadata": {},
   "outputs": [],
   "source": []
  },
  {
   "cell_type": "code",
   "execution_count": null,
   "id": "e9edade5",
   "metadata": {},
   "outputs": [],
   "source": []
  },
  {
   "cell_type": "code",
   "execution_count": null,
   "id": "1c2a9007",
   "metadata": {},
   "outputs": [],
   "source": []
  }
 ],
 "metadata": {
  "kernelspec": {
   "display_name": "Python 3",
   "language": "python",
   "name": "python3"
  },
  "language_info": {
   "codemirror_mode": {
    "name": "ipython",
    "version": 3
   },
   "file_extension": ".py",
   "mimetype": "text/x-python",
   "name": "python",
   "nbconvert_exporter": "python",
   "pygments_lexer": "ipython3",
   "version": "3.8.8"
  }
 },
 "nbformat": 4,
 "nbformat_minor": 5
}
