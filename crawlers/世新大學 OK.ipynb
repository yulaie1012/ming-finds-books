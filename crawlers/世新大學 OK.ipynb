{
 "cells": [
  {
   "cell_type": "code",
   "execution_count": 1,
   "id": "8acb08fc",
   "metadata": {
    "scrolled": true
   },
   "outputs": [],
   "source": [
    "from selenium import webdriver\n",
    "from selenium.webdriver.chrome.options import Options\n",
    "from selenium.webdriver.support.ui import Select\n",
    "import pandas as pd\n",
    "\n",
    "ISBN = 9789869109321\n",
    "\n",
    "my_options = Options()\n",
    "my_options.add_argument(\"--headless\")\n",
    "driver = webdriver.Chrome(options=my_options)\n",
    "driver.get(\"https://koha.shu.edu.tw/\")\n",
    "\n",
    "select = Select(driver.find_element_by_name(\"idx\"))\n",
    "select.select_by_visible_text(u\"ISBN\")\n",
    "\n",
    "search_input = driver.find_element_by_name(\"q\")\n",
    "search_input.send_keys(ISBN)\n",
    "search_input.submit()"
   ]
  },
  {
   "cell_type": "code",
   "execution_count": 2,
   "id": "5b20f3ff",
   "metadata": {},
   "outputs": [
    {
     "data": {
      "text/html": [
       "<div>\n",
       "<style scoped>\n",
       "    .dataframe tbody tr th:only-of-type {\n",
       "        vertical-align: middle;\n",
       "    }\n",
       "\n",
       "    .dataframe tbody tr th {\n",
       "        vertical-align: top;\n",
       "    }\n",
       "\n",
       "    .dataframe thead th {\n",
       "        text-align: right;\n",
       "    }\n",
       "</style>\n",
       "<table border=\"1\" class=\"dataframe\">\n",
       "  <thead>\n",
       "    <tr style=\"text-align: right;\">\n",
       "      <th></th>\n",
       "      <th>現行位置</th>\n",
       "      <th>館藏</th>\n",
       "      <th>索書號</th>\n",
       "      <th>狀態</th>\n",
       "      <th>到期日</th>\n",
       "      <th>條碼</th>\n",
       "      <th>館藏預約</th>\n",
       "    </tr>\n",
       "  </thead>\n",
       "  <tbody>\n",
       "    <tr>\n",
       "      <th>0</th>\n",
       "      <td>世新大學圖書館  中文圖書區</td>\n",
       "      <td>圖書</td>\n",
       "      <td>550.187 8757  (瀏覽書架)</td>\n",
       "      <td>可借</td>\n",
       "      <td>NaN</td>\n",
       "      <td>C435297</td>\n",
       "      <td>NaN</td>\n",
       "    </tr>\n",
       "  </tbody>\n",
       "</table>\n",
       "</div>"
      ],
      "text/plain": [
       "             現行位置  館藏                   索書號  狀態  到期日       條碼  館藏預約\n",
       "0  世新大學圖書館  中文圖書區  圖書  550.187 8757  (瀏覽書架)  可借  NaN  C435297   NaN"
      ]
     },
     "execution_count": 2,
     "metadata": {},
     "output_type": "execute_result"
    }
   ],
   "source": [
    "html_text = driver.page_source\n",
    "dfs = pd.read_html(html_text, encoding=\"utf-8\")\n",
    "df_shu = dfs[0]\n",
    "driver.quit()  # 關閉整個瀏覽器\n",
    "df_shu"
   ]
  },
  {
   "cell_type": "code",
   "execution_count": 3,
   "id": "00149749",
   "metadata": {},
   "outputs": [
    {
     "data": {
      "text/html": [
       "<div>\n",
       "<style scoped>\n",
       "    .dataframe tbody tr th:only-of-type {\n",
       "        vertical-align: middle;\n",
       "    }\n",
       "\n",
       "    .dataframe tbody tr th {\n",
       "        vertical-align: top;\n",
       "    }\n",
       "\n",
       "    .dataframe thead th {\n",
       "        text-align: right;\n",
       "    }\n",
       "</style>\n",
       "<table border=\"1\" class=\"dataframe\">\n",
       "  <thead>\n",
       "    <tr style=\"text-align: right;\">\n",
       "      <th></th>\n",
       "      <th>圖書館</th>\n",
       "      <th>館藏地</th>\n",
       "      <th>索書號</th>\n",
       "      <th>館藏狀態</th>\n",
       "    </tr>\n",
       "  </thead>\n",
       "  <tbody>\n",
       "    <tr>\n",
       "      <th>0</th>\n",
       "      <td>世新大學</td>\n",
       "      <td>中文圖書區</td>\n",
       "      <td>550.187 8757  (瀏覽書架)</td>\n",
       "      <td>可借</td>\n",
       "    </tr>\n",
       "  </tbody>\n",
       "</table>\n",
       "</div>"
      ],
      "text/plain": [
       "    圖書館      館藏地                   索書號 館藏狀態\n",
       "0  世新大學    中文圖書區  550.187 8757  (瀏覽書架)   可借"
      ]
     },
     "execution_count": 3,
     "metadata": {},
     "output_type": "execute_result"
    }
   ],
   "source": [
    "df_shu.insert(0, \"圖書館\", [\"世新大學\" for i in range(df_shu.shape[0])])\n",
    "for x in [\"館藏\", \"到期日\", \"條碼\", \"館藏預約\"]: df_shu.pop(x)\n",
    "df_shu.rename(columns={\"現行位置\": \"館藏地\",\n",
    "                       \"狀態\": \"館藏狀態\"}, inplace=True)\n",
    "df_shu[\"館藏地\"] = df_shu[\"館藏地\"].str.replace(\"世新大學圖書館\", \"\")\n",
    "df_shu"
   ]
  },
  {
   "cell_type": "code",
   "execution_count": null,
   "id": "cc8cfd4c",
   "metadata": {},
   "outputs": [],
   "source": []
  }
 ],
 "metadata": {
  "kernelspec": {
   "display_name": "Python 3",
   "language": "python",
   "name": "python3"
  },
  "language_info": {
   "codemirror_mode": {
    "name": "ipython",
    "version": 3
   },
   "file_extension": ".py",
   "mimetype": "text/x-python",
   "name": "python",
   "nbconvert_exporter": "python",
   "pygments_lexer": "ipython3",
   "version": "3.8.8"
  }
 },
 "nbformat": 4,
 "nbformat_minor": 5
}
