{
 "cells": [
  {
   "cell_type": "code",
   "execution_count": 1,
   "id": "d32988cf",
   "metadata": {},
   "outputs": [],
   "source": [
    "from selenium import webdriver\n",
    "from selenium.webdriver.chrome.options import Options\n",
    "import pandas as pd\n",
    "import requests\n",
    "from bs4 import BeautifulSoup\n",
    "\n",
    "ISBN = 9789869109321\n",
    "\n",
    "url = f\"http://webpac.lib.ntpu.edu.tw/search.cfm?m=ss&k0={ISBN}&t0=k&c0=and\"\n",
    "my_options = Options()\n",
    "my_options.add_argument(\"--headless\")\n",
    "driver = webdriver.Chrome(options=my_options)\n",
    "driver.get(url)\n",
    "\n",
    "html_text = driver.page_source\n",
    "soup = BeautifulSoup(html_text, \"html.parser\")\n",
    "\n",
    "hrefs = []\n",
    "list_boxes = soup.find_all(\"div\", \"list_box\")\n",
    "for list_box in list_boxes:\n",
    "    hrefs.append(\"http://webpac.lib.ntpu.edu.tw/\" + list_box.find(\"a\", \"btn\")[\"href\"])\n",
    "driver.quit()\n",
    "\n",
    "df_final = pd.DataFrame()\n",
    "for url in hrefs:\n",
    "    # 進入頁面爬取表格\n",
    "    dfs = pd.read_html(url, encoding=\"utf-8\")\n",
    "    df_temp = dfs[0]\n",
    "    \n",
    "    # 新增欄位《館藏地》\n",
    "    resp = requests.get(url)\n",
    "    soup = BeautifulSoup(resp.text, \"html.parser\")\n",
    "    place_dad = soup.find(\"div\", \"book_area\").find(\"h2\").text\n",
    "    place_son = soup.find(\"div\", \"book_area\").find(\"h3\").text\n",
    "    df_temp.insert(1, \"館藏地\", [place_dad + place_son for i in range(df_temp.shape[0])])\n",
    "    \n",
    "    # 合併表格\n",
    "    df_final = pd.concat([df_final, df_temp], axis=0, ignore_index=True)\n",
    "df_final\n",
    "\n",
    "# 新增欄位《圖書館》\n",
    "df_final.insert(0, \"圖書館\", [\"國立臺北大學\" for i in range(df_final.shape[0])])\n",
    "# 刪除不要的欄位\n",
    "for removed in [\"登錄號\", \"資料類型\", \"使用類型\", \"附件\", \"預約人數\", \"Unnamed: 7\"]:\n",
    "    df_final.pop(removed)\n",
    "df_final"
   ]
  }
 ],
 "metadata": {
  "kernelspec": {
   "display_name": "Python 3",
   "language": "python",
   "name": "python3"
  },
  "language_info": {
   "codemirror_mode": {
    "name": "ipython",
    "version": 3
   },
   "file_extension": ".py",
   "mimetype": "text/x-python",
   "name": "python",
   "nbconvert_exporter": "python",
   "pygments_lexer": "ipython3",
   "version": "3.8.8"
  }
 },
 "nbformat": 4,
 "nbformat_minor": 5
}
