{
 "cells": [
  {
   "cell_type": "code",
   "execution_count": 1,
   "id": "aa7e4aa7",
   "metadata": {},
   "outputs": [],
   "source": [
    "# 環境設置\n",
    "from selenium import webdriver\n",
    "from selenium.webdriver.chrome.options import Options\n",
    "from selenium.webdriver.support.ui import Select\n",
    "from selenium.webdriver.common.action_chains import ActionChains\n",
    "from selenium.common.exceptions import NoSuchElementException\n",
    "import pandas as pd\n",
    "import requests\n",
    "import requests.packages.urllib3\n",
    "requests.packages.urllib3.disable_warnings()\n",
    "from bs4 import BeautifulSoup\n",
    "import time"
   ]
  },
  {
   "cell_type": "code",
   "execution_count": 2,
   "id": "090b40e1",
   "metadata": {},
   "outputs": [],
   "source": [
    "ISBN = \"9789869109321\"  # 二十一世紀資本論\n",
    "# ISBN = \"9789868879348\"  # 國家為什麼會失敗\n",
    "# ISBN = \"986729193X\"  # 蘋果橘子經濟學\n",
    "# ISBN = \"9570825685\"  # 夏綠蒂的網"
   ]
  },
  {
   "cell_type": "code",
   "execution_count": 3,
   "id": "f6b30d3f",
   "metadata": {},
   "outputs": [],
   "source": [
    "my_options = Options()\n",
    "my_options.add_argument(\"--incognito\")  # 開啟無痕模式\n",
    "# my_options.add_argument(\"--headless\")  # 不開啟實體瀏覽器"
   ]
  },
  {
   "cell_type": "code",
   "execution_count": 4,
   "id": "086972db",
   "metadata": {},
   "outputs": [],
   "source": [
    "driver = webdriver.Chrome(options=my_options)\n",
    "url = f\"https://ntu.primo.exlibrisgroup.com/discovery/search?query=any,contains,{ISBN}&tab=Everything&search_scope=MyInst_and_CI&vid=886NTU_INST:886NTU_INST&offset=0\"\n",
    "driver.get(url)\n",
    "\n",
    "time.sleep(2)\n",
    "driver.find_element_by_xpath('//*[@id=\"SEARCH_RESULT_RECORDID_alma991012361209704786\"]/div[3]/prm-brief-result/h3/a/span/prm-highlight/span').click()"
   ]
  },
  {
   "cell_type": "code",
   "execution_count": 5,
   "id": "95518eed",
   "metadata": {},
   "outputs": [
    {
     "ename": "WebDriverException",
     "evalue": "Message: chrome not reachable\n  (Session info: chrome=91.0.4472.124)\n",
     "output_type": "error",
     "traceback": [
      "\u001b[1;31m---------------------------------------------------------------------------\u001b[0m",
      "\u001b[1;31mWebDriverException\u001b[0m                        Traceback (most recent call last)",
      "\u001b[1;32m<ipython-input-5-5fcac913fec5>\u001b[0m in \u001b[0;36m<module>\u001b[1;34m\u001b[0m\n\u001b[0;32m      1\u001b[0m \u001b[1;32mfor\u001b[0m \u001b[0mi\u001b[0m \u001b[1;32min\u001b[0m \u001b[0mrange\u001b[0m\u001b[1;33m(\u001b[0m\u001b[1;36m1\u001b[0m\u001b[1;33m,\u001b[0m \u001b[1;36m100\u001b[0m\u001b[1;33m)\u001b[0m\u001b[1;33m:\u001b[0m\u001b[1;33m\u001b[0m\u001b[1;33m\u001b[0m\u001b[0m\n\u001b[0;32m      2\u001b[0m     \u001b[0mtime\u001b[0m\u001b[1;33m.\u001b[0m\u001b[0msleep\u001b[0m\u001b[1;33m(\u001b[0m\u001b[1;36m3\u001b[0m\u001b[1;33m)\u001b[0m\u001b[1;33m\u001b[0m\u001b[1;33m\u001b[0m\u001b[0m\n\u001b[1;32m----> 3\u001b[1;33m     \u001b[0mdriver\u001b[0m\u001b[1;33m.\u001b[0m\u001b[0mfind_element_by_xpath\u001b[0m\u001b[1;33m(\u001b[0m\u001b[1;34mf'//*[@id=\"tab-content-258\"]/div/md-content/prm-locations/div[3]/md-list[1]/md-list-item[{i}]/prm-location/div/div[1]/prm-icon/md-icon'\u001b[0m\u001b[1;33m)\u001b[0m\u001b[1;33m.\u001b[0m\u001b[0mclick\u001b[0m\u001b[1;33m(\u001b[0m\u001b[1;33m)\u001b[0m\u001b[1;33m\u001b[0m\u001b[1;33m\u001b[0m\u001b[0m\n\u001b[0m\u001b[0;32m      4\u001b[0m \u001b[1;33m\u001b[0m\u001b[0m\n\u001b[0;32m      5\u001b[0m     \u001b[0mtime\u001b[0m\u001b[1;33m.\u001b[0m\u001b[0msleep\u001b[0m\u001b[1;33m(\u001b[0m\u001b[1;36m2\u001b[0m\u001b[1;33m)\u001b[0m\u001b[1;33m\u001b[0m\u001b[1;33m\u001b[0m\u001b[0m\n",
      "\u001b[1;32mC:\\ProgramData\\Anaconda3\\lib\\site-packages\\selenium\\webdriver\\remote\\webdriver.py\u001b[0m in \u001b[0;36mfind_element_by_xpath\u001b[1;34m(self, xpath)\u001b[0m\n\u001b[0;32m    392\u001b[0m             \u001b[0melement\u001b[0m \u001b[1;33m=\u001b[0m \u001b[0mdriver\u001b[0m\u001b[1;33m.\u001b[0m\u001b[0mfind_element_by_xpath\u001b[0m\u001b[1;33m(\u001b[0m\u001b[1;34m'//div/td[1]'\u001b[0m\u001b[1;33m)\u001b[0m\u001b[1;33m\u001b[0m\u001b[1;33m\u001b[0m\u001b[0m\n\u001b[0;32m    393\u001b[0m         \"\"\"\n\u001b[1;32m--> 394\u001b[1;33m         \u001b[1;32mreturn\u001b[0m \u001b[0mself\u001b[0m\u001b[1;33m.\u001b[0m\u001b[0mfind_element\u001b[0m\u001b[1;33m(\u001b[0m\u001b[0mby\u001b[0m\u001b[1;33m=\u001b[0m\u001b[0mBy\u001b[0m\u001b[1;33m.\u001b[0m\u001b[0mXPATH\u001b[0m\u001b[1;33m,\u001b[0m \u001b[0mvalue\u001b[0m\u001b[1;33m=\u001b[0m\u001b[0mxpath\u001b[0m\u001b[1;33m)\u001b[0m\u001b[1;33m\u001b[0m\u001b[1;33m\u001b[0m\u001b[0m\n\u001b[0m\u001b[0;32m    395\u001b[0m \u001b[1;33m\u001b[0m\u001b[0m\n\u001b[0;32m    396\u001b[0m     \u001b[1;32mdef\u001b[0m \u001b[0mfind_elements_by_xpath\u001b[0m\u001b[1;33m(\u001b[0m\u001b[0mself\u001b[0m\u001b[1;33m,\u001b[0m \u001b[0mxpath\u001b[0m\u001b[1;33m)\u001b[0m\u001b[1;33m:\u001b[0m\u001b[1;33m\u001b[0m\u001b[1;33m\u001b[0m\u001b[0m\n",
      "\u001b[1;32mC:\\ProgramData\\Anaconda3\\lib\\site-packages\\selenium\\webdriver\\remote\\webdriver.py\u001b[0m in \u001b[0;36mfind_element\u001b[1;34m(self, by, value)\u001b[0m\n\u001b[0;32m    974\u001b[0m                 \u001b[0mby\u001b[0m \u001b[1;33m=\u001b[0m \u001b[0mBy\u001b[0m\u001b[1;33m.\u001b[0m\u001b[0mCSS_SELECTOR\u001b[0m\u001b[1;33m\u001b[0m\u001b[1;33m\u001b[0m\u001b[0m\n\u001b[0;32m    975\u001b[0m                 \u001b[0mvalue\u001b[0m \u001b[1;33m=\u001b[0m \u001b[1;34m'[name=\"%s\"]'\u001b[0m \u001b[1;33m%\u001b[0m \u001b[0mvalue\u001b[0m\u001b[1;33m\u001b[0m\u001b[1;33m\u001b[0m\u001b[0m\n\u001b[1;32m--> 976\u001b[1;33m         return self.execute(Command.FIND_ELEMENT, {\n\u001b[0m\u001b[0;32m    977\u001b[0m             \u001b[1;34m'using'\u001b[0m\u001b[1;33m:\u001b[0m \u001b[0mby\u001b[0m\u001b[1;33m,\u001b[0m\u001b[1;33m\u001b[0m\u001b[1;33m\u001b[0m\u001b[0m\n\u001b[0;32m    978\u001b[0m             'value': value})['value']\n",
      "\u001b[1;32mC:\\ProgramData\\Anaconda3\\lib\\site-packages\\selenium\\webdriver\\remote\\webdriver.py\u001b[0m in \u001b[0;36mexecute\u001b[1;34m(self, driver_command, params)\u001b[0m\n\u001b[0;32m    319\u001b[0m         \u001b[0mresponse\u001b[0m \u001b[1;33m=\u001b[0m \u001b[0mself\u001b[0m\u001b[1;33m.\u001b[0m\u001b[0mcommand_executor\u001b[0m\u001b[1;33m.\u001b[0m\u001b[0mexecute\u001b[0m\u001b[1;33m(\u001b[0m\u001b[0mdriver_command\u001b[0m\u001b[1;33m,\u001b[0m \u001b[0mparams\u001b[0m\u001b[1;33m)\u001b[0m\u001b[1;33m\u001b[0m\u001b[1;33m\u001b[0m\u001b[0m\n\u001b[0;32m    320\u001b[0m         \u001b[1;32mif\u001b[0m \u001b[0mresponse\u001b[0m\u001b[1;33m:\u001b[0m\u001b[1;33m\u001b[0m\u001b[1;33m\u001b[0m\u001b[0m\n\u001b[1;32m--> 321\u001b[1;33m             \u001b[0mself\u001b[0m\u001b[1;33m.\u001b[0m\u001b[0merror_handler\u001b[0m\u001b[1;33m.\u001b[0m\u001b[0mcheck_response\u001b[0m\u001b[1;33m(\u001b[0m\u001b[0mresponse\u001b[0m\u001b[1;33m)\u001b[0m\u001b[1;33m\u001b[0m\u001b[1;33m\u001b[0m\u001b[0m\n\u001b[0m\u001b[0;32m    322\u001b[0m             response['value'] = self._unwrap_value(\n\u001b[0;32m    323\u001b[0m                 response.get('value', None))\n",
      "\u001b[1;32mC:\\ProgramData\\Anaconda3\\lib\\site-packages\\selenium\\webdriver\\remote\\errorhandler.py\u001b[0m in \u001b[0;36mcheck_response\u001b[1;34m(self, response)\u001b[0m\n\u001b[0;32m    240\u001b[0m                 \u001b[0malert_text\u001b[0m \u001b[1;33m=\u001b[0m \u001b[0mvalue\u001b[0m\u001b[1;33m[\u001b[0m\u001b[1;34m'alert'\u001b[0m\u001b[1;33m]\u001b[0m\u001b[1;33m.\u001b[0m\u001b[0mget\u001b[0m\u001b[1;33m(\u001b[0m\u001b[1;34m'text'\u001b[0m\u001b[1;33m)\u001b[0m\u001b[1;33m\u001b[0m\u001b[1;33m\u001b[0m\u001b[0m\n\u001b[0;32m    241\u001b[0m             \u001b[1;32mraise\u001b[0m \u001b[0mexception_class\u001b[0m\u001b[1;33m(\u001b[0m\u001b[0mmessage\u001b[0m\u001b[1;33m,\u001b[0m \u001b[0mscreen\u001b[0m\u001b[1;33m,\u001b[0m \u001b[0mstacktrace\u001b[0m\u001b[1;33m,\u001b[0m \u001b[0malert_text\u001b[0m\u001b[1;33m)\u001b[0m\u001b[1;33m\u001b[0m\u001b[1;33m\u001b[0m\u001b[0m\n\u001b[1;32m--> 242\u001b[1;33m         \u001b[1;32mraise\u001b[0m \u001b[0mexception_class\u001b[0m\u001b[1;33m(\u001b[0m\u001b[0mmessage\u001b[0m\u001b[1;33m,\u001b[0m \u001b[0mscreen\u001b[0m\u001b[1;33m,\u001b[0m \u001b[0mstacktrace\u001b[0m\u001b[1;33m)\u001b[0m\u001b[1;33m\u001b[0m\u001b[1;33m\u001b[0m\u001b[0m\n\u001b[0m\u001b[0;32m    243\u001b[0m \u001b[1;33m\u001b[0m\u001b[0m\n\u001b[0;32m    244\u001b[0m     \u001b[1;32mdef\u001b[0m \u001b[0m_value_or_default\u001b[0m\u001b[1;33m(\u001b[0m\u001b[0mself\u001b[0m\u001b[1;33m,\u001b[0m \u001b[0mobj\u001b[0m\u001b[1;33m,\u001b[0m \u001b[0mkey\u001b[0m\u001b[1;33m,\u001b[0m \u001b[0mdefault\u001b[0m\u001b[1;33m)\u001b[0m\u001b[1;33m:\u001b[0m\u001b[1;33m\u001b[0m\u001b[1;33m\u001b[0m\u001b[0m\n",
      "\u001b[1;31mWebDriverException\u001b[0m: Message: chrome not reachable\n  (Session info: chrome=91.0.4472.124)\n"
     ]
    }
   ],
   "source": [
    "for i in range(1, 100):\n",
    "    time.sleep(3)\n",
    "    driver.find_element_by_xpath(f'//*[@id=\"tab-content-258\"]/div/md-content/prm-locations/div[3]/md-list[1]/md-list-item[{i}]/prm-location/div/div[1]/prm-icon/md-icon').click()\n",
    "    \n",
    "    time.sleep(2)\n",
    "    # 返回館藏地\n",
    "    driver.find_element_by_xpath(f'//*[@id=\"tab-content-99\"]/div/div/prm-opac-back-button/button/prm-icon/md-icon').click()"
   ]
  },
  {
   "cell_type": "code",
   "execution_count": null,
   "id": "256d48f1",
   "metadata": {
    "scrolled": true
   },
   "outputs": [],
   "source": [
    "# 找館藏地（location)\n",
    "location = driver.find_element_by_xpath(f'//*[@id=\"tab-content-99\"]/div/md-content/prm-location-items/div[2]/div[1]/p[1]/span[3]').text\n",
    "print(location)"
   ]
  },
  {
   "cell_type": "code",
   "execution_count": null,
   "id": "bf645379",
   "metadata": {},
   "outputs": [],
   "source": [
    "time.sleep(1)\n",
    "# 找索書號（call no）、館藏狀態（status）\n",
    "try:\n",
    "    for i in range(1, 10):\n",
    "        call_no = driver.find_element_by_xpath(f'//*[@id=\"tab-content-99\"]/div/md-content/prm-location-items/md-list/md-list-item[{i}]/div[1]/div[1]/div[1]/div[1]/h3').text\n",
    "        status = driver.find_element_by_xpath(f'//*[@id=\"tab-content-99\"]/div/md-content/prm-location-items/md-list/md-list-item[{i}]/div[1]/div[1]/div[2]/div[1]/p').text\n",
    "        print(call_no, status)\n",
    "except NoSuchElementException:\n",
    "    pass"
   ]
  },
  {
   "cell_type": "code",
   "execution_count": null,
   "id": "aa179263",
   "metadata": {},
   "outputs": [],
   "source": [
    "time.sleep(2)\n",
    "# 返回館藏地\n",
    "driver.find_element_by_xpath(f'//*[@id=\"tab-content-99\"]/div/div/prm-opac-back-button/button/prm-icon/md-icon').click()"
   ]
  },
  {
   "cell_type": "code",
   "execution_count": null,
   "id": "23c5c172",
   "metadata": {},
   "outputs": [],
   "source": []
  },
  {
   "cell_type": "code",
   "execution_count": null,
   "id": "2b6fd572",
   "metadata": {},
   "outputs": [],
   "source": [
    "time.sleep(5)\n",
    "driver.find_element_by_xpath('//*[@id=\"tab-content-98\"]/div/md-content/prm-locations/div[3]/md-list[1]/md-list-item[2]/prm-location/div/div/prm-icon/md-icon').click()"
   ]
  },
  {
   "cell_type": "code",
   "execution_count": null,
   "id": "8ec44548",
   "metadata": {},
   "outputs": [],
   "source": [
    "# 找館藏地（location)\n",
    "location = driver.find_element_by_xpath(f'//*[@id=\"tab-content-99\"]/div/md-content/prm-location-items/div[2]/div[1]/p[1]/span[3]').text\n",
    "print(location)"
   ]
  },
  {
   "cell_type": "code",
   "execution_count": null,
   "id": "f7913a3f",
   "metadata": {},
   "outputs": [],
   "source": [
    "time.sleep(1)\n",
    "# 找索書號（call no）、館藏狀態（status）\n",
    "try:\n",
    "    for i in range(1, 10):\n",
    "        call_no = driver.find_element_by_xpath(f'//*[@id=\"tab-content-99\"]/div/md-content/prm-location-items/md-list/md-list-item[{i}]/div[1]/div[1]/div[1]/div[1]/h3').text\n",
    "        status = driver.find_element_by_xpath(f'//*[@id=\"tab-content-99\"]/div/md-content/prm-location-items/md-list/md-list-item[{i}]/div[1]/div[1]/div[2]/div[1]/p').text\n",
    "        print(call_no, status)\n",
    "except NoSuchElementException:\n",
    "    pass"
   ]
  },
  {
   "cell_type": "code",
   "execution_count": null,
   "id": "27bfa25d",
   "metadata": {},
   "outputs": [],
   "source": [
    "time.sleep(2)\n",
    "# 返回館藏地\n",
    "driver.find_element_by_xpath(f'//*[@id=\"tab-content-99\"]/div/div/prm-opac-back-button/button/prm-icon/md-icon').click()"
   ]
  },
  {
   "cell_type": "code",
   "execution_count": null,
   "id": "d07b79c8",
   "metadata": {},
   "outputs": [],
   "source": []
  },
  {
   "cell_type": "code",
   "execution_count": null,
   "id": "6c76adca",
   "metadata": {},
   "outputs": [],
   "source": [
    "time.sleep(5)\n",
    "driver.find_element_by_xpath('//*[@id=\"tab-content-98\"]/div/md-content/prm-locations/div[3]/md-list[1]/md-list-item[3]/prm-location/div/div/prm-icon/md-icon').click()"
   ]
  },
  {
   "cell_type": "code",
   "execution_count": null,
   "id": "2907da31",
   "metadata": {},
   "outputs": [],
   "source": [
    "# 找館藏地（location)\n",
    "location = driver.find_element_by_xpath(f'//*[@id=\"tab-content-99\"]/div/md-content/prm-location-items/div[2]/div[1]/p[1]/span[3]').text\n",
    "print(location)"
   ]
  },
  {
   "cell_type": "code",
   "execution_count": null,
   "id": "3c7bbca6",
   "metadata": {},
   "outputs": [],
   "source": [
    "time.sleep(1)\n",
    "# 找索書號（call no）、館藏狀態（status）\n",
    "try:\n",
    "    for i in range(1, 10):\n",
    "        call_no = driver.find_element_by_xpath(f'//*[@id=\"tab-content-99\"]/div/md-content/prm-location-items/md-list/md-list-item[{i}]/div[1]/div[1]/div[1]/div[1]/h3').text\n",
    "        status = driver.find_element_by_xpath(f'//*[@id=\"tab-content-99\"]/div/md-content/prm-location-items/md-list/md-list-item[{i}]/div[1]/div[1]/div[2]/div[1]/p').text\n",
    "        print(call_no, status)\n",
    "except NoSuchElementException:\n",
    "    pass"
   ]
  },
  {
   "cell_type": "code",
   "execution_count": null,
   "id": "f820453a",
   "metadata": {},
   "outputs": [],
   "source": [
    "time.sleep(2)\n",
    "# 返回館藏地\n",
    "driver.find_element_by_xpath(f'//*[@id=\"tab-content-99\"]/div/div/prm-opac-back-button/button/prm-icon/md-icon').click()"
   ]
  },
  {
   "cell_type": "code",
   "execution_count": null,
   "id": "2f0eab44",
   "metadata": {},
   "outputs": [],
   "source": []
  }
 ],
 "metadata": {
  "kernelspec": {
   "display_name": "Python 3",
   "language": "python",
   "name": "python3"
  },
  "language_info": {
   "codemirror_mode": {
    "name": "ipython",
    "version": 3
   },
   "file_extension": ".py",
   "mimetype": "text/x-python",
   "name": "python",
   "nbconvert_exporter": "python",
   "pygments_lexer": "ipython3",
   "version": "3.8.8"
  }
 },
 "nbformat": 4,
 "nbformat_minor": 5
}
