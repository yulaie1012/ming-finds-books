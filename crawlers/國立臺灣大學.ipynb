{
 "cells": [
  {
   "cell_type": "code",
   "execution_count": 1,
   "id": "aa7e4aa7",
   "metadata": {},
   "outputs": [],
   "source": [
    "# 環境設置\n",
    "from selenium import webdriver\n",
    "from selenium.webdriver.chrome.options import Options\n",
    "from selenium.webdriver.support.ui import Select\n",
    "from selenium.webdriver.common.action_chains import ActionChains\n",
    "from selenium.common.exceptions import NoSuchElementException\n",
    "import pandas as pd\n",
    "import requests\n",
    "import requests.packages.urllib3\n",
    "requests.packages.urllib3.disable_warnings()\n",
    "from bs4 import BeautifulSoup\n",
    "import time"
   ]
  },
  {
   "cell_type": "code",
   "execution_count": 2,
   "id": "090b40e1",
   "metadata": {},
   "outputs": [],
   "source": [
    "ISBN = \"9789869109321\"  # 二十一世紀資本論\n",
    "# ISBN = \"9789868879348\"  # 國家為什麼會失敗\n",
    "# ISBN = \"986729193X\"  # 蘋果橘子經濟學\n",
    "# ISBN = \"9570825685\"  # 夏綠蒂的網"
   ]
  },
  {
   "cell_type": "code",
   "execution_count": 3,
   "id": "f6b30d3f",
   "metadata": {},
   "outputs": [],
   "source": [
    "my_options = Options()\n",
    "my_options.add_argument(\"--incognito\")  # 開啟無痕模式\n",
    "# my_options.add_argument(\"--headless\")  # 不開啟實體瀏覽器"
   ]
  },
  {
   "cell_type": "code",
   "execution_count": 14,
   "id": "2865f859",
   "metadata": {},
   "outputs": [],
   "source": [
    "driver = webdriver.Chrome(options=my_options)"
   ]
  },
  {
   "cell_type": "code",
   "execution_count": 17,
   "id": "086972db",
   "metadata": {},
   "outputs": [],
   "source": [
    "def ntu_crawler(driver):\n",
    "    url = f\"https://ntu.primo.exlibrisgroup.com/discovery/search?query=any,contains,{ISBN}&tab=Everything&search_scope=MyInst_and_CI&vid=886NTU_INST:886NTU_INST&offset=0\"\n",
    "    driver.get(url)\n",
    "    time.sleep(5)\n",
    "    title = driver.find_element_by_class_name('item-title').click()\n",
    "\n",
    "    time.sleep(3)\n",
    "    try:\n",
    "        try:\n",
    "            back = driver.find_element_by_css_selector(\".tab-header .back-button.button-with-icon.zero-margin.md-button.md-primoExplore-theme.md-ink-ripple\")\n",
    "        except:\n",
    "            back = None\n",
    "        if back != None:\n",
    "            back.click()\n",
    "\n",
    "        thelist = driver.find_elements_by_class_name(\"layout-align-space-between-center.layout-row.flex-100\")\n",
    "        for row in thelist:\n",
    "            plist = row.find_elements_by_tag_name(\"p\")\n",
    "            where = row.find_elements_by_tag_name(\"h3\")\n",
    "            i = len(where)\n",
    "            for sth in plist:\n",
    "                a = sth.find_elements_by_tag_name(\"span\")\n",
    "                for _ in range(i):\n",
    "                    new_row = pd.Series(['台灣大學', where[_].text, a[4].text, a[0].text, url])\n",
    "                    df_lst.append(new_row)\n",
    "                    break\n",
    "                break\n",
    "        return df_lst\n",
    "    except:\n",
    "        print(f\"「{url}」無法爬取！\")"
   ]
  },
  {
   "cell_type": "code",
   "execution_count": null,
   "id": "ed80e0f7",
   "metadata": {},
   "outputs": [],
   "source": []
  },
  {
   "cell_type": "code",
   "execution_count": 19,
   "id": "51ea9f3b",
   "metadata": {},
   "outputs": [
    {
     "name": "stdout",
     "output_type": "stream",
     "text": [
      "「https://ntu.primo.exlibrisgroup.com/discovery/search?query=any,contains,9789869109321&tab=Everything&search_scope=MyInst_and_CI&vid=886NTU_INST:886NTU_INST&offset=0」無法爬取！\n"
     ]
    }
   ],
   "source": [
    "ntu_crawler()"
   ]
  },
  {
   "cell_type": "code",
   "execution_count": null,
   "id": "74a71187",
   "metadata": {},
   "outputs": [],
   "source": []
  },
  {
   "cell_type": "code",
   "execution_count": 20,
   "id": "461a0b1a",
   "metadata": {},
   "outputs": [],
   "source": [
    "# 台大\n",
    "\n",
    "url = \"https://ntu.primo.exlibrisgroup.com/discovery/search?query=any,contains,\" + ISBN + \"&tab=Everything&search_scope=MyInst_and_CI&vid=886NTU_INST:886NTU_INST&offset=0\"\n",
    "driver.get(url)\n",
    "time.sleep(5)\n",
    "title = driver.find_element_by_class_name('item-title').click()\n",
    "\n",
    "time.sleep(3)\n",
    "try:\n",
    "    try:\n",
    "        back = driver.find_element_by_css_selector(\".tab-header .back-button.button-with-icon.zero-margin.md-button.md-primoExplore-theme.md-ink-ripple\")\n",
    "    except:\n",
    "        back = None\n",
    "    if back != None:\n",
    "        back.click()\n",
    "        \n",
    "    thelist = driver.find_elements_by_class_name(\"layout-align-space-between-center.layout-row.flex-100\")\n",
    "    for row in thelist:\n",
    "        plist = row.find_elements_by_tag_name(\"p\")\n",
    "        where = row.find_elements_by_tag_name(\"h3\")\n",
    "        i = len(where)\n",
    "        for sth in plist:\n",
    "            a = sth.find_elements_by_tag_name(\"span\")\n",
    "            for _ in range(i):\n",
    "                new_row = ['台灣大學', where[_].text, a[4].text, a[0].text, url]\n",
    "                df_lst.append(new_row)\n",
    "                break\n",
    "            break\n",
    "except:\n",
    "    pass"
   ]
  },
  {
   "cell_type": "code",
   "execution_count": null,
   "id": "1a7c8cc6",
   "metadata": {},
   "outputs": [],
   "source": []
  }
 ],
 "metadata": {
  "kernelspec": {
   "display_name": "Python 3",
   "language": "python",
   "name": "python3"
  },
  "language_info": {
   "codemirror_mode": {
    "name": "ipython",
    "version": 3
   },
   "file_extension": ".py",
   "mimetype": "text/x-python",
   "name": "python",
   "nbconvert_exporter": "python",
   "pygments_lexer": "ipython3",
   "version": "3.8.8"
  }
 },
 "nbformat": 4,
 "nbformat_minor": 5
}
