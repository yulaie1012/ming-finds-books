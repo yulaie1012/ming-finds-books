{
 "cells": [
  {
   "cell_type": "code",
   "execution_count": 13,
   "id": "f68cf430",
   "metadata": {
    "scrolled": true
   },
   "outputs": [
    {
     "name": "stdout",
     "output_type": "stream",
     "text": [
      "9527\n",
      "7529\n",
      "5729\n",
      "2759\n",
      "2957\n",
      "2597\n",
      "2579\n",
      "2579\n"
     ]
    }
   ],
   "source": [
    "num_list = [int(i) for i in input()]\n",
    "hash_map = {number: index for index, number in enumerate(num_list)}\n",
    "for index, number in enumerate(num_list):\n",
    "    for digit in sorted(set(num_list), reverse=True):\n",
    "        if hash_map[digit] > index:\n",
    "            num_list[index], num_list[hash_map[digit]] = num_list[hash_map[digit]], num_list[index]\n",
    "            print(\"\".join(map(str, num_list)))\n",
    "print(\"\".join(map(str, num_list)))"
   ]
  },
  {
   "cell_type": "code",
   "execution_count": null,
   "id": "f4c37358",
   "metadata": {},
   "outputs": [],
   "source": []
  },
  {
   "cell_type": "code",
   "execution_count": null,
   "id": "280605c0",
   "metadata": {},
   "outputs": [],
   "source": []
  },
  {
   "cell_type": "code",
   "execution_count": 16,
   "id": "606b4b0a",
   "metadata": {},
   "outputs": [
    {
     "name": "stdout",
     "output_type": "stream",
     "text": [
      "9527\n",
      "9725\n",
      "9752\n",
      "9752\n"
     ]
    }
   ],
   "source": [
    "num_list = [int(i) for i in input()]\n",
    "# hasp_map 用來記錄數字的 index 最大值\n",
    "hash_map = {number: index for index, number in enumerate(num_list)}\n",
    "\n",
    "for index, number in enumerate(num_list):\n",
    "    for digit in range(9, number, -1):\n",
    "        if digit in hash_map and hash_map[digit] > index:\n",
    "            num_list[index], num_list[hash_map[digit]] = num_list[hash_map[digit]], num_list[index]\n",
    "            print(\"\".join(map(str, num_list)))\n",
    "print(\"\".join(map(str, num_list)))"
   ]
  },
  {
   "cell_type": "code",
   "execution_count": null,
   "id": "d5efa995",
   "metadata": {},
   "outputs": [],
   "source": []
  }
 ],
 "metadata": {
  "kernelspec": {
   "display_name": "Python 3",
   "language": "python",
   "name": "python3"
  },
  "language_info": {
   "codemirror_mode": {
    "name": "ipython",
    "version": 3
   },
   "file_extension": ".py",
   "mimetype": "text/x-python",
   "name": "python",
   "nbconvert_exporter": "python",
   "pygments_lexer": "ipython3",
   "version": "3.8.8"
  }
 },
 "nbformat": 4,
 "nbformat_minor": 5
}
