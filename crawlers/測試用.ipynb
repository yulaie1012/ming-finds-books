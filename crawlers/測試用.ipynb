{
 "cells": [
  {
   "cell_type": "code",
   "execution_count": 1,
   "id": "63eeda8a",
   "metadata": {},
   "outputs": [],
   "source": [
    "from selenium import webdriver\n",
    "from selenium.webdriver.support.ui import Select\n",
    "from selenium.webdriver.common.by import By\n",
    "from selenium.webdriver.support.ui import WebDriverWait\n",
    "from selenium.webdriver.support import expected_conditions as EC\n",
    "from selenium.webdriver.chrome.options import Options\n",
    "from selenium.webdriver.common.desired_capabilities import DesiredCapabilities\n",
    "from selenium.common.exceptions import NoSuchElementException, TimeoutException\n",
    "\n",
    "import pandas as pd\n",
    "from bs4 import BeautifulSoup\n",
    "import time\n",
    "\n",
    "my_options = Options()\n",
    "my_options.add_argument(\"--incognito\")  # 開啟無痕模式\n",
    "my_options.add_argument(\"--start-maximized\")  # 視窗最大化\n",
    "# my_options.add_argument(\"--headless\")  # 不開啟實體瀏覽器\n",
    "capabilities = DesiredCapabilities.CHROME\n",
    "capabilities[\"pageLoadStrategy\"] = \"none\"\n",
    "\n",
    "url = \"http://192.192.231.232/bookDetail.do?id=260965&resid=188809503&nowid=3\"\n",
    "ISBN=\"9789573317241\""
   ]
  },
  {
   "cell_type": "code",
   "execution_count": 2,
   "id": "bf426fec",
   "metadata": {},
   "outputs": [],
   "source": [
    "driver = webdriver.Chrome(options=my_options, desired_capabilities=capabilities)\n",
    "wait = WebDriverWait(driver, 30)  # 最長等待時間：30 秒；查找元素的間隔時間：0.5秒（default）\n",
    "\n",
    "driver.get(url)"
   ]
  },
  {
   "cell_type": "code",
   "execution_count": 10,
   "id": "1dbccce3",
   "metadata": {},
   "outputs": [
    {
     "data": {
      "text/html": [
       "<div>\n",
       "<style scoped>\n",
       "    .dataframe tbody tr th:only-of-type {\n",
       "        vertical-align: middle;\n",
       "    }\n",
       "\n",
       "    .dataframe tbody tr th {\n",
       "        vertical-align: top;\n",
       "    }\n",
       "\n",
       "    .dataframe thead th {\n",
       "        text-align: right;\n",
       "    }\n",
       "</style>\n",
       "<table border=\"1\" class=\"dataframe\">\n",
       "  <thead>\n",
       "    <tr style=\"text-align: right;\">\n",
       "      <th></th>\n",
       "      <th>#</th>\n",
       "      <th>條碼號</th>\n",
       "      <th>館藏地/室</th>\n",
       "      <th>索書號</th>\n",
       "      <th>資料類型</th>\n",
       "      <th>目前狀態 / 到期日</th>\n",
       "      <th>附件/備註</th>\n",
       "      <th>預約</th>\n",
       "    </tr>\n",
       "  </thead>\n",
       "  <tbody>\n",
       "    <tr>\n",
       "      <th>0</th>\n",
       "      <td>1</td>\n",
       "      <td>C093472</td>\n",
       "      <td>新竹分館/新竹分館</td>\n",
       "      <td>Book 873.57 8666</td>\n",
       "      <td>中文書/一般</td>\n",
       "      <td>書在館</td>\n",
       "      <td>NaN</td>\n",
       "      <td>不可預約</td>\n",
       "    </tr>\n",
       "  </tbody>\n",
       "</table>\n",
       "</div>"
      ],
      "text/plain": [
       "   #      條碼號      館藏地/室               索書號    資料類型 目前狀態 / 到期日  附件/備註    預約\n",
       "0  1  C093472  新竹分館/新竹分館  Book 873.57 8666  中文書/一般        書在館    NaN  不可預約"
      ]
     },
     "execution_count": 10,
     "metadata": {},
     "output_type": "execute_result"
    }
   ],
   "source": [
    "tgt = pd.read_html(driver.page_source, encoding=\"utf-8\")[-2]\n",
    "tgt"
   ]
  },
  {
   "cell_type": "code",
   "execution_count": null,
   "id": "8d4456c5",
   "metadata": {},
   "outputs": [],
   "source": [
    "tgt.cloumns[]"
   ]
  }
 ],
 "metadata": {
  "kernelspec": {
   "display_name": "Python 3",
   "language": "python",
   "name": "python3"
  },
  "language_info": {
   "codemirror_mode": {
    "name": "ipython",
    "version": 3
   },
   "file_extension": ".py",
   "mimetype": "text/x-python",
   "name": "python",
   "nbconvert_exporter": "python",
   "pygments_lexer": "ipython3",
   "version": "3.8.8"
  }
 },
 "nbformat": 4,
 "nbformat_minor": 5
}
