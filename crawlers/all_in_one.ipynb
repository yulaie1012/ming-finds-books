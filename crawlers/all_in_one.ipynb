{
 "cells": [
  {
   "cell_type": "code",
   "execution_count": null,
   "id": "dfcb5d93",
   "metadata": {},
   "outputs": [],
   "source": [
    "import pandas as pd\n",
    "import pandas.io.formats.excel"
   ]
  },
  {
   "cell_type": "code",
   "execution_count": null,
   "id": "f18ab89d",
   "metadata": {},
   "outputs": [],
   "source": [
    "def set_excel(df, set_dir):\n",
    "    # pandas.io.formats.excel.header_style = None\n",
    "    writer = pd.ExcelWriter(set_dir)\n",
    "    df.to_excel(writer, sheet_name=f\"搜尋結果\")\n",
    "\n",
    "    workbook1 = writer.book\n",
    "    worksheets = writer.sheets\n",
    "    worksheet1 = worksheets[\"搜尋結果\"]\n",
    "    \n",
    "    # 測試\n",
    "#     cell_format = workbook1.add_format({\n",
    "#         \"font_name\": \"微軟正黑體\",\n",
    "#         \"font_size\": 16\n",
    "#     })\n",
    "    worksheet1.set_column(\"B:E\", 20, cell_format)\n",
    "    \n",
    "    # 設定單元格的寬度\n",
    "    worksheet1.set_column(\"B:E\", 35)\n",
    "\n",
    "    writer.save()\n",
    "    print(\"爬取完成\")"
   ]
  },
  {
   "cell_type": "code",
   "execution_count": null,
   "id": "61e3e8b4",
   "metadata": {},
   "outputs": [],
   "source": []
  },
  {
   "cell_type": "code",
   "execution_count": null,
   "id": "d16cdec8",
   "metadata": {},
   "outputs": [],
   "source": []
  }
 ],
 "metadata": {
  "kernelspec": {
   "display_name": "Python 3",
   "language": "python",
   "name": "python3"
  },
  "language_info": {
   "codemirror_mode": {
    "name": "ipython",
    "version": 3
   },
   "file_extension": ".py",
   "mimetype": "text/x-python",
   "name": "python",
   "nbconvert_exporter": "python",
   "pygments_lexer": "ipython3",
   "version": "3.8.8"
  }
 },
 "nbformat": 4,
 "nbformat_minor": 5
}
