{
 "cells": [
  {
   "cell_type": "code",
   "execution_count": 7,
   "id": "remarkable-clearance",
   "metadata": {},
   "outputs": [
    {
     "name": "stdout",
     "output_type": "stream",
     "text": [
      "40\n",
      "6\n",
      "[40, 6, 1]\n",
      "47\n"
     ]
    }
   ],
   "source": [
    "buy = int(input())\n",
    "change = int(input())\n",
    "\n",
    "remain = buy % change + buy // change\n",
    "lst = [buy, buy//change]\n",
    "\n",
    "while remain >= change:      \n",
    "    get = remain // change\n",
    "    lst.append(get)\n",
    "    remain = remain % change + get\n",
    "    \n",
    "getall = 0\n",
    "for i in lst:\n",
    "    getall += i\n",
    "\n",
    "print(lst)    \n",
    "print(getall)"
   ]
  },
  {
   "cell_type": "code",
   "execution_count": 19,
   "id": "careful-column",
   "metadata": {},
   "outputs": [
    {
     "name": "stdout",
     "output_type": "stream",
     "text": [
      "2 10 35 8 5\n",
      "2 5 8 10 35 []\n"
     ]
    }
   ],
   "source": [
    "num = input()\n",
    "lst = num.split(\" \")\n",
    "lst = [ int(i) for i in lst ]\n",
    "\n",
    "while lst != []:\n",
    "    for i in lst:\n",
    "        if i == min(lst):\n",
    "            print(i, end = \" \")\n",
    "            lst.remove(i)\n",
    "    else: \n",
    "        continue"
   ]
  },
  {
   "cell_type": "code",
   "execution_count": 31,
   "id": "sharing-funeral",
   "metadata": {},
   "outputs": [
    {
     "name": "stdout",
     "output_type": "stream",
     "text": [
      "1\n",
      "*\n"
     ]
    }
   ],
   "source": [
    "num = int(input())\n",
    "i = 1\n",
    "\n",
    "print(\"*\" * num)\n",
    "while i < (num - 1):\n",
    "    print(\"*\" + \" \" * (num-2) + \"*\")\n",
    "    i += 1\n",
    "    \n",
    "if num > 1:\n",
    "    print(\"*\" * num)\n",
    "else:\n",
    "    n = 0"
   ]
  },
  {
   "cell_type": "code",
   "execution_count": 32,
   "id": "liberal-administrator",
   "metadata": {},
   "outputs": [
    {
     "name": "stdout",
     "output_type": "stream",
     "text": [
      "9\n",
      "5\n"
     ]
    }
   ],
   "source": [
    "num = int(input())\n",
    "step = 0\n",
    "\n",
    "while num > 0:\n",
    "    if num % 2 != 0:\n",
    "        num -= 1\n",
    "        step += 1\n",
    "    else:\n",
    "        num /= 2\n",
    "        step += 1\n",
    "        \n",
    "print(step)\n"
   ]
  },
  {
   "cell_type": "code",
   "execution_count": 62,
   "id": "freelance-shelter",
   "metadata": {},
   "outputs": [
    {
     "name": "stdout",
     "output_type": "stream",
     "text": [
      "0\n",
      "0\n",
      "1\n",
      "0\n"
     ]
    }
   ],
   "source": [
    "a = float(input())\n",
    "b = float(input())\n",
    "c = float(input())\n",
    "\n",
    "\n",
    "if b**2 - 4*a*c < 0 or (a == 0 and b == 0 and c != 0):\n",
    "    print(\"0\")\n",
    "elif b**2 - 4*a*c == 0 or a == 0:\n",
    "    if a != 0:\n",
    "        ans1 = (b*(-1) + (b**2 - 4*a*c)**(1/2)) / (2*a)\n",
    "        print(\"1\")\n",
    "        print(ans1)\n",
    "    elif a == 0 and b == 0 and c == 0:\n",
    "        print(\"-1\")\n",
    "    else:\n",
    "        ans1 = (-c) / b\n",
    "        print(\"1\")\n",
    "        print(ans1)\n",
    "else:\n",
    "    ans1 = (b*(-1) - (b**2 - 4*a*c)**(1/2)) / (2*a)\n",
    "    ans2 = (b*(-1) + (b**2 - 4*a*c)**(1/2)) / (2*a)\n",
    "    print(\"2\")\n",
    "    print(ans1)\n",
    "    print(ans2)\n",
    "    \n"
   ]
  },
  {
   "cell_type": "code",
   "execution_count": null,
   "id": "sustainable-preparation",
   "metadata": {},
   "outputs": [],
   "source": []
  },
  {
   "cell_type": "markdown",
   "id": "fifth-assist",
   "metadata": {},
   "source": []
  }
 ],
 "metadata": {
  "kernelspec": {
   "display_name": "Python 3",
   "language": "python",
   "name": "python3"
  },
  "language_info": {
   "codemirror_mode": {
    "name": "ipython",
    "version": 3
   },
   "file_extension": ".py",
   "mimetype": "text/x-python",
   "name": "python",
   "nbconvert_exporter": "python",
   "pygments_lexer": "ipython3",
   "version": "3.9.2"
  }
 },
 "nbformat": 4,
 "nbformat_minor": 5
}
