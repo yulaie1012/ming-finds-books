{
 "cells": [
  {
   "cell_type": "code",
   "execution_count": 1,
   "id": "perceived-burton",
   "metadata": {},
   "outputs": [
    {
     "name": "stdout",
     "output_type": "stream",
     "text": [
      "101\n",
      "X\n"
     ]
    }
   ],
   "source": [
    "grade = int(input())\n",
    "  \n",
    "if grade <= 100 and grade >= 90:\n",
    "    print(\"A+\")\n",
    "elif grade <= 89 and grade >= 85:\n",
    "    print(\"A\")\n",
    "elif grade <= 84 and grade >= 80:\n",
    "    print(\"A-\")\n",
    "elif grade <= 79 and grade >= 77:\n",
    "    print(\"B+\")\n",
    "elif grade <= 76 and grade >= 73:\n",
    "    print(\"B\")\n",
    "elif grade <= 72 and grade >= 70:\n",
    "    print(\"B-\")\n",
    "elif grade <= 69 and grade >= 67:\n",
    "    print(\"C+\")\n",
    "elif grade <= 66 and grade >= 63:\n",
    "    print(\"C\")\n",
    "elif grade <= 62 and grade >= 60:\n",
    "    print(\"C-\")\n",
    "elif grade <= 59 and grade > 0:\n",
    "    print(\"F\")\n",
    "else:\n",
    "    print(\"X\")"
   ]
  },
  {
   "cell_type": "code",
   "execution_count": 5,
   "id": "regional-supplement",
   "metadata": {},
   "outputs": [
    {
     "name": "stdout",
     "output_type": "stream",
     "text": [
      "A\n",
      "87883299\n",
      "295\n"
     ]
    }
   ],
   "source": [
    "c = input()\n",
    "num = input()\n",
    "  \n",
    "if c == \"A\":\n",
    "    first = \"10\"\n",
    "elif c == \"B\":\n",
    "    first = \"11\"\n",
    "elif c == \"C\":\n",
    "    first = \"12\"\n",
    "elif c == \"D\":\n",
    "    first = \"13\"\n",
    "elif c == \"E\":\n",
    "    first = \"14\"\n",
    "elif c == \"F\":\n",
    "    first = \"15\"\n",
    "elif c == \"G\":\n",
    "    first = \"16\"\n",
    "elif c == \"H\":\n",
    "    first = \"17\"\n",
    "elif c == \"I\":\n",
    "    first = \"34\"\n",
    "elif c == \"J\":\n",
    "    first = \"18\"\n",
    "elif c == \"K\":\n",
    "    first = \"19\"\n",
    "elif c == \"M\":\n",
    "    first = \"21\"\n",
    "elif c == \"N\":\n",
    "    first = \"22\"\n",
    "elif c == \"O\":\n",
    "    first = \"35\"\n",
    "elif c == \"P\":\n",
    "    first = \"23\"\n",
    "elif c == \"Q\":\n",
    "    first = \"24\"\n",
    "elif c == \"T\":\n",
    "    first = \"27\"\n",
    "elif c == \"U\":\n",
    "    first = \"28\"\n",
    "elif c == \"V\":\n",
    "    first = \"29\"\n",
    "elif c == \"W\":\n",
    "    first = \"32\"\n",
    "elif c == \"X\":\n",
    "    first = \"30\"\n",
    "else:\n",
    "    first = \"33\"\n",
    " \n",
    "id = first + num\n",
    "\n",
    "sum = int(id[0])*1 + int(id[1])*9 + int(id[2])*7 + int(id[3])*6 + int(id[4])*5 + int(id[5])*4 + int(id[6])*3 + int(id[7])*2 + int(id[8])*1 + int(id[9])*1\n",
    "      \n",
    "if (sum + 1*8) % 10 == 0:\n",
    "    print(\"Male\")\n",
    "else:\n",
    "    print(\"Female\")\n",
    "      \n"
   ]
  },
  {
   "cell_type": "code",
   "execution_count": 8,
   "id": "random-visiting",
   "metadata": {},
   "outputs": [
    {
     "name": "stdout",
     "output_type": "stream",
     "text": [
      "08,15,15,13,12\n",
      "資工系\n",
      "1\n"
     ]
    }
   ],
   "source": [
    "grade = input()\n",
    "deparment = input()\n",
    "  \n",
    "lst = grade.split(\",\")\n",
    "c = int(lst[0])\n",
    "e = int(lst[1])\n",
    "m = int(lst[2])\n",
    "sc = int(lst[3])\n",
    "s = int(lst[4])\n",
    "  \n",
    "if deparment == \"會計系\":\n",
    "    if c + e + m + sc >= 57 and c >= 15:\n",
    "        print(\"1\")\n",
    "    else:\n",
    "        print(\"0\")\n",
    "elif deparment == \"公衛系\":\n",
    "    if e + m + s >= 38:\n",
    "        print(\"1\")\n",
    "    else:\n",
    "        print(\"0\") \n",
    "elif deparment == \"經濟系\":\n",
    "    if sc + s >= 26 and m >= 15:\n",
    "        print(\"1\")\n",
    "    else:\n",
    "        print(\"0\")\n",
    "else:\n",
    "    if e + s >= 27 and m >= 15:\n",
    "        print(\"1\")\n",
    "    else:\n",
    "        print(\"0\")    \n"
   ]
  },
  {
   "cell_type": "code",
   "execution_count": 14,
   "id": "changing-ferry",
   "metadata": {},
   "outputs": [
    {
     "name": "stdout",
     "output_type": "stream",
     "text": [
      "22:40\n",
      "23:40\n",
      "Y\n",
      "20.0\n"
     ]
    }
   ],
   "source": [
    "intime = input()\n",
    "outtime = input()\n",
    "ntu = input()\n",
    "  \n",
    "inlst = intime.split(\":\")\n",
    "outlst = outtime.split(\":\")\n",
    "  \n",
    "inmin = int(inlst[0])*60 + int(inlst[1])\n",
    "outmin = int(outlst[0])*60 + int(outlst[1])\n",
    "minute = outmin - inmin\n",
    "  \n",
    "if ntu == \"Y\":\n",
    "    if minute < 30:\n",
    "        p = 0\n",
    "    else:\n",
    "        if minute % 30 == 0:\n",
    "            p = (minute / 30)*10\n",
    "        else:\n",
    "            p = (minute // 30 +1)*10\n",
    "else:\n",
    "    if minute % 30 == 0:\n",
    "        p = (minute / 30)*20\n",
    "    else:\n",
    "        p = (minute // 30 +1)*20\n",
    "\n",
    "price = int(p)\n",
    "print(price)\n",
    " "
   ]
  },
  {
   "cell_type": "code",
   "execution_count": null,
   "id": "unable-player",
   "metadata": {},
   "outputs": [],
   "source": []
  },
  {
   "cell_type": "code",
   "execution_count": null,
   "id": "strange-behavior",
   "metadata": {},
   "outputs": [],
   "source": []
  }
 ],
 "metadata": {
  "kernelspec": {
   "display_name": "Python 3",
   "language": "python",
   "name": "python3"
  },
  "language_info": {
   "codemirror_mode": {
    "name": "ipython",
    "version": 3
   },
   "file_extension": ".py",
   "mimetype": "text/x-python",
   "name": "python",
   "nbconvert_exporter": "python",
   "pygments_lexer": "ipython3",
   "version": "3.9.2"
  }
 },
 "nbformat": 4,
 "nbformat_minor": 5
}
