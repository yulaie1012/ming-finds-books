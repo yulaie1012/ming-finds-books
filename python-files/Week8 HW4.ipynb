{
 "cells": [
  {
   "cell_type": "code",
   "execution_count": 16,
   "id": "lonely-mission",
   "metadata": {},
   "outputs": [
    {
     "name": "stdout",
     "output_type": "stream",
     "text": [
      "50\n",
      "凱文 電腦 手機 錢包 鑰匙\n",
      "小明 電腦 手機 錢包 卡片 機車\n",
      "小美 香蕉 蘿蔔\n",
      "小華 電腦 手機 番茄\n",
      "end\n",
      "凱文 卡片 機車 番茄\n",
      "小明 鑰匙\n",
      "小美 \n",
      "小華 錢包 鑰匙 卡片 機車\n"
     ]
    }
   ],
   "source": [
    "#推薦系統\n",
    "\n",
    "percent = int(input()) * 0.01\n",
    "person_dict = {}\n",
    "ans_dict ={}\n",
    "\n",
    "while True:\n",
    "    person = input().split(\" \") # 是一個list喔\n",
    "    if person == [\"end\"]:\n",
    "        break\n",
    "    else:\n",
    "        goods_set = set()\n",
    "        goods_lst = []\n",
    "        for i in range(1, len(person)):\n",
    "            goods_set.add(person[i])\n",
    "            goods_lst.append(person[i])\n",
    "        person_dict[person[0]] = [goods_set, goods_lst] \n",
    "        # key = 人名；value = list[商品的set, 商品的list](因為後面要按出現順序排序所以要多生一個list QQ)\n",
    "            \n",
    "for name, goods in person_dict.items(): \n",
    "    ans_lst = []\n",
    "    for others, others_goods in person_dict.items(): #跟其他每個人比一次\n",
    "        \n",
    "        def place(a): #下面要用的辣個東東出現的先後順序\n",
    "            return others_goods[1].index(a)\n",
    "        \n",
    "        if name != others: # 先排除自己喔啾咪\n",
    "            if len(goods[0].intersection(others_goods[0])) / len(goods[0]) >= percent: # 兩個人商品的聯集的個數 / 辣個人商品的數量 要大於條件的比例\n",
    "                for j in sorted(list(others_goods[0].difference(goods[0])), key = place): # 別人有但我沒有的先用差集生出set，set再轉list排序\n",
    "                    if j not in ans_lst: # 沒有出現過的再加進答案集\n",
    "                        ans_lst.append(j)\n",
    "                    \n",
    "    ans_dict[name] = ans_lst # 名字對應答案商品!\n",
    "\n",
    "for ans_name, ans_goods in ans_dict.items(): #如果是空集合就print名字就好，有商品就正常print\n",
    "    if ans_goods == []:\n",
    "        print(ans_name)\n",
    "    else:\n",
    "        print(ans_name + \" \" + str(\" \".join(ans_goods)))"
   ]
  },
  {
   "cell_type": "code",
   "execution_count": null,
   "id": "reliable-milwaukee",
   "metadata": {},
   "outputs": [],
   "source": [
    "\n",
    "for name, goods in ans_dict.items():\n",
    "    print(name + \" \" + str(\" \".join(goods)))"
   ]
  }
 ],
 "metadata": {
  "kernelspec": {
   "display_name": "Python 3",
   "language": "python",
   "name": "python3"
  },
  "language_info": {
   "codemirror_mode": {
    "name": "ipython",
    "version": 3
   },
   "file_extension": ".py",
   "mimetype": "text/x-python",
   "name": "python",
   "nbconvert_exporter": "python",
   "pygments_lexer": "ipython3",
   "version": "3.9.2"
  }
 },
 "nbformat": 4,
 "nbformat_minor": 5
}
