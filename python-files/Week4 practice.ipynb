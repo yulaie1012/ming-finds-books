{
 "cells": [
  {
   "cell_type": "code",
   "execution_count": 16,
   "id": "defined-benefit",
   "metadata": {},
   "outputs": [
    {
     "name": "stdout",
     "output_type": "stream",
     "text": [
      "123 221 5\n",
      "[221, 5, 123]\n"
     ]
    }
   ],
   "source": [
    "#9-1：數字總和排序\n",
    "numlst = input().split(\" \")\n",
    "\n",
    "def total(numlst):\n",
    "    totallst = []\n",
    "    sums = 0\n",
    "    for nums in numlst:\n",
    "        for character in nums:\n",
    "            num = int(character)\n",
    "            sums += num\n",
    "\n",
    "    return sums\n",
    "\n",
    "ansstr = sorted(numlst, key = total)\n",
    "anslst = [int(ans) for ans in ansstr]\n",
    "print(anslst)\n"
   ]
  },
  {
   "cell_type": "code",
   "execution_count": 11,
   "id": "respiratory-cycling",
   "metadata": {},
   "outputs": [
    {
     "name": "stdout",
     "output_type": "stream",
     "text": [
      "123 221 5\n",
      "['123', '221', '5']\n",
      "[6, 5, 5]\n"
     ]
    }
   ],
   "source": [
    "numlst = input().split(\" \")\n",
    "\n",
    "totallst = []\n",
    "\n",
    "for nums in numlst:\n",
    "    sums = 0\n",
    "    for character in nums:\n",
    "        num = int(character)\n",
    "        sums += num\n",
    "    totallst.append(sums)\n",
    "print(numlst)\n",
    "print(totallst)"
   ]
  },
  {
   "cell_type": "code",
   "execution_count": 20,
   "id": "successful-lodge",
   "metadata": {},
   "outputs": [
    {
     "name": "stdout",
     "output_type": "stream",
     "text": [
      "apple btc python\n",
      "['btc', 'apple', 'python']\n"
     ]
    }
   ],
   "source": [
    "#9-2：字串反轉排序\n",
    "\n",
    "strlst = input().split(\" \")\n",
    "\n",
    "def reverse_str_sort(strlst):\n",
    "    for word in strlst:\n",
    "        reverse = word[::-1]\n",
    "    return reverse\n",
    "\n",
    "ansstr = sorted(strlst, key = reverse_str_sort)\n",
    "print(ansstr)"
   ]
  },
  {
   "cell_type": "code",
   "execution_count": 18,
   "id": "threaded-alexandria",
   "metadata": {},
   "outputs": [
    {
     "name": "stdout",
     "output_type": "stream",
     "text": [
      "apple btc python\n",
      "elppa\n",
      "ctb\n",
      "nohtyp\n"
     ]
    }
   ],
   "source": [
    "strlst = input().split(\" \")\n",
    "for word in strlst:\n",
    "    reverse = word[::-1]\n",
    "    print(reverse)"
   ]
  },
  {
   "cell_type": "code",
   "execution_count": 21,
   "id": "auburn-exemption",
   "metadata": {},
   "outputs": [
    {
     "name": "stdout",
     "output_type": "stream",
     "text": [
      "1\n",
      "1\n"
     ]
    }
   ],
   "source": [
    "#10-1：階乘\n",
    "\n",
    "def factorial(n):\n",
    "    if n == 0 or n == 1:\n",
    "        return 1\n",
    "    else:\n",
    "        return n * factorial(n - 1)\n",
    "    \n",
    "n = int(input())\n",
    "print(factorial(n))"
   ]
  },
  {
   "cell_type": "code",
   "execution_count": null,
   "id": "nuclear-upgrade",
   "metadata": {},
   "outputs": [],
   "source": [
    "#10-2：自訂費式數列\n",
    "\n",
    "def fibo(n):\n",
    "    if n == 0:\n",
    "        return 0\n",
    "    elif n == 1:\n",
    "        return 1\n",
    "    elif n == 2:\n",
    "        return 2\n",
    "    else:\n",
    "        return fibo(n - 1) + fibo(n - 2) + fibo(n - 3)\n",
    "    \n",
    "n = int(input())\n",
    "print(fibo(n))"
   ]
  },
  {
   "cell_type": "code",
   "execution_count": 47,
   "id": "metric-clearing",
   "metadata": {},
   "outputs": [
    {
     "name": "stdout",
     "output_type": "stream",
     "text": [
      "22200\n",
      "20022\n"
     ]
    }
   ],
   "source": [
    "#數字最小值排列\n",
    "\n",
    "def minnum(inputstr):\n",
    "\n",
    "    inputlst = []\n",
    "    for i in inputstr:\n",
    "        inputlst.append(i)\n",
    "        inputint = [int(j) for j in inputlst]\n",
    "    if min(inputint) != 0:\n",
    "        ans = sorted(inputlst)\n",
    "        \n",
    "    else:\n",
    "        nonzerolst = []\n",
    "        lenth = len(inputlst)\n",
    "        appear = inputlst.count(\"0\")\n",
    "        for ind in range(0, lenth):\n",
    "            if inputlst[ind] != \"0\":\n",
    "                nonzerolst.append(inputlst[ind])\n",
    "        ans = sorted(nonzerolst)\n",
    "        ans.insert(1, \"0\"*appear)\n",
    "    return \"\".join(ans)\n",
    "\n",
    "inputstr = input()\n",
    "print(minnum(inputstr))\n"
   ]
  },
  {
   "cell_type": "code",
   "execution_count": 46,
   "id": "declared-liver",
   "metadata": {},
   "outputs": [
    {
     "name": "stdout",
     "output_type": "stream",
     "text": [
      "22200\n",
      "2\n",
      "['2', '2', '2']\n",
      "['2', '00', '2', '2']\n"
     ]
    }
   ],
   "source": [
    "inputstr = input()\n",
    "inputlst = []\n",
    "for i in inputstr:\n",
    "    inputlst.append(i)\n",
    "    inputint = [int(j) for j in inputlst]\n",
    "if min(inputint) != 0:\n",
    "    ans = sorted(inputlst)\n",
    "        \n",
    "else:\n",
    "    nonzerolst = []\n",
    "    lenth = len(inputlst)\n",
    "    appear = inputlst.count(\"0\")\n",
    "    for ind in range(0, lenth):\n",
    "        if inputlst[ind] != \"0\":\n",
    "            nonzerolst.append(inputlst[ind])\n",
    "    ans = sorted(nonzerolst)\n",
    "    ans.insert(1, \"0\"*appear)\n",
    "    \n",
    "print(appear)\n",
    "print(nonzerolst)\n",
    "print(ans)\n",
    "\n"
   ]
  },
  {
   "cell_type": "code",
   "execution_count": 1,
   "id": "integrated-series",
   "metadata": {},
   "outputs": [
    {
     "ename": "SyntaxError",
     "evalue": "positional argument follows keyword argument (<ipython-input-1-8d94cb95bcaf>, line 45)",
     "output_type": "error",
     "traceback": [
      "\u001b[1;36m  File \u001b[1;32m\"<ipython-input-1-8d94cb95bcaf>\"\u001b[1;36m, line \u001b[1;32m45\u001b[0m\n\u001b[1;33m    anslst = sorted(datalst, key = building_name, years, housenums)\u001b[0m\n\u001b[1;37m                                                                  ^\u001b[0m\n\u001b[1;31mSyntaxError\u001b[0m\u001b[1;31m:\u001b[0m positional argument follows keyword argument\n"
     ]
    }
   ],
   "source": [
    "#停車位順位\n",
    "\n",
    "people = int(input())\n",
    "lst = []\n",
    "datalst = []\n",
    "\n",
    "for n in range(0,people):\n",
    "    lst.append(input())\n",
    "    \n",
    "for rowdata in lst:\n",
    "    data_split = rowdata.split(\" \")\n",
    "    datalst.append(data_split)\n",
    "    \n",
    "def building_name(datalst):\n",
    "    for data in datalst:\n",
    "        for building in data:\n",
    "            if data.index(building) == 2:\n",
    "                firstorder = building\n",
    "    return firstorder\n",
    "\n",
    "def years(datalst):\n",
    "    for data in datalst:\n",
    "        for yearstr in data:\n",
    "            year = int(yearstr)\n",
    "            if data.index(yearstr) == 2:\n",
    "                if year >= 10:\n",
    "                    secondorder = 1\n",
    "                elif year < 5:\n",
    "                    secondorder = 3\n",
    "                else:\n",
    "                    secondorder = 2\n",
    "    return secondorder        \n",
    "\n",
    "def housenums(datalst):\n",
    "    for data in datalst:\n",
    "        for housestr in data:\n",
    "            housenum = int(housestr)\n",
    "            if data.index(housestr) == 3:\n",
    "                if housenum % 2 != 0:\n",
    "                    thirdorder = 1\n",
    "                else:\n",
    "                    thirdorder = 2\n",
    "    return thirdorder\n",
    "\n",
    "anslst = sorted(datalst, key = building_name, years, housenums)\n",
    "for ans in anslst:\n",
    "    for name in ans:\n",
    "        if ans.index(name) == 1:\n",
    "            print(name)\n",
    "\n",
    "print(lst)\n",
    "print(datalst)"
   ]
  },
  {
   "cell_type": "code",
   "execution_count": 3,
   "id": "standard-hearing",
   "metadata": {},
   "outputs": [
    {
     "name": "stdout",
     "output_type": "stream",
     "text": [
      "13\n",
      "28207\n"
     ]
    }
   ],
   "source": [
    "#變形費式相乘\n",
    "\n",
    "def newfibo(x):\n",
    "    if x == 1:\n",
    "        return 1\n",
    "    elif x == 2:\n",
    "        return 2\n",
    "    elif x == 3:\n",
    "        return 3\n",
    "    elif x == 4:\n",
    "        return 4\n",
    "    else:\n",
    "        return newfibo(x - 1) + newfibo(x - 2) * 2 + newfibo(x - 3) * 3 + newfibo(x - 4) * 4 \n",
    "    \n",
    "x = int(input())\n",
    "print(newfibo(x))"
   ]
  },
  {
   "cell_type": "code",
   "execution_count": null,
   "id": "inclusive-opposition",
   "metadata": {},
   "outputs": [],
   "source": [
    "#二進位\n",
    "\n",
    "def to_binary(n):\n",
    "    ansstr = []\n",
    "    binary = bin(n)[2::]\n",
    "    for num in binary:\n",
    "        if ansstr == []:\n",
    "            ansstr.append(num)\n",
    "        elif num != ansstr[-1]:\n",
    "            ansstr.append(num)\n",
    "        else:\n",
    "            continue\n",
    "    ans = [int(i) for i in ansstr]\n",
    "    \n",
    "    return ans"
   ]
  },
  {
   "cell_type": "code",
   "execution_count": 11,
   "id": "specific-andrew",
   "metadata": {},
   "outputs": [
    {
     "name": "stdout",
     "output_type": "stream",
     "text": [
      "596350\n",
      "[1, 0, 1, 0, 1, 0, 1, 0, 1, 0]\n"
     ]
    }
   ],
   "source": [
    "n = int(input())\n",
    "\n",
    "ansstr = []\n",
    "binary = bin(n)[2::]\n",
    "for num in binary:\n",
    "    if ansstr == []:\n",
    "        ansstr.append(num)\n",
    "    elif num != ansstr[-1]:\n",
    "        ansstr.append(num)\n",
    "    else:\n",
    "        continue\n",
    "ans = [int(i) for i in ansstr]\n",
    "    \n",
    "print(ans)"
   ]
  },
  {
   "cell_type": "code",
   "execution_count": 7,
   "id": "spatial-stuart",
   "metadata": {},
   "outputs": [
    {
     "name": "stdout",
     "output_type": "stream",
     "text": [
      "1 2 3\n",
      "4 5 6\n",
      "7 8 9\n",
      "100\n",
      "10 11\n",
      "2\n",
      "0\n",
      "[0, 6, 15, 24, 100, 21, 2]\n",
      "4 100\n"
     ]
    }
   ],
   "source": [
    "#助教業績統計\n",
    "\n",
    "datalst = [\"0\"]\n",
    "\n",
    "while True:\n",
    "    data = input()\n",
    "    if data == \"0\":\n",
    "        break    \n",
    "    else:\n",
    "        datalst.append(data)\n",
    "        \n",
    "anslst = []\n",
    "for data in datalst:\n",
    "    timestr = data.split(\" \")\n",
    "    time = [int(i) for i in timestr]\n",
    "    sumtime = 0\n",
    "    for n in time:\n",
    "        sumtime += n\n",
    "    anslst.append(sumtime)\n",
    "    \n",
    "print(anslst.index(max(anslst)), max(anslst))\n"
   ]
  },
  {
   "cell_type": "code",
   "execution_count": 23,
   "id": "inclusive-pepper",
   "metadata": {},
   "outputs": [
    {
     "name": "stdout",
     "output_type": "stream",
     "text": [
      "10 100\n",
      "48 84\n",
      "S 8\n",
      "N 7\n",
      "W 8\n",
      "N 9\n",
      "S 10\n",
      "0\n",
      "40 82\n",
      "3120\n"
     ]
    }
   ],
   "source": [
    "#計程車費用\n",
    "\n",
    "\"\"\"處理輸入\"\"\"\n",
    "\n",
    "datalst = []\n",
    "while True:\n",
    "    data = input()\n",
    "    if data == \"0\":\n",
    "        break    \n",
    "    else:\n",
    "        datalst.append(data)\n",
    "        \n",
    "        \n",
    "moneystr = []\n",
    "placestr = []\n",
    "moneystr.append(datalst[0])\n",
    "datalst.remove(datalst[0])\n",
    "placestr.append(datalst[0])\n",
    "datalst.remove(datalst[0])\n",
    "\n",
    "moneylst = moneystr[0].split(\" \")\n",
    "placelst = placestr[0].split(\" \")\n",
    "money = [int(j) for j in moneylst]\n",
    "place = [int(i) for i in placelst]\n",
    "\n",
    "\"\"\"算移動、單方向最大距離\"\"\"\n",
    "sum_distance = 0\n",
    "Nlst = [0]\n",
    "Slst = [0]\n",
    "Wlst = [0]\n",
    "Elst = [0]\n",
    "\n",
    "for data in datalst:\n",
    "    move = data.split(\" \")\n",
    "    if move[0] == \"N\":\n",
    "        place[1] += int(move[1])\n",
    "        Nlst.append(int(move[1]))\n",
    "    elif move[0] == \"S\":\n",
    "        place[1] -= int(move[1])\n",
    "        Slst.append(int(move[1]))\n",
    "    elif move[0] == \"E\":\n",
    "        place[0] += int(move[1])\n",
    "        Wlst.append(int(move[1]))\n",
    "    elif move[0] == \"W\":\n",
    "        place[0] -= int(move[1])\n",
    "        Elst.append(int(move[1]))\n",
    "    sum_distance += int(move[1])\n",
    "    \n",
    "    \n",
    "\"\"\"算結果\"\"\"\n",
    "endpoint = [str(k) for k in place]\n",
    "direct_distance = max(Nlst) + max(Slst) + max(Wlst) + max(Elst)\n",
    "ans = sum_distance * money[0] + direct_distance * money[1]\n",
    "        \n",
    "print(\" \".join(endpoint))\n",
    "print(ans)"
   ]
  },
  {
   "cell_type": "code",
   "execution_count": null,
   "id": "protective-savage",
   "metadata": {},
   "outputs": [],
   "source": [
    "#小明去爬山\n",
    "\n",
    "route = int(input())\n",
    "\n",
    "for i in range(0,route):\n",
    "    area = int(input())\n",
    "    arealst.append(area)\n",
    "    for j in range(0, area):\n",
    "        "
   ]
  }
 ],
 "metadata": {
  "kernelspec": {
   "display_name": "Python 3",
   "language": "python",
   "name": "python3"
  },
  "language_info": {
   "codemirror_mode": {
    "name": "ipython",
    "version": 3
   },
   "file_extension": ".py",
   "mimetype": "text/x-python",
   "name": "python",
   "nbconvert_exporter": "python",
   "pygments_lexer": "ipython3",
   "version": "3.9.2"
  }
 },
 "nbformat": 4,
 "nbformat_minor": 5
}
