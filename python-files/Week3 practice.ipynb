{
 "cells": [
  {
   "cell_type": "code",
   "execution_count": null,
   "id": "ranking-shade",
   "metadata": {},
   "outputs": [],
   "source": [
    "l = int(input())\n",
    "w = int(input())\n",
    "\n",
    "for width in range(1, w+1):\n",
    "    \n",
    "    for lenth in range(1, l+1):\n",
    "        print(\"*\", end = \"\")\n",
    "    print(\"\")    "
   ]
  },
  {
   "cell_type": "code",
   "execution_count": null,
   "id": "governmental-scheduling",
   "metadata": {},
   "outputs": [],
   "source": [
    "l = int(input())\n",
    "w = int(input())\n",
    "\n",
    "\n",
    "if l == 1 and w >= 1:\n",
    "    if w % 2 == 0:\n",
    "        for width in range(1, int((w+2)/2)):\n",
    "            print(\"+\")\n",
    "            print(\"-\")\n",
    "    else:\n",
    "        for width in range(1, int((w+2)/2)):\n",
    "            print(\"+\")\n",
    "            print(\"-\")\n",
    "        print(\"+\")\n",
    "else:\n",
    "    if l % 2 == 0:\n",
    "        for width in range(1, w+1):\n",
    "            print(\"+-\"*int(l/2))\n",
    "    else:\n",
    "        if w % 2 == 0:\n",
    "            for width in range(1, int((w+2)/2)):\n",
    "                print(\"+-\"*int((l-1)/2) + \"+\")\n",
    "                print(\"-+\"*int((l-1)/2) + \"-\")\n",
    "        else:\n",
    "            if w == 1:\n",
    "                print(\"+-\"*int((l-1)/2) + \"+\")\n",
    "            else:\n",
    "                for width in range(1, int((w+2)/2)):\n",
    "                    print(\"+-\"*int((l-1)/2) + \"+\")\n",
    "                    print(\"-+\"*int((l-1)/2) + \"-\")\n",
    "                print(\"+-\"*int((l-1)/2) + \"+\")\n",
    "    "
   ]
  },
  {
   "cell_type": "code",
   "execution_count": null,
   "id": "involved-shore",
   "metadata": {},
   "outputs": [],
   "source": [
    "l = int(input())\n",
    "w = int(input())\n",
    "line = \"+\"\n",
    "\n",
    "for width in range(1, w+1): \n",
    "    for lenth in range(1, l+1):\n",
    "        if len(line) < l:\n",
    "            line = line + \"-\"\n",
    "        else:\n",
    "        print(\"-\", end = \"\")"
   ]
  },
  {
   "cell_type": "code",
   "execution_count": 23,
   "id": "statistical-blanket",
   "metadata": {},
   "outputs": [
    {
     "name": "stdout",
     "output_type": "stream",
     "text": [
      "-1 2 -3 4 -5\n",
      "[-2, -6, -12, -20]\n",
      "-2\n"
     ]
    }
   ],
   "source": [
    "def max_mul(l):\n",
    "    numstr = nums.split(\" \")\n",
    "    numlst = [int(n) for n in numstr]\n",
    "    product = 0\n",
    "    anslst = []\n",
    "    if len(numlst) == 1:\n",
    "        product = numlst[0]\n",
    "        anslst.append(product)\n",
    "    else:\n",
    "        for i in range(len(numlst) - 1):\n",
    "                product = numlst[i] * numlst[(i + 1)]\n",
    "                anslst.append(product)\n",
    "    return anslst\n",
    "\n",
    "nums = input()\n",
    "ans = max(max_mul(nums))\n",
    "print(max_mul(nums))\n",
    "print(ans)"
   ]
  },
  {
   "cell_type": "code",
   "execution_count": 24,
   "id": "figured-intranet",
   "metadata": {},
   "outputs": [
    {
     "name": "stdout",
     "output_type": "stream",
     "text": [
      "apple python Plasma\n",
      "python\n"
     ]
    }
   ],
   "source": [
    "def longest_str(l):\n",
    "    wordlst = words.split(\" \")\n",
    "    lenth = 0\n",
    "    longest = 0\n",
    "    for i in wordlst:\n",
    "        if len(i) > lenth:\n",
    "            lenth = len(i)\n",
    "            longest = i\n",
    "    return longest\n",
    "    \n",
    "words = input()\n",
    "print(longest_str(words))"
   ]
  },
  {
   "cell_type": "code",
   "execution_count": 26,
   "id": "closed-geography",
   "metadata": {},
   "outputs": [
    {
     "name": "stdout",
     "output_type": "stream",
     "text": [
      "40 50 90\n",
      "60\n",
      "[False, False, True]\n"
     ]
    }
   ],
   "source": [
    "def threshold(l, t):\n",
    "    numstr = nums.split(\" \")\n",
    "    numlst = [int(n) for n in numstr]\n",
    "    anslst = []\n",
    "    for i in numlst:\n",
    "        anslst.append(bool(i >= compare))\n",
    "        \n",
    "    return anslst\n",
    "    \n",
    "nums = input()\n",
    "compare = int(input())\n",
    "print(threshold(nums, compare))\n",
    "    "
   ]
  },
  {
   "cell_type": "code",
   "execution_count": 2,
   "id": "graduate-ethnic",
   "metadata": {
    "scrolled": true
   },
   "outputs": [
    {
     "name": "stdout",
     "output_type": "stream",
     "text": [
      "2 4 12\n",
      "4 6 24\n",
      "[2, 2, 12]\n"
     ]
    }
   ],
   "source": [
    "def gcd(l1, l2):\n",
    "    numstr1 = l1.split(\" \")\n",
    "    numstr2 = l2.split(\" \")\n",
    "    lst1 = [int(n) for n in numstr1]\n",
    "    lst2 = [int(m) for m in numstr2]\n",
    "    flst = []\n",
    "    \n",
    "    for num1 in lst1:\n",
    "        for num2 in lst2:\n",
    "            if lst1.index(num1) == lst2.index(num2):\n",
    "                if num1 >= num2:\n",
    "                    largest = num2\n",
    "                else:\n",
    "                    largest = num1\n",
    "                for i in range(1, largest + 1):\n",
    "                    if num1 % i == 0 and num2 % i == 0:\n",
    "                        biggestf = i\n",
    "                    else:\n",
    "                        biggestf = biggestf\n",
    "                flst.append(biggestf)\n",
    "            else:\n",
    "                continue\n",
    "    return flst\n",
    "    \n",
    "    \n",
    "l1 = input()\n",
    "l2 = input()\n",
    "print(gcd(l1, l2))"
   ]
  },
  {
   "cell_type": "code",
   "execution_count": 11,
   "id": "novel-ukraine",
   "metadata": {},
   "outputs": [
    {
     "name": "stdout",
     "output_type": "stream",
     "text": [
      "6 28 426\n",
      "28.0\n"
     ]
    }
   ],
   "source": [
    "nums = input() \n",
    "numstr = nums.split(\" \")\n",
    "lst = [int(n) for n in numstr]\n",
    "\n",
    "middle = len(lst)\n",
    "\n",
    "if middle % 2 == 0:\n",
    "    left = middle // 2 - 1\n",
    "    right = middle // 2\n",
    "    ans = float((lst[left] + lst[right]) / 2)\n",
    "else:\n",
    "    ans = float(numstr[int(middle / 2)])\n",
    "    \n",
    "print(ans)"
   ]
  },
  {
   "cell_type": "code",
   "execution_count": 12,
   "id": "lined-merit",
   "metadata": {},
   "outputs": [
    {
     "name": "stdout",
     "output_type": "stream",
     "text": [
      "APPLE\n",
      "apple\n"
     ]
    }
   ],
   "source": [
    "word = input()\n",
    "\n",
    "if word.islower() == True:\n",
    "    print(word.upper())\n",
    "else:\n",
    "    print(word.lower())"
   ]
  },
  {
   "cell_type": "code",
   "execution_count": null,
   "id": "stupid-ecuador",
   "metadata": {},
   "outputs": [],
   "source": [
    "num1 = int(input())\n",
    "num2 = int(input())\n",
    "\n",
    "if num1 % 2 != 0 and num2 % 2 != 0:\n",
    "    print(num1 - num2)\n",
    "elif num1 % 2 == 0 and num2 % 2 == 0:\n",
    "    print(num1 + num2)\n",
    "else:\n",
    "    print(num1 * num2)"
   ]
  },
  {
   "cell_type": "code",
   "execution_count": 11,
   "id": "matched-atmosphere",
   "metadata": {},
   "outputs": [
    {
     "name": "stdout",
     "output_type": "stream",
     "text": [
      "ccClub\n",
      "61743\n",
      "iiJpx"
     ]
    }
   ],
   "source": [
    "word = input()\n",
    "num = str(input())\n",
    "newnumlst = []\n",
    "\n",
    "for i in word:\n",
    "    code = ord(i)\n",
    "    for n in num:\n",
    "        if word.index(i) == num.index(n):\n",
    "            newnum = code + int(n)\n",
    "            newnumlst.append(newnum)\n",
    "        else:\n",
    "            continue\n",
    "            \n",
    "for k in newnumlst:\n",
    "    ans = chr(k)\n",
    "    print(ans, end = \"\")\n",
    "\n",
    "\n",
    "    "
   ]
  },
  {
   "cell_type": "code",
   "execution_count": 11,
   "id": "random-conjunction",
   "metadata": {},
   "outputs": [
    {
     "name": "stdout",
     "output_type": "stream",
     "text": [
      "2 4 6\n",
      "4 8 12\n"
     ]
    },
    {
     "ename": "UnboundLocalError",
     "evalue": "local variable 'biggestf' referenced before assignment",
     "output_type": "error",
     "traceback": [
      "\u001b[1;31m---------------------------------------------------------------------------\u001b[0m",
      "\u001b[1;31mUnboundLocalError\u001b[0m                         Traceback (most recent call last)",
      "\u001b[1;32m<ipython-input-11-11d8d2680420>\u001b[0m in \u001b[0;36m<module>\u001b[1;34m\u001b[0m\n\u001b[0;32m     21\u001b[0m \u001b[0mnums1\u001b[0m \u001b[1;33m=\u001b[0m \u001b[0minput\u001b[0m\u001b[1;33m(\u001b[0m\u001b[1;33m)\u001b[0m\u001b[1;33m\u001b[0m\u001b[1;33m\u001b[0m\u001b[0m\n\u001b[0;32m     22\u001b[0m \u001b[0mnums2\u001b[0m \u001b[1;33m=\u001b[0m \u001b[0minput\u001b[0m\u001b[1;33m(\u001b[0m\u001b[1;33m)\u001b[0m\u001b[1;33m\u001b[0m\u001b[1;33m\u001b[0m\u001b[0m\n\u001b[1;32m---> 23\u001b[1;33m \u001b[0mprint\u001b[0m\u001b[1;33m(\u001b[0m\u001b[0mgcd\u001b[0m\u001b[1;33m(\u001b[0m\u001b[0mnums1\u001b[0m\u001b[1;33m,\u001b[0m \u001b[0mnums2\u001b[0m\u001b[1;33m)\u001b[0m\u001b[1;33m)\u001b[0m\u001b[1;33m\u001b[0m\u001b[1;33m\u001b[0m\u001b[0m\n\u001b[0m",
      "\u001b[1;32m<ipython-input-11-11d8d2680420>\u001b[0m in \u001b[0;36mgcd\u001b[1;34m(l1, l2)\u001b[0m\n\u001b[0;32m     14\u001b[0m             \u001b[1;32melse\u001b[0m\u001b[1;33m:\u001b[0m\u001b[1;33m\u001b[0m\u001b[1;33m\u001b[0m\u001b[0m\n\u001b[0;32m     15\u001b[0m                 \u001b[0mbiggestf\u001b[0m \u001b[1;33m=\u001b[0m \u001b[0mbiggestf\u001b[0m\u001b[1;33m\u001b[0m\u001b[1;33m\u001b[0m\u001b[0m\n\u001b[1;32m---> 16\u001b[1;33m         \u001b[0mflst\u001b[0m\u001b[1;33m.\u001b[0m\u001b[0mappend\u001b[0m\u001b[1;33m(\u001b[0m\u001b[0mbiggestf\u001b[0m\u001b[1;33m)\u001b[0m\u001b[1;33m\u001b[0m\u001b[1;33m\u001b[0m\u001b[0m\n\u001b[0m\u001b[0;32m     17\u001b[0m \u001b[1;33m\u001b[0m\u001b[0m\n\u001b[0;32m     18\u001b[0m     \u001b[1;32mreturn\u001b[0m \u001b[0mflst\u001b[0m\u001b[1;33m\u001b[0m\u001b[1;33m\u001b[0m\u001b[0m\n",
      "\u001b[1;31mUnboundLocalError\u001b[0m: local variable 'biggestf' referenced before assignment"
     ]
    }
   ],
   "source": []
  },
  {
   "cell_type": "code",
   "execution_count": null,
   "id": "published-fluid",
   "metadata": {},
   "outputs": [],
   "source": []
  }
 ],
 "metadata": {
  "kernelspec": {
   "display_name": "Python 3",
   "language": "python",
   "name": "python3"
  },
  "language_info": {
   "codemirror_mode": {
    "name": "ipython",
    "version": 3
   },
   "file_extension": ".py",
   "mimetype": "text/x-python",
   "name": "python",
   "nbconvert_exporter": "python",
   "pygments_lexer": "ipython3",
   "version": "3.9.2"
  }
 },
 "nbformat": 4,
 "nbformat_minor": 5
}
