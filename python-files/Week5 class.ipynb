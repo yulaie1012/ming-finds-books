{
 "cells": [
  {
   "cell_type": "code",
   "execution_count": 1,
   "id": "molecular-dover",
   "metadata": {},
   "outputs": [
    {
     "name": "stdout",
     "output_type": "stream",
     "text": [
      "12\n",
      "2\n"
     ]
    }
   ],
   "source": [
    "#奇偶遞迴\n",
    "def fibo(x):\n",
    "    if x == 1:\n",
    "        return 1\n",
    "    elif x % 2 != 0:\n",
    "        return fibo((x - 1) / 2) + fibo((x + 1) / 2)\n",
    "    else:\n",
    "        return fibo(x / 2)\n",
    "    \n",
    "x = int(input())\n",
    "print(fibo(x))"
   ]
  },
  {
   "cell_type": "code",
   "execution_count": 1,
   "id": "possible-current",
   "metadata": {},
   "outputs": [
    {
     "name": "stdout",
     "output_type": "stream",
     "text": [
      "abd\n",
      "d\n",
      "e\n",
      "abd-d-e\n"
     ]
    }
   ],
   "source": [
    "#不知道要輸入幾行\n",
    "\n",
    "strlst = []\n",
    "while True:\n",
    "    try:\n",
    "        string = input()\n",
    "        strlst.append(string)\n",
    "    except:\n",
    "        break\n",
    "    \n",
    "print(\"-\".join(strlst))\n",
    "        "
   ]
  },
  {
   "cell_type": "code",
   "execution_count": 24,
   "id": "dimensional-roberts",
   "metadata": {},
   "outputs": [
    {
     "name": "stdout",
     "output_type": "stream",
     "text": [
      "709 499 875 796 614\n",
      "[875796709614499]\n",
      "['614', '875', '709', '796', '499']\n"
     ]
    }
   ],
   "source": [
    "#數字組合最大值排序\n",
    "\n",
    "inputlst = input().split(\" \")\n",
    "\n",
    "def maximum(num):\n",
    "    anslst = []\n",
    "    numlst = []\n",
    "    for i in num:\n",
    "        numlst.append(i)\n",
    "        numint = [int(j) for j in numlst]\n",
    "    down = sorted(numint, reverse = True)\n",
    "    biggest = [str(n) for n in down]\n",
    "    ans = int(\"\".join(biggest))\n",
    "    anslst.append(ans)\n",
    "    ans = []\n",
    "    return anslst\n",
    "\n",
    "\n",
    "print(sorted(inputlst, key = maximum))\n"
   ]
  },
  {
   "cell_type": "code",
   "execution_count": 23,
   "id": "chubby-violation",
   "metadata": {},
   "outputs": [
    {
     "name": "stdout",
     "output_type": "stream",
     "text": [
      "[4]\n",
      "[4, 7]\n",
      "[4, 7, 0]\n"
     ]
    },
    {
     "data": {
      "text/plain": [
       "[740]"
      ]
     },
     "execution_count": 23,
     "metadata": {},
     "output_type": "execute_result"
    }
   ],
   "source": [
    "def maximum(num):\n",
    "    anslst = []\n",
    "    numlst = []\n",
    "    for i in num:\n",
    "        numlst.append(i)\n",
    "        numint = [int(j) for j in numlst]\n",
    "        print(numint)\n",
    "    down = sorted(numint, reverse = True)\n",
    "    biggest = [str(n) for n in down]\n",
    "    ans = int(\"\".join(biggest))\n",
    "    anslst.append(ans)\n",
    "    ans = []\n",
    "    return anslst\n",
    "maximum('470')"
   ]
  },
  {
   "cell_type": "code",
   "execution_count": null,
   "id": "peaceful-soviet",
   "metadata": {},
   "outputs": [],
   "source": [
    "#小明爬樓梯\n",
    "\n",
    "stair = int(input())\n",
    "stairs = [0, 1, 2]\n",
    "\n",
    "for i in range(3, stair + 1):\n",
    "    stairs.append(stairs[-1] + stairs[-2])\n",
    "print(stairs[stair])\n"
   ]
  }
 ],
 "metadata": {
  "kernelspec": {
   "display_name": "Python 3",
   "language": "python",
   "name": "python3"
  },
  "language_info": {
   "codemirror_mode": {
    "name": "ipython",
    "version": 3
   },
   "file_extension": ".py",
   "mimetype": "text/x-python",
   "name": "python",
   "nbconvert_exporter": "python",
   "pygments_lexer": "ipython3",
   "version": "3.9.2"
  }
 },
 "nbformat": 4,
 "nbformat_minor": 5
}
