{
 "cells": [
  {
   "cell_type": "code",
   "execution_count": null,
   "id": "biblical-feedback",
   "metadata": {},
   "outputs": [],
   "source": [
    "#綜合1-4：括號合法\n",
    "\n",
    "lst = []\n",
    "for i in input():\n",
    "    lst.append(i)\n",
    "    \n"
   ]
  },
  {
   "cell_type": "code",
   "execution_count": null,
   "id": "better-million",
   "metadata": {},
   "outputs": [],
   "source": [
    "#書碼編輯 II\n",
    "\n",
    "import json\n",
    "datadic = json.load(input())\n",
    "\n",
    "for book,numberlst in datadic.items():\n",
    "    for number in numberlst:\n",
    "        \n"
   ]
  }
 ],
 "metadata": {
  "kernelspec": {
   "display_name": "Python 3",
   "language": "python",
   "name": "python3"
  },
  "language_info": {
   "codemirror_mode": {
    "name": "ipython",
    "version": 3
   },
   "file_extension": ".py",
   "mimetype": "text/x-python",
   "name": "python",
   "nbconvert_exporter": "python",
   "pygments_lexer": "ipython3",
   "version": "3.9.2"
  }
 },
 "nbformat": 4,
 "nbformat_minor": 5
}
