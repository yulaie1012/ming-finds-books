{
 "cells": [
  {
   "cell_type": "code",
   "execution_count": 2,
   "id": "adopted-south",
   "metadata": {},
   "outputs": [
    {
     "name": "stdout",
     "output_type": "stream",
     "text": [
      "I 電腦 computer\n",
      "C 電腦\n",
      "E computer\n",
      "C 大腦\n",
      "E brain\n",
      "I 電腦 computer\n",
      "Q\n",
      "[succeed]\n",
      "computer\n",
      "電腦\n",
      "[fail]\n",
      "[fail]\n",
      "[fail]\n"
     ]
    }
   ],
   "source": [
    "#小明的單字卡 Accepted\n",
    "\n",
    "orderlst = []\n",
    "while True:\n",
    "    order = input()\n",
    "    if order == \"Q\":\n",
    "        break    \n",
    "    else:\n",
    "        orderlst.append(order)\n",
    "        \n",
    "dict_toE = {}\n",
    "dict_toC = {}\n",
    "\n",
    "for order in orderlst:\n",
    "    order = order.split(\" \")\n",
    "    for i in range(0, len(order)):\n",
    "        if i == 0:\n",
    "            if order[i] == \"I\":\n",
    "                if order[1] in dict_toE and order[2] in dict_toC:\n",
    "                    print(\"[fail]\")\n",
    "                else:\n",
    "                    dict_toE[order[1]] = order[2]\n",
    "                    dict_toC[order[2]] = order[1]\n",
    "                    print(\"[succeed]\")\n",
    "            elif order[i] == \"C\":\n",
    "                print(dict_toE.get(order[1], \"[fail]\"))\n",
    "            elif order[i] == \"E\":\n",
    "                print(dict_toC.get(order[1], \"[fail]\"))\n",
    "                \n",
    "                "
   ]
  },
  {
   "cell_type": "code",
   "execution_count": 6,
   "id": "absent-string",
   "metadata": {
    "scrolled": true
   },
   "outputs": [
    {
     "name": "stdout",
     "output_type": "stream",
     "text": [
      "3\n",
      "Kevin Wei\n",
      "Wayne Huang\n",
      "Toby Lee\n",
      "Kevin Wayne Kevin Toby Wayne Toby Wayne Kevin Kevin\n",
      "Wei Huang Wei Lee Huang Lee Huang Wei Wei "
     ]
    }
   ],
   "source": [
    "#神奇翻譯機 Accepted\n",
    "\n",
    "line = int(input())\n",
    "\n",
    "sourcelst = []\n",
    "for i in range(0, line):\n",
    "    sourcelst.append(input().split(\" \"))\n",
    "    \n",
    "anslst = input().split(\" \")\n",
    "\n",
    "dictionary = {}\n",
    "for source in sourcelst:\n",
    "    dictionary[source[0]] = source[1]\n",
    "    \n",
    "for ans in anslst:\n",
    "    print(dictionary.get(ans), end = \" \")\n",
    "    "
   ]
  },
  {
   "cell_type": "code",
   "execution_count": null,
   "id": "premium-beauty",
   "metadata": {},
   "outputs": [],
   "source": [
    "#書碼編輯\n",
    "\n",
    "booklst = []\n",
    "while True:\n",
    "    book = input()\n",
    "    if book == \"0\":\n",
    "        break    \n",
    "    else:\n",
    "        booklst.append(book)\n",
    "\n",
    "dict_book = {}\n",
    "for i in range(0, len(booklst)):\n",
    "    if dict_book.get(book[i]) == None:\n",
    "        dict_book[book[i]] = [\"00\" + str(len(dict_book) + 1) + \"同書名進館藏的順序\" + \"00\" + str(i)]\n",
    "    elif book[i]\n",
    "        "
   ]
  },
  {
   "cell_type": "code",
   "execution_count": 9,
   "id": "finished-gather",
   "metadata": {},
   "outputs": [
    {
     "name": "stdout",
     "output_type": "stream",
     "text": [
      "a,a,c,b,a\n",
      "0\n",
      "0\n",
      "2\n",
      "3\n",
      "0\n",
      "{'b', 'c', 'a'}\n"
     ]
    }
   ],
   "source": [
    "#字母麥片\n",
    "\n",
    "alphabetlst = input().split(\",\")\n",
    "\n",
    "for i in alphabetlst:\n",
    "    print(alphabetlst.index(i))\n"
   ]
  },
  {
   "cell_type": "code",
   "execution_count": null,
   "id": "judicial-wedding",
   "metadata": {},
   "outputs": [],
   "source": []
  }
 ],
 "metadata": {
  "kernelspec": {
   "display_name": "Python 3",
   "language": "python",
   "name": "python3"
  },
  "language_info": {
   "codemirror_mode": {
    "name": "ipython",
    "version": 3
   },
   "file_extension": ".py",
   "mimetype": "text/x-python",
   "name": "python",
   "nbconvert_exporter": "python",
   "pygments_lexer": "ipython3",
   "version": "3.9.2"
  }
 },
 "nbformat": 4,
 "nbformat_minor": 5
}
