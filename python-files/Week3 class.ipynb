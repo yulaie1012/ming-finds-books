{
 "cells": [
  {
   "cell_type": "code",
   "execution_count": 6,
   "id": "divided-dealer",
   "metadata": {},
   "outputs": [
    {
     "name": "stdout",
     "output_type": "stream",
     "text": [
      "1\n",
      "1\n"
     ]
    }
   ],
   "source": [
    "layer = int(input())\n",
    "num = 0\n",
    "\n",
    "for i in range(1, layer + 1):\n",
    "    num += i**2\n",
    "    \n",
    "print(num)\n",
    "\n"
   ]
  },
  {
   "cell_type": "code",
   "execution_count": 22,
   "id": "inclusive-observation",
   "metadata": {},
   "outputs": [
    {
     "name": "stdout",
     "output_type": "stream",
     "text": [
      "1,2,3,4\n",
      "False\n"
     ]
    }
   ],
   "source": [
    "nums = input()\n",
    "strlst = nums.split(\",\")\n",
    "numlst = [float(i) for i in strlst]\n",
    "\n",
    "sum_all = 0.0\n",
    "left = 0.0\n",
    "\n",
    "for num in numlst:\n",
    "    sum_all += num \n",
    "    \n",
    "right = float(sum_all)\n",
    "    \n",
    "for num in numlst:\n",
    "    right -= num\n",
    "    left += num\n",
    "    if right == left:\n",
    "        break\n",
    "    else:\n",
    "        continue\n",
    "\n",
    "if right == left:\n",
    "    print(\"True\")\n",
    "else:\n",
    "    print(\"False\")"
   ]
  },
  {
   "cell_type": "code",
   "execution_count": null,
   "id": "premier-breakfast",
   "metadata": {},
   "outputs": [],
   "source": [
    "nums = input()\n",
    "strlst = nums.split(\",\")\n",
    "numlst = [int(i) for i in strlst]\n",
    "getlst = []\n",
    "get = 0\n",
    "\n",
    "for num in numlst[0:1]:\n",
    "    get = numlst[0] + numlst[1]\n",
    "    getlst.append(get)  \n",
    "for num in numlst[0:-2]:\n",
    "    get = numlst[(num - 1)] + numlst[num] + numlst[(num + 1)]\n",
    "    getlst.append(get)\n",
    "for num in numlst[-2:-1]:\n",
    "    get = numlst[(num - 1)] + numlst[num]\n",
    "    getlst.append(get)  \n",
    "\n",
    "ans = str(max(getlst))\n",
    "anslst = [str(a) for a in getlst]\n",
    "\n",
    "print(anslst.index(ans))\n",
    "    "
   ]
  },
  {
   "cell_type": "code",
   "execution_count": 4,
   "id": "animated-jersey",
   "metadata": {},
   "outputs": [
    {
     "name": "stdout",
     "output_type": "stream",
     "text": [
      "1\n",
      "0\n"
     ]
    },
    {
     "ename": "ValueError",
     "evalue": "max() arg is an empty sequence",
     "output_type": "error",
     "traceback": [
      "\u001b[1;31m---------------------------------------------------------------------------\u001b[0m",
      "\u001b[1;31mValueError\u001b[0m                                Traceback (most recent call last)",
      "\u001b[1;32m<ipython-input-4-6ff01cf194e0>\u001b[0m in \u001b[0;36m<module>\u001b[1;34m\u001b[0m\n\u001b[0;32m     20\u001b[0m \u001b[1;33m\u001b[0m\u001b[0m\n\u001b[0;32m     21\u001b[0m \u001b[1;33m\u001b[0m\u001b[0m\n\u001b[1;32m---> 22\u001b[1;33m \u001b[0mans\u001b[0m \u001b[1;33m=\u001b[0m \u001b[0mstr\u001b[0m\u001b[1;33m(\u001b[0m\u001b[0mmax\u001b[0m\u001b[1;33m(\u001b[0m\u001b[0mgetlst\u001b[0m\u001b[1;33m)\u001b[0m\u001b[1;33m)\u001b[0m\u001b[1;33m\u001b[0m\u001b[1;33m\u001b[0m\u001b[0m\n\u001b[0m\u001b[0;32m     23\u001b[0m \u001b[0manslst\u001b[0m \u001b[1;33m=\u001b[0m \u001b[1;33m[\u001b[0m\u001b[0mstr\u001b[0m\u001b[1;33m(\u001b[0m\u001b[0ma\u001b[0m\u001b[1;33m)\u001b[0m \u001b[1;32mfor\u001b[0m \u001b[0ma\u001b[0m \u001b[1;32min\u001b[0m \u001b[0mgetlst\u001b[0m\u001b[1;33m]\u001b[0m\u001b[1;33m\u001b[0m\u001b[1;33m\u001b[0m\u001b[0m\n\u001b[0;32m     24\u001b[0m \u001b[1;33m\u001b[0m\u001b[0m\n",
      "\u001b[1;31mValueError\u001b[0m: max() arg is an empty sequence"
     ]
    }
   ],
   "source": [
    "nums = input()\n",
    "strlst = nums.split(\",\")\n",
    "numlst = [int(i) for i in strlst]\n",
    "getlst = []\n",
    "get = 0\n",
    "\n",
    "if len(numlst) == 1:\n",
    "    print(0)\n",
    "else:\n",
    "    for num in range(len(numlst)):\n",
    "        if num == 0:\n",
    "            get = numlst[num] + numlst[num + 1]\n",
    "            getlst.append(get) \n",
    "        elif num != 0 and num != (len(numlst) - 1):\n",
    "            get = numlst[(num - 1)] + numlst[num] + numlst[(num + 1)]\n",
    "            getlst.append(get)\n",
    "        else:\n",
    "            get = numlst[(num - 1)] + numlst[num]\n",
    "            getlst.append(get)  \n",
    "    ans = str(max(getlst))\n",
    "    anslst = [str(a) for a in getlst]\n",
    "    print(anslst.index(ans))\n",
    "    "
   ]
  },
  {
   "cell_type": "code",
   "execution_count": 11,
   "id": "invalid-credits",
   "metadata": {},
   "outputs": [
    {
     "name": "stdout",
     "output_type": "stream",
     "text": [
      "5 3 3 1\n",
      "0\n",
      "[3, 2, 3, 3]\n"
     ]
    }
   ],
   "source": [
    "runsec = input()\n",
    "strlst = runsec.split(\" \")\n",
    "seclst = [int(i) for i in strlst]\n",
    "indexlst = []\n",
    "ind = 0\n",
    "drop = 0\n",
    "\n",
    "while seclst != []:\n",
    "    for sec in seclst:\n",
    "        if sec == min(seclst):\n",
    "            ind = seclst.index(sec)\n",
    "            indexlst.append(ind)\n",
    "            seclst.remove(sec)\n",
    "            seclst.insert(ind, (max(seclst) + 1))\n",
    "        else:\n",
    "            continue\n",
    "        \n",
    "print(ind)\n",
    "print(indexlst)\n",
    "    "
   ]
  },
  {
   "cell_type": "code",
   "execution_count": 20,
   "id": "equivalent-insight",
   "metadata": {},
   "outputs": [
    {
     "name": "stdout",
     "output_type": "stream",
     "text": [
      "5 3 3 1\n",
      "6\n",
      "[3, 1, 2, 0, 0, 0, 0]\n",
      "3 1 2 0 "
     ]
    }
   ],
   "source": [
    "runsec = input()\n",
    "strlst = runsec.split(\" \")\n",
    "seclst = [int(i) for i in strlst]\n",
    "indexlst = []\n",
    "ind = 0\n",
    "drop = 0\n",
    "instead = max(seclst) + 1\n",
    "    \n",
    "for sec in seclst:\n",
    "    if min(seclst) < instead:\n",
    "        for sec in seclst:\n",
    "            if sec == min(seclst):\n",
    "                ind = seclst.index(sec)\n",
    "                indexlst.append(ind)\n",
    "                seclst.remove(sec)\n",
    "                seclst.insert(ind, instead)\n",
    "            else:\n",
    "                continue\n",
    "    else:\n",
    "        break\n",
    "        \n",
    "\n",
    "for n in range(0, len(seclst)):\n",
    "    print(indexlst[n], end = \" \")\n"
   ]
  },
  {
   "cell_type": "code",
   "execution_count": null,
   "id": "bacterial-stability",
   "metadata": {},
   "outputs": [],
   "source": []
  }
 ],
 "metadata": {
  "kernelspec": {
   "display_name": "Python 3",
   "language": "python",
   "name": "python3"
  },
  "language_info": {
   "codemirror_mode": {
    "name": "ipython",
    "version": 3
   },
   "file_extension": ".py",
   "mimetype": "text/x-python",
   "name": "python",
   "nbconvert_exporter": "python",
   "pygments_lexer": "ipython3",
   "version": "3.9.2"
  }
 },
 "nbformat": 4,
 "nbformat_minor": 5
}
