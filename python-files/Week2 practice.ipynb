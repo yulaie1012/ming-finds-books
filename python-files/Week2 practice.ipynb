{
 "cells": [
  {
   "cell_type": "code",
   "execution_count": 3,
   "id": "flying-concept",
   "metadata": {},
   "outputs": [
    {
     "name": "stdout",
     "output_type": "stream",
     "text": [
      "apple pen\n",
      "pineapple pen\n",
      "pen\n",
      "['apple', 'pen']\n",
      "['pineapple', 'pen']\n"
     ]
    }
   ],
   "source": [
    "x = input()\n",
    "y = input()\n",
    "z = input()\n",
    "  \n",
    "a = x.split()\n",
    "b = y.split()\n",
    "\n",
    "print(a)\n",
    "print(b)"
   ]
  },
  {
   "cell_type": "code",
   "execution_count": 1,
   "id": "municipal-commodity",
   "metadata": {},
   "outputs": [
    {
     "ename": "KeyboardInterrupt",
     "evalue": "Interrupted by user",
     "output_type": "error",
     "traceback": [
      "\u001b[1;31m---------------------------------------------------------------------------\u001b[0m",
      "\u001b[1;31mKeyboardInterrupt\u001b[0m                         Traceback (most recent call last)",
      "\u001b[1;32m<ipython-input-1-2fd3606c9b53>\u001b[0m in \u001b[0;36m<module>\u001b[1;34m\u001b[0m\n\u001b[1;32m----> 1\u001b[1;33m \u001b[0mx\u001b[0m \u001b[1;33m=\u001b[0m \u001b[0minput\u001b[0m\u001b[1;33m(\u001b[0m\u001b[1;33m)\u001b[0m\u001b[1;33m\u001b[0m\u001b[1;33m\u001b[0m\u001b[0m\n\u001b[0m\u001b[0;32m      2\u001b[0m \u001b[0my\u001b[0m \u001b[1;33m=\u001b[0m \u001b[0minput\u001b[0m\u001b[1;33m(\u001b[0m\u001b[1;33m)\u001b[0m\u001b[1;33m\u001b[0m\u001b[1;33m\u001b[0m\u001b[0m\n\u001b[0;32m      3\u001b[0m \u001b[0mz\u001b[0m \u001b[1;33m=\u001b[0m \u001b[0minput\u001b[0m\u001b[1;33m(\u001b[0m\u001b[1;33m)\u001b[0m\u001b[1;33m\u001b[0m\u001b[1;33m\u001b[0m\u001b[0m\n\u001b[0;32m      4\u001b[0m \u001b[1;33m\u001b[0m\u001b[0m\n\u001b[0;32m      5\u001b[0m \u001b[0mlst1\u001b[0m \u001b[1;33m=\u001b[0m \u001b[0mx\u001b[0m\u001b[1;33m.\u001b[0m\u001b[0msplit\u001b[0m\u001b[1;33m(\u001b[0m\u001b[1;33m)\u001b[0m\u001b[1;33m\u001b[0m\u001b[1;33m\u001b[0m\u001b[0m\n",
      "\u001b[1;32mc:\\users\\88698\\appdata\\local\\programs\\python\\python39\\lib\\site-packages\\ipykernel\\kernelbase.py\u001b[0m in \u001b[0;36mraw_input\u001b[1;34m(self, prompt)\u001b[0m\n\u001b[0;32m    846\u001b[0m                 \u001b[1;34m\"raw_input was called, but this frontend does not support input requests.\"\u001b[0m\u001b[1;33m\u001b[0m\u001b[1;33m\u001b[0m\u001b[0m\n\u001b[0;32m    847\u001b[0m             )\n\u001b[1;32m--> 848\u001b[1;33m         return self._input_request(str(prompt),\n\u001b[0m\u001b[0;32m    849\u001b[0m             \u001b[0mself\u001b[0m\u001b[1;33m.\u001b[0m\u001b[0m_parent_ident\u001b[0m\u001b[1;33m,\u001b[0m\u001b[1;33m\u001b[0m\u001b[1;33m\u001b[0m\u001b[0m\n\u001b[0;32m    850\u001b[0m             \u001b[0mself\u001b[0m\u001b[1;33m.\u001b[0m\u001b[0m_parent_header\u001b[0m\u001b[1;33m,\u001b[0m\u001b[1;33m\u001b[0m\u001b[1;33m\u001b[0m\u001b[0m\n",
      "\u001b[1;32mc:\\users\\88698\\appdata\\local\\programs\\python\\python39\\lib\\site-packages\\ipykernel\\kernelbase.py\u001b[0m in \u001b[0;36m_input_request\u001b[1;34m(self, prompt, ident, parent, password)\u001b[0m\n\u001b[0;32m    890\u001b[0m             \u001b[1;32mexcept\u001b[0m \u001b[0mKeyboardInterrupt\u001b[0m\u001b[1;33m:\u001b[0m\u001b[1;33m\u001b[0m\u001b[1;33m\u001b[0m\u001b[0m\n\u001b[0;32m    891\u001b[0m                 \u001b[1;31m# re-raise KeyboardInterrupt, to truncate traceback\u001b[0m\u001b[1;33m\u001b[0m\u001b[1;33m\u001b[0m\u001b[1;33m\u001b[0m\u001b[0m\n\u001b[1;32m--> 892\u001b[1;33m                 \u001b[1;32mraise\u001b[0m \u001b[0mKeyboardInterrupt\u001b[0m\u001b[1;33m(\u001b[0m\u001b[1;34m\"Interrupted by user\"\u001b[0m\u001b[1;33m)\u001b[0m \u001b[1;32mfrom\u001b[0m \u001b[1;32mNone\u001b[0m\u001b[1;33m\u001b[0m\u001b[1;33m\u001b[0m\u001b[0m\n\u001b[0m\u001b[0;32m    893\u001b[0m             \u001b[1;32mexcept\u001b[0m \u001b[0mException\u001b[0m \u001b[1;32mas\u001b[0m \u001b[0me\u001b[0m\u001b[1;33m:\u001b[0m\u001b[1;33m\u001b[0m\u001b[1;33m\u001b[0m\u001b[0m\n\u001b[0;32m    894\u001b[0m                 \u001b[0mself\u001b[0m\u001b[1;33m.\u001b[0m\u001b[0mlog\u001b[0m\u001b[1;33m.\u001b[0m\u001b[0mwarning\u001b[0m\u001b[1;33m(\u001b[0m\u001b[1;34m\"Invalid Message:\"\u001b[0m\u001b[1;33m,\u001b[0m \u001b[0mexc_info\u001b[0m\u001b[1;33m=\u001b[0m\u001b[1;32mTrue\u001b[0m\u001b[1;33m)\u001b[0m\u001b[1;33m\u001b[0m\u001b[1;33m\u001b[0m\u001b[0m\n",
      "\u001b[1;31mKeyboardInterrupt\u001b[0m: Interrupted by user"
     ]
    }
   ],
   "source": [
    "x = input()\n",
    "y = input()\n",
    "z = input()\n",
    "  \n",
    "lst1 = x.split()\n",
    "lst2 = y.split()\n",
    "\n",
    "print(z in lst1)\n",
    "print(z in lst2)"
   ]
  },
  {
   "cell_type": "code",
   "execution_count": 3,
   "id": "random-anthony",
   "metadata": {},
   "outputs": [
    {
     "ename": "NameError",
     "evalue": "name 'x' is not defined",
     "output_type": "error",
     "traceback": [
      "\u001b[1;31m---------------------------------------------------------------------------\u001b[0m",
      "\u001b[1;31mNameError\u001b[0m                                 Traceback (most recent call last)",
      "\u001b[1;32m<ipython-input-3-ee3d8d19505f>\u001b[0m in \u001b[0;36m<module>\u001b[1;34m\u001b[0m\n\u001b[1;32m----> 1\u001b[1;33m \u001b[0mx\u001b[0m \u001b[1;33m=\u001b[0m \u001b[0mx\u001b[0m\u001b[1;33m.\u001b[0m\u001b[0msplit\u001b[0m\u001b[1;33m(\u001b[0m\u001b[1;33m[\u001b[0m\u001b[0minput\u001b[0m\u001b[1;33m(\u001b[0m\u001b[1;33m)\u001b[0m\u001b[1;33m]\u001b[0m\u001b[1;33m)\u001b[0m\u001b[1;33m\u001b[0m\u001b[1;33m\u001b[0m\u001b[0m\n\u001b[0m\u001b[0;32m      2\u001b[0m \u001b[0my\u001b[0m \u001b[1;33m=\u001b[0m \u001b[0my\u001b[0m\u001b[1;33m.\u001b[0m\u001b[0msplit\u001b[0m\u001b[1;33m(\u001b[0m\u001b[1;33m[\u001b[0m\u001b[0minput\u001b[0m\u001b[1;33m(\u001b[0m\u001b[1;33m)\u001b[0m\u001b[1;33m]\u001b[0m\u001b[1;33m)\u001b[0m\u001b[1;33m\u001b[0m\u001b[1;33m\u001b[0m\u001b[0m\n\u001b[0;32m      3\u001b[0m \u001b[0mz\u001b[0m \u001b[1;33m=\u001b[0m \u001b[0minput\u001b[0m\u001b[1;33m(\u001b[0m\u001b[1;33m)\u001b[0m\u001b[1;33m\u001b[0m\u001b[1;33m\u001b[0m\u001b[0m\n\u001b[0;32m      4\u001b[0m \u001b[1;33m\u001b[0m\u001b[0m\n\u001b[0;32m      5\u001b[0m \u001b[0mprint\u001b[0m\u001b[1;33m(\u001b[0m\u001b[0mz\u001b[0m \u001b[1;32min\u001b[0m \u001b[0mlst1\u001b[0m\u001b[1;33m)\u001b[0m\u001b[1;33m\u001b[0m\u001b[1;33m\u001b[0m\u001b[0m\n",
      "\u001b[1;31mNameError\u001b[0m: name 'x' is not defined"
     ]
    }
   ],
   "source": [
    "x = x.split([input()])\n",
    "y = y.split([input()])\n",
    "z = input()\n",
    "  \n",
    "print(z in lst1)\n",
    "print(z in lst2)"
   ]
  },
  {
   "cell_type": "code",
   "execution_count": 4,
   "id": "medieval-michigan",
   "metadata": {},
   "outputs": [
    {
     "name": "stdout",
     "output_type": "stream",
     "text": [
      "10\n",
      "1\n",
      "2\n"
     ]
    }
   ],
   "source": [
    "a = int(input())\n",
    "b = 1\n",
    "  \n",
    "while b <= a and a % b == 0:\n",
    "    print(b)\n",
    "    b += 1"
   ]
  },
  {
   "cell_type": "code",
   "execution_count": 5,
   "id": "dress-syndicate",
   "metadata": {},
   "outputs": [
    {
     "name": "stdout",
     "output_type": "stream",
     "text": [
      "10\n",
      "1\n",
      "2\n",
      "5\n",
      "10\n"
     ]
    }
   ],
   "source": [
    "a = int(input())\n",
    "b = 1\n",
    "  \n",
    "while b <= a:\n",
    "  if a % b == 0:\n",
    "    print(b)\n",
    "    b += 1\n",
    "  else:\n",
    "    b += 1"
   ]
  },
  {
   "cell_type": "code",
   "execution_count": 6,
   "id": "deluxe-diamond",
   "metadata": {},
   "outputs": [
    {
     "name": "stdout",
     "output_type": "stream",
     "text": [
      "9\n",
      "1\n",
      "4\n",
      "9\n",
      "16\n",
      "25\n",
      "36\n",
      "49\n",
      "64\n"
     ]
    }
   ],
   "source": [
    "a = int(input())\n",
    "b = 1\n",
    "  \n",
    "while b < a:\n",
    "  c = b**2\n",
    "  print(c)\n",
    "  b += 1"
   ]
  },
  {
   "cell_type": "code",
   "execution_count": 8,
   "id": "dutch-style",
   "metadata": {},
   "outputs": [
    {
     "name": "stdout",
     "output_type": "stream",
     "text": [
      "10\n"
     ]
    }
   ],
   "source": [
    "a = int(input())\n",
    "b = 1\n",
    "c == b**2\n",
    "  \n",
    "while c < a:\n",
    "  c = b**2\n",
    "  print(c)\n",
    "  b += 1"
   ]
  },
  {
   "cell_type": "code",
   "execution_count": 10,
   "id": "forward-blues",
   "metadata": {},
   "outputs": [
    {
     "name": "stdout",
     "output_type": "stream",
     "text": [
      "10\n",
      "1\n",
      "4\n",
      "9\n"
     ]
    }
   ],
   "source": [
    "a = int(input())\n",
    "b = 1\n",
    "  \n",
    "while b**2 < a:\n",
    "    c = b**2\n",
    "    print(c)\n",
    "    b += 1"
   ]
  },
  {
   "cell_type": "code",
   "execution_count": 15,
   "id": "studied-centre",
   "metadata": {},
   "outputs": [
    {
     "name": "stdout",
     "output_type": "stream",
     "text": [
      "Zoo\n",
      "0\n"
     ]
    }
   ],
   "source": [
    "str = input()\n",
    "alphabets = str.split()\n",
    "n = 0\n",
    "vowel = 0\n",
    "  \n",
    "for alphabet in alphabets:\n",
    "  if alphabet == \"A\" or alphabet == \"E\" or alphabet == \"I\" or alphabet == \"O\" or alphabet == \"U\" or alphabet == \"a\" or alphabet == \"e\" or alphabet == \"i\" or alphabet == \"o\" or alphabet == \"u\":\n",
    "    vowel += 1\n",
    "    n += 1\n",
    "  else:\n",
    "    n += 1\n",
    "      \n",
    "print(vowel)\n",
    "    "
   ]
  },
  {
   "cell_type": "code",
   "execution_count": 16,
   "id": "explicit-rhythm",
   "metadata": {},
   "outputs": [
    {
     "name": "stdout",
     "output_type": "stream",
     "text": [
      "Zoo\n"
     ]
    },
    {
     "ename": "AttributeError",
     "evalue": "'str' object has no attribute 'sep'",
     "output_type": "error",
     "traceback": [
      "\u001b[1;31m---------------------------------------------------------------------------\u001b[0m",
      "\u001b[1;31mAttributeError\u001b[0m                            Traceback (most recent call last)",
      "\u001b[1;32m<ipython-input-16-ca194a2e3cbd>\u001b[0m in \u001b[0;36m<module>\u001b[1;34m\u001b[0m\n\u001b[0;32m      1\u001b[0m \u001b[0ma\u001b[0m \u001b[1;33m=\u001b[0m \u001b[0minput\u001b[0m\u001b[1;33m(\u001b[0m\u001b[1;33m)\u001b[0m\u001b[1;33m\u001b[0m\u001b[1;33m\u001b[0m\u001b[0m\n\u001b[1;32m----> 2\u001b[1;33m \u001b[0mb\u001b[0m \u001b[1;33m=\u001b[0m \u001b[0ma\u001b[0m\u001b[1;33m.\u001b[0m\u001b[0msep\u001b[0m\u001b[1;33m(\u001b[0m\u001b[1;34m\"\"\u001b[0m\u001b[1;33m)\u001b[0m\u001b[1;33m\u001b[0m\u001b[1;33m\u001b[0m\u001b[0m\n\u001b[0m",
      "\u001b[1;31mAttributeError\u001b[0m: 'str' object has no attribute 'sep'"
     ]
    }
   ],
   "source": [
    "a = input()\n",
    "b = a.sep(\"\")"
   ]
  },
  {
   "cell_type": "code",
   "execution_count": 17,
   "id": "packed-costume",
   "metadata": {},
   "outputs": [
    {
     "name": "stdout",
     "output_type": "stream",
     "text": [
      "Zoo\n",
      "3\n"
     ]
    }
   ],
   "source": [
    "a = len (input())\n",
    "print(a)"
   ]
  },
  {
   "cell_type": "code",
   "execution_count": 40,
   "id": "linear-migration",
   "metadata": {},
   "outputs": [
    {
     "name": "stdout",
     "output_type": "stream",
     "text": [
      "Zoo\n",
      "-1\n"
     ]
    }
   ],
   "source": [
    "string = input()\n",
    "lenth = len(string)\n",
    "A = string.count(\"A\")\n",
    "E = string.count(\"E\")\n",
    "I = string.count(\"I\")\n",
    "O = string.count(\"O\")\n",
    "U = string.count(\"U\")\n",
    "a = string.count(\"a\")\n",
    "e = string.count(\"e\")\n",
    "i = string.count(\"i\")\n",
    "o = string.count(\"o\")\n",
    "u = string.count(\"u\")\n",
    "\n",
    "\n",
    "index = 0\n",
    "vowel = 0\n",
    "\n",
    "for index in range(0, lenth):\n",
    "  n = string[index]\n",
    "  if n == \"A\" or n == \"E\" or n == \"I\" or n == \"O\" or n == \"U\" or n == \"a\" or n == \"e\" or n == \"i\" or n == \"o\" or n == \"u\":\n",
    "    vowel += 1\n",
    "    index += 1\n",
    "  else: \n",
    "    index += 1\n",
    "    \n",
    "if A > 1:\n",
    "    vowel = vowel - A + 1\n",
    "else:\n",
    "    vowel = vowel\n",
    "    \n",
    "if E > 1:\n",
    "    vowel = vowel - E + 1\n",
    "else:\n",
    "    vowel = vowel\n",
    "\n",
    "if I > 1:\n",
    "    vowel = vowel - I + 1\n",
    "else:\n",
    "    vowel = vowel\n",
    "    \n",
    "if O > 1:\n",
    "    vowel = vowel - O + 1\n",
    "else:\n",
    "    vowel = vowel\n",
    "    \n",
    "if U > 1:\n",
    "    vowel = vowel - U + 1\n",
    "else:\n",
    "    vowel = vowel\n",
    "    \n",
    "if a > 1:\n",
    "    vowel = vowel - a + 1\n",
    "else:\n",
    "    vowel = vowel\n",
    "    \n",
    "if e > 1:\n",
    "    vowel = vowel - e + 1\n",
    "else:\n",
    "    vowel = vowel\n",
    "    \n",
    "if i > 1:\n",
    "    vowel = vowel - i + 1\n",
    "else:\n",
    "    vowel = vowel\n",
    "    \n",
    "if o > 1:\n",
    "    vowel = vowel - o + 1\n",
    "else:\n",
    "    vowel = vowel\n",
    "    \n",
    "if u > 1:\n",
    "    vowel = vowel - u + 1\n",
    "else:\n",
    "    vowel = vowel\n",
    "    \n",
    "print(vowel)"
   ]
  },
  {
   "cell_type": "code",
   "execution_count": 29,
   "id": "adaptive-constitution",
   "metadata": {},
   "outputs": [
    {
     "name": "stdout",
     "output_type": "stream",
     "text": [
      "Zoo\n",
      "Z\n"
     ]
    }
   ],
   "source": [
    "string = input()\n",
    "lenth = len(string)\n",
    "n = string[0]\n",
    "\n",
    "print(n)"
   ]
  },
  {
   "cell_type": "code",
   "execution_count": 36,
   "id": "strategic-system",
   "metadata": {},
   "outputs": [
    {
     "name": "stdout",
     "output_type": "stream",
     "text": [
      "Zoo\n",
      "2\n"
     ]
    }
   ],
   "source": [
    "string = input()\n",
    "a = string.count(\"o\")\n",
    "print(a)"
   ]
  },
  {
   "cell_type": "code",
   "execution_count": 54,
   "id": "wanted-object",
   "metadata": {},
   "outputs": [
    {
     "name": "stdout",
     "output_type": "stream",
     "text": [
      "123\n",
      "6\n"
     ]
    }
   ],
   "source": [
    "nums = input()\n",
    "lenth = len(nums)\n",
    "i = 0\n",
    "sum = 0\n",
    "\n",
    "for i in range(0, lenth):\n",
    "    str = nums[i]\n",
    "    num = int(str)\n",
    "    sum += num\n",
    "    i += 1\n",
    "  \n",
    "print(sum)"
   ]
  },
  {
   "cell_type": "code",
   "execution_count": 11,
   "id": "approximate-couple",
   "metadata": {},
   "outputs": [
    {
     "name": "stdout",
     "output_type": "stream",
     "text": [
      "2 5 8\n",
      "F\n"
     ]
    }
   ],
   "source": [
    "num = str(input())\n",
    "\n",
    "if num == \"1 2 3\" or num == \"4 5 6\" or num == \"7 8 9\" or num == \"1 4 7\" or num == \"2 5 8\" or num == \"3 6 9\" or num == \"1 5 9\" or num == \"3 5 7\":\n",
    "    print(\"T\")\n",
    "else:\n",
    "    print(\"F\")\n",
    "    "
   ]
  },
  {
   "cell_type": "code",
   "execution_count": 15,
   "id": "arranged-blank",
   "metadata": {},
   "outputs": [
    {
     "name": "stdout",
     "output_type": "stream",
     "text": [
      "20\n",
      "23\n",
      "I'm Little Ming, I'm 20 years old.\n",
      "I'm Little Ming's brother, I'm 43 years old.\n"
     ]
    }
   ],
   "source": [
    "ming = int(input())\n",
    "plus = int(input())\n",
    "bro = ming + plus\n",
    "\n",
    "print(\"I'm Little Ming, I'm \"+ str(ming) +\" years old.\")\n",
    "print(\"I'm Little Ming's brother, I'm \"+ str(bro) +\" years old.\")\n"
   ]
  },
  {
   "cell_type": "code",
   "execution_count": 17,
   "id": "hearing-racing",
   "metadata": {},
   "outputs": [
    {
     "name": "stdout",
     "output_type": "stream",
     "text": [
      "abc\n",
      "bdf"
     ]
    }
   ],
   "source": [
    "word = input()\n",
    "plus = 1\n",
    "\n",
    "for i in word:\n",
    "    new = ord(i) + plus\n",
    "    plus += 1\n",
    "    print(chr(new), end = \"\")\n",
    "    "
   ]
  },
  {
   "cell_type": "code",
   "execution_count": null,
   "id": "hybrid-lighter",
   "metadata": {},
   "outputs": [],
   "source": []
  }
 ],
 "metadata": {
  "kernelspec": {
   "display_name": "Python 3",
   "language": "python",
   "name": "python3"
  },
  "language_info": {
   "codemirror_mode": {
    "name": "ipython",
    "version": 3
   },
   "file_extension": ".py",
   "mimetype": "text/x-python",
   "name": "python",
   "nbconvert_exporter": "python",
   "pygments_lexer": "ipython3",
   "version": "3.9.2"
  }
 },
 "nbformat": 4,
 "nbformat_minor": 5
}
