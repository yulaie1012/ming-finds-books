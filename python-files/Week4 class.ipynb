{
 "cells": [
  {
   "cell_type": "code",
   "execution_count": 20,
   "id": "twenty-installation",
   "metadata": {},
   "outputs": [
    {
     "name": "stdout",
     "output_type": "stream",
     "text": [
      "1\n",
      "A\n"
     ]
    }
   ],
   "source": [
    "#字母三角形\n",
    "\n",
    "num = int(input())\n",
    "alphabet = \"ABCDEFGHIJKLMNOPQRSTUVWXYZ\" \n",
    "startindex = 0\n",
    "\n",
    "while len(alphabet) < num * (num + 1) / 2:\n",
    "    alphabet += alphabet\n",
    "\n",
    "for i in range(1, num + 1):\n",
    "    print(alphabet[startindex : (startindex + i)])\n",
    "    startindex += i"
   ]
  },
  {
   "cell_type": "code",
   "execution_count": 21,
   "id": "silent-swiss",
   "metadata": {},
   "outputs": [
    {
     "name": "stdout",
     "output_type": "stream",
     "text": [
      "紅豆生南國\n",
      "春來發幾枝\n",
      "end\n",
      "64448 72258 60404 43108 45004\n",
      "52736 41154 61102 48818 53488\n"
     ]
    }
   ],
   "source": [
    "#秘密紙條\n",
    "\n",
    "# -*- coding: utf8 -*-\n",
    "\n",
    "wordlst = []\n",
    "\n",
    "while True:\n",
    "    words = input()\n",
    "    if words == \"end\":\n",
    "        break    \n",
    "    else:\n",
    "        wordlst.append(words)\n",
    "\n",
    "outputlst = []        \n",
    "\n",
    "for word in wordlst:\n",
    "    for character in word:\n",
    "        code = ord(character)\n",
    "        output = (code + 219) * 2\n",
    "        outputlst.append(output)\n",
    "        outputstr = [str(i) for i in outputlst]\n",
    "    print(\" \".join(outputstr))\n",
    "    outputlst = []  \n",
    "        \n"
   ]
  },
  {
   "cell_type": "code",
   "execution_count": 16,
   "id": "favorite-indication",
   "metadata": {},
   "outputs": [
    {
     "name": "stdout",
     "output_type": "stream",
     "text": [
      "----+++c\n",
      "c\n"
     ]
    }
   ],
   "source": [
    "#打字機\n",
    "\n",
    "order = input()\n",
    "lst = []\n",
    "wordlst = []\n",
    "\n",
    "\n",
    "for i in order:\n",
    "    if i == \"+\":\n",
    "        for j in range(0, order.index(i)):\n",
    "            if order[j] != \"+\" and order[j] != \"-\" and order[j] != \"*\":\n",
    "                lst.append(order[j])\n",
    "            else:\n",
    "                lst = lst\n",
    "        \n",
    "    elif i == \"-\":\n",
    "        if lst != []:\n",
    "            lst.pop()\n",
    "        else:\n",
    "            lst = lst\n",
    "    elif i == \"*\":\n",
    "        lst *= 2\n",
    "    else:\n",
    "        lst.append(i)\n",
    "    \n",
    "print(\"\".join(lst))"
   ]
  },
  {
   "cell_type": "code",
   "execution_count": 17,
   "id": "naval-boards",
   "metadata": {},
   "outputs": [
    {
     "name": "stdout",
     "output_type": "stream",
     "text": [
      "C-+\n",
      "\n"
     ]
    }
   ],
   "source": [
    "#打字機\n",
    "\n",
    "order = input()\n",
    "lst = []\n",
    "wordlst = []\n",
    "\n",
    "\n",
    "for i in order:\n",
    "    if i == \"+\":\n",
    "        if lst != []:\n",
    "            lst.append(lst[-1])\n",
    "        else:\n",
    "            lst = lst\n",
    "    elif i == \"-\":\n",
    "        if lst != []:\n",
    "            lst.pop()\n",
    "        else:\n",
    "            lst = lst\n",
    "    elif i == \"*\":\n",
    "        lst *= 2\n",
    "    else:\n",
    "        lst.append(i)\n",
    "    \n",
    "print(\"\".join(lst))"
   ]
  },
  {
   "cell_type": "code",
   "execution_count": null,
   "id": "distinguished-safety",
   "metadata": {},
   "outputs": [],
   "source": [
    "#字母拼圖\n",
    "def char_puzzle(lst):\n",
    "    englst = [\"a\", \"b\", \"c\",\"d\", \"e\", \"f\", \"g\", \"h\", \"i\", \"j\" ,\"k\", \"l\", \"m\", \"n\", \"o\", \"p\", \"q\", \"r\", \"s\", \"t\", \"u\", \"v\", \"w\", \"x\", \"y\", \"z\"]\n",
    "    for word in lst:\n",
    "        for alph in word:\n",
    "            for eng in englst:\n",
    "                if alph == eng:\n",
    "                    an\n",
    "                    ans.append(alph)\n",
    "                    englst.remove(eng)\n",
    "                    ans = sorted(ans)\n",
    "                else:\n",
    "                    continue\n",
    "    \n",
    "    return \"\".join(char_puzzle(lst))\n",
    "\n",
    "char_puzzle([\"apple\", \"bird\", \"apple\"])\n"
   ]
  },
  {
   "cell_type": "code",
   "execution_count": 4,
   "id": "square-perfume",
   "metadata": {},
   "outputs": [
    {
     "name": "stdout",
     "output_type": "stream",
     "text": [
      "\n"
     ]
    }
   ],
   "source": [
    "#字母拼圖\n",
    "englst = [\"a\", \"b\", \"c\",\"d\", \"e\", \"f\", \"g\", \"h\", \"i\", \"j\" ,\"k\", \"l\", \"m\", \"n\", \"o\", \"p\", \"q\", \"r\", \"s\", \"t\", \"u\", \"v\", \"w\", \"x\", \"y\", \"z\"]\n",
    "\n",
    "def char_puzzle(lst):\n",
    "    ans = []\n",
    "    for word in lst:\n",
    "        for alph in word:\n",
    "            for eng in englst:\n",
    "                if alph == eng:\n",
    "                    ans.append(alph)\n",
    "                    englst.remove(eng)\n",
    "                else:\n",
    "                    continue\n",
    "                ans = sorted(ans)\n",
    "    return ans\n",
    "\n",
    "print(\"\".join(char_puzzle(lst)))"
   ]
  },
  {
   "cell_type": "code",
   "execution_count": 4,
   "id": "faced-marker",
   "metadata": {},
   "outputs": [
    {
     "ename": "NameError",
     "evalue": "name 'lst' is not defined",
     "output_type": "error",
     "traceback": [
      "\u001b[1;31m---------------------------------------------------------------------------\u001b[0m",
      "\u001b[1;31mNameError\u001b[0m                                 Traceback (most recent call last)",
      "\u001b[1;32m<ipython-input-4-f3096a93ead4>\u001b[0m in \u001b[0;36m<module>\u001b[1;34m\u001b[0m\n\u001b[0;32m     16\u001b[0m \u001b[0mchar_puzzle\u001b[0m\u001b[1;33m(\u001b[0m\u001b[1;33m[\u001b[0m\u001b[1;34m\"apple\"\u001b[0m\u001b[1;33m,\u001b[0m \u001b[1;34m\"bird\"\u001b[0m\u001b[1;33m,\u001b[0m \u001b[1;34m\"apple\"\u001b[0m\u001b[1;33m]\u001b[0m\u001b[1;33m)\u001b[0m\u001b[1;33m\u001b[0m\u001b[1;33m\u001b[0m\u001b[0m\n\u001b[0;32m     17\u001b[0m \u001b[1;33m\u001b[0m\u001b[0m\n\u001b[1;32m---> 18\u001b[1;33m \u001b[0mprint\u001b[0m\u001b[1;33m(\u001b[0m\u001b[0mchar_puzzle\u001b[0m\u001b[1;33m(\u001b[0m\u001b[0mlst\u001b[0m\u001b[1;33m)\u001b[0m\u001b[1;33m)\u001b[0m\u001b[1;33m\u001b[0m\u001b[1;33m\u001b[0m\u001b[0m\n\u001b[0m",
      "\u001b[1;31mNameError\u001b[0m: name 'lst' is not defined"
     ]
    }
   ],
   "source": [
    "#字母拼圖(Accepted!!!)\n",
    "englst = [\"a\", \"b\", \"c\",\"d\", \"e\", \"f\", \"g\", \"h\", \"i\", \"j\" ,\"k\", \"l\", \"m\", \"n\", \"o\", \"p\", \"q\", \"r\", \"s\", \"t\", \"u\", \"v\", \"w\", \"x\", \"y\", \"z\"]\n",
    "\n",
    "def char_puzzle(lst):\n",
    "    ans = []\n",
    "    for word in lst:\n",
    "        for alph in word:\n",
    "            for eng in englst:\n",
    "                if alph == eng:\n",
    "                    ans.append(alph)\n",
    "                    englst.remove(eng)\n",
    "                else:\n",
    "                    continue\n",
    "                ans = sorted(ans)\n",
    "    return \"\".join(ans)"
   ]
  },
  {
   "cell_type": "code",
   "execution_count": null,
   "id": "moving-filter",
   "metadata": {},
   "outputs": [],
   "source": []
  }
 ],
 "metadata": {
  "kernelspec": {
   "display_name": "Python 3",
   "language": "python",
   "name": "python3"
  },
  "language_info": {
   "codemirror_mode": {
    "name": "ipython",
    "version": 3
   },
   "file_extension": ".py",
   "mimetype": "text/x-python",
   "name": "python",
   "nbconvert_exporter": "python",
   "pygments_lexer": "ipython3",
   "version": "3.9.2"
  }
 },
 "nbformat": 4,
 "nbformat_minor": 5
}
