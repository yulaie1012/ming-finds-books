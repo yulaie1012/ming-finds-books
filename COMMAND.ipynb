{
 "cells": [
  {
   "cell_type": "code",
   "execution_count": null,
   "source": [
    "from selenium import webdriver\n",
    "from selenium.webdriver.chrome.options import Options\n",
    "from selenium.webdriver.common.desired_capabilities import DesiredCapabilities\n",
    "from selenium.webdriver.support.ui import WebDriverWait\n",
    "from selenium.webdriver.support import expected_conditions as EC\n",
    "from selenium.webdriver.common.by import By\n",
    "import pandas as pd\n",
    "# 載入自定義函式\n",
    "import import_ipynb\n",
    "import crawlers\n",
    "import all_in_one\n",
    "\n",
    "\n",
    "# ISBN = \"9789869109321\"  # \"二十一世紀資本論\"\n",
    "ISBN = \"9789573317241\"  # \"哈利波特：神秘的魔法石\"\n",
    "\n",
    "# 設定 driver\n",
    "my_options = Options()\n",
    "my_options.add_argument(\"--incognito\")  # 開啟無痕模式\n",
    "# my_options.add_argument(\"--headless\")  # 不開啟實體瀏覽器\n",
    "my_capabilities = DesiredCapabilities.CHROME\n",
    "my_capabilities[\"pageLoadStrategy\"] = \"none\""
   ],
   "outputs": [],
   "metadata": {
    "scrolled": true
   }
  },
  {
   "cell_type": "code",
   "execution_count": null,
   "source": [],
   "outputs": [],
   "metadata": {}
  },
  {
   "cell_type": "markdown",
   "source": [
    "# 處理資料的 function"
   ],
   "metadata": {}
  },
  {
   "cell_type": "code",
   "execution_count": null,
   "source": [
    "def organize_columns(df):\n",
    "    # 處理 column 2：館藏地\n",
    "    c2 = [\"館藏地/室\", \"館藏室\", \"館藏地/館藏室\", \"館藏地\", \"典藏館\", \"館藏位置\", \"館藏地/區域\"]\n",
    "    df[\"c2\"] = \"\"\n",
    "    for c in c2:\n",
    "        try:\n",
    "            df[\"c2\"] += df[c]\n",
    "        except:\n",
    "            pass\n",
    "    \n",
    "    # 處理 column 3：索書號\n",
    "    c3 = [\"索書號\", \"索書號/期刊合訂本卷期\", \"索書號 / 部冊號\"]\n",
    "    df[\"c3\"] = \"\"\n",
    "    for c in c3:\n",
    "        try:\n",
    "            df[\"c3\"] += df[c]\n",
    "        except:\n",
    "            pass\n",
    "\n",
    "    # 處理 column 4：館藏狀態\n",
    "    c4 = [\"狀態/到期日\", \"目前狀態 / 到期日\", \"館藏狀態\", \"處理狀態\", '狀態 (說明)', '館藏現況 說明', \"目前狀態/預計歸還日期\", \"圖書狀況 / 到期日\"]\n",
    "    df[\"c4\"] = \"\"\n",
    "    for c in c4:\n",
    "        try:\n",
    "            df[\"c4\"] += df[c]\n",
    "        except:\n",
    "            pass\n",
    "    \n",
    "    # 直接生成另一個 DataFrame\n",
    "    test = pd.DataFrame()\n",
    "    test[\"圖書館\"] = df[\"圖書館\"]\n",
    "    test[\"館藏地\"] = df[\"c2\"]\n",
    "    test[\"索書號\"] = df[\"c3\"]\n",
    "    test[\"館藏狀態\"] = df[\"c4\"]\n",
    "    test[\"連結\"] = df[\"連結\"]\n",
    "    \n",
    "    return test"
   ],
   "outputs": [],
   "metadata": {}
  },
  {
   "cell_type": "markdown",
   "source": [
    "# 輸出自訂的 excel 格式"
   ],
   "metadata": {}
  },
  {
   "cell_type": "code",
   "execution_count": null,
   "source": [
    "def set_excel(df, directory):\r\n",
    "    # B｢圖書館｣、C「館藏地」、D「索書號」、E「館藏狀態」、F「連結」\r\n",
    "    pandas.io.formats.excel.header_style = None  # 標題格式清除\r\n",
    "    writer = pd.ExcelWriter(directory)\r\n",
    "    df.to_excel(writer, sheet_name=\"搜尋結果\")\r\n",
    "\r\n",
    "    workbook1 = writer.book\r\n",
    "    worksheets = writer.sheets\r\n",
    "    worksheet1 = worksheets[\"搜尋結果\"]\r\n",
    "    \r\n",
    "    # 測試\r\n",
    "    cell_format = workbook1.add_format({\r\n",
    "        \"font_name\": \"微軟正黑體\",\r\n",
    "        \"font_size\": 16,\r\n",
    "        \"align\": \"left\",\r\n",
    "#         \"border\": 80,\r\n",
    "    })\r\n",
    "    worksheet1.set_column(\"B:F\", 40, cell_format)\r\n",
    "    \r\n",
    "    # 設定單元格的寬度\r\n",
    "#     worksheet1.set_column(\"B:F\", 35)\r\n",
    "\r\n",
    "    writer.save()\r\n",
    "    print(\"爬取完成\")"
   ],
   "outputs": [],
   "metadata": {}
  },
  {
   "cell_type": "code",
   "execution_count": null,
   "source": [],
   "outputs": [],
   "metadata": {}
  },
  {
   "cell_type": "code",
   "execution_count": null,
   "source": [
    "location = \"輸入地點\"\r\n",
    "if \"宜蘭\" == \"location\":  # OK\r\n",
    "    Yilan()\r\n",
    "elif \"基隆\" == \"location\":  # OK\r\n",
    "    Keelung()\r\n",
    "elif \"臺北\" == \"location\":\r\n",
    "    Taipei()\r\n",
    "elif \"新北\" == \"location\":\r\n",
    "    New_Taipei()\r\n",
    "elif \"基隆\" == \"location\":\r\n",
    "    Keelung()\r\n",
    "elif \"桃園\" == \"location\":\r\n",
    "    Taoyuan()\r\n",
    "elif \"新竹\" == \"location\":\r\n",
    "    Hsinchu()\r\n",
    "elif \"苗栗\" == \"location\":\r\n",
    "    Miaoli()\r\n",
    "elif \"臺中\" == \"location\":\r\n",
    "    Taichung()\r\n",
    "elif \"南投\" == \"location\":\r\n",
    "    Nantou()\r\n",
    "elif \"彰化\" == \"location\":\r\n",
    "    Changhua()\r\n",
    "elif \"雲林\" == \"location\":\r\n",
    "    Yunlin()\r\n",
    "elif \"嘉義\" == \"location\":\r\n",
    "    Chiayi()\r\n",
    "elif \"臺南\" == \"location\":\r\n",
    "    Tainan()\r\n",
    "elif \"高雄\" == \"location\":\r\n",
    "    Kaohsiung()\r\n",
    "elif \"屏東\" == \"location\":\r\n",
    "    Pingtung()\r\n",
    "elif \"臺東\" == \"location\":\r\n",
    "    Taitung()\r\n",
    "elif \"花蓮\" == \"location\":\r\n",
    "    Hualien()"
   ],
   "outputs": [],
   "metadata": {}
  },
  {
   "cell_type": "code",
   "execution_count": null,
   "source": [
    "ISBN = \"9789869109321\"\r\n",
    "driver = webdriver.Chrome(options=my_options, desired_capabilities=my_capabilities)\r\n",
    "wait = WebDriverWait(driver, 10)"
   ],
   "outputs": [],
   "metadata": {}
  },
  {
   "cell_type": "code",
   "execution_count": null,
   "source": [
    "def Yilan(ISBN):\r\n",
    "    output = []\r\n",
    "    \r\n",
    "    driver = webdriver.Chrome(options=my_options, desired_capabilities=my_capabilities)\r\n",
    "    wait = WebDriverWait(driver, 10)\r\n",
    "    \r\n",
    "    output.append(\r\n",
    "        crawlers.webpac_gov_crawler(\r\n",
    "            \"宜蘭縣公共圖書館\", \"https://webpac.ilccb.gov.tw/search?searchField=ISBN&searchInput=\",\r\n",
    "            ISBN,  driver, wait\r\n",
    "        )\r\n",
    "    )\r\n",
    "\r\n",
    "    output.append(\r\n",
    "        crawlers.webpac_jsp_crawler(\r\n",
    "            \"國立宜蘭大學\", \"https://lib.niu.edu.tw/webpacIndex.jsp\",\r\n",
    "            ISBN,  driver, wait\r\n",
    "        )\r\n",
    "    )\r\n",
    "\r\n",
    "    output.append(\r\n",
    "        crawlers.webpac_jsp_crawler(\r\n",
    "            \"佛光大學\", \"http://libils.fgu.edu.tw/webpacIndex.jsp\",\r\n",
    "            ISBN,  driver, wait\r\n",
    "        )\r\n",
    "    )\r\n",
    "    \r\n",
    "    driver.quit()\r\n",
    "    return all_in_one.organize_columns(pd.concat(output, axis=0, ignore_index=True).fillna(\"\"))"
   ],
   "outputs": [],
   "metadata": {}
  },
  {
   "cell_type": "code",
   "execution_count": null,
   "source": [
    "def Keelung(ISBN):\r\n",
    "    output = []\r\n",
    "    \r\n",
    "    driver = webdriver.Chrome(options=my_options, desired_capabilities=my_capabilities)\r\n",
    "    wait = WebDriverWait(driver, 10)\r\n",
    "    \r\n",
    "    output.append(\r\n",
    "        crawlers.klccab_crawler(\r\n",
    "            \"基隆市公共圖書館\", ISBN,  driver, wait\r\n",
    "        )\r\n",
    "    )\r\n",
    "    \r\n",
    "    output.append(\r\n",
    "        crawlers.easy_crawler(\r\n",
    "            2, \"國立臺灣海洋大學\", \"https://ocean.ntou.edu.tw/search*cht/i?SEARCH=\", ISBN\r\n",
    "        )\r\n",
    "    )\r\n",
    "    \r\n",
    "    driver.quit()\r\n",
    "    return all_in_one.organize_columns(pd.concat(output, axis=0, ignore_index=True).fillna(\"\"))"
   ],
   "outputs": [],
   "metadata": {}
  },
  {
   "cell_type": "code",
   "execution_count": null,
   "source": [
    "ISBN = \"9789573317241\"\r\n",
    "def Taipei(ISBN):\r\n",
    "    output = []\r\n",
    "\r\n",
    "    driver = webdriver.Chrome(options=my_options, desired_capabilities=my_capabilities)\r\n",
    "    wait = WebDriverWait(driver, 10)\r\n",
    "\r\n",
    "\r\n",
    "    output.append(\r\n",
    "        crawlers.tpml_crawler(\r\n",
    "            \"臺北市市立圖書館\", \"https://book.tpml.edu.tw/webpac/webpacIndex.jsp\",\r\n",
    "            ISBN, driver, wait\r\n",
    "        )\r\n",
    "    )\r\n",
    "\r\n",
    "    output.append(\r\n",
    "        crawlers.easy_crawler(\r\n",
    "            4, \"國立臺灣師範大學\", \"https://opac.lib.ntnu.edu.tw/search*cht/i?SEARCH=\", ISBN\r\n",
    "        )\r\n",
    "    )\r\n",
    "\r\n",
    "    output.append(\r\n",
    "        crawlers.easy_crawler(\r\n",
    "            4, \"中央研究院\", \"https://las.sinica.edu.tw/search*cht/a?searchtype=i&searcharg=\", ISBN\r\n",
    "        )\r\n",
    "    )\r\n",
    "\r\n",
    "    output.append(\r\n",
    "        crawlers.easy_crawler(\r\n",
    "            4, \"國立陽明大學\", \"https://library.ym.edu.tw/search*cht/a?searchtype=i&searcharg=\", ISBN\r\n",
    "        )\r\n",
    "    )\r\n",
    "\r\n",
    "    output.append(\r\n",
    "        crawlers.easy_crawler(\r\n",
    "            6, \"國立臺灣科技大學\", \"https://sierra.lib.ntust.edu.tw/search*cht/i?SEARCH=\", ISBN\r\n",
    "        )\r\n",
    "    )\r\n",
    "\r\n",
    "    output.append(\r\n",
    "        crawlers.easy_crawler(\r\n",
    "            7, \"中國文化大學\", \"https://webpac.pccu.edu.tw/search*cht/?searchtype=i&searcharg=\", ISBN\r\n",
    "        )\r\n",
    "    )\r\n",
    "\r\n",
    "    output.append(\r\n",
    "        crawlers.easy_crawler(\r\n",
    "            7, \"輔仁大學\", \"https://library.lib.fju.edu.tw/search~S0*cht/?searchtype=i&searcharg=\", ISBN\r\n",
    "        )\r\n",
    "    )\r\n",
    "    \r\n",
    "    driver.quit()\r\n",
    "    return all_in_one.organize_columns(pd.concat(output, axis=0, ignore_index=True).fillna(\"\"))\r\n",
    "Taipei(ISBN)"
   ],
   "outputs": [],
   "metadata": {}
  },
  {
   "cell_type": "code",
   "execution_count": null,
   "source": [],
   "outputs": [],
   "metadata": {}
  },
  {
   "cell_type": "code",
   "execution_count": null,
   "source": [],
   "outputs": [],
   "metadata": {}
  },
  {
   "cell_type": "code",
   "execution_count": null,
   "source": [
    "########## 新北 ##########\r\n",
    "########## 新北 ##########\r\n",
    "########## 新北 ##########\r\n"
   ],
   "outputs": [],
   "metadata": {}
  },
  {
   "cell_type": "code",
   "execution_count": null,
   "source": [],
   "outputs": [],
   "metadata": {}
  },
  {
   "cell_type": "code",
   "execution_count": null,
   "source": [],
   "outputs": [],
   "metadata": {}
  },
  {
   "cell_type": "code",
   "execution_count": null,
   "source": [
    "########## 新北 ##########\r\n",
    "########## 新北 ##########\r\n",
    "########## 新北 ##########\r\n",
    "\r\n",
    "# 最後輸出\r\n",
    "df_New_Taipei = pd.concat(df_result, axis=0, ignore_index=True).fillna(\"\")\r\n",
    "all_in_one.organize_columns(df_New_Taipei)\r\n",
    "driver.quit()\r\n",
    "df_New_Taipei"
   ],
   "outputs": [],
   "metadata": {}
  },
  {
   "cell_type": "code",
   "execution_count": null,
   "source": [],
   "outputs": [],
   "metadata": {}
  },
  {
   "cell_type": "code",
   "execution_count": null,
   "source": [],
   "outputs": [],
   "metadata": {}
  },
  {
   "cell_type": "code",
   "execution_count": null,
   "source": [],
   "outputs": [],
   "metadata": {}
  },
  {
   "cell_type": "code",
   "execution_count": null,
   "source": [],
   "outputs": [],
   "metadata": {}
  },
  {
   "cell_type": "code",
   "execution_count": null,
   "source": [],
   "outputs": [],
   "metadata": {}
  },
  {
   "cell_type": "code",
   "execution_count": null,
   "source": [],
   "outputs": [],
   "metadata": {}
  },
  {
   "cell_type": "code",
   "execution_count": null,
   "source": [],
   "outputs": [],
   "metadata": {}
  },
  {
   "cell_type": "code",
   "execution_count": null,
   "source": [],
   "outputs": [],
   "metadata": {}
  },
  {
   "cell_type": "code",
   "execution_count": null,
   "source": [],
   "outputs": [],
   "metadata": {}
  },
  {
   "cell_type": "code",
   "execution_count": null,
   "source": [],
   "outputs": [],
   "metadata": {}
  }
 ],
 "metadata": {
  "kernelspec": {
   "display_name": "Python 3",
   "language": "python",
   "name": "python3"
  },
  "language_info": {
   "codemirror_mode": {
    "name": "ipython",
    "version": 3
   },
   "file_extension": ".py",
   "mimetype": "text/x-python",
   "name": "python",
   "nbconvert_exporter": "python",
   "pygments_lexer": "ipython3",
   "version": "3.8.8"
  },
  "toc": {
   "base_numbering": 1,
   "nav_menu": {},
   "number_sections": true,
   "sideBar": true,
   "skip_h1_title": false,
   "title_cell": "Table of Contents",
   "title_sidebar": "Contents",
   "toc_cell": false,
   "toc_position": {},
   "toc_section_display": true,
   "toc_window_display": false
  }
 },
 "nbformat": 4,
 "nbformat_minor": 5
}