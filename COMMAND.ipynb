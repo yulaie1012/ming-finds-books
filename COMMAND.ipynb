{
 "cells": [
  {
   "cell_type": "markdown",
   "id": "c49ab1e1",
   "metadata": {},
   "source": [
    "# 環境設置"
   ]
  },
  {
   "cell_type": "code",
   "execution_count": 1,
   "id": "085f6825",
   "metadata": {},
   "outputs": [],
   "source": [
    "from selenium import webdriver\n",
    "from selenium.webdriver.chrome.options import Options\n",
    "from selenium.webdriver.common.desired_capabilities import DesiredCapabilities\n",
    "import pandas as pd  # 載入 pandas\n",
    "from bs4 import BeautifulSoup"
   ]
  },
  {
   "cell_type": "markdown",
   "id": "2cb55568",
   "metadata": {},
   "source": [
    "# 自定義函式"
   ]
  },
  {
   "cell_type": "code",
   "execution_count": 2,
   "id": "29d7955c",
   "metadata": {},
   "outputs": [],
   "source": [
    "from crawlers import *"
   ]
  },
  {
   "cell_type": "code",
   "execution_count": 3,
   "id": "1c85e145",
   "metadata": {},
   "outputs": [],
   "source": [
    "my_options = Options()\n",
    "my_options.add_argument('--incognito')  # 開啟無痕模式\n",
    "my_capabilities = DesiredCapabilities.CHROME\n",
    "my_capabilities['pageLoadStrategy'] = 'eager'  # 頁面加載策略：HTML 解析成 DOM"
   ]
  },
  {
   "cell_type": "code",
   "execution_count": 4,
   "id": "f57c135d",
   "metadata": {},
   "outputs": [],
   "source": [
    "driver = webdriver.Chrome(options=my_options, desired_capabilities=my_capabilities)"
   ]
  },
  {
   "cell_type": "markdown",
   "id": "dabdc6dd",
   "metadata": {},
   "source": [
    "# 爬蟲程式測試"
   ]
  },
  {
   "cell_type": "markdown",
   "id": "fc503a1f",
   "metadata": {
    "heading_collapsed": true
   },
   "source": [
    "## <mark>完成</mark>webpac_gov_crawler(driver, org, org_url, ISBN)"
   ]
  },
  {
   "cell_type": "code",
   "execution_count": 5,
   "id": "4640d6d0",
   "metadata": {
    "hidden": true
   },
   "outputs": [],
   "source": [
    "#     driver = webdriver.Chrome(options=my_options, desired_capabilities=my_capabilities)\n",
    "#     webpac_gov_crawler(\n",
    "#         driver=driver,\n",
    "#         org='桃園市立圖書館',\n",
    "#         org_url='https://webpac.typl.gov.tw/',\n",
    "#         ISBN='986729193X'\n",
    "#     )"
   ]
  },
  {
   "cell_type": "markdown",
   "id": "409fdb0c",
   "metadata": {
    "heading_collapsed": true
   },
   "source": [
    "## <mark>完成</mark>webpac_jsp_crawler(driver, org, org_url, ISBN)"
   ]
  },
  {
   "cell_type": "code",
   "execution_count": 6,
   "id": "109751fb",
   "metadata": {
    "hidden": true,
    "scrolled": true
   },
   "outputs": [],
   "source": [
    "# # 載入網頁很久，這個 case 顯示出 wait 的優點\n",
    "# driver = webdriver.Chrome(options=my_options, desired_capabilities=my_capabilities)\n",
    "# webpac_jsp_crawler(\n",
    "#     driver=driver,\n",
    "#     org='佛光大學',\n",
    "#     org_url='http://libils.fgu.edu.tw/webpacIndex.jsp',\n",
    "#     ISBN='9573317249'\n",
    "# )"
   ]
  },
  {
   "cell_type": "code",
   "execution_count": 7,
   "id": "9df92b06",
   "metadata": {
    "hidden": true
   },
   "outputs": [],
   "source": [
    "# # 有多筆搜尋結果\n",
    "# driver = webdriver.Chrome(options=my_options, desired_capabilities=my_capabilities)\n",
    "# webpac_jsp_crawler(\n",
    "#     driver=driver,\n",
    "#     org='美和科技大學',\n",
    "#     org_url='http://webpac.meiho.edu.tw/webpacIndex.jsp',\n",
    "#     ISBN='9573317249'\n",
    "# )"
   ]
  },
  {
   "cell_type": "code",
   "execution_count": 8,
   "id": "c2fae384",
   "metadata": {
    "hidden": true
   },
   "outputs": [],
   "source": [
    "# # 臺北市立圖書館合併至此\n",
    "# driver = webdriver.Chrome(options=my_options, desired_capabilities=my_capabilities)\n",
    "# webpac_jsp_crawler(\n",
    "#     driver=driver,\n",
    "#     org='臺北市立圖書館',\n",
    "#     org_url='https://book.tpml.edu.tw/webpac/webpacIndex.jsp',\n",
    "#     ISBN='986729193X'\n",
    "# )"
   ]
  },
  {
   "cell_type": "markdown",
   "id": "30f67e30",
   "metadata": {
    "heading_collapsed": true
   },
   "source": [
    "## <mark>完成</mark>easy_crawler(driver, org, org_url, ISBN)"
   ]
  },
  {
   "cell_type": "code",
   "execution_count": 9,
   "id": "fbfe59f2",
   "metadata": {
    "hidden": true,
    "scrolled": true
   },
   "outputs": [],
   "source": [
    "# driver = webdriver.Chrome(options=my_options, desired_capabilities=my_capabilities)\n",
    "# table = easy_crawler(\n",
    "#     driver=driver,\n",
    "#     org='逢甲大學',\n",
    "#     org_url='https://innopac.lib.fcu.edu.tw/search*cht/i',\n",
    "#     ISBN='9789868879348'  # 國家為什麼會失敗\n",
    "# )\n",
    "# table"
   ]
  },
  {
   "cell_type": "markdown",
   "id": "aac0756e",
   "metadata": {
    "heading_collapsed": true
   },
   "source": [
    "## <mark>完成</mark>webpac_pro_crawler(driver, org, org_url, ISBN)"
   ]
  },
  {
   "cell_type": "code",
   "execution_count": 10,
   "id": "5aaaf892",
   "metadata": {
    "hidden": true
   },
   "outputs": [],
   "source": [
    "# driver = webdriver.Chrome(options=my_options, desired_capabilities=my_capabilities)\n",
    "# table = webpac_pro_crawler(\n",
    "#     driver=driver,\n",
    "#     org='中央研究院',\n",
    "#     org_url='https://las.sinica.edu.tw/*cht',\n",
    "#     ISBN='9789869109321'\n",
    "# )\n",
    "# table"
   ]
  },
  {
   "cell_type": "markdown",
   "id": "c73353a6",
   "metadata": {
    "heading_collapsed": true
   },
   "source": [
    "## <mark>完成</mark>webpac_ajax_page_crawler(driver, org, org_url, ISBN)"
   ]
  },
  {
   "cell_type": "code",
   "execution_count": 11,
   "id": "9320495c",
   "metadata": {
    "hidden": true
   },
   "outputs": [],
   "source": [
    "# # 一筆，不會跳轉到＂書目資料＂\n",
    "# driver = webdriver.Chrome(options=my_options, desired_capabilities=my_capabilities)\n",
    "# webpac_ajax_crawler(\n",
    "#     driver=driver,\n",
    "#     org='新北市立圖書館',\n",
    "#     org_url='https://webpac.tphcc.gov.tw/webpac/search.cfm',\n",
    "#     ISBN='9789869109321'\n",
    "# )"
   ]
  },
  {
   "cell_type": "code",
   "execution_count": 12,
   "id": "4fbbb5fc",
   "metadata": {
    "hidden": true
   },
   "outputs": [],
   "source": [
    "# # 多筆\n",
    "# driver = webdriver.Chrome(options=my_options, desired_capabilities=my_capabilities)\n",
    "# webpac_ajax_crawler(\n",
    "#     driver=driver,\n",
    "#     org='新北市立圖書館',\n",
    "#     org_url='https://webpac.tphcc.gov.tw/webpac/search.cfm',\n",
    "#     ISBN='986729193X'\n",
    "# )"
   ]
  },
  {
   "cell_type": "code",
   "execution_count": 13,
   "id": "2d93384b",
   "metadata": {
    "hidden": true
   },
   "outputs": [],
   "source": [
    "# # 一筆，會跳轉到＂書目資料＂\n",
    "# driver = webdriver.Chrome(options=my_options, desired_capabilities=my_capabilities)\n",
    "# webpac_ajax_crawler(\n",
    "#     driver=driver,\n",
    "#     org='高雄市立空中大學',\n",
    "#     org_url='https://webpac.ouk.edu.tw/webpac/search.cfm',\n",
    "#     ISBN='9789869109321'\n",
    "# )"
   ]
  },
  {
   "cell_type": "code",
   "execution_count": 14,
   "id": "a614a8eb",
   "metadata": {
    "hidden": true
   },
   "outputs": [],
   "source": [
    "# # 一筆，會跳轉到＂書目資料＂\n",
    "# driver = webdriver.Chrome(options=my_options, desired_capabilities=my_capabilities)\n",
    "# webpac_ajax_crawler(\n",
    "#     driver=driver,\n",
    "#     org='國立屏東大學',\n",
    "#     org_url='https://webpac.nptu.edu.tw/webpac/search.cfm',\n",
    "#     ISBN='9789869109321'\n",
    "# )"
   ]
  },
  {
   "cell_type": "markdown",
   "id": "0e09a795",
   "metadata": {
    "heading_collapsed": true
   },
   "source": [
    "## <mark>完成</mark>國家圖書館(driver, org, org_url, ISBN)"
   ]
  },
  {
   "cell_type": "code",
   "execution_count": 15,
   "id": "e343decf",
   "metadata": {
    "hidden": true
   },
   "outputs": [],
   "source": [
    "# driver = webdriver.Chrome(options=my_options, desired_capabilities=my_capabilities)\n",
    "# 國家圖書館(\n",
    "#     driver=driver,\n",
    "#     org='國家圖書館',\n",
    "#     org_url='https://aleweb.ncl.edu.tw/F',\n",
    "#     ISBN='9789869109321'\n",
    "# )"
   ]
  },
  {
   "cell_type": "code",
   "execution_count": 16,
   "id": "0afd0ff6",
   "metadata": {
    "hidden": true
   },
   "outputs": [],
   "source": [
    "# # 被討厭的勇氣，無表格內容\n",
    "# driver = webdriver.Chrome(options=my_options, desired_capabilities=my_capabilities)\n",
    "# 國家圖書館(\n",
    "#     driver=driver,\n",
    "#     org='國家圖書館',\n",
    "#     org_url='https://aleweb.ncl.edu.tw/F',\n",
    "#     ISBN='9789861371955'\n",
    "# )"
   ]
  },
  {
   "cell_type": "markdown",
   "id": "bb2b6666",
   "metadata": {
    "heading_collapsed": true
   },
   "source": [
    "## <mark>完成</mark>彰化縣公共圖書館(driver, org, org_url, ISBN)"
   ]
  },
  {
   "cell_type": "code",
   "execution_count": 17,
   "id": "20640602",
   "metadata": {
    "hidden": true
   },
   "outputs": [],
   "source": [
    "# driver = webdriver.Chrome(options=my_options, desired_capabilities=my_capabilities)\n",
    "# 彰化縣公共圖書館(\n",
    "#     driver=driver,\n",
    "#     org='彰化縣公共圖書館',\n",
    "#     org_url='https://library.toread.bocach.gov.tw',\n",
    "#     ISBN='986729193X'\n",
    "# )"
   ]
  },
  {
   "cell_type": "markdown",
   "id": "1e18f7e5",
   "metadata": {
    "heading_collapsed": true
   },
   "source": [
    "## <mark>完成</mark>連江縣公共圖書館(driver, org, org_url, ISBN)"
   ]
  },
  {
   "cell_type": "code",
   "execution_count": 18,
   "id": "262551e4",
   "metadata": {
    "hidden": true
   },
   "outputs": [],
   "source": [
    "# driver = webdriver.Chrome(options=my_options, desired_capabilities=my_capabilities)\n",
    "# 連江縣公共圖書館(\n",
    "#     driver=driver,\n",
    "#     org='開南大學',\n",
    "#     org_url='http://www.lib.knu.edu.tw/Webpac2/msearch.dll/',\n",
    "#     ISBN='9789869109321'\n",
    "# )"
   ]
  },
  {
   "cell_type": "markdown",
   "id": "197af5ed",
   "metadata": {
    "heading_collapsed": true
   },
   "source": [
    "## <mark>完成</mark>webpac_aspx_crawler(driver, org, org_url, ISBN)"
   ]
  },
  {
   "cell_type": "code",
   "execution_count": 19,
   "id": "9c977e18",
   "metadata": {
    "hidden": true
   },
   "outputs": [],
   "source": [
    "# # 無\n",
    "# driver = webdriver.Chrome(options=my_options, desired_capabilities=my_capabilities)\n",
    "# webpac_aspx_crawler(\n",
    "#     driver=driver,\n",
    "#     org='樹德科技大學',\n",
    "#     org_url='https://webpac.stu.edu.tw/webopac/',\n",
    "#     ISBN='fdsafdsa'\n",
    "# )"
   ]
  },
  {
   "cell_type": "code",
   "execution_count": 20,
   "id": "c2b50b24",
   "metadata": {
    "hidden": true
   },
   "outputs": [],
   "source": [
    "# webpac_aspx_crawler(\n",
    "#     driver=driver,\n",
    "#     org='台灣首府大學',\n",
    "#     org_url='http://120.114.1.19/webopac/Jycx.aspx?dc=1&fc=1&n=7',\n",
    "#     ISBN='9789869109321'\n",
    "# )"
   ]
  },
  {
   "cell_type": "code",
   "execution_count": 21,
   "id": "88ff1dad",
   "metadata": {
    "hidden": true
   },
   "outputs": [],
   "source": [
    "# webpac_aspx_crawler(\n",
    "#     driver=driver,\n",
    "#     org='崑山科技大學',\n",
    "#     org_url='https://weblis.lib.ksu.edu.tw/webopac/',\n",
    "#     ISBN='9789869109321'\n",
    "# )"
   ]
  },
  {
   "cell_type": "markdown",
   "id": "c7da6a39",
   "metadata": {
    "heading_collapsed": true
   },
   "source": [
    "## <mark>完成</mark>uhtbin_crawler(driver, org, org_url, ISBN)"
   ]
  },
  {
   "cell_type": "code",
   "execution_count": 22,
   "id": "4df34c5e",
   "metadata": {
    "hidden": true,
    "scrolled": true
   },
   "outputs": [],
   "source": [
    "# uhtbin_crawler(\n",
    "#     driver=driver,\n",
    "#     org='國立臺北護理健康大學',\n",
    "#     org_url='http://140.131.94.8/uhtbin/webcat',\n",
    "#     ISBN='9789574672028'\n",
    "# )"
   ]
  },
  {
   "cell_type": "code",
   "execution_count": 23,
   "id": "bfb31ac9",
   "metadata": {
    "hidden": true
   },
   "outputs": [],
   "source": [
    "# uhtbin_crawler(\n",
    "#     driver=driver,\n",
    "#     org='國立體育大學',\n",
    "#     org_url='http://192.83.181.243/uhtbin/webcat',\n",
    "#     ISBN='9789574672028'\n",
    "# )"
   ]
  },
  {
   "cell_type": "code",
   "execution_count": null,
   "id": "19e28399",
   "metadata": {
    "hidden": true
   },
   "outputs": [],
   "source": []
  },
  {
   "cell_type": "code",
   "execution_count": null,
   "id": "919907c5",
   "metadata": {
    "hidden": true
   },
   "outputs": [],
   "source": []
  },
  {
   "cell_type": "code",
   "execution_count": null,
   "id": "2e64c8f4",
   "metadata": {
    "hidden": true
   },
   "outputs": [],
   "source": []
  },
  {
   "cell_type": "markdown",
   "id": "ad5ce5c9",
   "metadata": {},
   "source": [
    "## web2_crawler"
   ]
  },
  {
   "cell_type": "code",
   "execution_count": 24,
   "id": "8aac96f9",
   "metadata": {},
   "outputs": [],
   "source": [
    "# if __name__ == '__main__':\n",
    "#     driver = webdriver.Chrome(options=my_options, desired_capabilities=my_capabilities)\n",
    "#     table = web2_crawler(\n",
    "#         org='國立勤益科技大學',\n",
    "#         url_front='http://140.128.95.172/webpac/search/?q=',\n",
    "#         url_behind='&field=isn&op=AND&type=&department=&college=&dep=&active=1',\n",
    "#         ISBN='9789869109321'\n",
    "#     )\n"
   ]
  },
  {
   "cell_type": "code",
   "execution_count": null,
   "id": "493eb733",
   "metadata": {},
   "outputs": [],
   "source": []
  },
  {
   "cell_type": "markdown",
   "id": "dd39dda0",
   "metadata": {},
   "source": [
    "## 台北海洋科技大學(driver, org, org_url, ISBN)"
   ]
  },
  {
   "cell_type": "code",
   "execution_count": 25,
   "id": "b1f5148b",
   "metadata": {},
   "outputs": [
    {
     "data": {
      "text/html": [
       "<div>\n",
       "<style scoped>\n",
       "    .dataframe tbody tr th:only-of-type {\n",
       "        vertical-align: middle;\n",
       "    }\n",
       "\n",
       "    .dataframe tbody tr th {\n",
       "        vertical-align: top;\n",
       "    }\n",
       "\n",
       "    .dataframe thead th {\n",
       "        text-align: right;\n",
       "    }\n",
       "</style>\n",
       "<table border=\"1\" class=\"dataframe\">\n",
       "  <thead>\n",
       "    <tr style=\"text-align: right;\">\n",
       "      <th></th>\n",
       "      <th>圖書館</th>\n",
       "      <th>館藏地</th>\n",
       "      <th>索書號</th>\n",
       "      <th>館藏狀態</th>\n",
       "      <th>連結</th>\n",
       "    </tr>\n",
       "  </thead>\n",
       "  <tbody>\n",
       "    <tr>\n",
       "      <th>0</th>\n",
       "      <td>台北海洋科技大學</td>\n",
       "      <td>台北海洋科技大學/通識淡總</td>\n",
       "      <td>177.3/ C.3</td>\n",
       "      <td>在館中</td>\n",
       "      <td>http://140.129.253.4/webopac7/det_data.php?pag...</td>\n",
       "    </tr>\n",
       "    <tr>\n",
       "      <th>1</th>\n",
       "      <td>台北海洋科技大學</td>\n",
       "      <td>台北海洋科技大學/通識淡總</td>\n",
       "      <td>177.3/8662 2014 C.2</td>\n",
       "      <td>在館中</td>\n",
       "      <td>http://140.129.253.4/webopac7/det_data.php?pag...</td>\n",
       "    </tr>\n",
       "    <tr>\n",
       "      <th>2</th>\n",
       "      <td>台北海洋科技大學</td>\n",
       "      <td>台北海洋科技大學/淡總館</td>\n",
       "      <td>177.3/8662</td>\n",
       "      <td>在館中</td>\n",
       "      <td>http://140.129.253.4/webopac7/det_data.php?pag...</td>\n",
       "    </tr>\n",
       "    <tr>\n",
       "      <th>3</th>\n",
       "      <td>台北海洋科技大學</td>\n",
       "      <td>台北海洋科技大學/士圖</td>\n",
       "      <td>177.3/8662</td>\n",
       "      <td>在館中</td>\n",
       "      <td>http://140.129.253.4/webopac7/det_data.php?pag...</td>\n",
       "    </tr>\n",
       "    <tr>\n",
       "      <th>4</th>\n",
       "      <td>台北海洋科技大學</td>\n",
       "      <td>台北海洋科技大學/士圖</td>\n",
       "      <td>177.3/8662 c.1</td>\n",
       "      <td>在館中</td>\n",
       "      <td>http://140.129.253.4/webopac7/det_data.php?pag...</td>\n",
       "    </tr>\n",
       "  </tbody>\n",
       "</table>\n",
       "</div>"
      ],
      "text/plain": [
       "        圖書館            館藏地                  索書號 館藏狀態  \\\n",
       "0  台北海洋科技大學  台北海洋科技大學/通識淡總           177.3/ C.3  在館中   \n",
       "1  台北海洋科技大學  台北海洋科技大學/通識淡總  177.3/8662 2014 C.2  在館中   \n",
       "2  台北海洋科技大學   台北海洋科技大學/淡總館           177.3/8662  在館中   \n",
       "3  台北海洋科技大學    台北海洋科技大學/士圖           177.3/8662  在館中   \n",
       "4  台北海洋科技大學    台北海洋科技大學/士圖       177.3/8662 c.1  在館中   \n",
       "\n",
       "                                                  連結  \n",
       "0  http://140.129.253.4/webopac7/det_data.php?pag...  \n",
       "1  http://140.129.253.4/webopac7/det_data.php?pag...  \n",
       "2  http://140.129.253.4/webopac7/det_data.php?pag...  \n",
       "3  http://140.129.253.4/webopac7/det_data.php?pag...  \n",
       "4  http://140.129.253.4/webopac7/det_data.php?pag...  "
      ]
     },
     "execution_count": 25,
     "metadata": {},
     "output_type": "execute_result"
    }
   ],
   "source": [
    "# driver = webdriver.Chrome(options=my_options, desired_capabilities=my_capabilities)\n",
    "# 台北海洋科技大學(\n",
    "#     driver=driver,\n",
    "#     org='台北海洋科技大學',\n",
    "#     org_url='http://140.129.253.4/webopac7/sim_data2.php?pageno=1&pagerows=15&orderby=BRN&ti=&au=&se=&su=&pr=&mt=&mt2=&yrs=&yre=&nn=&lc=&bn=',\n",
    "#     ISBN='9789861371955'\n",
    "# )"
   ]
  },
  {
   "cell_type": "code",
   "execution_count": null,
   "id": "b388fbdf",
   "metadata": {},
   "outputs": [],
   "source": []
  },
  {
   "cell_type": "code",
   "execution_count": null,
   "id": "392bd3d1",
   "metadata": {},
   "outputs": [],
   "source": []
  },
  {
   "cell_type": "code",
   "execution_count": null,
   "id": "9a28dc05",
   "metadata": {},
   "outputs": [],
   "source": []
  },
  {
   "cell_type": "code",
   "execution_count": null,
   "id": "569d5d2c",
   "metadata": {},
   "outputs": [],
   "source": []
  },
  {
   "cell_type": "markdown",
   "id": "6d95e2cc",
   "metadata": {},
   "source": [
    "## <font color='red'>待維修</font>基隆市公共圖書館(driver, org, org_url, ISBN) 很奇怪"
   ]
  },
  {
   "cell_type": "code",
   "execution_count": 26,
   "id": "2bbabf03",
   "metadata": {},
   "outputs": [],
   "source": [
    "# # 單筆\n",
    "# driver = webdriver.Chrome(options=my_options, desired_capabilities=my_capabilities)\n",
    "# 基隆市公共圖書館(\n",
    "#     driver=driver,\n",
    "#     org='基隆市公共圖書館',\n",
    "#     org_url='https://webpac.klccab.gov.tw/webpac/search.cfm',\n",
    "#     ISBN='9789869109321'\n",
    "# )"
   ]
  },
  {
   "cell_type": "code",
   "execution_count": 27,
   "id": "421079b0",
   "metadata": {},
   "outputs": [],
   "source": [
    "# # 多筆\n",
    "# driver = webdriver.Chrome(options=my_options, desired_capabilities=my_capabilities)\n",
    "# 基隆市公共圖書館(\n",
    "#     driver=driver,\n",
    "#     org='基隆市公共圖書館',\n",
    "#     org_url='https://webpac.klccab.gov.tw/webpac/search.cfm',\n",
    "#     ISBN='9789861371955'  # 被討厭的勇氣\n",
    "# )"
   ]
  }
 ],
 "metadata": {
  "kernelspec": {
   "display_name": "Python 3",
   "language": "python",
   "name": "python3"
  },
  "language_info": {
   "codemirror_mode": {
    "name": "ipython",
    "version": 3
   },
   "file_extension": ".py",
   "mimetype": "text/x-python",
   "name": "python",
   "nbconvert_exporter": "python",
   "pygments_lexer": "ipython3",
   "version": "3.8.8"
  },
  "toc": {
   "base_numbering": 1,
   "nav_menu": {},
   "number_sections": true,
   "sideBar": true,
   "skip_h1_title": false,
   "title_cell": "Table of Contents",
   "title_sidebar": "Contents",
   "toc_cell": false,
   "toc_position": {},
   "toc_section_display": true,
   "toc_window_display": false
  }
 },
 "nbformat": 4,
 "nbformat_minor": 5
}
