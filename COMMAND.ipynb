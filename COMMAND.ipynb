{
 "cells": [
  {
   "cell_type": "markdown",
   "id": "c49ab1e1",
   "metadata": {},
   "source": [
    "# 環境設置"
   ]
  },
  {
   "cell_type": "code",
   "execution_count": 1,
   "id": "085f6825",
   "metadata": {},
   "outputs": [],
   "source": [
    "from selenium import webdriver\n",
    "from selenium.webdriver.chrome.options import Options\n",
    "from selenium.webdriver.common.desired_capabilities import DesiredCapabilities\n",
    "import pandas as pd  # 載入 pandas\n",
    "from bs4 import BeautifulSoup"
   ]
  },
  {
   "cell_type": "markdown",
   "id": "2cb55568",
   "metadata": {},
   "source": [
    "# 自定義函式"
   ]
  },
  {
   "cell_type": "code",
   "execution_count": 2,
   "id": "29d7955c",
   "metadata": {},
   "outputs": [],
   "source": [
    "from crawlers import *"
   ]
  },
  {
   "cell_type": "code",
   "execution_count": 3,
   "id": "1c85e145",
   "metadata": {},
   "outputs": [],
   "source": [
    "my_options = Options()\n",
    "my_options.add_argument('--incognito')  # 開啟無痕模式\n",
    "my_capabilities = DesiredCapabilities.CHROME\n",
    "my_capabilities['pageLoadStrategy'] = 'eager'  # 頁面加載策略：HTML 解析成 DOM"
   ]
  },
  {
   "cell_type": "markdown",
   "id": "dabdc6dd",
   "metadata": {},
   "source": [
    "# 爬蟲程式測試"
   ]
  },
  {
   "cell_type": "markdown",
   "id": "fc503a1f",
   "metadata": {
    "heading_collapsed": true
   },
   "source": [
    "## <mark>完成</mark>webpac_gov_crawler(driver, org, org_url, ISBN)"
   ]
  },
  {
   "cell_type": "code",
   "execution_count": 4,
   "id": "4640d6d0",
   "metadata": {
    "hidden": true
   },
   "outputs": [],
   "source": [
    "#     driver = webdriver.Chrome(options=my_options, desired_capabilities=my_capabilities)\n",
    "#     webpac_gov_crawler(\n",
    "#         driver=driver,\n",
    "#         org='桃園市立圖書館',\n",
    "#         org_url='https://webpac.typl.gov.tw/',\n",
    "#         ISBN='986729193X'\n",
    "#     )"
   ]
  },
  {
   "cell_type": "markdown",
   "id": "409fdb0c",
   "metadata": {
    "heading_collapsed": true
   },
   "source": [
    "## <mark>完成</mark>webpac_jsp_crawler(driver, org, org_url, ISBN)"
   ]
  },
  {
   "cell_type": "code",
   "execution_count": 5,
   "id": "109751fb",
   "metadata": {
    "hidden": true,
    "scrolled": true
   },
   "outputs": [],
   "source": [
    "# # 載入網頁很久，這個 case 顯示出 wait 的優點\n",
    "# driver = webdriver.Chrome(options=my_options, desired_capabilities=my_capabilities)\n",
    "# webpac_jsp_crawler(\n",
    "#     driver=driver,\n",
    "#     org='佛光大學',\n",
    "#     org_url='http://libils.fgu.edu.tw/webpacIndex.jsp',\n",
    "#     ISBN='9573317249'\n",
    "# )"
   ]
  },
  {
   "cell_type": "code",
   "execution_count": 6,
   "id": "9df92b06",
   "metadata": {
    "hidden": true
   },
   "outputs": [],
   "source": [
    "# # 有多筆搜尋結果\n",
    "# driver = webdriver.Chrome(options=my_options, desired_capabilities=my_capabilities)\n",
    "# webpac_jsp_crawler(\n",
    "#     driver=driver,\n",
    "#     org='美和科技大學',\n",
    "#     org_url='http://webpac.meiho.edu.tw/webpacIndex.jsp',\n",
    "#     ISBN='9573317249'\n",
    "# )"
   ]
  },
  {
   "cell_type": "code",
   "execution_count": 7,
   "id": "c2fae384",
   "metadata": {
    "hidden": true
   },
   "outputs": [],
   "source": [
    "# # 臺北市立圖書館合併至此\n",
    "# driver = webdriver.Chrome(options=my_options, desired_capabilities=my_capabilities)\n",
    "# webpac_jsp_crawler(\n",
    "#     driver=driver,\n",
    "#     org='臺北市立圖書館',\n",
    "#     org_url='https://book.tpml.edu.tw/webpac/webpacIndex.jsp',\n",
    "#     ISBN='986729193X'\n",
    "# )"
   ]
  },
  {
   "cell_type": "markdown",
   "id": "30f67e30",
   "metadata": {},
   "source": [
    "## <mark>完成</mark>easy_crawler(driver, org, org_url, ISBN)"
   ]
  },
  {
   "cell_type": "code",
   "execution_count": 8,
   "id": "fbfe59f2",
   "metadata": {
    "scrolled": true
   },
   "outputs": [],
   "source": [
    "# driver = webdriver.Chrome(options=my_options, desired_capabilities=my_capabilities)\n",
    "# table = easy_crawler(\n",
    "#     driver=driver,\n",
    "#     org='逢甲大學',\n",
    "#     org_url='https://innopac.lib.fcu.edu.tw/search*cht/i',\n",
    "#     ISBN='9789868879348'  # 國家為什麼會失敗\n",
    "# )\n",
    "# table"
   ]
  },
  {
   "cell_type": "markdown",
   "id": "aac0756e",
   "metadata": {},
   "source": [
    "## <mark>完成</mark>webpac_pro_crawler(driver, org, org_url, ISBN)"
   ]
  },
  {
   "cell_type": "code",
   "execution_count": 9,
   "id": "5aaaf892",
   "metadata": {},
   "outputs": [],
   "source": [
    "# driver = webdriver.Chrome(options=my_options, desired_capabilities=my_capabilities)\n",
    "# table = webpac_pro_crawler(\n",
    "#     driver=driver,\n",
    "#     org='中央研究院',\n",
    "#     org_url='https://las.sinica.edu.tw/*cht',\n",
    "#     ISBN='9789869109321'\n",
    "# )\n",
    "# table"
   ]
  },
  {
   "cell_type": "markdown",
   "id": "c73353a6",
   "metadata": {},
   "source": [
    "## <font color='red'>待維修</font>webpac_ajax_page_crawler(driver, org, org_url, ISBN)"
   ]
  },
  {
   "cell_type": "code",
   "execution_count": 10,
   "id": "9320495c",
   "metadata": {},
   "outputs": [],
   "source": [
    "# driver = webdriver.Chrome(options=my_options, desired_capabilities=my_capabilities)\n",
    "# webpac_ajax_page_crawler(\n",
    "#     org='新北市立圖書館',\n",
    "#     org_url='https://webpac.tphcc.gov.tw/webpac/search.cfm',\n",
    "#     ISBN='9789869109321'\n",
    "# )"
   ]
  },
  {
   "cell_type": "markdown",
   "id": "6d95e2cc",
   "metadata": {},
   "source": [
    "## <font color='red'>待維修</font>基隆市公共圖書館(driver, org, org_url, ISBN) 很奇怪"
   ]
  },
  {
   "cell_type": "code",
   "execution_count": null,
   "id": "2bbabf03",
   "metadata": {},
   "outputs": [],
   "source": []
  },
  {
   "cell_type": "markdown",
   "id": "0e09a795",
   "metadata": {},
   "source": [
    "## <mark>完成</mark>國家圖書館(driver, org, org_url, ISBN)"
   ]
  },
  {
   "cell_type": "code",
   "execution_count": 13,
   "id": "e343decf",
   "metadata": {},
   "outputs": [
    {
     "data": {
      "text/html": [
       "<div>\n",
       "<style scoped>\n",
       "    .dataframe tbody tr th:only-of-type {\n",
       "        vertical-align: middle;\n",
       "    }\n",
       "\n",
       "    .dataframe tbody tr th {\n",
       "        vertical-align: top;\n",
       "    }\n",
       "\n",
       "    .dataframe thead th {\n",
       "        text-align: right;\n",
       "    }\n",
       "</style>\n",
       "<table border=\"1\" class=\"dataframe\">\n",
       "  <thead>\n",
       "    <tr style=\"text-align: right;\">\n",
       "      <th></th>\n",
       "      <th>圖書館</th>\n",
       "      <th>館藏地</th>\n",
       "      <th>索書號</th>\n",
       "      <th>館藏狀態</th>\n",
       "      <th>連結</th>\n",
       "    </tr>\n",
       "  </thead>\n",
       "  <tbody>\n",
       "    <tr>\n",
       "      <th>0</th>\n",
       "      <td>國家圖書館</td>\n",
       "      <td>典藏書庫</td>\n",
       "      <td>550.187 8757</td>\n",
       "      <td>限調閱3冊</td>\n",
       "      <td>https://aleweb.ncl.edu.tw/F/J1AHMDT4VM327HX5PU...</td>\n",
       "    </tr>\n",
       "  </tbody>\n",
       "</table>\n",
       "</div>"
      ],
      "text/plain": [
       "     圖書館   館藏地           索書號   館藏狀態  \\\n",
       "0  國家圖書館  典藏書庫  550.187 8757  限調閱3冊   \n",
       "\n",
       "                                                  連結  \n",
       "0  https://aleweb.ncl.edu.tw/F/J1AHMDT4VM327HX5PU...  "
      ]
     },
     "execution_count": 13,
     "metadata": {},
     "output_type": "execute_result"
    }
   ],
   "source": [
    "# driver = webdriver.Chrome(options=my_options, desired_capabilities=my_capabilities)\n",
    "# 國家圖書館(\n",
    "#     driver=driver,\n",
    "#     org='國家圖書館',\n",
    "#     org_url='https://aleweb.ncl.edu.tw/F',\n",
    "#     ISBN='9789869109321'\n",
    "# )"
   ]
  },
  {
   "cell_type": "code",
   "execution_count": 12,
   "id": "0afd0ff6",
   "metadata": {},
   "outputs": [
    {
     "name": "stdout",
     "output_type": "stream",
     "text": [
      "在「國家圖書館」找不到「9789861371955」\n"
     ]
    }
   ],
   "source": [
    "# # 被討厭的勇氣，無表格內容\n",
    "# driver = webdriver.Chrome(options=my_options, desired_capabilities=my_capabilities)\n",
    "# 國家圖書館(\n",
    "#     driver=driver,\n",
    "#     org='國家圖書館',\n",
    "#     org_url='https://aleweb.ncl.edu.tw/F',\n",
    "#     ISBN='9789861371955'\n",
    "# )"
   ]
  },
  {
   "cell_type": "code",
   "execution_count": null,
   "id": "2c7f85d9",
   "metadata": {},
   "outputs": [],
   "source": []
  },
  {
   "cell_type": "code",
   "execution_count": null,
   "id": "20640602",
   "metadata": {},
   "outputs": [],
   "source": []
  },
  {
   "cell_type": "code",
   "execution_count": null,
   "id": "a7d366f6",
   "metadata": {},
   "outputs": [],
   "source": []
  },
  {
   "cell_type": "code",
   "execution_count": null,
   "id": "8aac96f9",
   "metadata": {},
   "outputs": [],
   "source": []
  },
  {
   "cell_type": "code",
   "execution_count": null,
   "id": "493eb733",
   "metadata": {},
   "outputs": [],
   "source": []
  },
  {
   "cell_type": "code",
   "execution_count": null,
   "id": "8501f247",
   "metadata": {},
   "outputs": [],
   "source": []
  },
  {
   "cell_type": "code",
   "execution_count": null,
   "id": "b1f5148b",
   "metadata": {},
   "outputs": [],
   "source": []
  },
  {
   "cell_type": "code",
   "execution_count": null,
   "id": "b388fbdf",
   "metadata": {},
   "outputs": [],
   "source": []
  },
  {
   "cell_type": "code",
   "execution_count": null,
   "id": "392bd3d1",
   "metadata": {},
   "outputs": [],
   "source": []
  },
  {
   "cell_type": "code",
   "execution_count": null,
   "id": "9a28dc05",
   "metadata": {},
   "outputs": [],
   "source": []
  },
  {
   "cell_type": "code",
   "execution_count": null,
   "id": "569d5d2c",
   "metadata": {},
   "outputs": [],
   "source": []
  }
 ],
 "metadata": {
  "kernelspec": {
   "display_name": "Python 3",
   "language": "python",
   "name": "python3"
  },
  "language_info": {
   "codemirror_mode": {
    "name": "ipython",
    "version": 3
   },
   "file_extension": ".py",
   "mimetype": "text/x-python",
   "name": "python",
   "nbconvert_exporter": "python",
   "pygments_lexer": "ipython3",
   "version": "3.8.8"
  },
  "toc": {
   "base_numbering": 1,
   "nav_menu": {},
   "number_sections": true,
   "sideBar": true,
   "skip_h1_title": false,
   "title_cell": "Table of Contents",
   "title_sidebar": "Contents",
   "toc_cell": false,
   "toc_position": {},
   "toc_section_display": true,
   "toc_window_display": false
  }
 },
 "nbformat": 4,
 "nbformat_minor": 5
}
