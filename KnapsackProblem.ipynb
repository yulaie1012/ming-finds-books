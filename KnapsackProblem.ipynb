{
 "cells": [
  {
   "cell_type": "code",
   "execution_count": 7,
   "id": "3a785438",
   "metadata": {},
   "outputs": [],
   "source": [
    "def KP(max_load, weights, values, n):\n",
    "    if n == 0 or max_load == 0:\n",
    "        return 0\n",
    "\n",
    "    if (weights[n - 1] > max_load):\n",
    "        return KP(max_load, weights, values, n - 1)\n",
    "    else:\n",
    "        return max(values[n - 1] + KP(max_load - weights[n - 1], weights, values, n - 1),\n",
    "                   KP(max_load, weights, values, n - 1))"
   ]
  },
  {
   "cell_type": "code",
   "execution_count": 3,
   "id": "95c22656",
   "metadata": {},
   "outputs": [
    {
     "name": "stdout",
     "output_type": "stream",
     "text": [
      "220\n"
     ]
    }
   ],
   "source": [
    "n = 3\n",
    "max_load = 50\n",
    "weights = [10, 20, 30]\n",
    "values = [60, 100, 120]\n",
    "print(KP(max_load, weights, values, n))"
   ]
  },
  {
   "cell_type": "code",
   "execution_count": 8,
   "id": "02f826b5",
   "metadata": {},
   "outputs": [
    {
     "name": "stdout",
     "output_type": "stream",
     "text": [
      "11\n"
     ]
    }
   ],
   "source": [
    "n = 5\n",
    "max_load = 6\n",
    "weights = [3, 1, 2, 3, 3]\n",
    "values = [1, 3, 3, 5, 5]\n",
    "print(KP(max_load, weights, values, n))"
   ]
  }
 ],
 "metadata": {
  "kernelspec": {
   "display_name": "Python 3",
   "language": "python",
   "name": "python3"
  },
  "language_info": {
   "codemirror_mode": {
    "name": "ipython",
    "version": 3
   },
   "file_extension": ".py",
   "mimetype": "text/x-python",
   "name": "python",
   "nbconvert_exporter": "python",
   "pygments_lexer": "ipython3",
   "version": "3.8.8"
  },
  "toc": {
   "base_numbering": 1,
   "nav_menu": {},
   "number_sections": true,
   "sideBar": true,
   "skip_h1_title": false,
   "title_cell": "Table of Contents",
   "title_sidebar": "Contents",
   "toc_cell": false,
   "toc_position": {},
   "toc_section_display": true,
   "toc_window_display": false
  }
 },
 "nbformat": 4,
 "nbformat_minor": 5
}
