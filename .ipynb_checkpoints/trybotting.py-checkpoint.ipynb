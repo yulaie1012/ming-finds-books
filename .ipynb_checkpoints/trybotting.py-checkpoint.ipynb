{
 "cells": [
  {
   "cell_type": "code",
   "execution_count": null,
   "id": "affected-fiber",
   "metadata": {},
   "outputs": [],
   "source": [
    "import os\n",
    "import time\n",
    "import random\n",
    "import pandas as pd\n",
    "from selenium import webdriver\n",
    "from selenium.webdriver.support.ui import Select\n",
    "from selenium.webdriver.chrome.options import Options\n",
    "from selenium.webdriver.common.action_chains import ActionChains\n",
    "from bs4 import BeautifulSoup\n",
    "\n",
    "### change as needed\n",
    "load_dotenv()\n",
    "USERNAME = os.getenv(\"USERNAME\")\n",
    "PASSWORD = os.getenv(\"PASSWORD\") \n",
    "urltest = \"https://libholding.ntut.edu.tw/webpacIndex.jsp\"\n",
    "driver = webdriver.Chrome(\"C:\\\\Users\\mayda\\Downloads\\chromedriver\") \n",
    "driver.get(urltest)\n",
    "\n",
    "def NTNU_crawling(driver):\n",
    "    ISBN = input()\n",
    "    element = driver.find_element_by_id('search_inputS')\n",
    "    element.send_keys(ISBN)\n",
    "    select = Select(driver.find_element_by_id('search_field'))\n",
    "    select.select_by_value(\"STANDARDNO\")\n",
    "    search_gogogo = driver.find_element_by_xpath('/html/body/div[2]/table/tbody/tr/td[1]/div/div/div[1]/div/div[1]/div/form/table/tbody/tr[2]/td/input[3]').click()\n",
    "\n",
    "    time.sleep(5)\n",
    "    output = []\n",
    "    table = driver.find_element_by_class_name('order')\n",
    "    trlist = table.find_elements_by_tag_name('tr')\n",
    "    for row in trlist:\n",
    "        tdlist = row.find_elements_by_tag_name('td')\n",
    "        for sth in tdlist:\n",
    "            output = (tdlist[2].text, tdlist[8].text, end = \"\\n\")\n",
    "            break\n",
    "    \n",
    "    return(output)"
   ]
  }
 ],
 "metadata": {
  "kernelspec": {
   "display_name": "Python 3",
   "language": "python",
   "name": "python3"
  },
  "language_info": {
   "codemirror_mode": {
    "name": "ipython",
    "version": 3
   },
   "file_extension": ".py",
   "mimetype": "text/x-python",
   "name": "python",
   "nbconvert_exporter": "python",
   "pygments_lexer": "ipython3",
   "version": "3.9.2"
  }
 },
 "nbformat": 4,
 "nbformat_minor": 5
}
