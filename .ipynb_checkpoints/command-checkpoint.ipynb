{
 "cells": [
  {
   "cell_type": "markdown",
   "id": "3660d5dc",
   "metadata": {},
   "source": [
    "# 環境設置"
   ]
  },
  {
   "cell_type": "code",
   "execution_count": 1,
   "id": "085f6825",
   "metadata": {},
   "outputs": [],
   "source": [
    "from selenium import webdriver\n",
    "from selenium.webdriver.chrome.options import Options\n",
    "from selenium.webdriver.common.desired_capabilities import DesiredCapabilities\n",
    "import pandas as pd  # 載入 pandas\n",
    "from bs4 import BeautifulSoup"
   ]
  },
  {
   "cell_type": "markdown",
   "id": "11b42fc5",
   "metadata": {},
   "source": [
    "# 自定義函式"
   ]
  },
  {
   "cell_type": "code",
   "execution_count": 2,
   "id": "29d7955c",
   "metadata": {},
   "outputs": [],
   "source": [
    "from crawlers import *"
   ]
  },
  {
   "cell_type": "code",
   "execution_count": 3,
   "id": "1c85e145",
   "metadata": {},
   "outputs": [],
   "source": [
    "my_options = Options()\n",
    "my_options.add_argument('--incognito')  # 開啟無痕模式\n",
    "my_capabilities = DesiredCapabilities.CHROME\n",
    "my_capabilities['pageLoadStrategy'] = 'eager'  # 頁面加載策略：HTML 解析成 DOM"
   ]
  },
  {
   "cell_type": "markdown",
   "id": "67a8546e",
   "metadata": {},
   "source": [
    "# 爬蟲程式測試"
   ]
  },
  {
   "cell_type": "markdown",
   "id": "a89f3028",
   "metadata": {},
   "source": [
    "## webpac_gov_crawler(driver, org, org_url, ISBN)"
   ]
  },
  {
   "cell_type": "code",
   "execution_count": 4,
   "id": "b57c7097",
   "metadata": {},
   "outputs": [],
   "source": [
    "# if __name__ == '__main__':\n",
    "#     driver = webdriver.Chrome(options=my_options, desired_capabilities=my_capabilities)\n",
    "#     table = webpac_gov_crawler(\n",
    "#         driver=driver,\n",
    "#         org='桃園市立圖書館',\n",
    "#         org_url='https://webpac.typl.gov.tw/',\n",
    "#         ISBN='986729193X'\n",
    "#     )\n",
    "# table"
   ]
  },
  {
   "cell_type": "markdown",
   "id": "dea61426",
   "metadata": {},
   "source": [
    "## webpac_jsp_crawler(driver, org, org_url, ISBN)"
   ]
  },
  {
   "cell_type": "code",
   "execution_count": 5,
   "id": "8d6bad98",
   "metadata": {},
   "outputs": [],
   "source": [
    "# # 載入網頁很久，這個 case 顯示出 wait 的優點\n",
    "# driver = webdriver.Chrome(options=my_options, desired_capabilities=my_capabilities)\n",
    "# table = webpac_jsp_crawler(\n",
    "#     driver=driver,\n",
    "#     org='佛光大學',\n",
    "#     org_url='http://libils.fgu.edu.tw/webpacIndex.jsp',\n",
    "#     ISBN='95733172491'\n",
    "# )\n",
    "# table"
   ]
  },
  {
   "cell_type": "code",
   "execution_count": 6,
   "id": "3fc01a51",
   "metadata": {},
   "outputs": [],
   "source": [
    "# # 有多筆搜尋結果\n",
    "# driver = webdriver.Chrome(options=my_options, desired_capabilities=my_capabilities)\n",
    "# table = webpac_jsp_crawler(\n",
    "#     driver=driver,\n",
    "#     org='美和科技大學',\n",
    "#     org_url='http://webpac.meiho.edu.tw/webpacIndex.jsp',\n",
    "#     ISBN='9573317249'\n",
    "# )\n",
    "# table"
   ]
  },
  {
   "cell_type": "markdown",
   "id": "47dedabf",
   "metadata": {},
   "source": [
    "## easy_crawler(driver, org, org_url, ISBN)"
   ]
  },
  {
   "cell_type": "code",
   "execution_count": 7,
   "id": "9b05e379",
   "metadata": {
    "scrolled": true
   },
   "outputs": [],
   "source": [
    "# driver = webdriver.Chrome(options=my_options, desired_capabilities=my_capabilities)\n",
    "# table = easy_crawler(\n",
    "#     driver=driver,\n",
    "#     org='逢甲大學',\n",
    "#     org_url='https://innopac.lib.fcu.edu.tw/search*cht/i',\n",
    "#     ISBN='9789868879348'  # 國家為什麼會失敗\n",
    "# )\n",
    "# table"
   ]
  },
  {
   "cell_type": "markdown",
   "id": "1acaa6a0",
   "metadata": {},
   "source": [
    "## webpac_pro_crawler(driver, org, org_url, ISBN)"
   ]
  },
  {
   "cell_type": "code",
   "execution_count": 8,
   "id": "e48633dd",
   "metadata": {},
   "outputs": [
    {
     "data": {
      "text/html": [
       "<div>\n",
       "<style scoped>\n",
       "    .dataframe tbody tr th:only-of-type {\n",
       "        vertical-align: middle;\n",
       "    }\n",
       "\n",
       "    .dataframe tbody tr th {\n",
       "        vertical-align: top;\n",
       "    }\n",
       "\n",
       "    .dataframe thead th {\n",
       "        text-align: right;\n",
       "    }\n",
       "</style>\n",
       "<table border=\"1\" class=\"dataframe\">\n",
       "  <thead>\n",
       "    <tr style=\"text-align: right;\">\n",
       "      <th></th>\n",
       "      <th>圖書館</th>\n",
       "      <th>館藏地</th>\n",
       "      <th>索書號</th>\n",
       "      <th>館藏狀態</th>\n",
       "      <th>連結</th>\n",
       "    </tr>\n",
       "  </thead>\n",
       "  <tbody>\n",
       "    <tr>\n",
       "      <th>0</th>\n",
       "      <td>中央研究院</td>\n",
       "      <td>人社中心</td>\n",
       "      <td>550.187 4025</td>\n",
       "      <td>在架上</td>\n",
       "      <td>https://las.sinica.edu.tw/search*cht/a?searcht...</td>\n",
       "    </tr>\n",
       "    <tr>\n",
       "      <th>1</th>\n",
       "      <td>中央研究院</td>\n",
       "      <td>民族所圖書館</td>\n",
       "      <td>550.187 4025 2014</td>\n",
       "      <td>到期 10-05-21</td>\n",
       "      <td>https://las.sinica.edu.tw/search*cht/a?searcht...</td>\n",
       "    </tr>\n",
       "    <tr>\n",
       "      <th>2</th>\n",
       "      <td>中央研究院</td>\n",
       "      <td>近史所郭廷以圖書館</td>\n",
       "      <td>330.1891 081</td>\n",
       "      <td>在架上</td>\n",
       "      <td>https://las.sinica.edu.tw/search*cht/a?searcht...</td>\n",
       "    </tr>\n",
       "  </tbody>\n",
       "</table>\n",
       "</div>"
      ],
      "text/plain": [
       "     圖書館        館藏地                索書號         館藏狀態  \\\n",
       "0  中央研究院       人社中心       550.187 4025          在架上   \n",
       "1  中央研究院     民族所圖書館  550.187 4025 2014  到期 10-05-21   \n",
       "2  中央研究院  近史所郭廷以圖書館       330.1891 081          在架上   \n",
       "\n",
       "                                                  連結  \n",
       "0  https://las.sinica.edu.tw/search*cht/a?searcht...  \n",
       "1  https://las.sinica.edu.tw/search*cht/a?searcht...  \n",
       "2  https://las.sinica.edu.tw/search*cht/a?searcht...  "
      ]
     },
     "execution_count": 8,
     "metadata": {},
     "output_type": "execute_result"
    }
   ],
   "source": [
    "# driver = webdriver.Chrome(options=my_options, desired_capabilities=my_capabilities)\n",
    "# table = webpac_pro_crawler(\n",
    "#     driver=driver,\n",
    "#     org='中央研究院',\n",
    "#     org_url='https://las.sinica.edu.tw/*cht',\n",
    "#     ISBN='9789869109321'\n",
    "# )\n",
    "# table"
   ]
  },
  {
   "cell_type": "code",
   "execution_count": null,
   "id": "77b5a6c6",
   "metadata": {},
   "outputs": [],
   "source": []
  },
  {
   "cell_type": "code",
   "execution_count": null,
   "id": "68387b5c",
   "metadata": {},
   "outputs": [],
   "source": []
  },
  {
   "cell_type": "code",
   "execution_count": null,
   "id": "de294300",
   "metadata": {},
   "outputs": [],
   "source": []
  },
  {
   "cell_type": "code",
   "execution_count": null,
   "id": "b8bc713b",
   "metadata": {},
   "outputs": [],
   "source": []
  }
 ],
 "metadata": {
  "kernelspec": {
   "display_name": "Python 3",
   "language": "python",
   "name": "python3"
  },
  "language_info": {
   "codemirror_mode": {
    "name": "ipython",
    "version": 3
   },
   "file_extension": ".py",
   "mimetype": "text/x-python",
   "name": "python",
   "nbconvert_exporter": "python",
   "pygments_lexer": "ipython3",
   "version": "3.8.8"
  },
  "toc": {
   "base_numbering": 1,
   "nav_menu": {},
   "number_sections": true,
   "sideBar": true,
   "skip_h1_title": false,
   "title_cell": "Table of Contents",
   "title_sidebar": "Contents",
   "toc_cell": false,
   "toc_position": {},
   "toc_section_display": true,
   "toc_window_display": false
  }
 },
 "nbformat": 4,
 "nbformat_minor": 5
}
