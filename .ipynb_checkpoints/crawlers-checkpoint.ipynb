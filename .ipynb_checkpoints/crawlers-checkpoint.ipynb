{
 "cells": [
  {
   "cell_type": "markdown",
   "id": "6597e5ea",
   "metadata": {
    "heading_collapsed": true
   },
   "source": [
    "# 環境設置"
   ]
  },
  {
   "cell_type": "markdown",
   "id": "60aaef1e",
   "metadata": {
    "hidden": true
   },
   "source": [
    "## 載入套件\n",
    "- selenium、pandas、requests、bs4、time"
   ]
  },
  {
   "cell_type": "code",
   "execution_count": 1,
   "id": "56b01882",
   "metadata": {
    "code_folding": [],
    "hidden": true
   },
   "outputs": [],
   "source": [
    "from selenium import webdriver\n",
    "from selenium.webdriver.chrome.options import Options  # 設定 driver 的行為\n",
    "from selenium.webdriver.support.ui import Select  # 選擇＂下拉式選單＂\n",
    "from selenium.webdriver.common.keys import Keys  # 鍵盤操作\n",
    "from selenium.common.exceptions import NoSuchElementException, TimeoutException  # 載入常見錯誤\n",
    "from selenium.webdriver.common.desired_capabilities import DesiredCapabilities  # 更改載入策略\n",
    "from selenium.webdriver.support.ui import WebDriverWait  # 等待機制\n",
    "from selenium.webdriver.support import expected_conditions as EC  # 預期事件\n",
    "from selenium.webdriver.common.by import By  # 找尋元素的方法\n",
    "import pandas as pd  # 載入 pandas\n",
    "import pandas.io.formats.excel  # 輸出自定義格式 Excel\n",
    "import requests\n",
    "from bs4 import BeautifulSoup\n",
    "import time  # 強制等待"
   ]
  },
  {
   "cell_type": "markdown",
   "id": "4edc44de",
   "metadata": {
    "hidden": true
   },
   "source": [
    "## 設定 driver 的參數：options、desired_capabilities"
   ]
  },
  {
   "cell_type": "code",
   "execution_count": 2,
   "id": "e88fc343",
   "metadata": {
    "hidden": true
   },
   "outputs": [],
   "source": [
    "if __name__ == '__main__':\n",
    "    my_options = Options()\n",
    "    my_options.add_argument('--incognito')  # 開啟無痕模式\n",
    "    # my_options.add_argument('--start-maximized')  # 視窗最大化\n",
    "    # my_options.add_argument('--headless')  # 不開啟實體瀏覽器\n",
    "    my_capabilities = DesiredCapabilities.CHROME\n",
    "    my_capabilities['pageLoadStrategy'] = 'eager'  # 頁面加載策略：HTML 解析成 DOM"
   ]
  },
  {
   "cell_type": "markdown",
   "id": "35e7c162",
   "metadata": {},
   "source": [
    "# 自定義函式"
   ]
  },
  {
   "cell_type": "markdown",
   "id": "3901f822",
   "metadata": {},
   "source": [
    "## organize_columns(df1)\n",
    "- 處理欄位：圖書館、館藏地（c2）、索書號（c3）、館藏狀態（c4）、連結\n",
    "- 如果 df1 是裝著 DataFrame 的 list，則就合併它們；否則（df1 是 DataFrame），就接著執行以下敘述。\n",
    "- 丟掉垃圾欄位，整理成要呈現的表格\n",
    "- 新增必要欄位（圖書館、連結）\n",
    "- 填滿 NaN（用 ffill 的 方式）"
   ]
  },
  {
   "cell_type": "code",
   "execution_count": 3,
   "id": "18aa351f",
   "metadata": {},
   "outputs": [],
   "source": [
    "def organize_columns(df1):\n",
    "    # 合併全部的 DataFrame\n",
    "    try:\n",
    "        df1 = pd.concat(df1, axis=0, ignore_index=True)\n",
    "    except:\n",
    "        df1.reset_index(drop=True, inplace=True)\n",
    "\n",
    "    # 處理 column 2：館藏地\n",
    "    c2 = [\n",
    "        '分館/專室', '館藏地/室', '館藏室', '館藏地/館藏室', '館藏地', '典藏館', '館藏位置', '館藏地/區域',\n",
    "        '典藏地名稱', '館藏地/館別', '館藏地(已外借/總數)', '館藏地/區域Location', '現行位置'\n",
    "    ]\n",
    "    df1['c2'] = ''\n",
    "    for c in c2:\n",
    "        try:\n",
    "            df1['c2'] += df1[c]\n",
    "        except:\n",
    "            pass\n",
    "\n",
    "    # 處理 column 3：索書號\n",
    "    c3 = ['索書號', '索書號/期刊合訂本卷期', '索書號 / 部冊號', '索書號Call No.']\n",
    "    df1['c3'] = ''\n",
    "    for c in c3:\n",
    "        try:\n",
    "            df1['c3'] += df1[c]\n",
    "        except:\n",
    "            pass\n",
    "\n",
    "    # 處理 column 4：館藏狀態\n",
    "    c4 = [\n",
    "        '館藏位置(到期日期僅為期限，不代表上架日期)', '狀態/到期日', '目前狀態 / 到期日', '館藏狀態', '處理狀態',\n",
    "        '狀態 (說明)', '館藏現況 說明', '目前狀態/預計歸還日期', '圖書狀況 / 到期日', '調閱說明', '借閱狀態',\n",
    "        '狀態', '館藏狀態(月-日-西元年)', '圖書狀況', '現況/異動日', 'Unnamed: 24', '圖書狀況Book Status', '館藏狀況(月-日-西元年)'\n",
    "    ]\n",
    "    df1['c4'] = ''\n",
    "    for c in c4:\n",
    "        try:\n",
    "            df1['c4'] += df1[c]\n",
    "        except:\n",
    "            pass\n",
    "\n",
    "    # 直接生成另一個 DataFrame\n",
    "    df2 = pd.DataFrame()\n",
    "    df2['圖書館'] = df1['圖書館']\n",
    "    df2['館藏地'] = df1['c2']\n",
    "    df2['索書號'] = df1['c3']\n",
    "    df2['館藏狀態'] = df1['c4']\n",
    "    df2['連結'] = df1['連結']\n",
    "\n",
    "    # 遇到值為 NaN時，將前一列的值填補進來\n",
    "    df2.fillna(method=\"ffill\", axis=0, inplace=True)\n",
    "\n",
    "    return df2"
   ]
  },
  {
   "cell_type": "markdown",
   "id": "a6bc6331",
   "metadata": {
    "heading_collapsed": true
   },
   "source": [
    "## set_excel(df, directory) 暫停\n",
    "- 待"
   ]
  },
  {
   "cell_type": "code",
   "execution_count": 4,
   "id": "5c88d73f",
   "metadata": {
    "code_folding": [],
    "hidden": true
   },
   "outputs": [],
   "source": [
    "def set_excel(df, directory):\n",
    "    # B｢圖書館｣、C「館藏地」、D「索書號」、E「館藏狀態」、F「連結」\n",
    "    pandas.io.formats.excel.header_style = None  # 標題格式清除\n",
    "    writer = pd.ExcelWriter(directory)\n",
    "    df.to_excel(writer, sheet_name=\"搜尋結果\")\n",
    "\n",
    "    workbook1 = writer.book\n",
    "    worksheets = writer.sheets\n",
    "    worksheet1 = worksheets[\"搜尋結果\"]\n",
    "\n",
    "    # 測試\n",
    "    cell_format = workbook1.add_format({\n",
    "        \"font_name\": \"微軟正黑體\",\n",
    "        \"font_size\": 16,\n",
    "        \"align\": \"left\",\n",
    "        #         \"border\": 80,\n",
    "    })\n",
    "    worksheet1.set_column(\"B:F\", 40, cell_format)\n",
    "\n",
    "    # 設定單元格的寬度\n",
    "    #     worksheet1.set_column(\"B:F\", 35)\n",
    "\n",
    "    writer.save()\n",
    "    print(\"爬取完成\")"
   ]
  },
  {
   "cell_type": "markdown",
   "id": "95a237e2",
   "metadata": {},
   "source": [
    "## wait_for_element_present(driver, element_position, waiting_time=5, by=By.CSS_SELECTOR)\n",
    "- 用法：\n",
    "    - 等待 element 出現，每間隔 0.5 秒定位一次，直到 5 秒。如果定位 element 成功，回傳 element；否則，回傳 None。\n",
    "- 參數：\n",
    "    - driver\n",
    "    - element_position：元素位置，預設 CSS selector\n",
    "    - waiting_time：等待時間，預設 5 秒\n",
    "    - by：定位方式，預設 By.CSS_SELECTOR"
   ]
  },
  {
   "cell_type": "code",
   "execution_count": 5,
   "id": "6046b6c8",
   "metadata": {},
   "outputs": [],
   "source": [
    "def wait_for_element_present(driver, element_position, waiting_time=5, by=By.CSS_SELECTOR):\n",
    "    try:\n",
    "        element = WebDriverWait(driver, waiting_time).until(\n",
    "            EC.presence_of_element_located((by, element_position)))\n",
    "    except:\n",
    "        return\n",
    "    else:\n",
    "        return element"
   ]
  },
  {
   "cell_type": "markdown",
   "id": "9ccb1f0e",
   "metadata": {},
   "source": [
    "## wait_for_elements_present(driver, element_position, waiting_time=5, by=By.CSS_SELECTOR)"
   ]
  },
  {
   "cell_type": "code",
   "execution_count": 43,
   "id": "71799c84",
   "metadata": {},
   "outputs": [],
   "source": [
    "def wait_for_element_present(driver, element_position, waiting_time=5, by=By.CSS_SELECTOR):\n",
    "    try:\n",
    "        element = WebDriverWait(driver, waiting_time).until(\n",
    "            EC.presence_of_all_elements_located((by, element_position)))\n",
    "    except:\n",
    "        return\n",
    "    else:\n",
    "        return element"
   ]
  },
  {
   "cell_type": "markdown",
   "id": "3ff87364",
   "metadata": {},
   "source": [
    "## wait_for_element_clickable(driver, element_position, waiting_time=5, by=By.LINK_TEXT)\n",
    "- 同上"
   ]
  },
  {
   "cell_type": "code",
   "execution_count": 6,
   "id": "45e03b07",
   "metadata": {},
   "outputs": [],
   "source": [
    "def wait_for_element_clickable(driver, element_position, waiting_time=5, by=By.LINK_TEXT):\n",
    "    try:\n",
    "        time.sleep(0.3)\n",
    "        element = WebDriverWait(driver, waiting_time).until(\n",
    "            EC.element_to_be_clickable((by, element_position)))\n",
    "    except:\n",
    "        return\n",
    "    else:\n",
    "        return element"
   ]
  },
  {
   "cell_type": "markdown",
   "id": "af1fc6ca",
   "metadata": {},
   "source": [
    "## wait_for_url_changed(driver, old_url, waiting_time=10)\n",
    "- 用法：\n",
    "    - 等待網址改變（輸入的網址和現在的網址進行比較），每間隔 0.5 秒檢查一次，直到 10 秒。如果網址有改變，回傳 True；否則，回傳 None。\n",
    "- 參數：\n",
    "    - driver\n",
    "    - old_url：舊網址\n",
    "    - waiting_time：等待時間，預設 10 秒"
   ]
  },
  {
   "cell_type": "code",
   "execution_count": 7,
   "id": "172625a7",
   "metadata": {},
   "outputs": [],
   "source": [
    "def wait_for_url_changed(driver, old_url, waiting_time=10):\n",
    "    try:\n",
    "        WebDriverWait(driver, waiting_time).until(EC.url_changes(old_url))\n",
    "    except:\n",
    "        return\n",
    "    else:\n",
    "        return True"
   ]
  },
  {
   "cell_type": "markdown",
   "id": "f275544a",
   "metadata": {},
   "source": [
    "## accurately_find_table_and_read_it(driver, table_position, table_index=0)\n",
    "- 用法：\n",
    "    - 精準定位 table 並讀取成 pd.DataFrame。如果定位 table 成功，回傳 table；否則，回傳 None。\n",
    "    - 為 table 增加＂圖書館＂和＂連結＂的欄位。\n",
    "- 參數：\n",
    "    - table_position：table 位置，預設 CSS selector"
   ]
  },
  {
   "cell_type": "code",
   "execution_count": 8,
   "id": "a78b7cd3",
   "metadata": {},
   "outputs": [],
   "source": [
    "def accurately_find_table_and_read_it(driver, table_position, table_index=0):\n",
    "    try:\n",
    "        if not wait_for_element_present(driver, table_position):\n",
    "            print(f'找不到 {table_position}！')\n",
    "            return\n",
    "        soup = BeautifulSoup(driver.page_source, 'html.parser')\n",
    "        table_innerHTML = soup.select(table_position)[table_index]\n",
    "        tgt = pd.read_html(str(table_innerHTML), encoding='utf-8')[0]\n",
    "        # tgt['圖書館'], tgt['連結'] = org, driver.current_url\n",
    "    except:\n",
    "        return\n",
    "    else:\n",
    "        return tgt"
   ]
  },
  {
   "cell_type": "markdown",
   "id": "ea7fa640",
   "metadata": {},
   "source": [
    "## select_ISBN_strategy(driver, select_position, option_position, waiting_time=30, by=By.NAME)\n",
    "- 用法：\n",
    "    - 等待 select 出現，並選擇以 ISBN 方式搜尋\n",
    "- 參數：\n",
    "    - driver\n",
    "    - select_position：select 位置，預設 name\n",
    "    - option_position：option 位置，預設 value\n",
    "    - waiting_time：等待時間，預設 30 秒\n",
    "    - by：預設 By.NAME"
   ]
  },
  {
   "cell_type": "code",
   "execution_count": 9,
   "id": "e01a1ec3",
   "metadata": {},
   "outputs": [],
   "source": [
    "def select_ISBN_strategy(driver, select_position, option_position, waiting_time=30, by=By.NAME):\n",
    "    time.sleep(0.5)\n",
    "    search_field = WebDriverWait(driver, waiting_time).until(EC.presence_of_element_located((by, select_position)))\n",
    "    select = Select(search_field)\n",
    "    select.select_by_value(option_position)"
   ]
  },
  {
   "cell_type": "markdown",
   "id": "792f16da",
   "metadata": {},
   "source": [
    "## search_ISBN(driver, ISBN, input_position, waiting_time=10, by=By.NAME)\n",
    "- 用法：\n",
    "    - 等待 input 出現，輸入 ISBN 並按下 ENTER\n",
    "- 參數：\n",
    "    - ISBN：ISBN\n",
    "    - input_position：input 位置，預設 name\n",
    "    - waiting_time：等待時間，預設 10 秒\n",
    "    - by：預設 By.NAME"
   ]
  },
  {
   "cell_type": "code",
   "execution_count": 10,
   "id": "7c1c619f",
   "metadata": {},
   "outputs": [],
   "source": [
    "def search_ISBN(driver, ISBN, input_position, waiting_time=10, by=By.NAME):\n",
    "    time.sleep(0.5)\n",
    "    search_input = WebDriverWait(driver, waiting_time).until(EC.presence_of_element_located((by, input_position)))\n",
    "    search_input.send_keys(ISBN)\n",
    "    search_input.send_keys(Keys.ENTER)"
   ]
  },
  {
   "cell_type": "markdown",
   "id": "129f4f48",
   "metadata": {},
   "source": [
    "# 已完成的爬蟲程式"
   ]
  },
  {
   "cell_type": "markdown",
   "id": "7d527e1b",
   "metadata": {
    "heading_collapsed": true
   },
   "source": [
    "## <mark>完成</mark>webpac_gov_crawler(driver, org, org_url, ISBN)\n",
    "- 『最後編輯』：2021/08/02\n",
    "- 『函式完成度』：極高"
   ]
  },
  {
   "cell_type": "markdown",
   "id": "e8ec9cdc",
   "metadata": {
    "hidden": true
   },
   "source": [
    "### 函式說明\n",
    "\n",
    "- 『運作的原理』：\n",
    "- 『適用的機構』：[宜蘭縣公共圖書館](https://webpac.ilccb.gov.tw/)、[桃園市立圖書館](https://webpac.typl.gov.tw/)、[高雄市立圖書館](https://webpacx.ksml.edu.tw/)、[屏東縣公共圖書館](https://library.pthg.gov.tw/)、[花蓮縣公共圖書館](https://center.hccc.gov.tw/)、[澎湖縣公共圖書館](https://webpac.phlib.nat.gov.tw/)、[國立雲林科技大學](https://www.libwebpac.yuntech.edu.tw/)、[國家電影及視聽文化中心](https://lib.tfi.org.tw/)\n",
    "- 『能處理狀況』：判斷搜尋結果有沒有超過一筆、只有一筆搜尋結果有沒有跳轉、[多筆](https://webpac.typl.gov.tw/search?searchField=ISBN&searchInput=986729193X)、找不到書、[不斷的點擊＂載入更多＂](https://webpac.ilccb.gov.tw/bookDetail/419482?qs=%7B%5Eurl3%2C%2Fsearch4%2Cquery%5E%3A%7B%5Ephonetic3%2C04%2CqueryType3%2C04%2C%2Cs23%2CISBN4%2C%2Cs13%2C9789573317241%5E%7D%7D)\n",
    "- 『下一步優化』："
   ]
  },
  {
   "cell_type": "markdown",
   "id": "90721169",
   "metadata": {
    "hidden": true
   },
   "source": [
    "### 函式本體"
   ]
  },
  {
   "cell_type": "code",
   "execution_count": 11,
   "id": "59387ea3",
   "metadata": {
    "hidden": true
   },
   "outputs": [],
   "source": [
    "def click_more_btn(driver):\n",
    "    try:\n",
    "        while True:\n",
    "            more_btn = wait_for_element_clickable(driver, '載入更多')\n",
    "            if not more_btn:\n",
    "                return\n",
    "            more_btn.click()\n",
    "            time.sleep(2)  # 不得已的強制等待\n",
    "    except:\n",
    "        return"
   ]
  },
  {
   "cell_type": "code",
   "execution_count": 12,
   "id": "a4992846",
   "metadata": {
    "hidden": true
   },
   "outputs": [],
   "source": [
    "def webpac_gov_crawler(driver, org, org_url, ISBN):\n",
    "    try:\n",
    "        table = []\n",
    "\n",
    "        driver.get(org_url + 'advanceSearch')\n",
    "        select_ISBN_strategy(driver, 'searchField', 'ISBN')\n",
    "        search_ISBN(driver, ISBN, 'searchInput')\n",
    "\n",
    "        # 一筆\n",
    "        if wait_for_element_present(driver, '.bookplace_list > table', 10):\n",
    "            click_more_btn(driver)\n",
    "            tgt = accurately_find_table_and_read_it(driver, '.bookplace_list > table')\n",
    "            tgt['圖書館'], tgt['連結'] = org, driver.current_url\n",
    "            table.append(tgt)\n",
    "        # 多筆\n",
    "        elif wait_for_element_present(driver, '.data_all .data_quantity2 em', 5):\n",
    "            # 取得多個連結\n",
    "            tgt_urls = []\n",
    "            soup = BeautifulSoup(driver.page_source, 'html.parser')\n",
    "            anchors = soup.select('.bookdata > h2 > a')\n",
    "            for anchor in anchors:\n",
    "                tgt_urls.append(org_url + anchor['href'])\n",
    "            # 進入不同的連結\n",
    "            for tgt_url in tgt_urls:\n",
    "                driver.get(tgt_url)\n",
    "                if wait_for_element_present(driver, '.bookplace_list > table', 10):\n",
    "                    click_more_btn(driver)\n",
    "                    tgt = accurately_find_table_and_read_it(driver, '.bookplace_list > table')\n",
    "                    tgt['圖書館'], tgt['連結'] = org, driver.current_url\n",
    "                    table.append(tgt)\n",
    "        # 無\n",
    "        else:\n",
    "            print(f'在「{org}」找不到「{ISBN}」')\n",
    "            return\n",
    "\n",
    "        table = organize_columns(table)\n",
    "    except:\n",
    "        print(f'在「{org}」搜尋「{ISBN}」時，發生不明錯誤！')\n",
    "        return\n",
    "    else:\n",
    "        return table"
   ]
  },
  {
   "cell_type": "markdown",
   "id": "ddc9fb60",
   "metadata": {
    "heading_collapsed": true
   },
   "source": [
    "## <mark>完成</mark>webpac_jsp_crawler(driver, org, org_url, ISBN)\n",
    "- 『最後編輯』：2021/08/02\n",
    "- 『函式完成度』：極高"
   ]
  },
  {
   "cell_type": "markdown",
   "id": "3f14a3d0",
   "metadata": {
    "heading_collapsed": true,
    "hidden": true
   },
   "source": [
    "### 函式說明\n",
    "- 『運作的原理』：\n",
    "    - 使用 selenium 進行搜索。\n",
    "    - 大量使用 wait 機制，來應對加載過慢的網頁（例：[佛光大學](http://libils.fgu.edu.tw/webpacIndex.jsp)）\n",
    "    - 當搜尋結果只有一筆時，有些網站會直接進入＂書目資料＂（例：[國立宜蘭大學](https://lib.niu.edu.tw/webpacIndex.jsp)）\n",
    "        - 還是會停留在＂搜尋結果＂頁面，但大部分會看不到，網址仍會改變，所以無法用網址判定\n",
    "    - 當搜尋結果有多筆時，會要切換到 iframe 爬取。\n",
    "    - 有些＂書目資料＂會有沒有表格的情況（例：[中華科大](http://192.192.231.232/bookDetail.do?id=260965&nowid=3&resid=188809854)）\n",
    "- 『適用的機構』：[臺北市立圖書館](https://book.tpml.edu.tw/webpac/webpacIndex.jsp)、[國立宜蘭大學](https://lib.niu.edu.tw/webpacIndex.jsp)、[佛光大學](http://libils.fgu.edu.tw/webpacIndex.jsp)、[嘉南藥理大學](https://webpac.cnu.edu.tw/webpacIndex.jsp)、……\n",
    "- 『能處理狀況』：[一筆](http://webpac.meiho.edu.tw/bookDetail.do?id=194508)、[無](http://webpac.meiho.edu.tw/bookSearchList.do?searchtype=simplesearch&search_field=ISBN&search_input=97895733172411&searchsymbol=hyLibCore.webpac.search.common_symbol&execodehidden=true&execode=&ebook=)、[多筆](http://webpac.meiho.edu.tw/bookSearchList.do?searchtype=simplesearch&execodeHidden=true&execode=&search_field=ISBN&search_input=9789573317241&searchsymbol=hyLibCore.webpac.search.common_symbol&resid=189006169&nowpage=1#searchtype=simplesearch&execodeHidden=true&execode=&search_field=ISBN&search_input=9789573317241&searchsymbol=hyLibCore.webpac.search.common_symbol&resid=189006169&nowpage=1)、[無表格](http://192.192.231.232/bookDetail.do?id=260965&nowid=3&resid=188809854)\n",
    "- 『下一步優化』：\n",
    "    - 統一 search_input.submit() 和 search_input.send_keys(Keys.ENTER)？"
   ]
  },
  {
   "cell_type": "markdown",
   "id": "6e7f5297",
   "metadata": {
    "hidden": true
   },
   "source": [
    "### 函式本體"
   ]
  },
  {
   "cell_type": "code",
   "execution_count": 13,
   "id": "3039e43f",
   "metadata": {
    "code_folding": [],
    "hidden": true
   },
   "outputs": [],
   "source": [
    "def webpac_jsp_crawler(driver, org, org_url, ISBN):\n",
    "    try:\n",
    "        table = []\n",
    "        \n",
    "        driver.get(org_url)\n",
    "        try:\n",
    "            select_ISBN_strategy(driver, 'search_field', 'ISBN')\n",
    "        except:\n",
    "            select_ISBN_strategy(driver, 'search_field', 'STANDARDNO')  # 北科大\n",
    "        search_ISBN(driver, ISBN, 'search_input')\n",
    "        \n",
    "        # 一筆\n",
    "        if wait_for_element_present(driver, 'div.mainCon'):\n",
    "            if not wait_for_element_present(driver, 'table.order'):\n",
    "                print(f'在「{org}」找不到「{ISBN}」')\n",
    "                return\n",
    "            tgt = accurately_find_table_and_read_it(driver, 'table.order')\n",
    "            tgt['圖書館'], tgt['連結'] = org, driver.current_url\n",
    "            table.append(tgt)\n",
    "        # 多筆、零筆\n",
    "        elif wait_for_element_present(driver, 'iframe#leftFrame'):\n",
    "            iframe = driver.find_element_by_id('leftFrame')\n",
    "            driver.switch_to.frame(iframe)\n",
    "            time.sleep(1)  # 切換到 <frame> 需要時間，否則會無法讀取\n",
    "            \n",
    "            # 判斷是不是＂零筆＂查詢結果\n",
    "            if wait_for_element_present(driver, '#totalpage').text == '0':\n",
    "                print(f'在「{org}」找不到「{ISBN}」')\n",
    "                return\n",
    "            \n",
    "            # ＂多筆＂查詢結果\n",
    "            tgt_urls = []\n",
    "            anchors = driver.find_elements(By.LINK_TEXT, '詳細內容')\n",
    "            if anchors == []:\n",
    "                anchors = driver.find_elements(By.LINK_TEXT, '內容')\n",
    "            for anchor in anchors:\n",
    "                tgt_urls.append(anchor.get_attribute('href'))\n",
    "\n",
    "            for tgt_url in tgt_urls:\n",
    "                driver.get(tgt_url)\n",
    "                # 等待元素出現，如果出現，那麼抓取 DataFrame；如果沒出現，那麼跳出迴圈\n",
    "                if not wait_for_element_present(driver, 'table.order'):\n",
    "                    continue  # 暫停＂本次＂迴圈，以下敘述不會執行\n",
    "                tgt = accurately_find_table_and_read_it(driver, 'table.order')\n",
    "                tgt['圖書館'], tgt['連結'] = org, driver.current_url\n",
    "                table.append(tgt)\n",
    "        table = organize_columns(table)\n",
    "    except Exception as e:\n",
    "        print(f'在「{org}」搜尋「{ISBN}」時，發生錯誤，錯誤訊息為：「{e}」！')\n",
    "        return\n",
    "    else:\n",
    "        return table"
   ]
  },
  {
   "cell_type": "markdown",
   "id": "1fe4fabe",
   "metadata": {
    "heading_collapsed": true
   },
   "source": [
    "## <mark>完成</mark>easy_crawler(driver, org, org_url, ISBN)\n",
    "- 『最後編輯』：2021/08/02\n",
    "- 『函式完成度』：極高"
   ]
  },
  {
   "cell_type": "markdown",
   "id": "34bc14be",
   "metadata": {
    "hidden": true
   },
   "source": [
    "### 函式說明\n",
    "- 『運作的原理』：待輸入\n",
    "- 『適用的機構』：[國立臺灣師範大學](https://opac.lib.ntnu.edu.tw/search*cht/i)、[國立臺灣科技大學](https://sierra.lib.ntust.edu.tw/search*cht/i)、[國立臺灣海洋大學](https://ocean.ntou.edu.tw/search*cht/i)、[中原大學](http://cylis.lib.cycu.edu.tw/search*cht/i)、[逢甲大學](https://innopac.lib.fcu.edu.tw/search*cht/i)、[朝陽科技大學](https://millennium.lib.cyut.edu.tw/search*cht/i)、[國立中山大學](https://dec.lib.nsysu.edu.tw/search*cht/i)、[國立高雄師範大學](https://nknulib.nknu.edu.tw/search*cht/i)、[文藻外語大學](https://libpac.wzu.edu.tw/search*cht/i)、[大仁科技大學](http://lib.tajen.edu.tw/search*cht/i)、[國立中央大學](https://opac.lib.ncu.edu.tw/search*cht/i)\n",
    "- 『能處理狀況』：一筆、無\n",
    "- 『下一步優化』：\n",
    "    - 待輸入\n",
    "    - 待輸入"
   ]
  },
  {
   "cell_type": "markdown",
   "id": "49efecfe",
   "metadata": {
    "hidden": true
   },
   "source": [
    "### 函式本體"
   ]
  },
  {
   "cell_type": "code",
   "execution_count": 14,
   "id": "3ab878f9",
   "metadata": {
    "hidden": true
   },
   "outputs": [],
   "source": [
    "def easy_crawler(driver, org, org_url, ISBN):\n",
    "    try:\n",
    "        driver.get(org_url)\n",
    "        search_ISBN(driver, ISBN, 'SEARCH')\n",
    "\n",
    "        if not wait_for_element_present(driver, 'table.bibItems'):\n",
    "            print(f'在「{org}」找不到「{ISBN}」')\n",
    "            return\n",
    "\n",
    "        table = accurately_find_table_and_read_it(driver, 'table.bibItems')\n",
    "        table['圖書館'], table['連結'] = org, driver.current_url\n",
    "        table = organize_columns(table)\n",
    "    except Exception as e:\n",
    "        print(f'在「{org}」搜尋「{ISBN}」時，發生錯誤，錯誤訊息為：「{e}」！')\n",
    "        return\n",
    "    else:\n",
    "        return table"
   ]
  },
  {
   "cell_type": "markdown",
   "id": "0b562cd6",
   "metadata": {
    "heading_collapsed": true
   },
   "source": [
    "## <mark>完成</mark>webpac_pro_crawler(driver, org, org_url, ISBN)\n",
    "- 『最後編輯』：2021/08/02\n",
    "- 『函式完成度』：極高"
   ]
  },
  {
   "cell_type": "markdown",
   "id": "c2b83a6b",
   "metadata": {
    "hidden": true
   },
   "source": [
    "### 函式說明\n",
    "- 『運作的原理』：待輸入\n",
    "- 『適用的機構』：[中央研究院](https://las.sinica.edu.tw/*cht)、[中國文化大學](https://webpac.pccu.edu.tw/*cht)、[輔仁大學](https://library.lib.fju.edu.tw/)、[國立陽明交通大學](https://library.ym.edu.tw/screens/opacmenu_cht_s7.html)\n",
    "- 『能處理狀況』：一筆、無\n",
    "- 『下一步優化』：\n",
    "    - 待輸入\n",
    "    - 待輸入"
   ]
  },
  {
   "cell_type": "markdown",
   "id": "3fa514cb",
   "metadata": {
    "hidden": true
   },
   "source": [
    "### 函式本體"
   ]
  },
  {
   "cell_type": "code",
   "execution_count": 15,
   "id": "3dc695c5",
   "metadata": {
    "hidden": true
   },
   "outputs": [],
   "source": [
    "def webpac_pro_crawler(driver, org, org_url, ISBN):\n",
    "    try:\n",
    "        driver.get(org_url)\n",
    "        select_ISBN_strategy(driver, 'searchtype', 'i')\n",
    "        search_ISBN(driver, ISBN, 'searcharg')\n",
    "\n",
    "        if not wait_for_element_present(driver, 'table.bibItems'):\n",
    "            print(f'在「{org}」找不到「{ISBN}」')\n",
    "            return\n",
    "\n",
    "        table = accurately_find_table_and_read_it(driver, 'table.bibItems')\n",
    "        table['圖書館'], table['連結'] = org, driver.current_url\n",
    "        table = organize_columns(table)\n",
    "    except Exception as e:\n",
    "        print(f'在「{org}」搜尋「{ISBN}」時，發生錯誤，錯誤訊息為：「{e}」！')\n",
    "        return\n",
    "    else:\n",
    "        return table"
   ]
  },
  {
   "cell_type": "markdown",
   "id": "c19178cd",
   "metadata": {
    "heading_collapsed": true
   },
   "source": [
    "## <mark>完成</mark>webpac_ajax_crawler(driver, org, org_url, ISBN)\n",
    "- 『最後編輯』：2021/08/02\n",
    "- 『函式完成度』：極高"
   ]
  },
  {
   "cell_type": "markdown",
   "id": "f1e3c801",
   "metadata": {
    "hidden": true
   },
   "source": [
    "### 函式說明\n",
    "- 『運作的原理』：使用 selenium 進行搜索，進入＂書目資料＂頁面後，從該網址分析並得到 mid，在由此進入 ajax_page。\n",
    "- 『適用的機構』：[新北市立圖書館](https://webpac.tphcc.gov.tw/webpac/search.cfm)、[高雄市立空中大學](https://webpac.ouk.edu.tw/webpac/search.cfm)、[國立屏東大學](https://webpac.nptu.edu.tw/webpac/search.cfm)\n",
    "- 『能處理狀況』：判斷搜尋結果有沒有超過一筆、只有一筆搜尋結果有沒有跳轉、找不到書\n",
    "- 『下一步優化』：當搜尋無結果時，可以直接結束。"
   ]
  },
  {
   "cell_type": "markdown",
   "id": "dce4acdb",
   "metadata": {
    "hidden": true
   },
   "source": [
    "### 函式本體"
   ]
  },
  {
   "cell_type": "code",
   "execution_count": 16,
   "id": "95adc282",
   "metadata": {
    "hidden": true
   },
   "outputs": [],
   "source": [
    "def webpac_ajax_crawler(driver, org, org_url, ISBN):\n",
    "    try:\n",
    "        table = []\n",
    "\n",
    "        driver.get(org_url)\n",
    "        wait_for_element_clickable(driver, '進階查詢').click()  # 點擊＂進階查詢＂\n",
    "        select_ISBN_strategy(driver, 'as_type_1', 'i', by=By.ID)\n",
    "        search_ISBN(driver, ISBN, 'as_keyword_1', by=By.ID)\n",
    "\n",
    "        org_url = org_url.replace('/search.cfm', '')\n",
    "        if wait_for_element_present(driver, '詳細書目', by=By.LINK_TEXT):\n",
    "            tgt_urls = []\n",
    "            anchors = driver.find_elements_by_link_text('詳細書目')\n",
    "            for anchor in anchors:\n",
    "                tgt_urls.append(anchor.get_attribute('href'))\n",
    "\n",
    "            for tgt_url in tgt_urls:\n",
    "                mid = tgt_url.split('mid=')[-1].split('&')[0]\n",
    "                ajax_page_url = f'{org_url}/ajax_page/get_content_area.cfm?mid={mid}&i_list_number=250&i_page=1&i_sory_by=1'\n",
    "                tgt = pd.read_html(ajax_page_url, encoding='utf-8')[0]\n",
    "                tgt['圖書館'], tgt['連結'] = org, tgt_url\n",
    "                table.append(tgt)\n",
    "        elif wait_for_element_present(driver, 'div.book-detail'):  # 高雄市立空中大學、國立屏東大學才會遇到跳轉\n",
    "            tgt_url = driver.current_url\n",
    "            mid = tgt_url.split('mid=')[-1].split('&')[0]\n",
    "            ajax_page_url = f'{org_url}/ajax_page/get_content_area.cfm?mid={mid}&i_list_number=250&i_page=1&i_sory_by=1'\n",
    "            tgt = pd.read_html(ajax_page_url, encoding='utf-8')[0]\n",
    "            tgt['圖書館'], tgt['連結'] = org, tgt_url\n",
    "            table.append(tgt)\n",
    "        table = organize_columns(table)\n",
    "    except Exception as e:\n",
    "        print(f'在「{org}」搜尋「{ISBN}」時，發生錯誤，錯誤訊息為：「{e}」！')\n",
    "        return\n",
    "    else:\n",
    "        return table"
   ]
  },
  {
   "cell_type": "markdown",
   "id": "4f78ea9c",
   "metadata": {},
   "source": [
    "## <mark>完成</mark>webpac_aspx_crawler(driver, org, org_url, ISBN)\n",
    "- 『最後編輯』：2021/08/03\n",
    "- 『函式完成度』：高"
   ]
  },
  {
   "cell_type": "markdown",
   "id": "f153b13d",
   "metadata": {},
   "source": [
    "### 函式說明\n",
    "- 『運作的原理』：一直切 iframe\n",
    "- 『適用的機構』：[樹德科技大學](https://webpac.stu.edu.tw/webopac/)、[台灣首府大學](http://120.114.1.19/webopac/Jycx.aspx?dc=1&fc=1&n=7)、[崑山科技大學](https://weblis.lib.ksu.edu.tw/webopac/)、、、\n",
    "- 『能處理狀況』：一筆、多筆、無\n",
    "- 『下一步優化』：\n",
    "    - 無法取得＂書目資料＂的網址，用的是 JavaScript 語法\n",
    "    - ugly code"
   ]
  },
  {
   "cell_type": "markdown",
   "id": "1ff8dd48",
   "metadata": {},
   "source": [
    "### 函式本體"
   ]
  },
  {
   "cell_type": "code",
   "execution_count": 17,
   "id": "2dc6d350",
   "metadata": {},
   "outputs": [],
   "source": [
    "def webpac_aspx_crawler(driver, org, org_url, ISBN):\n",
    "    try:\n",
    "        table = []\n",
    "\n",
    "        driver.get(org_url)\n",
    "\n",
    "        time.sleep(1.5)\n",
    "        iframe = wait_for_element_present(driver, 'default', by=By.NAME)\n",
    "        driver.switch_to.frame(iframe)\n",
    "        select_ISBN_strategy(driver, 'ctl00$ContentPlaceHolder1$ListBox1', 'Info000076')\n",
    "        search_ISBN(driver, ISBN, 'ctl00$ContentPlaceHolder1$TextBox1')\n",
    "        driver.switch_to.default_content()\n",
    "        \n",
    "        i = 0\n",
    "        while True:\n",
    "            time.sleep(1.5)\n",
    "            iframe = wait_for_element_present(driver, 'default', by=By.NAME)\n",
    "            driver.switch_to.frame(iframe)\n",
    "            try:\n",
    "                wait_for_element_present(driver, f'//*[@id=\"ctl00_ContentPlaceHolder1_dg_ctl0{i+2}_lbtgcd2\"]', by=By.XPATH).click()\n",
    "            except:\n",
    "                break\n",
    "            driver.switch_to.default_content()\n",
    "\n",
    "            time.sleep(1.5)\n",
    "            iframe = wait_for_element_present(driver, 'default', by=By.NAME)\n",
    "            driver.switch_to.frame(iframe)\n",
    "            tgt = accurately_find_table_and_read_it(driver, '#ctl00_ContentPlaceHolder1_dg')\n",
    "            tgt['圖書館'], tgt['連結'] = org, driver.current_url\n",
    "            table.append(tgt)\n",
    "            driver.switch_to.default_content()\n",
    "\n",
    "            driver.back()\n",
    "            i += 1\n",
    "\n",
    "        try:\n",
    "            table = organize_columns(table)\n",
    "        except:\n",
    "            print(f'在「{org}」找不到「{ISBN}」')\n",
    "            return\n",
    "    except Exception as e:\n",
    "        print(f'在「{org}」搜尋「{ISBN}」時，發生錯誤，錯誤訊息為：「{e}」！')\n",
    "        return\n",
    "    else:\n",
    "        return table"
   ]
  },
  {
   "cell_type": "code",
   "execution_count": 18,
   "id": "864f01a0",
   "metadata": {},
   "outputs": [],
   "source": [
    "# driver = webdriver.Chrome(options=my_options, desired_capabilities=my_capabilities)\n",
    "# webpac_aspx_crawler(\n",
    "#     driver=driver,\n",
    "#     org='弘光科技大學',\n",
    "#     org_url='https://webpac.hk.edu.tw/webopac/',\n",
    "#     ISBN='9789869109321'\n",
    "# )"
   ]
  },
  {
   "cell_type": "code",
   "execution_count": 42,
   "id": "81941097",
   "metadata": {},
   "outputs": [
    {
     "name": "stdout",
     "output_type": "stream",
     "text": [
      "在「國立清華大學」搜尋「9789869109321」時，發生錯誤，錯誤訊息為：「Message: \n",
      "」！\n"
     ]
    }
   ],
   "source": [
    "driver = webdriver.Chrome(options=my_options, desired_capabilities=my_capabilities)\n",
    "webpac_aspx_crawler(\n",
    "    driver=driver,\n",
    "    org='國立清華大學',\n",
    "    org_url='https://webpac.lib.nthu.edu.tw/',\n",
    "    ISBN='9789869109321'\n",
    ")"
   ]
  },
  {
   "cell_type": "markdown",
   "id": "eed9ab2c",
   "metadata": {
    "heading_collapsed": true
   },
   "source": [
    "## <mark>完成</mark>uhtbin_crawler(driver, org, org_url, ISBN)\n",
    "- 『最後編輯』：2021/08/03\n",
    "- 『函式完成度』：高"
   ]
  },
  {
   "cell_type": "markdown",
   "id": "21f1ff09",
   "metadata": {
    "hidden": true
   },
   "source": [
    "### 函式說明\n",
    "- 『運作的原理』：待輸入\n",
    "- 『適用的機構』：[國立臺北護理健康大學](http://140.131.94.8/uhtbin/webcat)、[大同大學](http://140.129.23.14/uhtbin/webcat)、[國立體育大學](http://192.83.181.243/uhtbin/webcat)\n",
    "- 『能處理狀況』：一筆、無\n",
    "- 『下一步優化』：\n",
    "    - 待輸入\n",
    "    - 待輸入"
   ]
  },
  {
   "cell_type": "markdown",
   "id": "5ca547b1",
   "metadata": {
    "hidden": true
   },
   "source": [
    "### 函式本體"
   ]
  },
  {
   "cell_type": "code",
   "execution_count": 19,
   "id": "37c0b1e5",
   "metadata": {
    "hidden": true
   },
   "outputs": [],
   "source": [
    "def uhtbin_crawler(driver, org, org_url, ISBN):\n",
    "    try:\n",
    "        driver.get(org_url)\n",
    "        try:\n",
    "            select_ISBN_strategy(driver, 'srchfield1', 'GENERAL^SUBJECT^GENERAL^^所有欄位')\n",
    "        except:\n",
    "            select_ISBN_strategy(driver, 'srchfield1', '020^SUBJECT^SERIES^Title Processing^ISBN')\n",
    "        search_ISBN(driver, ISBN, 'searchdata1')\n",
    "        \n",
    "        if '未在任何圖書館找到' in driver.find_element(By.CSS_SELECTOR, 'table').text:\n",
    "            print(f'在「{org}」找不到「{ISBN}」')\n",
    "            return\n",
    "        \n",
    "        table = accurately_find_table_and_read_it(driver, 'table')\n",
    "        \n",
    "        # 特殊處理\n",
    "        table.drop([0, 1, 2], inplace=True)\n",
    "        table.drop([1, 2, 4], axis='columns', inplace=True)\n",
    "        table.rename(columns={0: '索書號', 3: '館藏狀態'}, inplace=True)\n",
    "        table['圖書館'], table['連結'], table['館藏地'] = org, driver.current_url, table['館藏狀態']\n",
    "        \n",
    "        table = organize_columns(table)\n",
    "    except Exception as e:\n",
    "        print(f'在「{org}」搜尋「{ISBN}」時，發生錯誤，錯誤訊息為：「{e}」！')\n",
    "        return\n",
    "    else:\n",
    "        return table"
   ]
  },
  {
   "cell_type": "code",
   "execution_count": 20,
   "id": "1d178c20",
   "metadata": {
    "hidden": true
   },
   "outputs": [],
   "source": [
    "# driver = webdriver.Chrome(options=my_options, desired_capabilities=my_capabilities)\n",
    "# uhtbin_crawler(\n",
    "#     driver=driver,\n",
    "#     org='大同大學',\n",
    "#     org_url='http://140.129.23.14/uhtbin/webcat',\n",
    "#     ISBN='9789861371955'\n",
    "# )"
   ]
  },
  {
   "cell_type": "markdown",
   "id": "3f537781",
   "metadata": {},
   "source": [
    "## <mark>完成</mark>toread_crawler(driver, org, org_url, ISBN)\n",
    "- 『最後編輯』：2021/08/05\n",
    "- 『函式完成度』：高、爆複雜"
   ]
  },
  {
   "cell_type": "markdown",
   "id": "0303c08e",
   "metadata": {},
   "source": [
    "### 函式說明\n",
    "- 『運作的原理』：待輸入\n",
    "- 『適用的機構』：[彰化縣圖書館](https://library.toread.bocach.gov.tw/toread/opac)、toread 系統\n",
    "- 『能處理狀況』：一筆、無、多筆、[翻頁](https://library.toread.bocach.gov.tw/toread/opac/bibliographic_view?NewBookMode=false&id=341724&mps=10&q=986729193X+OR+9789867291936&start=0&view=CONTENT)\n",
    "- 『下一步優化』：\n",
    "    - 待輸入"
   ]
  },
  {
   "cell_type": "markdown",
   "id": "0fbfb791",
   "metadata": {},
   "source": [
    "### 函式本體"
   ]
  },
  {
   "cell_type": "code",
   "execution_count": 21,
   "id": "7b70ef25",
   "metadata": {
    "scrolled": false
   },
   "outputs": [],
   "source": [
    "def toread_crawler(driver, org, org_url, ISBN):\n",
    "    try:\n",
    "        table = []\n",
    "\n",
    "        driver.get(org_url)\n",
    "        search_ISBN(driver, ISBN, 'q')\n",
    "\n",
    "        if not wait_for_element_present(driver, 'div#results'):\n",
    "            print(f'在{org}裡，沒有《{ISBN}》')\n",
    "            return\n",
    "\n",
    "        # 有 div#results，找出所有的＂書目資料＂的網址\n",
    "        tgt_urls = []\n",
    "        anchors = driver.find_elements(By.CSS_SELECTOR, 'div.img_reslt > a')\n",
    "        for anchor in anchors:\n",
    "            tgt_urls.append(anchor.get_attribute('href'))\n",
    "\n",
    "        # 進入各個＂書目資料＂爬取表格\n",
    "        for tgt_url in tgt_urls:\n",
    "            driver.get(tgt_url)\n",
    "            \n",
    "            # 電子書沒有 table\n",
    "            if not wait_for_element_present(driver, 'table.gridTable'):\n",
    "                continue\n",
    "\n",
    "            tgt = accurately_find_table_and_read_it(driver, 'table.gridTable')\n",
    "            tgt['圖書館'], tgt['連結'] = org, tgt_url\n",
    "\n",
    "            # 以下兩行，是＂彰化縣公共圖書館＂有多餘的 row，須要特別篩選調 NaN\n",
    "            try:\n",
    "                tgt = tgt.dropna(subset=['典藏地名稱'])\n",
    "            except:  # 國立高雄大學沒有這個狀況\n",
    "                pass\n",
    "            tgt.reset_index(drop=True, inplace=True)\n",
    "\n",
    "            table.append(tgt)\n",
    "            \n",
    "            # 換頁：書沒有那麼多吧 XD，土法煉鋼法\n",
    "            i = 0\n",
    "            while True:\n",
    "                try:\n",
    "                    wait_for_element_clickable(driver, str(2+i)).click()\n",
    "                    time.sleep(2.5)\n",
    "                    tgt = accurately_find_table_and_read_it(driver, 'table.gridTable')\n",
    "                    tgt['圖書館'], tgt['連結'] = org, tgt_url\n",
    "\n",
    "                    # 以下兩行，是＂彰化縣公共圖書館＂有多餘的 row，須要特別篩選調 NaN\n",
    "                    try:\n",
    "                        tgt = tgt.dropna(subset=['典藏地名稱'])\n",
    "                    except:  # 國立高雄大學沒有這個狀況\n",
    "                        pass\n",
    "                    tgt.reset_index(drop=True, inplace=True)\n",
    "\n",
    "                    table.append(tgt)\n",
    "                    i += 1\n",
    "                except:\n",
    "                    break\n",
    "        table = organize_columns(table)\n",
    "    except Exception as e:\n",
    "        print(f'在「{org}」搜尋「{ISBN}」時，發生錯誤，錯誤訊息為：「{e}」！')\n",
    "        return\n",
    "    else:\n",
    "        return table"
   ]
  },
  {
   "cell_type": "code",
   "execution_count": 22,
   "id": "dc28b5e1",
   "metadata": {},
   "outputs": [],
   "source": [
    "# driver = webdriver.Chrome(options=my_options, desired_capabilities=my_capabilities)\n",
    "# toread_crawler(\n",
    "#     driver=driver,\n",
    "#     org='高雄醫學大學',\n",
    "#     org_url='https://toread.kmu.edu.tw/toread/opac',\n",
    "#     ISBN='9789861371955'\n",
    "# )"
   ]
  },
  {
   "cell_type": "markdown",
   "id": "cd23f522",
   "metadata": {},
   "source": [
    "## 國立清華大學"
   ]
  },
  {
   "cell_type": "code",
   "execution_count": null,
   "id": "12746bf5",
   "metadata": {},
   "outputs": [],
   "source": [
    "# ISBN = 9789861371955  # 被討厭的勇氣\n",
    "# org = '國立清華大學'\n",
    "# org_url = 'https://webpac.lib.nthu.edu.tw/F/'\n",
    "\n",
    "# driver = webdriver.Chrome(options=my_options, desired_capabilities=my_capabilities)\n",
    "# driver.get(org_url)\n",
    "\n",
    "# # 等待頁面加載\n",
    "# print(\"等待頁面加載中…\")\n",
    "# for i in range(1, 4):\n",
    "#     time.sleep(1)\n",
    "#     print(i)\n",
    "\n",
    "# select = Select(driver.find_element_by_name(\"x\"))\n",
    "# select.select_by_visible_text(u\"ISSN / ISBN\")\n",
    "# search_input = driver.find_element_by_name(\"y\")\n",
    "# search_input.send_keys(ISBN)\n",
    "# # search_input.submit()  # 不知道為什麼無法 submit()？\n",
    "# submit_input = driver.find_element_by_name(\"Search\")\n",
    "# submit_input.click()\n",
    "\n",
    "# driver.find_element_by_xpath(\"//*[@id=\\\"gridview\\\"]/tbody/tr[2]/td[3]/a\").click()\n",
    "# driver.find_element_by_xpath(\"//*[@id=\\\"館藏地\\\"]/a\").click()\n",
    "\n",
    "# html_text = driver.page_source\n",
    "# dfs = pd.read_html(html_text, encoding=\"utf-8\")\n",
    "# df_target = dfs[13]\n",
    "\n",
    "# df_target.drop(df_target.columns[[0, 1, 2, 5, 7, 9, 10, 11, 12]], axis=1, inplace=True)\n",
    "# df_target[\"館藏地\"] = df_target[\"館藏地\"].str.split(\"; }\").str[-1].str.replace(\"/\", \"\").str.strip()\n",
    "# df_target[\"卷期描述\"].fillna(\"\", inplace=True)\n",
    "# df_target[\"索書號\"] = df_target[\"索書號\"].str.cat(df_target[\"卷期描述\"], sep=\" \")\n",
    "# df_target.pop(\"卷期描述\")\n",
    "# df_target[\"到期日\"] = df_target[\"到期日\"].str.split(\";\").str[-1].str.strip()\n",
    "# df_target.insert(0, \"圖書館\", [\"國立清華大學\" for i in range(df_target.shape[0])])\n",
    "# df_target.rename(columns={\"到期日\": \"館藏狀態\"}, inplace=True)\n",
    "# df_target"
   ]
  },
  {
   "cell_type": "code",
   "execution_count": null,
   "id": "8f0e75f3",
   "metadata": {},
   "outputs": [],
   "source": []
  },
  {
   "cell_type": "code",
   "execution_count": null,
   "id": "bc1b1f96",
   "metadata": {},
   "outputs": [],
   "source": []
  },
  {
   "cell_type": "code",
   "execution_count": null,
   "id": "f91cae19",
   "metadata": {},
   "outputs": [],
   "source": []
  },
  {
   "cell_type": "markdown",
   "id": "49fd3d1a",
   "metadata": {},
   "source": [
    "## <mark>完成</mark>連江縣公共圖書館(driver, org, org_url, ISBN)\n",
    "- 『最後編輯』：2021/08/03\n",
    "- 『函式完成度』：極高"
   ]
  },
  {
   "cell_type": "markdown",
   "id": "6c8f0048",
   "metadata": {},
   "source": [
    "### 函式說明\n",
    "- 『運作的原理』：待輸入\n",
    "- 『適用的機構』：[連江縣公共圖書館](http://210.63.206.76/Webpac2/msearch.dll/)、[開南大學](http://www.lib.knu.edu.tw/Webpac2/msearch.dll/)\n",
    "- 『能處理狀況』：一筆、無\n",
    "- 『下一步優化』：\n",
    "    - 開南大學搜尋哈利波特會有多個情況"
   ]
  },
  {
   "cell_type": "markdown",
   "id": "376b7212",
   "metadata": {},
   "source": [
    "### 函式本體"
   ]
  },
  {
   "cell_type": "code",
   "execution_count": 23,
   "id": "5e29a3f9",
   "metadata": {},
   "outputs": [],
   "source": [
    "def 連江縣公共圖書館(driver, org, org_url, ISBN):\n",
    "    try:\n",
    "        table = []\n",
    "\n",
    "        driver.get(org_url)\n",
    "        search_ISBN(driver, ISBN, 'ISBN')\n",
    "\n",
    "        if wait_for_element_present(driver, '重新查詢', by=By.LINK_TEXT):\n",
    "            print(f'在「{org}」找不到「{ISBN}」')\n",
    "            return\n",
    "\n",
    "        tgt = accurately_find_table_and_read_it(driver, 'table', -2)\n",
    "        tgt['圖書館'], tgt['連結'] = org, driver.current_url\n",
    "        table.append(tgt)\n",
    "\n",
    "        table = organize_columns(table)\n",
    "    except Exception as e:\n",
    "        print(f'在「{org}」搜尋「{ISBN}」時，發生錯誤，錯誤訊息為：「{e}」！')\n",
    "        return\n",
    "    else:\n",
    "        return table"
   ]
  },
  {
   "cell_type": "markdown",
   "id": "5893b2e0",
   "metadata": {},
   "source": [
    "# 自我獨立的爬蟲程式"
   ]
  },
  {
   "cell_type": "markdown",
   "id": "1e7c31d9",
   "metadata": {
    "heading_collapsed": true
   },
   "source": [
    "## <mark>完成</mark>國家圖書館(driver, org, org_url, ISBN)\n",
    "- 『最後編輯』：2021/08/02\n",
    "- 『函式完成度』：極高"
   ]
  },
  {
   "cell_type": "markdown",
   "id": "a29742f5",
   "metadata": {
    "hidden": true
   },
   "source": [
    "### 函式說明\n",
    "- 『運作的原理』：使用 Selenium\n",
    "- 『適用的機構』：[國家圖書館](https://aleweb.ncl.edu.tw/F)\n",
    "- 『能處理狀況』：找不到、一筆、[無表格內容](https://aleweb.ncl.edu.tw/F/MPXYG72FRS6Q4T31JTU5GKITQSE7B3ASA51D88R8BSTBT6T6E5-03970?func=item-global&doc_library=TOP02&doc_number=003632992&year=&volume=&sub_library=)\n",
    "- 『下一步優化』：\n",
    "    - 9789861371955\n",
    "    - 目前尚未遇到多筆情況\n",
    "    - 不知道可以和什麼機構的系統合併在一起？"
   ]
  },
  {
   "cell_type": "markdown",
   "id": "576bea2a",
   "metadata": {
    "hidden": true
   },
   "source": [
    "### 函式本體"
   ]
  },
  {
   "cell_type": "code",
   "execution_count": 24,
   "id": "b0adb1b4",
   "metadata": {
    "hidden": true
   },
   "outputs": [],
   "source": [
    "def 國家圖書館(driver, org, org_url, ISBN):\n",
    "    try:\n",
    "        driver.get(org_url)\n",
    "        select_ISBN_strategy(driver, 'find_code', 'ISBN')\n",
    "        search_ISBN(driver, ISBN, 'request')\n",
    "\n",
    "        # 點擊＂書在哪裡(請點選)＂，進入＂書目資料＂\n",
    "        wait_for_element_clickable(driver, '書在哪裡(請點選)').click()\n",
    "\n",
    "        table = accurately_find_table_and_read_it(driver, 'table', -2)\n",
    "        if 0 in table.columns:\n",
    "            print(f'在「{org}」找不到「{ISBN}」')\n",
    "            return\n",
    "        table['圖書館'], table['連結'] = org, driver.current_url\n",
    "        table = organize_columns(table)\n",
    "    except Exception as e:\n",
    "        # 沒有物件可以 click，表示＂零筆＂搜尋結果\n",
    "        print(f'在「{org}」搜尋「{ISBN}」時，發生錯誤，錯誤訊息為：「{e}」！')\n",
    "        return\n",
    "    return table"
   ]
  },
  {
   "cell_type": "markdown",
   "id": "15a58e12",
   "metadata": {
    "heading_collapsed": true
   },
   "source": [
    "## <mark>完成</mark>世新大學(driver, org, org_url, ISBN)\n",
    "- 『最後編輯』：2021/08/03\n",
    "- 『函式完成度』：極高"
   ]
  },
  {
   "cell_type": "markdown",
   "id": "4a7411b5",
   "metadata": {
    "hidden": true
   },
   "source": [
    "### 函式說明\n",
    "- 『運作的原理』：待輸入\n",
    "- 『適用的機構』：[世新大學](https://koha.shu.edu.tw/)\n",
    "- 『能處理狀況』：一筆、無\n",
    "- 『下一步優化』：\n",
    "    - 待輸入\n",
    "    - 待輸入"
   ]
  },
  {
   "cell_type": "markdown",
   "id": "bedbe7d7",
   "metadata": {
    "hidden": true
   },
   "source": [
    "### 函式本體"
   ]
  },
  {
   "cell_type": "code",
   "execution_count": 25,
   "id": "ec559302",
   "metadata": {
    "hidden": true
   },
   "outputs": [],
   "source": [
    "def 世新大學(driver, org, org_url, ISBN):\n",
    "    try:\n",
    "        driver.get(org_url)\n",
    "        search_ISBN(driver, ISBN, 'request')\n",
    "\n",
    "        table = accurately_find_table_and_read_it(driver, '#holdingst')\n",
    "        table['圖書館'], table['連結'] = org, driver.current_url\n",
    "        table = organize_columns(table)\n",
    "    except Exception as e:\n",
    "        print(f'在「{org}」找不到「{ISBN}」')\n",
    "        return\n",
    "    else:\n",
    "        return table"
   ]
  },
  {
   "cell_type": "code",
   "execution_count": 26,
   "id": "4361d66e",
   "metadata": {
    "hidden": true
   },
   "outputs": [],
   "source": [
    "# driver = webdriver.Chrome(options=my_options, desired_capabilities=my_capabilities)\n",
    "# 世新大學(\n",
    "#     driver=driver,\n",
    "#     org='世新大學',\n",
    "#     org_url='https://koha.shu.edu.tw/',\n",
    "#     ISBN='9789573317241'\n",
    "# )"
   ]
  },
  {
   "cell_type": "markdown",
   "id": "15fa9f68",
   "metadata": {
    "heading_collapsed": true
   },
   "source": [
    "## 國立臺灣博物館"
   ]
  },
  {
   "cell_type": "code",
   "execution_count": 27,
   "id": "bb1beeda",
   "metadata": {
    "hidden": true
   },
   "outputs": [],
   "source": [
    "# ISBN = 9789865321703  # 少男少女見學中 : 日本時代修學旅行開箱\n",
    "# org_url = 'https://lib.moc.gov.tw/F'\n",
    "\n",
    "# my_options = Options()\n",
    "# my_options.add_argument(\"--incognito\")  # 開啟無痕模式\n",
    "# # my_options.add_argument(\"--headless\")  # 不開啟實體瀏覽器\n",
    "# driver = webdriver.Chrome(options=my_options)\n",
    "# driver.get(\"\")\n",
    "\n",
    "# time.sleep(1)  # 為了等待網頁加載\n",
    "# select = Select(driver.find_element_by_name(\"x\"))\n",
    "# select.select_by_visible_text(u\"ISBN\")\n",
    "\n",
    "# search_input = driver.find_element_by_name(\"y\")\n",
    "# search_input.send_keys(ISBN)\n",
    "# # search_input.submit()  # 不知道為什麼無法 submit()？\n",
    "# submit_input = driver.find_element_by_name(\"Search\")\n",
    "# submit_input.click()\n",
    "\n",
    "# click = driver.find_element_by_xpath(\"/html/body/table[9]/tbody/tr/td[1]/table/tbody/tr[1]/td[2]/a\")\n",
    "# click.click()\n",
    "\n",
    "# html_text = driver.page_source\n",
    "# dfs = pd.read_html(html_text, encoding=\"utf-8\")\n",
    "# df_ntm = dfs[11]\n",
    "# df_ntm"
   ]
  },
  {
   "cell_type": "code",
   "execution_count": null,
   "id": "1d88f971",
   "metadata": {
    "hidden": true
   },
   "outputs": [],
   "source": []
  },
  {
   "cell_type": "code",
   "execution_count": null,
   "id": "5c1972dd",
   "metadata": {
    "hidden": true
   },
   "outputs": [],
   "source": []
  },
  {
   "cell_type": "code",
   "execution_count": null,
   "id": "56ee9a8f",
   "metadata": {
    "hidden": true
   },
   "outputs": [],
   "source": []
  },
  {
   "cell_type": "code",
   "execution_count": null,
   "id": "548ac367",
   "metadata": {
    "hidden": true
   },
   "outputs": [],
   "source": []
  },
  {
   "cell_type": "markdown",
   "id": "95c671b3",
   "metadata": {},
   "source": [
    "# 靖妤的爬蟲程式"
   ]
  },
  {
   "cell_type": "markdown",
   "id": "0caba4cd",
   "metadata": {
    "heading_collapsed": true
   },
   "source": [
    "## <mark>完成</mark>webpac_two_cralwer(driver, org, org_url, ISBN)\n",
    "- 『最後編輯』：2021/08/05\n",
    "- 『編輯者』：靖妤、仕瑋\n",
    "- 『運用的機構』：[國立臺北藝術大學](http://203.64.5.158/webpac/)、[國立勤益科技大學](http://140.128.95.172/webpac/)、[義守大學](http://webpac.isu.edu.tw/webpac/)、[中山醫學大學](http://140.128.138.208/webpac/)"
   ]
  },
  {
   "cell_type": "code",
   "execution_count": 28,
   "id": "dd00cece",
   "metadata": {
    "hidden": true
   },
   "outputs": [],
   "source": [
    "# def webpac_two_cralwer(driver, org, org_url, ISBN):\n",
    "#     try:\n",
    "#         tgt_url = f'{org_url}search/?q={ISBN}&field=isn&op=AND&type='\n",
    "#         driver.get(tgt_url)\n",
    "#         driver.find_element_by_xpath('/html/body/div/div[1]/div[2]/div/div/div[2]/div[3]/div[1]/div[3]/div/ul/li/div/div[2]/h3/a').click()\n",
    "        \n",
    "#         table = accurately_find_table_and_read_it(driver, '#LocalHolding > table')\n",
    "#         table['圖書館'], table['連結'] = org, driver.current_url\n",
    "#         table = organize_columns(table)\n",
    "#     except:\n",
    "#         print(f'在「{org}」找不到「{ISBN}」')\n",
    "#         return\n",
    "#     else:\n",
    "#         return table"
   ]
  },
  {
   "cell_type": "markdown",
   "id": "5fe0d3ed",
   "metadata": {
    "hidden": true
   },
   "source": [
    "### 函式本體"
   ]
  },
  {
   "cell_type": "code",
   "execution_count": 29,
   "id": "515231c5",
   "metadata": {
    "hidden": true
   },
   "outputs": [],
   "source": [
    "def webpac_two_cralwer(driver, org, org_url, ISBN):\n",
    "    try:\n",
    "        tgt_url = f'{org_url}search/?q={ISBN}&field=isn&op=AND&type='\n",
    "        driver.get(tgt_url)\n",
    "        \n",
    "        wait_for_element_clickable(driver, '/html/body/div/div[1]/div[2]/div/div/div[2]/div[3]/div[1]/div[3]/div/ul/li/div/div[2]/h3/a', waiting_time=15, by=By.XPATH).click()\n",
    "        \n",
    "        table = accurately_find_table_and_read_it(driver, '#LocalHolding > table')\n",
    "        table['圖書館'], table['連結'] = org, driver.current_url\n",
    "        \n",
    "        # 特殊狀況：國家衛生研究院\n",
    "        if 'http://webpac.nhri.edu.tw/webpac/' in org_url:\n",
    "            table.rename(columns={'館藏狀態': 'wow', '狀態／到期日': '館藏狀態'}, inplace=True)\n",
    "        \n",
    "        table = organize_columns(table)\n",
    "    except:\n",
    "        print(f'在「{org}」找不到「{ISBN}」')\n",
    "        return\n",
    "    else:\n",
    "        return table"
   ]
  },
  {
   "cell_type": "code",
   "execution_count": 30,
   "id": "36b53788",
   "metadata": {
    "hidden": true
   },
   "outputs": [],
   "source": [
    "# driver = webdriver.Chrome(options=my_options, desired_capabilities=my_capabilities)\n",
    "# webpac_two_cralwer(\n",
    "#     driver=driver,\n",
    "#     org='國家衛生研究院',\n",
    "#     org_url='http://webpac.nhri.edu.tw/webpac/',\n",
    "#     ISBN='986729193X'\n",
    "# )"
   ]
  },
  {
   "cell_type": "code",
   "execution_count": 41,
   "id": "0721820f",
   "metadata": {
    "hidden": true
   },
   "outputs": [
    {
     "name": "stdout",
     "output_type": "stream",
     "text": [
      "在「國立臺北藝術大學」找不到「986729193X」\n"
     ]
    }
   ],
   "source": [
    "driver = webdriver.Chrome(options=my_options, desired_capabilities=my_capabilities)\n",
    "webpac_two_cralwer(\n",
    "    driver=driver,\n",
    "    org='國立臺北藝術大學',\n",
    "    org_url='http://203.64.5.158/webpac/',\n",
    "    ISBN='986729193X'\n",
    ")"
   ]
  },
  {
   "cell_type": "markdown",
   "id": "f93b654d",
   "metadata": {},
   "source": [
    "## <mark>完成</mark>台北海洋科技大學(driver, org, org_url, ISBN)\n",
    "- 『最後編輯』：2021/08/03\n",
    "- 『編輯者』：靖妤\n",
    "- 『運用的機構』：[台北海洋科技大學](http://140.129.253.4/webopac7/sim_data2.php?pagerows=15&orderby=BRN&pageno=1&bn=986729193X)"
   ]
  },
  {
   "cell_type": "code",
   "execution_count": 32,
   "id": "74608fab",
   "metadata": {},
   "outputs": [],
   "source": [
    "def 台北海洋科技大學(driver, org, org_url, ISBN):\n",
    "    try:\n",
    "        df_lst = []\n",
    "        org_url = org_url + ISBN\n",
    "        driver.get(org_url)\n",
    "        result = driver.find_element_by_id(\"qresult-content\")\n",
    "        trlist = result.find_elements_by_tag_name('tr')\n",
    "        for row in range(2, len(trlist)):\n",
    "            css = \"#qresult-content > tbody > tr:nth-child(\" + str(row) + \") > td:nth-child(3) > a\"\n",
    "            into = driver.find_element_by_css_selector(css).click()\n",
    "            time.sleep(2)\n",
    "            html_text = driver.page_source\n",
    "            dfs = pd.read_html(html_text, encoding=\"utf-8\")\n",
    "            df_tumt = dfs[6]\n",
    "            df_tumt.rename(columns={1: \"館藏地\", 3: \"索書號\", 4: \"館藏狀態\"}, inplace=True)\n",
    "            df_tumt.drop([0], inplace=True)\n",
    "            df_tumt[\"圖書館\"], df_tumt[\"連結\"] = \"台北海洋科技大學\", driver.current_url\n",
    "            df_tumt = organize_columns(df_tumt)\n",
    "            df_lst.append(df_tumt)\n",
    "            back = driver.find_element_by_css_selector(\"#table1 > tbody > tr > td:nth-child(1) > a:nth-child(3)\").click()\n",
    "        table = pd.concat(df_lst, axis=0, ignore_index=True)\n",
    "    except Exception as e:\n",
    "            print(f'在「{org}」搜尋「{ISBN}」時，發生錯誤，錯誤訊息為：「{e}」！')\n",
    "            return\n",
    "    else:\n",
    "        return table"
   ]
  },
  {
   "cell_type": "code",
   "execution_count": 33,
   "id": "224f050b",
   "metadata": {},
   "outputs": [],
   "source": [
    "# driver = webdriver.Chrome(options=my_options, desired_capabilities=my_capabilities)\n",
    "# 台北海洋科技大學(\n",
    "#     driver=driver,\n",
    "#     org='台北海洋科技大學',\n",
    "#     org_url='http://140.129.253.4/webopac7/sim_data2.php?pageno=1&pagerows=15&orderby=BRN&ti=&au=&se=&su=&pr=&mt=&mt2=&yrs=&yre=&nn=&lc=&bn=',\n",
    "#     ISBN='986729193X'\n",
    "# )"
   ]
  },
  {
   "cell_type": "markdown",
   "id": "cb1f5108",
   "metadata": {},
   "source": [
    "## <font color='red'>進行中</font>primo_crawler(driver, org, url_front, ISBN ,url_behind , tcn)"
   ]
  },
  {
   "cell_type": "markdown",
   "id": "e57f7bf8",
   "metadata": {},
   "source": [
    "- 『最後編輯』：2021/08/03\n",
    "- 『編輯者』：靖妤\n",
    "- 『運用的機構』：[國立臺灣大學](https://ntu.primo.exlibrisgroup.com/discovery/search?sortby=rank&vid=886NTU_INST:886NTU_INST&lang=zh-tw)"
   ]
  },
  {
   "cell_type": "code",
   "execution_count": 34,
   "id": "68ae0e48",
   "metadata": {},
   "outputs": [],
   "source": [
    "#台大、政大、淡江、東吳、然後銘傳沒有索書碼QQ(要另外進去但我懶🙄)\n",
    "def primo_finding(driver, org, tcn): #primo爬資訊的def ；#tcn = thelist_class_name\n",
    "    sub_df_lst = []\n",
    "    time.sleep(5)\n",
    "    try:\n",
    "        back = driver.find_element_by_css_selector(\".tab-header .back-button.button-with-icon.zero-margin.md-button.md-primoExplore-theme.md-ink-ripple\")\n",
    "    except:\n",
    "        back = None\n",
    "    if back != None:\n",
    "        back.click()\n",
    "\n",
    "    thelist = driver.find_elements_by_class_name(tcn)\n",
    "    if tcn == 'md-2-line.md-no-proxy._md': #如果是東吳或銘傳\n",
    "        thelist = thelist[0:-2]\n",
    "    else:\n",
    "        pass\n",
    "\n",
    "    for row in thelist:\n",
    "        plist = row.find_elements_by_tag_name(\"p\")\n",
    "        where = row.find_elements_by_tag_name(\"h3\")\n",
    "        i = len(where)\n",
    "        for sth in plist:\n",
    "            a = sth.find_elements_by_tag_name(\"span\")\n",
    "            for _ in range(i):\n",
    "                now_url = driver.current_url\n",
    "                new_row = [org, where[_].text, a[4].text, a[0].text, now_url]\n",
    "                sub_df_lst.append(new_row)\n",
    "                break\n",
    "            break\n",
    "    return sub_df_lst"
   ]
  },
  {
   "cell_type": "code",
   "execution_count": 35,
   "id": "41502964",
   "metadata": {},
   "outputs": [],
   "source": [
    "def primo_crawler(driver, org, url_front, ISBN ,url_behind, tcn):\n",
    "    table = []\n",
    "    \n",
    "    url = url_front + ISBN + url_behind\n",
    "    primo_lst = []\n",
    "\n",
    "    try:\n",
    "        # 進入《館藏系統》頁面\n",
    "        driver.get(url)\n",
    "        time.sleep(8)\n",
    "\n",
    "        try: #開始爬蟲\n",
    "            editions = driver.find_elements_by_class_name('item-title') \n",
    "            if len(editions) > 1: #如果最外面有兩個版本(默認點進去不會再分版本了啦)(ex.政大 9789861371955)，直接交給下面處理\n",
    "                pass\n",
    "            else: #如果最外面只有一個版本，那有可能點進去還有再分，先click進去，再分一個版本跟多個版本的狀況\n",
    "                time.sleep(5)\n",
    "                editions[0].click()\n",
    "                time.sleep(5)\n",
    "                editions = driver.find_elements_by_class_name('item-title') #這時候是第二層的分版本了！(ex.政大 9789869109321)\n",
    "                \n",
    "            try: #先找叉叉確定是不是在最裡層了\n",
    "                back_check = driver.find_element_by_class_name(\"md-icon-button.close-button.full-view-navigation.md-button.md-primoExplore-theme.md-ink-ripple\")\n",
    "            except:\n",
    "                back_check = None\n",
    "            if back_check == None: #多個版本才要再跑迴圈(找不到叉叉代表不在最裡面，可知不是一個版本)\n",
    "                for i in range(0, len(editions)): #有幾個版本就跑幾次，不管哪一層版本都適用\n",
    "                    time.sleep(5)\n",
    "                    into = editions[i].click()\n",
    "                    time.sleep(10)\n",
    "                    primo_lst += primo_finding(org, tcn, driver)\n",
    "                    table = pd.concat(primo_lst, axis=0, ignore_index=True)\n",
    "                    try: \n",
    "                        back2 = driver.find_element_by_class_name(\"md-icon-button.close-button.full-view-navigation.md-button.md-primoExplore-theme.md-ink-ripple\").click()\n",
    "                    except:\n",
    "                        back2 = None\n",
    "\n",
    "            else: #如果只有一個版本(有叉叉的意思)，那前面已經click過了不能再做\n",
    "                time.sleep(12)\n",
    "                primo_lst += primo_finding(driver, org, tcn)\n",
    "                table = pd.DataFrame(primo_lst)\n",
    "                table.rename(columns={0: '圖書館', 1: '館藏地', 2: '索書號', 3: '館藏狀態', 4: '連結'}, inplace=True)\n",
    "        except:\n",
    "            pass\n",
    "    except:\n",
    "        pass\n",
    "    return table"
   ]
  },
  {
   "cell_type": "code",
   "execution_count": 36,
   "id": "a3496daf",
   "metadata": {
    "scrolled": false
   },
   "outputs": [],
   "source": [
    "# # 待測試\n",
    "# driver = webdriver.Chrome()\n",
    "# table = primo_crawler(\n",
    "#     driver=driver,\n",
    "#     org='國立臺灣大學',\n",
    "#     url_front='https://ntu.primo.exlibrisgroup.com/discovery/search?query=any,contains,',\n",
    "#     ISBN='9789573317241',\n",
    "#     url_behind='&tab=Everything&search_scope=MyInst_and_CI&vid=886NTU_INST:886NTU_INST&offset=0',\n",
    "#     tcn='layout-align-space-between-center.layout-row.flex-100'\n",
    "# )\n",
    "# table"
   ]
  },
  {
   "cell_type": "code",
   "execution_count": null,
   "id": "5d599d01",
   "metadata": {},
   "outputs": [],
   "source": []
  },
  {
   "cell_type": "code",
   "execution_count": null,
   "id": "491d5157",
   "metadata": {},
   "outputs": [],
   "source": []
  },
  {
   "cell_type": "code",
   "execution_count": 37,
   "id": "0b323a93",
   "metadata": {},
   "outputs": [],
   "source": [
    "# primo_crawler(\n",
    "#     driver=driver,\n",
    "#     org='國立政治大學',\n",
    "#     url_front='https://nccu.primo.exlibrisgroup.com/discovery/search?query=any,contains,',\n",
    "#     ISBN=ISBN,\n",
    "#     url_behind='&tab=Everything&search_scope=MyInst_and_CI&vid=886NCCU_INST:886NCCU_INST',\n",
    "#     tcn='layout-align-space-between-center.layout-row.flex-100'\n",
    "# )\n",
    "# primo_crawler(\n",
    "#     driver=driver,\n",
    "#     org=\"銘傳大學\",\n",
    "#     url_front=\"https://uco-mcu.primo.exlibrisgroup.com/discovery/search?query=any,contains,\",\n",
    "#     ISBN=ISBN,\n",
    "#     url_behind=\"&tab=Everything&search_scope=MyInst_and_CI&vid=886UCO_MCU:886MCU_INST&lang=zh-tw&offset=0\",\n",
    "#     tcn=\"md-2-line.md-no-proxy._md\"\n",
    "# )\n",
    "# primo_crawler(\n",
    "#     driver=driver,\n",
    "#     org=\"東吳大學\",\n",
    "#     url_front=\"https://uco-scu.primo.exlibrisgroup.com/discovery/search?query=any,contains,\",\n",
    "#     ISBN=ISBN,\n",
    "#     url_behind\"&tab=Everything&search_scope=MyInst_and_CI&vid=886UCO_SCU:886SCU_INST&lang=zh-tw&offset=0\",\n",
    "#     tcn=\"md-2-line.md-no-proxy._md\"\n",
    "# )"
   ]
  },
  {
   "cell_type": "code",
   "execution_count": null,
   "id": "1127687c",
   "metadata": {},
   "outputs": [],
   "source": []
  },
  {
   "cell_type": "code",
   "execution_count": null,
   "id": "98809331",
   "metadata": {},
   "outputs": [],
   "source": []
  },
  {
   "cell_type": "markdown",
   "id": "16fd6d0c",
   "metadata": {},
   "source": [
    "## <font color='red'>進行中</font>台中科技大學"
   ]
  },
  {
   "cell_type": "code",
   "execution_count": null,
   "id": "56db673d",
   "metadata": {},
   "outputs": [],
   "source": []
  },
  {
   "cell_type": "code",
   "execution_count": null,
   "id": "7c8c86b7",
   "metadata": {},
   "outputs": [],
   "source": []
  },
  {
   "cell_type": "code",
   "execution_count": null,
   "id": "a5c0fe7f",
   "metadata": {},
   "outputs": [],
   "source": []
  },
  {
   "cell_type": "markdown",
   "id": "a7f344a7",
   "metadata": {},
   "source": [
    "# 這網頁也太爛了吧……"
   ]
  },
  {
   "cell_type": "markdown",
   "id": "1d89a15b",
   "metadata": {},
   "source": [
    "## <font color='red'>待維修</font>基隆市公共圖書館(driver, org, org_url, ISBN) 很奇怪\n",
    "- 『最後編輯』：\n",
    "- 『函式完成度』：中"
   ]
  },
  {
   "cell_type": "markdown",
   "id": "3bfd0dfa",
   "metadata": {},
   "source": [
    "### 函式說明\n",
    "- 『運作的原理』：使用 Selenium\n",
    "- 『適用的機構』：[基隆市公共圖書館](https://webpac.klccab.gov.tw/webpac/search.cfm)\n",
    "- 『能處理狀況』：一筆、無\n",
    "- 『下一步優化』：\n",
    "    - 網站載入過慢，且 wait 方式不適用於此，只能使用大量的 time.sleep()"
   ]
  },
  {
   "cell_type": "markdown",
   "id": "e6f01a1d",
   "metadata": {},
   "source": [
    "### 函式本體"
   ]
  },
  {
   "cell_type": "code",
   "execution_count": 38,
   "id": "7d39a9ae",
   "metadata": {},
   "outputs": [],
   "source": [
    "# def 基隆市公共圖書館(driver, org, org_url, ISBN):\n",
    "#     try:\n",
    "#         driver.get(org_url)\n",
    "#         wait_for_element_clickable(driver, '進階檢索').click()  # 點擊＂進階檢索＂\n",
    "#         time.sleep(2)  # JavaScript 動畫，強制等待\n",
    "#         select_ISBN_strategy(driver, 'as_type_1', 'i')\n",
    "#         search_ISBN(driver, ISBN, 'as_keyword_1')\n",
    "\n",
    "#         time.sleep(8)  # 基隆的系統太詭異了，強制等待\n",
    "#         soup = BeautifulSoup(driver.page_source, \"html.parser\")\n",
    "#         results = len(soup.find_all(\"div\", \"list_box\"))\n",
    "#         if results < 2:\n",
    "#             WebDriverWait(driver, 10).until(\n",
    "#                 EC.presence_of_element_located(\n",
    "#                     (By.CSS_SELECTOR, \"table.list.list_border\")))\n",
    "#             time.sleep(2)\n",
    "#             table = pd.read_html(driver.page_source)[0]\n",
    "#         else:\n",
    "#             table = []\n",
    "#             for li in soup.find_all(\"div\", \"list_box\"):\n",
    "#                 url_temp = \"https://webpac.klccab.gov.tw/webpac/\" + li.find(\n",
    "#                     \"a\", \"btn\")[\"href\"]\n",
    "#                 driver.get(url_temp)\n",
    "#                 wait.until(\n",
    "#                     EC.presence_of_element_located(\n",
    "#                         (By.CSS_SELECTOR, \"table.list.list_border\")))\n",
    "#                 time.sleep(2)\n",
    "#                 table.append(\n",
    "#                     pd.read_html(driver.page_source, encoding=\"utf-8\")[0])\n",
    "#             table = pd.concat(table, axis=0, ignore_index=True)\n",
    "#         table['圖書館'], table['連結'] = org, driver.current_url\n",
    "#         table = organize_columns(table)\n",
    "#         return table\n",
    "#     except:\n",
    "#         print(f'《{ISBN}》在「{url}」無法爬取')"
   ]
  },
  {
   "cell_type": "code",
   "execution_count": 39,
   "id": "b483a9e2",
   "metadata": {},
   "outputs": [],
   "source": [
    "# def 基隆市公共圖書館(driver, org, org_url, ISBN):\n",
    "#     table = []\n",
    "\n",
    "#     driver.get(org_url)\n",
    "#     search_ISBN(driver, ISBN, 'ss_keyword')\n",
    "\n",
    "#     time.sleep(8)  # 基隆的系統太詭異了，強制等待\n",
    "\n",
    "#     if wait_for_element_present(driver, '.list_border'):  # 一筆\n",
    "#         tgt = accurately_find_table_and_read_it(driver, '.list_border')\n",
    "#         tgt['圖書館'], tgt['連結'] = org, driver.current_url\n",
    "#         table.append(tgt)\n",
    "#     elif wait_for_element_clickable(driver, '詳細書目'):  # 多筆\n",
    "#         tgt_urls = []\n",
    "#         anchors = driver.find_elements_by_link_text('詳細書目')\n",
    "#         for anchor in anchors:\n",
    "#             tgt_urls.append(anchor.get_attribute('href'))\n",
    "\n",
    "#         for tgt_url in tgt_urls:\n",
    "#             driver.get(tgt_url)\n",
    "\n",
    "#             if not wait_for_element_present(driver, '.list_border'):\n",
    "#                 continue\n",
    "#             tgt = accurately_find_table_and_read_it(driver, '.list_border')\n",
    "#             tgt['圖書館'], tgt['連結'] = org, driver.current_url\n",
    "#             table.append(tgt)\n",
    "#     table = organize_columns(table)\n",
    "#     return table"
   ]
  }
 ],
 "metadata": {
  "kernelspec": {
   "display_name": "Python 3",
   "language": "python",
   "name": "python3"
  },
  "language_info": {
   "codemirror_mode": {
    "name": "ipython",
    "version": 3
   },
   "file_extension": ".py",
   "mimetype": "text/x-python",
   "name": "python",
   "nbconvert_exporter": "python",
   "pygments_lexer": "ipython3",
   "version": "3.8.8"
  },
  "toc": {
   "base_numbering": 1,
   "nav_menu": {},
   "number_sections": true,
   "sideBar": true,
   "skip_h1_title": false,
   "title_cell": "Table of Contents",
   "title_sidebar": "Contents",
   "toc_cell": false,
   "toc_position": {
    "height": "calc(100% - 180px)",
    "left": "10px",
    "top": "150px",
    "width": "256px"
   },
   "toc_section_display": true,
   "toc_window_display": false
  }
 },
 "nbformat": 4,
 "nbformat_minor": 5
}
