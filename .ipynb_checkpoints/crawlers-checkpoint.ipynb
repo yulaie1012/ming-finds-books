{
 "cells": [
  {
   "cell_type": "markdown",
   "id": "7ef937f5",
   "metadata": {},
   "source": [
    "# 環境設置"
   ]
  },
  {
   "cell_type": "markdown",
   "id": "d95a665a",
   "metadata": {},
   "source": [
    "## 載入套件\n",
    "- selenium、pandas、requests、bs4、time"
   ]
  },
  {
   "cell_type": "code",
   "execution_count": 30,
   "id": "d5e64d25",
   "metadata": {
    "code_folding": []
   },
   "outputs": [],
   "source": [
    "from selenium import webdriver\n",
    "from selenium.webdriver.chrome.options import Options  # 設定 driver 的行為\n",
    "from selenium.webdriver.support.ui import Select  # 選擇＂下拉式選單＂\n",
    "from selenium.webdriver.common.keys import Keys  # 鍵盤操作\n",
    "from selenium.common.exceptions import NoSuchElementException, TimeoutException  # 載入常見錯誤\n",
    "from selenium.webdriver.common.desired_capabilities import DesiredCapabilities  # 更改載入策略\n",
    "from selenium.webdriver.support.ui import WebDriverWait  # 等待機制\n",
    "from selenium.webdriver.support import expected_conditions as EC  # 預期事件\n",
    "from selenium.webdriver.common.by import By  # 找尋元素的方法\n",
    "import pandas as pd  # 載入 pandas\n",
    "import requests\n",
    "from bs4 import BeautifulSoup\n",
    "import time  # 強制等待\n",
    "import os"
   ]
  },
  {
   "cell_type": "markdown",
   "id": "a27ef108",
   "metadata": {},
   "source": [
    "## 設定 driver 的參數：options、desired_capabilities"
   ]
  },
  {
   "cell_type": "code",
   "execution_count": 31,
   "id": "525670e0",
   "metadata": {},
   "outputs": [],
   "source": [
    "chrome_options = webdriver.ChromeOptions()\n",
    "chrome_options.binary_location = os.environ.get('GOOGLE_CHROME_BIN')\n",
    "chrome_options.add_argument('--incognito')\n",
    "chrome_options.add_argument('--headless')\n",
    "chrome_options.add_argument('disable-dev-shm-usage')\n",
    "chrome_options.add_argument('--no-sandbox')\n",
    "chrome_capabilities = DesiredCapabilities.CHROME\n",
    "chrome_capabilities['pageLoadStrategy'] = 'eager'  # 頁面加載策略：HTML 解析成 DOM\n",
    "\n",
    "\n",
    "# def get_chrome():\n",
    "#     return webdriver.Chrome(executable_path='C:/Users/jason/chromedriver.exe',\n",
    "#                             options=chrome_options,\n",
    "#                             desired_capabilities=chrome_capabilities)\n",
    "def get_chrome():\n",
    "    return webdriver.Chrome(executable_path=os.environ.get('CHROMEDRIVER_PATH'),\n",
    "                            options=chrome_options,\n",
    "                            desired_capabilities=chrome_capabilities)"
   ]
  },
  {
   "cell_type": "code",
   "execution_count": 3,
   "id": "76ca6754",
   "metadata": {
    "code_folding": [
     0
    ]
   },
   "outputs": [],
   "source": [
    "ORG_TO_URL = {\n",
    "  \"臺北市立圖書館\": \"https://book.tpml.edu.tw/webpac/webpacIndex.jsp\",\n",
    "  \"新竹市圖書館\": \"https://webpac.hcml.gov.tw/webpacIndex.jsp\",\n",
    "  \"新竹縣公共圖書館\": \"https://book.hchcc.gov.tw/webpacIndex.jsp\",\n",
    "  \"國立宜蘭大學\": \"https://lib.niu.edu.tw/webpacIndex.jsp\",\n",
    "  \"佛光大學\": \"http://libils.fgu.edu.tw/webpacIndex.jsp\",\n",
    "  \"經國管理暨健康學院\": \"http://203.64.136.248/webpacIndex.jsp\",\n",
    "  \"臺北醫學大學\": \"https://libelis.tmu.edu.tw/webpacIndex.jsp\",\n",
    "  \"國立臺灣藝術大學\": \"http://webpac.ntua.edu.tw/webpacIndex.jsp\",\n",
    "  \"中國科技大學\": \"https://webpac.cute.edu.tw/webpacIndex.jsp\",\n",
    "  \"臺北市立大學\": \"http://lib.utaipei.edu.tw/webpac/webpacIndex.jsp\",\n",
    "  \"國立臺北商業大學\": \"http://webpac.ntub.edu.tw/webpacIndex.jsp\",\n",
    "  \"中華科技大學\": \"http://192.192.231.232/webpacIndex.jsp\",\n",
    "  \"臺北基督學院\": \"http://webpac.cct.edu.tw/webpacIndex.jsp\",\n",
    "  \"宏國德霖科技大學\": \"http://210.60.142.23/webpacIndex.jsp\",\n",
    "  \"景文科技大學\": \"https://jinwenlib.just.edu.tw/webpacIndex.jsp\",\n",
    "  \"致理科技大學\": \"http://hylib.chihlee.edu.tw/webpacIndex.jsp\",\n",
    "  \"萬能科技大學\": \"http://webpac.lib.vnu.edu.tw/webpacIndex.jsp\",\n",
    "  \"健行科技大學\": \"https://library.uch.edu.tw/webpacIndex.jsp\",\n",
    "  \"明新科技大學\": \"https://hylib.lib.must.edu.tw/webpacIndex.jsp\",\n",
    "  \"國立空中大學\": \"https://hyweblib.nou.edu.tw/webpac/webpacIndex.jsp\",\n",
    "  \"苗栗縣公共圖書館\": \"https://webpac.miaoli.gov.tw/webpacIndex.jsp\",\n",
    "  \"育達科技大學\": \"http://120.106.11.155/webpacIndex.jsp\",\n",
    "  \"仁德醫護管理專科學校\": \"http://libopac.jente.edu.tw/webpacIndex.jsp\",\n",
    "  \"國立臺中教育大學\": \"http://webpac.lib.ntcu.edu.tw/webpacIndex.jsp\",\n",
    "  \"國立臺灣體育運動大學\": \"https://hylib.ntus.edu.tw/webpacIndex.jsp\",\n",
    "  \"東海大學\": \"https://webpac.lib.thu.edu.tw/webpacIndex.jsp\",\n",
    "  \"靜宜大學\": \"http://webpac.lib.pu.edu.tw/webpac/webpacIndex.jsp\",\n",
    "  \"僑光科技大學\": \"http://lib.webpac.ocu.edu.tw/webpacIndex.jsp\",\n",
    "  \"國立彰化師範大學\": \"https://book.ncue.edu.tw/webpacIndex.jsp\",\n",
    "  \"雲林縣公共圖書館\": \"http://library.ylccb.gov.tw/webpacIndex.jsp\",\n",
    "  \"嘉義縣圖書館\": \"https://www.cycab.gov.tw/webpacIndex.jsp\",\n",
    "  \"嘉義市政府文化局\": \"http://library.cabcy.gov.tw/webpacIndex.jsp\",\n",
    "  \"南華大學\": \"http://hylib.nhu.edu.tw//webpacIndex.jsp\",\n",
    "  \"嘉南藥理大學\": \"http://webpac.cnu.edu.tw/webpacIndex.jsp\",\n",
    "  \"遠東科技大學\": \"http://hy.lib.feu.edu.tw/webpacIndex.jsp\",\n",
    "  \"正修科技大學\": \"https://webpac2.csu.edu.tw/webpacIndex.jsp\",\n",
    "  \"美和科技大學\": \"http://webpac.meiho.edu.tw/webpacIndex.jsp\",\n",
    "  \"國立臺東大學\": \"http://hylib.lib.nttu.edu.tw/webpac/webpacIndex.jsp\",\n",
    "  \"國立金門大學\": \"https://lib.nqu.edu.tw/webpacIndex.jsp\",\n",
    "  \"金門縣圖書館\": \"https://library.kmccc.edu.tw/webpacIndex.jsp\",\n",
    "  \"臺東縣圖書館\": \"http://library.ccl.ttct.edu.tw/webpacIndex.jsp\",\n",
    "  \"國立臺北科技大學\": \"https://libholding.ntut.edu.tw/webpacIndex.jsp\",\n",
    "}"
   ]
  },
  {
   "cell_type": "code",
   "execution_count": 4,
   "id": "b811b5bc",
   "metadata": {
    "code_folding": [
     0,
     6
    ]
   },
   "outputs": [],
   "source": [
    "column2 = {\n",
    "    '分館/專室', '館藏地/室', '館藏室', '館藏地/館藏室', '館藏地', '典藏館', '館藏位置', '館藏地/區域',\n",
    "    '典藏地名稱', '館藏地/館別', '館藏地(已外借/總數)', '館藏地/區域Location', '現行位置', '典藏地點', '典藏區域',\n",
    "    '書架位置'\n",
    "}\n",
    "column3 = {'索書號', '索書號/期刊合訂本卷期', '索書號 / 部冊號', '索書號Call No.', '索書號(卷期)'}\n",
    "column4 = {\n",
    "    '館藏位置(到期日期僅為期限，不代表上架日期)', '狀態/到期日', '目前狀態 / 到期日', '館藏狀態', '處理狀態',\n",
    "    '狀態 (說明)', '館藏現況 說明', '目前狀態/預計歸還日期', '圖書狀況 / 到期日', '調閱說明', '借閱狀態', '狀態',\n",
    "    '館藏狀態(月-日-西元年)', '圖書狀況', '現況/異動日', 'Unnamed: 24', '圖書狀況Book Status',\n",
    "    '館藏狀況(月-日-西元年)', '現況', '處理狀態 (狀態說明)', '狀態／到期日'\n",
    "}"
   ]
  },
  {
   "cell_type": "markdown",
   "id": "1196bb8f",
   "metadata": {
    "heading_collapsed": true
   },
   "source": [
    "# 自定義函式"
   ]
  },
  {
   "cell_type": "markdown",
   "id": "b7717a97",
   "metadata": {
    "heading_collapsed": true,
    "hidden": true
   },
   "source": [
    "## organize_columns(df_list)\n",
    "- 處理欄位：圖書館、館藏地（c2）、索書號（c3）、館藏狀態（c4）、連結\n",
    "- 如果 df1 是裝著 DataFrame 的 list，則就合併它們；否則（df1 是 DataFrame），就接著執行以下敘述。\n",
    "- 丟掉垃圾欄位，整理成要呈現的表格\n",
    "- 新增必要欄位（圖書館、連結）\n",
    "- 填滿 NaN（用 ffill 的 方式）"
   ]
  },
  {
   "cell_type": "code",
   "execution_count": 5,
   "id": "55fdeace",
   "metadata": {
    "hidden": true
   },
   "outputs": [],
   "source": [
    "def organize_columns(df_list):\n",
    "    print(df_list)\n",
    "    try:\n",
    "        df1 = pd.concat(df_list, axis=0, ignore_index=True)\n",
    "    except:\n",
    "        df1 = df_list.reset_index(drop=True)\n",
    "    \n",
    "    df1_columns = set(df1.columns)\n",
    "\n",
    "    df1['column2'] = ''\n",
    "    for c in column2 & df1_columns:\n",
    "        df1['column2'] += df1[c]\n",
    "\n",
    "    df1['column3'] = ''\n",
    "    for c in column3 & df1_columns:\n",
    "        df1['column3'] += df1[c]\n",
    "\n",
    "    df1['column4'] = ''\n",
    "    for c in column4 & df1_columns:\n",
    "        df1['column4'] += df1[c]\n",
    "\n",
    "    # 直接生成另一個 DataFrame\n",
    "    df2 = pd.DataFrame()\n",
    "    df2['圖書館'] = df1['圖書館']\n",
    "    df2['館藏地'] = df1['column2']\n",
    "    df2['索書號'] = df1['column3']\n",
    "    df2['館藏狀態'] = df1['column4']\n",
    "    df2['連結'] = df1['連結']\n",
    "\n",
    "    # 遇到值為 NaN時，將前一列的值填補進來\n",
    "    df2.fillna(method=\"ffill\", axis=0, inplace=True)\n",
    "\n",
    "    return df2"
   ]
  },
  {
   "cell_type": "markdown",
   "id": "e71f04b9",
   "metadata": {
    "heading_collapsed": true,
    "hidden": true
   },
   "source": [
    "## DEFINED FUNCTIONS"
   ]
  },
  {
   "cell_type": "code",
   "execution_count": 20,
   "id": "f7b8949f",
   "metadata": {
    "hidden": true
   },
   "outputs": [],
   "source": [
    "def plot_horizontal_line():\n",
    "    print('='*50)\n",
    "\n",
    "def alert_execution_report(function):\n",
    "    plot_horizontal_line()\n",
    "    print(f'EXECUTE {function.__name__} FUNCTION!')\n",
    "\n",
    "def alert_exception_report(function, exception):\n",
    "    print(f'STOP {function.__name__} FUNCTION, MESSAGE: \"{exception}\"'.replace('\\n', ''))\n",
    "    plot_horizontal_line()\n",
    "\n",
    "def alert_completion_report(function):\n",
    "    print(f'COMPLETE {function.__name__} FUNCTION')\n",
    "    plot_horizontal_line()\n",
    "\n",
    "def node_off(waiting_time=0.5):\n",
    "    time.sleep(waiting_time)\n",
    "\n",
    "def wait_for_element_present(driver, element_position, waiting_time=5, by=By.CSS_SELECTOR):\n",
    "    function = wait_for_element_present\n",
    "    alert_execution_report(function)\n",
    "    try:\n",
    "        node_off()\n",
    "        element = WebDriverWait(driver, waiting_time).until(EC.presence_of_element_located((by, element_position)))\n",
    "    except Exception as e:\n",
    "        alert_exception_report(function, e)\n",
    "        return False\n",
    "    else:\n",
    "        return element\n",
    "\n",
    "def wait_for_elements_present(driver, elements_position, waiting_time=5, by=By.CSS_SELECTOR):\n",
    "    function = wait_for_elements_present\n",
    "    alert_execution_report(function)\n",
    "    try:\n",
    "        node_off()\n",
    "        elements = WebDriverWait(driver, waiting_time).until(EC.presence_of_all_elements_located((by, elements_position)))\n",
    "    except Exception as e:\n",
    "        alert_exception_report(function, e)\n",
    "        return False\n",
    "    else:\n",
    "        return elements\n",
    "\n",
    "def wait_for_element_clickable(driver, element_position, waiting_time=5, by=By.LINK_TEXT):\n",
    "    function = wait_for_element_clickable\n",
    "    alert_execution_report(function)\n",
    "    try:\n",
    "        node_off()\n",
    "        element = WebDriverWait(driver, waiting_time).until(EC.element_to_be_clickable((by, element_position)))\n",
    "    except Exception as e:\n",
    "        alert_exception_report(function, e)\n",
    "        return False\n",
    "    else:\n",
    "        return element\n",
    "\n",
    "def accurately_find_table_and_read_it(driver, table_position, table_index=0):\n",
    "    function = accurately_find_table_and_read_it\n",
    "    alert_execution_report(function)\n",
    "    try:\n",
    "        node_off()\n",
    "        if not wait_for_element_present(driver, table_position):\n",
    "            alert_exception_report(function, 'not found table')\n",
    "            return\n",
    "        soup = BeautifulSoup(driver.page_source, 'html.parser')\n",
    "        table_innerHTML = soup.select(table_position)[table_index]\n",
    "        tgt = pd.read_html(str(table_innerHTML), encoding='utf-8')[0]\n",
    "        # tgt['圖書館'], tgt['連結'] = org, driver.current_url\n",
    "    except Exception as e:\n",
    "        alert_exception_report(function, e)\n",
    "        return\n",
    "    else:\n",
    "        return tgt\n",
    "\n",
    "def select_ISBN_strategy(driver, select_position, option_position, waiting_time=30, by=By.NAME):\n",
    "    function = select_ISBN_strategy\n",
    "    alert_execution_report(function)\n",
    "    try:\n",
    "        search_field = WebDriverWait(driver, waiting_time).until(EC.presence_of_element_located((by, select_position)))\n",
    "        select = Select(search_field)\n",
    "        node_off()\n",
    "        select.select_by_value(option_position)\n",
    "    except Exception as e:\n",
    "        alert_exception_report(function, e)\n",
    "        return\n",
    "\n",
    "def search_ISBN(driver, ISBN, input_position, waiting_time=10, by=By.NAME):\n",
    "    function = search_ISBN\n",
    "    alert_execution_report(function)\n",
    "    try:\n",
    "        search_input = WebDriverWait(driver, waiting_time).until(EC.presence_of_element_located((by, input_position)))\n",
    "        search_input.send_keys(ISBN)\n",
    "        node_off()\n",
    "        search_input.send_keys(Keys.ENTER)\n",
    "    except Exception as e:\n",
    "        alert_exception_report(function, e)\n",
    "        return\n",
    "\n",
    "def get_all_tgt_urls(driver):\n",
    "    function = search_ISBN\n",
    "    alert_execution_report(function)\n",
    "    \n",
    "    tgt_urls = []\n",
    "\n",
    "    anchors = driver.find_elements(By.LINK_TEXT, '詳細內容')\n",
    "    if anchors == []:\n",
    "        anchors = driver.find_elements(By.LINK_TEXT, '內容')\n",
    "    for anchor in anchors:\n",
    "        tgt_urls.append(anchor.get_attribute('href'))\n",
    "\n",
    "    return tgt_urls"
   ]
  },
  {
   "cell_type": "code",
   "execution_count": 7,
   "id": "6489d273",
   "metadata": {
    "hidden": true
   },
   "outputs": [],
   "source": [
    "def get_all_arguments(function):\n",
    "    return [locals()[arg] for arg in inspect.getargspec(function).args]"
   ]
  },
  {
   "cell_type": "markdown",
   "id": "81220386",
   "metadata": {},
   "source": [
    "# 已完成的爬蟲程式"
   ]
  },
  {
   "cell_type": "markdown",
   "id": "5a92799a",
   "metadata": {},
   "source": [
    "## <mark>完成</mark>webpac_jsp_crawler(driver, org, ISBN)\n",
    "- 『最後編輯』：2021/09/01\n",
    "- 『函式完成度』：極高"
   ]
  },
  {
   "cell_type": "markdown",
   "id": "31be57eb",
   "metadata": {
    "heading_collapsed": true
   },
   "source": [
    "### 函式說明\n",
    "- 『運作的原理』：\n",
    "    - 使用 selenium 進行搜索。\n",
    "    - 大量使用 wait 機制，來應對加載過慢的網頁（例：[佛光大學](http://libils.fgu.edu.tw/webpacIndex.jsp)）\n",
    "    - 當搜尋結果只有一筆時，有些網站會直接進入＂書目資料＂（例：[國立宜蘭大學](https://lib.niu.edu.tw/webpacIndex.jsp)）\n",
    "        - 還是會停留在＂搜尋結果＂頁面，但大部分會看不到，網址仍會改變，所以無法用網址判定\n",
    "    - 當搜尋結果有多筆時，會要切換到 iframe 爬取。\n",
    "    - 有些＂書目資料＂會有沒有表格的情況（例：[中華科大](http://192.192.231.232/bookDetail.do?id=260965&nowid=3&resid=188809854)）\n",
    "- 『適用的機構』：[臺北市立圖書館](https://book.tpml.edu.tw/webpac/webpacIndex.jsp)、[國立宜蘭大學](https://lib.niu.edu.tw/webpacIndex.jsp)、[佛光大學](http://libils.fgu.edu.tw/webpacIndex.jsp)、[嘉南藥理大學](https://webpac.cnu.edu.tw/webpacIndex.jsp)、……\n",
    "- 『能處理狀況』：[一筆](http://webpac.meiho.edu.tw/bookDetail.do?id=194508)、[無](http://webpac.meiho.edu.tw/bookSearchList.do?searchtype=simplesearch&search_field=ISBN&search_input=97895733172411&searchsymbol=hyLibCore.webpac.search.common_symbol&execodehidden=true&execode=&ebook=)、[多筆](http://webpac.meiho.edu.tw/bookSearchList.do?searchtype=simplesearch&execodeHidden=true&execode=&search_field=ISBN&search_input=9789573317241&searchsymbol=hyLibCore.webpac.search.common_symbol&resid=189006169&nowpage=1#searchtype=simplesearch&execodeHidden=true&execode=&search_field=ISBN&search_input=9789573317241&searchsymbol=hyLibCore.webpac.search.common_symbol&resid=189006169&nowpage=1)、[無表格](http://192.192.231.232/bookDetail.do?id=260965&nowid=3&resid=188809854)\n",
    "- 『下一步優化』：\n",
    "    - 統一 search_input.submit() 和 search_input.send_keys(Keys.ENTER)？"
   ]
  },
  {
   "cell_type": "markdown",
   "id": "5ae6bd65",
   "metadata": {
    "heading_collapsed": true
   },
   "source": [
    "### 函式本體"
   ]
  },
  {
   "cell_type": "code",
   "execution_count": 13,
   "id": "881d7a17",
   "metadata": {
    "code_folding": [],
    "hidden": true
   },
   "outputs": [],
   "source": [
    "def webpac_jsp_crawler(driver, org, org_url, ISBN):\n",
    "    function = webpac_jsp_crawler\n",
    "    alert_execution_report(function)\n",
    "    try:\n",
    "        table = []\n",
    "        \n",
    "        driver.get(org_url)\n",
    "        try:\n",
    "            select_ISBN_strategy(driver, 'search_field', 'ISBN')\n",
    "        except:\n",
    "            select_ISBN_strategy(driver, 'search_field', 'STANDARDNO')  # 北科大\n",
    "        search_ISBN(driver, ISBN, 'search_input')\n",
    "        \n",
    "        # 一筆\n",
    "        if wait_for_element_present(driver, 'table.order'):\n",
    "            i = 0\n",
    "            while True:\n",
    "                try:\n",
    "                    tgt = accurately_find_table_and_read_it(driver, 'table.order')\n",
    "                    tgt['圖書館'], tgt['連結'] = org, driver.current_url\n",
    "                    table.append(tgt)\n",
    "\n",
    "                    wait_for_element_clickable(driver, str(2+i), 2).click()\n",
    "                    i += 1\n",
    "                    time.sleep(0.5)\n",
    "                except:\n",
    "                    break\n",
    "        # 多筆、零筆\n",
    "        elif wait_for_element_present(driver, 'iframe#leftFrame'):\n",
    "            iframe = driver.find_element_by_id('leftFrame')\n",
    "            driver.switch_to.frame(iframe)\n",
    "            time.sleep(1.5)  # 切換到 <frame> 需要時間，否則會無法讀取\n",
    "            \n",
    "            # 判斷是不是＂零筆＂查詢結果\n",
    "            if wait_for_element_present(driver, '#totalpage').text == '0':\n",
    "                alert_exception_report(function, 'not found book')\n",
    "                return\n",
    "            \n",
    "            # ＂多筆＂查詢結果\n",
    "            tgt_urls = get_all_tgt_urls(driver)\n",
    "\n",
    "            for tgt_url in tgt_urls:\n",
    "                driver.get(tgt_url)\n",
    "                # 等待元素出現，如果出現，那麼抓取 DataFrame；如果沒出現，那麼跳出迴圈\n",
    "                if wait_for_element_present(driver, 'table.order'):\n",
    "                    i = 0\n",
    "                    while True:\n",
    "                        try:\n",
    "                            tgt = accurately_find_table_and_read_it(driver, 'table.order')\n",
    "                            tgt['圖書館'], tgt['連結'] = org, driver.current_url\n",
    "                            table.append(tgt)\n",
    "\n",
    "                            wait_for_element_clickable(driver, str(2+i), 2).click()\n",
    "                            i += 1\n",
    "                            time.sleep(0.5)\n",
    "                        except:\n",
    "                            break\n",
    "                else:\n",
    "                    continue\n",
    "        table = organize_columns(table)\n",
    "    except Exception as e:\n",
    "        alert_exception_report(function, e)\n",
    "        return\n",
    "    else:\n",
    "        alert_completion_report(function)\n",
    "        return table"
   ]
  },
  {
   "cell_type": "markdown",
   "id": "be588ef3",
   "metadata": {},
   "source": [
    "### 函式測試"
   ]
  },
  {
   "cell_type": "code",
   "execution_count": null,
   "id": "0bed7fdb",
   "metadata": {
    "scrolled": true
   },
   "outputs": [],
   "source": [
    "# driver = get_chrome()\n",
    "# webpac_jsp_crawler(\n",
    "#     driver=driver, \n",
    "#     org='佛光大學',\n",
    "#     org_url='http://libils.fgu.edu.tw/webpacIndex.jsp',\n",
    "#     ISBN='9789573317241'\n",
    "# )"
   ]
  },
  {
   "cell_type": "code",
   "execution_count": null,
   "id": "5f675e2e",
   "metadata": {},
   "outputs": [],
   "source": [
    "# driver = webdriver.Chrome(options=my_options, desired_capabilities=my_capabilities)\n",
    "# webpac_jsp_crawler(\n",
    "#     driver=driver, \n",
    "#     org='國立空中大學', \n",
    "#     org_url='https://hyweblib.nou.edu.tw/webpac/webpacIndex.jsp', \n",
    "#     ISBN='9789573317241'\n",
    "# )"
   ]
  },
  {
   "cell_type": "code",
   "execution_count": null,
   "id": "75a7d657",
   "metadata": {},
   "outputs": [],
   "source": [
    "# driver = webdriver.Chrome(options=my_options, desired_capabilities=my_capabilities)\n",
    "# webpac_jsp_crawler(\n",
    "#     driver=driver, \n",
    "#     org='育達科技大學', \n",
    "#     org_url='https://hyweblib.nou.edu.tw/webpac/webpacIndex.jsp', \n",
    "#     ISBN='9789573317241'\n",
    "# )"
   ]
  },
  {
   "cell_type": "code",
   "execution_count": null,
   "id": "af99256c",
   "metadata": {},
   "outputs": [],
   "source": [
    "# driver = webdriver.Chrome(options=my_options, desired_capabilities=my_capabilities)\n",
    "# webpac_jsp_crawler(\n",
    "#     driver=driver, \n",
    "#     org='國立金門大學', \n",
    "#     org_url='https://lib.nqu.edu.tw/webpacIndex.jsp', \n",
    "#     ISBN='9789573317241'\n",
    "# )"
   ]
  },
  {
   "cell_type": "markdown",
   "id": "b96004c3",
   "metadata": {},
   "source": [
    "## <mark>完成</mark>webpac_gov_crawler(driver, org, org_url, ISBN)\n",
    "- 『最後編輯』：2021/08/02\n",
    "- 『函式完成度』：極高"
   ]
  },
  {
   "cell_type": "markdown",
   "id": "f7800091",
   "metadata": {},
   "source": [
    "### 函式說明\n",
    "\n",
    "- 『運作的原理』：\n",
    "- 『適用的機構』：[宜蘭縣公共圖書館](https://webpac.ilccb.gov.tw/)、[桃園市立圖書館](https://webpac.typl.gov.tw/)、[高雄市立圖書館](https://webpacx.ksml.edu.tw/)、[屏東縣公共圖書館](https://library.pthg.gov.tw/)、[花蓮縣公共圖書館](https://center.hccc.gov.tw/)、[澎湖縣公共圖書館](https://webpac.phlib.nat.gov.tw/)、[國立雲林科技大學](https://www.libwebpac.yuntech.edu.tw/)、[國家電影及視聽文化中心](https://lib.tfi.org.tw/)\n",
    "- 『能處理狀況』：判斷搜尋結果有沒有超過一筆、只有一筆搜尋結果有沒有跳轉、[多筆](https://webpac.typl.gov.tw/search?searchField=ISBN&searchInput=986729193X)、找不到書、[不斷的點擊＂載入更多＂](https://webpac.ilccb.gov.tw/bookDetail/419482?qs=%7B%5Eurl3%2C%2Fsearch4%2Cquery%5E%3A%7B%5Ephonetic3%2C04%2CqueryType3%2C04%2C%2Cs23%2CISBN4%2C%2Cs13%2C9789573317241%5E%7D%7D)\n",
    "- 『下一步優化』："
   ]
  },
  {
   "cell_type": "markdown",
   "id": "8195fae9",
   "metadata": {},
   "source": [
    "### 函式本體"
   ]
  },
  {
   "cell_type": "code",
   "execution_count": null,
   "id": "5a040b14",
   "metadata": {},
   "outputs": [],
   "source": [
    "def click_more_btn(driver):\n",
    "    function = wait_for_elements_present\n",
    "    alert_execution_report(function)\n",
    "    try:\n",
    "        while True:\n",
    "            more_btn = wait_for_element_clickable(driver, '載入更多')\n",
    "            if not more_btn:\n",
    "                return\n",
    "            more_btn.click()\n",
    "            time.sleep(2)  # 不得已的強制等待\n",
    "    except:\n",
    "        return"
   ]
  },
  {
   "cell_type": "code",
   "execution_count": null,
   "id": "d849fe2d",
   "metadata": {},
   "outputs": [],
   "source": [
    "def webpac_gov_crawler(driver, org, org_url, ISBN):\n",
    "    function = webpac_gov_crawler\n",
    "    alert_execution_report(function)\n",
    "    try:\n",
    "        table = []\n",
    "\n",
    "        driver.get(org_url + 'advanceSearch')\n",
    "        select_ISBN_strategy(driver, 'searchField', 'ISBN')\n",
    "        search_ISBN(driver, ISBN, 'searchInput')\n",
    "\n",
    "        # 一筆\n",
    "        if wait_for_element_present(driver, '.bookplace_list > table', 10):\n",
    "            print(f'「webpac_gov_crawler({org})」，只有一筆搜尋結果')\n",
    "            click_more_btn(driver)\n",
    "            \n",
    "            tgt = accurately_find_table_and_read_it(driver, '.bookplace_list > table')\n",
    "            tgt['圖書館'], tgt['連結'] = org, driver.current_url\n",
    "            table.append(tgt)\n",
    "            print('抓取 table 成功')\n",
    "        # 多筆\n",
    "        elif wait_for_element_present(driver, '.data_all .data_quantity2 em', 5):\n",
    "            print(f'「webpac_gov_crawler({org})」，有多筆搜尋結果')\n",
    "            # 取得多個連結\n",
    "            tgt_urls = []\n",
    "            soup = BeautifulSoup(driver.page_source, 'html.parser')\n",
    "            anchors = soup.select('.bookdata > h2 > a')\n",
    "            for anchor in anchors:\n",
    "                tgt_urls.append(org_url + anchor['href'])\n",
    "            \n",
    "            # 進入不同的連結\n",
    "            i = 1\n",
    "            for tgt_url in tgt_urls:\n",
    "                driver.get(tgt_url)\n",
    "                print(f'進入第 {i} 個頁面')\n",
    "                \n",
    "                if wait_for_element_present(driver, '.bookplace_list > table', 10):\n",
    "                    click_more_btn(driver)\n",
    "                    tgt = accurately_find_table_and_read_it(driver, '.bookplace_list > table')\n",
    "                    tgt['圖書館'], tgt['連結'] = org, driver.current_url\n",
    "                    table.append(tgt)\n",
    "                    print('抓取 table 成功')\n",
    "                i += 1\n",
    "            print('for 迴圈結束')\n",
    "        # 無\n",
    "        else:\n",
    "            print(f'「webpac_gov_crawler({org})」，找不到「{ISBN}」')\n",
    "            return\n",
    "    except Exception as e:\n",
    "        print(f'「webpac_gov_crawler({org})」，搜尋「{ISBN}」時，發生錯誤：「{e}」！')\n",
    "        return\n",
    "    else:\n",
    "        return organize_columns(table)"
   ]
  },
  {
   "cell_type": "code",
   "execution_count": null,
   "id": "4d7e1210",
   "metadata": {},
   "outputs": [],
   "source": [
    "# driver = webdriver.Chrome(options=my_options, desired_capabilities=my_capabilities)\n",
    "# webpac_gov_crawler(\n",
    "#     driver=driver,\n",
    "#     org='國立雲林科技大學',\n",
    "#     org_url='https://www.libwebpac.yuntech.edu.tw/',\n",
    "#     ISBN='9789861371955'\n",
    "# )"
   ]
  },
  {
   "cell_type": "markdown",
   "id": "e320e1e4",
   "metadata": {},
   "source": [
    "## <mark>完成</mark>easy_crawler(driver, org, org_url, ISBN)\n",
    "- 『最後編輯』：2021/08/02\n",
    "- 『函式完成度』：極高"
   ]
  },
  {
   "cell_type": "markdown",
   "id": "fdcc3595",
   "metadata": {},
   "source": [
    "### 函式說明\n",
    "- 『運作的原理』：待輸入\n",
    "- 『適用的機構』：[國立臺灣師範大學](https://opac.lib.ntnu.edu.tw/search*cht/i)、[國立臺灣科技大學](https://sierra.lib.ntust.edu.tw/search*cht/i)、[國立臺灣海洋大學](https://ocean.ntou.edu.tw/search*cht/i)、[中原大學](http://cylis.lib.cycu.edu.tw/search*cht/i)、[逢甲大學](https://innopac.lib.fcu.edu.tw/search*cht/i)、[朝陽科技大學](https://millennium.lib.cyut.edu.tw/search*cht/i)、[國立中山大學](https://dec.lib.nsysu.edu.tw/search*cht/i)、[國立高雄師範大學](https://nknulib.nknu.edu.tw/search*cht/i)、[文藻外語大學](https://libpac.wzu.edu.tw/search*cht/i)、[大仁科技大學](http://lib.tajen.edu.tw/search*cht/i)、[國立中央大學](https://opac.lib.ncu.edu.tw/search*cht/i)\n",
    "- 『能處理狀況』：一筆、無\n",
    "- 『下一步優化』：\n",
    "    - 待輸入\n",
    "    - 待輸入"
   ]
  },
  {
   "cell_type": "markdown",
   "id": "6f1fe7e7",
   "metadata": {},
   "source": [
    "### 函式本體"
   ]
  },
  {
   "cell_type": "code",
   "execution_count": null,
   "id": "26bb7f30",
   "metadata": {},
   "outputs": [],
   "source": [
    "def easy_crawler(driver, org, org_url, ISBN):\n",
    "    try:\n",
    "        driver.get(org_url)\n",
    "        search_ISBN(driver, ISBN, 'SEARCH')\n",
    "\n",
    "        if not wait_for_element_present(driver, 'table.bibItems'):\n",
    "            print(f'在「{org}」找不到「{ISBN}」')\n",
    "            return\n",
    "\n",
    "        table = accurately_find_table_and_read_it(driver, 'table.bibItems')\n",
    "        table['圖書館'], table['連結'] = org, driver.current_url\n",
    "        table = organize_columns(table)\n",
    "    except Exception as e:\n",
    "        print(f'在「{org}」搜尋「{ISBN}」時，發生錯誤，錯誤訊息為：「{e}」！')\n",
    "        return\n",
    "    else:\n",
    "        return table"
   ]
  },
  {
   "cell_type": "code",
   "execution_count": null,
   "id": "d4ef98a7",
   "metadata": {
    "scrolled": true
   },
   "outputs": [],
   "source": [
    "# driver = webdriver.Chrome(options=my_options, desired_capabilities=my_capabilities)\n",
    "# easy_crawler(\n",
    "#     driver=driver,\n",
    "#     org='國立臺灣師範大學',\n",
    "#     org_url='https://opac.lib.ntnu.edu.tw/search*cht/i',\n",
    "#     ISBN='9789573317241'\n",
    "# )"
   ]
  },
  {
   "cell_type": "markdown",
   "id": "7b29ab29",
   "metadata": {},
   "source": [
    "## <mark>完成</mark>webpac_pro_crawler(driver, org, org_url, ISBN)\n",
    "- 『最後編輯』：2021/08/02\n",
    "- 『函式完成度』：極高"
   ]
  },
  {
   "cell_type": "markdown",
   "id": "af5f3ef9",
   "metadata": {},
   "source": [
    "### 函式說明\n",
    "- 『運作的原理』：待輸入\n",
    "- 『適用的機構』：[中央研究院](https://las.sinica.edu.tw/*cht)、[中國文化大學](https://webpac.pccu.edu.tw/*cht)、[輔仁大學](https://library.lib.fju.edu.tw/)、[國立陽明交通大學](https://library.ym.edu.tw/screens/opacmenu_cht_s7.html)\n",
    "- 『能處理狀況』：一筆、無\n",
    "- 『下一步優化』：\n",
    "    - 待輸入\n",
    "    - 待輸入"
   ]
  },
  {
   "cell_type": "markdown",
   "id": "9be0414f",
   "metadata": {},
   "source": [
    "### 函式本體"
   ]
  },
  {
   "cell_type": "code",
   "execution_count": null,
   "id": "542be8f9",
   "metadata": {},
   "outputs": [],
   "source": [
    "def webpac_pro_crawler(driver, org, org_url, ISBN):\n",
    "    try:\n",
    "        driver.get(org_url)\n",
    "        select_ISBN_strategy(driver, 'searchtype', 'i')\n",
    "        search_ISBN(driver, ISBN, 'searcharg')\n",
    "\n",
    "        if not wait_for_element_present(driver, 'table.bibItems'):\n",
    "            print(f'在「{org}」找不到「{ISBN}」')\n",
    "            return\n",
    "\n",
    "        table = accurately_find_table_and_read_it(driver, 'table.bibItems')\n",
    "        table['圖書館'], table['連結'] = org, driver.current_url\n",
    "        table = organize_columns(table)\n",
    "    except Exception as e:\n",
    "        print(f'在「{org}」搜尋「{ISBN}」時，發生錯誤，錯誤訊息為：「{e}」！')\n",
    "        return\n",
    "    else:\n",
    "        return table"
   ]
  },
  {
   "cell_type": "markdown",
   "id": "c6e8d2d4",
   "metadata": {
    "heading_collapsed": true
   },
   "source": [
    "## <mark>完成</mark>webpac_ajax_crawler(driver, org, org_url, ISBN)\n",
    "- 『最後編輯』：2021/08/02\n",
    "- 『函式完成度』：極高"
   ]
  },
  {
   "cell_type": "markdown",
   "id": "77b5c2f3",
   "metadata": {
    "heading_collapsed": true,
    "hidden": true
   },
   "source": [
    "### 函式說明\n",
    "- 『運作的原理』：使用 selenium 進行搜索，進入＂書目資料＂頁面後，從該網址分析並得到 mid，在由此進入 ajax_page。\n",
    "- 『適用的機構』：[新北市立圖書館](https://webpac.tphcc.gov.tw/webpac/search.cfm)、[高雄市立空中大學](https://webpac.ouk.edu.tw/webpac/search.cfm)、[國立屏東大學](https://webpac.nptu.edu.tw/webpac/search.cfm)\n",
    "- 『能處理狀況』：判斷搜尋結果有沒有超過一筆、只有一筆搜尋結果有沒有跳轉、找不到書\n",
    "- 『下一步優化』：當搜尋無結果時，可以直接結束。"
   ]
  },
  {
   "cell_type": "markdown",
   "id": "a1c9cd18",
   "metadata": {
    "hidden": true
   },
   "source": [
    "### 函式本體"
   ]
  },
  {
   "cell_type": "code",
   "execution_count": null,
   "id": "813e0fc6",
   "metadata": {
    "hidden": true
   },
   "outputs": [],
   "source": [
    "def webpac_ajax_crawler(driver, org, org_url, ISBN):\n",
    "    try:\n",
    "        table = []\n",
    "\n",
    "        driver.get(org_url)\n",
    "        wait_for_element_clickable(driver, '進階查詢').click()  # 點擊＂進階查詢＂\n",
    "        select_ISBN_strategy(driver, 'as_type_1', 'i', by=By.ID)\n",
    "        search_ISBN(driver, ISBN, 'as_keyword_1', by=By.ID)\n",
    "\n",
    "        org_url = org_url.replace('/search.cfm', '')\n",
    "        if wait_for_element_present(driver, '詳細書目', by=By.LINK_TEXT):\n",
    "            tgt_urls = []\n",
    "            anchors = driver.find_elements_by_link_text('詳細書目')\n",
    "            for anchor in anchors:\n",
    "                tgt_urls.append(anchor.get_attribute('href'))\n",
    "\n",
    "            for tgt_url in tgt_urls:\n",
    "                mid = tgt_url.split('mid=')[-1].split('&')[0]\n",
    "                ajax_page_url = f'{org_url}/ajax_page/get_content_area.cfm?mid={mid}&i_list_number=250&i_page=1&i_sory_by=1'\n",
    "                tgt = pd.read_html(ajax_page_url, encoding='utf-8')[0]\n",
    "                tgt['圖書館'], tgt['連結'] = org, tgt_url\n",
    "                table.append(tgt)\n",
    "        elif wait_for_element_present(driver, 'div.book-detail'):  # 高雄市立空中大學、國立屏東大學才會遇到跳轉\n",
    "            tgt_url = driver.current_url\n",
    "            mid = tgt_url.split('mid=')[-1].split('&')[0]\n",
    "            ajax_page_url = f'{org_url}/ajax_page/get_content_area.cfm?mid={mid}&i_list_number=250&i_page=1&i_sory_by=1'\n",
    "            tgt = pd.read_html(ajax_page_url, encoding='utf-8')[0]\n",
    "            tgt['圖書館'], tgt['連結'] = org, tgt_url\n",
    "            table.append(tgt)\n",
    "        table = organize_columns(table)\n",
    "    except Exception as e:\n",
    "        print(f'在「{org}」搜尋「{ISBN}」時，發生錯誤，錯誤訊息為：「{e}」！')\n",
    "        return\n",
    "    else:\n",
    "        return table"
   ]
  },
  {
   "cell_type": "markdown",
   "id": "c9653d11",
   "metadata": {},
   "source": [
    "## <mark>完成</mark>webpac_aspx_crawler(driver, org, org_url, ISBN)\n",
    "- 『最後編輯』：2021/08/03\n",
    "- 『函式完成度』：高"
   ]
  },
  {
   "cell_type": "markdown",
   "id": "52966d6a",
   "metadata": {},
   "source": [
    "### 函式說明\n",
    "- 『運作的原理』：一直切 iframe\n",
    "- 『適用的機構』：[樹德科技大學](https://webpac.stu.edu.tw/webopac/)、[台灣首府大學](http://120.114.1.19/webopac/Jycx.aspx?dc=1&fc=1&n=7)、[崑山科技大學](https://weblis.lib.ksu.edu.tw/webopac/)、、、\n",
    "- 『能處理狀況』：一筆、多筆、無\n",
    "- 『下一步優化』：\n",
    "    - 無法取得＂書目資料＂的網址，用的是 JavaScript 語法\n",
    "    - ugly code"
   ]
  },
  {
   "cell_type": "markdown",
   "id": "a8ec8e3a",
   "metadata": {},
   "source": [
    "### 函式本體"
   ]
  },
  {
   "cell_type": "code",
   "execution_count": null,
   "id": "72efe14d",
   "metadata": {},
   "outputs": [],
   "source": [
    "def webpac_aspx_crawler(driver, org, org_url, ISBN):\n",
    "    try:\n",
    "        table = []\n",
    "\n",
    "        driver.get(org_url)\n",
    "\n",
    "        time.sleep(1.5)\n",
    "        iframe = wait_for_element_present(driver, 'default', by=By.NAME)\n",
    "        driver.switch_to.frame(iframe)\n",
    "        select_ISBN_strategy(driver, 'ctl00$ContentPlaceHolder1$ListBox1', 'Info000076')\n",
    "        search_ISBN(driver, ISBN, 'ctl00$ContentPlaceHolder1$TextBox1')\n",
    "        driver.switch_to.default_content()\n",
    "        \n",
    "        i = 0\n",
    "        while True:\n",
    "            time.sleep(1.5)\n",
    "            iframe = wait_for_element_present(driver, 'default', by=By.NAME)\n",
    "            driver.switch_to.frame(iframe)\n",
    "            try:\n",
    "                wait_for_element_present(driver, f'//*[@id=\"ctl00_ContentPlaceHolder1_dg_ctl0{i+2}_lbtgcd2\"]', by=By.XPATH).click()\n",
    "            except:\n",
    "                break\n",
    "            driver.switch_to.default_content()\n",
    "\n",
    "            time.sleep(1.5)\n",
    "            iframe = wait_for_element_present(driver, 'default', by=By.NAME)\n",
    "            driver.switch_to.frame(iframe)\n",
    "            tgt = accurately_find_table_and_read_it(driver, '#ctl00_ContentPlaceHolder1_dg')\n",
    "            tgt['圖書館'], tgt['連結'] = org, driver.current_url\n",
    "            table.append(tgt)\n",
    "            driver.switch_to.default_content()\n",
    "\n",
    "            driver.back()\n",
    "            i += 1\n",
    "\n",
    "        try:\n",
    "            table = organize_columns(table)\n",
    "        except:\n",
    "            print(f'在「{org}」找不到「{ISBN}」')\n",
    "            return\n",
    "    except Exception as e:\n",
    "        print(f'在「{org}」搜尋「{ISBN}」時，發生錯誤，錯誤訊息為：「{e}」！')\n",
    "        return\n",
    "    else:\n",
    "        return table"
   ]
  },
  {
   "cell_type": "code",
   "execution_count": null,
   "id": "958a2ec9",
   "metadata": {},
   "outputs": [],
   "source": [
    "# driver = webdriver.Chrome(options=my_options, desired_capabilities=my_capabilities)\n",
    "# webpac_aspx_crawler(\n",
    "#     driver=driver,\n",
    "#     org='弘光科技大學',\n",
    "#     org_url='https://webpac.hk.edu.tw/webopac/',\n",
    "#     ISBN='9789869109321'\n",
    "# )"
   ]
  },
  {
   "cell_type": "markdown",
   "id": "d2db4cb1",
   "metadata": {},
   "source": [
    "## <mark>完成</mark>uhtbin_crawler(driver, org, org_url, ISBN)\n",
    "- 『最後編輯』：2021/08/03\n",
    "- 『函式完成度』：高"
   ]
  },
  {
   "cell_type": "markdown",
   "id": "1e5f1b2b",
   "metadata": {},
   "source": [
    "### 函式說明\n",
    "- 『運作的原理』：待輸入\n",
    "- 『適用的機構』：[國立臺北護理健康大學](http://140.131.94.8/uhtbin/webcat)、[大同大學](http://140.129.23.14/uhtbin/webcat)、[國立體育大學](http://192.83.181.243/uhtbin/webcat)\n",
    "- 『能處理狀況』：一筆、無\n",
    "- 『下一步優化』：\n",
    "    - 待輸入\n",
    "    - 待輸入"
   ]
  },
  {
   "cell_type": "markdown",
   "id": "c225ce36",
   "metadata": {},
   "source": [
    "### 函式本體"
   ]
  },
  {
   "cell_type": "code",
   "execution_count": null,
   "id": "ca9be92c",
   "metadata": {},
   "outputs": [],
   "source": [
    "def uhtbin_crawler(driver, org, org_url, ISBN):\n",
    "    try:\n",
    "        driver.get(org_url)\n",
    "        try:\n",
    "            select_ISBN_strategy(driver, 'srchfield1', 'GENERAL^SUBJECT^GENERAL^^所有欄位')\n",
    "        except:\n",
    "            select_ISBN_strategy(driver, 'srchfield1', '020^SUBJECT^SERIES^Title Processing^ISBN')\n",
    "        search_ISBN(driver, ISBN, 'searchdata1')\n",
    "        \n",
    "        if '未在任何圖書館找到' in driver.find_element(By.CSS_SELECTOR, 'table').text:\n",
    "            print(f'在「{org}」找不到「{ISBN}」')\n",
    "            return\n",
    "        \n",
    "        table = accurately_find_table_and_read_it(driver, 'table')\n",
    "        \n",
    "        # 特殊處理\n",
    "        table.drop([0, 1, 2], inplace=True)\n",
    "        table.drop([1, 2, 4], axis='columns', inplace=True)\n",
    "        table.rename(columns={0: '索書號', 3: '館藏狀態'}, inplace=True)\n",
    "        table['圖書館'], table['連結'], table['館藏地'] = org, driver.current_url, table['館藏狀態']\n",
    "        \n",
    "        table = organize_columns(table)\n",
    "    except Exception as e:\n",
    "        print(f'在「{org}」搜尋「{ISBN}」時，發生錯誤，錯誤訊息為：「{e}」！')\n",
    "        return\n",
    "    else:\n",
    "        return table"
   ]
  },
  {
   "cell_type": "code",
   "execution_count": null,
   "id": "1e14606c",
   "metadata": {},
   "outputs": [],
   "source": [
    "# driver = webdriver.Chrome(options=my_options, desired_capabilities=my_capabilities)\n",
    "# uhtbin_crawler(\n",
    "#     driver=driver,\n",
    "#     org='大同大學',\n",
    "#     org_url='http://140.129.23.14/uhtbin/webcat',\n",
    "#     ISBN='9789861371955'\n",
    "# )"
   ]
  },
  {
   "cell_type": "markdown",
   "id": "516d02ca",
   "metadata": {},
   "source": [
    "## <mark>完成</mark>toread_crawler(driver, org, org_url, ISBN)\n",
    "- 『最後編輯』：2021/08/05\n",
    "- 『函式完成度』：高、爆複雜"
   ]
  },
  {
   "cell_type": "markdown",
   "id": "7381c76e",
   "metadata": {},
   "source": [
    "### 函式說明\n",
    "- 『運作的原理』：待輸入\n",
    "- 『適用的機構』：[彰化縣圖書館](https://library.toread.bocach.gov.tw/toread/opac)、toread 系統\n",
    "- 『能處理狀況』：一筆、無、多筆、[翻頁](https://library.toread.bocach.gov.tw/toread/opac/bibliographic_view?NewBookMode=false&id=341724&mps=10&q=986729193X+OR+9789867291936&start=0&view=CONTENT)\n",
    "- 『下一步優化』：\n",
    "    - 待輸入"
   ]
  },
  {
   "cell_type": "markdown",
   "id": "a1804b4e",
   "metadata": {},
   "source": [
    "### 函式本體"
   ]
  },
  {
   "cell_type": "code",
   "execution_count": null,
   "id": "4546ad20",
   "metadata": {
    "scrolled": false
   },
   "outputs": [],
   "source": [
    "def toread_crawler(driver, org, org_url, ISBN):\n",
    "    try:\n",
    "        table = []\n",
    "\n",
    "        driver.get(org_url)\n",
    "        search_ISBN(driver, ISBN, 'q')\n",
    "\n",
    "        if not wait_for_element_present(driver, 'div#results'):\n",
    "            print(f'在{org}裡，沒有《{ISBN}》')\n",
    "            return\n",
    "\n",
    "        # 有 div#results，找出所有的＂書目資料＂的網址\n",
    "        tgt_urls = []\n",
    "        anchors = driver.find_elements(By.CSS_SELECTOR, 'div.img_reslt > a')\n",
    "        for anchor in anchors:\n",
    "            tgt_urls.append(anchor.get_attribute('href'))\n",
    "\n",
    "        # 進入各個＂書目資料＂爬取表格\n",
    "        for tgt_url in tgt_urls:\n",
    "            driver.get(tgt_url)\n",
    "            \n",
    "            # 電子書沒有 table\n",
    "            if not wait_for_element_present(driver, 'table.gridTable'):\n",
    "                continue\n",
    "\n",
    "            tgt = accurately_find_table_and_read_it(driver, 'table.gridTable')\n",
    "            tgt['圖書館'], tgt['連結'] = org, tgt_url\n",
    "\n",
    "            # 以下兩行，是＂彰化縣公共圖書館＂有多餘的 row，須要特別篩選調 NaN\n",
    "            try:\n",
    "                tgt = tgt.dropna(subset=['典藏地名稱'])\n",
    "            except:  # 國立高雄大學沒有這個狀況\n",
    "                pass\n",
    "            tgt.reset_index(drop=True, inplace=True)\n",
    "\n",
    "            table.append(tgt)\n",
    "            \n",
    "            # 換頁：書沒有那麼多吧 XD，土法煉鋼法\n",
    "            i = 0\n",
    "            while True:\n",
    "                try:\n",
    "                    wait_for_element_clickable(driver, str(2+i)).click()\n",
    "                    time.sleep(2.5)\n",
    "                    tgt = accurately_find_table_and_read_it(driver, 'table.gridTable')\n",
    "                    tgt['圖書館'], tgt['連結'] = org, tgt_url\n",
    "\n",
    "                    # 以下兩行，是＂彰化縣公共圖書館＂有多餘的 row，須要特別篩選調 NaN\n",
    "                    try:\n",
    "                        tgt = tgt.dropna(subset=['典藏地名稱'])\n",
    "                    except:  # 國立高雄大學沒有這個狀況\n",
    "                        pass\n",
    "                    tgt.reset_index(drop=True, inplace=True)\n",
    "\n",
    "                    table.append(tgt)\n",
    "                    i += 1\n",
    "                except:\n",
    "                    break\n",
    "        table = organize_columns(table)\n",
    "    except Exception as e:\n",
    "        print(f'在「{org}」搜尋「{ISBN}」時，發生錯誤，錯誤訊息為：「{e}」！')\n",
    "        return\n",
    "    else:\n",
    "        return table"
   ]
  },
  {
   "cell_type": "code",
   "execution_count": null,
   "id": "b6447bb3",
   "metadata": {},
   "outputs": [],
   "source": [
    "# driver = webdriver.Chrome(options=my_options, desired_capabilities=my_capabilities)\n",
    "# toread_crawler(\n",
    "#     driver=driver,\n",
    "#     org='高雄醫學大學',\n",
    "#     org_url='https://toread.kmu.edu.tw/toread/opac',\n",
    "#     ISBN='9789861371955'\n",
    "# )"
   ]
  },
  {
   "cell_type": "markdown",
   "id": "dc5cf137",
   "metadata": {},
   "source": [
    "## <mark>完成</mark>webpac_cfm_crawler(driver, org, org_url, ISBN)\n",
    "- 『最後編輯』：2021/08/12\n",
    "- 『函式完成度』：高"
   ]
  },
  {
   "cell_type": "markdown",
   "id": "6c85dc64",
   "metadata": {},
   "source": [
    "### 函式說明\n",
    "\n",
    "- 『運作的原理』：待輸入\n",
    "- 『適用的機構』：search_cfm 結尾\n",
    "- 『能處理狀況』：\n",
    "    - 多頁表格：[臺中市立圖書館](https://ipac.library.taichung.gov.tw/webpac/search.cfm?m=ss&k0=986729193X&t0=k&c0=and)、\n",
    "    - [臺南市立圖書館](https://lib.tnml.tn.edu.tw/webpac/search.cfm)：\n",
    "        - [無資料](https://lib.tnml.tn.edu.tw/webpac/search.cfm?m=ss&k0=986729193XX&t0=k&c0=and)\n",
    "        - [一筆資料，直接進入＂詳細書目＂](https://lib.tnml.tn.edu.tw/webpac/search.cfm?m=ss&k0=9570825685&t0=k&c0=and)\n",
    "        - [＂書目資料＂裡中的表格換頁](https://lib.tnml.tn.edu.tw/webpac/content.cfm?mid=611585&m=ss&k0=986729193X&t0=k&c0=and&si=&content&list_num=10&current_page=1&mt=&at=&sj=&py=&pr=&it=&lr=&lg=&si=1&contentlistcurrent_page=3&contentlist_num=10&lc=0&ye=&vo=&item_status_v=)\n",
    "        - [多筆資料](https://lib.tnml.tn.edu.tw/webpac/search.cfm?m=ss&k0=986729193X&t0=k&c0=and)\n",
    "- 『下一步優化』：\n",
    "    - 基隆市公共圖書館：[只有一筆書目時，會直接進入＂詳細書目＂](https://webpac.klccab.gov.tw/webpac/search.cfm?m=ss&k0=986729193X&t0=k&c0=and)\n",
    "    - 國立臺北大學：和其他機構的 class name 不同，是 table.book_location，而不是 table.list_border。"
   ]
  },
  {
   "cell_type": "code",
   "execution_count": null,
   "id": "55f88cb0",
   "metadata": {},
   "outputs": [],
   "source": [
    "def crawl_all_tables_on_page(driver, table_position, org, url_pattern):\n",
    "    table = []\n",
    "    \n",
    "    i = 0\n",
    "    while True:\n",
    "        try:\n",
    "            tgt = accurately_find_table_and_read_it(driver, table_position)\n",
    "            tgt['圖書館'], tgt['連結'] = org, url_pattern\n",
    "            table.append(tgt)\n",
    "\n",
    "            wait_for_element_clickable(driver, str(2+i), 2).click()\n",
    "            i += 1\n",
    "        except:\n",
    "            break\n",
    "    \n",
    "    return table"
   ]
  },
  {
   "cell_type": "code",
   "execution_count": null,
   "id": "8a46ffa3",
   "metadata": {},
   "outputs": [],
   "source": [
    "def get_all_tgt_urls(driver, link_text):\n",
    "    tgt_urls = []\n",
    "\n",
    "    anchors = driver.find_elements_by_link_text(link_text)\n",
    "    for anchor in anchors:\n",
    "        tgt_urls.append(anchor.get_attribute('href'))\n",
    "    \n",
    "    return tgt_urls"
   ]
  },
  {
   "cell_type": "code",
   "execution_count": null,
   "id": "2c44e283",
   "metadata": {
    "code_folding": [],
    "scrolled": false
   },
   "outputs": [],
   "source": [
    "def webpac_cfm_crawler(driver, org, org_url, ISBN):\n",
    "    try:\n",
    "        table = []\n",
    "        table_position = 'table.list_border'  \n",
    "        if 'ntpu' in org_url:  # ＂國立臺北大學＂的 table_position 是 table.book_location\n",
    "            table_position = 'div.book_location > table.list'\n",
    "\n",
    "        driver.get(org_url)\n",
    "        \n",
    "        wait_for_element_clickable(driver, '進階檢索').click()\n",
    "        time.sleep(1)\n",
    "        select_ISBN_strategy(driver, 'as_type_1', 'i')\n",
    "        search_ISBN(driver, ISBN, 'as_keyword_1')\n",
    "\n",
    "        # Case1. 是否 driver 在＂書目資料＂的頁面？\n",
    "        if wait_for_element_present(driver, 'div.info_box', 10):\n",
    "            table += crawl_all_tables_on_page(driver, table_position, org, driver.current_url)\n",
    "        \n",
    "        # Case2. 是否 driver 在＂查詢結果＂的頁面？且有搜尋結果。\n",
    "        elif wait_for_element_present(driver, 'div#list'):\n",
    "            tgt_urls = get_all_tgt_urls(driver, '詳細書目')\n",
    "\n",
    "            for tgt_url in tgt_urls:\n",
    "                driver.get(tgt_url)\n",
    "                \n",
    "                # 是否 driver 在＂書目資料＂的頁面？\n",
    "                if wait_for_element_present(driver, 'div.info_box'):\n",
    "                    table += crawl_all_tables_on_page(driver, table_position, org, driver.current_url)\n",
    "        \n",
    "        # Case3. 無搜尋結果，driver 會在＂查詢結果＂，並顯示訊息「無符合館藏資料」\n",
    "        elif wait_for_element_present(driver, 'div.msg'):\n",
    "            print(f'在「{org}」找不到「{ISBN}」')\n",
    "            return\n",
    "        \n",
    "        # Case. 抓不到 table，離開 function\n",
    "        if table == []:\n",
    "            print(f'在「{org}」爬取「{ISBN}」時，抓取不到 table')\n",
    "            return\n",
    "        \n",
    "    except Exception as e:\n",
    "        print(f'在「{org}」搜尋「{ISBN}」時，發生錯誤，錯誤訊息為：「{e}」！')\n",
    "        return\n",
    "    \n",
    "    else:\n",
    "        table = organize_columns(table)\n",
    "        return table"
   ]
  },
  {
   "cell_type": "code",
   "execution_count": null,
   "id": "ab6a6e67",
   "metadata": {},
   "outputs": [],
   "source": []
  },
  {
   "cell_type": "code",
   "execution_count": null,
   "id": "9b83c98a",
   "metadata": {},
   "outputs": [],
   "source": [
    "# # 一筆「二十一世紀資本論」，測試成功\n",
    "# driver = webdriver.Chrome(options=my_options, desired_capabilities=my_capabilities)\n",
    "# webpac_cfm_crawler(\n",
    "#     driver=driver,\n",
    "#     org='中國醫藥大學',\n",
    "#     org_url='http://weblis.cmu.edu.tw/webpac/search.cfm',\n",
    "#     ISBN='9789869109321'\n",
    "# )"
   ]
  },
  {
   "cell_type": "code",
   "execution_count": null,
   "id": "6fce1a08",
   "metadata": {
    "scrolled": true
   },
   "outputs": [],
   "source": [
    "# # 兩筆「蘋果橘子經濟學」，測試成功\n",
    "# driver = webdriver.Chrome(options=my_options, desired_capabilities=my_capabilities)\n",
    "# webpac_cfm_crawler(\n",
    "#     driver=driver,\n",
    "#     org='臺中市立圖書館',\n",
    "#     org_url='https://ipac.library.taichung.gov.tw/webpac/search.cfm',\n",
    "#     ISBN='986729193X'\n",
    "# )"
   ]
  },
  {
   "cell_type": "code",
   "execution_count": null,
   "id": "b34c6c73",
   "metadata": {},
   "outputs": [],
   "source": [
    "# # 三筆「蘋果橘子經濟學」，測試成功\n",
    "# driver = webdriver.Chrome(options=my_options, desired_capabilities=my_capabilities)\n",
    "# webpac_cfm_crawler(\n",
    "#     driver=driver,\n",
    "#     org='臺南市圖書館',\n",
    "#     org_url='https://lib.tnml.tn.edu.tw/webpac/search.cfm',\n",
    "#     ISBN='986729193X'\n",
    "# )"
   ]
  },
  {
   "cell_type": "code",
   "execution_count": null,
   "id": "1bd91223",
   "metadata": {
    "scrolled": true
   },
   "outputs": [],
   "source": [
    "# # 未解決校區問題\n",
    "# driver = webdriver.Chrome(options=my_options, desired_capabilities=my_capabilities)\n",
    "# webpac_cfm_crawler(\n",
    "#     driver=driver,\n",
    "#     org='國立臺北大學',\n",
    "#     org_url='http://webpac.lib.ntpu.edu.tw/search.cfm',\n",
    "#     ISBN='9789861371955'\n",
    "# )"
   ]
  },
  {
   "cell_type": "code",
   "execution_count": null,
   "id": "ca4a2f1b",
   "metadata": {},
   "outputs": [],
   "source": [
    "# driver = webdriver.Chrome(options=my_options, desired_capabilities=my_capabilities)\n",
    "# webpac_cfm_crawler(\n",
    "#     driver=driver,\n",
    "#     org='基隆市公共圖書館',\n",
    "#     org_url='https://webpac.klccab.gov.tw/webpac/search.cfm',\n",
    "#     ISBN='9789861371955'\n",
    "# )"
   ]
  },
  {
   "cell_type": "code",
   "execution_count": null,
   "id": "a2fc10f9",
   "metadata": {},
   "outputs": [],
   "source": []
  },
  {
   "cell_type": "code",
   "execution_count": null,
   "id": "d4045665",
   "metadata": {},
   "outputs": [],
   "source": []
  },
  {
   "cell_type": "markdown",
   "id": "6523d70d",
   "metadata": {},
   "source": [
    "## <mark>完成</mark>sirsidynix_crawler(driver, org, org_url, ISBN)\n",
    "- 『最後編輯』：2021/08/14\n",
    "- 『函式完成度』："
   ]
  },
  {
   "cell_type": "markdown",
   "id": "eba74695",
   "metadata": {},
   "source": [
    "### 函式說明\n",
    "- 『適用的機構』：[國立臺中科技大學](https://ntit.ent.sirsidynix.net/client/zh_TW/NUTC)、[南投縣圖書館](https://nccc.ent.sirsi.net/client/zh_TW/main)、[國立臺南藝術大學](https://tnnua.ent.sirsi.net/client/zh_TW/tnnua/?)"
   ]
  },
  {
   "cell_type": "code",
   "execution_count": null,
   "id": "ca6290b4",
   "metadata": {},
   "outputs": [],
   "source": [
    "def sirsidynix_crawler(driver, org, org_url, ISBN):\n",
    "    try:\n",
    "        table = []\n",
    "\n",
    "        driver.get(org_url)\n",
    "        select_ISBN_strategy(driver, 'restrictionDropDown', 'false|||ISBN|||ISBN（國際標準書號）')\n",
    "        search_ISBN(driver, ISBN, 'q')\n",
    "\n",
    "        # ＂書目資料＂\n",
    "        if wait_for_element_present(driver, 'div.detailItems'):\n",
    "            time.sleep(0.5)\n",
    "\n",
    "            tgt = accurately_find_table_and_read_it(driver, 'table.detailItemTable')\n",
    "\n",
    "            if 'ntit' in org_url:\n",
    "                tgt['館藏地'] = tgt['圖書館'].str.rsplit('-', expand=True)[2]\n",
    "            elif 'tnnua' in org_url:\n",
    "                tgt['館藏地'] = tgt['狀態'].str.rsplit('-', expand=True)[1]\n",
    "            tgt['圖書館'], tgt['連結'] = org, driver.current_url\n",
    "            table.append(tgt)\n",
    "        # ＂查詢結果＂\n",
    "        elif wait_for_element_present(driver, 'div#results_wrapper'):\n",
    "            wait_for_element_present(driver, 'a.hideIE').click()\n",
    "            \n",
    "            if wait_for_element_present(driver, 'div.detailItems'):\n",
    "                while True:\n",
    "                    time.sleep(0.5)\n",
    "\n",
    "                    tgt = accurately_find_table_and_read_it(driver, 'table.detailItemTable', -1)\n",
    "\n",
    "                    if 'ntit' in org_url:\n",
    "                        tgt['館藏地'] = tgt['圖書館'].str.rsplit('-', expand=True)[2]\n",
    "                    elif 'tnnua' in org_url:\n",
    "                        tgt['館藏地'] = tgt['狀態'].str.rsplit('-', expand=True)[1]\n",
    "                        \n",
    "                    tgt['圖書館'], tgt['連結'] = org, driver.current_url\n",
    "                    table.append(tgt)\n",
    "\n",
    "                    try:\n",
    "                        wait_for_elements_present(driver, '.nextArrowRight')[-1].click()\n",
    "                        time.sleep(3.5)\n",
    "                    except:\n",
    "                        break\n",
    "        else:\n",
    "            print(f'在「{org}」找不到「{ISBN}」')\n",
    "            return\n",
    "\n",
    "    except Exception as e:\n",
    "        print(f'在「{org}」搜尋「{ISBN}」時，發生錯誤，錯誤訊息為：「{e}」！')\n",
    "        return\n",
    "\n",
    "    else:\n",
    "        table = organize_columns(table)\n",
    "        return table"
   ]
  },
  {
   "cell_type": "code",
   "execution_count": null,
   "id": "2224a37c",
   "metadata": {},
   "outputs": [],
   "source": [
    "# # 一筆，測試成功\n",
    "# driver = webdriver.Chrome(options=my_options, desired_capabilities=my_capabilities)\n",
    "# sirsidynix_crawler(\n",
    "#     driver=driver,\n",
    "#     org='國立臺中科技大學',\n",
    "#     org_url='https://ntit.ent.sirsidynix.net/client/zh_TW/NUTC',\n",
    "#     ISBN='9789868879348'\n",
    "# )"
   ]
  },
  {
   "cell_type": "code",
   "execution_count": null,
   "id": "fdad2587",
   "metadata": {
    "scrolled": false
   },
   "outputs": [],
   "source": [
    "# # 兩筆＂二十一世紀資本論＂，測試成功\n",
    "# driver = webdriver.Chrome(options=my_options, desired_capabilities=my_capabilities)\n",
    "# sirsidynix_crawler(\n",
    "#     driver=driver,\n",
    "#     org='國立臺中科技大學',\n",
    "#     org_url='https://ntit.ent.sirsidynix.net/client/zh_TW/NUTC',\n",
    "#     ISBN='9789869109321'\n",
    "# )"
   ]
  },
  {
   "cell_type": "code",
   "execution_count": null,
   "id": "ec3a133c",
   "metadata": {
    "scrolled": false
   },
   "outputs": [],
   "source": [
    "# # 五筆＂神秘的魔法師＂，測試成功\n",
    "# driver = webdriver.Chrome(options=my_options, desired_capabilities=my_capabilities)\n",
    "# sirsidynix_crawler(\n",
    "#     driver=driver,\n",
    "#     org='南投縣圖書館',\n",
    "#     org_url='https://nccc.ent.sirsi.net/client/zh_TW/main',\n",
    "#     ISBN='9789573317241'\n",
    "# )"
   ]
  },
  {
   "cell_type": "code",
   "execution_count": null,
   "id": "7d5b4916",
   "metadata": {},
   "outputs": [],
   "source": [
    "# # 一筆＂神秘的魔法師＂，測試成功\n",
    "# driver = webdriver.Chrome(options=my_options, desired_capabilities=my_capabilities)\n",
    "# sirsidynix_crawler(\n",
    "#     driver=driver,\n",
    "#     org='國立臺南藝術大學',\n",
    "#     org_url='https://tnnua.ent.sirsi.net/client/zh_TW/tnnua/?',\n",
    "#     ISBN='9789573317241'\n",
    "# )"
   ]
  },
  {
   "cell_type": "markdown",
   "id": "479c6421",
   "metadata": {},
   "source": [
    "## <mark>完成</mark>moc_thm_crawler(driver, org, org_url, ISBN)\n",
    "- 『最後編輯』：2021/08/14\n",
    "- 『函式完成度』："
   ]
  },
  {
   "cell_type": "code",
   "execution_count": null,
   "id": "839e9078",
   "metadata": {},
   "outputs": [],
   "source": [
    "def moc_thm_crawler(driver, org, org_url, ISBN):\n",
    "    try:\n",
    "        driver.get(org_url)\n",
    "\n",
    "        select_ISBN_strategy(driver, 'find_code', 'ISBN')\n",
    "        search_ISBN(driver, ISBN, 'request')\n",
    "\n",
    "        try:\n",
    "            wait_for_element_present(driver, '/html/body/form/table[1]/tbody/tr[8]/td[3]/a', by=By.XPATH).click()\n",
    "        except:\n",
    "            print(f'在「{org}」找不到「{ISBN}」')\n",
    "            return\n",
    "        wait_for_element_present(driver, '/html/body/table[9]/tbody/tr/td[1]/table/tbody/tr[1]/td[2]/a', by=By.XPATH).click()\n",
    "\n",
    "        table = accurately_find_table_and_read_it(driver, 'table', -2)\n",
    "        table['圖書館'], table['連結'] = org, driver.current_url\n",
    "    except Exception as e:\n",
    "        print(f'在「{org}」搜尋「{ISBN}」時，發生錯誤，錯誤訊息為：「{e}」！')\n",
    "        return\n",
    "    else:\n",
    "        table = organize_columns(table)\n",
    "        return table"
   ]
  },
  {
   "cell_type": "code",
   "execution_count": null,
   "id": "986a0032",
   "metadata": {},
   "outputs": [],
   "source": [
    "# # 一筆，成功\n",
    "# driver = webdriver.Chrome(options=my_options, desired_capabilities=my_capabilities)\n",
    "# moc_thm_crawler(\n",
    "#     driver=driver,\n",
    "#     org='國立臺灣歷史博物館',\n",
    "#     org_url='https://lib.moc.gov.tw/F?func=find-d-0&local_base=THM01',\n",
    "#     ISBN='9789866702709'\n",
    "# )"
   ]
  },
  {
   "cell_type": "code",
   "execution_count": null,
   "id": "53afcc5d",
   "metadata": {},
   "outputs": [],
   "source": [
    "# driver = webdriver.Chrome(options=my_options, desired_capabilities=my_capabilities)\n",
    "# moc_thm_crawler(\n",
    "#     driver=driver,\n",
    "#     org='國立臺灣文學館',\n",
    "#     org_url='https://lib.moc.gov.tw/F?func=find-d-0&local_base=THM02',\n",
    "#     ISBN='9789866702709'\n",
    "# )"
   ]
  },
  {
   "cell_type": "code",
   "execution_count": null,
   "id": "8adc5c0d",
   "metadata": {},
   "outputs": [],
   "source": [
    "# driver = webdriver.Chrome(options=my_options, desired_capabilities=my_capabilities)\n",
    "# moc_thm_crawler(\n",
    "#     driver=driver,\n",
    "#     org='國立臺灣史前文化博物館',\n",
    "#     org_url='https://lib.moc.gov.tw/F?func=find-d-0&local_base=THM04',\n",
    "#     ISBN='9789576387166'\n",
    "# )"
   ]
  },
  {
   "cell_type": "code",
   "execution_count": null,
   "id": "16905d4d",
   "metadata": {},
   "outputs": [],
   "source": []
  },
  {
   "cell_type": "code",
   "execution_count": null,
   "id": "405d4b28",
   "metadata": {},
   "outputs": [],
   "source": [
    "# driver = webdriver.Chrome(options=my_options, desired_capabilities=my_capabilities)\n",
    "# moc_thm_crawler(\n",
    "#     driver=driver,\n",
    "#     org='國立傳統藝術中心',\n",
    "#     org_url='https://lib.moc.gov.tw/F?func=find-b-0&local_base=MCA05',\n",
    "#     ISBN='9789860252323'\n",
    "# )"
   ]
  },
  {
   "cell_type": "code",
   "execution_count": null,
   "id": "a5bd2560",
   "metadata": {},
   "outputs": [],
   "source": []
  },
  {
   "cell_type": "code",
   "execution_count": null,
   "id": "6dfca20e",
   "metadata": {},
   "outputs": [],
   "source": []
  },
  {
   "cell_type": "markdown",
   "id": "95a86293",
   "metadata": {},
   "source": [
    "## <mark>完成</mark>連江縣公共圖書館(driver, org, org_url, ISBN)\n",
    "- 『最後編輯』：2021/08/03\n",
    "- 『函式完成度』：極高"
   ]
  },
  {
   "cell_type": "markdown",
   "id": "bb2933ec",
   "metadata": {},
   "source": [
    "### 函式說明\n",
    "- 『運作的原理』：待輸入\n",
    "- 『適用的機構』：[連江縣公共圖書館](http://210.63.206.76/Webpac2/msearch.dll/)、[開南大學](http://www.lib.knu.edu.tw/Webpac2/msearch.dll/)\n",
    "- 『能處理狀況』：一筆、無\n",
    "- 『下一步優化』：\n",
    "    - 開南大學搜尋哈利波特會有多個情況"
   ]
  },
  {
   "cell_type": "markdown",
   "id": "cd011c27",
   "metadata": {},
   "source": [
    "### 函式本體"
   ]
  },
  {
   "cell_type": "code",
   "execution_count": null,
   "id": "78ac955d",
   "metadata": {},
   "outputs": [],
   "source": [
    "def 連江縣公共圖書館(driver, org, org_url, ISBN):\n",
    "    try:\n",
    "        table = []\n",
    "\n",
    "        driver.get(org_url)\n",
    "        search_ISBN(driver, ISBN, 'ISBN')\n",
    "\n",
    "        if wait_for_element_present(driver, '重新查詢', by=By.LINK_TEXT):\n",
    "            print(f'在「{org}」找不到「{ISBN}」')\n",
    "            return\n",
    "\n",
    "        tgt = accurately_find_table_and_read_it(driver, 'table', -2)\n",
    "        tgt['圖書館'], tgt['連結'] = org, driver.current_url\n",
    "        table.append(tgt)\n",
    "\n",
    "        table = organize_columns(table)\n",
    "    except Exception as e:\n",
    "        print(f'在「{org}」搜尋「{ISBN}」時，發生錯誤，錯誤訊息為：「{e}」！')\n",
    "        return\n",
    "    else:\n",
    "        return table"
   ]
  },
  {
   "cell_type": "markdown",
   "id": "3a595e20",
   "metadata": {},
   "source": [
    "# 自我獨立的爬蟲程式"
   ]
  },
  {
   "cell_type": "markdown",
   "id": "99ab51a0",
   "metadata": {},
   "source": [
    "## <mark>完成</mark>國家圖書館(driver, org, org_url, ISBN)\n",
    "- 『最後編輯』：2021/08/02\n",
    "- 『函式完成度』：極高"
   ]
  },
  {
   "cell_type": "markdown",
   "id": "5275019e",
   "metadata": {},
   "source": [
    "### 函式說明\n",
    "- 『運作的原理』：使用 Selenium\n",
    "- 『適用的機構』：[國家圖書館](https://aleweb.ncl.edu.tw/F)\n",
    "- 『能處理狀況』：找不到、一筆、[無表格內容](https://aleweb.ncl.edu.tw/F/MPXYG72FRS6Q4T31JTU5GKITQSE7B3ASA51D88R8BSTBT6T6E5-03970?func=item-global&doc_library=TOP02&doc_number=003632992&year=&volume=&sub_library=)\n",
    "- 『下一步優化』：\n",
    "    - 9789861371955\n",
    "    - 目前尚未遇到多筆情況\n",
    "    - 不知道可以和什麼機構的系統合併在一起？"
   ]
  },
  {
   "cell_type": "markdown",
   "id": "0bcc7e75",
   "metadata": {},
   "source": [
    "### 函式本體"
   ]
  },
  {
   "cell_type": "code",
   "execution_count": null,
   "id": "448ff120",
   "metadata": {},
   "outputs": [],
   "source": [
    "def 國家圖書館(driver, org, org_url, ISBN):\n",
    "    try:\n",
    "        driver.get(org_url)\n",
    "        select_ISBN_strategy(driver, 'find_code', 'ISBN')\n",
    "        search_ISBN(driver, ISBN, 'request')\n",
    "\n",
    "        # 點擊＂書在哪裡(請點選)＂，進入＂書目資料＂\n",
    "        wait_for_element_clickable(driver, '書在哪裡(請點選)').click()\n",
    "\n",
    "        table = accurately_find_table_and_read_it(driver, 'table', -2)\n",
    "        if 0 in table.columns:\n",
    "            print(f'在「{org}」找不到「{ISBN}」')\n",
    "            return\n",
    "        table['圖書館'], table['連結'] = org, driver.current_url\n",
    "        table = organize_columns(table)\n",
    "    except Exception as e:\n",
    "        # 沒有物件可以 click，表示＂零筆＂搜尋結果\n",
    "        print(f'在「{org}」搜尋「{ISBN}」時，發生錯誤，錯誤訊息為：「{e}」！')\n",
    "        return\n",
    "    return table"
   ]
  },
  {
   "cell_type": "markdown",
   "id": "b777091a",
   "metadata": {},
   "source": [
    "## <mark>完成</mark>世新大學(driver, org, org_url, ISBN)\n",
    "- 『最後編輯』：2021/08/03\n",
    "- 『函式完成度』：極高"
   ]
  },
  {
   "cell_type": "markdown",
   "id": "64a56045",
   "metadata": {},
   "source": [
    "### 函式說明\n",
    "- 『運作的原理』：待輸入\n",
    "- 『適用的機構』：[世新大學](https://koha.shu.edu.tw/)\n",
    "- 『能處理狀況』：一筆、無\n",
    "- 『下一步優化』：\n",
    "    - 待輸入\n",
    "    - 待輸入"
   ]
  },
  {
   "cell_type": "markdown",
   "id": "6a3f845e",
   "metadata": {},
   "source": [
    "### 函式本體"
   ]
  },
  {
   "cell_type": "code",
   "execution_count": null,
   "id": "4ca7b362",
   "metadata": {},
   "outputs": [],
   "source": [
    "def 世新大學(driver, org, org_url, ISBN):\n",
    "    try:\n",
    "        driver.get(org_url)\n",
    "        search_ISBN(driver, ISBN, 'request')\n",
    "\n",
    "        table = accurately_find_table_and_read_it(driver, '#holdingst')\n",
    "        table['圖書館'], table['連結'] = org, driver.current_url\n",
    "        table = organize_columns(table)\n",
    "    except Exception as e:\n",
    "        print(f'在「{org}」找不到「{ISBN}」')\n",
    "        return\n",
    "    else:\n",
    "        return table"
   ]
  },
  {
   "cell_type": "code",
   "execution_count": null,
   "id": "ad855ff2",
   "metadata": {},
   "outputs": [],
   "source": [
    "# driver = webdriver.Chrome(options=my_options, desired_capabilities=my_capabilities)\n",
    "# 世新大學(\n",
    "#     driver=driver,\n",
    "#     org='世新大學',\n",
    "#     org_url='https://koha.shu.edu.tw/',\n",
    "#     ISBN='9789573317241'\n",
    "# )"
   ]
  },
  {
   "cell_type": "markdown",
   "id": "89ce6c76",
   "metadata": {},
   "source": [
    "## <mark>完成</mark>敏實科技大學(driver, org, org_url, ISBN)\n",
    "- 『最後編輯』：2021/08/14\n",
    "- 『函式完成度』：高"
   ]
  },
  {
   "cell_type": "code",
   "execution_count": null,
   "id": "1f3c70c2",
   "metadata": {},
   "outputs": [],
   "source": [
    "def 敏實科技大學(driver, org, org_url, ISBN):\n",
    "    try:\n",
    "        table = []\n",
    "\n",
    "        driver.get(org_url)\n",
    "        search_ISBN(driver, ISBN, 'DB.IN1')\n",
    "\n",
    "        if wait_for_element_present(driver, 'span.sm9'):\n",
    "            search_result_message = BeautifulSoup(driver.page_source, 'html.parser').find_all('span', 'sm9')[-2].text\n",
    "            search_result_regex = re.compile(r'\\d')\n",
    "            mo = search_result_regex.search(search_result_message)\n",
    "            if int(mo.group()) == 0:\n",
    "                print(f'在「{org}」找不到「{ISBN}」')\n",
    "                return\n",
    "\n",
    "        driver.find_elements_by_tag_name('a')[1].click()\n",
    "\n",
    "        tgt = accurately_find_table_and_read_it(driver, 'table', -1)\n",
    "        tgt['圖書館'], tgt['連結'] = org, driver.current_url\n",
    "        table.append(tgt)\n",
    "    except Exception as e:\n",
    "        print(f'在「{org}」搜尋「{ISBN}」時，發生錯誤，錯誤訊息為：「{e}」！')\n",
    "        return\n",
    "    else:\n",
    "        table = organize_columns(table)\n",
    "        return table"
   ]
  },
  {
   "cell_type": "code",
   "execution_count": null,
   "id": "42fe2fab",
   "metadata": {},
   "outputs": [],
   "source": [
    "# driver = webdriver.Chrome(options=my_options, desired_capabilities=my_capabilities)\n",
    "# 敏實科技大學(\n",
    "#     driver=driver,\n",
    "#     org='敏實科技大學',\n",
    "#     org_url='http://120.105.200.52/xsearch-b.html',\n",
    "#     ISBN='9789861371955'\n",
    "# )"
   ]
  },
  {
   "cell_type": "markdown",
   "id": "205a78bf",
   "metadata": {},
   "source": [
    "# 靖妤的爬蟲程式"
   ]
  },
  {
   "cell_type": "markdown",
   "id": "cdceb377",
   "metadata": {},
   "source": [
    "## <mark>完成</mark>webpac_two_cralwer(driver, org, org_url, ISBN)\n",
    "- 『最後編輯』：2021/08/05\n",
    "- 『編輯者』：靖妤、仕瑋\n",
    "- 『運用的機構』：[國立臺北藝術大學](http://203.64.5.158/webpac/)、[國立勤益科技大學](http://140.128.95.172/webpac/)、[義守大學](http://webpac.isu.edu.tw/webpac/)、[中山醫學大學](http://140.128.138.208/webpac/)"
   ]
  },
  {
   "cell_type": "markdown",
   "id": "0ed722b2",
   "metadata": {},
   "source": [
    "### 函式本體"
   ]
  },
  {
   "cell_type": "code",
   "execution_count": null,
   "id": "b31bd05a",
   "metadata": {},
   "outputs": [],
   "source": [
    "def webpac_two_cralwer(driver, org, org_url, ISBN):\n",
    "    try:\n",
    "        tgt_url = f'{org_url}search/?q={ISBN}&field=isn&op=AND&type='\n",
    "        driver.get(tgt_url)\n",
    "        \n",
    "        wait_for_element_clickable(driver, '/html/body/div/div[1]/div[2]/div/div/div[2]/div[3]/div[1]/div[3]/div/ul/li/div/div[2]/h3/a', waiting_time=15, by=By.XPATH).click()\n",
    "        \n",
    "        table = accurately_find_table_and_read_it(driver, '#LocalHolding > table')\n",
    "        table['圖書館'], table['連結'] = org, driver.current_url\n",
    "        \n",
    "        # 特殊狀況：國家衛生研究院\n",
    "        if 'http://webpac.nhri.edu.tw/webpac/' in org_url:\n",
    "            table.rename(columns={'館藏狀態': 'wow', '狀態／到期日': '館藏狀態'}, inplace=True)\n",
    "        \n",
    "        table = organize_columns(table)\n",
    "    except:\n",
    "        print(f'在「{org}」找不到「{ISBN}」')\n",
    "        return\n",
    "    else:\n",
    "        return table"
   ]
  },
  {
   "cell_type": "code",
   "execution_count": null,
   "id": "8ee6d25a",
   "metadata": {
    "scrolled": true
   },
   "outputs": [],
   "source": [
    "# driver = webdriver.Chrome(options=my_options, desired_capabilities=my_capabilities)\n",
    "# webpac_two_cralwer(\n",
    "#     driver=driver,\n",
    "#     org='義守大學',\n",
    "#     org_url='https://webpac.isu.edu.tw/webpac/',\n",
    "#     ISBN='9789861371955'\n",
    "# )"
   ]
  },
  {
   "cell_type": "code",
   "execution_count": null,
   "id": "ff9f8693",
   "metadata": {},
   "outputs": [],
   "source": [
    "# driver = webdriver.Chrome(options=my_options, desired_capabilities=my_capabilities)\n",
    "# webpac_two_cralwer(\n",
    "#     driver=driver,\n",
    "#     org='國立臺北藝術大學',\n",
    "#     org_url='http://203.64.5.158/webpac/',\n",
    "#     ISBN='986729193X'\n",
    "# )"
   ]
  },
  {
   "cell_type": "markdown",
   "id": "8669c71b",
   "metadata": {},
   "source": [
    "## <mark>完成</mark>台北海洋科技大學(driver, org, org_url, ISBN)\n",
    "- 『最後編輯』：2021/08/03\n",
    "- 『編輯者』：靖妤\n",
    "- 『運用的機構』：[台北海洋科技大學](http://140.129.253.4/webopac7/sim_data2.php?pagerows=15&orderby=BRN&pageno=1&bn=986729193X)"
   ]
  },
  {
   "cell_type": "markdown",
   "id": "ea560060",
   "metadata": {},
   "source": [
    "### Unable to coerce to Series"
   ]
  },
  {
   "cell_type": "code",
   "execution_count": null,
   "id": "5435140a",
   "metadata": {},
   "outputs": [],
   "source": [
    "def 台北海洋科技大學(driver, org, org_url, ISBN):\n",
    "    try:\n",
    "        df_lst = []\n",
    "        org_url = org_url + ISBN\n",
    "        driver.get(org_url)\n",
    "        result = driver.find_element_by_id(\"qresult-content\")\n",
    "        trlist = result.find_elements_by_tag_name('tr')\n",
    "        for row in range(2, len(trlist)):\n",
    "            css = \"#qresult-content > tbody > tr:nth-child(\" + str(row) + \") > td:nth-child(3) > a\"\n",
    "            into = driver.find_element_by_css_selector(css).click()\n",
    "            time.sleep(2)\n",
    "            html_text = driver.page_source\n",
    "            dfs = pd.read_html(html_text, encoding=\"utf-8\")\n",
    "            df_tumt = dfs[6]\n",
    "            df_tumt.rename(columns={1: \"館藏地\", 3: \"索書號\", 4: \"館藏狀態\"}, inplace=True)\n",
    "            df_tumt.drop([0], inplace=True)\n",
    "            df_tumt[\"圖書館\"], df_tumt[\"連結\"] = \"台北海洋科技大學\", driver.current_url\n",
    "            df_tumt = organize_columns(df_tumt)\n",
    "            df_lst.append(df_tumt)\n",
    "            back = driver.find_element_by_css_selector(\"#table1 > tbody > tr > td:nth-child(1) > a:nth-child(3)\").click()\n",
    "        table = pd.concat(df_lst, axis=0, ignore_index=True)\n",
    "    except Exception as e:\n",
    "            print(f'在「{org}」搜尋「{ISBN}」時，發生錯誤，錯誤訊息為：「{e}」！')\n",
    "            return\n",
    "    else:\n",
    "        return table"
   ]
  },
  {
   "cell_type": "code",
   "execution_count": null,
   "id": "237ff590",
   "metadata": {},
   "outputs": [],
   "source": [
    "# driver = webdriver.Chrome(options=my_options, desired_capabilities=my_capabilities)\n",
    "# 台北海洋科技大學(\n",
    "#     driver=driver,\n",
    "#     org='台北海洋科技大學',\n",
    "#     org_url='http://140.129.253.4/webopac7/sim_data2.php?pageno=1&pagerows=15&orderby=BRN&ti=&au=&se=&su=&pr=&mt=&mt2=&yrs=&yre=&nn=&lc=&bn=',\n",
    "#     ISBN='986729193X'\n",
    "# )"
   ]
  }
 ],
 "metadata": {
  "interpreter": {
   "hash": "7225babeb7cca4b9321e56c564edbc65f6e93aaa0a336d193962bcdf0b3e7508"
  },
  "kernelspec": {
   "display_name": "Python 3",
   "language": "python",
   "name": "python3"
  },
  "language_info": {
   "codemirror_mode": {
    "name": "ipython",
    "version": 3
   },
   "file_extension": ".py",
   "mimetype": "text/x-python",
   "name": "python",
   "nbconvert_exporter": "python",
   "pygments_lexer": "ipython3",
   "version": "3.8.8"
  },
  "toc": {
   "base_numbering": 1,
   "nav_menu": {},
   "number_sections": true,
   "sideBar": true,
   "skip_h1_title": false,
   "title_cell": "Table of Contents",
   "title_sidebar": "Contents",
   "toc_cell": false,
   "toc_position": {
    "height": "calc(100% - 180px)",
    "left": "10px",
    "top": "150px",
    "width": "256px"
   },
   "toc_section_display": true,
   "toc_window_display": false
  }
 },
 "nbformat": 4,
 "nbformat_minor": 5
}
