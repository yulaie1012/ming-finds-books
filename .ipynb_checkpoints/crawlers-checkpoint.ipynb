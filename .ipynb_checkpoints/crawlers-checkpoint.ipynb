{
 "cells": [
  {
   "cell_type": "markdown",
   "id": "ef2f09f6",
   "metadata": {},
   "source": [
    "# 環境設置"
   ]
  },
  {
   "cell_type": "markdown",
   "id": "aa2d8c90",
   "metadata": {},
   "source": [
    "## 載入套件\n",
    "- selenium、pandas、requests、bs4、time"
   ]
  },
  {
   "cell_type": "code",
   "execution_count": 3,
   "id": "9a1ffc24",
   "metadata": {
    "code_folding": []
   },
   "outputs": [],
   "source": [
    "from selenium import webdriver\n",
    "from selenium.webdriver.chrome.options import Options  # 設定 driver 的行為\n",
    "from selenium.webdriver.support.ui import Select  # 選擇＂下拉式選單＂\n",
    "from selenium.webdriver.common.keys import Keys  # 鍵盤操作\n",
    "from selenium.common.exceptions import NoSuchElementException, TimeoutException  # 載入常見錯誤\n",
    "from selenium.webdriver.common.desired_capabilities import DesiredCapabilities  # 更改載入策略\n",
    "from selenium.webdriver.support.ui import WebDriverWait  # 等待機制\n",
    "from selenium.webdriver.support import expected_conditions as EC  # 預期事件\n",
    "from selenium.webdriver.common.by import By  # 找尋元素的方法\n",
    "import pandas as pd  # 載入 pandas\n",
    "import pandas.io.formats.excel  # 輸出自定義格式 Excel\n",
    "import requests\n",
    "import requests.packages.urllib3\n",
    "\n",
    "requests.packages.urllib3.disable_warnings()  # 關閉錯誤警告\n",
    "from urllib.request import HTTPError  # 載入 HTTPError\n",
    "from bs4 import BeautifulSoup\n",
    "import time  # 強制等待"
   ]
  },
  {
   "cell_type": "markdown",
   "id": "72162171",
   "metadata": {},
   "source": [
    "## 設定 driver 的參數：options、desired_capabilities"
   ]
  },
  {
   "cell_type": "code",
   "execution_count": 4,
   "id": "f496877e",
   "metadata": {},
   "outputs": [],
   "source": [
    "my_options = Options()\n",
    "my_options.add_argument('--incognito')  # 開啟無痕模式\n",
    "# my_options.add_argument('--start-maximized')  # 視窗最大化\n",
    "# my_options.add_argument('--headless')  # 不開啟實體瀏覽器\n",
    "my_capabilities = DesiredCapabilities.CHROME\n",
    "my_capabilities['pageLoadStrategy'] = 'eager'"
   ]
  },
  {
   "cell_type": "markdown",
   "id": "df71dabf",
   "metadata": {},
   "source": [
    "# 自定義函式"
   ]
  },
  {
   "cell_type": "markdown",
   "id": "e1954306",
   "metadata": {},
   "source": [
    "## organize_columns(df1)\n",
    "- 處理欄位：圖書館、館藏地（c2）、索書號（c3）、館藏狀態（c4）、連結\n",
    "- 如果 df1 是裝著 DataFrame 的 list，則就合併它們；否則（df1 是 DataFrame），就接著執行以下敘述。\n",
    "- 丟掉垃圾欄位，整理成要呈現的表格\n",
    "- 新增必要欄位（圖書館、連結）\n",
    "- 填滿 NaN（用 ffill 的 方式）"
   ]
  },
  {
   "cell_type": "code",
   "execution_count": 5,
   "id": "80b9038a",
   "metadata": {},
   "outputs": [],
   "source": [
    "def organize_columns(df1):\n",
    "    # 合併全部的 DataFrame\n",
    "    try:\n",
    "        df1 = pd.concat(df1, axis=0, ignore_index=True)\n",
    "    except:\n",
    "        pass\n",
    "\n",
    "    # 處理 column 2：館藏地\n",
    "    c2 = [\n",
    "        '分館/專室', '館藏地/室', '館藏室', '館藏地/館藏室', '館藏地', '典藏館', '館藏位置', '館藏地/區域',\n",
    "        '典藏地名稱'\n",
    "    ]\n",
    "    df1['c2'] = ''\n",
    "    for c in c2:\n",
    "        try:\n",
    "            df1['c2'] += df1[c]\n",
    "        except:\n",
    "            pass\n",
    "\n",
    "    # 處理 column 3：索書號\n",
    "    c3 = ['索書號', '索書號/期刊合訂本卷期', '索書號 / 部冊號']\n",
    "    df1['c3'] = ''\n",
    "    for c in c3:\n",
    "        try:\n",
    "            df1['c3'] += df1[c]\n",
    "        except:\n",
    "            pass\n",
    "\n",
    "    # 處理 column 4：館藏狀態\n",
    "    c4 = [\n",
    "        '館藏位置(到期日期僅為期限，不代表上架日期)', '狀態/到期日', '目前狀態 / 到期日', '館藏狀態', '處理狀態',\n",
    "        '狀態 (說明)', '館藏現況 說明', '目前狀態/預計歸還日期', '圖書狀況 / 到期日', '調閱說明', '借閱狀態', '狀態'\n",
    "    ]\n",
    "    df1['c4'] = ''\n",
    "    for c in c4:\n",
    "        try:\n",
    "            df1['c4'] += df1[c]\n",
    "        except:\n",
    "            pass\n",
    "\n",
    "    # 直接生成另一個 DataFrame\n",
    "    df2 = pd.DataFrame()\n",
    "    df2['圖書館'] = df1['圖書館']\n",
    "    df2['館藏地'] = df1['c2']\n",
    "    df2['索書號'] = df1['c3']\n",
    "    df2['館藏狀態'] = df1['c4']\n",
    "    df2['連結'] = df1['連結']\n",
    "\n",
    "    # 遇到值為 NaN時，將前一列的值填補進來\n",
    "    df2.fillna(method=\"ffill\", axis=0, inplace=True)\n",
    "\n",
    "    return df2"
   ]
  },
  {
   "cell_type": "markdown",
   "id": "9df22a4a",
   "metadata": {
    "heading_collapsed": true
   },
   "source": [
    "## set_excel(df, directory)\n",
    "- 待"
   ]
  },
  {
   "cell_type": "code",
   "execution_count": 6,
   "id": "5d928aa0",
   "metadata": {
    "code_folding": [],
    "hidden": true
   },
   "outputs": [],
   "source": [
    "def set_excel(df, directory):\n",
    "    # B｢圖書館｣、C「館藏地」、D「索書號」、E「館藏狀態」、F「連結」\n",
    "    pandas.io.formats.excel.header_style = None  # 標題格式清除\n",
    "    writer = pd.ExcelWriter(directory)\n",
    "    df.to_excel(writer, sheet_name=\"搜尋結果\")\n",
    "\n",
    "    workbook1 = writer.book\n",
    "    worksheets = writer.sheets\n",
    "    worksheet1 = worksheets[\"搜尋結果\"]\n",
    "\n",
    "    # 測試\n",
    "    cell_format = workbook1.add_format({\n",
    "        \"font_name\": \"微軟正黑體\",\n",
    "        \"font_size\": 16,\n",
    "        \"align\": \"left\",\n",
    "        #         \"border\": 80,\n",
    "    })\n",
    "    worksheet1.set_column(\"B:F\", 40, cell_format)\n",
    "\n",
    "    # 設定單元格的寬度\n",
    "    #     worksheet1.set_column(\"B:F\", 35)\n",
    "\n",
    "    writer.save()\n",
    "    print(\"爬取完成\")"
   ]
  },
  {
   "cell_type": "markdown",
   "id": "3143ab24",
   "metadata": {},
   "source": [
    "## wait_for_element_present(element_location, waiting_time=5, by=By.CSS_SELECTOR)\n",
    "- 用法：等待 element 出現，每間隔 0.5 秒定位一次，直到 5 秒。如果定位元素成功，回傳 element；否則，回傳 None。\n",
    "- 參數：\n",
    "    - element_location：元素位置，預設 CSS selector\n",
    "    - waiting_time：等待時間，預設 5 秒\n",
    "    - by：定位方式，預設 By.CSS_SELECTOR"
   ]
  },
  {
   "cell_type": "code",
   "execution_count": 20,
   "id": "6c393779",
   "metadata": {},
   "outputs": [],
   "source": [
    "def wait_for_element_present(element_location, waiting_time=5, by=By.CSS_SELECTOR):\n",
    "    try:\n",
    "        element = WebDriverWait(driver, waiting_time).until(\n",
    "            EC.presence_of_element_located((by, element_location)))\n",
    "    except:\n",
    "        return\n",
    "    else:\n",
    "        return element"
   ]
  },
  {
   "cell_type": "markdown",
   "id": "d7b12b7f",
   "metadata": {},
   "source": [
    "## wait_for_url_changed(old_url, waiting_time=10)\n",
    "- 用法：等待網址改變（輸入的網址和現在的網址進行比較），每間隔 0.5 秒檢查一次，直到 10 秒。如果網址有改變，回傳 True；否則，回傳 None。\n",
    "- 參數：\n",
    "    - old_url：舊網址\n",
    "    - waiting_time：等待時間，預設 10 秒"
   ]
  },
  {
   "cell_type": "code",
   "execution_count": 21,
   "id": "5bb53e5e",
   "metadata": {},
   "outputs": [],
   "source": [
    "def wait_for_url_changed(old_url, waiting_time=10):\n",
    "    try:\n",
    "        WebDriverWait(driver, time).until(EC.url_changes(old_url))\n",
    "    except:\n",
    "        return\n",
    "    else:\n",
    "        return True"
   ]
  },
  {
   "cell_type": "markdown",
   "id": "dd24b236",
   "metadata": {},
   "source": [
    "## accurately_find_table_and_read_it(value)\n",
    "- 精準定位 table 並讀取成 pd.DataFrame，如果定位 table 成功，回傳 pd.DataFrame；否則，回傳 None。\n",
    "- 參數 value 為 CSS_SELECTOR"
   ]
  },
  {
   "cell_type": "code",
   "execution_count": 9,
   "id": "dd1e019a",
   "metadata": {},
   "outputs": [],
   "source": [
    "def accurately_find_table_and_read_it(value):\n",
    "    try:\n",
    "        if not wait_for_element_present(value):\n",
    "            print(f'找不到 {value}！')\n",
    "            return\n",
    "        soup = BeautifulSoup(driver.page_source, 'html.parser')\n",
    "        table_innerHTML = soup.select(value)[0]\n",
    "        tgt = pd.read_html(str(table_innerHTML), encoding='utf-8')[0]\n",
    "        tgt['圖書館'], tgt['連結'] = org, driver.current_url\n",
    "    except:\n",
    "        return\n",
    "    else:\n",
    "        return tgt"
   ]
  },
  {
   "cell_type": "markdown",
   "id": "a1ebf74a",
   "metadata": {},
   "source": [
    "## select_ISBN_strategy()\n",
    "- 等待＂下拉式選單＂出現，選擇以 ISBN 方式搜尋\n",
    "- 參數：value1（用 name 找select）、value2（用 value 找option）、time（等待時間）"
   ]
  },
  {
   "cell_type": "code",
   "execution_count": 10,
   "id": "d01fb320",
   "metadata": {},
   "outputs": [],
   "source": [
    "def select_ISBN_strategy(value1, value2, time=30):\n",
    "    time.sleep(0.5)\n",
    "    search_field = WebDriverWait(driver, time).until(EC.presence_of_element_located((By.NAME, value1)))\n",
    "    select = Select(search_field)\n",
    "    select.select_by_value(value2)"
   ]
  },
  {
   "cell_type": "markdown",
   "id": "1683962b",
   "metadata": {},
   "source": [
    "## search_ISBN(ISBN, value1, time=10)\n",
    "- 等待＂搜尋欄＂出現，輸入 ISBN 並按下 ENTER\n",
    "- 參數：ISBN、value1（用 name 找 input）"
   ]
  },
  {
   "cell_type": "code",
   "execution_count": 11,
   "id": "9d1dcb0e",
   "metadata": {},
   "outputs": [],
   "source": [
    "def search_ISBN(ISBN, value1, time=10):\n",
    "    time.sleep(0.5)\n",
    "    search_input = WebDriverWait(driver, time).until(EC.presence_of_element_located((By.NAME, value1)))\n",
    "    search_input.send_keys(ISBN)\n",
    "    search_input.send_keys(Keys.ENTER)"
   ]
  },
  {
   "cell_type": "code",
   "execution_count": 12,
   "id": "ba3548cc",
   "metadata": {},
   "outputs": [],
   "source": [
    "time.sleep(0.5)"
   ]
  },
  {
   "cell_type": "markdown",
   "id": "88bc62e3",
   "metadata": {},
   "source": [
    "# 爬蟲程式"
   ]
  },
  {
   "cell_type": "markdown",
   "id": "74a976c7",
   "metadata": {},
   "source": [
    "## webpac_gov_crawler(org, org_url, ISBN) 進行中\n",
    "- 『函式完成度』：高，待 general"
   ]
  },
  {
   "cell_type": "markdown",
   "id": "2f196f22",
   "metadata": {},
   "source": [
    "### 函式說明\n",
    "\n",
    "- 『運作的原理』：\n",
    "- 『適用的機構』：宜蘭縣公共圖書館、桃園市立圖書館、高雄市立圖書館、屏東縣公共圖書館、花蓮縣圖書館、澎湖縣圖書館\n",
    "- 『能處理狀況』：判斷搜尋結果有沒有超過一筆、只有一筆搜尋結果有沒有跳轉、找不到書\n",
    "- 『下一步優化』：當搜尋無結果時，可以直接結束。"
   ]
  },
  {
   "cell_type": "markdown",
   "id": "60492175",
   "metadata": {},
   "source": [
    "### 函式本體"
   ]
  },
  {
   "cell_type": "code",
   "execution_count": null,
   "id": "b72663e6",
   "metadata": {},
   "outputs": [],
   "source": [
    "def click_more_btn(driver):\n",
    "    try:\n",
    "        while True:\n",
    "            more_btn = WebDriverWait(driver, 10).until(\n",
    "                EC.visibility_of_element_located(\n",
    "                    (By.CSS_SELECTOR, \"a.btnstyle.bluebg3.morewidth\")))\n",
    "            if more_btn:\n",
    "                time.sleep(2.5)  # 不得已的強制等待\n",
    "                more_btn.click()\n",
    "                # driver.find_element_by_css_selector(\"a.btnstyle.bluebg3.morewidth\").click()\n",
    "    except:\n",
    "        time.sleep(2.5)\n",
    "\n",
    "\n",
    "def webpac_gov_crawler(org, org_url, ISBN):\n",
    "    try:\n",
    "        # 進入＂搜尋結果＂頁面\n",
    "        search_url = org_url + ISBN\n",
    "        driver.get(search_url)\n",
    "\n",
    "        # 計算＂搜尋結果的數量＂\n",
    "        book_list = WebDriverWait(driver, 30).until(\n",
    "            EC.presence_of_all_elements_located(\n",
    "                (By.CSS_SELECTOR, \"div.booklist\")))\n",
    "        results = len(book_list)\n",
    "        print(f\"搜尋結果數量有：{results}筆\")\n",
    "\n",
    "        time.sleep(2)  # 頁面加載，用強制等待\n",
    "\n",
    "        # 依照搜尋結果的數量分成：一筆和多筆兩種情形\n",
    "        if results < 2:\n",
    "            if WebDriverWait(driver, 30).until(\n",
    "                    EC.presence_of_element_located(\n",
    "                        (By.CSS_SELECTOR, \"div.bookplace_list\"))):\n",
    "                click_more_btn(driver)\n",
    "                table = pd.read_html(driver.page_source, encoding=\"utf-8\")[-1]\n",
    "                table = organize_columns(table)\n",
    "                return table\n",
    "        else:\n",
    "            soup = BeautifulSoup(driver.page_source,\n",
    "                                 \"html.parser\")  # 用以當搜尋結果多筆時，找尋不同＂詳細書目＂的網址\n",
    "\n",
    "            table = []\n",
    "            org_url = org_url.split(\"search?\")[0]  # 取得＂搜尋主頁＂頁面\n",
    "            for li in soup.find_all(\"div\", \"booklist\"):\n",
    "                href = org_url + li.find(\"h2\").find(\"a\")[\"href\"]\n",
    "\n",
    "                driver.get(href)\n",
    "                if WebDriverWait(driver, 30).until(\n",
    "                        EC.presence_of_element_located(\n",
    "                            (By.CSS_SELECTOR, \"div.bookplace_list\"))):\n",
    "                    click_more_btn(driver)\n",
    "                table.append(\n",
    "                    pd.read_html(driver.page_source, encoding=\"utf-8\")[-1])\n",
    "            table = organize_columns(table)\n",
    "            return table\n",
    "    except:\n",
    "        print(f\"「{org_url}」無法爬取！\")"
   ]
  },
  {
   "cell_type": "markdown",
   "id": "c4f829f1",
   "metadata": {},
   "source": [
    "### 函式測試"
   ]
  },
  {
   "cell_type": "code",
   "execution_count": null,
   "id": "096805f6",
   "metadata": {},
   "outputs": [],
   "source": [
    "if __name__ == '__main__':\n",
    "    driver = webdriver.Chrome(options=my_options, desired_capabilities=my_capabilities)\n",
    "    table = webpac_gov_crawler(\n",
    "        org='宜蘭縣公共圖書館',\n",
    "        org_url='https://webpac.ilccb.gov.tw/search?phonetic=0&queryType=0&searchField=ISBN&searchInput=',\n",
    "        ISBN='9789868879348'\n",
    "    )\n",
    "table"
   ]
  },
  {
   "cell_type": "code",
   "execution_count": 13,
   "id": "54db771f",
   "metadata": {},
   "outputs": [],
   "source": [
    "driver = webdriver.Chrome(options=my_options, desired_capabilities=my_capabilities)"
   ]
  },
  {
   "cell_type": "code",
   "execution_count": 14,
   "id": "1e1f6aee",
   "metadata": {},
   "outputs": [],
   "source": [
    "org='宜蘭縣公共圖書館'\n",
    "org_url='https://webpac.ilccb.gov.tw'\n",
    "ISBN='9789868879348'"
   ]
  },
  {
   "cell_type": "code",
   "execution_count": 15,
   "id": "810afef5",
   "metadata": {},
   "outputs": [],
   "source": [
    "driver.get(org_url)"
   ]
  },
  {
   "cell_type": "code",
   "execution_count": 16,
   "id": "8d1feb1d",
   "metadata": {},
   "outputs": [],
   "source": [
    "if not wait_for_element_present('div.advancedsearch > a'):\n",
    "    print('跳出函式')\n",
    "driver.find_element(By.CSS_SELECTOR, 'div.advancedsearch > a').click()"
   ]
  },
  {
   "cell_type": "code",
   "execution_count": 17,
   "id": "cfa75f97",
   "metadata": {},
   "outputs": [
    {
     "ename": "AttributeError",
     "evalue": "'int' object has no attribute 'sleep'",
     "output_type": "error",
     "traceback": [
      "\u001b[1;31m---------------------------------------------------------------------------\u001b[0m",
      "\u001b[1;31mAttributeError\u001b[0m                            Traceback (most recent call last)",
      "\u001b[1;32m<ipython-input-17-d72f97af0993>\u001b[0m in \u001b[0;36m<module>\u001b[1;34m\u001b[0m\n\u001b[1;32m----> 1\u001b[1;33m \u001b[0mselect_ISBN_strategy\u001b[0m\u001b[1;33m(\u001b[0m\u001b[1;34m'searchField'\u001b[0m\u001b[1;33m,\u001b[0m \u001b[1;34m'ISBN'\u001b[0m\u001b[1;33m)\u001b[0m\u001b[1;33m\u001b[0m\u001b[1;33m\u001b[0m\u001b[0m\n\u001b[0m",
      "\u001b[1;32m<ipython-input-10-94e77ee5fac8>\u001b[0m in \u001b[0;36mselect_ISBN_strategy\u001b[1;34m(value1, value2, time)\u001b[0m\n\u001b[0;32m      1\u001b[0m \u001b[1;32mdef\u001b[0m \u001b[0mselect_ISBN_strategy\u001b[0m\u001b[1;33m(\u001b[0m\u001b[0mvalue1\u001b[0m\u001b[1;33m,\u001b[0m \u001b[0mvalue2\u001b[0m\u001b[1;33m,\u001b[0m \u001b[0mtime\u001b[0m\u001b[1;33m=\u001b[0m\u001b[1;36m30\u001b[0m\u001b[1;33m)\u001b[0m\u001b[1;33m:\u001b[0m\u001b[1;33m\u001b[0m\u001b[1;33m\u001b[0m\u001b[0m\n\u001b[1;32m----> 2\u001b[1;33m     \u001b[0mtime\u001b[0m\u001b[1;33m.\u001b[0m\u001b[0msleep\u001b[0m\u001b[1;33m(\u001b[0m\u001b[1;36m0.5\u001b[0m\u001b[1;33m)\u001b[0m\u001b[1;33m\u001b[0m\u001b[1;33m\u001b[0m\u001b[0m\n\u001b[0m\u001b[0;32m      3\u001b[0m     \u001b[0msearch_field\u001b[0m \u001b[1;33m=\u001b[0m \u001b[0mWebDriverWait\u001b[0m\u001b[1;33m(\u001b[0m\u001b[0mdriver\u001b[0m\u001b[1;33m,\u001b[0m \u001b[0mtime\u001b[0m\u001b[1;33m)\u001b[0m\u001b[1;33m.\u001b[0m\u001b[0muntil\u001b[0m\u001b[1;33m(\u001b[0m\u001b[0mEC\u001b[0m\u001b[1;33m.\u001b[0m\u001b[0mpresence_of_element_located\u001b[0m\u001b[1;33m(\u001b[0m\u001b[1;33m(\u001b[0m\u001b[0mBy\u001b[0m\u001b[1;33m.\u001b[0m\u001b[0mNAME\u001b[0m\u001b[1;33m,\u001b[0m \u001b[0mvalue1\u001b[0m\u001b[1;33m)\u001b[0m\u001b[1;33m)\u001b[0m\u001b[1;33m)\u001b[0m\u001b[1;33m\u001b[0m\u001b[1;33m\u001b[0m\u001b[0m\n\u001b[0;32m      4\u001b[0m     \u001b[0mselect\u001b[0m \u001b[1;33m=\u001b[0m \u001b[0mSelect\u001b[0m\u001b[1;33m(\u001b[0m\u001b[0msearch_field\u001b[0m\u001b[1;33m)\u001b[0m\u001b[1;33m\u001b[0m\u001b[1;33m\u001b[0m\u001b[0m\n\u001b[0;32m      5\u001b[0m     \u001b[0mselect\u001b[0m\u001b[1;33m.\u001b[0m\u001b[0mselect_by_value\u001b[0m\u001b[1;33m(\u001b[0m\u001b[0mvalue2\u001b[0m\u001b[1;33m)\u001b[0m\u001b[1;33m\u001b[0m\u001b[1;33m\u001b[0m\u001b[0m\n",
      "\u001b[1;31mAttributeError\u001b[0m: 'int' object has no attribute 'sleep'"
     ]
    }
   ],
   "source": [
    "select_ISBN_strategy('searchField', 'ISBN')"
   ]
  },
  {
   "cell_type": "code",
   "execution_count": null,
   "id": "137dc914",
   "metadata": {},
   "outputs": [],
   "source": [
    "search_ISBN(ISBN, 'searchInput')"
   ]
  },
  {
   "cell_type": "code",
   "execution_count": null,
   "id": "e4414e10",
   "metadata": {},
   "outputs": [],
   "source": [
    "if not wait_for_element_present('div.bookplace_list table'):\n",
    "    print('跳出函式')\n",
    "tgt = accurately_find_table_and_read_it('div.bookplace_list table')\n",
    "tgt = organize_columns(tgt)\n",
    "tgt"
   ]
  },
  {
   "cell_type": "code",
   "execution_count": null,
   "id": "4b61467d",
   "metadata": {},
   "outputs": [],
   "source": []
  },
  {
   "cell_type": "code",
   "execution_count": null,
   "id": "439b41db",
   "metadata": {},
   "outputs": [],
   "source": []
  },
  {
   "cell_type": "code",
   "execution_count": null,
   "id": "6e64ade4",
   "metadata": {},
   "outputs": [],
   "source": []
  },
  {
   "cell_type": "code",
   "execution_count": null,
   "id": "f502b6d4",
   "metadata": {},
   "outputs": [],
   "source": []
  },
  {
   "cell_type": "code",
   "execution_count": null,
   "id": "9ba85565",
   "metadata": {},
   "outputs": [],
   "source": []
  },
  {
   "cell_type": "code",
   "execution_count": null,
   "id": "6a3f9d13",
   "metadata": {},
   "outputs": [],
   "source": []
  },
  {
   "cell_type": "markdown",
   "id": "cb30b680",
   "metadata": {
    "heading_collapsed": true
   },
   "source": [
    "## webpac_jsp_crawler(org, org_url, ISBN)\n",
    "- 『函式完成度』：極高"
   ]
  },
  {
   "cell_type": "markdown",
   "id": "84d6353e",
   "metadata": {
    "hidden": true
   },
   "source": [
    "### 函式說明\n",
    "- 『運作的原理』：\n",
    "    - 使用 selenium 進行搜索。\n",
    "    - 大量使用 wait 機制，來應對加載過慢的網頁（例：[佛光大學](http://libils.fgu.edu.tw/webpacIndex.jsp)）\n",
    "    - 當搜尋結果只有一筆時，有些網站會直接進入＂詳細書目＂（例：[國立宜蘭大學](https://lib.niu.edu.tw/webpacIndex.jsp)）\n",
    "        - 還是會停留在＂搜尋結果＂頁面，但大部分會看不到，網址仍會改變，所以無法用網址判定\n",
    "    - 當搜尋結果有多筆時，會要切換到 iframe 爬取。\n",
    "    - 有些＂詳細書目＂會有沒有表格的情況（例：[中華科大](http://192.192.231.232/bookDetail.do?id=260965&nowid=3&resid=188809854)）\n",
    "- 『適用的機構』：國立宜蘭大學、佛光大學、嘉南藥理大學、……\n",
    "- 『能處理狀況』：[一筆](http://webpac.meiho.edu.tw/bookDetail.do?id=194508)、[無](http://webpac.meiho.edu.tw/bookSearchList.do?searchtype=simplesearch&search_field=ISBN&search_input=97895733172411&searchsymbol=hyLibCore.webpac.search.common_symbol&execodehidden=true&execode=&ebook=)、[多筆](http://webpac.meiho.edu.tw/bookSearchList.do?searchtype=simplesearch&execodeHidden=true&execode=&search_field=ISBN&search_input=9789573317241&searchsymbol=hyLibCore.webpac.search.common_symbol&resid=189006169&nowpage=1#searchtype=simplesearch&execodeHidden=true&execode=&search_field=ISBN&search_input=9789573317241&searchsymbol=hyLibCore.webpac.search.common_symbol&resid=189006169&nowpage=1)、[無表格](http://192.192.231.232/bookDetail.do?id=260965&nowid=3&resid=188809854)\n",
    "- 『下一步優化』：\n",
    "    - 統一 search_input.submit() 和 search_input.send_keys(Keys.ENTER)？"
   ]
  },
  {
   "cell_type": "markdown",
   "id": "c3ab96d2",
   "metadata": {
    "hidden": true
   },
   "source": [
    "### 函式本體"
   ]
  },
  {
   "cell_type": "code",
   "execution_count": null,
   "id": "e2a5536c",
   "metadata": {
    "code_folding": [],
    "hidden": true
   },
   "outputs": [],
   "source": [
    "def webpac_jsp_crawler(org, org_url, ISBN):\n",
    "    try:\n",
    "        # 進入＂搜尋主頁＂\n",
    "        driver.get(org_url)\n",
    "        # 等待定位＂下拉式選單＂，選擇 ISBN\n",
    "        search_field = WebDriverWait(driver, 30).until(EC.presence_of_element_located((By.NAME, 'search_field')))\n",
    "        select = Select(search_field)\n",
    "        select.select_by_value('ISBN')  # select.select_by_value('STANDARDNO') -> 北科\n",
    "        # 等待定位＂搜尋欄＂，輸入 ISBN\n",
    "        search_input = WebDriverWait(driver, 10).until(EC.presence_of_element_located((By.NAME, 'search_input')))\n",
    "        search_input.send_keys(ISBN)\n",
    "        search_input.submit()\n",
    "        # table 為回傳值\n",
    "        table = []\n",
    "        # 搜尋結果的數量為＂一筆＂\n",
    "        if wait_for_element_present('div.mainCon'):\n",
    "            if not wait_for_element_present('table.order'):\n",
    "                return\n",
    "            tgt = accurately_find_table_and_read_it('table.order')\n",
    "            table.append(tgt)\n",
    "        # 搜尋結果的數量為＂多筆＂和＂零筆＂\n",
    "        elif wait_for_element_present('iframe#leftFrame'):\n",
    "            iframe = driver.find_element_by_id('leftFrame')\n",
    "            driver.switch_to.frame(iframe)\n",
    "            # 切換到 <frame> 需要時間，否則會無法讀取\n",
    "            time.sleep(1)\n",
    "            # 解析 html，以取得 tgt_urls\n",
    "            soup = BeautifulSoup(driver.page_source, 'html.parser')\n",
    "            # 判斷是不是＂零筆＂\n",
    "            if soup.find('em', {'id': 'totalpage'}).text == '0':\n",
    "                print(f'您所輸入的 ISBN 碼：{ISBN}，共查得 0 筆。')\n",
    "                return\n",
    "            anchors = soup.find_all('a', 'bookname')\n",
    "            # tgt_urls 為各個＂詳細書目＂的網址\n",
    "            tgt_urls = []\n",
    "            for anchor in anchors:\n",
    "                tgt_urls.append(org_url.replace('webpacIndex.jsp', '') + anchor['href'])\n",
    "            # 取得 tgt_urls 後，開始進入 tgt_url\n",
    "            for tgt_url in tgt_urls:\n",
    "                # 進入＂詳細書目＂\n",
    "                driver.get(tgt_url)\n",
    "                # 等待元素出現，如果出現，那麼抓取 DataFrame；如果沒出現，那麼跳出迴圈\n",
    "                if not wait_for_element_present('table.order'):\n",
    "                    continue  # 暫停＂本次＂迴圈，以下敘述不會執行\n",
    "                tgt = accurately_find_table_and_read_it('div.allDetail table.order')\n",
    "                table.append(tgt)\n",
    "        table = organize_columns(table)\n",
    "    except Exception as e:\n",
    "        print(e)\n",
    "        return\n",
    "    else:\n",
    "        return table"
   ]
  },
  {
   "cell_type": "markdown",
   "id": "7207f656",
   "metadata": {
    "hidden": true
   },
   "source": [
    "### 函式測試"
   ]
  },
  {
   "cell_type": "code",
   "execution_count": null,
   "id": "822e6cfa",
   "metadata": {
    "hidden": true
   },
   "outputs": [],
   "source": [
    "if __name__ == '__main__':\n",
    "    driver = webdriver.Chrome(options=my_options, desired_capabilities=my_capabilities)\n",
    "    table = webpac_jsp_crawler(\n",
    "        org='美和科技大學',\n",
    "        org_url='http://192.192.231.232/webpacIndex.jsp',\n",
    "        ISBN='9573317249'\n",
    "    )"
   ]
  },
  {
   "cell_type": "markdown",
   "id": "37e13da5",
   "metadata": {},
   "source": [
    "## easy_crawler(table_position, org, org_url, ISBN)\n",
    "- 『函式完成度』：高"
   ]
  },
  {
   "cell_type": "markdown",
   "id": "7150e35e",
   "metadata": {},
   "source": [
    "### 函式說明\n",
    "- 『運作的原理』：直接進入＂詳細書目＂頁面後，使用 pd.read_html 抓取 table，但每個機構的 table 位置不同，需要在 function 將此當作一個 parameter。\n",
    "- 『適用的機構』：國立臺灣海洋大學、國立臺灣師範大學、中央研究院、國立陽明大學、國立中央大學、中原大學、國立臺灣科技大學、中國文化大學、輔仁大學\n",
    "- 『能處理狀況』：HTTPError\n",
    "- 『下一步優化』：師大查詢結果有多本（https://opac.lib.ntnu.edu.tw/search*cht/i?SEARCH=9789573229131 ）"
   ]
  },
  {
   "cell_type": "markdown",
   "id": "54e5eb00",
   "metadata": {},
   "source": [
    "### 函式本體"
   ]
  },
  {
   "cell_type": "code",
   "execution_count": null,
   "id": "30f7bae9",
   "metadata": {
    "code_folding": []
   },
   "outputs": [],
   "source": [
    "def easy_crawler(table_position, org, org_url, ISBN):\n",
    "    try:\n",
    "        # 組合成書本的網址\n",
    "        tgt_url = org_url + ISBN\n",
    "        # 載入 html，如果發生 HTTPError，那麼就使用 requests.get(url, verify=False)\n",
    "        try:\n",
    "            tgt = pd.read_html(tgt_url, encoding=\"utf-8\")\n",
    "        except HTTPError:\n",
    "            resp = requests.get(tgt_url,\n",
    "                                verify=False)  # 設定 verify=False，以解決 SSLError\n",
    "            tgt = pd.read_html(resp.text, encoding=\"utf-8\")\n",
    "        # 定位表格\n",
    "        table = tgt[table_position]\n",
    "        table['圖書館'], table['連結'] = org, tgt_url\n",
    "        table = organize_columns(table)\n",
    "        return table  # 完成抓取 table\n",
    "    except:\n",
    "        print(f'《{ISBN}》在「{url}」無法爬取')"
   ]
  },
  {
   "cell_type": "markdown",
   "id": "3221f180",
   "metadata": {
    "heading_collapsed": true
   },
   "source": [
    "### 函式測試"
   ]
  },
  {
   "cell_type": "code",
   "execution_count": null,
   "id": "4910ba26",
   "metadata": {
    "hidden": true
   },
   "outputs": [],
   "source": [
    "if __name__ == '__main__':\n",
    "    table = easy_crawler(\n",
    "        table_position=4,\n",
    "        org='國立臺灣師範大學',\n",
    "        org_url='https://opac.lib.ntnu.edu.tw/search*cht/i?SEARCH=',\n",
    "        ISBN='9789869109321'\n",
    "    )\n",
    "table"
   ]
  },
  {
   "cell_type": "markdown",
   "id": "5ef973bf",
   "metadata": {},
   "source": [
    "## webpac_ajax_page_crawler(org, org_url, ISBN)\n",
    "- 『函式完成度』：極高"
   ]
  },
  {
   "cell_type": "markdown",
   "id": "f1c74d34",
   "metadata": {},
   "source": [
    "### 函式說明\n",
    "- 『運作的原理』：使用 selenium 進行搜索，進入＂詳細書目＂頁面後，從該網址分析並得到 mid，在由此進入 ajax_page。\n",
    "- 『適用的機構』：新北市立圖書館、高雄市立空中大學、國立屏東大學\n",
    "- 『能處理狀況』：判斷搜尋結果有沒有超過一筆、只有一筆搜尋結果有沒有跳轉、找不到書\n",
    "- 『下一步優化』：當搜尋無結果時，可以直接結束。"
   ]
  },
  {
   "cell_type": "markdown",
   "id": "746dcd47",
   "metadata": {},
   "source": [
    "### 函式本體"
   ]
  },
  {
   "cell_type": "code",
   "execution_count": null,
   "id": "28b8da07",
   "metadata": {
    "code_folding": []
   },
   "outputs": [],
   "source": [
    "def webpac_ajax_page_crawler(org, org_url, ISBN):\n",
    "    try:\n",
    "        # 進入＂搜尋主頁＂\n",
    "        driver.get(org_url)\n",
    "        # 等待點擊＂進階查詢＂按鈕，接著點擊\n",
    "        WebDriverWait(driver, 30).until(\n",
    "            EC.element_to_be_clickable((By.LINK_TEXT, '進階查詢'))).click()\n",
    "        # 等待定位＂下拉式選單＂，選擇以 ISBN 方式搜尋\n",
    "        search_field = WebDriverWait(driver, 10).until(\n",
    "            EC.presence_of_element_located((By.ID, 'as_type_1')))\n",
    "        select = Select(search_field)\n",
    "        select.select_by_value('i')\n",
    "        # 定位＂搜尋欄＂，輸入 ISBN\n",
    "        search_input = driver.find_element_by_id('as_keyword_1')\n",
    "        search_input.send_keys(ISBN)\n",
    "        search_input.send_keys(\n",
    "            Keys.ENTER)  # 無法 submit()，用 send_keys(keys.ENTER) 來替代\n",
    "\n",
    "        # 在＂搜尋結果頁面＂，等待定位＂詳細書目＂。\n",
    "        # try-except 來判斷有沒有在＂搜尋結果頁面＂\n",
    "        try:\n",
    "            WebDriverWait(driver, 10).until(\n",
    "                EC.presence_of_element_located((By.LINK_TEXT, '詳細書目')))\n",
    "        except:\n",
    "            try:\n",
    "                WebDriverWait(driver, 10).until(\n",
    "                    EC.presence_of_element_located(\n",
    "                        (By.CSS_SELECTOR, 'div.book-detail')))\n",
    "\n",
    "                # 抓取方式：找出 mid 後，進入 ajax pag 抓取 DataFrame\n",
    "                org_url = org_url.replace('/search.cfm', '')\n",
    "                tgts = []\n",
    "                url = driver.current_url\n",
    "                mid = url.split('mid=')[-1].split('&')[0]\n",
    "                ajax_page_url = f'{org_url}/ajax_page/get_content_area.cfm?mid={mid}&i_list_number=250&i_page=1&i_sory_by=1'\n",
    "                tgt = pd.read_html(ajax_page_url, encoding='utf-8')[0]\n",
    "                tgt['圖書館'], tgt['連結'] = org, url\n",
    "                tgts.append(tgt)\n",
    "                table = pd.concat(tgts, axis=0, ignore_index=True)\n",
    "                table = organize_columns(table)\n",
    "                return table  # 完成抓取 table\n",
    "            except:  # 沒有搜尋結果，也沒有進入＂詳細書目頁面＂\n",
    "                print(f'《{ISBN}》查無此書')\n",
    "                return  # 什麼都不做，退出此 function\n",
    "\n",
    "        # 抓取多個＂詳細書目＂的網址\n",
    "        anchors = driver.find_elements_by_link_text('詳細書目')\n",
    "        urls = []\n",
    "        for anchor in anchors:\n",
    "            urls.append(anchor.get_attribute('href'))\n",
    "\n",
    "        # 抓取方式：找出 mid 後，進入 ajax pag 抓取 DataFrame\n",
    "        org_url = org_url.replace('/search.cfm', '')\n",
    "        tgts = []\n",
    "        for url in urls:\n",
    "            mid = url.split('mid=')[-1].split('&')[0]  # 抓取 mid\n",
    "            ajax_page_url = f'{org_url}/ajax_page/get_content_area.cfm?mid={mid}&i_list_number=250&i_page=1&i_sory_by=1'\n",
    "            tgt = pd.read_html(ajax_page_url, encoding='utf-8')[0]\n",
    "            tgt['圖書館'], tgt['連結'] = org, url\n",
    "            tgts.append(tgt)\n",
    "        table = organize_columns(table)\n",
    "        return table  # 完成抓取 table\n",
    "    except:\n",
    "        print(f'《{ISBN}》在「{url}」無法爬取')"
   ]
  },
  {
   "cell_type": "markdown",
   "id": "748a7543",
   "metadata": {},
   "source": [
    "### 函式測試"
   ]
  },
  {
   "cell_type": "code",
   "execution_count": null,
   "id": "9c05dfae",
   "metadata": {},
   "outputs": [],
   "source": [
    "if __name__ == '__main__':\n",
    "    driver = webdriver.Chrome(options=my_options, desired_capabilities=my_capabilities)\n",
    "    table = webpac_ajax_page_crawler(\n",
    "        org='新北市立圖書館',\n",
    "        org_url='https://webpac.tphcc.gov.tw/webpac/search.cfm',\n",
    "        ISBN='9789869109321'\n",
    "    )\n",
    "    table = webpac_ajax_page_crawler(\n",
    "        org='高雄市立空中大學',\n",
    "        org_url='https://webpac.ouk.edu.tw/webpac/search.cfm',\n",
    "        ISBN='9789869109321'\n",
    "    )\n",
    "    table = webpac_ajax_page_crawler(\n",
    "        org='國立屏東大學',\n",
    "        org_url='https://webpac.nptu.edu.tw/webpac/search.cfm',\n",
    "        ISBN='9789869109321'\n",
    "    )"
   ]
  },
  {
   "cell_type": "markdown",
   "id": "d8f9e960",
   "metadata": {},
   "source": [
    "## 基隆市公共圖書館(org, org_url, ISBN)\n",
    "- 『函式完成度』：中"
   ]
  },
  {
   "cell_type": "markdown",
   "id": "7a2dd093",
   "metadata": {},
   "source": [
    "### 函式說明\n",
    "- 『運作的原理』：使用 Selenium\n",
    "- 『適用的機構』：[基隆市公共圖書館](https://webpac.klccab.gov.tw/webpac/search.cfm)\n",
    "- 『能處理狀況』：一筆、無\n",
    "- 『下一步優化』：\n",
    "    - 網站載入過慢，且 wait 方式不適用於此，只能使用大量的 time.sleep()"
   ]
  },
  {
   "cell_type": "markdown",
   "id": "0a49949b",
   "metadata": {},
   "source": [
    "### 函式本體"
   ]
  },
  {
   "cell_type": "code",
   "execution_count": null,
   "id": "9a883046",
   "metadata": {},
   "outputs": [],
   "source": [
    "def 基隆市公共圖書館(org, org_url, ISBN):\n",
    "    try:\n",
    "        # 進入＂搜尋主頁＂\n",
    "        driver.get(org_url)\n",
    "        # 等待點擊＂進階查詢＂按鈕，接著點擊\n",
    "        WebDriverWait(driver, 30).until(EC.element_to_be_clickable((By.LINK_TEXT, '進階檢索'))).click()\n",
    "        time.sleep(2)  # JavaScript 動畫，強制等待\n",
    "        # 等待定位＂下拉式選單＂，選擇以 ISBN 方式搜尋\n",
    "        search_field = WebDriverWait(driver, 10).until(EC.presence_of_element_located((By.ID, 'as_type_1')))\n",
    "        select = Select(search_field)\n",
    "        select.select_by_value('i')\n",
    "        # 定位＂搜尋欄＂，輸入 ISBN\n",
    "        search_input = driver.find_element_by_id('as_keyword_1')\n",
    "        search_input.send_keys(ISBN)\n",
    "        search_input.send_keys(Keys.ENTER)\n",
    "\n",
    "        time.sleep(8)  # 基隆的系統太詭異了，強制等待\n",
    "        soup = BeautifulSoup(driver.page_source, \"html.parser\")\n",
    "        results = len(soup.find_all(\"div\", \"list_box\"))\n",
    "        if results < 2:\n",
    "            WebDriverWait(driver, 10).until(\n",
    "                EC.presence_of_element_located(\n",
    "                    (By.CSS_SELECTOR, \"table.list.list_border\")))\n",
    "            time.sleep(2)\n",
    "            table = pd.read_html(driver.page_source)[0]\n",
    "        else:\n",
    "            table = []\n",
    "            for li in soup.find_all(\"div\", \"list_box\"):\n",
    "                url_temp = \"https://webpac.klccab.gov.tw/webpac/\" + li.find(\n",
    "                    \"a\", \"btn\")[\"href\"]\n",
    "                driver.get(url_temp)\n",
    "                wait.until(\n",
    "                    EC.presence_of_element_located(\n",
    "                        (By.CSS_SELECTOR, \"table.list.list_border\")))\n",
    "                time.sleep(2)\n",
    "                table.append(\n",
    "                    pd.read_html(driver.page_source, encoding=\"utf-8\")[0])\n",
    "            table = pd.concat(table, axis=0, ignore_index=True)\n",
    "        table['圖書館'], table['連結'] = org, driver.current_url\n",
    "        table = organize_columns(table)\n",
    "        return table\n",
    "    except:\n",
    "        print(f'《{ISBN}》在「{url}」無法爬取')"
   ]
  },
  {
   "cell_type": "markdown",
   "id": "d9d94c40",
   "metadata": {},
   "source": [
    "### 函式測試"
   ]
  },
  {
   "cell_type": "code",
   "execution_count": null,
   "id": "2ec10c08",
   "metadata": {},
   "outputs": [],
   "source": [
    "if __name__ == '__main__':\n",
    "    driver = webdriver.Chrome(options=my_options, desired_capabilities=my_capabilities)\n",
    "    table = 基隆市公共圖書館(\n",
    "        org='基隆市公共圖書館',\n",
    "        org_url='https://webpac.klccab.gov.tw/webpac/search.cfm',\n",
    "        ISBN='9789869109321'\n",
    "    )"
   ]
  },
  {
   "cell_type": "code",
   "execution_count": null,
   "id": "19695187",
   "metadata": {},
   "outputs": [],
   "source": []
  },
  {
   "cell_type": "code",
   "execution_count": null,
   "id": "036f69e1",
   "metadata": {},
   "outputs": [],
   "source": []
  },
  {
   "cell_type": "markdown",
   "id": "887c1b6c",
   "metadata": {},
   "source": [
    "## 臺北市立圖書館(org, org_url, ISBN)\n",
    "- 『函式完成度』：極高"
   ]
  },
  {
   "cell_type": "markdown",
   "id": "8333ddad",
   "metadata": {},
   "source": [
    "### 函式說明\n",
    "- 『運作的原理』：輸入 ISBN 搜索後，直接進入＂詳細書目＂，並且該頁面有全部的藏書狀況，只要爬一個表格即可。\n",
    "- 『適用的機構』：[臺北市立圖書館](https://book.tpml.edu.tw/webpac/webpacIndex.jsp)\n",
    "- 『能處理狀況』：找不到、一筆\n",
    "- 『下一步優化』：暫無問題"
   ]
  },
  {
   "cell_type": "markdown",
   "id": "cadae0e7",
   "metadata": {
    "heading_collapsed": true
   },
   "source": [
    "### 函式本體"
   ]
  },
  {
   "cell_type": "code",
   "execution_count": null,
   "id": "2129241e",
   "metadata": {
    "hidden": true
   },
   "outputs": [],
   "source": [
    "def 臺北市立圖書館(org, org_url, ISBN):\n",
    "    try:\n",
    "        # 進入＂搜尋主頁＂\n",
    "        driver.get(org_url)\n",
    "        # 等待定位＂下拉式選單＂，選擇以 ISBN 方式搜尋\n",
    "        search_field = WebDriverWait(driver, 30).until(\n",
    "            EC.presence_of_element_located((By.NAME, 'search_field')))\n",
    "        select = Select(search_field)\n",
    "        select.select_by_value('ISBN')\n",
    "        # 定位＂搜尋欄＂，輸入 ISBN\n",
    "        search_input = driver.find_element_by_name('search_input')\n",
    "        search_input.send_keys(ISBN)\n",
    "        search_input.submit()\n",
    "\n",
    "        # 等待＜表格＞出現\n",
    "        WebDriverWait(driver, 30).until(EC.presence_of_element_located(\n",
    "            (By.CSS_SELECTOR, 'table.order')))\n",
    "\n",
    "        # 取得當前網頁的 html 進行解析，以取得 DataFrame\n",
    "        tgt = pd.read_html(driver.page_source, encoding=\"utf-8\")\n",
    "        table = tgt[-3]\n",
    "        table['圖書館'], table['連結'] = org, driver.current_url\n",
    "        table = organize_columns(table)\n",
    "        return table\n",
    "    except:\n",
    "        print(f'《{ISBN}》在「{org_url}」無法爬取')"
   ]
  },
  {
   "cell_type": "markdown",
   "id": "391640a1",
   "metadata": {},
   "source": [
    "### 函式測試"
   ]
  },
  {
   "cell_type": "code",
   "execution_count": null,
   "id": "33b97c17",
   "metadata": {},
   "outputs": [],
   "source": [
    "if __name__ == '__main__':\n",
    "    driver = webdriver.Chrome(options=my_options, desired_capabilities=my_capabilities)\n",
    "    table = 臺北市立圖書館(\n",
    "        org='臺北市立圖書館',\n",
    "        org_url='https://book.tpml.edu.tw/webpac/webpacIndex.jsp',\n",
    "        ISBN='9789869109321'\n",
    "    )"
   ]
  },
  {
   "cell_type": "markdown",
   "id": "b17a0166",
   "metadata": {},
   "source": [
    "## 國家圖書館(org, org_url, ISBN)\n",
    "- 『函式完成度』：極高"
   ]
  },
  {
   "cell_type": "markdown",
   "id": "7b59b06e",
   "metadata": {},
   "source": [
    "### 函式說明\n",
    "- 『運作的原理』：使用 Selenium\n",
    "- 『適用的機構』：[國家圖書館](https://aleweb.ncl.edu.tw/F)\n",
    "- 『能處理狀況』：找不到、一筆\n",
    "- 『下一步優化』：\n",
    "    - 目前尚未遇到多筆情況\n",
    "    - 不知道可以和什麼機構的系統合併在一起？"
   ]
  },
  {
   "cell_type": "markdown",
   "id": "36e4885c",
   "metadata": {},
   "source": [
    "### 函式本體"
   ]
  },
  {
   "cell_type": "code",
   "execution_count": null,
   "id": "c113299a",
   "metadata": {},
   "outputs": [],
   "source": [
    "def 國家圖書館(org, org_url, ISBN):\n",
    "    try:\n",
    "        driver.get(org_url)\n",
    "        select_ISBN_strategy('find_code', 'ISBN')\n",
    "        search_ISBN(ISBN, 'request')\n",
    "        \n",
    "        # 點擊＂書在哪裡(請點選)＂，進入＂詳細書目＂\n",
    "        tgt_url = WebDriverWait(driver, 10).until(\n",
    "            EC.presence_of_element_located((By.LINK_TEXT, '書在哪裡(請點選)'))).get_attribute('href')\n",
    "        driver.get(tgt_url)\n",
    "        # 定位＂表格＂，爬取內容\n",
    "        accurately_find_table_and_read_it('')\n",
    "        \n",
    "        table = pd.read_html(driver.page_source)[-2]\n",
    "        table['圖書館'], table['連結'] = org, tgt_url\n",
    "        table = organize_columns(table)\n",
    "        return table\n",
    "    except:\n",
    "        print(f'《{ISBN}》在「{org_url}」無法爬取')"
   ]
  },
  {
   "cell_type": "markdown",
   "id": "7e1dd591",
   "metadata": {},
   "source": [
    "### 函式測試"
   ]
  },
  {
   "cell_type": "code",
   "execution_count": null,
   "id": "110d730b",
   "metadata": {
    "scrolled": true
   },
   "outputs": [],
   "source": [
    "if __name__ == '__main__':\n",
    "    driver = webdriver.Chrome(options=my_options, desired_capabilities=my_capabilities)\n",
    "    table = 國家圖書館(\n",
    "        org='國家圖書館',\n",
    "        org_url='https://aleweb.ncl.edu.tw/F',\n",
    "        ISBN='9789869109321'\n",
    "    )"
   ]
  },
  {
   "cell_type": "code",
   "execution_count": null,
   "id": "9c83b0ea",
   "metadata": {},
   "outputs": [],
   "source": []
  },
  {
   "cell_type": "code",
   "execution_count": null,
   "id": "2e5540cd",
   "metadata": {},
   "outputs": [],
   "source": []
  },
  {
   "cell_type": "markdown",
   "id": "740b67c5",
   "metadata": {},
   "source": [
    "## 彰化縣公共圖書館(org, org_url, ISBN) 進行中\n",
    "- 『函式完成度』：高"
   ]
  },
  {
   "cell_type": "markdown",
   "id": "52ecf522",
   "metadata": {},
   "source": [
    "### 函式說明\n",
    "- 『運作的原理』：待輸入\n",
    "- 『適用的機構』：彰化縣圖書館\n",
    "- 『能處理狀況』：一筆、無、多筆、（翻頁\n",
    "- 『下一步優化』：\n",
    "    - [翻頁](https://library.toread.bocach.gov.tw/toread/opac/bibliographic_view?NewBookMode=false&id=341724&mps=10&q=986729193X+OR+9789867291936&start=0&view=CONTENT)\n",
    "    - 待輸入"
   ]
  },
  {
   "cell_type": "markdown",
   "id": "cf091a3c",
   "metadata": {},
   "source": [
    "### 函式本體"
   ]
  },
  {
   "cell_type": "code",
   "execution_count": null,
   "id": "f5b5fd71",
   "metadata": {
    "scrolled": false
   },
   "outputs": [],
   "source": [
    "def 彰化縣公共圖書館(org, org_url, ISBN):\n",
    "    table = []\n",
    "    tgt_urls = []\n",
    "    \n",
    "    driver.get(org_url)\n",
    "    search_ISBN(ISBN, 'q')\n",
    "    \n",
    "    if not wait_for_element_present('div#results'):\n",
    "        print(f'在{org}裡，沒有《{ISBN}》')\n",
    "        return\n",
    "    \n",
    "    # 有 div#results，接著分析 html，找出所有的＂詳細書目＂的網址\n",
    "    soup = BeautifulSoup(driver.page_source, 'html.parser')\n",
    "    ul = soup.select('div#results > ul')[0]\n",
    "    for li in ul.select('li.is_img'):\n",
    "        tgt_urls.append(org_url + li.a['href'])\n",
    "    # for 迴圈，進入所有的＂詳細書目＂的網址\n",
    "    for tgt_url in tgt_urls:\n",
    "        driver.get(tgt_url)\n",
    "        tgt = accurately_find_table_and_read_it('table.gridTable')\n",
    "        \n",
    "        # 以下兩行，是＂彰化縣公共圖書館＂有多餘的 row，須要特別篩選調 NaN\n",
    "        filtered_tgt = tgt.dropna(subset=['典藏地名稱'])\n",
    "        filtered_tgt.reset_index(drop=True, inplace=True)\n",
    "        \n",
    "        table.append(filtered_tgt)\n",
    "    table = organize_columns(table)\n",
    "    return table"
   ]
  },
  {
   "cell_type": "markdown",
   "id": "eb9cd6ef",
   "metadata": {},
   "source": [
    "### 函式測試"
   ]
  },
  {
   "cell_type": "code",
   "execution_count": null,
   "id": "e046ada8",
   "metadata": {},
   "outputs": [],
   "source": [
    "if __name__ == '__main__':\n",
    "    driver = webdriver.Chrome(options=my_options, desired_capabilities=my_capabilities)\n",
    "    table = 彰化縣公共圖書館(\n",
    "        org='彰化縣公共圖書館',\n",
    "        org_url='https://library.toread.bocach.gov.tw',\n",
    "        ISBN='986729193X'\n",
    "    )"
   ]
  },
  {
   "cell_type": "code",
   "execution_count": null,
   "id": "634c4e1f",
   "metadata": {
    "scrolled": true
   },
   "outputs": [],
   "source": [
    "table"
   ]
  },
  {
   "cell_type": "markdown",
   "id": "e9a67552",
   "metadata": {},
   "source": [
    "## 待輸入(org, org_url, ISBN)\n",
    "- 『函式完成度』：待輸入"
   ]
  },
  {
   "cell_type": "markdown",
   "id": "27e93654",
   "metadata": {},
   "source": [
    "### 函式說明\n",
    "- 『運作的原理』：待輸入\n",
    "- 『適用的機構』：待輸入\n",
    "- 『能處理狀況』：待輸入\n",
    "- 『下一步優化』：\n",
    "    - 待輸入\n",
    "    - 待輸入"
   ]
  },
  {
   "cell_type": "markdown",
   "id": "24174240",
   "metadata": {},
   "source": [
    "### 函式本體"
   ]
  },
  {
   "cell_type": "code",
   "execution_count": null,
   "id": "a9353aba",
   "metadata": {},
   "outputs": [],
   "source": [
    "def web2_crawler(org, url_front, ISBN, url_behind, driver):\n",
    "    url = url_front + ISBN + url_behind\n",
    "    try:\n",
    "        driver.get(url)\n",
    "        title = driver.find_element_by_xpath('/html/body/div/div[1]/div[2]/div/div/div[2]/div[3]/div[1]/div[3]/div/ul/li/div/div[2]/h3/a').click()\n",
    "        \n",
    "        df_web2 = accurately_find_table_and_read_it('div#LocalHolding > table')\n",
    "        df_web2 = organize_columns(df_web2)\n",
    "        return df_web2\n",
    "    except:\n",
    "        print(f\"「{url}」無法爬取！\")"
   ]
  },
  {
   "cell_type": "markdown",
   "id": "4e8b33f5",
   "metadata": {},
   "source": [
    "### 函式測試"
   ]
  },
  {
   "cell_type": "code",
   "execution_count": null,
   "id": "927ccf27",
   "metadata": {
    "scrolled": true
   },
   "outputs": [],
   "source": [
    "if __name__ == '__main__':\n",
    "    driver = webdriver.Chrome(options=my_options, desired_capabilities=my_capabilities)\n",
    "    table = web2_crawler(\n",
    "        org='國立勤益科技大學',\n",
    "        url_front='http://140.128.95.172/webpac/search/?q=',\n",
    "        url_behind='&field=isn&op=AND&type=&department=&college=&dep=&active=1',\n",
    "        ISBN='9789869109321'\n",
    "    )\n",
    "table"
   ]
  },
  {
   "cell_type": "code",
   "execution_count": null,
   "id": "0af82b4c",
   "metadata": {},
   "outputs": [],
   "source": []
  },
  {
   "cell_type": "code",
   "execution_count": null,
   "id": "56cc848b",
   "metadata": {},
   "outputs": [],
   "source": []
  },
  {
   "cell_type": "code",
   "execution_count": null,
   "id": "26092770",
   "metadata": {},
   "outputs": [],
   "source": [
    "soup.find('div', {'id': 'LocalHolding'})"
   ]
  },
  {
   "cell_type": "code",
   "execution_count": null,
   "id": "55b94d53",
   "metadata": {},
   "outputs": [],
   "source": [
    "soup2 = BeautifulSoup(driver.page_source, 'html.parser')"
   ]
  },
  {
   "cell_type": "code",
   "execution_count": null,
   "id": "cf734c19",
   "metadata": {},
   "outputs": [],
   "source": [
    "soup2.find('div', {'id': 'LocalHolding'})"
   ]
  },
  {
   "cell_type": "code",
   "execution_count": null,
   "id": "d523e3f0",
   "metadata": {},
   "outputs": [],
   "source": []
  },
  {
   "cell_type": "code",
   "execution_count": null,
   "id": "63b96f8d",
   "metadata": {
    "scrolled": true
   },
   "outputs": [],
   "source": [
    "type(df_web2)"
   ]
  },
  {
   "cell_type": "code",
   "execution_count": null,
   "id": "5a932175",
   "metadata": {},
   "outputs": [],
   "source": [
    "df_web2['圖書館'], df_web2['連結'] = org, driver.current_url\n",
    "df_web2 = organize_columns(df_web2)"
   ]
  },
  {
   "cell_type": "code",
   "execution_count": null,
   "id": "c87fb926",
   "metadata": {},
   "outputs": [],
   "source": []
  },
  {
   "cell_type": "code",
   "execution_count": null,
   "id": "420e8954",
   "metadata": {},
   "outputs": [],
   "source": []
  },
  {
   "cell_type": "markdown",
   "id": "66f49e05",
   "metadata": {},
   "source": [
    "## 待輸入(org, org_url, ISBN)\n",
    "- 『函式完成度』：待輸入"
   ]
  },
  {
   "cell_type": "markdown",
   "id": "ec764e92",
   "metadata": {},
   "source": [
    "### 函式說明\n",
    "- 『運作的原理』：待輸入\n",
    "- 『適用的機構』：待輸入\n",
    "- 『能處理狀況』：待輸入\n",
    "- 『下一步優化』：\n",
    "    - 待輸入\n",
    "    - 待輸入"
   ]
  },
  {
   "cell_type": "markdown",
   "id": "fd12da13",
   "metadata": {},
   "source": [
    "### 函式本體"
   ]
  },
  {
   "cell_type": "markdown",
   "id": "0b4dc273",
   "metadata": {},
   "source": [
    "### 函式測試"
   ]
  },
  {
   "cell_type": "code",
   "execution_count": null,
   "id": "25ad960e",
   "metadata": {},
   "outputs": [],
   "source": [
    "if __name__ == '__main__':\n",
    "    driver = webdriver.Chrome(options=my_options, desired_capabilities=my_capabilities)\n",
    "    table = 待輸入(\n",
    "        org='待輸入',\n",
    "        org_url='待輸入',\n",
    "        ISBN='9789869109321'\n",
    "    )"
   ]
  },
  {
   "cell_type": "markdown",
   "id": "93dc0722",
   "metadata": {},
   "source": [
    "## 待輸入(org, org_url, ISBN)\n",
    "- 『函式完成度』：待輸入"
   ]
  },
  {
   "cell_type": "markdown",
   "id": "eb7ebf95",
   "metadata": {},
   "source": [
    "### 函式說明\n",
    "- 『運作的原理』：待輸入\n",
    "- 『適用的機構』：待輸入\n",
    "- 『能處理狀況』：待輸入\n",
    "- 『下一步優化』：\n",
    "    - 待輸入\n",
    "    - 待輸入"
   ]
  },
  {
   "cell_type": "markdown",
   "id": "bfd9105b",
   "metadata": {},
   "source": [
    "### 函式本體"
   ]
  },
  {
   "cell_type": "markdown",
   "id": "e9ae021c",
   "metadata": {},
   "source": [
    "### 函式測試"
   ]
  },
  {
   "cell_type": "code",
   "execution_count": null,
   "id": "481ea6e6",
   "metadata": {},
   "outputs": [],
   "source": [
    "if __name__ == '__main__':\n",
    "    driver = webdriver.Chrome(options=my_options, desired_capabilities=my_capabilities)\n",
    "    table = 待輸入(\n",
    "        org='待輸入',\n",
    "        org_url='待輸入',\n",
    "        ISBN='9789869109321'\n",
    "    )"
   ]
  }
 ],
 "metadata": {
  "kernelspec": {
   "display_name": "Python 3",
   "language": "python",
   "name": "python3"
  },
  "language_info": {
   "codemirror_mode": {
    "name": "ipython",
    "version": 3
   },
   "file_extension": ".py",
   "mimetype": "text/x-python",
   "name": "python",
   "nbconvert_exporter": "python",
   "pygments_lexer": "ipython3",
   "version": "3.8.8"
  },
  "toc": {
   "base_numbering": 1,
   "nav_menu": {},
   "number_sections": true,
   "sideBar": true,
   "skip_h1_title": false,
   "title_cell": "Table of Contents",
   "title_sidebar": "Contents",
   "toc_cell": false,
   "toc_position": {
    "height": "calc(100% - 180px)",
    "left": "10px",
    "top": "150px",
    "width": "256px"
   },
   "toc_section_display": true,
   "toc_window_display": false
  }
 },
 "nbformat": 4,
 "nbformat_minor": 5
}
