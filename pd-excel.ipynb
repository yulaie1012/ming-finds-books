{
 "cells": [
  {
   "cell_type": "code",
   "execution_count": 1,
   "source": [
    "from google.oauth2 import service_account\r\n",
    "from google.oauth2.service_account import Credentials\r\n",
    "import gspread\r\n",
    "from selenium import webdriver\r\n",
    "from selenium.webdriver.chrome.options import Options\r\n",
    "from selenium.webdriver.common.desired_capabilities import DesiredCapabilities\r\n",
    "from selenium.webdriver.support.ui import WebDriverWait\r\n",
    "from selenium.webdriver.support import expected_conditions as EC\r\n",
    "from selenium.webdriver.common.by import By\r\n",
    "import pandas as pd\r\n",
    "# 載入自定義函式\r\n",
    "import import_ipynb\r\n",
    "from crawlers import crawlers, all_in_one\r\n",
    "\r\n",
    "scope = ['https://www.googleapis.com/auth/spreadsheets']\r\n",
    "creds = Credentials.from_service_account_file(\"C:\\\\Users\\mayda\\Downloads\\\\books-319701-17701ae5510b.json\", scopes=scope)\r\n",
    "gs = gspread.authorize(creds)\r\n",
    "sheet = gs.open_by_url('https://docs.google.com/spreadsheets/d/17fJuHSGHnjHbyKJzTgzKpp1pe2J6sirK5QVjg2-8fFo/edit#gid=0')\r\n",
    "worksheet = sheet.get_worksheet(0)\r\n",
    "\r\n",
    "ISBN = \"9789573317241\"  # \"哈利波特：神秘的魔法石\"\r\n",
    "# 設定 driver\r\n",
    "my_options = Options()\r\n",
    "my_options.add_argument(\"--incognito\")  # 開啟無痕模式\r\n",
    "# my_options.add_argument(\"--headless\")  # 不開啟實體瀏覽器\r\n",
    "capabilities = DesiredCapabilities.CHROME\r\n",
    "capabilities[\"pageLoadStrategy\"] = \"none\"\r\n",
    "\r\n",
    "def Keelung(ISBN):\r\n",
    "    output = []\r\n",
    "    \r\n",
    "    driver = webdriver.Chrome(\"C:\\\\Users\\mayda\\Downloads\\chromedriver\", options=my_options, desired_capabilities=capabilities)\r\n",
    "    wait = WebDriverWait(driver, 10)\r\n",
    "    \r\n",
    "    output.append(\r\n",
    "        crawlers.klccab_crawler(\r\n",
    "            \"基隆市公共圖書館\", ISBN,  driver, wait\r\n",
    "        )\r\n",
    "    )\r\n",
    "    \r\n",
    "    output.append(\r\n",
    "        crawlers.easy_crawler(\r\n",
    "            2, \"國立臺灣海洋大學\", \"https://ocean.ntou.edu.tw/search*cht/i?SEARCH=\", ISBN\r\n",
    "        )\r\n",
    "    )\r\n",
    "    \r\n",
    "    driver.quit()\r\n",
    "    return all_in_one.organize_columns(pd.concat(output, axis=0, ignore_index=True).fillna(\"\"))\r\n",
    "\r\n",
    "aa = Keelung(ISBN)\r\n",
    "worksheet.update([aa.columns.values.tolist()] + aa.values.tolist())"
   ],
   "outputs": [
    {
     "output_type": "stream",
     "name": "stdout",
     "text": [
      "importing Jupyter notebook from c:\\Users\\mayda\\Python practice\\MingFindBooks\\crawlers\\crawlers.ipynb\n",
      "importing Jupyter notebook from c:\\Users\\mayda\\Python practice\\MingFindBooks\\crawlers\\all_in_one.ipynb\n"
     ]
    }
   ],
   "metadata": {}
  },
  {
   "cell_type": "code",
   "execution_count": null,
   "source": [],
   "outputs": [],
   "metadata": {}
  },
  {
   "cell_type": "code",
   "execution_count": null,
   "source": [],
   "outputs": [],
   "metadata": {}
  }
 ],
 "metadata": {
  "interpreter": {
   "hash": "7225babeb7cca4b9321e56c564edbc65f6e93aaa0a336d193962bcdf0b3e7508"
  },
  "kernelspec": {
   "display_name": "Python 3.9.2 64-bit",
   "name": "python3"
  },
  "language_info": {
   "codemirror_mode": {
    "name": "ipython",
    "version": 3
   },
   "file_extension": ".py",
   "mimetype": "text/x-python",
   "name": "python",
   "nbconvert_exporter": "python",
   "pygments_lexer": "ipython3",
   "version": "3.9.2"
  }
 },
 "nbformat": 4,
 "nbformat_minor": 5
}