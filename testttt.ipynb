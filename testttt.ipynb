{
 "cells": [
  {
   "cell_type": "code",
   "execution_count": 16,
   "id": "db5849c3",
   "metadata": {
    "scrolled": true
   },
   "outputs": [
    {
     "name": "stdout",
     "output_type": "stream",
     "text": [
      "importing Jupyter notebook from crawlersy.ipynb\n"
     ]
    }
   ],
   "source": [
    "import import_ipynb\n",
    "from crawlersy import *"
   ]
  },
  {
   "cell_type": "code",
   "execution_count": null,
   "id": "12e50dcf",
   "metadata": {
    "scrolled": true
   },
   "outputs": [],
   "source": [
    "driver = webdriver.Chrome(options=my_options, desired_capabilities=my_capabilities)\n",
    "webpac_jsp_crawler(\n",
    "    driver=driver, \n",
    "    org='佛光大學', \n",
    "    org_url='http://libils.fgu.edu.tw/webpacIndex.jsp', \n",
    "    ISBN='9789573317241'\n",
    ")"
   ]
  },
  {
   "cell_type": "code",
   "execution_count": null,
   "id": "acb0d2e5",
   "metadata": {},
   "outputs": [],
   "source": []
  },
  {
   "cell_type": "code",
   "execution_count": null,
   "id": "0e6c4b99",
   "metadata": {},
   "outputs": [],
   "source": []
  },
  {
   "cell_type": "code",
   "execution_count": 1,
   "id": "84eb3cb0",
   "metadata": {},
   "outputs": [
    {
     "name": "stdout",
     "output_type": "stream",
     "text": [
      "Hello\n",
      "Hello\n"
     ]
    }
   ],
   "source": [
    "def first(msg):\n",
    "    print(msg)\n",
    "first(\"Hello\")\n",
    "second = first\n",
    "second(\"Hello\")"
   ]
  },
  {
   "cell_type": "code",
   "execution_count": 2,
   "id": "7378e53e",
   "metadata": {},
   "outputs": [],
   "source": [
    "def inc(x):\n",
    "    return x + 1\n",
    "\n",
    "def dec(x):\n",
    "    return x - 1\n",
    "\n",
    "def operate(func, x):\n",
    "    result = func(x)\n",
    "    return result"
   ]
  },
  {
   "cell_type": "code",
   "execution_count": 3,
   "id": "039fd830",
   "metadata": {},
   "outputs": [
    {
     "name": "stdout",
     "output_type": "stream",
     "text": [
      "Hello\n"
     ]
    }
   ],
   "source": [
    "def is_called():\n",
    "    def is_returned():\n",
    "        print(\"Hello\")\n",
    "    return is_returned\n",
    "is_called()()"
   ]
  },
  {
   "cell_type": "code",
   "execution_count": 4,
   "id": "bbd9e74b",
   "metadata": {},
   "outputs": [
    {
     "data": {
      "text/plain": [
       "2"
      ]
     },
     "execution_count": 4,
     "metadata": {},
     "output_type": "execute_result"
    }
   ],
   "source": [
    "operate(inc, 3)\n",
    "operate(dec, 3)"
   ]
  },
  {
   "cell_type": "code",
   "execution_count": 8,
   "id": "ff13cc32",
   "metadata": {},
   "outputs": [],
   "source": [
    "def make_pretty(func):\n",
    "    def inner():\n",
    "        print(\"I got decorated\")\n",
    "        func()\n",
    "    return inner\n",
    "\n",
    "\n",
    "def ordinary():\n",
    "    print(\"I am ordinary\")"
   ]
  },
  {
   "cell_type": "code",
   "execution_count": 9,
   "id": "bd56daa3",
   "metadata": {},
   "outputs": [
    {
     "name": "stdout",
     "output_type": "stream",
     "text": [
      "I am ordinary\n"
     ]
    }
   ],
   "source": [
    "ordinary()"
   ]
  },
  {
   "cell_type": "code",
   "execution_count": 10,
   "id": "9086530c",
   "metadata": {},
   "outputs": [],
   "source": [
    "pretty = make_pretty(ordinary)"
   ]
  },
  {
   "cell_type": "code",
   "execution_count": 11,
   "id": "4cabede1",
   "metadata": {
    "scrolled": true
   },
   "outputs": [
    {
     "name": "stdout",
     "output_type": "stream",
     "text": [
      "I got decorated\n",
      "I am ordinary\n"
     ]
    }
   ],
   "source": [
    "pretty()"
   ]
  },
  {
   "cell_type": "code",
   "execution_count": 14,
   "id": "a7797d42",
   "metadata": {},
   "outputs": [],
   "source": [
    "def smart_divide(func):\n",
    "    def inner(a, b):\n",
    "        print(f\"a: {a}, b: {b}\")    \n",
    "        return func(a, b)\n",
    "    return inner\n",
    "\n",
    "@smart_divide\n",
    "def divide(a, b):\n",
    "    print(a + b)"
   ]
  },
  {
   "cell_type": "code",
   "execution_count": 15,
   "id": "9d33b29a",
   "metadata": {},
   "outputs": [
    {
     "name": "stdout",
     "output_type": "stream",
     "text": [
      "a: 2, b: 5\n",
      "7\n"
     ]
    }
   ],
   "source": [
    "divide(2, 5)"
   ]
  },
  {
   "cell_type": "code",
   "execution_count": null,
   "id": "c31cb83e",
   "metadata": {},
   "outputs": [],
   "source": []
  }
 ],
 "metadata": {
  "kernelspec": {
   "display_name": "Python 3",
   "language": "python",
   "name": "python3"
  },
  "language_info": {
   "codemirror_mode": {
    "name": "ipython",
    "version": 3
   },
   "file_extension": ".py",
   "mimetype": "text/x-python",
   "name": "python",
   "nbconvert_exporter": "python",
   "pygments_lexer": "ipython3",
   "version": "3.8.8"
  },
  "toc": {
   "base_numbering": 1,
   "nav_menu": {},
   "number_sections": true,
   "sideBar": true,
   "skip_h1_title": false,
   "title_cell": "Table of Contents",
   "title_sidebar": "Contents",
   "toc_cell": false,
   "toc_position": {},
   "toc_section_display": true,
   "toc_window_display": false
  }
 },
 "nbformat": 4,
 "nbformat_minor": 5
}
