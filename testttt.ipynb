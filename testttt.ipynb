{
 "cells": [
  {
   "cell_type": "code",
   "execution_count": 16,
   "id": "db5849c3",
   "metadata": {
    "scrolled": true
   },
   "outputs": [
    {
     "name": "stdout",
     "output_type": "stream",
     "text": [
      "importing Jupyter notebook from crawlersy.ipynb\n"
     ]
    }
   ],
   "source": [
    "import import_ipynb\n",
    "from crawlersy import *"
   ]
  },
  {
   "cell_type": "code",
   "execution_count": 17,
   "id": "12e50dcf",
   "metadata": {},
   "outputs": [
    {
     "name": "stdout",
     "output_type": "stream",
     "text": [
      "==============================================================================\n",
      "PERFORM wait_for_elements_present FUNCTION!\n",
      "(driver, elements_position, waiting_time=5, by='css selector')\n",
      "==============================================================================\n",
      "PERFORM select_ISBN_strategy FUNCTION!\n",
      "(driver, select_position, option_position, waiting_time=30, by='name')\n",
      "==============================================================================\n",
      "PERFORM search_ISBN FUNCTION!\n",
      "(driver, ISBN, input_position, waiting_time=10, by='name')\n",
      "COMPLETE search_ISBN FUNCTION\n",
      "==============================================================================\n",
      "==============================================================================\n",
      "PERFORM wait_for_element_present FUNCTION!\n",
      "(driver, element_position, waiting_time=5, by='css selector')\n",
      "COMPLETE wait_for_element_present FUNCTION\n",
      "==============================================================================\n",
      "==============================================================================\n",
      "PERFORM accurately_find_table_and_read_it FUNCTION!\n",
      "(driver, table_position, table_index=0)\n",
      "==============================================================================\n",
      "PERFORM wait_for_element_present FUNCTION!\n",
      "(driver, element_position, waiting_time=5, by='css selector')\n",
      "COMPLETE wait_for_element_present FUNCTION\n",
      "==============================================================================\n",
      "COMPLETE accurately_find_table_and_read_it FUNCTION\n",
      "==============================================================================\n",
      "==============================================================================\n",
      "PERFORM wait_for_element_clickable FUNCTION!\n",
      "(driver, element_position, waiting_time=5, by='link text')\n",
      "STOP wait_for_element_clickable FUNCTION, ERROR MESSAGE: \"Message: \"\n",
      "==============================================================================\n",
      "COMPLETE wait_for_elements_present FUNCTION\n",
      "==============================================================================\n"
     ]
    },
    {
     "data": {
      "text/html": [
       "<div>\n",
       "<style scoped>\n",
       "    .dataframe tbody tr th:only-of-type {\n",
       "        vertical-align: middle;\n",
       "    }\n",
       "\n",
       "    .dataframe tbody tr th {\n",
       "        vertical-align: top;\n",
       "    }\n",
       "\n",
       "    .dataframe thead th {\n",
       "        text-align: right;\n",
       "    }\n",
       "</style>\n",
       "<table border=\"1\" class=\"dataframe\">\n",
       "  <thead>\n",
       "    <tr style=\"text-align: right;\">\n",
       "      <th></th>\n",
       "      <th>圖書館</th>\n",
       "      <th>館藏地</th>\n",
       "      <th>索書號</th>\n",
       "      <th>館藏狀態</th>\n",
       "      <th>連結</th>\n",
       "    </tr>\n",
       "  </thead>\n",
       "  <tbody>\n",
       "    <tr>\n",
       "      <th>0</th>\n",
       "      <td>佛光大學</td>\n",
       "      <td>佛光大學圖書館/東方語文圖書區-8大類(4F)</td>\n",
       "      <td>873.57 6014 c.2</td>\n",
       "      <td>書在館</td>\n",
       "      <td>http://libils.fgu.edu.tw/bookDetail.do?id=23383</td>\n",
       "    </tr>\n",
       "    <tr>\n",
       "      <th>1</th>\n",
       "      <td>佛光大學</td>\n",
       "      <td>佛光大學圖書館/心輔室</td>\n",
       "      <td>873.57 6014 c.3</td>\n",
       "      <td>單位藏書</td>\n",
       "      <td>http://libils.fgu.edu.tw/bookDetail.do?id=23383</td>\n",
       "    </tr>\n",
       "    <tr>\n",
       "      <th>2</th>\n",
       "      <td>佛光大學</td>\n",
       "      <td>佛光大學圖書館/東方語文圖書區-8大類(4F)</td>\n",
       "      <td>873.57 6014</td>\n",
       "      <td>書在館</td>\n",
       "      <td>http://libils.fgu.edu.tw/bookDetail.do?id=23383</td>\n",
       "    </tr>\n",
       "  </tbody>\n",
       "</table>\n",
       "</div>"
      ],
      "text/plain": [
       "    圖書館                      館藏地              索書號  館藏狀態  \\\n",
       "0  佛光大學  佛光大學圖書館/東方語文圖書區-8大類(4F)  873.57 6014 c.2   書在館   \n",
       "1  佛光大學              佛光大學圖書館/心輔室  873.57 6014 c.3  單位藏書   \n",
       "2  佛光大學  佛光大學圖書館/東方語文圖書區-8大類(4F)      873.57 6014   書在館   \n",
       "\n",
       "                                                連結  \n",
       "0  http://libils.fgu.edu.tw/bookDetail.do?id=23383  \n",
       "1  http://libils.fgu.edu.tw/bookDetail.do?id=23383  \n",
       "2  http://libils.fgu.edu.tw/bookDetail.do?id=23383  "
      ]
     },
     "execution_count": 17,
     "metadata": {},
     "output_type": "execute_result"
    }
   ],
   "source": [
    "driver = webdriver.Chrome(options=my_options, desired_capabilities=my_capabilities)\n",
    "webpac_jsp_crawler(\n",
    "    driver=driver, \n",
    "    org='佛光大學', \n",
    "    org_url='http://libils.fgu.edu.tw/webpacIndex.jsp', \n",
    "    ISBN='9789573317241'\n",
    ")"
   ]
  }
 ],
 "metadata": {
  "kernelspec": {
   "display_name": "Python 3",
   "language": "python",
   "name": "python3"
  },
  "language_info": {
   "codemirror_mode": {
    "name": "ipython",
    "version": 3
   },
   "file_extension": ".py",
   "mimetype": "text/x-python",
   "name": "python",
   "nbconvert_exporter": "python",
   "pygments_lexer": "ipython3",
   "version": "3.8.8"
  },
  "toc": {
   "base_numbering": 1,
   "nav_menu": {},
   "number_sections": true,
   "sideBar": true,
   "skip_h1_title": false,
   "title_cell": "Table of Contents",
   "title_sidebar": "Contents",
   "toc_cell": false,
   "toc_position": {},
   "toc_section_display": true,
   "toc_window_display": false
  }
 },
 "nbformat": 4,
 "nbformat_minor": 5
}
