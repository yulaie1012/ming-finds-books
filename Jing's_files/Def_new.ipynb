{
 "cells": [
  {
   "cell_type": "code",
   "execution_count": 21,
   "source": [
    "#環境設置\r\n",
    "from selenium import webdriver \r\n",
    "from selenium.webdriver.support.ui import Select\r\n",
    "from selenium.webdriver.chrome.options import Options\r\n",
    "from selenium.webdriver.common.action_chains import ActionChains\r\n",
    "import pandas as pd\r\n",
    "import requests\r\n",
    "import requests.packages.urllib3\r\n",
    "requests.packages.urllib3.disable_warnings()\r\n",
    "import time\r\n",
    "driver = webdriver.Chrome(\"C:\\\\Users\\\\88698\\\\OneDrive\\\\文件\\\\chromedriver92\") \r\n",
    "\r\n",
    "def organize_columns(df1):\r\n",
    "    # 合併全部的 DataFrame\r\n",
    "    try:\r\n",
    "        df1 = pd.concat(df1, axis=0, ignore_index=True)\r\n",
    "    except:\r\n",
    "        df1.reset_index(drop=True, inplace=True)\r\n",
    "\r\n",
    "    # 處理 column 2：館藏地\r\n",
    "    c2 = [\r\n",
    "        '分館/專室', '館藏地/室', '館藏室', '館藏地/館藏室', '館藏地', '典藏館', '館藏位置', '館藏地/區域',\r\n",
    "        '典藏地名稱', '館藏地/館別', '館藏地(已外借/總數)'\r\n",
    "    ]\r\n",
    "    df1['c2'] = ''\r\n",
    "    for c in c2:\r\n",
    "        try:\r\n",
    "            df1['c2'] += df1[c]\r\n",
    "        except:\r\n",
    "            pass\r\n",
    "\r\n",
    "    # 處理 column 3：索書號\r\n",
    "    c3 = ['索書號', '索書號/期刊合訂本卷期', '索書號 / 部冊號']\r\n",
    "    df1['c3'] = ''\r\n",
    "    for c in c3:\r\n",
    "        try:\r\n",
    "            df1['c3'] += df1[c]\r\n",
    "        except:\r\n",
    "            pass\r\n",
    "\r\n",
    "    # 處理 column 4：館藏狀態\r\n",
    "    c4 = [\r\n",
    "        '館藏位置(到期日期僅為期限，不代表上架日期)', '狀態/到期日', '目前狀態 / 到期日', '館藏狀態', '處理狀態',\r\n",
    "        '狀態 (說明)', '館藏現況 說明', '目前狀態/預計歸還日期', '圖書狀況 / 到期日', '調閱說明', '借閱狀態',\r\n",
    "        '狀態', '館藏狀態(月-日-西元年)', '圖書狀況', '現況/異動日', 'Unnamed: 24'\r\n",
    "    ]\r\n",
    "    df1['c4'] = ''\r\n",
    "    for c in c4:\r\n",
    "        try:\r\n",
    "            df1['c4'] += df1[c]\r\n",
    "        except:\r\n",
    "            pass\r\n",
    "\r\n",
    "    # 直接生成另一個 DataFrame\r\n",
    "    df2 = pd.DataFrame()\r\n",
    "    df2['圖書館'] = df1['圖書館']\r\n",
    "    df2['館藏地'] = df1['c2']\r\n",
    "    df2['索書號'] = df1['c3']\r\n",
    "    df2['館藏狀態'] = df1['c4']\r\n",
    "    df2['連結'] = df1['連結']\r\n",
    "\r\n",
    "    # 遇到值為 NaN時，將前一列的值填補進來\r\n",
    "    df2.fillna(method=\"ffill\", axis=0, inplace=True)\r\n",
    "\r\n",
    "    return df2\r\n",
    "\r\n",
    "\r\n",
    "def accurately_find_table_and_read_it(table_position, table_position2=0):\r\n",
    "    try:\r\n",
    "        if not wait_for_element_present(table_position):\r\n",
    "            print(f'找不到 {table_position}！')\r\n",
    "            return\r\n",
    "        soup = BeautifulSoup(driver.page_source, 'html.parser')\r\n",
    "        table_innerHTML = soup.select(table_position)[table_position2]\r\n",
    "        tgt = pd.read_html(str(table_innerHTML), encoding='utf-8')[0]\r\n",
    "        # tgt['圖書館'], tgt['連結'] = org, driver.current_url\r\n",
    "    except:\r\n",
    "        return\r\n",
    "    else:\r\n",
    "        return tgt"
   ],
   "outputs": [],
   "metadata": {}
  },
  {
   "cell_type": "code",
   "execution_count": 30,
   "source": [
    "#台中科技大學\r\n",
    "org = \"台中科技大學\"\r\n",
    "ISBN = str(9789574672028)\r\n",
    "df_lst = []\r\n",
    "url = \"https://ntit.ent.sirsidynix.net/client/zh_TW/NUTC/search/results?qu=\" + ISBN + \"&te=ILS\"\r\n",
    "\r\n",
    "\r\n",
    "driver.get(url)\r\n",
    "time.sleep(3)\r\n",
    "into_first = driver.find_element_by_id(\"detailLink0\").click() #進第一個版本\r\n",
    "time.sleep(5)\r\n",
    "\r\n",
    "print(accurately_find_table_and_read_it(\"#detailItemsDiv0 > div > table\", table_position2=0))\r\n",
    "\r\n",
    "\r\n",
    "            \r\n"
   ],
   "outputs": [
    {
     "output_type": "stream",
     "name": "stdout",
     "text": [
      "None\n"
     ]
    }
   ],
   "metadata": {}
  },
  {
   "cell_type": "code",
   "execution_count": 22,
   "source": [
    "#台中科技大學\r\n",
    "org = \"台中科技大學\"\r\n",
    "ISBN = str(9789574672028)\r\n",
    "df_lst = []\r\n",
    "url = \"https://ntit.ent.sirsidynix.net/client/zh_TW/NUTC/search/results?qu=\" + ISBN + \"&te=ILS\"\r\n",
    "\r\n",
    "\r\n",
    "driver.get(url)\r\n",
    "time.sleep(3)\r\n",
    "into_first = driver.find_element_by_id(\"detailLink0\").click() #進第一個版本\r\n",
    "time.sleep(3)\r\n",
    "for i in range(0, 6):\r\n",
    "    booktype = driver.find_element_by_class_name(\"detailItemsTable_ITYPE\").text\r\n",
    "    if booktype == \"電子資源\": #不爬是電子資源的\r\n",
    "        pass\r\n",
    "    else:\r\n",
    "        for i in range(0, 6):\r\n",
    "            table_position = \"#detailItemsDiv\" + str(i) + \"> div > table\"\r\n",
    "            try:\r\n",
    "                edition = driver.find_element_by_css_selector(table_position) # 如果那個版本在\r\n",
    "                df_lst.append(accurately_find_table_and_read_it(table_position, table_position2=0))\r\n",
    "                try:\r\n",
    "                    next = driver.find_element_by_class_name(\"nextArrowRight\").click() #按去下一個版本\r\n",
    "                except:\r\n",
    "                    pass\r\n",
    "            except:\r\n",
    "                pass\r\n",
    "            \r\n",
    "print(df_lst)"
   ],
   "outputs": [
    {
     "output_type": "stream",
     "name": "stdout",
     "text": [
      "[None, None, None, None, None, None, None, None]\n"
     ]
    }
   ],
   "metadata": {}
  },
  {
   "cell_type": "code",
   "execution_count": 20,
   "source": [
    "#台中科技大學\r\n",
    "org = \"台中科技大學\"\r\n",
    "ISBN = str(9789574672028)\r\n",
    "df_lst = []\r\n",
    "url = \"https://ntit.ent.sirsidynix.net/client/zh_TW/NUTC/search/results?qu=\" + ISBN + \"&te=ILS\"\r\n",
    "\r\n",
    "\r\n",
    "driver.get(url)\r\n",
    "time.sleep(3)\r\n",
    "into_first = driver.find_element_by_id(\"detailLink0\").click() #進第一個版本\r\n",
    "time.sleep(3)\r\n",
    "for i in range(0, 6):\r\n",
    "    booktype = driver.find_element_by_class_name(\"detailItemsTable_ITYPE\").text\r\n",
    "    if booktype == \"電子資源\": #不爬是電子資源的\r\n",
    "        pass\r\n",
    "    else:\r\n",
    "        try:\r\n",
    "            html_text = driver.page_source\r\n",
    "            dfs = pd.read_html(html_text, encoding=\"utf-8\")\r\n",
    "            df_ntit = dfs[4]\r\n",
    "\r\n",
    "            df_lst.append(df_ntit)\r\n",
    "            next = driver.find_element_by_class_name(\"nextArrowRight\").click() #按去下一個版本\r\n",
    "        except:\r\n",
    "            pass\r\n",
    "\r\n",
    "print(df_lst)"
   ],
   "outputs": [
    {
     "output_type": "stream",
     "name": "stdout",
     "text": [
      "[]\n"
     ]
    }
   ],
   "metadata": {}
  }
 ],
 "metadata": {
  "kernelspec": {
   "name": "python3",
   "display_name": "Python 3.9.2 64-bit"
  },
  "language_info": {
   "codemirror_mode": {
    "name": "ipython",
    "version": 3
   },
   "file_extension": ".py",
   "mimetype": "text/x-python",
   "name": "python",
   "nbconvert_exporter": "python",
   "pygments_lexer": "ipython3",
   "version": "3.9.2"
  },
  "interpreter": {
   "hash": "b0df7ae3715664bafe75f9d40112a333c2b184d86f17fed539b69d102c1d2673"
  }
 },
 "nbformat": 4,
 "nbformat_minor": 5
}