{
 "cells": [
  {
   "cell_type": "code",
   "execution_count": 126,
   "id": "a7abaf0c",
   "metadata": {},
   "outputs": [],
   "source": [
    "import re"
   ]
  },
  {
   "cell_type": "code",
   "execution_count": 130,
   "id": "e2265967",
   "metadata": {},
   "outputs": [],
   "source": [
    "input_str = 'Hello 123 world 456'"
   ]
  },
  {
   "cell_type": "code",
   "execution_count": 141,
   "id": "9fd837c9",
   "metadata": {},
   "outputs": [
    {
     "data": {
      "text/plain": [
       "'Hello 7777 world 7777'"
      ]
     },
     "execution_count": 141,
     "metadata": {},
     "output_type": "execute_result"
    }
   ],
   "source": [
    "re.sub('\\d+', '7777', input_str)"
   ]
  },
  {
   "cell_type": "code",
   "execution_count": 144,
   "id": "49c236f0",
   "metadata": {},
   "outputs": [
    {
     "data": {
      "text/plain": [
       "'I have a pen.'"
      ]
     },
     "execution_count": 144,
     "metadata": {},
     "output_type": "execute_result"
    }
   ],
   "source": [
    "re.sub('[.;:,]+', '.', 'I have a pen...')"
   ]
  },
  {
   "cell_type": "code",
   "execution_count": null,
   "id": "31c4c6fc",
   "metadata": {},
   "outputs": [],
   "source": [
    "pattern_regex = '[.;:,]\\\\1+'\n",
    "re.sub(pattern_regex, \"\")"
   ]
  },
  {
   "cell_type": "code",
   "execution_count": null,
   "id": "9f9cdea9",
   "metadata": {},
   "outputs": [],
   "source": []
  },
  {
   "cell_type": "code",
   "execution_count": null,
   "id": "15b5c464",
   "metadata": {},
   "outputs": [],
   "source": []
  },
  {
   "cell_type": "code",
   "execution_count": 149,
   "id": "7405189a",
   "metadata": {},
   "outputs": [
    {
     "name": "stdout",
     "output_type": "stream",
     "text": [
      "1,2,3,4\n",
      "['2', '4', '1', '3']\n"
     ]
    }
   ],
   "source": [
    "# N is a natural number.\n",
    "\n",
    "def collatz_conjecture(N):\n",
    "    count = 0\n",
    "    \n",
    "    while True:\n",
    "        if count != 0 and N == 1:\n",
    "            return count\n",
    "        \n",
    "        if N % 2 == 0:\n",
    "            N //= 2\n",
    "        else:\n",
    "            N = N * 3 + 1\n",
    "        \n",
    "        count += 1\n",
    "\n",
    "def is_odd(N):\n",
    "    if N % 2 != 0:\n",
    "        return True\n",
    "    else:\n",
    "        return False\n",
    "\n",
    "def multiple_sort(N):\n",
    "    return (collatz_conjecture(N), is_odd(N), -N)\n",
    "\n",
    "sequence = [int(i) for i in input().split(',')]\n",
    "answer = [str(i) for i in sorted(sequence, key=multiple_sort)]\n",
    "print(answer)"
   ]
  },
  {
   "cell_type": "code",
   "execution_count": null,
   "id": "936d9653",
   "metadata": {},
   "outputs": [],
   "source": []
  },
  {
   "cell_type": "code",
   "execution_count": null,
   "id": "5c580e43",
   "metadata": {},
   "outputs": [],
   "source": []
  },
  {
   "cell_type": "code",
   "execution_count": null,
   "id": "fb7160d1",
   "metadata": {},
   "outputs": [],
   "source": []
  },
  {
   "cell_type": "code",
   "execution_count": null,
   "id": "1e9fd631",
   "metadata": {},
   "outputs": [],
   "source": []
  },
  {
   "cell_type": "code",
   "execution_count": null,
   "id": "2fa1524e",
   "metadata": {},
   "outputs": [],
   "source": []
  },
  {
   "cell_type": "code",
   "execution_count": null,
   "id": "3c523dad",
   "metadata": {},
   "outputs": [],
   "source": []
  }
 ],
 "metadata": {
  "kernelspec": {
   "display_name": "Python 3",
   "language": "python",
   "name": "python3"
  },
  "language_info": {
   "codemirror_mode": {
    "name": "ipython",
    "version": 3
   },
   "file_extension": ".py",
   "mimetype": "text/x-python",
   "name": "python",
   "nbconvert_exporter": "python",
   "pygments_lexer": "ipython3",
   "version": "3.8.8"
  },
  "toc": {
   "base_numbering": 1,
   "nav_menu": {},
   "number_sections": true,
   "sideBar": true,
   "skip_h1_title": false,
   "title_cell": "Table of Contents",
   "title_sidebar": "Contents",
   "toc_cell": false,
   "toc_position": {},
   "toc_section_display": true,
   "toc_window_display": false
  }
 },
 "nbformat": 4,
 "nbformat_minor": 5
}
