{
 "cells": [
  {
   "cell_type": "code",
   "execution_count": 7,
   "id": "40f31383",
   "metadata": {},
   "outputs": [
    {
     "data": {
      "text/html": [
       "<div>\n",
       "<style scoped>\n",
       "    .dataframe tbody tr th:only-of-type {\n",
       "        vertical-align: middle;\n",
       "    }\n",
       "\n",
       "    .dataframe tbody tr th {\n",
       "        vertical-align: top;\n",
       "    }\n",
       "\n",
       "    .dataframe thead th {\n",
       "        text-align: right;\n",
       "    }\n",
       "</style>\n",
       "<table border=\"1\" class=\"dataframe\">\n",
       "  <thead>\n",
       "    <tr style=\"text-align: right;\">\n",
       "      <th></th>\n",
       "      <th>0</th>\n",
       "      <th>1</th>\n",
       "      <th>2</th>\n",
       "      <th>3</th>\n",
       "      <th>4</th>\n",
       "    </tr>\n",
       "  </thead>\n",
       "  <tbody>\n",
       "    <tr>\n",
       "      <th>0</th>\n",
       "      <td>館藏</td>\n",
       "      <td>館藏</td>\n",
       "      <td>館藏</td>\n",
       "      <td>查看選項</td>\n",
       "      <td>查看選項</td>\n",
       "    </tr>\n",
       "    <tr>\n",
       "      <th>1</th>\n",
       "      <td>總館</td>\n",
       "      <td>總館</td>\n",
       "      <td>總館</td>\n",
       "      <td>總館</td>\n",
       "      <td>NaN</td>\n",
       "    </tr>\n",
       "    <tr>\n",
       "      <th>2</th>\n",
       "      <td>NaN</td>\n",
       "      <td>複本 館藏條碼</td>\n",
       "      <td>資料類型</td>\n",
       "      <td>館藏位置(現況)</td>\n",
       "      <td>NaN</td>\n",
       "    </tr>\n",
       "    <tr>\n",
       "      <th>3</th>\n",
       "      <td>550.187 8757 103</td>\n",
       "      <td>1 0102036</td>\n",
       "      <td>中文圖書</td>\n",
       "      <td>二樓書庫</td>\n",
       "      <td>NaN</td>\n",
       "    </tr>\n",
       "  </tbody>\n",
       "</table>\n",
       "</div>"
      ],
      "text/plain": [
       "                  0          1     2         3     4\n",
       "0                館藏         館藏    館藏      查看選項  查看選項\n",
       "1                總館         總館    總館        總館   NaN\n",
       "2               NaN    複本 館藏條碼  資料類型  館藏位置(現況)   NaN\n",
       "3  550.187 8757 103  1 0102036  中文圖書      二樓書庫   NaN"
      ]
     },
     "execution_count": 7,
     "metadata": {},
     "output_type": "execute_result"
    }
   ],
   "source": [
    "from selenium import webdriver\n",
    "# from selenium.webdriver.chrome.options import Options\n",
    "from selenium.webdriver.support.ui import Select\n",
    "import pandas as pd\n",
    "\n",
    "ISBN = 9789869109321\n",
    "\n",
    "# my_options = Options()\n",
    "# my_options.add_argument(\"--headless\")\n",
    "driver = webdriver.Chrome()\n",
    "driver.get(\"http://140.131.94.8/\")\n",
    "\n",
    "select = Select(driver.find_element_by_name(\"srchfield1\"))\n",
    "select.select_by_visible_text(u\"所有欄位\")\n",
    "\n",
    "search_input = driver.find_element_by_name(\"searchdata1\")\n",
    "search_input.send_keys(ISBN)\n",
    "search_input.submit()\n",
    "\n",
    "html_text = driver.page_source\n",
    "dfs = pd.read_html(html_text, encoding=\"utf-8\")\n",
    "df_ntunhs = dfs[0]\n",
    "driver.quit()  # 關閉整個瀏覽器\n",
    "df_ntunhs\n",
    "\n",
    "df_ntunhs = df_ntunhs.drop([0, 1, 2])\n",
    "\n",
    "df_ntunhs.rename(columns={0: \"索書號\"}, inplace=True)\n",
    "df_ntunhs"
   ]
  },
  {
   "cell_type": "code",
   "execution_count": null,
   "id": "e58c5755",
   "metadata": {},
   "outputs": [],
   "source": []
  }
 ],
 "metadata": {
  "kernelspec": {
   "display_name": "Python 3",
   "language": "python",
   "name": "python3"
  },
  "language_info": {
   "codemirror_mode": {
    "name": "ipython",
    "version": 3
   },
   "file_extension": ".py",
   "mimetype": "text/x-python",
   "name": "python",
   "nbconvert_exporter": "python",
   "pygments_lexer": "ipython3",
   "version": "3.8.8"
  }
 },
 "nbformat": 4,
 "nbformat_minor": 5
}
