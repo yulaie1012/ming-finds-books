{
 "cells": [
  {
   "cell_type": "code",
   "execution_count": 1,
   "id": "ed4fc516",
   "metadata": {},
   "outputs": [],
   "source": [
    "import pandas as pd\n",
    "\n",
    "roll_no = [501, 502, 503, 504, 505]"
   ]
  },
  {
   "cell_type": "code",
   "execution_count": 6,
   "id": "9f006a1b",
   "metadata": {},
   "outputs": [
    {
     "name": "stdout",
     "output_type": "stream",
     "text": [
      "   Roll No      Name  Gender  Age\n",
      "0      500  Jennifer  Female   17\n",
      "1      501    Travis    Male   18\n",
      "2      503       Bob    Male   17\n",
      "3      504      Emma  Female   16\n",
      "4      505      Luna  Female   18\n",
      "5      506     Anish    Male   16\n"
     ]
    }
   ],
   "source": [
    "student_df = pd.DataFrame({\n",
    "    \"Roll No\": [500, 501, 503, 504, 505, 506],\n",
    "    'Name': [\"Jennifer\", \"Travis\", \"Bob\", \"Emma\", \"Luna\", \"Anish\"],\n",
    "    'Gender':  [\"Female\", \"Male\", \"Male\", \"Female\", \"Female\", \"Male\"],\n",
    "    'Age': [17, 18, 17, 16, 18, 16]\n",
    "})\n",
    "print(student_df)"
   ]
  },
  {
   "cell_type": "code",
   "execution_count": 7,
   "id": "db75ac06",
   "metadata": {},
   "outputs": [
    {
     "name": "stdout",
     "output_type": "stream",
     "text": [
      "   Roll No      Name Grades\n",
      "0      501  Jennifer      A\n",
      "1      502    Travis     B+\n",
      "2      503       Bob     A-\n",
      "3      504      Emma      A\n",
      "4      505      Luna      B\n",
      "5      506     Anish     A+\n"
     ]
    }
   ],
   "source": [
    "grades_df = pd.DataFrame({\n",
    "    \"Roll No\": [501, 502, 503, 504, 505, 506],\n",
    "    'Name': [\"Jennifer\", \"Travis\", \"Bob\", \"Emma\", \"Luna\", \"Anish\"],\n",
    "    \"Grades\": [\"A\", \"B+\", \"A-\", \"A\", \"B\", \"A+\"]\n",
    "})\n",
    "print(grades_df)"
   ]
  },
  {
   "cell_type": "code",
   "execution_count": null,
   "id": "ede0c668",
   "metadata": {},
   "outputs": [],
   "source": []
  }
 ],
 "metadata": {
  "kernelspec": {
   "display_name": "Python 3",
   "language": "python",
   "name": "python3"
  },
  "language_info": {
   "codemirror_mode": {
    "name": "ipython",
    "version": 3
   },
   "file_extension": ".py",
   "mimetype": "text/x-python",
   "name": "python",
   "nbconvert_exporter": "python",
   "pygments_lexer": "ipython3",
   "version": "3.8.8"
  }
 },
 "nbformat": 4,
 "nbformat_minor": 5
}
