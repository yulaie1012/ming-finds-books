{
 "cells": [
  {
   "cell_type": "code",
   "execution_count": 1,
   "id": "e58fbfb7",
   "metadata": {},
   "outputs": [],
   "source": [
    "# 環境設置\n",
    "from selenium import webdriver\n",
    "from selenium.webdriver.chrome.options import Options\n",
    "from selenium.webdriver.support.ui import Select\n",
    "import pandas as pd\n",
    "import requests\n",
    "import requests.packages.urllib3\n",
    "requests.packages.urllib3.disable_warnings()\n",
    "from bs4 import BeautifulSoup\n",
    "import time\n",
    "\n",
    "ISBN = 9789869109321  # 二十一世紀資本論"
   ]
  },
  {
   "cell_type": "code",
   "execution_count": 2,
   "id": "989beefc",
   "metadata": {},
   "outputs": [],
   "source": [
    "# 國立臺灣海洋大學\n",
    "url = \"https://ocean.ntou.edu.tw/search*cht/i?SEARCH={ISBN}\"\n",
    "resp = requests.get(url, verify=False)"
   ]
  },
  {
   "cell_type": "code",
   "execution_count": null,
   "id": "d9a95c2f",
   "metadata": {},
   "outputs": [],
   "source": [
    "df_ntou.insert(0, \"圖書館\", [\"國立臺灣海洋大學\" for i in range(df_ntou.shape[0])])\n",
    "df_ntou.pop(\"條碼\")\n",
    "df_ntou.rename(columns={\"索書號/期刊合訂本卷期\": \"索書號\",\n",
    "                        \"處理狀態\": \"館藏狀態\"}, inplace=True)\n",
    "df_ntou"
   ]
  },
  {
   "cell_type": "code",
   "execution_count": null,
   "id": "c54afe09",
   "metadata": {},
   "outputs": [],
   "source": []
  }
 ],
 "metadata": {
  "kernelspec": {
   "display_name": "Python 3",
   "language": "python",
   "name": "python3"
  },
  "language_info": {
   "codemirror_mode": {
    "name": "ipython",
    "version": 3
   },
   "file_extension": ".py",
   "mimetype": "text/x-python",
   "name": "python",
   "nbconvert_exporter": "python",
   "pygments_lexer": "ipython3",
   "version": "3.8.8"
  }
 },
 "nbformat": 4,
 "nbformat_minor": 5
}
