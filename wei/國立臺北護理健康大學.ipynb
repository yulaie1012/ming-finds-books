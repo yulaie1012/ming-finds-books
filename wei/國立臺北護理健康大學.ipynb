{
 "cells": [
  {
   "cell_type": "code",
   "execution_count": 1,
   "id": "22b3b25a",
   "metadata": {},
   "outputs": [],
   "source": [
    "# 環境設置\n",
    "from selenium import webdriver\n",
    "from selenium.webdriver.chrome.options import Options\n",
    "from selenium.webdriver.support.ui import Select\n",
    "import pandas as pd\n",
    "import requests\n",
    "import requests.packages.urllib3\n",
    "requests.packages.urllib3.disable_warnings()\n",
    "from bs4 import BeautifulSoup\n",
    "import time\n",
    "\n",
    "ISBN = 9789869109321  # 二十一世紀資本論\n",
    "\n",
    "df_lst = []  # 裝著各種表格的 list\n",
    "\n",
    "my_options = Options()\n",
    "my_options.add_argument(\"--incognito\")  # 開啟無痕模式\n",
    "# my_options.add_argument(\"--headless\")  # 不開啟實體瀏覽器\n",
    "driver = webdriver.Chrome(options=my_options)"
   ]
  },
  {
   "cell_type": "code",
   "execution_count": 2,
   "id": "3c678013",
   "metadata": {},
   "outputs": [],
   "source": [
    "url = \"http://140.131.94.8/uhtbin/webcat/\"\n",
    "driver.get(url)\n",
    "\n",
    "select = Select(driver.find_element_by_name(\"srchfield1\"))\n",
    "select.select_by_visible_text(u\"所有欄位\")\n",
    "search_input = driver.find_element_by_name(\"searchdata1\")\n",
    "search_input.send_keys(ISBN)\n",
    "search_input.submit()"
   ]
  },
  {
   "cell_type": "code",
   "execution_count": 9,
   "id": "3a281f85",
   "metadata": {},
   "outputs": [
    {
     "data": {
      "text/html": [
       "<div>\n",
       "<style scoped>\n",
       "    .dataframe tbody tr th:only-of-type {\n",
       "        vertical-align: middle;\n",
       "    }\n",
       "\n",
       "    .dataframe tbody tr th {\n",
       "        vertical-align: top;\n",
       "    }\n",
       "\n",
       "    .dataframe thead th {\n",
       "        text-align: right;\n",
       "    }\n",
       "</style>\n",
       "<table border=\"1\" class=\"dataframe\">\n",
       "  <thead>\n",
       "    <tr style=\"text-align: right;\">\n",
       "      <th></th>\n",
       "      <th>索書號</th>\n",
       "      <th>3</th>\n",
       "    </tr>\n",
       "  </thead>\n",
       "  <tbody>\n",
       "    <tr>\n",
       "      <th>3</th>\n",
       "      <td>550.187 8757 103</td>\n",
       "      <td>二樓書庫</td>\n",
       "    </tr>\n",
       "  </tbody>\n",
       "</table>\n",
       "</div>"
      ],
      "text/plain": [
       "                索書號     3\n",
       "3  550.187 8757 103  二樓書庫"
      ]
     },
     "execution_count": 9,
     "metadata": {},
     "output_type": "execute_result"
    }
   ],
   "source": [
    "html_text = driver.page_source\n",
    "dfs = pd.read_html(html_text, encoding=\"utf-8\")\n",
    "df_ntunhs = dfs[0]\n",
    "df_ntunhs = df_ntunhs.drop([0, 1, 2])\n",
    "df_ntunhs = df_ntunhs.drop(df_ntunhs.columns[[1, 2, 4]], axis=1)\n",
    "df_ntunhs.rename(columns={0: \"索書號\"}, inplace=True)\n",
    "#                           1: \"館藏條碼\",\n",
    "#                           2: \"資料類型\",\n",
    "#                           3: \"館藏位置(現況)\n",
    "df_ntunhs"
   ]
  },
  {
   "cell_type": "code",
   "execution_count": null,
   "id": "cbbb150d",
   "metadata": {},
   "outputs": [],
   "source": []
  }
 ],
 "metadata": {
  "kernelspec": {
   "display_name": "Python 3",
   "language": "python",
   "name": "python3"
  },
  "language_info": {
   "codemirror_mode": {
    "name": "ipython",
    "version": 3
   },
   "file_extension": ".py",
   "mimetype": "text/x-python",
   "name": "python",
   "nbconvert_exporter": "python",
   "pygments_lexer": "ipython3",
   "version": "3.8.8"
  }
 },
 "nbformat": 4,
 "nbformat_minor": 5
}
