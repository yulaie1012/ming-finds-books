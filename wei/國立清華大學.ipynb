{
 "cells": [
  {
   "cell_type": "code",
   "execution_count": 1,
   "id": "c1f5a5a6",
   "metadata": {},
   "outputs": [],
   "source": [
    "from selenium import webdriver\n",
    "from selenium.webdriver.chrome.options import Options\n",
    "from selenium.webdriver.support.ui import Select\n",
    "import pandas as pd\n",
    "import requests\n",
    "from bs4 import BeautifulSoup\n",
    "import time\n",
    "\n",
    "ISBN = 9789869965804\n",
    "\n",
    "driver = webdriver.Chrome()\n",
    "driver.get(\"https://webpac.lib.nthu.edu.tw/F/\")\n",
    "\n",
    "# 等待頁面加載\n",
    "print(\"等待頁面加載中…\")\n",
    "for i in reversed(range(1, 4)):\n",
    "    time.sleep(1)\n",
    "    print(i)\n",
    "\n",
    "# 尋找選擇欄\n",
    "select = Select(driver.find_element_by_name(\"x\"))\n",
    "select.select_by_visible_text(u\"ISSN / ISBN\")\n",
    "\n",
    "search_input = driver.find_element_by_name(\"y\")\n",
    "search_input.send_keys(ISBN)\n",
    "# search_input.submit()  # 不知道為什麼無法 submit()？\n",
    "submit_input = driver.find_element_by_name(\"Search\")\n",
    "submit_input.click()\n",
    "\n",
    "html_text = driver.page_source\n",
    "dfs = pd.read_html(html_text, encoding=\"utf-8\")\n",
    "df_nthu = dfs[9]\n",
    "driver.quit()  # 關閉整個瀏覽器\n",
    "df_nthu"
   ]
  },
  {
   "cell_type": "code",
   "execution_count": 15,
   "id": "61f16f3d",
   "metadata": {
    "scrolled": true
   },
   "outputs": [
    {
     "data": {
      "text/html": [
       "<div>\n",
       "<style scoped>\n",
       "    .dataframe tbody tr th:only-of-type {\n",
       "        vertical-align: middle;\n",
       "    }\n",
       "\n",
       "    .dataframe tbody tr th {\n",
       "        vertical-align: top;\n",
       "    }\n",
       "\n",
       "    .dataframe thead th {\n",
       "        text-align: right;\n",
       "    }\n",
       "</style>\n",
       "<table border=\"1\" class=\"dataframe\">\n",
       "  <thead>\n",
       "    <tr style=\"text-align: right;\">\n",
       "      <th></th>\n",
       "      <th>館藏地(總冊數/已外借)</th>\n",
       "      <th>索書號 document.write(getSortStuff(\"CALLA\"));↑ document.write(getSortStuff(\"CALLD\"));↓</th>\n",
       "    </tr>\n",
       "  </thead>\n",
       "  <tbody>\n",
       "    <tr>\n",
       "      <th>0</th>\n",
       "      <td>總圖( 4/ 3)南大分館( 5/ 0)人社分館( 1/ 1)</td>\n",
       "      <td>550.1862 8757</td>\n",
       "    </tr>\n",
       "  </tbody>\n",
       "</table>\n",
       "</div>"
      ],
      "text/plain": [
       "                      館藏地(總冊數/已外借)  \\\n",
       "0  總圖( 4/ 3)南大分館( 5/ 0)人社分館( 1/ 1)   \n",
       "\n",
       "  索書號 document.write(getSortStuff(\"CALLA\"));↑ document.write(getSortStuff(\"CALLD\"));↓  \n",
       "0                                      550.1862 8757                                   "
      ]
     },
     "execution_count": 15,
     "metadata": {},
     "output_type": "execute_result"
    }
   ],
   "source": [
    "df_nthu.drop(df_nthu.columns[[0, 1, 2, 3, 4, 5, 8]], axis=1)\n",
    "\n",
    "# df_nthu.rename(columns={\"現行位置\": \"館藏地\"}, inplace=True)"
   ]
  },
  {
   "cell_type": "code",
   "execution_count": null,
   "id": "a1653d0a",
   "metadata": {},
   "outputs": [],
   "source": []
  }
 ],
 "metadata": {
  "kernelspec": {
   "display_name": "Python 3",
   "language": "python",
   "name": "python3"
  },
  "language_info": {
   "codemirror_mode": {
    "name": "ipython",
    "version": 3
   },
   "file_extension": ".py",
   "mimetype": "text/x-python",
   "name": "python",
   "nbconvert_exporter": "python",
   "pygments_lexer": "ipython3",
   "version": "3.8.8"
  }
 },
 "nbformat": 4,
 "nbformat_minor": 5
}
