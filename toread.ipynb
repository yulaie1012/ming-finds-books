{
 "cells": [
  {
   "cell_type": "code",
   "execution_count": null,
   "source": [
    "from selenium import webdriver\r\n",
    "from selenium.webdriver.chrome.options import Options  # 設定 driver 的行為\r\n",
    "from selenium.webdriver.support.ui import Select  # 選擇＂下拉式選單＂\r\n",
    "from selenium.webdriver.common.keys import Keys  # 鍵盤操作\r\n",
    "from selenium.common.exceptions import NoSuchElementException, TimeoutException  # 載入常見錯誤\r\n",
    "from selenium.webdriver.common.desired_capabilities import DesiredCapabilities  # 更改載入策略\r\n",
    "from selenium.webdriver.support.ui import WebDriverWait  # 等待機制\r\n",
    "from selenium.webdriver.support import expected_conditions as EC  # 預期事件\r\n",
    "from selenium.webdriver.common.by import By  # 找尋元素的方法\r\n",
    "import pandas as pd  # 載入 pandas\r\n",
    "import pandas.io.formats.excel  # 輸出自定義格式 Excel\r\n",
    "import requests\r\n",
    "import requests.packages.urllib3\r\n",
    "\r\n",
    "requests.packages.urllib3.disable_warnings()  # 關閉錯誤警告\r\n",
    "from urllib.request import HTTPError  # 載入 HTTPError\r\n",
    "from bs4 import BeautifulSoup\r\n",
    "import time  # 強制等待\r\n",
    "\r\n",
    "my_options = Options()\r\n",
    "my_options.add_argument(\"--incognito\")  # 開啟無痕模式\r\n",
    "# my_options.add_argument('--start-maximized')  # 視窗最大化\r\n",
    "# my_options.add_argument('--headless')  # 不開啟實體瀏覽器\r\n",
    "my_capabilities = DesiredCapabilities.CHROME\r\n",
    "my_capabilities[\r\n",
    "    'pageLoadStrategy'] = 'none'  # 當 html下載完成之後，不等待解析完成，selenium會直接返回\r\n",
    "driver = webdriver.Chrome(\"C:\\\\Users\\mayda\\Downloads\\chromedriver\", options=my_options, desired_capabilities=my_capabilities)\r\n",
    "\r\n",
    "df_lst = []  # 裝著各種表格的 list"
   ],
   "outputs": [],
   "metadata": {}
  }
 ],
 "metadata": {
  "orig_nbformat": 4,
  "language_info": {
   "name": "python"
  }
 },
 "nbformat": 4,
 "nbformat_minor": 2
}