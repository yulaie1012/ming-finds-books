{
 "cells": [
  {
   "cell_type": "code",
   "execution_count": 94,
   "metadata": {},
   "outputs": [
    {
     "name": "stdout",
     "output_type": "stream",
     "text": [
      "[['臺中市立圖書館', '沙鹿文昌閱讀認證區', 'J 874.59 9024 2004', '在架', 'https://ipac.library.taichung.gov.tw/webpac/search.cfm?m=as&k0=9570825685&t0=i&c0=and&y10=&y20=&cat0=&dt0=&l0=&lv0=&lc0='], ['臺中市立圖書館', '北屯兒童兒童區(工程中)', 'J 874.59 9024 c.2', '在架', 'https://ipac.library.taichung.gov.tw/webpac/search.cfm?m=as&k0=9570825685&t0=i&c0=and&y10=&y20=&cat0=&dt0=&l0=&lv0=&lc0='], ['臺中市立圖書館', '北屯閱讀認證區', 'J 874.59 9024 92 8J2', '借出\\n2021/08/03', 'https://ipac.library.taichung.gov.tw/webpac/search.cfm?m=as&k0=9570825685&t0=i&c0=and&y10=&y20=&cat0=&dt0=&l0=&lv0=&lc0='], ['臺中市立圖書館', '北屯閱讀認證區', 'J 874.59 9024 92 8J2 c.5', '借出\\n2021/07/31', 'https://ipac.library.taichung.gov.tw/webpac/search.cfm?m=as&k0=9570825685&t0=i&c0=and&y10=&y20=&cat0=&dt0=&l0=&lv0=&lc0='], ['臺中市立圖書館', '南區閱讀認證區', 'J 874.58 9024 92 c.1', '在架', 'https://ipac.library.taichung.gov.tw/webpac/search.cfm?m=as&k0=9570825685&t0=i&c0=and&y10=&y20=&cat0=&dt0=&l0=&lv0=&lc0='], ['臺中市立圖書館', '沙鹿文昌閱讀認證區', 'J 874.59 4417 2004 c.1', '在架', 'https://ipac.library.taichung.gov.tw/webpac/search.cfm?m=as&k0=9570825685&t0=i&c0=and&y10=&y20=&cat0=&dt0=&l0=&lv0=&lc0='], ['臺中市立圖書館', '清水兒童區', 'J 874.59 9024', '在架', 'https://ipac.library.taichung.gov.tw/webpac/search.cfm?m=as&k0=9570825685&t0=i&c0=and&y10=&y20=&cat0=&dt0=&l0=&lv0=&lc0='], ['臺中市立圖書館', '清水紫雲巖兒童區', 'J 874.59 9024', '借出\\n2021/07/31', 'https://ipac.library.taichung.gov.tw/webpac/search.cfm?m=as&k0=9570825685&t0=i&c0=and&y10=&y20=&cat0=&dt0=&l0=&lv0=&lc0='], ['臺中市立圖書館', '神岡兒童區', 'J 874.59 4417 2003 c.1', '在架', 'https://ipac.library.taichung.gov.tw/webpac/search.cfm?m=as&k0=9570825685&t0=i&c0=and&y10=&y20=&cat0=&dt0=&l0=&lv0=&lc0='], ['臺中市立圖書館', '西屯兒童閱覽區', 'J 874.59 9024 92', '在架', 'https://ipac.library.taichung.gov.tw/webpac/search.cfm?m=as&k0=9570825685&t0=i&c0=and&y10=&y20=&cat0=&dt0=&l0=&lv0=&lc0='], ['臺中市立圖書館', '龍井龍津兒童區', 'TB2 874.59 9022', '在架', 'https://ipac.library.taichung.gov.tw/webpac/search.cfm?m=as&k0=9570825685&t0=i&c0=and&y10=&y20=&cat0=&dt0=&l0=&lv0=&lc0=']]\n",
      "10\n"
     ]
    }
   ],
   "source": [
    "# 臺中市立圖書館 9570825685可\r\n",
    "from selenium import webdriver # 先下載 webdriver\r\n",
    "from selenium.webdriver.support.ui import Select\r\n",
    "from selenium.webdriver.chrome.options import Options\r\n",
    "from selenium.webdriver.common.action_chains import ActionChains\r\n",
    "import time\r\n",
    "\r\n",
    "df_lst = []\r\n",
    "ISBN = '9570825685'\r\n",
    "driver = webdriver.Chrome(\"C:\\\\Users\\mayda\\Downloads\\chromedriver\")\r\n",
    "url = \"https://ipac.library.taichung.gov.tw/webpac/search.cfm?m=as&k0=\"+ ISBN +\"&t0=i&c0=and&y10=&y20=&cat0=&dt0=&l0=&lv0=&lc0=\"\r\n",
    "driver.get(url)\r\n",
    "time.sleep(5)\r\n",
    "try: # 有的書有不只一種版本\r\n",
    "    version = int(len(driver.find_elements_by_class_name(\"list_box\")))\r\n",
    "    for i in range(2, 2+version):\r\n",
    "        edition = driver.find_element_by_xpath('/html/body/div[4]/div[4]/div[2]/div[2]/div[2]/div[2]/div[' + str(i) + ']/div[1]/ul/li[3]/a').click()\r\n",
    "        time.sleep(4)\r\n",
    "        try:\r\n",
    "            try: #有的書有很多本會顯示不只一頁\r\n",
    "                pagelist = driver.find_elements_by_class_name('page_Num chg_page')[1]\r\n",
    "                pages = int(len(pagelist.find_elements_by_tag_name('a')))-4\r\n",
    "                \r\n",
    "                for j in range(3,3+pages): \r\n",
    "                    each_page = driver.find_element_by_xpath(\"//html/body/div[4]/div[4]/div[2]/div[2]/div[2]/div/div[2]/div[2]/div/div[1]/div[3]/a[\" +str(j)+']').click()\r\n",
    "                    time.sleep(4)\r\n",
    "\r\n",
    "                    table = driver.find_element_by_class_name('list.list_border')\r\n",
    "                    trlist = table.find_elements_by_tag_name('tr')\r\n",
    "                    for row in trlist:\r\n",
    "                        tdlist = row.find_elements_by_tag_name('td')\r\n",
    "                        for sth in tdlist:\r\n",
    "                            new_row = [\"臺中市立圖書館\", tdlist[1].text, tdlist[2].text, tdlist[3].text, url]\r\n",
    "                            df_lst.append(new_row)\r\n",
    "                            break\r\n",
    "            except: #有的書館藏量比較少只會顯示一頁\r\n",
    "                table = driver.find_element_by_class_name('list.list_border')\r\n",
    "                trlist = table.find_elements_by_tag_name('tr')\r\n",
    "                for row in trlist:\r\n",
    "                    tdlist = row.find_elements_by_tag_name('td')\r\n",
    "                    for sth in tdlist:\r\n",
    "                        new_row = [\"臺中市立圖書館\", tdlist[1].text, tdlist[2].text, tdlist[3].text, url]\r\n",
    "                        df_lst.append(new_row)\r\n",
    "                        break\r\n",
    "        except: # 有的版本點進去會顯示\"無館藏資料\"(困惑)\r\n",
    "            pass\r\n",
    "\r\n",
    "        backtolist = driver.find_element_by_link_text(\"回檢索結果\").click()\r\n",
    "        time.sleep(1)\r\n",
    "\r\n",
    "except: #只有一種版本\r\n",
    "    pagelist = driver.find_elements_by_class_name('page_Num chg_page')[1]\r\n",
    "    pages = int(len(pagelist.find_elements_by_tag_name('a')))-4\r\n",
    "    for j in range(3,3+pages): \r\n",
    "        each_page = driver.find_element_by_xpath(\"//html/body/div[4]/div[4]/div[2]/div[2]/div[2]/div/div[2]/div[2]/div/div[1]/div[4]/a[\" +str(j)+']').click()\r\n",
    "        time.sleep(4)\r\n",
    "\r\n",
    "        table = driver.find_element_by_class_name('list.list_border')\r\n",
    "        trlist = table.find_elements_by_tag_name('tr')\r\n",
    "        for row in trlist:\r\n",
    "            tdlist = row.find_elements_by_tag_name('td')\r\n",
    "            for sth in tdlist:\r\n",
    "                new_row = [\"臺中市立圖書館\", tdlist[1].text, tdlist[2].text, tdlist[3].text, url]\r\n",
    "                df_lst.append(new_row)\r\n",
    "                break\r\n",
    "\r\n",
    "print(df_lst)\r\n",
    "print(pages)\r\n"
   ]
  },
  {
   "cell_type": "code",
   "execution_count": 47,
   "metadata": {},
   "outputs": [
    {
     "name": "stdout",
     "output_type": "stream",
     "text": [
      "[]\n"
     ]
    }
   ],
   "source": [
    "# 臺中市立圖書館 9570825685可\r\n",
    "from selenium import webdriver # 先下載 webdriver\r\n",
    "from selenium.webdriver.support.ui import Select\r\n",
    "from selenium.webdriver.chrome.options import Options\r\n",
    "from selenium.webdriver.common.action_chains import ActionChains\r\n",
    "import time\r\n",
    "\r\n",
    "df_lst = []\r\n",
    "ISBN = '9789861371955'\r\n",
    "driver = webdriver.Chrome(\"C:\\\\Users\\mayda\\Downloads\\chromedriver\")\r\n",
    "\r\n",
    "url = \"https://ipac.library.taichung.gov.tw/webpac/search.cfm?m=as&k0=\"+ ISBN +\"&t0=i&c0=and&y10=&y20=&cat0=&dt0=&l0=&lv0=&lc0=\"\r\n",
    "driver.get(url)\r\n",
    "time.sleep(5)\r\n",
    "\r\n",
    "href = driver.current_url\r\n",
    "index = href.find(\"mid=\") # 得到'm'的index整數值\r\n",
    "id = href[index+4:index+11] # 得到七位數id\r\n",
    "newlink = \"https://ipac.library.taichung.gov.tw/webpac/content.cfm?mid=\" + id + \"&m=as&t0=i&c0=and&list_num=300&current_page=1&mt=&at=&sj=&py=&pr=&it=&lr=&lg=&si=1&contentlistcurrent_page=1&contentlist_num=300\"\r\n",
    "driver.get(newlink)\r\n",
    "time.sleep(10)\r\n",
    "\r\n",
    "try: # 有的書有不只一種版本\r\n",
    "    version = int(len(driver.find_elements_by_class_name(\"list_box\")))\r\n",
    "    for i in range(2, 2+version):\r\n",
    "        edition = driver.find_element_by_xpath('/html/body/div[4]/div[4]/div[2]/div[2]/div[2]/div[2]/div[' + str(i) + ']/div[1]/ul/li[3]/a').click()\r\n",
    "        time.sleep(4)\r\n",
    "        try:\r\n",
    "            table = driver.find_element_by_class_name('list.list_border')\r\n",
    "            trlist = table.find_elements_by_tag_name('tr')\r\n",
    "            for row in trlist:\r\n",
    "                tdlist = row.find_elements_by_tag_name('td')\r\n",
    "                for sth in tdlist:\r\n",
    "                    new_row = [\"臺中市立圖書館\", tdlist[1].text, tdlist[2].text, tdlist[3].text, url]\r\n",
    "                    df_lst.append(new_row)\r\n",
    "                    break\r\n",
    "\r\n",
    "        except: # 有的版本點進去會顯示\"無館藏資料\"(困惑)\r\n",
    "            pass\r\n",
    "\r\n",
    "        backtolist = driver.find_element_by_link_text(\"回檢索結果\").click()\r\n",
    "        time.sleep(1)\r\n",
    "\r\n",
    "except: #只有一種版本        \r\n",
    "    table = driver.find_element_by_class_name('list.list_border')\r\n",
    "    trlist = table.find_elements_by_tag_name('tr')\r\n",
    "    for row in trlist:\r\n",
    "        tdlist = row.find_elements_by_tag_name('td')\r\n",
    "        for sth in tdlist:\r\n",
    "            new_row = [\"臺中市立圖書館\", tdlist[1].text, tdlist[2].text, tdlist[3].text, url]\r\n",
    "            df_lst.append(new_row)\r\n",
    "            break\r\n",
    "\r\n",
    "print(df_lst)\r\n",
    "\r\n"
   ]
  },
  {
   "cell_type": "code",
   "execution_count": 27,
   "metadata": {},
   "outputs": [
    {
     "name": "stdout",
     "output_type": "stream",
     "text": [
      "[      圖書館   館藏地                索書號 處理狀態\n",
      "0  國立中山大學  8F中文  550.187 8663 2014  可流通]\n"
     ]
    }
   ],
   "source": [
    "# 環境設置\r\n",
    "from selenium import webdriver\r\n",
    "from selenium.webdriver.chrome.options import Options\r\n",
    "from selenium.webdriver.support.ui import Select\r\n",
    "import pandas as pd\r\n",
    "import requests\r\n",
    "import requests.packages.urllib3\r\n",
    "requests.packages.urllib3.disable_warnings()\r\n",
    "from bs4 import BeautifulSoup\r\n",
    "import time\r\n",
    "\r\n",
    "ISBN = 9789869109321  # 二十一世紀資本論\r\n",
    "df_lst = []  # 裝著各種表格的 list\r\n",
    "my_options = Options()\r\n",
    "my_options.add_argument(\"--incognito\")  # 開啟無痕模式\r\n",
    "# my_options.add_argument(\"--headless\")  # 不開啟實體瀏覽器\r\n",
    "driver = webdriver.Chrome(\"C:\\\\Users\\mayda\\Downloads\\chromedriver\", options=my_options)\r\n",
    "\r\n",
    "# 中山大學\r\n",
    "try:\r\n",
    "    url = f\"https://dec.lib.nsysu.edu.tw//search*cht/i?SEARCH={ISBN}\"\r\n",
    "    dfs = pd.read_html(url, encoding=\"utf-8\")\r\n",
    "    df_nsysu = dfs[8]\r\n",
    "\r\n",
    "    df_nsysu.insert(0, \"圖書館\", [\"國立中山大學\" for i in range(df_nsysu.shape[0])])\r\n",
    "    df_nsysu.pop(\"條碼\")\r\n",
    "    df_nsysu.rename(columns={\"處理狀態 (狀態說明)\": \"館藏狀態\"}, inplace=True)\r\n",
    "    df_lst.append(df_nsysu)\r\n",
    "except:\r\n",
    "    print(f\"「{url}」無法爬取！\")\r\n",
    "driver.close()\r\n",
    "print(df_lst)"
   ]
  },
  {
   "cell_type": "code",
   "execution_count": null,
   "metadata": {},
   "outputs": [],
   "source": []
  }
 ],
 "metadata": {
  "interpreter": {
   "hash": "7225babeb7cca4b9321e56c564edbc65f6e93aaa0a336d193962bcdf0b3e7508"
  },
  "kernelspec": {
   "display_name": "Python 3.9.2 64-bit",
   "name": "python3"
  },
  "language_info": {
   "codemirror_mode": {
    "name": "ipython",
    "version": 3
   },
   "file_extension": ".py",
   "mimetype": "text/x-python",
   "name": "python",
   "nbconvert_exporter": "python",
   "pygments_lexer": "ipython3",
   "version": "3.9.2"
  }
 },
 "nbformat": 4,
 "nbformat_minor": 5
}