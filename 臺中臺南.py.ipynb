{
 "cells": [
  {
   "cell_type": "code",
   "execution_count": 94,
   "metadata": {},
   "outputs": [
    {
     "name": "stdout",
     "output_type": "stream",
     "text": [
      "[['臺中市立圖書館', '沙鹿文昌閱讀認證區', 'J 874.59 9024 2004', '在架', 'https://ipac.library.taichung.gov.tw/webpac/search.cfm?m=as&k0=9570825685&t0=i&c0=and&y10=&y20=&cat0=&dt0=&l0=&lv0=&lc0='], ['臺中市立圖書館', '北屯兒童兒童區(工程中)', 'J 874.59 9024 c.2', '在架', 'https://ipac.library.taichung.gov.tw/webpac/search.cfm?m=as&k0=9570825685&t0=i&c0=and&y10=&y20=&cat0=&dt0=&l0=&lv0=&lc0='], ['臺中市立圖書館', '北屯閱讀認證區', 'J 874.59 9024 92 8J2', '借出\\n2021/08/03', 'https://ipac.library.taichung.gov.tw/webpac/search.cfm?m=as&k0=9570825685&t0=i&c0=and&y10=&y20=&cat0=&dt0=&l0=&lv0=&lc0='], ['臺中市立圖書館', '北屯閱讀認證區', 'J 874.59 9024 92 8J2 c.5', '借出\\n2021/07/31', 'https://ipac.library.taichung.gov.tw/webpac/search.cfm?m=as&k0=9570825685&t0=i&c0=and&y10=&y20=&cat0=&dt0=&l0=&lv0=&lc0='], ['臺中市立圖書館', '南區閱讀認證區', 'J 874.58 9024 92 c.1', '在架', 'https://ipac.library.taichung.gov.tw/webpac/search.cfm?m=as&k0=9570825685&t0=i&c0=and&y10=&y20=&cat0=&dt0=&l0=&lv0=&lc0='], ['臺中市立圖書館', '沙鹿文昌閱讀認證區', 'J 874.59 4417 2004 c.1', '在架', 'https://ipac.library.taichung.gov.tw/webpac/search.cfm?m=as&k0=9570825685&t0=i&c0=and&y10=&y20=&cat0=&dt0=&l0=&lv0=&lc0='], ['臺中市立圖書館', '清水兒童區', 'J 874.59 9024', '在架', 'https://ipac.library.taichung.gov.tw/webpac/search.cfm?m=as&k0=9570825685&t0=i&c0=and&y10=&y20=&cat0=&dt0=&l0=&lv0=&lc0='], ['臺中市立圖書館', '清水紫雲巖兒童區', 'J 874.59 9024', '借出\\n2021/07/31', 'https://ipac.library.taichung.gov.tw/webpac/search.cfm?m=as&k0=9570825685&t0=i&c0=and&y10=&y20=&cat0=&dt0=&l0=&lv0=&lc0='], ['臺中市立圖書館', '神岡兒童區', 'J 874.59 4417 2003 c.1', '在架', 'https://ipac.library.taichung.gov.tw/webpac/search.cfm?m=as&k0=9570825685&t0=i&c0=and&y10=&y20=&cat0=&dt0=&l0=&lv0=&lc0='], ['臺中市立圖書館', '西屯兒童閱覽區', 'J 874.59 9024 92', '在架', 'https://ipac.library.taichung.gov.tw/webpac/search.cfm?m=as&k0=9570825685&t0=i&c0=and&y10=&y20=&cat0=&dt0=&l0=&lv0=&lc0='], ['臺中市立圖書館', '龍井龍津兒童區', 'TB2 874.59 9022', '在架', 'https://ipac.library.taichung.gov.tw/webpac/search.cfm?m=as&k0=9570825685&t0=i&c0=and&y10=&y20=&cat0=&dt0=&l0=&lv0=&lc0=']]\n",
      "10\n"
     ]
    }
   ],
   "source": [
    "# 臺中市立圖書館 9570825685可\r\n",
    "from selenium import webdriver # 先下載 webdriver\r\n",
    "from selenium.webdriver.support.ui import Select\r\n",
    "from selenium.webdriver.chrome.options import Options\r\n",
    "from selenium.webdriver.common.action_chains import ActionChains\r\n",
    "import time\r\n",
    "\r\n",
    "df_lst = []\r\n",
    "ISBN = '9570825685'\r\n",
    "driver = webdriver.Chrome(\"C:\\\\Users\\mayda\\Downloads\\chromedriver\")\r\n",
    "url = \"https://ipac.library.taichung.gov.tw/webpac/search.cfm?m=as&k0=\"+ ISBN +\"&t0=i&c0=and&y10=&y20=&cat0=&dt0=&l0=&lv0=&lc0=\"\r\n",
    "driver.get(url)\r\n",
    "time.sleep(5)\r\n",
    "try: # 有的書有不只一種版本\r\n",
    "    version = int(len(driver.find_elements_by_class_name(\"list_box\")))\r\n",
    "    for i in range(2, 2+version):\r\n",
    "        edition = driver.find_element_by_xpath('/html/body/div[4]/div[4]/div[2]/div[2]/div[2]/div[2]/div[' + str(i) + ']/div[1]/ul/li[3]/a').click()\r\n",
    "        time.sleep(4)\r\n",
    "        try:\r\n",
    "            try: #有的書有很多本會顯示不只一頁\r\n",
    "                pagelist = driver.find_elements_by_class_name('page_Num chg_page')[1]\r\n",
    "                pages = int(len(pagelist.find_elements_by_tag_name('a')))-4\r\n",
    "                \r\n",
    "                for j in range(3,3+pages): \r\n",
    "                    each_page = driver.find_element_by_xpath(\"//html/body/div[4]/div[4]/div[2]/div[2]/div[2]/div/div[2]/div[2]/div/div[1]/div[3]/a[\" +str(j)+']').click()\r\n",
    "                    time.sleep(4)\r\n",
    "\r\n",
    "                    table = driver.find_element_by_class_name('list.list_border')\r\n",
    "                    trlist = table.find_elements_by_tag_name('tr')\r\n",
    "                    for row in trlist:\r\n",
    "                        tdlist = row.find_elements_by_tag_name('td')\r\n",
    "                        for sth in tdlist:\r\n",
    "                            new_row = [\"臺中市立圖書館\", tdlist[1].text, tdlist[2].text, tdlist[3].text, url]\r\n",
    "                            df_lst.append(new_row)\r\n",
    "                            break\r\n",
    "            except: #有的書館藏量比較少只會顯示一頁\r\n",
    "                table = driver.find_element_by_class_name('list.list_border')\r\n",
    "                trlist = table.find_elements_by_tag_name('tr')\r\n",
    "                for row in trlist:\r\n",
    "                    tdlist = row.find_elements_by_tag_name('td')\r\n",
    "                    for sth in tdlist:\r\n",
    "                        new_row = [\"臺中市立圖書館\", tdlist[1].text, tdlist[2].text, tdlist[3].text, url]\r\n",
    "                        df_lst.append(new_row)\r\n",
    "                        break\r\n",
    "        except: # 有的版本點進去會顯示\"無館藏資料\"(困惑)\r\n",
    "            pass\r\n",
    "\r\n",
    "        backtolist = driver.find_element_by_link_text(\"回檢索結果\").click()\r\n",
    "        time.sleep(1)\r\n",
    "\r\n",
    "except: #只有一種版本\r\n",
    "    pagelist = driver.find_elements_by_class_name('page_Num chg_page')[1]\r\n",
    "    pages = int(len(pagelist.find_elements_by_tag_name('a')))-4\r\n",
    "    for j in range(3,3+pages): \r\n",
    "        each_page = driver.find_element_by_xpath(\"//html/body/div[4]/div[4]/div[2]/div[2]/div[2]/div/div[2]/div[2]/div/div[1]/div[4]/a[\" +str(j)+']').click()\r\n",
    "        time.sleep(4)\r\n",
    "\r\n",
    "        table = driver.find_element_by_class_name('list.list_border')\r\n",
    "        trlist = table.find_elements_by_tag_name('tr')\r\n",
    "        for row in trlist:\r\n",
    "            tdlist = row.find_elements_by_tag_name('td')\r\n",
    "            for sth in tdlist:\r\n",
    "                new_row = [\"臺中市立圖書館\", tdlist[1].text, tdlist[2].text, tdlist[3].text, url]\r\n",
    "                df_lst.append(new_row)\r\n",
    "                break\r\n",
    "\r\n",
    "print(df_lst)\r\n",
    "print(pages)\r\n",
    "\r\n"
   ]
  },
  {
   "cell_type": "code",
   "execution_count": 9,
   "metadata": {},
   "outputs": [
    {
     "ename": "NoSuchElementException",
     "evalue": "Message: no such element: Unable to locate element: {\"method\":\"xpath\",\"selector\":\"//html/body/div[3]/div[4]/table/tbody/tr[2]/td/div[1]/div[1]/a\"}\n  (Session info: chrome=91.0.4472.77)\n",
     "output_type": "error",
     "traceback": [
      "\u001b[1;31m---------------------------------------------------------------------------\u001b[0m",
      "\u001b[1;31mNoSuchElementException\u001b[0m                    Traceback (most recent call last)",
      "\u001b[1;32m<ipython-input-9-9a555e4a9133>\u001b[0m in \u001b[0;36m<module>\u001b[1;34m\u001b[0m\n\u001b[0;32m     13\u001b[0m \u001b[0mtime\u001b[0m\u001b[1;33m.\u001b[0m\u001b[0msleep\u001b[0m\u001b[1;33m(\u001b[0m\u001b[1;36m5\u001b[0m\u001b[1;33m)\u001b[0m\u001b[1;33m\u001b[0m\u001b[1;33m\u001b[0m\u001b[0m\n\u001b[0;32m     14\u001b[0m \u001b[1;33m\u001b[0m\u001b[0m\n\u001b[1;32m---> 15\u001b[1;33m \u001b[0medition\u001b[0m \u001b[1;33m=\u001b[0m \u001b[0mdriver\u001b[0m\u001b[1;33m.\u001b[0m\u001b[0mfind_element_by_xpath\u001b[0m\u001b[1;33m(\u001b[0m\u001b[1;34m'//html/body/div[3]/div[4]/table/tbody/tr[2]/td/div[1]/div[1]/a'\u001b[0m\u001b[1;33m)\u001b[0m\u001b[1;33m.\u001b[0m\u001b[0mclick\u001b[0m\u001b[1;33m(\u001b[0m\u001b[1;33m)\u001b[0m\u001b[1;33m\u001b[0m\u001b[1;33m\u001b[0m\u001b[0m\n\u001b[0m\u001b[0;32m     16\u001b[0m \u001b[0mtime\u001b[0m\u001b[1;33m.\u001b[0m\u001b[0msleep\u001b[0m\u001b[1;33m(\u001b[0m\u001b[1;36m2\u001b[0m\u001b[1;33m)\u001b[0m\u001b[1;33m\u001b[0m\u001b[1;33m\u001b[0m\u001b[0m\n\u001b[0;32m     17\u001b[0m \u001b[0mtable\u001b[0m \u001b[1;33m=\u001b[0m \u001b[0mdriver\u001b[0m\u001b[1;33m.\u001b[0m\u001b[0mfind_element_by_class_name\u001b[0m\u001b[1;33m(\u001b[0m\u001b[1;34m'order'\u001b[0m\u001b[1;33m)\u001b[0m\u001b[1;33m\u001b[0m\u001b[1;33m\u001b[0m\u001b[0m\n",
      "\u001b[1;32m~\\AppData\\Local\\Programs\\Python\\Python39\\lib\\site-packages\\selenium\\webdriver\\remote\\webdriver.py\u001b[0m in \u001b[0;36mfind_element_by_xpath\u001b[1;34m(self, xpath)\u001b[0m\n\u001b[0;32m    392\u001b[0m             \u001b[0melement\u001b[0m \u001b[1;33m=\u001b[0m \u001b[0mdriver\u001b[0m\u001b[1;33m.\u001b[0m\u001b[0mfind_element_by_xpath\u001b[0m\u001b[1;33m(\u001b[0m\u001b[1;34m'//div/td[1]'\u001b[0m\u001b[1;33m)\u001b[0m\u001b[1;33m\u001b[0m\u001b[1;33m\u001b[0m\u001b[0m\n\u001b[0;32m    393\u001b[0m         \"\"\"\n\u001b[1;32m--> 394\u001b[1;33m         \u001b[1;32mreturn\u001b[0m \u001b[0mself\u001b[0m\u001b[1;33m.\u001b[0m\u001b[0mfind_element\u001b[0m\u001b[1;33m(\u001b[0m\u001b[0mby\u001b[0m\u001b[1;33m=\u001b[0m\u001b[0mBy\u001b[0m\u001b[1;33m.\u001b[0m\u001b[0mXPATH\u001b[0m\u001b[1;33m,\u001b[0m \u001b[0mvalue\u001b[0m\u001b[1;33m=\u001b[0m\u001b[0mxpath\u001b[0m\u001b[1;33m)\u001b[0m\u001b[1;33m\u001b[0m\u001b[1;33m\u001b[0m\u001b[0m\n\u001b[0m\u001b[0;32m    395\u001b[0m \u001b[1;33m\u001b[0m\u001b[0m\n\u001b[0;32m    396\u001b[0m     \u001b[1;32mdef\u001b[0m \u001b[0mfind_elements_by_xpath\u001b[0m\u001b[1;33m(\u001b[0m\u001b[0mself\u001b[0m\u001b[1;33m,\u001b[0m \u001b[0mxpath\u001b[0m\u001b[1;33m)\u001b[0m\u001b[1;33m:\u001b[0m\u001b[1;33m\u001b[0m\u001b[1;33m\u001b[0m\u001b[0m\n",
      "\u001b[1;32m~\\AppData\\Local\\Programs\\Python\\Python39\\lib\\site-packages\\selenium\\webdriver\\remote\\webdriver.py\u001b[0m in \u001b[0;36mfind_element\u001b[1;34m(self, by, value)\u001b[0m\n\u001b[0;32m    974\u001b[0m                 \u001b[0mby\u001b[0m \u001b[1;33m=\u001b[0m \u001b[0mBy\u001b[0m\u001b[1;33m.\u001b[0m\u001b[0mCSS_SELECTOR\u001b[0m\u001b[1;33m\u001b[0m\u001b[1;33m\u001b[0m\u001b[0m\n\u001b[0;32m    975\u001b[0m                 \u001b[0mvalue\u001b[0m \u001b[1;33m=\u001b[0m \u001b[1;34m'[name=\"%s\"]'\u001b[0m \u001b[1;33m%\u001b[0m \u001b[0mvalue\u001b[0m\u001b[1;33m\u001b[0m\u001b[1;33m\u001b[0m\u001b[0m\n\u001b[1;32m--> 976\u001b[1;33m         return self.execute(Command.FIND_ELEMENT, {\n\u001b[0m\u001b[0;32m    977\u001b[0m             \u001b[1;34m'using'\u001b[0m\u001b[1;33m:\u001b[0m \u001b[0mby\u001b[0m\u001b[1;33m,\u001b[0m\u001b[1;33m\u001b[0m\u001b[1;33m\u001b[0m\u001b[0m\n\u001b[0;32m    978\u001b[0m             'value': value})['value']\n",
      "\u001b[1;32m~\\AppData\\Local\\Programs\\Python\\Python39\\lib\\site-packages\\selenium\\webdriver\\remote\\webdriver.py\u001b[0m in \u001b[0;36mexecute\u001b[1;34m(self, driver_command, params)\u001b[0m\n\u001b[0;32m    319\u001b[0m         \u001b[0mresponse\u001b[0m \u001b[1;33m=\u001b[0m \u001b[0mself\u001b[0m\u001b[1;33m.\u001b[0m\u001b[0mcommand_executor\u001b[0m\u001b[1;33m.\u001b[0m\u001b[0mexecute\u001b[0m\u001b[1;33m(\u001b[0m\u001b[0mdriver_command\u001b[0m\u001b[1;33m,\u001b[0m \u001b[0mparams\u001b[0m\u001b[1;33m)\u001b[0m\u001b[1;33m\u001b[0m\u001b[1;33m\u001b[0m\u001b[0m\n\u001b[0;32m    320\u001b[0m         \u001b[1;32mif\u001b[0m \u001b[0mresponse\u001b[0m\u001b[1;33m:\u001b[0m\u001b[1;33m\u001b[0m\u001b[1;33m\u001b[0m\u001b[0m\n\u001b[1;32m--> 321\u001b[1;33m             \u001b[0mself\u001b[0m\u001b[1;33m.\u001b[0m\u001b[0merror_handler\u001b[0m\u001b[1;33m.\u001b[0m\u001b[0mcheck_response\u001b[0m\u001b[1;33m(\u001b[0m\u001b[0mresponse\u001b[0m\u001b[1;33m)\u001b[0m\u001b[1;33m\u001b[0m\u001b[1;33m\u001b[0m\u001b[0m\n\u001b[0m\u001b[0;32m    322\u001b[0m             response['value'] = self._unwrap_value(\n\u001b[0;32m    323\u001b[0m                 response.get('value', None))\n",
      "\u001b[1;32m~\\AppData\\Local\\Programs\\Python\\Python39\\lib\\site-packages\\selenium\\webdriver\\remote\\errorhandler.py\u001b[0m in \u001b[0;36mcheck_response\u001b[1;34m(self, response)\u001b[0m\n\u001b[0;32m    240\u001b[0m                 \u001b[0malert_text\u001b[0m \u001b[1;33m=\u001b[0m \u001b[0mvalue\u001b[0m\u001b[1;33m[\u001b[0m\u001b[1;34m'alert'\u001b[0m\u001b[1;33m]\u001b[0m\u001b[1;33m.\u001b[0m\u001b[0mget\u001b[0m\u001b[1;33m(\u001b[0m\u001b[1;34m'text'\u001b[0m\u001b[1;33m)\u001b[0m\u001b[1;33m\u001b[0m\u001b[1;33m\u001b[0m\u001b[0m\n\u001b[0;32m    241\u001b[0m             \u001b[1;32mraise\u001b[0m \u001b[0mexception_class\u001b[0m\u001b[1;33m(\u001b[0m\u001b[0mmessage\u001b[0m\u001b[1;33m,\u001b[0m \u001b[0mscreen\u001b[0m\u001b[1;33m,\u001b[0m \u001b[0mstacktrace\u001b[0m\u001b[1;33m,\u001b[0m \u001b[0malert_text\u001b[0m\u001b[1;33m)\u001b[0m\u001b[1;33m\u001b[0m\u001b[1;33m\u001b[0m\u001b[0m\n\u001b[1;32m--> 242\u001b[1;33m         \u001b[1;32mraise\u001b[0m \u001b[0mexception_class\u001b[0m\u001b[1;33m(\u001b[0m\u001b[0mmessage\u001b[0m\u001b[1;33m,\u001b[0m \u001b[0mscreen\u001b[0m\u001b[1;33m,\u001b[0m \u001b[0mstacktrace\u001b[0m\u001b[1;33m)\u001b[0m\u001b[1;33m\u001b[0m\u001b[1;33m\u001b[0m\u001b[0m\n\u001b[0m\u001b[0;32m    243\u001b[0m \u001b[1;33m\u001b[0m\u001b[0m\n\u001b[0;32m    244\u001b[0m     \u001b[1;32mdef\u001b[0m \u001b[0m_value_or_default\u001b[0m\u001b[1;33m(\u001b[0m\u001b[0mself\u001b[0m\u001b[1;33m,\u001b[0m \u001b[0mobj\u001b[0m\u001b[1;33m,\u001b[0m \u001b[0mkey\u001b[0m\u001b[1;33m,\u001b[0m \u001b[0mdefault\u001b[0m\u001b[1;33m)\u001b[0m\u001b[1;33m:\u001b[0m\u001b[1;33m\u001b[0m\u001b[1;33m\u001b[0m\u001b[0m\n",
      "\u001b[1;31mNoSuchElementException\u001b[0m: Message: no such element: Unable to locate element: {\"method\":\"xpath\",\"selector\":\"//html/body/div[3]/div[4]/table/tbody/tr[2]/td/div[1]/div[1]/a\"}\n  (Session info: chrome=91.0.4472.77)\n"
     ]
    }
   ],
   "source": [
    "# 新竹\r\n",
    "from selenium import webdriver # 先下載 webdriver\r\n",
    "from selenium.webdriver.support.ui import Select\r\n",
    "from selenium.webdriver.chrome.options import Options\r\n",
    "from selenium.webdriver.common.action_chains import ActionChains\r\n",
    "import time\r\n",
    "ISBN = str(9789861371955)\r\n",
    "df_lst = []\r\n",
    "driver = webdriver.Chrome(\"C:\\\\Users\\mayda\\Downloads\\chromedriver\")\r\n",
    "\r\n",
    "url = \"https://book.hchcc.gov.tw/bookSearchList.do?searchtype=simplesearch&search_field=ISBN&search_input=\" + ISBN + \"&searchsymbol=hyLibCore.webpac.search.common_symbol&execodehidden=true&execode=&ebook=&csrfToken=D78F9B0555D0ABA2DE29EC96C7BA5389&hyftdToken=188809228&nowpage=1#searchtype=simplesearch&search_field=ISBN&search_input=\" + ISBN + \"&searchsymbol=hyLibCore.webpac.search.common_symbol&execodehidden=true&execode=&ebook=&csrfToken=D78F9B0555D0ABA2DE29EC96C7BA5389&hyftdToken=188809228&nowpage=1\"\r\n",
    "driver.get(url)\r\n",
    "time.sleep(5)\r\n",
    "\r\n",
    "edition = driver.find_element_by_xpath('//html/body/div[3]/div[4]/table/tbody/tr[2]/td/div[1]/div[1]/a').click()\r\n",
    "time.sleep(2) \r\n",
    "table = driver.find_element_by_class_name('order')\r\n",
    "trlist = table.find_elements_by_tag_name('tr')\r\n",
    "for row in trlist:\r\n",
    "    tdlist = row.find_elements_by_tag_name('td')\r\n",
    "    for sth in tdlist:\r\n",
    "        new_row = ['新竹縣立圖書館', tdlist[2].text, tdlist[3].text, tdlist[5].text, url]\r\n",
    "        print('新竹縣立圖書館', tdlist[2].text, tdlist[3].text, tdlist[5].text, url)\r\n",
    "        df_lst.append(new_row)\r\n",
    "        break\r\n",
    "backtolist = driver.find_element_by_xpath('//html/body/div[1]/div[2]/a[3]').click()\r\n",
    "time.sleep(2)"
   ]
  },
  {
   "cell_type": "code",
   "execution_count": 10,
   "metadata": {},
   "outputs": [
    {
     "name": "stdout",
     "output_type": "stream",
     "text": [
      "[    圖書館          館藏地           索書號         館藏狀態\n",
      "0  成功大學  總圖中文圖書區(4F)  550.187 4025          可借閱\n",
      "1  成功大學  總圖中文圖書區(4F)  550.187 4025  到期 21-08-04\n",
      "2  成功大學  總圖中文圖書區(4F)  550.187 4025  到期 21-08-02]\n"
     ]
    }
   ],
   "source": [
    "# 環境設置\r\n",
    "from selenium import webdriver\r\n",
    "from selenium.webdriver.chrome.options import Options\r\n",
    "from selenium.webdriver.support.ui import Select\r\n",
    "import pandas as pd\r\n",
    "import requests\r\n",
    "import requests.packages.urllib3\r\n",
    "requests.packages.urllib3.disable_warnings()\r\n",
    "from bs4 import BeautifulSoup\r\n",
    "import time\r\n",
    "\r\n",
    "ISBN = 9789869109321  # 二十一世紀資本論\r\n",
    "my_options = Options()\r\n",
    "my_options.add_argument(\"--incognito\")  # 開啟無痕模式\r\n",
    "# my_options.add_argument(\"--headless\")  # 不開啟實體瀏覽器\r\n",
    "driver = webdriver.Chrome(\"C:\\\\Users\\mayda\\Downloads\\chromedriver\", options=my_options)\r\n",
    "df_lst = []  # 裝著各種表格的 list\r\n",
    "\r\n",
    "# 成功大學\r\n",
    "\r\n",
    "try:\r\n",
    "    url = f\"https://weblis.lib.ncku.edu.tw/search~S1*cht/X?searchtype=X&searcharg={ISBN}\"\r\n",
    "    dfs = pd.read_html(url, encoding=\"utf-8\")\r\n",
    "    df_ncku = dfs[6]\r\n",
    "\r\n",
    "    df_ncku.insert(0, \"圖書館\", [\"成功大學\" for i in range(df_ncku.shape[0])])\r\n",
    "    for deleted in [\"登錄號\"]:\r\n",
    "        df_ncku.pop(deleted)\r\n",
    "    df_ncku.rename(columns={\"館藏狀況(西元年-月-日)\": \"館藏狀態\"}, inplace=True)\r\n",
    "    df_lst.append(df_ncku)\r\n",
    "except:\r\n",
    "    print(f\"「{url}」無法爬取！\")\r\n",
    "print(df_lst)"
   ]
  },
  {
   "cell_type": "code",
   "execution_count": null,
   "metadata": {},
   "outputs": [],
   "source": []
  }
 ],
 "metadata": {
  "interpreter": {
   "hash": "7225babeb7cca4b9321e56c564edbc65f6e93aaa0a336d193962bcdf0b3e7508"
  },
  "kernelspec": {
   "display_name": "Python 3.9.2 64-bit",
   "name": "python3"
  },
  "language_info": {
   "codemirror_mode": {
    "name": "ipython",
    "version": 3
   },
   "file_extension": ".py",
   "mimetype": "text/x-python",
   "name": "python",
   "nbconvert_exporter": "python",
   "pygments_lexer": "ipython3",
   "version": "3.9.2"
  }
 },
 "nbformat": 4,
 "nbformat_minor": 5
}