{
 "cells": [
  {
   "cell_type": "code",
   "execution_count": 1,
   "metadata": {},
   "outputs": [
    {
<<<<<<< HEAD
     "ename": "ImportError",
     "evalue": "cannot import name 'LineBotApi' from 'linebot' (unknown location)",
     "output_type": "error",
     "traceback": [
      "\u001b[1;31m---------------------------------------------------------------------------\u001b[0m",
      "\u001b[1;31mImportError\u001b[0m                               Traceback (most recent call last)",
      "\u001b[1;32m<ipython-input-1-3238cb29a29d>\u001b[0m in \u001b[0;36m<module>\u001b[1;34m\u001b[0m\n\u001b[0;32m      4\u001b[0m \u001b[1;32mimport\u001b[0m \u001b[0mpandas\u001b[0m \u001b[1;32mas\u001b[0m \u001b[0mpd\u001b[0m\u001b[1;33m\u001b[0m\u001b[1;33m\u001b[0m\u001b[0m\n\u001b[0;32m      5\u001b[0m \u001b[1;32mfrom\u001b[0m \u001b[0mflask\u001b[0m \u001b[1;32mimport\u001b[0m \u001b[0mFlask\u001b[0m\u001b[1;33m,\u001b[0m \u001b[0mrequest\u001b[0m\u001b[1;33m,\u001b[0m \u001b[0mabort\u001b[0m\u001b[1;33m\u001b[0m\u001b[1;33m\u001b[0m\u001b[0m\n\u001b[1;32m----> 6\u001b[1;33m \u001b[1;32mfrom\u001b[0m \u001b[0mlinebot\u001b[0m \u001b[1;32mimport\u001b[0m \u001b[0mLineBotApi\u001b[0m\u001b[1;33m,\u001b[0m \u001b[0mWebhookHandler\u001b[0m\u001b[1;33m\u001b[0m\u001b[1;33m\u001b[0m\u001b[0m\n\u001b[0m\u001b[0;32m      7\u001b[0m \u001b[1;32mfrom\u001b[0m \u001b[0mlinebot\u001b[0m\u001b[1;33m.\u001b[0m\u001b[0mexceptions\u001b[0m \u001b[1;32mimport\u001b[0m \u001b[0mInvalidSignatureError\u001b[0m\u001b[1;33m\u001b[0m\u001b[1;33m\u001b[0m\u001b[0m\n\u001b[0;32m      8\u001b[0m \u001b[1;32mfrom\u001b[0m \u001b[0mselenium\u001b[0m \u001b[1;32mimport\u001b[0m \u001b[0mwebdriver\u001b[0m\u001b[1;33m\u001b[0m\u001b[1;33m\u001b[0m\u001b[0m\n",
      "\u001b[1;31mImportError\u001b[0m: cannot import name 'LineBotApi' from 'linebot' (unknown location)"
=======
     "ename": "ModuleNotFoundError",
     "evalue": "No module named 'linebot'",
     "output_type": "error",
     "traceback": [
      "\u001b[1;31m---------------------------------------------------------------------------\u001b[0m",
      "\u001b[1;31mModuleNotFoundError\u001b[0m                       Traceback (most recent call last)",
      "\u001b[1;32m<ipython-input-1-e782d1bd2323>\u001b[0m in \u001b[0;36m<module>\u001b[1;34m\u001b[0m\n\u001b[0;32m      4\u001b[0m \u001b[1;32mimport\u001b[0m \u001b[0mpandas\u001b[0m \u001b[1;32mas\u001b[0m \u001b[0mpd\u001b[0m\u001b[1;33m\u001b[0m\u001b[1;33m\u001b[0m\u001b[0m\n\u001b[0;32m      5\u001b[0m \u001b[1;32mfrom\u001b[0m \u001b[0mflask\u001b[0m \u001b[1;32mimport\u001b[0m \u001b[0mFlask\u001b[0m\u001b[1;33m,\u001b[0m \u001b[0mrequest\u001b[0m\u001b[1;33m,\u001b[0m \u001b[0mabort\u001b[0m\u001b[1;33m\u001b[0m\u001b[1;33m\u001b[0m\u001b[0m\n\u001b[1;32m----> 6\u001b[1;33m \u001b[1;32mfrom\u001b[0m \u001b[0mlinebot\u001b[0m \u001b[1;32mimport\u001b[0m \u001b[0mLineBotApi\u001b[0m\u001b[1;33m,\u001b[0m \u001b[0mWebhookHandler\u001b[0m\u001b[1;33m\u001b[0m\u001b[1;33m\u001b[0m\u001b[0m\n\u001b[0m\u001b[0;32m      7\u001b[0m \u001b[1;32mfrom\u001b[0m \u001b[0mlinebot\u001b[0m\u001b[1;33m.\u001b[0m\u001b[0mexceptions\u001b[0m \u001b[1;32mimport\u001b[0m \u001b[0mInvalidSignatureError\u001b[0m\u001b[1;33m\u001b[0m\u001b[1;33m\u001b[0m\u001b[0m\n\u001b[0;32m      8\u001b[0m \u001b[1;32mfrom\u001b[0m \u001b[0mselenium\u001b[0m \u001b[1;32mimport\u001b[0m \u001b[0mwebdriver\u001b[0m\u001b[1;33m\u001b[0m\u001b[1;33m\u001b[0m\u001b[0m\n",
      "\u001b[1;31mModuleNotFoundError\u001b[0m: No module named 'linebot'"
>>>>>>> a51324008d2a7e608dd03ff18490991c5fdf8965
     ]
    }
   ],
   "source": [
    "import os\r\n",
    "import time\r\n",
    "import random\r\n",
    "import pandas as pd\r\n",
    "from flask import Flask, request, abort\r\n",
    "from linebot import LineBotApi, WebhookHandler\r\n",
    "from linebot.exceptions import InvalidSignatureError\r\n",
    "from selenium import webdriver\r\n",
    "from selenium.webdriver.support.ui import Select\r\n",
    "from selenium.webdriver.chrome.options import Options\r\n",
    "from selenium.webdriver.common.action_chains import ActionChains\r\n",
    "from bs4 import BeautifulSoup\r\n",
    "\r\n",
    "app = Flask(__name__)\r\n",
    "line_bot_api = LineBotApi(os.environ['CHANNEL_ACCESS_TOKEN'])\r\n",
    "handler = WebhookHandler(os.environ['CHANNEL_SECRET'])\r\n",
    "\r\n",
    "@app.route(\"/\", methods=['GET'])\r\n",
    "def hello():\r\n",
    "    return \"Hello World!\"\r\n",
    "\r\n",
    "# 監聽所有來自 /callback 的 Post Request\r\n",
    "@app.route(\"/callback\", methods=['POST'])\r\n",
    "def callback():\r\n",
    "    # get X-Line-Signature header value\r\n",
    "    signature = request.headers['X-Line-Signature']\r\n",
    "    # get request body as text\r\n",
    "    body = request.get_data(as_text=True)\r\n",
    "    app.logger.info(\"Request body: \" + body)\r\n",
    "    # handle webhook body\r\n",
    "    try:\r\n",
    "        handler.handle(body, signature)\r\n",
    "    except InvalidSignatureError:\r\n",
    "        abort(400)\r\n",
    "    return 'OKK'\r\n",
    "\r\n",
    "urltest = \"https://libholding.ntut.edu.tw/webpacIndex.jsp\"\r\n",
    "driver = webdriver.Chrome(\"C:\\\\Users\\mayda\\Downloads\\chromedriver\") \r\n",
    "driver.get(urltest)\r\n",
    "\r\n",
    "@handler.add(MessageEvent, message=TextMessage)\r\n",
    "def NTNU_crawling(driver):\r\n",
    "    ISBN = event.message.text\r\n",
    "    element = driver.find_element_by_id('search_inputS')\r\n",
    "    element.send_keys(ISBN)\r\n",
    "    select = Select(driver.find_element_by_id('search_field'))\r\n",
    "    select.select_by_value(\"STANDARDNO\")\r\n",
    "    search_gogogo = driver.find_element_by_xpath('/html/body/div[2]/table/tbody/tr/td[1]/div/div/div[1]/div/div[1]/div/form/table/tbody/tr[2]/td/input[3]').click()\r\n",
    "\r\n",
    "    time.sleep(5)\r\n",
    "    output = []\r\n",
    "    table = driver.find_element_by_class_name('order')\r\n",
    "    trlist = table.find_elements_by_tag_name('tr')\r\n",
    "    for row in trlist:\r\n",
    "        tdlist = row.find_elements_by_tag_name('td')\r\n",
    "        for sth in tdlist:\r\n",
    "            output = tdlist[2].text, tdlist[8].text\r\n",
    "            break\r\n",
<<<<<<< HEAD
    "    return(output)\r\n",
    "\r\n",
    "def handle_message(event):\r\n",
    "    line_bot_api.reply_message(event.reply_token,output)\r\n",
=======
    "    line_bot_api.reply_message(event.reply_token, output)\r\n",
>>>>>>> a51324008d2a7e608dd03ff18490991c5fdf8965
    "\r\n",
    "if __name__ == 'main':\r\n",
    "    app.run(debug=True)"
   ]
  },
  {
   "cell_type": "code",
   "execution_count": null,
   "metadata": {},
   "outputs": [],
   "source": []
  }
 ],
 "metadata": {
  "interpreter": {
   "hash": "7225babeb7cca4b9321e56c564edbc65f6e93aaa0a336d193962bcdf0b3e7508"
  },
  "kernelspec": {
   "display_name": "Python 3.9.2 64-bit",
   "name": "python3"
  },
  "language_info": {
   "codemirror_mode": {
    "name": "ipython",
    "version": 3
   },
   "file_extension": ".py",
   "mimetype": "text/x-python",
   "name": "python",
   "nbconvert_exporter": "python",
   "pygments_lexer": "ipython3",
   "version": "3.9.2"
  }
 },
 "nbformat": 4,
 "nbformat_minor": 5
}