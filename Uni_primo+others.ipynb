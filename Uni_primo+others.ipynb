{
 "cells": [
  {
   "cell_type": "code",
   "execution_count": 13,
<<<<<<< HEAD
   "id": "thirty-powder",
=======
>>>>>>> a51324008d2a7e608dd03ff18490991c5fdf8965
   "metadata": {},
   "outputs": [
    {
     "name": "stdout",
     "output_type": "stream",
     "text": [
      "9789869109321\n",
      "台灣大學 總圖書館 有可用館藏\n",
      "台灣大學 辜振甫圖書館 不在圖書館內\n",
      "台灣大學 辜振甫圖書館 有可用館藏\n",
      "台灣大學 醫學圖書館 不在圖書館內\n"
     ]
    }
   ],
   "source": [
    "# 台大\n",
    "from selenium import webdriver \n",
    "from selenium.webdriver.support.ui import Select\n",
    "from selenium.webdriver.chrome.options import Options\n",
    "from selenium.webdriver.common.action_chains import ActionChains\n",
    "import time\n",
    "\n",
    "driver = webdriver.Chrome(\"C:\\\\Users\\\\88698\\\\OneDrive\\\\文件\\\\chromedriver\") \n",
    "driver.get(\"https://ntu.primo.exlibrisgroup.com/discovery/search?vid=886NTU_INST:886NTU_INST\") # 更改網址以前往不同網頁\n",
    "ISBN = input()\n",
    "element = driver.find_element_by_id('searchBar')\n",
    "element.send_keys(ISBN)\n",
    "search_gogogo = driver.find_element_by_class_name('zero-margin.button-confirm.large-icon.md-button.md-primoExplore-theme.md-ink-ripple').click()\n",
    "time.sleep(2)\n",
    "title = driver.find_element_by_class_name('item-title').click()\n",
    "\n",
    "time.sleep(3)\n",
    "try:\n",
    "    back = driver.find_element_by_css_selector(\".tab-header .back-button.button-with-icon.zero-margin.md-button.md-primoExplore-theme.md-ink-ripple\")\n",
    "except:\n",
    "    back = None\n",
    "if back != None:\n",
    "    back.click()\n",
    "thelist = driver.find_elements_by_class_name(\"layout-align-space-between-center.layout-row.flex-100\")\n",
    "for row in thelist:\n",
    "    plist = row.find_elements_by_tag_name(\"p\")\n",
    "    where = row.find_elements_by_tag_name(\"h3\")\n",
    "    i = len(where)\n",
    "    for sth in plist:\n",
    "        a = sth.find_elements_by_tag_name(\"span\")\n",
    "        for _ in range(i): \n",
    "            print('台灣大學', where[_].text, a[0].text, end = \"\\n\")\n",
    "            break\n",
    "        break\n",
    "driver.close()"
   ]
  },
  {
   "cell_type": "code",
   "execution_count": 16,
<<<<<<< HEAD
   "id": "fewer-examination",
=======
>>>>>>> a51324008d2a7e608dd03ff18490991c5fdf8965
   "metadata": {},
   "outputs": [
    {
     "name": "stdout",
     "output_type": "stream",
     "text": [
      "9789868879348\n",
      "政治大學 綜圖 目前可獲得 綜圖B1中文\n",
      "政治大學 達賢館 目前可獲得 3F達賢書房\n"
     ]
    }
   ],
   "source": [
    "# 政大\n",
    "from selenium import webdriver \n",
    "from selenium.webdriver.support.ui import Select\n",
    "from selenium.webdriver.chrome.options import Options\n",
    "from selenium.webdriver.common.action_chains import ActionChains\n",
    "import time\n",
    "\n",
    "driver = webdriver.Chrome(\"C:\\\\Users\\\\88698\\\\OneDrive\\\\文件\\\\chromedriver\") \n",
    "driver.get(\"https://nccu.primo.exlibrisgroup.com/discovery/search?vid=886NCCU_INST:886NCCU_INST&lang=zh-tw\") # 更改網址以前往不同網頁\n",
    "ISBN = input()\n",
    "element = driver.find_element_by_id('searchBar')\n",
    "element.send_keys(ISBN)\n",
    "search_gogogo = driver.find_element_by_class_name('zero-margin.button-confirm.large-icon.md-button.md-primoExplore-theme.md-ink-ripple').click()\n",
    "time.sleep(2)\n",
    "title = driver.find_element_by_class_name('item-title').click()\n",
    "\n",
    "time.sleep(3)\n",
    "try:\n",
    "    back = driver.find_element_by_css_selector(\".tab-header .back-button.button-with-icon.zero-margin.md-button.md-primoExplore-theme.md-ink-ripple\")\n",
    "except:\n",
    "    back = None\n",
    "if back != None:\n",
    "    back.click()\n",
    "thelist = driver.find_elements_by_class_name(\"layout-align-space-between-center.layout-row.flex-100\")\n",
    "for row in thelist:\n",
    "    plist = row.find_elements_by_tag_name(\"p\")\n",
    "    where = row.find_elements_by_tag_name(\"h3\")\n",
    "    i = len(where)\n",
    "    for sth in plist:\n",
    "        a = sth.find_elements_by_tag_name(\"span\")\n",
    "        for _ in range(i): \n",
    "            print('政治大學', where[_].text, a[0].text, a[2].text, end = \"\\n\")\n",
    "            break\n",
    "        break\n",
    "driver.close()"
   ]
  },
  {
   "cell_type": "code",
   "execution_count": 17,
<<<<<<< HEAD
   "id": "hidden-stamp",
=======
>>>>>>> a51324008d2a7e608dd03ff18490991c5fdf8965
   "metadata": {},
   "outputs": [
    {
     "name": "stdout",
     "output_type": "stream",
     "text": [
      "9789869109321\n",
      "銘傳大學 桃園館 有可用館藏\n",
      "銘傳大學 臺北館 有可用館藏\n"
     ]
    }
   ],
   "source": [
    "# 銘傳\n",
    "from selenium import webdriver \n",
    "from selenium.webdriver.support.ui import Select\n",
    "from selenium.webdriver.chrome.options import Options\n",
    "from selenium.webdriver.common.action_chains import ActionChains\n",
    "import time\n",
    "\n",
    "driver = webdriver.Chrome(\"C:\\\\Users\\\\88698\\\\OneDrive\\\\文件\\\\chromedriver\") \n",
    "driver.get(\"https://uco-mcu.primo.exlibrisgroup.com/discovery/search?vid=886UCO_MCU:886MCU_INST&lang=zh-tw\") # 更改網址以前往不同網頁\n",
    "ISBN = input()\n",
    "element = driver.find_element_by_id('searchBar')\n",
    "element.send_keys(ISBN)\n",
    "search_gogogo = driver.find_element_by_class_name('zero-margin.button-confirm.large-icon.md-button.md-primoExplore-theme.md-ink-ripple').click()\n",
    "time.sleep(2)\n",
    "title = driver.find_element_by_class_name('item-title').click()\n",
    "\n",
    "time.sleep(3)\n",
    "try:\n",
    "    back = driver.find_element_by_css_selector(\".tab-header .back-button.button-with-icon.zero-margin.md-button.md-primoExplore-theme.md-ink-ripple\")\n",
    "except:\n",
    "    back = None\n",
    "if back != None:\n",
    "    back.click()\n",
    "thelist = driver.find_elements_by_class_name(\"md-2-line.md-no-proxy._md\")\n",
    "for row in thelist[:-2]:\n",
    "    plist = row.find_elements_by_tag_name(\"p\")\n",
    "    where = row.find_elements_by_tag_name(\"h3\")\n",
    "    i = len(where)\n",
    "    for sth in plist:\n",
    "        a = sth.find_elements_by_tag_name(\"span\")\n",
    "        for _ in range(1): \n",
    "            print('銘傳大學', where[_].text, a[0].text, end = \"\\n\")\n",
    "            break\n",
    "        break\n",
    "driver.close()"
   ]
  },
  {
   "cell_type": "code",
   "execution_count": 18,
<<<<<<< HEAD
   "id": "secret-peoples",
=======
>>>>>>> a51324008d2a7e608dd03ff18490991c5fdf8965
   "metadata": {},
   "outputs": [
    {
     "name": "stdout",
     "output_type": "stream",
     "text": [
      "9789869109321\n",
      "東吳大學 城區分館書庫 目前可獲得\n",
      "東吳大學 城區分館書庫 目前可獲得\n",
      "東吳大學 雙溪中正書庫 目前可獲得\n"
     ]
    }
   ],
   "source": [
    "# 東吳\n",
    "from selenium import webdriver \n",
    "from selenium.webdriver.support.ui import Select\n",
    "from selenium.webdriver.chrome.options import Options\n",
    "from selenium.webdriver.common.action_chains import ActionChains\n",
    "import time\n",
    "\n",
    "driver = webdriver.Chrome(\"C:\\\\Users\\\\88698\\\\OneDrive\\\\文件\\\\chromedriver\") \n",
    "driver.get(\"https://uco-scu.primo.exlibrisgroup.com/discovery/search?vid=886UCO_SCU:886SCU_INST&lang=zh-tw\") # 更改網址以前往不同網頁\n",
    "ISBN = input()\n",
    "element = driver.find_element_by_id('searchBar')\n",
    "element.send_keys(ISBN)\n",
    "search_gogogo = driver.find_element_by_class_name('zero-margin.button-confirm.large-icon.md-button.md-primoExplore-theme.md-ink-ripple').click()\n",
    "time.sleep(2)\n",
    "title = driver.find_element_by_class_name('item-title').click()\n",
    "\n",
    "time.sleep(3)\n",
    "try:\n",
    "    back = driver.find_element_by_css_selector(\".tab-header .back-button.button-with-icon.zero-margin.md-button.md-primoExplore-theme.md-ink-ripple\")\n",
    "except:\n",
    "    back = None\n",
    "if back != None:\n",
    "    back.click()\n",
    "thelist = driver.find_elements_by_class_name(\"md-2-line.md-no-proxy._md\")\n",
    "for row in thelist[:-2]:\n",
    "    plist = row.find_elements_by_tag_name(\"p\")\n",
    "    where = row.find_elements_by_tag_name(\"h3\")\n",
    "    i = len(where)\n",
    "    for sth in plist:\n",
    "        a = sth.find_elements_by_tag_name(\"span\")\n",
    "        for _ in range(1): \n",
    "            print('東吳大學', where[_].text, a[0].text, end = \"\\n\")\n",
    "            break\n",
    "        break \n",
    "driver.close()"
   ]
  },
  {
   "cell_type": "code",
   "execution_count": 21,
<<<<<<< HEAD
   "id": "residential-joshua",
=======
>>>>>>> a51324008d2a7e608dd03ff18490991c5fdf8965
   "metadata": {},
   "outputs": [
    {
     "name": "stdout",
     "output_type": "stream",
     "text": [
      "9789869109321\n",
      "淡江大學 總館 可獲得\n",
      "淡江大學 蘭陽校園圖書館 可獲得\n"
     ]
    }
   ],
   "source": [
    "# 淡江\n",
    "from selenium import webdriver \n",
    "from selenium.webdriver.support.ui import Select\n",
    "from selenium.webdriver.chrome.options import Options\n",
    "from selenium.webdriver.common.action_chains import ActionChains\n",
    "import time\n",
    "\n",
    "driver = webdriver.Chrome(\"C:\\\\Users\\\\88698\\\\OneDrive\\\\文件\\\\chromedriver\") \n",
    "driver.get(\"https://uco-network.primo.exlibrisgroup.com/discovery/search?vid=886UCO_TKU:886TKU_INST&lang=zh-tw\") # 更改網址以前往不同網頁\n",
    "ISBN = input()\n",
    "element = driver.find_element_by_id('searchBar')\n",
    "element.send_keys(ISBN)\n",
    "search_gogogo = driver.find_element_by_class_name('zero-margin.button-confirm.large-icon.md-button.md-primoExplore-theme.md-ink-ripple').click()\n",
    "time.sleep(2)\n",
    "title = driver.find_element_by_class_name('item-title').click()\n",
    "\n",
    "time.sleep(3)\n",
    "try:\n",
    "    back = driver.find_element_by_css_selector(\".tab-header .back-button.button-with-icon.zero-margin.md-button.md-primoExplore-theme.md-ink-ripple\")\n",
    "except:\n",
    "    back = None\n",
    "if back != None:\n",
    "    back.click()\n",
    "thelist = driver.find_elements_by_class_name(\"neutralized-button.layout-full-width.layout-display-flex.md-button.md-ink-ripple.layout-row\")\n",
    "for row in thelist:\n",
    "    plist = row.find_elements_by_tag_name(\"p\")\n",
    "    where = row.find_elements_by_tag_name(\"h3\")\n",
    "    i = len(where)\n",
    "    for sth in plist:\n",
    "        a = sth.find_elements_by_tag_name(\"span\")\n",
    "        for _ in range(i): \n",
    "            print('淡江大學', where[_].text, a[0].text, end = \"\\n\")\n",
    "            break\n",
    "driver.close()"
   ]
  },
  {
   "cell_type": "code",
   "execution_count": 33,
<<<<<<< HEAD
   "id": "applied-jesus",
=======
>>>>>>> a51324008d2a7e608dd03ff18490991c5fdf8965
   "metadata": {},
   "outputs": [
    {
     "name": "stdout",
     "output_type": "stream",
     "text": [
      "9789869109321\n",
      "政治大學 綜圖 不在圖書館內 綜圖B1中文\n",
      "政治大學 達賢館 不在圖書館內 3F達賢書房\n",
      "政治大學 綜圖 目前可獲得 綜圖B1中文\n"
     ]
    }
   ],
   "source": [
    "# 政大\n",
    "from selenium import webdriver \n",
    "from selenium.webdriver.support.ui import Select\n",
    "from selenium.webdriver.chrome.options import Options\n",
    "from selenium.webdriver.common.action_chains import ActionChains\n",
    "import time\n",
    "\n",
    "driver = webdriver.Chrome(\"C:\\\\Users\\\\88698\\\\OneDrive\\\\文件\\\\chromedriver\") \n",
    "driver.get(\"https://nccu.primo.exlibrisgroup.com/discovery/search?vid=886NCCU_INST:886NCCU_INST&lang=zh-tw\") # 更改網址以前往不同網頁\n",
    "ISBN = input()\n",
    "element = driver.find_element_by_id('searchBar')\n",
    "element.send_keys(ISBN)\n",
    "search_gogogo = driver.find_element_by_class_name('zero-margin.button-confirm.large-icon.md-button.md-primoExplore-theme.md-ink-ripple').click()\n",
    "time.sleep(2)\n",
    "title = driver.find_elements_by_class_name('item-title')[0].click()\n",
    "time.sleep(1)\n",
    "firstbook = driver.find_elements_by_class_name('item-title')[0].click()\n",
    "time.sleep(3)\n",
    "try:\n",
    "    back = driver.find_element_by_css_selector(\".tab-header .back-button.button-with-icon.zero-margin.md-button.md-primoExplore-theme.md-ink-ripple\")\n",
    "except:\n",
    "    back = None\n",
    "if back != None:\n",
    "    back.click()\n",
    "thelist = driver.find_elements_by_class_name(\"layout-align-space-between-center.layout-row.flex-100\")\n",
    "for row in thelist:\n",
    "    plist = row.find_elements_by_tag_name(\"p\")\n",
    "    where = row.find_elements_by_tag_name(\"h3\")\n",
    "    i = len(where)\n",
    "    for sth in plist:\n",
    "        a = sth.find_elements_by_tag_name(\"span\")\n",
    "        for _ in range(i): \n",
    "            print('政治大學', where[_].text, a[0].text, a[2].text, end = \"\\n\")\n",
    "            break\n",
    "        break\n",
    "try:\n",
    "    back2 = driver.find_element_by_class_name(\"md-icon-button.close-button.full-view-navigation.md-button.md-primoExplore-theme.md-ink-ripple\").click()\n",
    "except:\n",
    "    back2 = None\n",
    "secondbook = driver.find_elements_by_class_name('item-title')[1].click()\n",
    "time.sleep(3)\n",
    "try:\n",
    "    back = driver.find_element_by_css_selector(\".tab-header .back-button.button-with-icon.zero-margin.md-button.md-primoExplore-theme.md-ink-ripple\")\n",
    "except:\n",
    "    back = None\n",
    "if back != None:\n",
    "    back.click()\n",
    "thelist = driver.find_elements_by_class_name(\"layout-align-space-between-center.layout-row.flex-100\")\n",
    "for row in thelist:\n",
    "    plist = row.find_elements_by_tag_name(\"p\")\n",
    "    where = row.find_elements_by_tag_name(\"h3\")\n",
    "    i = len(where)\n",
    "    for sth in plist:\n",
    "        a = sth.find_elements_by_tag_name(\"span\")\n",
    "        for _ in range(i): \n",
    "            print('政治大學', where[_].text, a[0].text, a[2].text, end = \"\\n\")\n",
    "            break\n",
    "        break\n",
    "    "
   ]
  },
  {
   "cell_type": "code",
   "execution_count": 20,
<<<<<<< HEAD
   "id": "authorized-financing",
=======
>>>>>>> a51324008d2a7e608dd03ff18490991c5fdf8965
   "metadata": {},
   "outputs": [
    {
     "name": "stdout",
     "output_type": "stream",
     "text": [
      "9789869109321\n",
      "交通大學 交大圖書總館 有可用館藏\n"
     ]
    }
   ],
   "source": [
    "# 交大\n",
    "from selenium import webdriver \n",
    "from selenium.webdriver.support.ui import Select\n",
    "from selenium.webdriver.chrome.options import Options\n",
    "from selenium.webdriver.common.action_chains import ActionChains\n",
    "import time\n",
    "\n",
    "driver = webdriver.Chrome(\"C:\\\\Users\\\\88698\\\\OneDrive\\\\文件\\\\chromedriver\") \n",
    "driver.get(\"https://ustcate0.lib.nctu.edu.tw/primo_library/libweb/action/search.do?mode=Basic&vid=NCTU&vl(freeText0)=&tab=ils_article&\") # 更改網址以前往不同網頁\n",
    "ISBN = input()\n",
    "element = driver.find_element_by_id('search_field')\n",
    "element.send_keys(ISBN)\n",
    "search_gogogo = driver.find_element_by_id('goButton').click()\n",
    "time.sleep(2)\n",
    "place_click = driver.find_element_by_id('exlidResult0-LocationsTab').click()\n",
    "time.sleep(1)\n",
    "place = driver.find_element_by_class_name('EXLAvailabilityLibraryName')\n",
    "status = driver.find_element_by_id('rtaReturnedStatusTOP010054897964801549636893389809149347790')\n",
    "print('交通大學', place.text, status.text, end = \"\\n\")\n",
    "\n",
    "\n",
    "driver.close()\n"
   ]
  },
  {
   "cell_type": "code",
   "execution_count": 25,
<<<<<<< HEAD
   "id": "mineral-civilization",
=======
>>>>>>> a51324008d2a7e608dd03ff18490991c5fdf8965
   "metadata": {},
   "outputs": [
    {
     "name": "stdout",
     "output_type": "stream",
     "text": [
      "9789869109321\n"
     ]
    },
    {
     "ename": "NoSuchElementException",
     "evalue": "Message: no such element: Unable to locate element: {\"method\":\"css selector\",\"selector\":\".bookplace_list\"}\n  (Session info: chrome=91.0.4472.114)\n",
     "output_type": "error",
     "traceback": [
      "\u001b[1;31m---------------------------------------------------------------------------\u001b[0m",
      "\u001b[1;31mNoSuchElementException\u001b[0m                    Traceback (most recent call last)",
      "\u001b[1;32m<ipython-input-25-c17724d519b7>\u001b[0m in \u001b[0;36m<module>\u001b[1;34m\u001b[0m\n\u001b[0;32m     25\u001b[0m \u001b[0mfirstbook\u001b[0m \u001b[1;33m=\u001b[0m \u001b[0mdriver\u001b[0m\u001b[1;33m.\u001b[0m\u001b[0mfind_element_by_xpath\u001b[0m\u001b[1;33m(\u001b[0m\u001b[1;34m'//html/body/div/div[1]/div[2]/div/div/div[2]/div/div[4]/form/div/div[2]/div[2]/div[1]/h2'\u001b[0m\u001b[1;33m)\u001b[0m\u001b[1;33m.\u001b[0m\u001b[0mclick\u001b[0m\u001b[1;33m(\u001b[0m\u001b[1;33m)\u001b[0m\u001b[1;33m\u001b[0m\u001b[1;33m\u001b[0m\u001b[0m\n\u001b[0;32m     26\u001b[0m \u001b[0mtime\u001b[0m\u001b[1;33m.\u001b[0m\u001b[0msleep\u001b[0m\u001b[1;33m(\u001b[0m\u001b[1;36m2\u001b[0m\u001b[1;33m)\u001b[0m\u001b[1;33m\u001b[0m\u001b[1;33m\u001b[0m\u001b[0m\n\u001b[1;32m---> 27\u001b[1;33m \u001b[0mtable\u001b[0m \u001b[1;33m=\u001b[0m \u001b[0mdriver\u001b[0m\u001b[1;33m.\u001b[0m\u001b[0mfind_element_by_class_name\u001b[0m\u001b[1;33m(\u001b[0m\u001b[1;34m'bookplace_list'\u001b[0m\u001b[1;33m)\u001b[0m\u001b[1;33m\u001b[0m\u001b[1;33m\u001b[0m\u001b[0m\n\u001b[0m\u001b[0;32m     28\u001b[0m \u001b[0mtrlist\u001b[0m \u001b[1;33m=\u001b[0m \u001b[0mtable\u001b[0m\u001b[1;33m.\u001b[0m\u001b[0mfind_elements_by_tag_name\u001b[0m\u001b[1;33m(\u001b[0m\u001b[1;34m'tr'\u001b[0m\u001b[1;33m)\u001b[0m\u001b[1;33m\u001b[0m\u001b[1;33m\u001b[0m\u001b[0m\n\u001b[0;32m     29\u001b[0m \u001b[1;32mfor\u001b[0m \u001b[0mrow\u001b[0m \u001b[1;32min\u001b[0m \u001b[0mtrlist\u001b[0m\u001b[1;33m:\u001b[0m\u001b[1;33m\u001b[0m\u001b[1;33m\u001b[0m\u001b[0m\n",
      "\u001b[1;32mc:\\users\\88698\\appdata\\local\\programs\\python\\python39\\lib\\site-packages\\selenium\\webdriver\\remote\\webdriver.py\u001b[0m in \u001b[0;36mfind_element_by_class_name\u001b[1;34m(self, name)\u001b[0m\n\u001b[0;32m    562\u001b[0m             \u001b[0melement\u001b[0m \u001b[1;33m=\u001b[0m \u001b[0mdriver\u001b[0m\u001b[1;33m.\u001b[0m\u001b[0mfind_element_by_class_name\u001b[0m\u001b[1;33m(\u001b[0m\u001b[1;34m'foo'\u001b[0m\u001b[1;33m)\u001b[0m\u001b[1;33m\u001b[0m\u001b[1;33m\u001b[0m\u001b[0m\n\u001b[0;32m    563\u001b[0m         \"\"\"\n\u001b[1;32m--> 564\u001b[1;33m         \u001b[1;32mreturn\u001b[0m \u001b[0mself\u001b[0m\u001b[1;33m.\u001b[0m\u001b[0mfind_element\u001b[0m\u001b[1;33m(\u001b[0m\u001b[0mby\u001b[0m\u001b[1;33m=\u001b[0m\u001b[0mBy\u001b[0m\u001b[1;33m.\u001b[0m\u001b[0mCLASS_NAME\u001b[0m\u001b[1;33m,\u001b[0m \u001b[0mvalue\u001b[0m\u001b[1;33m=\u001b[0m\u001b[0mname\u001b[0m\u001b[1;33m)\u001b[0m\u001b[1;33m\u001b[0m\u001b[1;33m\u001b[0m\u001b[0m\n\u001b[0m\u001b[0;32m    565\u001b[0m \u001b[1;33m\u001b[0m\u001b[0m\n\u001b[0;32m    566\u001b[0m     \u001b[1;32mdef\u001b[0m \u001b[0mfind_elements_by_class_name\u001b[0m\u001b[1;33m(\u001b[0m\u001b[0mself\u001b[0m\u001b[1;33m,\u001b[0m \u001b[0mname\u001b[0m\u001b[1;33m)\u001b[0m\u001b[1;33m:\u001b[0m\u001b[1;33m\u001b[0m\u001b[1;33m\u001b[0m\u001b[0m\n",
      "\u001b[1;32mc:\\users\\88698\\appdata\\local\\programs\\python\\python39\\lib\\site-packages\\selenium\\webdriver\\remote\\webdriver.py\u001b[0m in \u001b[0;36mfind_element\u001b[1;34m(self, by, value)\u001b[0m\n\u001b[0;32m    974\u001b[0m                 \u001b[0mby\u001b[0m \u001b[1;33m=\u001b[0m \u001b[0mBy\u001b[0m\u001b[1;33m.\u001b[0m\u001b[0mCSS_SELECTOR\u001b[0m\u001b[1;33m\u001b[0m\u001b[1;33m\u001b[0m\u001b[0m\n\u001b[0;32m    975\u001b[0m                 \u001b[0mvalue\u001b[0m \u001b[1;33m=\u001b[0m \u001b[1;34m'[name=\"%s\"]'\u001b[0m \u001b[1;33m%\u001b[0m \u001b[0mvalue\u001b[0m\u001b[1;33m\u001b[0m\u001b[1;33m\u001b[0m\u001b[0m\n\u001b[1;32m--> 976\u001b[1;33m         return self.execute(Command.FIND_ELEMENT, {\n\u001b[0m\u001b[0;32m    977\u001b[0m             \u001b[1;34m'using'\u001b[0m\u001b[1;33m:\u001b[0m \u001b[0mby\u001b[0m\u001b[1;33m,\u001b[0m\u001b[1;33m\u001b[0m\u001b[1;33m\u001b[0m\u001b[0m\n\u001b[0;32m    978\u001b[0m             'value': value})['value']\n",
      "\u001b[1;32mc:\\users\\88698\\appdata\\local\\programs\\python\\python39\\lib\\site-packages\\selenium\\webdriver\\remote\\webdriver.py\u001b[0m in \u001b[0;36mexecute\u001b[1;34m(self, driver_command, params)\u001b[0m\n\u001b[0;32m    319\u001b[0m         \u001b[0mresponse\u001b[0m \u001b[1;33m=\u001b[0m \u001b[0mself\u001b[0m\u001b[1;33m.\u001b[0m\u001b[0mcommand_executor\u001b[0m\u001b[1;33m.\u001b[0m\u001b[0mexecute\u001b[0m\u001b[1;33m(\u001b[0m\u001b[0mdriver_command\u001b[0m\u001b[1;33m,\u001b[0m \u001b[0mparams\u001b[0m\u001b[1;33m)\u001b[0m\u001b[1;33m\u001b[0m\u001b[1;33m\u001b[0m\u001b[0m\n\u001b[0;32m    320\u001b[0m         \u001b[1;32mif\u001b[0m \u001b[0mresponse\u001b[0m\u001b[1;33m:\u001b[0m\u001b[1;33m\u001b[0m\u001b[1;33m\u001b[0m\u001b[0m\n\u001b[1;32m--> 321\u001b[1;33m             \u001b[0mself\u001b[0m\u001b[1;33m.\u001b[0m\u001b[0merror_handler\u001b[0m\u001b[1;33m.\u001b[0m\u001b[0mcheck_response\u001b[0m\u001b[1;33m(\u001b[0m\u001b[0mresponse\u001b[0m\u001b[1;33m)\u001b[0m\u001b[1;33m\u001b[0m\u001b[1;33m\u001b[0m\u001b[0m\n\u001b[0m\u001b[0;32m    322\u001b[0m             response['value'] = self._unwrap_value(\n\u001b[0;32m    323\u001b[0m                 response.get('value', None))\n",
      "\u001b[1;32mc:\\users\\88698\\appdata\\local\\programs\\python\\python39\\lib\\site-packages\\selenium\\webdriver\\remote\\errorhandler.py\u001b[0m in \u001b[0;36mcheck_response\u001b[1;34m(self, response)\u001b[0m\n\u001b[0;32m    240\u001b[0m                 \u001b[0malert_text\u001b[0m \u001b[1;33m=\u001b[0m \u001b[0mvalue\u001b[0m\u001b[1;33m[\u001b[0m\u001b[1;34m'alert'\u001b[0m\u001b[1;33m]\u001b[0m\u001b[1;33m.\u001b[0m\u001b[0mget\u001b[0m\u001b[1;33m(\u001b[0m\u001b[1;34m'text'\u001b[0m\u001b[1;33m)\u001b[0m\u001b[1;33m\u001b[0m\u001b[1;33m\u001b[0m\u001b[0m\n\u001b[0;32m    241\u001b[0m             \u001b[1;32mraise\u001b[0m \u001b[0mexception_class\u001b[0m\u001b[1;33m(\u001b[0m\u001b[0mmessage\u001b[0m\u001b[1;33m,\u001b[0m \u001b[0mscreen\u001b[0m\u001b[1;33m,\u001b[0m \u001b[0mstacktrace\u001b[0m\u001b[1;33m,\u001b[0m \u001b[0malert_text\u001b[0m\u001b[1;33m)\u001b[0m\u001b[1;33m\u001b[0m\u001b[1;33m\u001b[0m\u001b[0m\n\u001b[1;32m--> 242\u001b[1;33m         \u001b[1;32mraise\u001b[0m \u001b[0mexception_class\u001b[0m\u001b[1;33m(\u001b[0m\u001b[0mmessage\u001b[0m\u001b[1;33m,\u001b[0m \u001b[0mscreen\u001b[0m\u001b[1;33m,\u001b[0m \u001b[0mstacktrace\u001b[0m\u001b[1;33m)\u001b[0m\u001b[1;33m\u001b[0m\u001b[1;33m\u001b[0m\u001b[0m\n\u001b[0m\u001b[0;32m    243\u001b[0m \u001b[1;33m\u001b[0m\u001b[0m\n\u001b[0;32m    244\u001b[0m     \u001b[1;32mdef\u001b[0m \u001b[0m_value_or_default\u001b[0m\u001b[1;33m(\u001b[0m\u001b[0mself\u001b[0m\u001b[1;33m,\u001b[0m \u001b[0mobj\u001b[0m\u001b[1;33m,\u001b[0m \u001b[0mkey\u001b[0m\u001b[1;33m,\u001b[0m \u001b[0mdefault\u001b[0m\u001b[1;33m)\u001b[0m\u001b[1;33m:\u001b[0m\u001b[1;33m\u001b[0m\u001b[1;33m\u001b[0m\u001b[0m\n",
      "\u001b[1;31mNoSuchElementException\u001b[0m: Message: no such element: Unable to locate element: {\"method\":\"css selector\",\"selector\":\".bookplace_list\"}\n  (Session info: chrome=91.0.4472.114)\n"
     ]
    }
   ],
   "source": [
    "# 桃園\n",
    "from selenium import webdriver # 先下載 webdriver\n",
    "from selenium.webdriver.support.ui import Select\n",
    "from selenium.webdriver.chrome.options import Options\n",
    "from selenium.webdriver.common.action_chains import ActionChains\n",
    "import time\n",
    "\n",
    "driver = webdriver.Chrome(\"C:\\\\Users\\mayda\\Downloads\\chromedriver\") \n",
    "driver.get(\"https://webpac.typl.gov.tw/advanceSearch\")\n",
    "time.sleep(5)\n",
    "ISBN = input()\n",
    "element = driver.find_element_by_name('searchInput')\n",
    "element.send_keys(ISBN)\n",
    "select = Select(driver.find_element_by_name('searchField'))\n",
    "select.select_by_value(\"ISBN\")\n",
    "search_gogogo = driver.find_element_by_xpath('//html/body/div/div[1]/div/div/div/div/div/div[2]/div/div/form/div[1]/div/input[2]').click()\n",
    "time.sleep(10)\n",
    "\n",
    "try:\n",
    "    show_more = driver.find_element_by_link_text(\"載入更多\").click()\n",
    "except:\n",
    "    show_more = None\n",
    "    \n",
    "time.sleep(5)  \n",
    "firstbook = driver.find_element_by_xpath('/html/body/div/div[1]/div[2]/div/div/div[2]/div/div[4]/form/div/div[2]/div[2]/div[1]/h2/a').click()\n",
    "time.sleep(2) \n",
    "table = driver.find_element_by_class_name('bookplace_list')\n",
    "trlist = table.find_elements_by_tag_name('tr')\n",
    "for row in trlist:\n",
    "    tdlist = row.find_elements_by_tag_name('td')\n",
    "    for sth in tdlist:\n",
    "        print('桃園市立圖書館', tdlist[0].text, tdlist[3].text, end = \"\\n\")\n",
    "        break\n",
    "backtolist = driver.find_element_by_link_text('查詢列表頁').click()\n",
    "time.sleep(5)\n",
    "secondbook = driver.find_element_by_xpath('/html/body/div/div[1]/div/div/div/div[2]/div/div[4]/form/div/div[3]/div[2]/div[1]/h2/a').click()\n",
    "time.sleep(2) \n",
    "table = driver.find_element_by_class_name('bookplace_list')\n",
    "trlist = table.find_elements_by_tag_name('tr')\n",
    "for row in trlist:\n",
    "    tdlist = row.find_elements_by_tag_name('td')\n",
    "    for sth in tdlist:\n",
    "        print('桃園市立圖書館', tdlist[0].text, tdlist[3].text, end = \"\\n\")\n",
    "        break\n",
    "backtolist = driver.find_element_by_link_text('查詢列表頁').click()\n",
    "driver.close()"
   ]
  },
  {
   "cell_type": "code",
   "execution_count": 18,
<<<<<<< HEAD
   "id": "sustainable-update",
=======
>>>>>>> a51324008d2a7e608dd03ff18490991c5fdf8965
   "metadata": {},
   "outputs": [
    {
     "name": "stdout",
     "output_type": "stream",
     "text": [
      "9789869109321\n",
      "基隆市立圖書館 館藏地 館藏狀態\n"
     ]
    }
   ],
   "source": [
    "#基隆市\n",
    "from selenium import webdriver \n",
    "from selenium.webdriver.support.ui import Select\n",
    "from selenium.webdriver.chrome.options import Options\n",
    "from selenium.webdriver.common.action_chains import ActionChains\n",
    "import time\n",
    "\n",
    "driver = webdriver.Chrome(\"C:\\\\Users\\mayda\\Downloads\\chromedriver\") \n",
    "driver.get(\"https://webpac.klccab.gov.tw/webpac/search.cfm\") # 更改網址以前往不同網頁\n",
    "ISBN = input()\n",
    "element = driver.find_element_by_id('ss_keyword')\n",
    "element.send_keys(ISBN)\n",
    "search_gogogo = driver.find_element_by_name('searchBtn').click()\n",
    "time.sleep(2)\n",
    "table = driver.find_element_by_class_name('list.list_border')\n",
    "trlist = table.find_elements_by_tag_name('tr')\n",
    "for row in trlist[1:]:\n",
    "    tdlist = row.find_elements_by_tag_name('td')\n",
    "    for sth in tdlist:\n",
    "        print('基隆市立圖書館', tdlist[1].text, tdlist[3].text, end = \"\\n\")\n",
    "        break\n",
    "    \n",
    "driver.close()"
   ]
  },
  {
   "cell_type": "code",
   "execution_count": null,
<<<<<<< HEAD
   "id": "wired-field",
   "metadata": {},
   "outputs": [],
   "source": []
  }
 ],
 "metadata": {
  "kernelspec": {
   "display_name": "Python 3",
   "language": "python",
   "name": "python3"
  },
  "language_info": {
   "codemirror_mode": {
    "name": "ipython",
    "version": 3
   },
   "file_extension": ".py",
   "mimetype": "text/x-python",
   "name": "python",
   "nbconvert_exporter": "python",
   "pygments_lexer": "ipython3",
   "version": "3.9.2"
=======
   "metadata": {},
   "outputs": [],
   "source": [
    "# 馬偕醫\r\n",
    "from selenium import webdriver # 先下載 webdriver\r\n",
    "from selenium.webdriver.support.ui import Select\r\n",
    "from selenium.webdriver.chrome.options import Options\r\n",
    "from selenium.webdriver.common.action_chains import ActionChains\r\n",
    "import time\r\n",
    "ISBN = '9789868879348'\r\n",
    "driver = webdriver.Chrome(\"C:\\\\Users\\\\88698\\\\OneDrive\\\\文件\\\\chromedriver\") \r\n",
    "\r\n",
    "url = \"https://lib.niu.edu.tw/webpacIndex.jsp\"\r\n",
    "driver.get(url)\r\n",
    "time.sleep(5)\r\n",
    "\r\n",
    "try:\r\n",
    "    where2 = driver.find_element_by_class_name(\"brieftit\").click()\r\n",
    "    time.sleep(5)\r\n",
    "    where3 = driver.find_element_by_xpath(\"/html/body/table[9]/tbody/tr/td[1]/table/tbody/tr[1]/td[2]/span/a[1]\").click()\r\n",
    "    time.sleep(3)\r\n",
    "    table = driver.find_element_by_xpath('/html/body/table[10]')\r\n",
    "    trlist = table.find_elements_by_tag_name('tr')\r\n",
    "    for row in trlist[0:2]:\r\n",
    "        tdlist = row.find_elements_by_tag_name('td')\r\n",
    "        for sth in tdlist:\r\n",
    "            new_row = ['馬偕醫學院', tdlist[2].text, tdlist[4].text, tdlist[7].text, url]\r\n",
    "            df_lst.append(new_row)\r\n",
    "            break\r\n",
    "except:\r\n",
    "    pass"
   ]
  }
 ],
 "metadata": {
  "interpreter": {
   "hash": "7225babeb7cca4b9321e56c564edbc65f6e93aaa0a336d193962bcdf0b3e7508"
  },
  "kernelspec": {
   "display_name": "Python 3.9.2 64-bit",
   "name": "python3"
  },
  "language_info": {
   "name": "python",
   "version": ""
>>>>>>> a51324008d2a7e608dd03ff18490991c5fdf8965
  }
 },
 "nbformat": 4,
 "nbformat_minor": 5
}