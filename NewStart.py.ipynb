{
 "cells": [
  {
   "cell_type": "code",
<<<<<<< HEAD
   "execution_count": 3,
=======
   "execution_count": 16,
>>>>>>> a51324008d2a7e608dd03ff18490991c5fdf8965
   "metadata": {},
   "outputs": [
    {
     "name": "stdout",
     "output_type": "stream",
     "text": [
<<<<<<< HEAD
=======
      "986729193X\n",
>>>>>>> a51324008d2a7e608dd03ff18490991c5fdf8965
      "新生醫專 中文木質書櫃區 在架\n"
     ]
    }
   ],
   "source": [
<<<<<<< HEAD
    "# 新生醫專\r\n",
=======
    "# 新生醫專\n",
    "from selenium import webdriver # 先下載 webdriver\n",
    "from selenium.webdriver.support.ui import Select\n",
    "from selenium.webdriver.chrome.options import Options\n",
    "from selenium.webdriver.common.action_chains import ActionChains\n",
    "import time\n",
    "\n",
    "driver = webdriver.Chrome(\"C:\\\\Users\\mayda\\Downloads\\chromedriver\") \n",
    "driver.get(\"http://163.25.34.60:8080/toread/opac/advancedsearch;jsessionid=7A1FFB1C7A08DAD84290696CA6E2F040\") # 更改網址以前往不同網頁\n",
    "ISBN = input()\n",
    "element = driver.find_element_by_id('searchTerm1')\n",
    "element.send_keys(ISBN)\n",
    "select = Select(driver.find_element_by_id('field1'))\n",
    "select.select_by_value(\"isbn_issn\")\n",
    "search_gogogo = driver.find_element_by_id(\"search\").click()\n",
    "time.sleep(5)\n",
    "where = driver.find_element_by_id(\"MyPageLink_1\").click()\n",
    "time.sleep(5)\n",
    "table = driver.find_element_by_class_name('gridTable')\n",
    "trlist = table.find_elements_by_tag_name('tr')\n",
    "for row in trlist:\n",
    "    tdlist = row.find_elements_by_tag_name('td')\n",
    "    for sth in tdlist:\n",
    "        print(\"新生醫專\", tdlist[2].text, tdlist[7].text, end = \"\\n\")\n",
    "        break\n",
    "driver.close()"
   ]
  },
  {
   "cell_type": "code",
   "execution_count": null,
   "metadata": {},
   "outputs": [],
   "source": [
    "9789869109321"
   ]
  },
  {
   "cell_type": "code",
   "execution_count": 19,
   "metadata": {},
   "outputs": [
    {
     "name": "stdout",
     "output_type": "stream",
     "text": [
      "9789869109321\n"
     ]
    },
    {
     "ename": "NoSuchElementException",
     "evalue": "Message: no such element: Unable to locate element: {\"method\":\"xpath\",\"selector\":\"/html/body/form/div[5]/div/input\"}\n  (Session info: chrome=91.0.4472.77)\n",
     "output_type": "error",
     "traceback": [
      "\u001b[1;31m---------------------------------------------------------------------------\u001b[0m",
      "\u001b[1;31mNoSuchElementException\u001b[0m                    Traceback (most recent call last)",
      "\u001b[1;32m<ipython-input-19-c5692d0877ea>\u001b[0m in \u001b[0;36m<module>\u001b[1;34m\u001b[0m\n\u001b[0;32m      9\u001b[0m \u001b[0mdriver\u001b[0m\u001b[1;33m.\u001b[0m\u001b[0mget\u001b[0m\u001b[1;33m(\u001b[0m\u001b[1;34m\"http://120.105.200.57/search.html\"\u001b[0m\u001b[1;33m)\u001b[0m \u001b[1;31m# 更改網址以前往不同網頁\u001b[0m\u001b[1;33m\u001b[0m\u001b[1;33m\u001b[0m\u001b[0m\n\u001b[0;32m     10\u001b[0m \u001b[0mISBN\u001b[0m \u001b[1;33m=\u001b[0m \u001b[0minput\u001b[0m\u001b[1;33m(\u001b[0m\u001b[1;33m)\u001b[0m\u001b[1;33m\u001b[0m\u001b[1;33m\u001b[0m\u001b[0m\n\u001b[1;32m---> 11\u001b[1;33m \u001b[0melement\u001b[0m \u001b[1;33m=\u001b[0m \u001b[0mdriver\u001b[0m\u001b[1;33m.\u001b[0m\u001b[0mfind_element_by_xpath\u001b[0m\u001b[1;33m(\u001b[0m\u001b[1;34m\"/html/body/form/div[5]/div/input\"\u001b[0m\u001b[1;33m)\u001b[0m\u001b[1;33m\u001b[0m\u001b[1;33m\u001b[0m\u001b[0m\n\u001b[0m\u001b[0;32m     12\u001b[0m \u001b[0melement\u001b[0m\u001b[1;33m.\u001b[0m\u001b[0msend_keys\u001b[0m\u001b[1;33m(\u001b[0m\u001b[0mISBN\u001b[0m\u001b[1;33m)\u001b[0m\u001b[1;33m\u001b[0m\u001b[1;33m\u001b[0m\u001b[0m\n\u001b[0;32m     13\u001b[0m \u001b[0msearch_gogogo\u001b[0m \u001b[1;33m=\u001b[0m \u001b[0mdriver\u001b[0m\u001b[1;33m.\u001b[0m\u001b[0mfind_element_by_class_name\u001b[0m\u001b[1;33m(\u001b[0m\u001b[1;34m'btn.btn-primary'\u001b[0m\u001b[1;33m)\u001b[0m\u001b[1;33m.\u001b[0m\u001b[0mclick\u001b[0m\u001b[1;33m(\u001b[0m\u001b[1;33m)\u001b[0m\u001b[1;33m\u001b[0m\u001b[1;33m\u001b[0m\u001b[0m\n",
      "\u001b[1;32mc:\\users\\mayda\\appdata\\local\\programs\\python\\python39\\lib\\site-packages\\selenium\\webdriver\\remote\\webdriver.py\u001b[0m in \u001b[0;36mfind_element_by_xpath\u001b[1;34m(self, xpath)\u001b[0m\n\u001b[0;32m    392\u001b[0m             \u001b[0melement\u001b[0m \u001b[1;33m=\u001b[0m \u001b[0mdriver\u001b[0m\u001b[1;33m.\u001b[0m\u001b[0mfind_element_by_xpath\u001b[0m\u001b[1;33m(\u001b[0m\u001b[1;34m'//div/td[1]'\u001b[0m\u001b[1;33m)\u001b[0m\u001b[1;33m\u001b[0m\u001b[1;33m\u001b[0m\u001b[0m\n\u001b[0;32m    393\u001b[0m         \"\"\"\n\u001b[1;32m--> 394\u001b[1;33m         \u001b[1;32mreturn\u001b[0m \u001b[0mself\u001b[0m\u001b[1;33m.\u001b[0m\u001b[0mfind_element\u001b[0m\u001b[1;33m(\u001b[0m\u001b[0mby\u001b[0m\u001b[1;33m=\u001b[0m\u001b[0mBy\u001b[0m\u001b[1;33m.\u001b[0m\u001b[0mXPATH\u001b[0m\u001b[1;33m,\u001b[0m \u001b[0mvalue\u001b[0m\u001b[1;33m=\u001b[0m\u001b[0mxpath\u001b[0m\u001b[1;33m)\u001b[0m\u001b[1;33m\u001b[0m\u001b[1;33m\u001b[0m\u001b[0m\n\u001b[0m\u001b[0;32m    395\u001b[0m \u001b[1;33m\u001b[0m\u001b[0m\n\u001b[0;32m    396\u001b[0m     \u001b[1;32mdef\u001b[0m \u001b[0mfind_elements_by_xpath\u001b[0m\u001b[1;33m(\u001b[0m\u001b[0mself\u001b[0m\u001b[1;33m,\u001b[0m \u001b[0mxpath\u001b[0m\u001b[1;33m)\u001b[0m\u001b[1;33m:\u001b[0m\u001b[1;33m\u001b[0m\u001b[1;33m\u001b[0m\u001b[0m\n",
      "\u001b[1;32mc:\\users\\mayda\\appdata\\local\\programs\\python\\python39\\lib\\site-packages\\selenium\\webdriver\\remote\\webdriver.py\u001b[0m in \u001b[0;36mfind_element\u001b[1;34m(self, by, value)\u001b[0m\n\u001b[0;32m    974\u001b[0m                 \u001b[0mby\u001b[0m \u001b[1;33m=\u001b[0m \u001b[0mBy\u001b[0m\u001b[1;33m.\u001b[0m\u001b[0mCSS_SELECTOR\u001b[0m\u001b[1;33m\u001b[0m\u001b[1;33m\u001b[0m\u001b[0m\n\u001b[0;32m    975\u001b[0m                 \u001b[0mvalue\u001b[0m \u001b[1;33m=\u001b[0m \u001b[1;34m'[name=\"%s\"]'\u001b[0m \u001b[1;33m%\u001b[0m \u001b[0mvalue\u001b[0m\u001b[1;33m\u001b[0m\u001b[1;33m\u001b[0m\u001b[0m\n\u001b[1;32m--> 976\u001b[1;33m         return self.execute(Command.FIND_ELEMENT, {\n\u001b[0m\u001b[0;32m    977\u001b[0m             \u001b[1;34m'using'\u001b[0m\u001b[1;33m:\u001b[0m \u001b[0mby\u001b[0m\u001b[1;33m,\u001b[0m\u001b[1;33m\u001b[0m\u001b[1;33m\u001b[0m\u001b[0m\n\u001b[0;32m    978\u001b[0m             'value': value})['value']\n",
      "\u001b[1;32mc:\\users\\mayda\\appdata\\local\\programs\\python\\python39\\lib\\site-packages\\selenium\\webdriver\\remote\\webdriver.py\u001b[0m in \u001b[0;36mexecute\u001b[1;34m(self, driver_command, params)\u001b[0m\n\u001b[0;32m    319\u001b[0m         \u001b[0mresponse\u001b[0m \u001b[1;33m=\u001b[0m \u001b[0mself\u001b[0m\u001b[1;33m.\u001b[0m\u001b[0mcommand_executor\u001b[0m\u001b[1;33m.\u001b[0m\u001b[0mexecute\u001b[0m\u001b[1;33m(\u001b[0m\u001b[0mdriver_command\u001b[0m\u001b[1;33m,\u001b[0m \u001b[0mparams\u001b[0m\u001b[1;33m)\u001b[0m\u001b[1;33m\u001b[0m\u001b[1;33m\u001b[0m\u001b[0m\n\u001b[0;32m    320\u001b[0m         \u001b[1;32mif\u001b[0m \u001b[0mresponse\u001b[0m\u001b[1;33m:\u001b[0m\u001b[1;33m\u001b[0m\u001b[1;33m\u001b[0m\u001b[0m\n\u001b[1;32m--> 321\u001b[1;33m             \u001b[0mself\u001b[0m\u001b[1;33m.\u001b[0m\u001b[0merror_handler\u001b[0m\u001b[1;33m.\u001b[0m\u001b[0mcheck_response\u001b[0m\u001b[1;33m(\u001b[0m\u001b[0mresponse\u001b[0m\u001b[1;33m)\u001b[0m\u001b[1;33m\u001b[0m\u001b[1;33m\u001b[0m\u001b[0m\n\u001b[0m\u001b[0;32m    322\u001b[0m             response['value'] = self._unwrap_value(\n\u001b[0;32m    323\u001b[0m                 response.get('value', None))\n",
      "\u001b[1;32mc:\\users\\mayda\\appdata\\local\\programs\\python\\python39\\lib\\site-packages\\selenium\\webdriver\\remote\\errorhandler.py\u001b[0m in \u001b[0;36mcheck_response\u001b[1;34m(self, response)\u001b[0m\n\u001b[0;32m    240\u001b[0m                 \u001b[0malert_text\u001b[0m \u001b[1;33m=\u001b[0m \u001b[0mvalue\u001b[0m\u001b[1;33m[\u001b[0m\u001b[1;34m'alert'\u001b[0m\u001b[1;33m]\u001b[0m\u001b[1;33m.\u001b[0m\u001b[0mget\u001b[0m\u001b[1;33m(\u001b[0m\u001b[1;34m'text'\u001b[0m\u001b[1;33m)\u001b[0m\u001b[1;33m\u001b[0m\u001b[1;33m\u001b[0m\u001b[0m\n\u001b[0;32m    241\u001b[0m             \u001b[1;32mraise\u001b[0m \u001b[0mexception_class\u001b[0m\u001b[1;33m(\u001b[0m\u001b[0mmessage\u001b[0m\u001b[1;33m,\u001b[0m \u001b[0mscreen\u001b[0m\u001b[1;33m,\u001b[0m \u001b[0mstacktrace\u001b[0m\u001b[1;33m,\u001b[0m \u001b[0malert_text\u001b[0m\u001b[1;33m)\u001b[0m\u001b[1;33m\u001b[0m\u001b[1;33m\u001b[0m\u001b[0m\n\u001b[1;32m--> 242\u001b[1;33m         \u001b[1;32mraise\u001b[0m \u001b[0mexception_class\u001b[0m\u001b[1;33m(\u001b[0m\u001b[0mmessage\u001b[0m\u001b[1;33m,\u001b[0m \u001b[0mscreen\u001b[0m\u001b[1;33m,\u001b[0m \u001b[0mstacktrace\u001b[0m\u001b[1;33m)\u001b[0m\u001b[1;33m\u001b[0m\u001b[1;33m\u001b[0m\u001b[0m\n\u001b[0m\u001b[0;32m    243\u001b[0m \u001b[1;33m\u001b[0m\u001b[0m\n\u001b[0;32m    244\u001b[0m     \u001b[1;32mdef\u001b[0m \u001b[0m_value_or_default\u001b[0m\u001b[1;33m(\u001b[0m\u001b[0mself\u001b[0m\u001b[1;33m,\u001b[0m \u001b[0mobj\u001b[0m\u001b[1;33m,\u001b[0m \u001b[0mkey\u001b[0m\u001b[1;33m,\u001b[0m \u001b[0mdefault\u001b[0m\u001b[1;33m)\u001b[0m\u001b[1;33m:\u001b[0m\u001b[1;33m\u001b[0m\u001b[1;33m\u001b[0m\u001b[0m\n",
      "\u001b[1;31mNoSuchElementException\u001b[0m: Message: no such element: Unable to locate element: {\"method\":\"xpath\",\"selector\":\"/html/body/form/div[5]/div/input\"}\n  (Session info: chrome=91.0.4472.77)\n"
     ]
    }
   ],
   "source": [
    "# 大華科大\n",
    "from selenium import webdriver \n",
    "from selenium.webdriver.support.ui import Select\n",
    "from selenium.webdriver.chrome.options import Options\n",
    "from selenium.webdriver.common.action_chains import ActionChains\n",
    "import time\n",
    "\n",
    "driver = webdriver.Chrome(\"C:\\\\Users\\mayda\\Downloads\\chromedriver\") \n",
    "driver.get(\"http://120.105.200.57/search.html\") # 更改網址以前往不同網頁\n",
    "ISBN = input()\n",
    "element = driver.find_element_by_xpath(\"/html/body/form/div[5]/div/input\")\n",
    "element.send_keys(ISBN)\n",
    "search_gogogo = driver.find_element_by_class_name('btn.btn-primary').click()\n",
    "time.sleep(2)\n",
    "where = driver.find_element_by_xpath(\"/html/body/table[2]/tbody/tr[2]/td[2]/a/span\").click()\n",
    "time.sleep(3)\n",
    "table = driver.find_element_by_xpath('/html/body/table/tbody/tr[1]/td/table[1]')\n",
    "trlist = table.find_elements_by_tag_name('tr')\n",
    "for row in trlist:\n",
    "    tdlist = row.find_elements_by_tag_name('td')\n",
    "    for sth in tdlist:\n",
    "        print('大華科大', tdlist[1].text, tdlist[3].text, end = \"\\n\")\n",
    "        break\n",
    "    \n",
    "driver.close()"
   ]
  },
  {
   "cell_type": "code",
   "execution_count": 5,
   "metadata": {},
   "outputs": [
    {
     "name": "stdout",
     "output_type": "stream",
     "text": [
      "馬偕醫學院 醫學院圖書館 在書架上 550.1657 4362\n"
     ]
    }
   ],
   "source": [
>>>>>>> a51324008d2a7e608dd03ff18490991c5fdf8965
    "from selenium import webdriver # 先下載 webdriver\r\n",
    "from selenium.webdriver.support.ui import Select\r\n",
    "from selenium.webdriver.chrome.options import Options\r\n",
    "from selenium.webdriver.common.action_chains import ActionChains\r\n",
    "import time\r\n",
    "\r\n",
<<<<<<< HEAD
    "driver = webdriver.Chrome(\"C:\\\\Users\\\\88698\\\\OneDrive\\\\文件\\\\chromedriver\") \r\n",
    "driver.get(\"http://163.25.34.60:8080/toread/opac/advancedsearch;jsessionid=7A1FFB1C7A08DAD84290696CA6E2F040\") # 更改網址以前往不同網頁\r\n",
    "ISBN = input()\r\n",
    "element = driver.find_element_by_id('searchTerm1')\r\n",
    "element.send_keys(ISBN)\r\n",
    "select = Select(driver.find_element_by_id('field1'))\r\n",
    "select.select_by_value(\"isbn_issn\")\r\n",
    "search_gogogo = driver.find_element_by_id(\"search\").click()\r\n",
    "time.sleep(5)\r\n",
    "where = driver.find_element_by_id(\"MyPageLink_1\").click()\r\n",
    "time.sleep(5)\r\n",
    "table = driver.find_element_by_class_name('gridTable')\r\n",
    "trlist = table.find_elements_by_tag_name('tr')\r\n",
    "for row in trlist:\r\n",
    "    tdlist = row.find_elements_by_tag_name('td')\r\n",
    "    for sth in tdlist:\r\n",
    "        print(\"新生醫專\", tdlist[2].text,, tdlist[5].text, tdlist[7].text, end = \"\\n\")\r\n",
=======
    "driver = webdriver.Chrome(\"C:\\\\Users\\mayda\\Downloads\\chromedriver\") \r\n",
    "driver.get(\"http://aleph.library.mmc.edu.tw\")\r\n",
    "time.sleep(3)\r\n",
    "ISBN = input()\r\n",
    "element = driver.find_element_by_name('y')\r\n",
    "element.send_keys(ISBN)\r\n",
    "select = Select(driver.find_element_by_name('x'))\r\n",
    "select.select_by_value(\"find_WAN\")\r\n",
    "search_gogogo = driver.find_element_by_xpath('/html/body/table[6]/tbody/tr/td[2]/input[2]').click()\r\n",
    "time.sleep(5)\r\n",
    "\r\n",
    "where2 = driver.find_element_by_class_name(\"brieftit\").click()\r\n",
    "time.sleep(5)\r\n",
    "where3 = driver.find_element_by_xpath(\"/html/body/table[9]/tbody/tr/td[1]/table/tbody/tr[1]/td[2]/span/a[1]\").click()\r\n",
    "time.sleep(3)\r\n",
    "table = driver.find_element_by_xpath('/html/body/table[10]')\r\n",
    "trlist = table.find_elements_by_tag_name('tr')\r\n",
    "for row in trlist[0:2]:\r\n",
    "    tdlist = row.find_elements_by_tag_name('td')\r\n",
    "    for sth in tdlist:\r\n",
    "        print('馬偕醫學院', tdlist[2].text, tdlist[7].text, tdlist[4].text, end = \"\\n\")\r\n",
>>>>>>> a51324008d2a7e608dd03ff18490991c5fdf8965
    "        break\r\n",
    "driver.close()"
   ]
  },
  {
   "cell_type": "code",
<<<<<<< HEAD
   "execution_count": 4,
=======
   "execution_count": 6,
>>>>>>> a51324008d2a7e608dd03ff18490991c5fdf8965
   "metadata": {},
   "outputs": [
    {
     "ename": "NoSuchElementException",
<<<<<<< HEAD
     "evalue": "Message: no such element: Unable to locate element: {\"method\":\"xpath\",\"selector\":\"/html/body/form/div[5]/div/input\"}\n  (Session info: chrome=91.0.4472.124)\n",
=======
     "evalue": "Message: no such element: Unable to locate element: {\"method\":\"xpath\",\"selector\":\"/html/body/div/div[1]/div[2]/div/div/div[2]/div/div[4]/form/div/div[2]/div[2]/div[1]/h2/a\"}\n  (Session info: chrome=91.0.4472.77)\n",
>>>>>>> a51324008d2a7e608dd03ff18490991c5fdf8965
     "output_type": "error",
     "traceback": [
      "\u001b[1;31m---------------------------------------------------------------------------\u001b[0m",
      "\u001b[1;31mNoSuchElementException\u001b[0m                    Traceback (most recent call last)",
<<<<<<< HEAD
      "\u001b[1;32m<ipython-input-4-c5810663bca2>\u001b[0m in \u001b[0;36m<module>\u001b[1;34m\u001b[0m\n\u001b[0;32m      9\u001b[0m \u001b[0mdriver\u001b[0m\u001b[1;33m.\u001b[0m\u001b[0mget\u001b[0m\u001b[1;33m(\u001b[0m\u001b[1;34m\"http://120.105.200.57/search.html\"\u001b[0m\u001b[1;33m)\u001b[0m \u001b[1;31m# 更改網址以前往不同網頁\u001b[0m\u001b[1;33m\u001b[0m\u001b[1;33m\u001b[0m\u001b[0m\n\u001b[0;32m     10\u001b[0m \u001b[0mISBN\u001b[0m \u001b[1;33m=\u001b[0m \u001b[0minput\u001b[0m\u001b[1;33m(\u001b[0m\u001b[1;33m)\u001b[0m\u001b[1;33m\u001b[0m\u001b[1;33m\u001b[0m\u001b[0m\n\u001b[1;32m---> 11\u001b[1;33m \u001b[0melement\u001b[0m \u001b[1;33m=\u001b[0m \u001b[0mdriver\u001b[0m\u001b[1;33m.\u001b[0m\u001b[0mfind_element_by_xpath\u001b[0m\u001b[1;33m(\u001b[0m\u001b[1;34m\"/html/body/form/div[5]/div/input\"\u001b[0m\u001b[1;33m)\u001b[0m\u001b[1;33m\u001b[0m\u001b[1;33m\u001b[0m\u001b[0m\n\u001b[0m\u001b[0;32m     12\u001b[0m \u001b[0melement\u001b[0m\u001b[1;33m.\u001b[0m\u001b[0msend_keys\u001b[0m\u001b[1;33m(\u001b[0m\u001b[0mISBN\u001b[0m\u001b[1;33m)\u001b[0m\u001b[1;33m\u001b[0m\u001b[1;33m\u001b[0m\u001b[0m\n\u001b[0;32m     13\u001b[0m \u001b[0msearch_gogogo\u001b[0m \u001b[1;33m=\u001b[0m \u001b[0mdriver\u001b[0m\u001b[1;33m.\u001b[0m\u001b[0mfind_element_by_class_name\u001b[0m\u001b[1;33m(\u001b[0m\u001b[1;34m'btn.btn-primary'\u001b[0m\u001b[1;33m)\u001b[0m\u001b[1;33m.\u001b[0m\u001b[0mclick\u001b[0m\u001b[1;33m(\u001b[0m\u001b[1;33m)\u001b[0m\u001b[1;33m\u001b[0m\u001b[1;33m\u001b[0m\u001b[0m\n",
=======
      "\u001b[1;32m<ipython-input-6-359b84d471af>\u001b[0m in \u001b[0;36m<module>\u001b[1;34m\u001b[0m\n\u001b[0;32m     22\u001b[0m \u001b[1;33m\u001b[0m\u001b[0m\n\u001b[0;32m     23\u001b[0m \u001b[0mtime\u001b[0m\u001b[1;33m.\u001b[0m\u001b[0msleep\u001b[0m\u001b[1;33m(\u001b[0m\u001b[1;36m5\u001b[0m\u001b[1;33m)\u001b[0m\u001b[1;33m\u001b[0m\u001b[1;33m\u001b[0m\u001b[0m\n\u001b[1;32m---> 24\u001b[1;33m \u001b[0mfirstbook\u001b[0m \u001b[1;33m=\u001b[0m \u001b[0mdriver\u001b[0m\u001b[1;33m.\u001b[0m\u001b[0mfind_element_by_xpath\u001b[0m\u001b[1;33m(\u001b[0m\u001b[1;34m'/html/body/div/div[1]/div[2]/div/div/div[2]/div/div[4]/form/div/div[2]/div[2]/div[1]/h2/a'\u001b[0m\u001b[1;33m)\u001b[0m\u001b[1;33m.\u001b[0m\u001b[0mclick\u001b[0m\u001b[1;33m(\u001b[0m\u001b[1;33m)\u001b[0m\u001b[1;33m\u001b[0m\u001b[1;33m\u001b[0m\u001b[0m\n\u001b[0m\u001b[0;32m     25\u001b[0m \u001b[0mtime\u001b[0m\u001b[1;33m.\u001b[0m\u001b[0msleep\u001b[0m\u001b[1;33m(\u001b[0m\u001b[1;36m2\u001b[0m\u001b[1;33m)\u001b[0m\u001b[1;33m\u001b[0m\u001b[1;33m\u001b[0m\u001b[0m\n\u001b[0;32m     26\u001b[0m \u001b[0mtable\u001b[0m \u001b[1;33m=\u001b[0m \u001b[0mdriver\u001b[0m\u001b[1;33m.\u001b[0m\u001b[0mfind_element_by_class_name\u001b[0m\u001b[1;33m(\u001b[0m\u001b[1;34m'bookplace_list'\u001b[0m\u001b[1;33m)\u001b[0m\u001b[1;33m\u001b[0m\u001b[1;33m\u001b[0m\u001b[0m\n",
>>>>>>> a51324008d2a7e608dd03ff18490991c5fdf8965
      "\u001b[1;32m~\\AppData\\Local\\Programs\\Python\\Python39\\lib\\site-packages\\selenium\\webdriver\\remote\\webdriver.py\u001b[0m in \u001b[0;36mfind_element_by_xpath\u001b[1;34m(self, xpath)\u001b[0m\n\u001b[0;32m    392\u001b[0m             \u001b[0melement\u001b[0m \u001b[1;33m=\u001b[0m \u001b[0mdriver\u001b[0m\u001b[1;33m.\u001b[0m\u001b[0mfind_element_by_xpath\u001b[0m\u001b[1;33m(\u001b[0m\u001b[1;34m'//div/td[1]'\u001b[0m\u001b[1;33m)\u001b[0m\u001b[1;33m\u001b[0m\u001b[1;33m\u001b[0m\u001b[0m\n\u001b[0;32m    393\u001b[0m         \"\"\"\n\u001b[1;32m--> 394\u001b[1;33m         \u001b[1;32mreturn\u001b[0m \u001b[0mself\u001b[0m\u001b[1;33m.\u001b[0m\u001b[0mfind_element\u001b[0m\u001b[1;33m(\u001b[0m\u001b[0mby\u001b[0m\u001b[1;33m=\u001b[0m\u001b[0mBy\u001b[0m\u001b[1;33m.\u001b[0m\u001b[0mXPATH\u001b[0m\u001b[1;33m,\u001b[0m \u001b[0mvalue\u001b[0m\u001b[1;33m=\u001b[0m\u001b[0mxpath\u001b[0m\u001b[1;33m)\u001b[0m\u001b[1;33m\u001b[0m\u001b[1;33m\u001b[0m\u001b[0m\n\u001b[0m\u001b[0;32m    395\u001b[0m \u001b[1;33m\u001b[0m\u001b[0m\n\u001b[0;32m    396\u001b[0m     \u001b[1;32mdef\u001b[0m \u001b[0mfind_elements_by_xpath\u001b[0m\u001b[1;33m(\u001b[0m\u001b[0mself\u001b[0m\u001b[1;33m,\u001b[0m \u001b[0mxpath\u001b[0m\u001b[1;33m)\u001b[0m\u001b[1;33m:\u001b[0m\u001b[1;33m\u001b[0m\u001b[1;33m\u001b[0m\u001b[0m\n",
      "\u001b[1;32m~\\AppData\\Local\\Programs\\Python\\Python39\\lib\\site-packages\\selenium\\webdriver\\remote\\webdriver.py\u001b[0m in \u001b[0;36mfind_element\u001b[1;34m(self, by, value)\u001b[0m\n\u001b[0;32m    974\u001b[0m                 \u001b[0mby\u001b[0m \u001b[1;33m=\u001b[0m \u001b[0mBy\u001b[0m\u001b[1;33m.\u001b[0m\u001b[0mCSS_SELECTOR\u001b[0m\u001b[1;33m\u001b[0m\u001b[1;33m\u001b[0m\u001b[0m\n\u001b[0;32m    975\u001b[0m                 \u001b[0mvalue\u001b[0m \u001b[1;33m=\u001b[0m \u001b[1;34m'[name=\"%s\"]'\u001b[0m \u001b[1;33m%\u001b[0m \u001b[0mvalue\u001b[0m\u001b[1;33m\u001b[0m\u001b[1;33m\u001b[0m\u001b[0m\n\u001b[1;32m--> 976\u001b[1;33m         return self.execute(Command.FIND_ELEMENT, {\n\u001b[0m\u001b[0;32m    977\u001b[0m             \u001b[1;34m'using'\u001b[0m\u001b[1;33m:\u001b[0m \u001b[0mby\u001b[0m\u001b[1;33m,\u001b[0m\u001b[1;33m\u001b[0m\u001b[1;33m\u001b[0m\u001b[0m\n\u001b[0;32m    978\u001b[0m             'value': value})['value']\n",
      "\u001b[1;32m~\\AppData\\Local\\Programs\\Python\\Python39\\lib\\site-packages\\selenium\\webdriver\\remote\\webdriver.py\u001b[0m in \u001b[0;36mexecute\u001b[1;34m(self, driver_command, params)\u001b[0m\n\u001b[0;32m    319\u001b[0m         \u001b[0mresponse\u001b[0m \u001b[1;33m=\u001b[0m \u001b[0mself\u001b[0m\u001b[1;33m.\u001b[0m\u001b[0mcommand_executor\u001b[0m\u001b[1;33m.\u001b[0m\u001b[0mexecute\u001b[0m\u001b[1;33m(\u001b[0m\u001b[0mdriver_command\u001b[0m\u001b[1;33m,\u001b[0m \u001b[0mparams\u001b[0m\u001b[1;33m)\u001b[0m\u001b[1;33m\u001b[0m\u001b[1;33m\u001b[0m\u001b[0m\n\u001b[0;32m    320\u001b[0m         \u001b[1;32mif\u001b[0m \u001b[0mresponse\u001b[0m\u001b[1;33m:\u001b[0m\u001b[1;33m\u001b[0m\u001b[1;33m\u001b[0m\u001b[0m\n\u001b[1;32m--> 321\u001b[1;33m             \u001b[0mself\u001b[0m\u001b[1;33m.\u001b[0m\u001b[0merror_handler\u001b[0m\u001b[1;33m.\u001b[0m\u001b[0mcheck_response\u001b[0m\u001b[1;33m(\u001b[0m\u001b[0mresponse\u001b[0m\u001b[1;33m)\u001b[0m\u001b[1;33m\u001b[0m\u001b[1;33m\u001b[0m\u001b[0m\n\u001b[0m\u001b[0;32m    322\u001b[0m             response['value'] = self._unwrap_value(\n\u001b[0;32m    323\u001b[0m                 response.get('value', None))\n",
      "\u001b[1;32m~\\AppData\\Local\\Programs\\Python\\Python39\\lib\\site-packages\\selenium\\webdriver\\remote\\errorhandler.py\u001b[0m in \u001b[0;36mcheck_response\u001b[1;34m(self, response)\u001b[0m\n\u001b[0;32m    240\u001b[0m                 \u001b[0malert_text\u001b[0m \u001b[1;33m=\u001b[0m \u001b[0mvalue\u001b[0m\u001b[1;33m[\u001b[0m\u001b[1;34m'alert'\u001b[0m\u001b[1;33m]\u001b[0m\u001b[1;33m.\u001b[0m\u001b[0mget\u001b[0m\u001b[1;33m(\u001b[0m\u001b[1;34m'text'\u001b[0m\u001b[1;33m)\u001b[0m\u001b[1;33m\u001b[0m\u001b[1;33m\u001b[0m\u001b[0m\n\u001b[0;32m    241\u001b[0m             \u001b[1;32mraise\u001b[0m \u001b[0mexception_class\u001b[0m\u001b[1;33m(\u001b[0m\u001b[0mmessage\u001b[0m\u001b[1;33m,\u001b[0m \u001b[0mscreen\u001b[0m\u001b[1;33m,\u001b[0m \u001b[0mstacktrace\u001b[0m\u001b[1;33m,\u001b[0m \u001b[0malert_text\u001b[0m\u001b[1;33m)\u001b[0m\u001b[1;33m\u001b[0m\u001b[1;33m\u001b[0m\u001b[0m\n\u001b[1;32m--> 242\u001b[1;33m         \u001b[1;32mraise\u001b[0m \u001b[0mexception_class\u001b[0m\u001b[1;33m(\u001b[0m\u001b[0mmessage\u001b[0m\u001b[1;33m,\u001b[0m \u001b[0mscreen\u001b[0m\u001b[1;33m,\u001b[0m \u001b[0mstacktrace\u001b[0m\u001b[1;33m)\u001b[0m\u001b[1;33m\u001b[0m\u001b[1;33m\u001b[0m\u001b[0m\n\u001b[0m\u001b[0;32m    243\u001b[0m \u001b[1;33m\u001b[0m\u001b[0m\n\u001b[0;32m    244\u001b[0m     \u001b[1;32mdef\u001b[0m \u001b[0m_value_or_default\u001b[0m\u001b[1;33m(\u001b[0m\u001b[0mself\u001b[0m\u001b[1;33m,\u001b[0m \u001b[0mobj\u001b[0m\u001b[1;33m,\u001b[0m \u001b[0mkey\u001b[0m\u001b[1;33m,\u001b[0m \u001b[0mdefault\u001b[0m\u001b[1;33m)\u001b[0m\u001b[1;33m:\u001b[0m\u001b[1;33m\u001b[0m\u001b[1;33m\u001b[0m\u001b[0m\n",
<<<<<<< HEAD
      "\u001b[1;31mNoSuchElementException\u001b[0m: Message: no such element: Unable to locate element: {\"method\":\"xpath\",\"selector\":\"/html/body/form/div[5]/div/input\"}\n  (Session info: chrome=91.0.4472.124)\n"
=======
      "\u001b[1;31mNoSuchElementException\u001b[0m: Message: no such element: Unable to locate element: {\"method\":\"xpath\",\"selector\":\"/html/body/div/div[1]/div[2]/div/div/div[2]/div/div[4]/form/div/div[2]/div[2]/div[1]/h2/a\"}\n  (Session info: chrome=91.0.4472.77)\n"
>>>>>>> a51324008d2a7e608dd03ff18490991c5fdf8965
     ]
    }
   ],
   "source": [
<<<<<<< HEAD
    "# 大華科大\r\n",
    "from selenium import webdriver \r\n",
=======
    "# 桃園\r\n",
    "from selenium import webdriver # 先下載 webdriver\r\n",
>>>>>>> a51324008d2a7e608dd03ff18490991c5fdf8965
    "from selenium.webdriver.support.ui import Select\r\n",
    "from selenium.webdriver.chrome.options import Options\r\n",
    "from selenium.webdriver.common.action_chains import ActionChains\r\n",
    "import time\r\n",
    "\r\n",
<<<<<<< HEAD
    "driver = webdriver.Chrome(\"C:\\\\Users\\\\88698\\\\OneDrive\\\\文件\\\\chromedriver\") \r\n",
    "driver.get(\"http://120.105.200.57/search.html\") # 更改網址以前往不同網頁\r\n",
    "ISBN = input()\r\n",
    "element = driver.find_element_by_xpath(\"/html/body/form/div[5]/div/input\")\r\n",
    "element.send_keys(ISBN)\r\n",
    "search_gogogo = driver.find_element_by_class_name('btn.btn-primary').click()\r\n",
    "time.sleep(2)\r\n",
    "where = driver.find_element_by_xpath(\"/html/body/table[2]/tbody/tr[2]/td[2]/a/span\").click()\r\n",
    "time.sleep(3)\r\n",
    "table = driver.find_element_by_xpath('/html/body/table/tbody/tr[1]/td/table[1]')\r\n",
=======
    "driver = webdriver.Chrome(\"C:\\\\Users\\mayda\\Downloads\\chromedriver\") \r\n",
    "driver.get(\"https://webpac.typl.gov.tw/advanceSearch\")\r\n",
    "time.sleep(5)\r\n",
    "ISBN = input()\r\n",
    "element = driver.find_element_by_name('searchInput')\r\n",
    "element.send_keys(ISBN)\r\n",
    "select = Select(driver.find_element_by_name('searchField'))\r\n",
    "select.select_by_value(\"ISBN\")\r\n",
    "search_gogogo = driver.find_element_by_xpath('//html/body/div/div[1]/div/div/div/div/div/div[2]/div/div/form/div[1]/div/input[2]').click()\r\n",
    "time.sleep(10)\r\n",
    "try:\r\n",
    "    show_more = driver.find_element_by_link_text(\"載入更多\").click()\r\n",
    "except:\r\n",
    "    show_more = None\r\n",
    "    \r\n",
    "time.sleep(5)  \r\n",
    "firstbook = driver.find_element_by_xpath('/html/body/div/div[1]/div[2]/div/div/div[2]/div/div[4]/form/div/div[2]/div[2]/div[1]/h2/a').click()\r\n",
    "time.sleep(2) \r\n",
    "table = driver.find_element_by_class_name('bookplace_list')\r\n",
>>>>>>> a51324008d2a7e608dd03ff18490991c5fdf8965
    "trlist = table.find_elements_by_tag_name('tr')\r\n",
    "for row in trlist:\r\n",
    "    tdlist = row.find_elements_by_tag_name('td')\r\n",
    "    for sth in tdlist:\r\n",
<<<<<<< HEAD
    "        print('大華科大', tdlist[1].text, tdlist[3].text, end = \"\\n\")\r\n",
    "        break\r\n",
    "    \r\n",
=======
    "        print('桃園市立圖書館', tdlist[0].text, tdlist[3].text, end = \"\\n\")\r\n",
    "        break\r\n",
    "backtolist = driver.find_element_by_link_text('查詢列表頁').click()\r\n",
    "time.sleep(5)\r\n",
    "secondbook = driver.find_element_by_xpath('/html/body/div/div[1]/div/div/div/div[2]/div/div[4]/form/div/div[3]/div[2]/div[1]/h2/a').click()\r\n",
    "time.sleep(2) \r\n",
    "table = driver.find_element_by_class_name('bookplace_list')\r\n",
    "trlist = table.find_elements_by_tag_name('tr')\r\n",
    "for row in trlist:\r\n",
    "    tdlist = row.find_elements_by_tag_name('td')\r\n",
    "    for sth in tdlist:\r\n",
    "        print('桃園市立圖書館', tdlist[0].text, tdlist[3].text, end = \"\\n\")\r\n",
    "        break\r\n",
    "backtolist = driver.find_element_by_link_text('查詢列表頁').click()\r\n",
>>>>>>> a51324008d2a7e608dd03ff18490991c5fdf8965
    "driver.close()"
   ]
  },
  {
   "cell_type": "code",
<<<<<<< HEAD
   "execution_count": 18,
   "metadata": {},
   "outputs": [
    {
     "name": "stdout",
     "output_type": "stream",
     "text": [
      "9789869109321\n"
     ]
    },
    {
     "ename": "NoSuchElementException",
     "evalue": "Message: no such element: Unable to locate element: {\"method\":\"css selector\",\"selector\":\"[id=\"SearchTerm1\"]\"}\n  (Session info: chrome=91.0.4472.77)\n",
     "output_type": "error",
     "traceback": [
      "\u001b[1;31m---------------------------------------------------------------------------\u001b[0m",
      "\u001b[1;31mNoSuchElementException\u001b[0m                    Traceback (most recent call last)",
      "\u001b[1;32m<ipython-input-18-2c78a0e418c0>\u001b[0m in \u001b[0;36m<module>\u001b[1;34m\u001b[0m\n\u001b[0;32m      9\u001b[0m \u001b[0mdriver\u001b[0m\u001b[1;33m.\u001b[0m\u001b[0mget\u001b[0m\u001b[1;33m(\u001b[0m\u001b[1;34m\"http://eds.a.ebscohost.com/eds/search/basic?vid=1&sid=12d25d45-22ff-44f5-8cac-2fe8a32c0b45%40sessionmgr4007\"\u001b[0m\u001b[1;33m)\u001b[0m \u001b[1;31m# 更改網址以前往不同網頁\u001b[0m\u001b[1;33m\u001b[0m\u001b[1;33m\u001b[0m\u001b[0m\n\u001b[0;32m     10\u001b[0m \u001b[0mISBN\u001b[0m \u001b[1;33m=\u001b[0m \u001b[0minput\u001b[0m\u001b[1;33m(\u001b[0m\u001b[1;33m)\u001b[0m\u001b[1;33m\u001b[0m\u001b[1;33m\u001b[0m\u001b[0m\n\u001b[1;32m---> 11\u001b[1;33m \u001b[0melement\u001b[0m \u001b[1;33m=\u001b[0m \u001b[0mdriver\u001b[0m\u001b[1;33m.\u001b[0m\u001b[0mfind_element_by_id\u001b[0m\u001b[1;33m(\u001b[0m\u001b[1;34m'SearchTerm1'\u001b[0m\u001b[1;33m)\u001b[0m\u001b[1;33m\u001b[0m\u001b[1;33m\u001b[0m\u001b[0m\n\u001b[0m\u001b[0;32m     12\u001b[0m \u001b[0melement\u001b[0m\u001b[1;33m.\u001b[0m\u001b[0msend_keys\u001b[0m\u001b[1;33m(\u001b[0m\u001b[0mISBN\u001b[0m\u001b[1;33m)\u001b[0m\u001b[1;33m\u001b[0m\u001b[1;33m\u001b[0m\u001b[0m\n\u001b[0;32m     13\u001b[0m \u001b[0msearch_gogogo\u001b[0m \u001b[1;33m=\u001b[0m \u001b[0mdriver\u001b[0m\u001b[1;33m.\u001b[0m\u001b[0mfind_element_by_id\u001b[0m\u001b[1;33m(\u001b[0m\u001b[1;34m'SearchButton'\u001b[0m\u001b[1;33m)\u001b[0m\u001b[1;33m.\u001b[0m\u001b[0mclick\u001b[0m\u001b[1;33m(\u001b[0m\u001b[1;33m)\u001b[0m\u001b[1;33m\u001b[0m\u001b[1;33m\u001b[0m\u001b[0m\n",
      "\u001b[1;32mc:\\users\\mayda\\appdata\\local\\programs\\python\\python39\\lib\\site-packages\\selenium\\webdriver\\remote\\webdriver.py\u001b[0m in \u001b[0;36mfind_element_by_id\u001b[1;34m(self, id_)\u001b[0m\n\u001b[0;32m    358\u001b[0m             \u001b[0melement\u001b[0m \u001b[1;33m=\u001b[0m \u001b[0mdriver\u001b[0m\u001b[1;33m.\u001b[0m\u001b[0mfind_element_by_id\u001b[0m\u001b[1;33m(\u001b[0m\u001b[1;34m'foo'\u001b[0m\u001b[1;33m)\u001b[0m\u001b[1;33m\u001b[0m\u001b[1;33m\u001b[0m\u001b[0m\n\u001b[0;32m    359\u001b[0m         \"\"\"\n\u001b[1;32m--> 360\u001b[1;33m         \u001b[1;32mreturn\u001b[0m \u001b[0mself\u001b[0m\u001b[1;33m.\u001b[0m\u001b[0mfind_element\u001b[0m\u001b[1;33m(\u001b[0m\u001b[0mby\u001b[0m\u001b[1;33m=\u001b[0m\u001b[0mBy\u001b[0m\u001b[1;33m.\u001b[0m\u001b[0mID\u001b[0m\u001b[1;33m,\u001b[0m \u001b[0mvalue\u001b[0m\u001b[1;33m=\u001b[0m\u001b[0mid_\u001b[0m\u001b[1;33m)\u001b[0m\u001b[1;33m\u001b[0m\u001b[1;33m\u001b[0m\u001b[0m\n\u001b[0m\u001b[0;32m    361\u001b[0m \u001b[1;33m\u001b[0m\u001b[0m\n\u001b[0;32m    362\u001b[0m     \u001b[1;32mdef\u001b[0m \u001b[0mfind_elements_by_id\u001b[0m\u001b[1;33m(\u001b[0m\u001b[0mself\u001b[0m\u001b[1;33m,\u001b[0m \u001b[0mid_\u001b[0m\u001b[1;33m)\u001b[0m\u001b[1;33m:\u001b[0m\u001b[1;33m\u001b[0m\u001b[1;33m\u001b[0m\u001b[0m\n",
      "\u001b[1;32mc:\\users\\mayda\\appdata\\local\\programs\\python\\python39\\lib\\site-packages\\selenium\\webdriver\\remote\\webdriver.py\u001b[0m in \u001b[0;36mfind_element\u001b[1;34m(self, by, value)\u001b[0m\n\u001b[0;32m    974\u001b[0m                 \u001b[0mby\u001b[0m \u001b[1;33m=\u001b[0m \u001b[0mBy\u001b[0m\u001b[1;33m.\u001b[0m\u001b[0mCSS_SELECTOR\u001b[0m\u001b[1;33m\u001b[0m\u001b[1;33m\u001b[0m\u001b[0m\n\u001b[0;32m    975\u001b[0m                 \u001b[0mvalue\u001b[0m \u001b[1;33m=\u001b[0m \u001b[1;34m'[name=\"%s\"]'\u001b[0m \u001b[1;33m%\u001b[0m \u001b[0mvalue\u001b[0m\u001b[1;33m\u001b[0m\u001b[1;33m\u001b[0m\u001b[0m\n\u001b[1;32m--> 976\u001b[1;33m         return self.execute(Command.FIND_ELEMENT, {\n\u001b[0m\u001b[0;32m    977\u001b[0m             \u001b[1;34m'using'\u001b[0m\u001b[1;33m:\u001b[0m \u001b[0mby\u001b[0m\u001b[1;33m,\u001b[0m\u001b[1;33m\u001b[0m\u001b[1;33m\u001b[0m\u001b[0m\n\u001b[0;32m    978\u001b[0m             'value': value})['value']\n",
      "\u001b[1;32mc:\\users\\mayda\\appdata\\local\\programs\\python\\python39\\lib\\site-packages\\selenium\\webdriver\\remote\\webdriver.py\u001b[0m in \u001b[0;36mexecute\u001b[1;34m(self, driver_command, params)\u001b[0m\n\u001b[0;32m    319\u001b[0m         \u001b[0mresponse\u001b[0m \u001b[1;33m=\u001b[0m \u001b[0mself\u001b[0m\u001b[1;33m.\u001b[0m\u001b[0mcommand_executor\u001b[0m\u001b[1;33m.\u001b[0m\u001b[0mexecute\u001b[0m\u001b[1;33m(\u001b[0m\u001b[0mdriver_command\u001b[0m\u001b[1;33m,\u001b[0m \u001b[0mparams\u001b[0m\u001b[1;33m)\u001b[0m\u001b[1;33m\u001b[0m\u001b[1;33m\u001b[0m\u001b[0m\n\u001b[0;32m    320\u001b[0m         \u001b[1;32mif\u001b[0m \u001b[0mresponse\u001b[0m\u001b[1;33m:\u001b[0m\u001b[1;33m\u001b[0m\u001b[1;33m\u001b[0m\u001b[0m\n\u001b[1;32m--> 321\u001b[1;33m             \u001b[0mself\u001b[0m\u001b[1;33m.\u001b[0m\u001b[0merror_handler\u001b[0m\u001b[1;33m.\u001b[0m\u001b[0mcheck_response\u001b[0m\u001b[1;33m(\u001b[0m\u001b[0mresponse\u001b[0m\u001b[1;33m)\u001b[0m\u001b[1;33m\u001b[0m\u001b[1;33m\u001b[0m\u001b[0m\n\u001b[0m\u001b[0;32m    322\u001b[0m             response['value'] = self._unwrap_value(\n\u001b[0;32m    323\u001b[0m                 response.get('value', None))\n",
      "\u001b[1;32mc:\\users\\mayda\\appdata\\local\\programs\\python\\python39\\lib\\site-packages\\selenium\\webdriver\\remote\\errorhandler.py\u001b[0m in \u001b[0;36mcheck_response\u001b[1;34m(self, response)\u001b[0m\n\u001b[0;32m    240\u001b[0m                 \u001b[0malert_text\u001b[0m \u001b[1;33m=\u001b[0m \u001b[0mvalue\u001b[0m\u001b[1;33m[\u001b[0m\u001b[1;34m'alert'\u001b[0m\u001b[1;33m]\u001b[0m\u001b[1;33m.\u001b[0m\u001b[0mget\u001b[0m\u001b[1;33m(\u001b[0m\u001b[1;34m'text'\u001b[0m\u001b[1;33m)\u001b[0m\u001b[1;33m\u001b[0m\u001b[1;33m\u001b[0m\u001b[0m\n\u001b[0;32m    241\u001b[0m             \u001b[1;32mraise\u001b[0m \u001b[0mexception_class\u001b[0m\u001b[1;33m(\u001b[0m\u001b[0mmessage\u001b[0m\u001b[1;33m,\u001b[0m \u001b[0mscreen\u001b[0m\u001b[1;33m,\u001b[0m \u001b[0mstacktrace\u001b[0m\u001b[1;33m,\u001b[0m \u001b[0malert_text\u001b[0m\u001b[1;33m)\u001b[0m\u001b[1;33m\u001b[0m\u001b[1;33m\u001b[0m\u001b[0m\n\u001b[1;32m--> 242\u001b[1;33m         \u001b[1;32mraise\u001b[0m \u001b[0mexception_class\u001b[0m\u001b[1;33m(\u001b[0m\u001b[0mmessage\u001b[0m\u001b[1;33m,\u001b[0m \u001b[0mscreen\u001b[0m\u001b[1;33m,\u001b[0m \u001b[0mstacktrace\u001b[0m\u001b[1;33m)\u001b[0m\u001b[1;33m\u001b[0m\u001b[1;33m\u001b[0m\u001b[0m\n\u001b[0m\u001b[0;32m    243\u001b[0m \u001b[1;33m\u001b[0m\u001b[0m\n\u001b[0;32m    244\u001b[0m     \u001b[1;32mdef\u001b[0m \u001b[0m_value_or_default\u001b[0m\u001b[1;33m(\u001b[0m\u001b[0mself\u001b[0m\u001b[1;33m,\u001b[0m \u001b[0mobj\u001b[0m\u001b[1;33m,\u001b[0m \u001b[0mkey\u001b[0m\u001b[1;33m,\u001b[0m \u001b[0mdefault\u001b[0m\u001b[1;33m)\u001b[0m\u001b[1;33m:\u001b[0m\u001b[1;33m\u001b[0m\u001b[1;33m\u001b[0m\u001b[0m\n",
      "\u001b[1;31mNoSuchElementException\u001b[0m: Message: no such element: Unable to locate element: {\"method\":\"css selector\",\"selector\":\"[id=\"SearchTerm1\"]\"}\n  (Session info: chrome=91.0.4472.77)\n"
     ]
    }
   ],
   "source": []
  },
  {
   "cell_type": "code",
   "execution_count": 34,
   "metadata": {},
   "outputs": [
    {
     "name": "stdout",
     "output_type": "stream",
     "text": [
      "9789868879348\n",
      "桃園市立圖書館 草漯分館/閱覽室 書在館\n",
      "桃園市立圖書館 新屋分館/二樓書庫 書在館\n",
      "桃園市立圖書館 大崗分館/圖書區 書在館\n",
      "桃園市立圖書館 龜山分館/圖書區 已被外借/2021-08-12\n",
      "桃園市立圖書館 龜山分館/圖書區 書在館\n",
      "桃園市立圖書館 龍岡分館/書庫 已被外借/2021-05-14\n",
      "桃園市立圖書館 內壢分館/書庫 書在館\n",
      "桃園市立圖書館 中壢分館/書庫 書在館\n",
      "桃園市立圖書館 中壢分館/書庫 已被外借/2021-08-12\n",
      "桃園市立圖書館 中壢分館/書庫 已被外借/2021-08-12\n",
      "桃園市立圖書館 埔子分館/閱覽室 已被外借/2021-08-12\n",
      "桃園市立圖書館 會稽分館/閱覽室 已被外借/2021-08-12\n",
      "桃園市立圖書館 桃園分館/閱覽室/區 已被外借/2021-08-12\n"
     ]
    }
   ],
   "source": []
  },
  {
   "cell_type": "code",
=======
>>>>>>> a51324008d2a7e608dd03ff18490991c5fdf8965
   "execution_count": 29,
   "metadata": {},
   "outputs": [
    {
     "name": "stdout",
     "output_type": "stream",
     "text": [
      "9789868879348\n",
      "台灣大學 總圖書館 不在圖書館內\n",
      "台灣大學 總圖書館 有可用館藏\n",
      "台灣大學 辜振甫圖書館 不在圖書館內\n"
     ]
    }
   ],
   "source": [
    "# 桃園\n",
    "from selenium import webdriver # 先下載 webdriver\n",
    "from selenium.webdriver.support.ui import Select\n",
    "from selenium.webdriver.chrome.options import Options\n",
    "from selenium.webdriver.common.action_chains import ActionChains\n",
    "import time\n",
    "\n",
    "driver = webdriver.Chrome(\"C:\\\\Users\\mayda\\Downloads\\chromedriver\") \n",
    "driver.get(\"https://webpac.typl.gov.tw/advanceSearch\")\n",
    "time.sleep(5)\n",
    "ISBN = input()\n",
    "element = driver.find_element_by_name('searchInput')\n",
    "element.send_keys(ISBN)\n",
    "select = Select(driver.find_element_by_name('searchField'))\n",
    "select.select_by_value(\"ISBN\")\n",
    "search_gogogo = driver.find_element_by_xpath('//html/body/div/div[1]/div/div/div/div/div/div[2]/div/div/form/div[1]/div/input[2]').click()\n",
    "time.sleep(10)\n",
    "\n",
    "try:\n",
    "    show_more = driver.find_element_by_link_text(\"載入更多\").click()\n",
    "except:\n",
    "    show_more = None\n",
    "    \n",
    "time.sleep(5)  \n",
    "firstbook = driver.find_element_by_xpath('/html/body/div/div[1]/div[2]/div/div/div[2]/div/div[4]/form/div/div[2]/div[2]/div[1]/h2/a').click()\n",
    "time.sleep(2) \n",
    "table = driver.find_element_by_class_name('bookplace_list')\n",
    "trlist = table.find_elements_by_tag_name('tr')\n",
    "for row in trlist:\n",
    "    tdlist = row.find_elements_by_tag_name('td')\n",
    "    for sth in tdlist:\n",
    "        print('桃園市立圖書館', tdlist[0].text, tdlist[3].text, end = \"\\n\")\n",
    "        break\n",
    "backtolist = driver.find_element_by_link_text('查詢列表頁').click()\n",
    "time.sleep(5)\n",
    "secondbook = driver.find_element_by_xpath('/html/body/div/div[1]/div/div/div/div[2]/div/div[4]/form/div/div[3]/div[2]/div[1]/h2/a').click()\n",
    "time.sleep(2) \n",
    "table = driver.find_element_by_class_name('bookplace_list')\n",
    "trlist = table.find_elements_by_tag_name('tr')\n",
    "for row in trlist:\n",
    "    tdlist = row.find_elements_by_tag_name('td')\n",
    "    for sth in tdlist:\n",
    "        print('桃園市立圖書館', tdlist[0].text, tdlist[3].text, end = \"\\n\")\n",
    "        break\n",
    "backtolist = driver.find_element_by_link_text('查詢列表頁').click()\n",
    "driver.close()"
   ]
  },
  {
   "cell_type": "code",
<<<<<<< HEAD
   "execution_count": null,
   "metadata": {},
   "outputs": [],
   "source": []
=======
   "execution_count": 3,
   "metadata": {},
   "outputs": [
    {
     "name": "stdout",
     "output_type": "stream",
     "text": [
      "[        圖書館     館藏地              索書號         館藏狀態\n",
      "0  國立臺灣師範大學  總館5F書架       330.18 081  到期 11-20-21\n",
      "1  國立臺灣師範大學  總館5F書架       330.18 081          可外借\n",
      "2  國立臺灣師範大學    公館分館  330.18 081 2015  到期 09-16-21]\n"
     ]
    }
   ],
   "source": [
    "# 環境設置\r\n",
    "from selenium import webdriver\r\n",
    "from selenium.webdriver.chrome.options import Options\r\n",
    "from selenium.webdriver.support.ui import Select\r\n",
    "import pandas as pd\r\n",
    "import requests\r\n",
    "import requests.packages.urllib3\r\n",
    "requests.packages.urllib3.disable_warnings()\r\n",
    "from bs4 import BeautifulSoup\r\n",
    "import time\r\n",
    "\r\n",
    "ISBN = 9789869109321  # 二十一世紀資本論\r\n",
    "\r\n",
    "df_lst = []  # 裝著各種表格的 list\r\n",
    "\r\n",
    "my_options = Options()\r\n",
    "my_options.add_argument(\"--incognito\")  # 開啟無痕模式\r\n",
    "# my_options.add_argument(\"--headless\")  # 不開啟實體瀏覽器\r\n",
    "driver = webdriver.Chrome(\"C:\\\\Users\\mayda\\Downloads\\chromedriver\", options=my_options)\r\n",
    "\r\n",
    "try:\r\n",
    "    url = f\"https://opac.lib.ntnu.edu.tw/search*cht/i?SEARCH={ISBN}\"\r\n",
    "    dfs = pd.read_html(url, encoding=\"utf-8\")\r\n",
    "    df_ntnu = dfs[4]\r\n",
    "\r\n",
    "    df_ntnu.insert(0, \"圖書館\", [\"國立臺灣師範大學\" for i in range(df_ntnu.shape[0])])\r\n",
    "    df_ntnu.pop(\"條碼\")  # 等同於：df_ntnu = df_ntnu.drop(df_ntnu.columns[[2]], axis=1)\r\n",
    "    df_ntnu.rename(columns={\"處理狀態\": \"館藏狀態\"}, inplace=True)\r\n",
    "    df_lst.append(df_ntnu)\r\n",
    "except:\r\n",
    "    print(f\"「{url}」無法爬取！\")\r\n",
    "\r\n",
    "print(df_lst)"
   ]
  },
  {
   "cell_type": "code",
   "execution_count": 3,
   "metadata": {},
   "outputs": [
    {
     "name": "stdout",
     "output_type": "stream",
     "text": [
      "[['龍華科大', '館藏地', '索書號', '館藏狀態', 'https://webpac.lhu.edu.tw/webpac/search.cfm?m=ss&k0=9789861371955&t0=k&c0=and&s0=0&w=0&si=&list_num=10&current_page=1&mt=&at=&sj=&py=&it=&lr=&lg=&si=1'], ['龍華科大', '七樓中文書庫(類號000-499)', '177.3 2613', '借出\\n2021/04/19\\n到期', 'https://webpac.lhu.edu.tw/webpac/search.cfm?m=ss&k0=9789861371955&t0=k&c0=and&s0=0&w=0&si=&list_num=10&current_page=1&mt=&at=&sj=&py=&it=&lr=&lg=&si=1'], ['龍華科大', '館藏地', '索書號', '館藏狀態', 'https://webpac.lhu.edu.tw/webpac/search.cfm?m=ss&k0=9789861371955&t0=k&c0=and&s0=0&w=0&si=&list_num=10&current_page=1&mt=&at=&sj=&py=&it=&lr=&lg=&si=1'], ['龍華科大', '七樓中文書庫(類號000-499)', '177.3 2613', '借出\\n2021/09/16\\n到期', 'https://webpac.lhu.edu.tw/webpac/search.cfm?m=ss&k0=9789861371955&t0=k&c0=and&s0=0&w=0&si=&list_num=10&current_page=1&mt=&at=&sj=&py=&it=&lr=&lg=&si=1']]\n"
     ]
    }
   ],
   "source": [
    "# 龍華科大\r\n",
    "from selenium import webdriver # 先下載 webdriver\r\n",
    "from selenium.webdriver.support.ui import Select\r\n",
    "from selenium.webdriver.chrome.options import Options\r\n",
    "from selenium.webdriver.common.action_chains import ActionChains\r\n",
    "import time\r\n",
    "\r\n",
    "df_lst = []\r\n",
    "ISBN = '9789861371955'\r\n",
    "driver = webdriver.Chrome(\"C:\\\\Users\\mayda\\Downloads\\chromedriver\") \r\n",
    "url = \"https://webpac.lhu.edu.tw/webpac/search.cfm?m=ss&k0=\" + ISBN + \"&t0=k&c0=and&s0=0&w=0&si=&list_num=10&current_page=1&mt=&at=&sj=&py=&it=&lr=&lg=&si=1\"\r\n",
    "\r\n",
    "driver.get(url)\r\n",
    "time.sleep(5)\r\n",
    "'''\r\n",
    "/html/body/div[4]/div[3]/div/div[2]/div[1]/div[2]/div[3]/div[1]/ul/li[3]/a\r\n",
    "/html/body/div[4]/div[3]/div/div[2]/div[1]/div[2]/div[4]/div[1]/ul/li[3]/a\r\n",
    "'''\r\n",
    "for i in range(3, 6): #假設最多三個版本\r\n",
    "    try:\r\n",
    "        edition = driver.find_element_by_xpath('//html/body/div[4]/div[3]/div/div[2]/div[1]/div[2]/div[' + str(i) + ']/div[1]/ul/li[3]/a').click()\r\n",
    "        time.sleep(4) \r\n",
    "        table = driver.find_element_by_xpath('/html/body/div[4]/div[2]/div[1]/div[2]/div/div[1]/div[3]/div[2]/div/div[1]/table')\r\n",
    "        trlist = table.find_elements_by_tag_name('tr')\r\n",
    "        for row in trlist:\r\n",
    "            tdlist = row.find_elements_by_tag_name('td')\r\n",
    "            for sth in tdlist:\r\n",
    "                new_row = [\"龍華科大\", tdlist[1].text, tdlist[2].text, tdlist[3].text, url]\r\n",
    "                df_lst.append(new_row)\r\n",
    "                break\r\n",
    "        backtolist = driver.find_element_by_link_text(\"回檢索結果\").click()\r\n",
    "        time.sleep(1) \r\n",
    "    except:\r\n",
    "        pass\r\n",
    "\r\n",
    "print(df_lst)\r\n"
   ]
>>>>>>> a51324008d2a7e608dd03ff18490991c5fdf8965
  }
 ],
 "metadata": {
  "interpreter": {
<<<<<<< HEAD
   "hash": "b0df7ae3715664bafe75f9d40112a333c2b184d86f17fed539b69d102c1d2673"
=======
   "hash": "7225babeb7cca4b9321e56c564edbc65f6e93aaa0a336d193962bcdf0b3e7508"
>>>>>>> a51324008d2a7e608dd03ff18490991c5fdf8965
  },
  "kernelspec": {
   "display_name": "Python 3.9.2 64-bit",
   "name": "python3"
  },
  "language_info": {
   "codemirror_mode": {
    "name": "ipython",
    "version": 3
   },
   "file_extension": ".py",
   "mimetype": "text/x-python",
   "name": "python",
   "nbconvert_exporter": "python",
   "pygments_lexer": "ipython3",
   "version": "3.9.2"
  }
 },
 "nbformat": 4,
 "nbformat_minor": 5
}